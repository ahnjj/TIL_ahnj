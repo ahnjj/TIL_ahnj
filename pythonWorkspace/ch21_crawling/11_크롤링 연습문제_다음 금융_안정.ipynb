{
 "cells": [
  {
   "cell_type": "markdown",
   "id": "e79244eb-a53a-47a9-b9d2-f9f1e74ab3bf",
   "metadata": {},
   "source": [
    "### 크롤링 연습문제"
   ]
  },
  {
   "cell_type": "markdown",
   "id": "9101442a-6353-49e7-a256-1be7e2d56a17",
   "metadata": {},
   "source": [
    "#### 다음 금융 페이지에서 업종 상위 기업 추출  \n",
    "url='http://finance.daum.net/'"
   ]
  },
  {
   "cell_type": "code",
   "execution_count": 1,
   "id": "12396fb1-eaad-474e-b961-d4ff5628b52f",
   "metadata": {},
   "outputs": [],
   "source": [
    "# 1 노루홀딩스우 48,900\n",
    "# 2 노루페인트우 25,450\n",
    "# 3 신풍 1,131\n",
    "# 4 유유제약2우B 14,490\n",
    "# 5 조비 15,840"
   ]
  },
  {
   "cell_type": "code",
   "execution_count": 2,
   "id": "44b58264-ec49-4e49-a063-3f76f1fefd89",
   "metadata": {},
   "outputs": [],
   "source": [
    "from IPython.core.interactiveshell import InteractiveShell\n",
    "InteractiveShell.ast_node_interactivity=\"all\""
   ]
  },
  {
   "cell_type": "code",
   "execution_count": 3,
   "id": "8e3f4527-4be8-4a6c-8ea7-395215f76a09",
   "metadata": {},
   "outputs": [],
   "source": [
    "from urllib.request import urlopen\n",
    "import pandas as pd\n",
    "import bs4"
   ]
  },
  {
   "cell_type": "code",
   "execution_count": 4,
   "id": "f4dff4c0-e6eb-4ddf-bae2-189b9c0cfd82",
   "metadata": {},
   "outputs": [],
   "source": [
    "url='http://finance.daum.net/'\n",
    "htmls = urlopen(url)\n",
    "bs_obj = bs4.BeautifulSoup(htmls, \"html.parser\")"
   ]
  },
  {
   "cell_type": "code",
   "execution_count": 5,
   "id": "b42945ba-8d35-4a05-9ff0-63addd5201f6",
   "metadata": {},
   "outputs": [],
   "source": [
    "bs_obj.find('boxTopSectors')"
   ]
  },
  {
   "cell_type": "code",
   "execution_count": 6,
   "id": "ab9ecca2-c6f6-48a2-ad7a-a0fca8b279ab",
   "metadata": {},
   "outputs": [],
   "source": [
    "import selenium\n",
    "from selenium import webdriver\n",
    "from selenium.webdriver.common.by import By # 셀레니움 4.0부터 포함된 객체(모듈)\n",
    "\n",
    "from selenium.webdriver.chrome.service import Service\n",
    "from webdriver_manager.chrome import ChromeDriverManager"
   ]
  },
  {
   "cell_type": "code",
   "execution_count": 7,
   "id": "8e7c540a-39d9-45b4-ac99-8f507877e87c",
   "metadata": {},
   "outputs": [],
   "source": [
    "# (1) webdriver 객체 생성\n",
    "chrome_options = webdriver.ChromeOptions()\n",
    "driver = webdriver.Chrome(service=Service(ChromeDriverManager().install()), options=chrome_options)"
   ]
  },
  {
   "cell_type": "code",
   "execution_count": 8,
   "id": "41826fca-97d7-4e2f-8299-9f8625488608",
   "metadata": {},
   "outputs": [],
   "source": [
    "# 페이지 접속\n",
    "driver.get('http://finance.daum.net/')"
   ]
  },
  {
   "cell_type": "code",
   "execution_count": 42,
   "id": "923d4175-c395-40b1-baab-922400b77863",
   "metadata": {},
   "outputs": [
    {
     "name": "stdout",
     "output_type": "stream",
     "text": [
      "1 삼성전자 71,500▲\n",
      "2 카카오 48,200▲\n",
      "3 포스코DX 52,700▲\n",
      "4 신성델타테크 47,850▲\n",
      "5 주성엔지니어링 31,250▲\n"
     ]
    }
   ],
   "source": [
    "title = driver.find_elements(By.CSS_SELECTOR, '#boxTopSearchs li a')\n",
    "price = driver.find_elements(By.CSS_SELECTOR, '#boxTopSearchs li p')\n",
    "for i in range(len(title)):\n",
    "    print(f'{i+1} {title[i].text} {price[i].text}')\n"
   ]
  },
  {
   "cell_type": "code",
   "execution_count": 43,
   "id": "468f1387-ec5f-4a3c-bdb8-2523e62c106d",
   "metadata": {},
   "outputs": [],
   "source": [
    "driver.close()"
   ]
  }
 ],
 "metadata": {
  "kernelspec": {
   "display_name": "Python 3 (ipykernel)",
   "language": "python",
   "name": "python3"
  },
  "language_info": {
   "codemirror_mode": {
    "name": "ipython",
    "version": 3
   },
   "file_extension": ".py",
   "mimetype": "text/x-python",
   "name": "python",
   "nbconvert_exporter": "python",
   "pygments_lexer": "ipython3",
   "version": "3.11.5"
  }
 },
 "nbformat": 4,
 "nbformat_minor": 5
}
