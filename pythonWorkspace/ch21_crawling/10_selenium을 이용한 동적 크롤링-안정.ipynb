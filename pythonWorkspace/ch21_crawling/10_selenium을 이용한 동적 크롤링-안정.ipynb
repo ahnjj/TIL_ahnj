{
 "cells": [
  {
   "cell_type": "markdown",
   "id": "9b91feca-9e76-41a0-bc8b-278907dafb12",
   "metadata": {},
   "source": [
    "## Selenium 을 이용한 동적 크롤링"
   ]
  },
  {
   "cell_type": "code",
   "execution_count": 16,
   "id": "870de6f3-3641-4c65-8cc5-5f4e48b00db4",
   "metadata": {},
   "outputs": [],
   "source": [
    "from IPython.core.interactiveshell import InteractiveShell\n",
    "InteractiveShell.ast_node_interactivity=\"all\"\n",
    "\n",
    "from urllib.request import urlopen\n",
    "import pandas as pd\n",
    "import bs4\n",
    "import requests"
   ]
  },
  {
   "cell_type": "markdown",
   "id": "776d2058-3014-4a8a-8be0-dac13f55c5d2",
   "metadata": {},
   "source": [
    "### 실행 중에 JS통해 동적으로 변환된 값 추출 \n",
    "- 처음에는 '댓글' 이라고 써있었는데 자바스크립트가 동적으로 댓글 수에 따라 숫자 변화될때\n",
    "- 정적 페이지에서는 추출 안됨\n",
    "- 셀레니움 사용해서 동적페이지를 별도로 열어서 추출"
   ]
  },
  {
   "cell_type": "code",
   "execution_count": 17,
   "id": "46b1ea97-ea6e-4abd-8fdb-5811a2996623",
   "metadata": {},
   "outputs": [],
   "source": [
    "url =  'https://n.news.naver.com/mnews/article/079/0003812365?sid=100'\n",
    "html = urlopen(url)\n",
    "bs_obj = bs4.BeautifulSoup(html, 'html.parser')\n"
   ]
  },
  {
   "cell_type": "code",
   "execution_count": 3,
   "id": "3e97933b-19a0-4ca6-8b1e-95b6c1108b0d",
   "metadata": {},
   "outputs": [
    {
     "data": {
      "text/plain": [
       "'尹 \"가짜뉴스, AI 이용해 빠른 속도 확산…자유민주주의 훼손, 미래 망쳐\"'"
      ]
     },
     "execution_count": 3,
     "metadata": {},
     "output_type": "execute_result"
    }
   ],
   "source": [
    "# 제목 : 추출 가능\n",
    "title = bs_obj.find('div', {'class' : 'media_end_head_title'}).select_one('span').text\n",
    "title"
   ]
  },
  {
   "cell_type": "code",
   "execution_count": 4,
   "id": "cf05ae34-16e8-4986-85b0-788f7344f835",
   "metadata": {},
   "outputs": [
    {
     "name": "stdout",
     "output_type": "stream",
     "text": [
      "None\n"
     ]
    }
   ],
   "source": [
    "# 좋아요 수 추출\n",
    "like_num = bs_obj.find('span', {'class':'u_likeit_text _count num'})\n",
    "like_num\n",
    "if like_num is None:\n",
    "    print('None')"
   ]
  },
  {
   "cell_type": "code",
   "execution_count": 5,
   "id": "dcf952a8-832e-40db-b7be-e77db5790e00",
   "metadata": {},
   "outputs": [
    {
     "data": {
      "text/plain": [
       "'댓글'"
      ]
     },
     "execution_count": 5,
     "metadata": {},
     "output_type": "execute_result"
    }
   ],
   "source": [
    "# comment_count수 추출\n",
    "comment_count = bs_obj.find('a', {'id':'comment_count'}).text\n",
    "comment_count\n",
    "if comment_count is None:\n",
    "    print('None')"
   ]
  },
  {
   "cell_type": "code",
   "execution_count": 6,
   "id": "57e93823-2c8d-4d05-9668-590265c5493b",
   "metadata": {},
   "outputs": [],
   "source": [
    "###############################"
   ]
  },
  {
   "cell_type": "markdown",
   "id": "6ec76a1f-4f0b-4e96-a8fe-86bce20f4cc8",
   "metadata": {},
   "source": [
    "#### Selenium 패키지 모듈 이용한 자동 크롤링\n",
    "- selenium\n",
    "- webdriver 라는 API를 통해 운영체제에 설치된 웹 브라우저를 제어하는 함수를 포함한 패키지\n",
    "- Thirdparty library이기 때문에 설치해줘야한다.\n",
    "- \n",
    "- Beautiful Soup과 함께 사용할 수 있어 훨씬 쉽게 크롤링할 수 있음\n",
    "- requests를 통한 .text의 경우 브라우저에서 ‘소스보기’를 한 것과 같이 동작 (정적 페이지)\n",
    "- 자바스크립트를 통해 동적으로 변환된 DOM 요소에 접근 불가\n",
    "- 반면 Selenium은 실제 웹 브라우저가 동작하기 때문에\n",
    "- 자바스크립트 실행이 완료된 후에 동적으로 변환된 DOM 결과물에 접근 가능\n"
   ]
  },
  {
   "cell_type": "code",
   "execution_count": 22,
   "id": "e45f158d-29a9-4e21-8dee-ba7c9978e077",
   "metadata": {},
   "outputs": [],
   "source": [
    "# selenium 메소드\n",
    "# driver.find_element(By.CLASS_NAME, \"information\")\n",
    "# driver.find_element(By.CSS_SELECTOR, \"#fname\")\n",
    "# driver.find_element(By.ID, \"lname\")\n",
    "# driver.find_element(By.LINK_TEXT, \"Selenium Official Page\")\n",
    "# driver.find_element(By.NAME, \"newsletter\")\n",
    "# driver.find_element(By.PARTIAL_LINK_TEXT, \"Official Page\")\n",
    "# driver.find_element(By.TAG_NAME, \"a\")\n",
    "# driver.find_element(By.XPATH, \"//input[@value='f']\")\n",
    "# driver가 접근한 페이지의 source 추출"
   ]
  },
  {
   "cell_type": "code",
   "execution_count": 7,
   "id": "e79b9ab8-5d68-4e4d-ae76-9a857c1a2a88",
   "metadata": {},
   "outputs": [
    {
     "name": "stdout",
     "output_type": "stream",
     "text": [
      "Requirement already satisfied: selenium in /opt/homebrew/Cellar/jupyterlab/4.0.5_1/libexec/lib/python3.11/site-packages (4.12.0)\n",
      "Requirement already satisfied: urllib3[socks]<3,>=1.26 in /opt/homebrew/Cellar/jupyterlab/4.0.5_1/libexec/lib/python3.11/site-packages (from selenium) (2.0.4)\n",
      "Requirement already satisfied: trio~=0.17 in /opt/homebrew/Cellar/jupyterlab/4.0.5_1/libexec/lib/python3.11/site-packages (from selenium) (0.22.2)\n",
      "Requirement already satisfied: trio-websocket~=0.9 in /opt/homebrew/Cellar/jupyterlab/4.0.5_1/libexec/lib/python3.11/site-packages (from selenium) (0.10.4)\n",
      "Requirement already satisfied: certifi>=2021.10.8 in /opt/homebrew/opt/python-certifi/lib/python3.11/site-packages (from selenium) (2023.7.22)\n",
      "Requirement already satisfied: attrs>=20.1.0 in /opt/homebrew/Cellar/jupyterlab/4.0.5_1/libexec/lib/python3.11/site-packages (from trio~=0.17->selenium) (23.1.0)\n",
      "Requirement already satisfied: sortedcontainers in /opt/homebrew/Cellar/jupyterlab/4.0.5_1/libexec/lib/python3.11/site-packages (from trio~=0.17->selenium) (2.4.0)\n",
      "Requirement already satisfied: idna in /opt/homebrew/Cellar/jupyterlab/4.0.5_1/libexec/lib/python3.11/site-packages (from trio~=0.17->selenium) (3.4)\n",
      "Requirement already satisfied: outcome in /opt/homebrew/Cellar/jupyterlab/4.0.5_1/libexec/lib/python3.11/site-packages (from trio~=0.17->selenium) (1.2.0)\n",
      "Requirement already satisfied: sniffio in /opt/homebrew/Cellar/jupyterlab/4.0.5_1/libexec/lib/python3.11/site-packages (from trio~=0.17->selenium) (1.3.0)\n",
      "Requirement already satisfied: exceptiongroup in /opt/homebrew/Cellar/jupyterlab/4.0.5_1/libexec/lib/python3.11/site-packages (from trio-websocket~=0.9->selenium) (1.1.3)\n",
      "Requirement already satisfied: wsproto>=0.14 in /opt/homebrew/Cellar/jupyterlab/4.0.5_1/libexec/lib/python3.11/site-packages (from trio-websocket~=0.9->selenium) (1.2.0)\n",
      "Requirement already satisfied: pysocks!=1.5.7,<2.0,>=1.5.6 in /opt/homebrew/Cellar/jupyterlab/4.0.5_1/libexec/lib/python3.11/site-packages (from urllib3[socks]<3,>=1.26->selenium) (1.7.1)\n",
      "Requirement already satisfied: h11<1,>=0.9.0 in /opt/homebrew/Cellar/jupyterlab/4.0.5_1/libexec/lib/python3.11/site-packages (from wsproto>=0.14->trio-websocket~=0.9->selenium) (0.14.0)\n",
      "Note: you may need to restart the kernel to use updated packages.\n"
     ]
    }
   ],
   "source": [
    "pip install selenium"
   ]
  },
  {
   "cell_type": "markdown",
   "id": "1ca337d4-35a1-4d08-8dde-a063feec9d3b",
   "metadata": {},
   "source": [
    "<!-- driver.find_element(By.CLASS_NAME, \"information\")\n",
    "driver.find_element(By.CSS_SELECTOR, \"#fname\")\n",
    "driver.find_element(By.ID, \"lname\")\n",
    "driver.find_element(By.LINK_TEXT, \"Selenium Official Page\")\n",
    "driver.find_element(By.NAME, \"newsletter\")\n",
    "driver.find_element(By.PARTIAL_LINK_TEXT, \"Official Page\")\n",
    "driver.find_element(By.TAG_NAME, \"a\")\n",
    "driver.find_element(By.XPATH, \"//input[@value='f']\")\n",
    "driver가 접근한 페이지의 source 추출\n",
    "html = driver.page_source -->"
   ]
  },
  {
   "cell_type": "code",
   "execution_count": 8,
   "id": "413b66e4-5d08-49da-a54a-f17d0efeea52",
   "metadata": {},
   "outputs": [],
   "source": [
    "# ver 4에서만 driver관련 함수 사용하기 때문에 버전 체크 필수"
   ]
  },
  {
   "cell_type": "code",
   "execution_count": 9,
   "id": "2e07cd96-4999-4bcd-bce7-bc56cccc9c8e",
   "metadata": {},
   "outputs": [
    {
     "name": "stdout",
     "output_type": "stream",
     "text": [
      "Name: selenium\n",
      "Version: 4.12.0\n",
      "Summary: \n",
      "Home-page: https://www.selenium.dev\n",
      "Author: \n",
      "Author-email: \n",
      "License: Apache 2.0\n",
      "Location: /opt/homebrew/Cellar/jupyterlab/4.0.5_1/libexec/lib/python3.11/site-packages\n",
      "Requires: certifi, trio, trio-websocket, urllib3\n",
      "Required-by: \n",
      "Note: you may need to restart the kernel to use updated packages.\n"
     ]
    }
   ],
   "source": [
    "pip show selenium"
   ]
  },
  {
   "cell_type": "code",
   "execution_count": 10,
   "id": "42fb457c-8c5b-4924-bfed-8fb26b8d359a",
   "metadata": {},
   "outputs": [
    {
     "name": "stdout",
     "output_type": "stream",
     "text": [
      "Requirement already satisfied: webdriver_manager in /opt/homebrew/Cellar/jupyterlab/4.0.5_1/libexec/lib/python3.11/site-packages (4.0.0)\n",
      "Requirement already satisfied: requests in /opt/homebrew/Cellar/jupyterlab/4.0.5_1/libexec/lib/python3.11/site-packages (from webdriver_manager) (2.31.0)\n",
      "Requirement already satisfied: python-dotenv in /opt/homebrew/Cellar/jupyterlab/4.0.5_1/libexec/lib/python3.11/site-packages (from webdriver_manager) (1.0.0)\n",
      "Requirement already satisfied: packaging in /opt/homebrew/opt/python-packaging/lib/python3.11/site-packages (from webdriver_manager) (23.1)\n",
      "Requirement already satisfied: charset-normalizer<4,>=2 in /opt/homebrew/Cellar/jupyterlab/4.0.5_1/libexec/lib/python3.11/site-packages (from requests->webdriver_manager) (3.2.0)\n",
      "Requirement already satisfied: idna<4,>=2.5 in /opt/homebrew/Cellar/jupyterlab/4.0.5_1/libexec/lib/python3.11/site-packages (from requests->webdriver_manager) (3.4)\n",
      "Requirement already satisfied: urllib3<3,>=1.21.1 in /opt/homebrew/Cellar/jupyterlab/4.0.5_1/libexec/lib/python3.11/site-packages (from requests->webdriver_manager) (2.0.4)\n",
      "Requirement already satisfied: certifi>=2017.4.17 in /opt/homebrew/opt/python-certifi/lib/python3.11/site-packages (from requests->webdriver_manager) (2023.7.22)\n",
      "Note: you may need to restart the kernel to use updated packages.\n"
     ]
    }
   ],
   "source": [
    "pip install webdriver_manager"
   ]
  },
  {
   "cell_type": "code",
   "execution_count": 1,
   "id": "dbcb8874-f18f-4d06-a33f-4855c63971fd",
   "metadata": {},
   "outputs": [],
   "source": [
    "# 주의 !\n",
    "# driver를 통해서 연 브라우저는 driver.close()해서 닫음\n",
    "# 다시 (1)webdriver객체 생성을 할 때 오류가 발생하면\n",
    "# (1) Kernal / Restart kernal\n",
    "# 그래도 오류나면 주피터 재시작"
   ]
  },
  {
   "cell_type": "code",
   "execution_count": 9,
   "id": "996f2fc8-3a86-4d1b-ab1e-0069a1fe5a7e",
   "metadata": {},
   "outputs": [],
   "source": [
    "import selenium\n",
    "from selenium import webdriver\n",
    "from selenium.webdriver.common.by import By   # 셀레니움 4.0 부터 포함된 객체(모듈)\n",
    "\n",
    "from selenium.webdriver.chrome.service import Service\n",
    "from webdriver_manager.chrome import ChromeDriverManager"
   ]
  },
  {
   "cell_type": "code",
   "execution_count": 10,
   "id": "dfc5217f-b3c9-4d06-a813-252189e890d3",
   "metadata": {},
   "outputs": [],
   "source": [
    "# (1) webdriver객체 생성\n",
    "chrome_options = webdriver.ChromeOptions()\n",
    "driver = webdriver.Chrome(service=Service(ChromeDriverManager().install()), options=chrome_options)"
   ]
  },
  {
   "cell_type": "code",
   "execution_count": 11,
   "id": "0924e72d-55ce-457c-8e95-b3742cf9a18d",
   "metadata": {},
   "outputs": [],
   "source": [
    "# 페이지 접속 - 여기서 접속된(자동으로 열린) 페이지에서 크롤링이된다!\n",
    "# 열려있을때만 작동하니 driver를 통해 닫아야함!!!!! 먼저 닫지 말기\n",
    "driver.get('https://n.news.naver.com/mnews/article/079/0003812365?sid=100')"
   ]
  },
  {
   "cell_type": "code",
   "execution_count": 12,
   "id": "b55ee8d7-fe00-4c26-9dcd-97425b806ff9",
   "metadata": {},
   "outputs": [
    {
     "data": {
      "text/plain": [
       "'2'"
      ]
     },
     "execution_count": 12,
     "metadata": {},
     "output_type": "execute_result"
    },
    {
     "data": {
      "text/plain": [
       "'2'"
      ]
     },
     "execution_count": 12,
     "metadata": {},
     "output_type": "execute_result"
    }
   ],
   "source": [
    "# 좋아요 수 추출\n",
    "# 클래스 선택자로 선택\n",
    "like_num = driver.find_element(By.CSS_SELECTOR, '.u_likeit_text._count.num')\n",
    "like_num.text\n",
    "\n",
    "# 클래스 이름으로 선택\n",
    "like_num = driver.find_element(By.CLASS_NAME, 'u_likeit_text._count.num')\n",
    "like_num.text\n",
    "# 선택자 주의!\n",
    "# 중간에 스페이스 있으면 안됨 : (.)점으로 연결해야 함"
   ]
  },
  {
   "cell_type": "code",
   "execution_count": 14,
   "id": "2ca714a5-2019-4874-9fcf-7d1156e47422",
   "metadata": {},
   "outputs": [
    {
     "data": {
      "text/plain": [
       "'36'"
      ]
     },
     "execution_count": 14,
     "metadata": {},
     "output_type": "execute_result"
    }
   ],
   "source": [
    "# 댓글 수 추출 : 'a',{'id':'comment_count'}\n",
    "# 하나찾아오는 거는 find_element\n",
    "comment_count = driver.find_element(By.ID, 'comment_count')\n",
    "comment_count.text"
   ]
  },
  {
   "cell_type": "code",
   "execution_count": 21,
   "id": "8d311ae7-9a6e-4b1c-9f57-9d8e446e1a95",
   "metadata": {},
   "outputs": [
    {
     "data": {
      "text/plain": [
       "'노컷뉴스'"
      ]
     },
     "execution_count": 21,
     "metadata": {},
     "output_type": "execute_result"
    },
    {
     "data": {
      "text/plain": [
       "'尹 \"가짜뉴스, AI 이용해 빠른 속도 확산…자유민주주의 훼손, 미래 망쳐\"'"
      ]
     },
     "execution_count": 21,
     "metadata": {},
     "output_type": "execute_result"
    },
    {
     "data": {
      "text/plain": [
       "'2023.09.13. 오후 3:07'"
      ]
     },
     "execution_count": 21,
     "metadata": {},
     "output_type": "execute_result"
    }
   ],
   "source": [
    "# 정적 데이터도 셀레니움 사용 가능\n",
    "paper = driver.find_element(By.CSS_SELECTOR, '.media_end_head_top_logo img')\n",
    "paper.get_attribute('title')     # <img> 태그의 title속성값 추출\n",
    "\n",
    "title = driver.find_element(By.CSS_SELECTOR, '.media_end_head_title').text\n",
    "title\n",
    "\n",
    "\n",
    "datetime = driver.find_element(By.CSS_SELECTOR, '.media_end_head_info_datestamp_time._ARTICLE_DATE_TIME').text\n",
    "datetime"
   ]
  },
  {
   "cell_type": "code",
   "execution_count": 24,
   "id": "033ef419-8ffd-4f3f-a49f-fd6ec0839ff9",
   "metadata": {},
   "outputs": [
    {
     "data": {
      "text/plain": [
       "'노컷뉴스'"
      ]
     },
     "execution_count": 24,
     "metadata": {},
     "output_type": "execute_result"
    },
    {
     "data": {
      "text/plain": [
       "'尹 \"가짜뉴스, AI 이용해 빠른 속도 확산…자유민주주의 훼손, 미래 망쳐\"'"
      ]
     },
     "execution_count": 24,
     "metadata": {},
     "output_type": "execute_result"
    },
    {
     "data": {
      "text/plain": [
       "'2023.09.13. 오후 3:07'"
      ]
     },
     "execution_count": 24,
     "metadata": {},
     "output_type": "execute_result"
    }
   ],
   "source": [
    "# 동일한 내용 정적 크롤링으로 데이터 추출\n",
    "paper = bs_obj.find('a', {'class':'media_end_head_top_logo'}).select_one('img')['title']\n",
    "paper\n",
    "\n",
    "title = bs_obj.find('div', {'class' : 'media_end_head_title'}).select_one('span').text\n",
    "title\n",
    "\n",
    "datetime = bs_obj.find('span', {'class' : 'media_end_head_info_datestamp_time _ARTICLE_DATE_TIME'}).text\n",
    "datetime"
   ]
  },
  {
   "cell_type": "code",
   "execution_count": 27,
   "id": "5f302935-2f09-4c25-88bc-b5587e85eeea",
   "metadata": {},
   "outputs": [
    {
     "data": {
      "text/plain": [
       "[<selenium.webdriver.remote.webelement.WebElement (session=\"9bf9cf4ef9b762bf3ad6e4ef370d139f\", element=\"1CDBCB6A737B7AC1FD6EF35AA4FF1B77_element_51\")>]"
      ]
     },
     "execution_count": 27,
     "metadata": {},
     "output_type": "execute_result"
    },
    {
     "name": "stdout",
     "output_type": "stream",
     "text": [
      "입력2023.09.13. 오후 3:07\n"
     ]
    }
   ],
   "source": [
    "# find_elements() : 여러 객체를 리스트로 반환\n",
    "dates = driver.find_elements(By.CSS_SELECTOR, '.media_end_head_info_datestamp div')\n",
    "dates  # 셀레니움 객체\n",
    "\n",
    "for d in dates:\n",
    "    print(d.text)"
   ]
  },
  {
   "cell_type": "code",
   "execution_count": null,
   "id": "34c5c6df-4426-45a6-990d-ac6cad0b21b3",
   "metadata": {},
   "outputs": [],
   "source": []
  },
  {
   "cell_type": "code",
   "execution_count": null,
   "id": "b97805c2-364e-4ee9-ae7c-e3159810d0dc",
   "metadata": {},
   "outputs": [],
   "source": []
  },
  {
   "cell_type": "code",
   "execution_count": 28,
   "id": "838fd912-1c6e-4b28-8012-8d706cbe9df4",
   "metadata": {},
   "outputs": [],
   "source": [
    "driver.close()"
   ]
  }
 ],
 "metadata": {
  "kernelspec": {
   "display_name": "Python 3 (ipykernel)",
   "language": "python",
   "name": "python3"
  },
  "language_info": {
   "codemirror_mode": {
    "name": "ipython",
    "version": 3
   },
   "file_extension": ".py",
   "mimetype": "text/x-python",
   "name": "python",
   "nbconvert_exporter": "python",
   "pygments_lexer": "ipython3",
   "version": "3.11.5"
  }
 },
 "nbformat": 4,
 "nbformat_minor": 5
}
