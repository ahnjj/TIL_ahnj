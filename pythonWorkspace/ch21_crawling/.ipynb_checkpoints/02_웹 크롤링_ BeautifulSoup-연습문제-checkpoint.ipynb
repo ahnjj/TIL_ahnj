{
 "cells": [
  {
   "cell_type": "code",
   "execution_count": 2,
   "id": "d4206ace",
   "metadata": {},
   "outputs": [],
   "source": [
    "from urllib.request import urlopen\n",
    "import bs4"
   ]
  },
  {
   "cell_type": "code",
   "execution_count": 3,
   "id": "51f56d56",
   "metadata": {},
   "outputs": [],
   "source": [
    "from IPython.core.interactiveshell import InteractiveShell\n",
    "InteractiveShell.ast_node_interactivity=\"all\""
   ]
  },
  {
   "cell_type": "code",
   "execution_count": 4,
   "id": "d621ab9a",
   "metadata": {},
   "outputs": [],
   "source": [
    "rs_text = '''\n",
    "<!DOCTYPE html>\n",
    "\n",
    "<html>\n",
    "<head>\n",
    "<meta content=\"text/html; charset=utf-8\" http-equiv=\"Content-Type\"/>\n",
    "<title>HTML 학습</title>\n",
    "</head>\n",
    "<body>\n",
    "<h1>HTML의 링크 태그</h1>\n",
    "<hr/>\n",
    "<a href=\"http://www.w3.org/\">World Wide Consortium</a>\n",
    "<a href=\"http://java.sun.com/\">Java Page</a>\n",
    "<a href=\"http://www.python.org/\">Python Page</a>\n",
    "<a href=\"http://www.w3schools.com/\">Web Client 기술 학습</a>\n",
    "<hr/>\n",
    "<a href=\"http://java.sun.com/\">\n",
    "<img src=\"http://unico2013.dothome.co.kr/image/duke.jpg\" width=\"100\"/></a>\n",
    "<h2>좋아하는 색</h2>\n",
    "<ul>\n",
    "<li style=\"color:blue\">파란색</li>\n",
    "<li style=\"color:yellow\">노란색</li>\n",
    "<li style=\"color:green\">녹색</li>\n",
    "<li style=\"color:orange\">주황색</li>\n",
    "</ul>\n",
    "<h2>먹고싶은 음식</h2>\n",
    "<ol>\n",
    "<li>짜장면</li>\n",
    "<li>냉면</li>\n",
    "<li>돈까스</li>\n",
    "<li>갈비</li>\n",
    "</ol>\n",
    "<table border=\"1\">\n",
    "<tr class=\"name\"><th>둘리</th><th>또치</th><th>도우너</th></tr>\n",
    "<tr><td>케라토사우루스</td><td>타조</td><td>외계인</td></tr>\n",
    "<tr><td>도봉구 쌍문동</td><td id=\"target\">아프리카</td><td>깐따삐아 별</td></tr>\n",
    "</table>\n",
    "</body>\n",
    "</html>\n",
    "'''"
   ]
  },
  {
   "cell_type": "code",
   "execution_count": 5,
   "id": "1d6b748a",
   "metadata": {},
   "outputs": [],
   "source": [
    "bs_obj = bs4.BeautifulSoup(rs_text, 'html.parser')"
   ]
  },
  {
   "cell_type": "code",
   "execution_count": 7,
   "id": "d1000d1d",
   "metadata": {},
   "outputs": [
    {
     "data": {
      "text/plain": [
       "'HTML의 링크 태그'"
      ]
     },
     "execution_count": 7,
     "metadata": {},
     "output_type": "execute_result"
    }
   ],
   "source": [
    "# <h1> 태그의 텍스트 출력\n",
    "bs_obj.select('h1')[0].text"
   ]
  },
  {
   "cell_type": "code",
   "execution_count": 7,
   "id": "e99749a2",
   "metadata": {},
   "outputs": [
    {
     "name": "stdout",
     "output_type": "stream",
     "text": [
      "World Wide Consortium http://www.w3.org/\n",
      "Java Page http://java.sun.com/\n",
      "Python Page http://www.python.org/\n",
      "Web Client 기술 학습 http://www.w3schools.com/\n",
      "\n",
      " http://java.sun.com/\n"
     ]
    }
   ],
   "source": [
    "# 모든 <a> 태그의 텍스트와 href 속성값 출력\n",
    "for a in bs_obj.select('a'):\n",
    "    print(a.text, a['href'])"
   ]
  },
  {
   "cell_type": "code",
   "execution_count": 10,
   "id": "d0fd6099",
   "metadata": {},
   "outputs": [
    {
     "data": {
      "text/plain": [
       "'http://unico2013.dothome.co.kr/image/duke.jpg'"
      ]
     },
     "execution_count": 10,
     "metadata": {},
     "output_type": "execute_result"
    }
   ],
   "source": [
    "# <img> 태그의 src 속성값 출력\n",
    "bs_obj.select_one('img')['src']"
   ]
  },
  {
   "cell_type": "code",
   "execution_count": 11,
   "id": "e2dabf0e",
   "metadata": {},
   "outputs": [
    {
     "data": {
      "text/plain": [
       "'좋아하는 색'"
      ]
     },
     "execution_count": 11,
     "metadata": {},
     "output_type": "execute_result"
    }
   ],
   "source": [
    "# 첫 번째 <h2> 태그의 컨텐츠\n",
    "bs_obj.select('h2')[0].text"
   ]
  },
  {
   "cell_type": "code",
   "execution_count": 20,
   "id": "fe6b167d",
   "metadata": {},
   "outputs": [
    {
     "name": "stdout",
     "output_type": "stream",
     "text": [
      "녹색\n"
     ]
    }
   ],
   "source": [
    "# <ul> 태그의 자식 태그들 중 style 속성의 값이 green으로 끝나는 태그의 컨텐츠\n",
    "\n",
    "ul_list = bs_obj.select('ul li')\n",
    "for ul in ul_list:\n",
    "    if 'green' in ul['style']:\n",
    "        print(ul.text)\n"
   ]
  },
  {
   "cell_type": "code",
   "execution_count": 21,
   "id": "b88ef39b",
   "metadata": {},
   "outputs": [
    {
     "data": {
      "text/plain": [
       "'먹고싶은 음식'"
      ]
     },
     "execution_count": 21,
     "metadata": {},
     "output_type": "execute_result"
    }
   ],
   "source": [
    "# 두 번째 <h2> 태그의 컨텐츠\n",
    "bs_obj.select('h2')[1].text"
   ]
  },
  {
   "cell_type": "code",
   "execution_count": 25,
   "id": "3b11baff",
   "metadata": {},
   "outputs": [
    {
     "name": "stdout",
     "output_type": "stream",
     "text": [
      "짜장면\n",
      "냉면\n",
      "돈까스\n",
      "갈비\n"
     ]
    }
   ],
   "source": [
    "# <ol> 태그의 모든(*) 자식 태그들의 컨텐츠 \n",
    "for ol in bs_obj.select('ol *'):\n",
    "    print(ol.text)"
   ]
  },
  {
   "cell_type": "code",
   "execution_count": 28,
   "id": "16c820be",
   "metadata": {},
   "outputs": [
    {
     "name": "stdout",
     "output_type": "stream",
     "text": [
      "둘리또치도우너\n",
      "둘리\n",
      "또치\n",
      "도우너\n",
      "케라토사우루스타조외계인\n",
      "케라토사우루스\n",
      "타조\n",
      "외계인\n",
      "도봉구 쌍문동아프리카깐따삐아 별\n",
      "도봉구 쌍문동\n",
      "아프리카\n",
      "깐따삐아 별\n"
     ]
    }
   ],
   "source": [
    "# <table> 태그의 모든 자손 태그들의 컨텐츠  \n",
    "for table in bs_obj.select('table *'):\n",
    "    print(table.text)"
   ]
  },
  {
   "cell_type": "code",
   "execution_count": 34,
   "id": "d61af814",
   "metadata": {},
   "outputs": [
    {
     "data": {
      "text/plain": [
       "'둘리또치도우너'"
      ]
     },
     "execution_count": 34,
     "metadata": {},
     "output_type": "execute_result"
    }
   ],
   "source": [
    "# name이라는 클래스 속성을 갖는 <tr> 태그의 컨텐츠\n",
    "bs_obj.select('.name')[0].text"
   ]
  },
  {
   "cell_type": "code",
   "execution_count": 36,
   "id": "83d4c13e",
   "metadata": {},
   "outputs": [
    {
     "data": {
      "text/plain": [
       "'아프리카'"
      ]
     },
     "execution_count": 36,
     "metadata": {},
     "output_type": "execute_result"
    }
   ],
   "source": [
    "# target이라는 아이디 속성을 갖는 <td> 태그의 컨텐츠\n",
    "bs_obj.select('#target')[0].text"
   ]
  }
 ],
 "metadata": {
  "kernelspec": {
   "display_name": "Python 3 (ipykernel)",
   "language": "python",
   "name": "python3"
  },
  "language_info": {
   "codemirror_mode": {
    "name": "ipython",
    "version": 3
   },
   "file_extension": ".py",
   "mimetype": "text/x-python",
   "name": "python",
   "nbconvert_exporter": "python",
   "pygments_lexer": "ipython3",
   "version": "3.10.9"
  }
 },
 "nbformat": 4,
 "nbformat_minor": 5
}
