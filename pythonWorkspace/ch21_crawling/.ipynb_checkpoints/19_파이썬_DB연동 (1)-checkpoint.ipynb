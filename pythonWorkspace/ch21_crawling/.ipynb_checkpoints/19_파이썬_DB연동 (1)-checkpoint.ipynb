{
 "cells": [
  {
   "cell_type": "markdown",
   "id": "f5fa9053-0bc4-4255-ad75-48e5a9ebd468",
   "metadata": {},
   "source": [
    "### 파이썬 DB 연동\n",
    "- CRUD 작업 처리\n",
    "- CREATE / READ / UPDATE / DELETE\n",
    "- INSERT / SELECT / UPDATE / DELETE "
   ]
  },
  {
   "cell_type": "markdown",
   "id": "702d4d59-fd60-40f2-8109-248e76cd5f02",
   "metadata": {},
   "source": [
    "### 파이썬에서 MySQL 연동 패키지 지원\n",
    "- pymysql 패키지 사용 "
   ]
  },
  {
   "cell_type": "code",
   "execution_count": 1,
   "id": "1c1a4c77-ca88-437f-a59b-c04b06808967",
   "metadata": {},
   "outputs": [
    {
     "name": "stdout",
     "output_type": "stream",
     "text": [
      "Collecting pymysql\n",
      "  Obtaining dependency information for pymysql from https://files.pythonhosted.org/packages/e5/30/20467e39523d0cfc2b6227902d3687a16364307260c75e6a1cb4422b0c62/PyMySQL-1.1.0-py3-none-any.whl.metadata\n",
      "  Downloading PyMySQL-1.1.0-py3-none-any.whl.metadata (4.4 kB)\n",
      "Downloading PyMySQL-1.1.0-py3-none-any.whl (44 kB)\n",
      "   ---------------------------------------- 0.0/44.8 kB ? eta -:--:--\n",
      "   ------------------ --------------------- 20.5/44.8 kB ? eta -:--:--\n",
      "   ---------------------------------------- 44.8/44.8 kB 1.1 MB/s eta 0:00:00\n",
      "Installing collected packages: pymysql\n",
      "Successfully installed pymysql-1.1.0\n"
     ]
    }
   ],
   "source": [
    "# pymysql 패키지 설치 \n",
    "!pip install pymysql"
   ]
  },
  {
   "cell_type": "code",
   "execution_count": 1,
   "id": "d011002b-6a01-4a94-81d8-8dc3cf603806",
   "metadata": {},
   "outputs": [],
   "source": [
    "import pymysql"
   ]
  },
  {
   "cell_type": "markdown",
   "id": "0ef19a7a-c1ba-46be-86c5-fa5d92bf6f98",
   "metadata": {},
   "source": [
    "#### DB 연동 순서\n",
    "- (1) DB 연결   \n",
    "- (2) cursor 객체 생성 \n",
    "- (3) sql 구문 실행 \n",
    "- (4) sql 실행 결과 추출 (출력)"
   ]
  },
  {
   "cell_type": "code",
   "execution_count": 2,
   "id": "f2b4e14a-e5ca-42ff-acdf-d9229f5c19f0",
   "metadata": {},
   "outputs": [],
   "source": [
    "# 1. DB 연결 \n",
    "# 호스트명, 포트번호, 로그인 계정, 비밀번호, CHARSET 파라미터로 지정 \n",
    "conn = pymysql.connect(host='localhost', \n",
    "                       port=3306, \n",
    "                       user='root', \n",
    "                       passwd='1234',\n",
    "                       charset='utf8')\n",
    "# 연결 객체 반환 "
   ]
  },
  {
   "cell_type": "code",
   "execution_count": 3,
   "id": "52f65216-e261-4533-af94-567e5d0a8cd7",
   "metadata": {},
   "outputs": [],
   "source": [
    "# 2. cursor 객체 생성 \n",
    "# cursor 객체를 통해서 메소드 호출 \n",
    "cursor = conn.cursor()"
   ]
  },
  {
   "cell_type": "code",
   "execution_count": 33,
   "id": "cd303350-3c7d-434b-a04f-1c4dea9168b9",
   "metadata": {},
   "outputs": [
    {
     "data": {
      "text/plain": [
       "12"
      ]
     },
     "execution_count": 33,
     "metadata": {},
     "output_type": "execute_result"
    }
   ],
   "source": [
    "# 3. sql 문 실행 \n",
    "# 데이터베이스 확인 sql 문 실행 \n",
    "# 실행 : execute() 메소드 \n",
    "sql = 'show databases'\n",
    "cursor.execute(sql)\n",
    "\n",
    "# 실행 결과 : 데이터베이스 개수 반환 "
   ]
  },
  {
   "cell_type": "code",
   "execution_count": 34,
   "id": "6bedbe15-8635-4319-9de2-fcecbef73bc9",
   "metadata": {},
   "outputs": [
    {
     "data": {
      "text/plain": [
       "(('information_schema',),\n",
       " ('mysql',),\n",
       " ('performance_schema',),\n",
       " ('sakila',),\n",
       " ('shopdb',),\n",
       " ('sqldb1',),\n",
       " ('sqldb2',),\n",
       " ('sqldb3',),\n",
       " ('sqldb4',),\n",
       " ('sys',),\n",
       " ('testdb',),\n",
       " ('world',))"
      ]
     },
     "execution_count": 34,
     "metadata": {},
     "output_type": "execute_result"
    }
   ],
   "source": [
    "# 4. sql 실행 결과 추출 (출력)\n",
    "# 서버로부터 받은 결과를 출력 \n",
    "# fetchall() 메소드 사용 : 모든 데이터를 한꺼번에 클라이언트로 받아올 때 사용 \n",
    "result = cursor.fetchall()\n",
    "result"
   ]
  },
  {
   "cell_type": "code",
   "execution_count": null,
   "id": "8ea77f5c-0ae4-459a-9d32-ceb36a17ea10",
   "metadata": {},
   "outputs": [],
   "source": [
    "# !pip install cryptography"
   ]
  },
  {
   "cell_type": "code",
   "execution_count": 8,
   "id": "c39d7f49-c54d-4f63-b174-ece26c18c593",
   "metadata": {},
   "outputs": [
    {
     "data": {
      "text/plain": [
       "1"
      ]
     },
     "execution_count": 8,
     "metadata": {},
     "output_type": "execute_result"
    }
   ],
   "source": [
    "# 새로운 데이터베이스 생성 \n",
    "sql = 'create database beauty_shop'\n",
    "cursor.execute(sql)"
   ]
  },
  {
   "cell_type": "code",
   "execution_count": 9,
   "id": "d0271a9f-345c-4415-804d-cf1a555271be",
   "metadata": {},
   "outputs": [
    {
     "data": {
      "text/plain": [
       "(('beauty_shop',),\n",
       " ('information_schema',),\n",
       " ('mysql',),\n",
       " ('performance_schema',),\n",
       " ('sakila',),\n",
       " ('shopdb',),\n",
       " ('sqldb1',),\n",
       " ('sqldb2',),\n",
       " ('sqldb3',),\n",
       " ('sqldb4',),\n",
       " ('sys',),\n",
       " ('testdb',),\n",
       " ('world',))"
      ]
     },
     "execution_count": 9,
     "metadata": {},
     "output_type": "execute_result"
    }
   ],
   "source": [
    "# beauty_shop 데이터베이스 생성 확인\n",
    "sql = \"show databases\"\n",
    "cursor.execute(sql)\n",
    "result = cursor.fetchall()\n",
    "result"
   ]
  },
  {
   "cell_type": "code",
   "execution_count": 10,
   "id": "42d326ec-1890-432e-801a-94e1c50540c1",
   "metadata": {},
   "outputs": [
    {
     "data": {
      "text/plain": [
       "0"
      ]
     },
     "execution_count": 10,
     "metadata": {},
     "output_type": "execute_result"
    }
   ],
   "source": [
    "# 데이터베이스 삭제 \n",
    "sql = 'drop database beauty_shop'\n",
    "cursor.execute(sql)"
   ]
  },
  {
   "cell_type": "code",
   "execution_count": 11,
   "id": "e4e2bfb7-6c68-48bd-ac7f-4f0119dcca2c",
   "metadata": {},
   "outputs": [
    {
     "data": {
      "text/plain": [
       "(('information_schema',),\n",
       " ('mysql',),\n",
       " ('performance_schema',),\n",
       " ('sakila',),\n",
       " ('shopdb',),\n",
       " ('sqldb1',),\n",
       " ('sqldb2',),\n",
       " ('sqldb3',),\n",
       " ('sqldb4',),\n",
       " ('sys',),\n",
       " ('testdb',),\n",
       " ('world',))"
      ]
     },
     "execution_count": 11,
     "metadata": {},
     "output_type": "execute_result"
    }
   ],
   "source": [
    "# beauty_shop 데이터베이스 삭제 확인\n",
    "sql = \"show databases\"\n",
    "cursor.execute(sql)\n",
    "result = cursor.fetchall()\n",
    "result"
   ]
  },
  {
   "cell_type": "code",
   "execution_count": 4,
   "id": "bcc6ad66-ba2d-48d6-a70e-4a6a4d524bc9",
   "metadata": {},
   "outputs": [
    {
     "data": {
      "text/plain": [
       "0"
      ]
     },
     "execution_count": 4,
     "metadata": {},
     "output_type": "execute_result"
    }
   ],
   "source": [
    "# 사용할 데이터베이스 선택 \n",
    "sql = 'use sqldb4'\n",
    "cursor.execute(sql)"
   ]
  },
  {
   "cell_type": "code",
   "execution_count": 13,
   "id": "2e5161b3-660f-4f3e-964a-bea26ec3b56c",
   "metadata": {},
   "outputs": [
    {
     "data": {
      "text/plain": [
       "0"
      ]
     },
     "execution_count": 13,
     "metadata": {},
     "output_type": "execute_result"
    }
   ],
   "source": [
    "# 테이블 생성 \n",
    "sql = \"\"\"\n",
    "    create table shop(\n",
    "        proNo int auto_increment not null primary key,\n",
    "        prdName varchar(100),\n",
    "        prdPrice float,\n",
    "        prdDisPrice float\n",
    "    )\n",
    "\"\"\"\n",
    "\n",
    "cursor.execute(sql)"
   ]
  },
  {
   "cell_type": "code",
   "execution_count": 16,
   "id": "2cc7f483-29a8-45e4-9ca0-306aed72e02a",
   "metadata": {},
   "outputs": [
    {
     "data": {
      "text/plain": [
       "(('book',),\n",
       " ('booksale',),\n",
       " ('client',),\n",
       " ('client_view',),\n",
       " ('flower',),\n",
       " ('movie',),\n",
       " ('new_book1',),\n",
       " ('new_book2',),\n",
       " ('product',),\n",
       " ('publisher',),\n",
       " ('top5_sales_client2',),\n",
       " ('top5_sales_client3',),\n",
       " ('top5_sales_clients',))"
      ]
     },
     "execution_count": 16,
     "metadata": {},
     "output_type": "execute_result"
    }
   ],
   "source": [
    "# 생성된 테이블 확인 \n",
    "sql = \"show tables\"\n",
    "cursor.execute(sql)\n",
    "cursor.fetchall()"
   ]
  },
  {
   "cell_type": "code",
   "execution_count": 15,
   "id": "6b7ba6f5-23d5-4783-9d2c-7e080aa92acf",
   "metadata": {},
   "outputs": [
    {
     "data": {
      "text/plain": [
       "0"
      ]
     },
     "execution_count": 15,
     "metadata": {},
     "output_type": "execute_result"
    }
   ],
   "source": [
    "# 테이블 삭제 \n",
    "sql = 'drop table shop'\n",
    "cursor.execute(sql)"
   ]
  },
  {
   "cell_type": "code",
   "execution_count": 18,
   "id": "7d4a365c-182b-48f2-aa64-12e596d55c96",
   "metadata": {},
   "outputs": [
    {
     "data": {
      "text/plain": [
       "(('bookNo', 'varchar(10)', 'NO', 'PRI', None, ''),\n",
       " ('bookName', 'varchar(30)', 'NO', '', None, ''),\n",
       " ('bookAuthor', 'varchar(20)', 'NO', '', None, ''),\n",
       " ('bookPrice', 'int', 'YES', '', None, ''),\n",
       " ('bookDate', 'date', 'YES', '', None, ''),\n",
       " ('bookStock', 'int', 'YES', '', None, ''),\n",
       " ('pubNo', 'varchar(10)', 'NO', 'MUL', None, ''))"
      ]
     },
     "execution_count": 18,
     "metadata": {},
     "output_type": "execute_result"
    }
   ],
   "source": [
    "# 테이블 구조 확인\n",
    "sql = 'desc book'\n",
    "cursor.execute(sql)\n",
    "cursor.fetchall()\n",
    "# 열이름, 데이터타입(크기), null 여부, 키, 디폴트값, 기타"
   ]
  },
  {
   "cell_type": "code",
   "execution_count": null,
   "id": "2e620217-227c-4726-a335-099f1a63f9bc",
   "metadata": {},
   "outputs": [],
   "source": [
    "###################################################################"
   ]
  },
  {
   "cell_type": "code",
   "execution_count": null,
   "id": "ca4d8c0e-0b7d-44f5-a5b5-71a19ced8e9a",
   "metadata": {},
   "outputs": [],
   "source": [
    "# CRUD 작업 처리\n",
    "# CREATE / READ / UPDATE / DELETE\n",
    "# INSERT / SELECT / UPDATE / DELETE"
   ]
  },
  {
   "cell_type": "code",
   "execution_count": null,
   "id": "8b975ea0-19e1-4ef8-8425-20b8cf813b95",
   "metadata": {},
   "outputs": [],
   "source": [
    "# SELECT "
   ]
  },
  {
   "cell_type": "code",
   "execution_count": 5,
   "id": "56aebf70-a06e-4d6e-beab-8b96f1f3b0bc",
   "metadata": {},
   "outputs": [
    {
     "data": {
      "text/plain": [
       "(('1001', '데이터베이스 이론', '홍길동', 22000, datetime.date(2019, 11, 11), 5, '3'),\n",
       " ('1002', '자바 프로그래밍', '이몽룡', 25000, datetime.date(2021, 12, 12), 4, '1'),\n",
       " ('1003', '인터넷프로그래밍', '성춘향', 30000, datetime.date(2019, 2, 10), 10, '2'),\n",
       " ('1004', '안드로이드 프로그래밍', '변학도', 23000, datetime.date(2017, 10, 10), 2, '1'),\n",
       " ('1005', '안드로이드 앱', '강길동', 26000, datetime.date(2020, 1, 11), 5, '2'),\n",
       " ('1006',\n",
       "  'MS SQL SERVER 2014',\n",
       "  '박지성',\n",
       "  35000,\n",
       "  datetime.date(2020, 3, 25),\n",
       "  7,\n",
       "  '3'),\n",
       " ('1007', 'HTML & CSS', '손흥민', 18000, datetime.date(2023, 9, 30), 3, '1'),\n",
       " ('1008', 'MFC 입문', '류현진', 20000, datetime.date(2015, 12, 12), 5, '1'),\n",
       " ('1009', '안드로이드 게임 제작', '나길동', 33000, datetime.date(2018, 10, 31), 5, '2'),\n",
       " ('1010', 'C++객체지향 프로그래밍', '추신수', 24000, datetime.date(2019, 4, 20), 2, '3'),\n",
       " ('1011', 'JSP 웹 프로그래밍', '김연아', 27000, datetime.date(2020, 10, 23), 8, '1'),\n",
       " ('1012', '해커들의 해킹 기법', '손연재', 32000, datetime.date(2018, 7, 7), 1, '2'),\n",
       " ('1013', '자료구조', '홍길동', 19000, datetime.date(2020, 1, 20), 4, '1'),\n",
       " ('1014', '파이썬', '성춘향', 35000, datetime.date(2023, 9, 25), 5, '2'),\n",
       " ('1015', '자바스크립 & jQuery', '홍길동', 27000, datetime.date(2019, 10, 22), 2, '2'))"
      ]
     },
     "execution_count": 5,
     "metadata": {},
     "output_type": "execute_result"
    }
   ],
   "source": [
    "# book 테이블 데이터 조회 \n",
    "sql = 'select * from book'\n",
    "cursor.execute(sql)\n",
    "result = cursor.fetchall()\n",
    "result"
   ]
  },
  {
   "cell_type": "code",
   "execution_count": 20,
   "id": "32c4e005-3477-4e83-bcf7-ff0573373da6",
   "metadata": {},
   "outputs": [
    {
     "data": {
      "text/plain": [
       "'1001'"
      ]
     },
     "execution_count": 20,
     "metadata": {},
     "output_type": "execute_result"
    }
   ],
   "source": [
    "result[0][0]"
   ]
  },
  {
   "cell_type": "code",
   "execution_count": 21,
   "id": "0d556f71-4b13-4a7a-8b19-45d8974cd677",
   "metadata": {},
   "outputs": [
    {
     "name": "stdout",
     "output_type": "stream",
     "text": [
      "('1001', '데이터베이스 이론', '홍길동', 22000, datetime.date(2019, 11, 11), 5, '3')\n",
      "('1002', '자바 프로그래밍', '이몽룡', 25000, datetime.date(2021, 12, 12), 4, '1')\n",
      "('1003', '인터넷프로그래밍', '성춘향', 30000, datetime.date(2019, 2, 10), 10, '2')\n",
      "('1004', '안드로이드 프로그래밍', '변학도', 23000, datetime.date(2017, 10, 10), 2, '1')\n",
      "('1005', '안드로이드 앱', '강길동', 26000, datetime.date(2020, 1, 11), 5, '2')\n",
      "('1006', 'MS SQL SERVER 2014', '박지성', 35000, datetime.date(2020, 3, 25), 7, '3')\n",
      "('1007', 'HTML & CSS', '손흥민', 18000, datetime.date(2023, 9, 30), 3, '1')\n",
      "('1008', 'MFC 입문', '류현진', 20000, datetime.date(2015, 12, 12), 5, '1')\n",
      "('1009', '안드로이드 게임 제작', '나길동', 33000, datetime.date(2018, 10, 31), 5, '2')\n",
      "('1010', 'C++객체지향 프로그래밍', '추신수', 24000, datetime.date(2019, 4, 20), 2, '3')\n",
      "('1011', 'JSP 웹 프로그래밍', '김연아', 27000, datetime.date(2020, 10, 23), 8, '1')\n",
      "('1012', '해커들의 해킹 기법', '손연재', 32000, datetime.date(2018, 7, 7), 1, '2')\n",
      "('1013', '자료구조', '홍길동', 19000, datetime.date(2020, 1, 20), 4, '1')\n",
      "('1014', '파이썬', '성춘향', 35000, datetime.date(2023, 9, 25), 5, '2')\n",
      "('1015', '자바스크립 & jQuery', '홍길동', 27000, datetime.date(2019, 10, 22), 2, '2')\n"
     ]
    }
   ],
   "source": [
    "for re in result:\n",
    "    print(re)"
   ]
  },
  {
   "cell_type": "code",
   "execution_count": 22,
   "id": "a498084e-e499-4fad-85de-8e8b4a095395",
   "metadata": {},
   "outputs": [
    {
     "name": "stdout",
     "output_type": "stream",
     "text": [
      "(('1001', '데이터베이스 이론', 22000), ('1002', '자바 프로그래밍', 25000), ('1003', '인터넷프로그래밍', 30000), ('1004', '안드로이드 프로그래밍', 23000), ('1005', '안드로이드 앱', 26000), ('1006', 'MS SQL SERVER 2014', 35000), ('1007', 'HTML & CSS', 18000), ('1008', 'MFC 입문', 20000), ('1009', '안드로이드 게임 제작', 33000), ('1010', 'C++객체지향 프로그래밍', 24000), ('1011', 'JSP 웹 프로그래밍', 27000), ('1012', '해커들의 해킹 기법', 32000), ('1013', '자료구조', 19000), ('1014', '파이썬', 35000), ('1015', '자바스크립 & jQuery', 27000))\n"
     ]
    }
   ],
   "source": [
    "# 도서번호, 도서명, 도서가격만 쿼리 실행 \n",
    "sql = 'select bookNo, bookName, bookPrice from book';\n",
    "cursor.execute(sql)\n",
    "result = cursor.fetchall()\n",
    "print(result)\n"
   ]
  },
  {
   "cell_type": "code",
   "execution_count": 6,
   "id": "6f3df4da-be3f-4f8c-97f8-efefabc352a8",
   "metadata": {},
   "outputs": [
    {
     "data": {
      "text/plain": [
       "(('1003', '인터넷프로그래밍', 30000),\n",
       " ('1006', 'MS SQL SERVER 2014', 35000),\n",
       " ('1009', '안드로이드 게임 제작', 33000),\n",
       " ('1012', '해커들의 해킹 기법', 32000),\n",
       " ('1014', '파이썬', 35000))"
      ]
     },
     "execution_count": 6,
     "metadata": {},
     "output_type": "execute_result"
    }
   ],
   "source": [
    "# 도서 가격이 30,000원 이상인 도서의 도서번호, 도서명, 가격 추출 \n",
    "sql = 'select bookno,bookname,bookprice from book where bookprice >=30000'\n",
    "\n",
    "cursor.execute(sql)\n",
    "result = cursor.fetchall()\n",
    "result\n"
   ]
  },
  {
   "cell_type": "code",
   "execution_count": null,
   "id": "b6896477-5646-413c-a62a-db521b3eea0e",
   "metadata": {},
   "outputs": [],
   "source": [
    "# 다음과 같이 출력 \n",
    "1003 인터넷프로그래밍 30000\n",
    "1006 MS SQL SERVER 2014 35000\n",
    "1009 안드로이드 게임 제작 33000\n",
    "1012 해커들의 해킹 기법 32000\n",
    "1014 파이썬 35000"
   ]
  },
  {
   "cell_type": "code",
   "execution_count": 25,
   "id": "6b86f136-5c4e-4b24-aa70-6cf5937854bc",
   "metadata": {},
   "outputs": [
    {
     "name": "stdout",
     "output_type": "stream",
     "text": [
      "1003 인터넷프로그래밍 30000 \n",
      "1006 MS SQL SERVER 2014 35000 \n",
      "1009 안드로이드 게임 제작 33000 \n",
      "1012 해커들의 해킹 기법 32000 \n",
      "1014 파이썬 35000 \n"
     ]
    }
   ],
   "source": [
    "for re in result:\n",
    "    for r in re:\n",
    "        print(r, end=\" \")\n",
    "    print()"
   ]
  },
  {
   "cell_type": "code",
   "execution_count": null,
   "id": "bc04583d-e9ae-4bea-ba56-21854d08211c",
   "metadata": {},
   "outputs": [],
   "source": []
  },
  {
   "cell_type": "code",
   "execution_count": null,
   "id": "ca101bb5-087e-4d24-8bad-1062d1e840db",
   "metadata": {},
   "outputs": [],
   "source": [
    "# 새로 시작하면 \n",
    "# (1) DB 연결\n",
    "# (2) 커서 생성\n",
    "# (3) 사용할 데이터베이스(스키마) 지정\n",
    "# (4) select 구문 확인"
   ]
  },
  {
   "cell_type": "code",
   "execution_count": 7,
   "id": "64f3918f-9ade-4355-88e4-02f51391f804",
   "metadata": {},
   "outputs": [
    {
     "data": {
      "text/plain": [
       "((datetime.date(2019, 11, 11),),\n",
       " (datetime.date(2021, 12, 12),),\n",
       " (datetime.date(2019, 2, 10),),\n",
       " (datetime.date(2017, 10, 10),),\n",
       " (datetime.date(2020, 1, 11),),\n",
       " (datetime.date(2020, 3, 25),),\n",
       " (datetime.date(2023, 9, 30),),\n",
       " (datetime.date(2015, 12, 12),),\n",
       " (datetime.date(2018, 10, 31),),\n",
       " (datetime.date(2019, 4, 20),),\n",
       " (datetime.date(2020, 10, 23),),\n",
       " (datetime.date(2018, 7, 7),),\n",
       " (datetime.date(2020, 1, 20),),\n",
       " (datetime.date(2023, 9, 25),),\n",
       " (datetime.date(2019, 10, 22),))"
      ]
     },
     "execution_count": 7,
     "metadata": {},
     "output_type": "execute_result"
    }
   ],
   "source": [
    "# 날짜 출력 \n",
    "sql = 'select bookDate from book'\n",
    "cursor.execute(sql)\n",
    "result = cursor.fetchall()\n",
    "result "
   ]
  },
  {
   "cell_type": "code",
   "execution_count": 8,
   "id": "5b742b17-5f1a-4786-b382-a3edb1339912",
   "metadata": {},
   "outputs": [
    {
     "name": "stdout",
     "output_type": "stream",
     "text": [
      "2019년 11월 11일 00시 00분 00초\n",
      "2021년 12월 12일 00시 00분 00초\n",
      "2019년 02월 10일 00시 00분 00초\n",
      "2017년 10월 10일 00시 00분 00초\n",
      "2020년 01월 11일 00시 00분 00초\n",
      "2020년 03월 25일 00시 00분 00초\n",
      "2023년 09월 30일 00시 00분 00초\n",
      "2015년 12월 12일 00시 00분 00초\n",
      "2018년 10월 31일 00시 00분 00초\n",
      "2019년 04월 20일 00시 00분 00초\n",
      "2020년 10월 23일 00시 00분 00초\n",
      "2018년 07월 07일 00시 00분 00초\n",
      "2020년 01월 20일 00시 00분 00초\n",
      "2023년 09월 25일 00시 00분 00초\n",
      "2019년 10월 22일 00시 00분 00초\n"
     ]
    }
   ],
   "source": [
    "# 각 튜플의 원소 출력하고 \n",
    "# datetime.date() 타입을 문자열로 변환 : strftime() 함수 사용\n",
    "for i in range(len(result)):\n",
    "    print(result[i][0].strftime(\"%Y년 %m월 %d일 %H시 %M분 %S초\"))"
   ]
  },
  {
   "cell_type": "code",
   "execution_count": 9,
   "id": "7eae90d2-a599-45a3-98d5-bdc424842433",
   "metadata": {},
   "outputs": [
    {
     "name": "stdout",
     "output_type": "stream",
     "text": [
      "2019-11-11\n",
      "2021-12-12\n",
      "2019-02-10\n",
      "2017-10-10\n",
      "2020-01-11\n",
      "2020-03-25\n",
      "2023-09-30\n",
      "2015-12-12\n",
      "2018-10-31\n",
      "2019-04-20\n",
      "2020-10-23\n",
      "2018-07-07\n",
      "2020-01-20\n",
      "2023-09-25\n",
      "2019-10-22\n"
     ]
    }
   ],
   "source": [
    "for i in range(len(result)):\n",
    "    print(result[i][0].strftime(\"%Y-%m-%d\"))"
   ]
  },
  {
   "cell_type": "code",
   "execution_count": null,
   "id": "1261580e-096a-4337-84a1-4509c8630306",
   "metadata": {},
   "outputs": [],
   "source": [
    "# 연습문제 \n",
    "# 판매된 도서 중에서 '도서출판 강남'에서 출간된 도서에 대하여\n",
    "# 고객명, 주문일, 도서명, 주문수량, 출판사명 출력 \n",
    "# 고객명 오름차순 정렬"
   ]
  },
  {
   "cell_type": "code",
   "execution_count": 10,
   "id": "4acce92c-110d-47f2-8696-e1e0c94233ad",
   "metadata": {},
   "outputs": [],
   "source": [
    "sql = '''\n",
    "    SELECT clientName, bsDate, bookName, bsQty, pubName\n",
    "    FROM bookSale\n",
    "        INNER JOIN book ON book.bookNo = bookSale.bookNo\n",
    "        INNER JOIN publisher ON publisher.pubNo = book.pubNo\n",
    "        INNER JOIN client ON client.clientNo = bookSale.clientNo\n",
    "    WHERE pubName = '도서출판 강남'\n",
    "    ORDER BY clientName\n",
    "'''"
   ]
  },
  {
   "cell_type": "code",
   "execution_count": 11,
   "id": "44c3c49e-906d-4654-bd95-f7ee1136b192",
   "metadata": {},
   "outputs": [
    {
     "data": {
      "text/plain": [
       "(('베컴', datetime.date(2021, 7, 9), '인터넷프로그래밍', 5, '도서출판 강남'),\n",
       " ('옴바페', datetime.date(2022, 1, 2), '안드로이드 앱', 9, '도서출판 강남'),\n",
       " ('호날두', datetime.date(2020, 2, 20), '안드로이드 게임 제작', 5, '도서출판 강남'))"
      ]
     },
     "execution_count": 11,
     "metadata": {},
     "output_type": "execute_result"
    }
   ],
   "source": [
    "cursor.execute(sql)\n",
    "result = cursor.fetchall()\n",
    "result"
   ]
  },
  {
   "cell_type": "code",
   "execution_count": null,
   "id": "b0594874-a9d2-4965-b994-afe13e0a43e9",
   "metadata": {},
   "outputs": [],
   "source": [
    "##########################################################################################"
   ]
  },
  {
   "cell_type": "code",
   "execution_count": null,
   "id": "725dc0d4-a35b-4231-b5ab-80fce8b54b2c",
   "metadata": {},
   "outputs": [],
   "source": [
    "# INSERT \n",
    "# 주의 : COOMIT 해야 함"
   ]
  },
  {
   "cell_type": "code",
   "execution_count": null,
   "id": "3ec94592-aec4-45c1-92f0-a818fa55e598",
   "metadata": {},
   "outputs": [],
   "source": [
    "# 데이터 입력 받아서 book 테이블에 저장"
   ]
  },
  {
   "cell_type": "code",
   "execution_count": 19,
   "id": "f178efff-9db2-4b57-8d99-e7ef64f33ea4",
   "metadata": {},
   "outputs": [
    {
     "name": "stdin",
     "output_type": "stream",
     "text": [
      "도서번호 입력 :  1017\n",
      "도서명 입력 :  db2\n",
      "저자 입력 :  강길동\n",
      "가격 입력 :  25000\n",
      "출판일 입력 :  2022-12-10\n",
      "재고 입력 :  7\n",
      "출판사번호 입력 :  3\n"
     ]
    }
   ],
   "source": [
    "bookNo = input('도서번호 입력 : ')\n",
    "bookName = input('도서명 입력 : ')\n",
    "bookAuthor = input('저자 입력 : ')\n",
    "bookPrice = input('가격 입력 : ')\n",
    "bookDate = input('출판일 입력 : ')\n",
    "bookStock = input('재고 입력 : ')\n",
    "pubNo = input('출판사번호 입력 : ')"
   ]
  },
  {
   "cell_type": "code",
   "execution_count": 20,
   "id": "3beee940-3d44-49b6-becd-c9cb726a066f",
   "metadata": {},
   "outputs": [
    {
     "data": {
      "text/plain": [
       "('1017', 'db2', '강길동', '25000', '2022-12-10', '7', '3')"
      ]
     },
     "execution_count": 20,
     "metadata": {},
     "output_type": "execute_result"
    }
   ],
   "source": [
    "bookNo, bookName, bookAuthor, bookPrice, bookDate, bookStock, pubNo"
   ]
  },
  {
   "cell_type": "code",
   "execution_count": 21,
   "id": "74dba405-8202-427e-b3d2-065dff1da281",
   "metadata": {},
   "outputs": [],
   "source": [
    "# INSERT 방법1\n",
    "sql = \"insert into book(bookNo, bookName, bookAuthor, bookPrice, bookDate, bookStock, pubNo) values('\" \\\n",
    "      + bookNo + \"', '\" \\\n",
    "      + bookName + \"', '\" \\\n",
    "      + bookAuthor + \"', \" \\\n",
    "      + bookPrice + \", '\" \\\n",
    "      + bookDate + \"', \" \\\n",
    "      + bookStock + \", '\" \\\n",
    "      + pubNo + \"')\"\n",
    "\n",
    "cursor.execute(sql)\n",
    "conn.commit() # 반드시 coomit 해서 완료시켜야 DB에 반영됨 "
   ]
  },
  {
   "cell_type": "code",
   "execution_count": 18,
   "id": "62680ff6-ce76-42e6-ad4b-c85fbb9a7fba",
   "metadata": {},
   "outputs": [],
   "source": [
    "# conn.commit()\n"
   ]
  },
  {
   "cell_type": "code",
   "execution_count": 22,
   "id": "cf5e1a11-fd09-4925-aca5-1bd8a25b55a1",
   "metadata": {},
   "outputs": [
    {
     "name": "stdin",
     "output_type": "stream",
     "text": [
      "도서번호 입력 :  1018\n",
      "도서명 입력 :  sql\n",
      "저자 입력 :  이길동\n",
      "가격 입력 :  30000\n",
      "출판일 입력 :  2023-09-27\n",
      "재고 입력 :  6\n",
      "출판사번호 입력 :  2\n"
     ]
    }
   ],
   "source": [
    "bookNo = input('도서번호 입력 : ')\n",
    "bookName = input('도서명 입력 : ')\n",
    "bookAuthor = input('저자 입력 : ')\n",
    "bookPrice = input('가격 입력 : ')\n",
    "bookDate = input('출판일 입력 : ')\n",
    "bookStock = input('재고 입력 : ')\n",
    "pubNo = input('출판사번호 입력 : ')"
   ]
  },
  {
   "cell_type": "code",
   "execution_count": 23,
   "id": "7555b633-0c12-4f6a-aa9b-a44a666c9809",
   "metadata": {},
   "outputs": [],
   "source": [
    "# INSERT 방법2  \n",
    "# 모든 열에 데이터 입력 시 열이름 리스트 생략 가능 \n",
    "sql = \"insert into book values(%s, %s, %s, %s, %s, %s, %s)\" # 위치와 데이터 타입 지정해 놓고\n",
    "values = (bookNo, bookName, bookAuthor, bookPrice, bookDate, bookStock, pubNo) # 실제 전달될 값\n",
    "cursor.execute(sql, values) # 값도 같이 전달 \n",
    "conn.commit()"
   ]
  },
  {
   "cell_type": "code",
   "execution_count": 24,
   "id": "912c18ed-7ffa-4fde-b0a8-5dec136f4d3f",
   "metadata": {},
   "outputs": [
    {
     "data": {
      "text/plain": [
       "(('1001', '데이터베이스 이론', '홍길동', 22000, datetime.date(2019, 11, 11), 5, '3'),\n",
       " ('1002', '자바 프로그래밍', '이몽룡', 25000, datetime.date(2021, 12, 12), 4, '1'),\n",
       " ('1003', '인터넷프로그래밍', '성춘향', 30000, datetime.date(2019, 2, 10), 10, '2'),\n",
       " ('1004', '안드로이드 프로그래밍', '변학도', 23000, datetime.date(2017, 10, 10), 2, '1'),\n",
       " ('1005', '안드로이드 앱', '강길동', 26000, datetime.date(2020, 1, 11), 5, '2'),\n",
       " ('1006',\n",
       "  'MS SQL SERVER 2014',\n",
       "  '박지성',\n",
       "  35000,\n",
       "  datetime.date(2020, 3, 25),\n",
       "  7,\n",
       "  '3'),\n",
       " ('1007', 'HTML & CSS', '손흥민', 18000, datetime.date(2023, 9, 30), 3, '1'),\n",
       " ('1008', 'MFC 입문', '류현진', 20000, datetime.date(2015, 12, 12), 5, '1'),\n",
       " ('1009', '안드로이드 게임 제작', '나길동', 33000, datetime.date(2018, 10, 31), 5, '2'),\n",
       " ('1010', 'C++객체지향 프로그래밍', '추신수', 24000, datetime.date(2019, 4, 20), 2, '3'),\n",
       " ('1011', 'JSP 웹 프로그래밍', '김연아', 27000, datetime.date(2020, 10, 23), 8, '1'),\n",
       " ('1012', '해커들의 해킹 기법', '손연재', 32000, datetime.date(2018, 7, 7), 1, '2'),\n",
       " ('1013', '자료구조', '홍길동', 19000, datetime.date(2020, 1, 20), 4, '1'),\n",
       " ('1014', '파이썬', '성춘향', 35000, datetime.date(2023, 9, 25), 5, '2'),\n",
       " ('1015', '자바스크립 & jQuery', '홍길동', 27000, datetime.date(2019, 10, 22), 2, '2'),\n",
       " ('1016', 'DB', '이길동', 23000, datetime.date(2022, 11, 11), 3, '1'),\n",
       " ('1017', 'db2', '강길동', 25000, datetime.date(2022, 12, 10), 7, '3'),\n",
       " ('1018', 'sql', '이길동', 30000, datetime.date(2023, 9, 27), 6, '2'))"
      ]
     },
     "execution_count": 24,
     "metadata": {},
     "output_type": "execute_result"
    }
   ],
   "source": [
    "sql = 'select * from book'\n",
    "cursor.execute(sql)\n",
    "result = cursor.fetchall()\n",
    "result"
   ]
  },
  {
   "cell_type": "code",
   "execution_count": null,
   "id": "2d8b8407-8b32-45f8-982c-434056cd9ef7",
   "metadata": {},
   "outputs": [],
   "source": []
  },
  {
   "cell_type": "code",
   "execution_count": null,
   "id": "8e4ae0c5-511b-4007-8298-68ed85510d25",
   "metadata": {},
   "outputs": [],
   "source": [
    "#################################################################################"
   ]
  },
  {
   "cell_type": "code",
   "execution_count": null,
   "id": "36d05a14-af0e-4bba-8ef7-0796362bd5c1",
   "metadata": {},
   "outputs": [],
   "source": [
    "# UPDATE\n",
    "# 주의! : commit "
   ]
  },
  {
   "cell_type": "code",
   "execution_count": null,
   "id": "44a6aeea-7a8b-47b7-94dc-f34299c40730",
   "metadata": {},
   "outputs": [],
   "source": [
    "# 고객명이 '메시'인 고객의 전화번호 값 수정 : 010-1111-1111을 010-1234-1234로 변경"
   ]
  },
  {
   "cell_type": "code",
   "execution_count": 25,
   "id": "f7e50edb-6484-463b-a196-bcda6c68be7b",
   "metadata": {},
   "outputs": [],
   "source": [
    "sql = \"UPDATE client SET clientPhone='010-1234-1234' WHERE clientName='메시'\"\n",
    "cursor.execute(sql)\n",
    "conn.commit()"
   ]
  },
  {
   "cell_type": "code",
   "execution_count": 26,
   "id": "40eb2a5c-a9af-4abb-996f-5d2373b94d5e",
   "metadata": {},
   "outputs": [
    {
     "data": {
      "text/plain": [
       "(('1', '메시', '010-1234-1234', '서울시', datetime.date(1987, 6, 24), '축구', '남'),\n",
       " ('2', '호날두', '010-2222-2222', '천안', datetime.date(1984, 2, 5), None, '남'),\n",
       " ('3', '샤라포바', '010-3333-3333', '제주', datetime.date(1987, 4, 19), None, '여'),\n",
       " ('4', '베컴', '010-4444-4444', '안양', datetime.date(1994, 5, 2), '영화', '남'),\n",
       " ('5', '네이마르', '010-5555-5555', '수원', datetime.date(1992, 2, 5), '게임', '남'),\n",
       " ('6', '윌리엄스', '010-6666-6666', '서울', datetime.date(1981, 9, 26), '테니스', '여'),\n",
       " ('7', '옴바페', '010-7777-7777', '천안', datetime.date(1991, 1, 7), ' ', '남'),\n",
       " ('8', '살라', '010-8888-8888', '부산', datetime.date(1982, 4, 22), '', '남'))"
      ]
     },
     "execution_count": 26,
     "metadata": {},
     "output_type": "execute_result"
    }
   ],
   "source": [
    "sql = 'select * from client'\n",
    "cursor.execute(sql)\n",
    "result = cursor.fetchall()\n",
    "result"
   ]
  },
  {
   "cell_type": "code",
   "execution_count": 27,
   "id": "648d1cec-2f8d-48d3-8353-eb7a5be9cc25",
   "metadata": {},
   "outputs": [
    {
     "name": "stdin",
     "output_type": "stream",
     "text": [
      "수정할 도서번호 입력 :  1001\n",
      "도서명 입력 :  데이터베이스 이론 및 실기\n",
      "저자 입력 :  홍길동\n",
      "가격 입력 :  25000\n",
      "출판일 입력 :  2019-11-11\n",
      "재고 입력 :  7\n",
      "출판사번호 입력 :  3\n"
     ]
    }
   ],
   "source": [
    "# 입력된 값으로 데이터 수정 \n",
    "# 수정하고자 하는 기본키 값을 입력받고 \n",
    "# 수정할 데이터 입력 \n",
    "bookNo = input('수정할 도서번호 입력 : ')\n",
    "bookName = input('도서명 입력 : ')\n",
    "bookAuthor = input('저자 입력 : ')\n",
    "bookPrice = input('가격 입력 : ')\n",
    "bookDate = input('출판일 입력 : ')\n",
    "bookStock = input('재고 입력 : ')\n",
    "pubNo = input('출판사번호 입력 : ')\n",
    "\n",
    "# '1001', '데이터베이스 이론', '홍길동', 22000, datetime.date(2019, 11, 11), 5, '3'\n",
    "# '데이터베이스 이론 및 실기', 25000, 재고 7"
   ]
  },
  {
   "cell_type": "code",
   "execution_count": null,
   "id": "ee82fd8a-1f87-47aa-b891-0a523fdbbe23",
   "metadata": {},
   "outputs": [],
   "source": [
    "# update 테이블명 set 열=값, 열=값, .... where 열 = 값"
   ]
  },
  {
   "cell_type": "code",
   "execution_count": 28,
   "id": "7795cf5a-c3d3-44a2-88f5-b04c9f0d620c",
   "metadata": {},
   "outputs": [],
   "source": [
    "sql = \"update book set bookName=%s, bookAuthor=%s, \" \\\n",
    "      + \"bookPrice=%s, bookDate=%s, bookStock=%s, pubNo=%s where bookNo=%s\"\n",
    "\n",
    "values = (bookName, bookAuthor, bookPrice, bookDate, bookStock, pubNo, bookNo) # 실제 전달될 값\n",
    "cursor.execute(sql, values) # 값도 같이 전달 \n",
    "conn.commit()"
   ]
  },
  {
   "cell_type": "code",
   "execution_count": 30,
   "id": "b37f1a65-0368-43d0-8501-d9107f55f835",
   "metadata": {},
   "outputs": [],
   "source": [
    "# 여러 행 문자열로 작성해도 됨\n",
    "bookName = \"DB 연습\"\n",
    "\n",
    "sql = \"\"\"\n",
    "update book set bookName=%s, bookAuthor=%s,\n",
    "bookPrice=%s, bookDate=%s, bookStock=%s, pubNo=%s where bookNo=%s\n",
    "\"\"\"\n",
    "\n",
    "values = (bookName, bookAuthor, bookPrice, bookDate, bookStock, pubNo, bookNo) # 실제 전달될 값\n",
    "cursor.execute(sql, values) # 값도 같이 전달 \n",
    "conn.commit()"
   ]
  },
  {
   "cell_type": "code",
   "execution_count": 39,
   "id": "c74bfc05-ca5e-4bbc-92d5-952a555fb1d1",
   "metadata": {},
   "outputs": [
    {
     "data": {
      "text/plain": [
       "(('1001', 'DB 연습', '홍길동', 25000, datetime.date(2019, 11, 11), 7, '3'),\n",
       " ('1002', '자바 프로그래밍', '이몽룡', 25000, datetime.date(2021, 12, 12), 4, '1'),\n",
       " ('1003', '인터넷프로그래밍', '성춘향', 30000, datetime.date(2019, 2, 10), 10, '2'),\n",
       " ('1004', '안드로이드 프로그래밍', '변학도', 23000, datetime.date(2017, 10, 10), 2, '1'),\n",
       " ('1005', '안드로이드 앱', '강길동', 26000, datetime.date(2020, 1, 11), 5, '2'),\n",
       " ('1006',\n",
       "  'MS SQL SERVER 2014',\n",
       "  '박지성',\n",
       "  35000,\n",
       "  datetime.date(2020, 3, 25),\n",
       "  7,\n",
       "  '3'),\n",
       " ('1007', 'HTML & CSS', '손흥민', 18000, datetime.date(2023, 9, 30), 3, '1'),\n",
       " ('1008', 'MFC 입문', '류현진', 20000, datetime.date(2015, 12, 12), 5, '1'),\n",
       " ('1009', '안드로이드 게임 제작', '나길동', 33000, datetime.date(2018, 10, 31), 5, '2'),\n",
       " ('1010', 'C++객체지향 프로그래밍', '추신수', 24000, datetime.date(2019, 4, 20), 2, '3'),\n",
       " ('1011', 'JSP 웹 프로그래밍', '김연아', 27000, datetime.date(2020, 10, 23), 8, '1'),\n",
       " ('1012', '해커들의 해킹 기법', '손연재', 32000, datetime.date(2018, 7, 7), 1, '2'),\n",
       " ('1013', '자료구조', '홍길동', 19000, datetime.date(2020, 1, 20), 4, '1'),\n",
       " ('1014', '파이썬', '성춘향', 35000, datetime.date(2023, 9, 25), 5, '2'),\n",
       " ('1015', '자바스크립 & jQuery', '홍길동', 27000, datetime.date(2019, 10, 22), 2, '2'))"
      ]
     },
     "execution_count": 39,
     "metadata": {},
     "output_type": "execute_result"
    }
   ],
   "source": [
    "sql = 'select * from book'\n",
    "cursor.execute(sql)\n",
    "result = cursor.fetchall()\n",
    "result"
   ]
  },
  {
   "cell_type": "code",
   "execution_count": null,
   "id": "caa05cd5-2bcc-4365-a66d-aacdfa231002",
   "metadata": {},
   "outputs": [],
   "source": []
  },
  {
   "cell_type": "code",
   "execution_count": null,
   "id": "5f460f07-e164-4f3f-bf94-55021828738c",
   "metadata": {},
   "outputs": [],
   "source": [
    "#######################################################################################"
   ]
  },
  {
   "cell_type": "code",
   "execution_count": null,
   "id": "1e15ad02-d2f6-46b3-92ab-27dae6309a06",
   "metadata": {},
   "outputs": [],
   "source": [
    "#  DELETE\n",
    "# 주의! : commit "
   ]
  },
  {
   "cell_type": "code",
   "execution_count": 33,
   "id": "f7bc83d4-0969-4479-a16d-e75cfc8de21a",
   "metadata": {},
   "outputs": [],
   "source": [
    "sql = \"delete from book where bookNo = '1018'\"\n",
    "cursor.execute(sql)\n",
    "conn.commit()"
   ]
  },
  {
   "cell_type": "code",
   "execution_count": 36,
   "id": "e0712877-e86f-4686-8673-f602001fa8b5",
   "metadata": {},
   "outputs": [
    {
     "name": "stdin",
     "output_type": "stream",
     "text": [
      "삭제할 도서번호 입력 :  1017\n"
     ]
    }
   ],
   "source": [
    "# 삭제할 도서번호 입력 받아서 삭제\n",
    "bookNo = input('삭제할 도서번호 입력 : ')\n",
    "\n",
    "sql = \"delete from book where bookNo=%s\"\n",
    "cursor.execute(sql, bookNo)\n",
    "conn.commit()"
   ]
  },
  {
   "cell_type": "code",
   "execution_count": 38,
   "id": "33c7a16d-b45d-4e2f-8737-0d18aa83f2df",
   "metadata": {},
   "outputs": [
    {
     "name": "stdin",
     "output_type": "stream",
     "text": [
      "삭제할 도서번호 입력 :  1016\n"
     ]
    }
   ],
   "source": [
    "# 또는 \n",
    "bookNo = input('삭제할 도서번호 입력 : ')\n",
    "\n",
    "sql = \"DELETE FROM book WHERE bookNo=\" + bookNo\n",
    "cursor.execute(sql)\n",
    "conn.commit()"
   ]
  },
  {
   "cell_type": "code",
   "execution_count": null,
   "id": "56e02cb7-9cbf-4aad-a77a-dc3c053a920d",
   "metadata": {},
   "outputs": [],
   "source": []
  },
  {
   "cell_type": "code",
   "execution_count": null,
   "id": "d83d6187-6492-4011-b01b-71e546a6a666",
   "metadata": {},
   "outputs": [],
   "source": [
    "####################################################################################"
   ]
  },
  {
   "cell_type": "code",
   "execution_count": null,
   "id": "4f8cb4f5-3f4b-4c0b-9dda-f8439b74fb51",
   "metadata": {},
   "outputs": [],
   "source": [
    "# 저장 프로시저 호출"
   ]
  },
  {
   "cell_type": "code",
   "execution_count": 40,
   "id": "aa7e01d6-4088-4dfc-9704-01aa08beed6b",
   "metadata": {},
   "outputs": [
    {
     "data": {
      "text/plain": [
       "(('3', '샤라포바', Decimal('70000'), '보통'),\n",
       " ('7', '옴바페', Decimal('257000'), '최우수'),\n",
       " ('2', '호날두', Decimal('265000'), '최우수'),\n",
       " ('1', '메시', Decimal('108000'), '우수'),\n",
       " ('4', '베컴', Decimal('150000'), '우수'),\n",
       " ('8', '살라', Decimal('23000'), '관심고객'))"
      ]
     },
     "execution_count": 40,
     "metadata": {},
     "output_type": "execute_result"
    }
   ],
   "source": [
    "# (1) 매개변수 없는 경우\n",
    "# -- 한 번이라도 주문한 적이 있는 모든 고객의 고객등급 출력 \n",
    "# -- 고객번호, 고객명, 총주문액, 고객등급 출력\n",
    "# 프로시저명 : clientAllRatingProc\n",
    "cursor.callproc(\"clientAllRatingProc\")\n",
    "result = cursor.fetchall()\n",
    "result"
   ]
  },
  {
   "cell_type": "code",
   "execution_count": null,
   "id": "f9147491-ab55-405a-bb25-2f0c60262486",
   "metadata": {},
   "outputs": [],
   "source": [
    "# 매개변수가 있는 경우 : IN 매개변수만 있는 경우\n",
    "\n",
    "# -- 고객의 연령대를 출력하는 프로시저 \n",
    "# -- 고객번호를 전달 받아서, 해당 고객의 생년월일 확인 후 '~년대생' 출력 \n",
    "# -- 예 : 1990년대생, 1980년대생, 1970년대생 출력 \n",
    "# -- 고객번호, 고객명, 연령대 \n",
    "# 프로시저명 : clientAgeCheckProc;\n",
    "# -- 호출하면서 값 전달 \n",
    "# CALL clientAgeCheckProc('1');"
   ]
  },
  {
   "cell_type": "code",
   "execution_count": 41,
   "id": "042090d1-662a-4802-b041-d7c2c6034fd2",
   "metadata": {},
   "outputs": [
    {
     "data": {
      "text/plain": [
       "(('1', '메시', datetime.date(1987, 6, 24), '1980년대생'),)"
      ]
     },
     "execution_count": 41,
     "metadata": {},
     "output_type": "execute_result"
    }
   ],
   "source": [
    "# 방법1\n",
    "cursor.callproc(\"clientAgeCheckProc\", {\"1\"})\n",
    "result = cursor.fetchall()\n",
    "result"
   ]
  },
  {
   "cell_type": "code",
   "execution_count": 42,
   "id": "451e7d04-a276-4b8e-8beb-084f5b2919e3",
   "metadata": {},
   "outputs": [
    {
     "data": {
      "text/plain": [
       "(('2', '호날두', datetime.date(1984, 2, 5), '1980년대생'),)"
      ]
     },
     "execution_count": 42,
     "metadata": {},
     "output_type": "execute_result"
    }
   ],
   "source": [
    "# 방법2\n",
    "cursor.callproc(\"clientAgeCheckProc\", (\"2\"))\n",
    "result = cursor.fetchall()\n",
    "result"
   ]
  },
  {
   "cell_type": "code",
   "execution_count": 44,
   "id": "b5dd29b9-a7e5-4429-a041-e8db767ca58e",
   "metadata": {},
   "outputs": [
    {
     "data": {
      "text/plain": [
       "(('3', '샤라포바', datetime.date(1987, 4, 19), '1980년대생'),)"
      ]
     },
     "execution_count": 44,
     "metadata": {},
     "output_type": "execute_result"
    }
   ],
   "source": [
    "# 방법3\n",
    "cursor.callproc(\"clientAgeCheckProc\", \"3\")\n",
    "result = cursor.fetchall()\n",
    "result"
   ]
  },
  {
   "cell_type": "code",
   "execution_count": 45,
   "id": "4b0c7301-db8b-4941-a9cf-d412008e13ff",
   "metadata": {},
   "outputs": [
    {
     "data": {
      "text/plain": [
       "(('4', '베컴', datetime.date(1994, 5, 2), '1990년대생'),)"
      ]
     },
     "execution_count": 45,
     "metadata": {},
     "output_type": "execute_result"
    }
   ],
   "source": [
    "# 방법4\n",
    "sql = \"CALL clientAgeCheckProc('4')\"\n",
    "cursor.execute(sql)\n",
    "result = cursor.fetchall()\n",
    "result"
   ]
  },
  {
   "cell_type": "code",
   "execution_count": null,
   "id": "38c084a1-995e-43f0-8701-dcdfa7f67d01",
   "metadata": {},
   "outputs": [],
   "source": []
  },
  {
   "cell_type": "code",
   "execution_count": 53,
   "id": "42f976a9-957c-4e20-b1ea-9487d2e77cb9",
   "metadata": {},
   "outputs": [
    {
     "name": "stdout",
     "output_type": "stream",
     "text": [
      "10\n"
     ]
    }
   ],
   "source": [
    "# 매개변수가 있는 경우 : IN / OUT 매개변수 있는 경우\n",
    "# -- 도서가격을 전달하면, 전달된 도서가격 이상인 도서 수를 반환 \n",
    "# 프로시저명 : bookPriceCountProc;\n",
    "# 프로시저 호출\n",
    "# CALL bookPriceCountProc(30000, @bookCount);\n",
    "# SELECT @bookCount;\n",
    "\n",
    "sql = \"CALL bookPriceCountProc(25000, @bookCount)\"\n",
    "cursor.execute(sql)\n",
    "sql = \"SELECT @bookCount\"\n",
    "cursor.execute(sql)\n",
    "\n",
    "# result = cursor.fetchall()\n",
    "# result\n",
    "\n",
    "# print(result[0][0])\n",
    "\n",
    "result = cursor.fetchone() # 1개 값이 반환되는 경우\n",
    "result\n",
    "print(result[0])\n"
   ]
  },
  {
   "cell_type": "code",
   "execution_count": null,
   "id": "d2affda3-6352-45be-b298-fa55ace37b09",
   "metadata": {},
   "outputs": [],
   "source": []
  },
  {
   "cell_type": "code",
   "execution_count": null,
   "id": "52c28ebf-0597-4874-a784-680e78e725bb",
   "metadata": {},
   "outputs": [],
   "source": []
  },
  {
   "cell_type": "code",
   "execution_count": null,
   "id": "74c896eb-be62-41c6-ac78-6fe912f103ad",
   "metadata": {},
   "outputs": [],
   "source": []
  },
  {
   "cell_type": "code",
   "execution_count": null,
   "id": "d0ee231e-608f-4974-9844-6f0c4b5314e1",
   "metadata": {},
   "outputs": [],
   "source": []
  },
  {
   "cell_type": "code",
   "execution_count": 26,
   "id": "0dab04a1-3098-4c03-9299-dd221c768d35",
   "metadata": {},
   "outputs": [],
   "source": [
    "cursor.close()\n",
    "conn.close()"
   ]
  },
  {
   "cell_type": "code",
   "execution_count": null,
   "id": "0240808f-fc6c-4eb8-ae03-a1c9d715a43d",
   "metadata": {},
   "outputs": [],
   "source": []
  }
 ],
 "metadata": {
  "kernelspec": {
   "display_name": "Python 3 (ipykernel)",
   "language": "python",
   "name": "python3"
  },
  "language_info": {
   "codemirror_mode": {
    "name": "ipython",
    "version": 3
   },
   "file_extension": ".py",
   "mimetype": "text/x-python",
   "name": "python",
   "nbconvert_exporter": "python",
   "pygments_lexer": "ipython3",
   "version": "3.11.5"
  }
 },
 "nbformat": 4,
 "nbformat_minor": 5
}
