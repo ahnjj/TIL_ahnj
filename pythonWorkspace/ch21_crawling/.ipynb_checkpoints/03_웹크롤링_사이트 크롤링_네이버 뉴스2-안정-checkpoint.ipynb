{
 "cells": [
  {
   "cell_type": "code",
   "execution_count": 1,
   "id": "0f965ec9-3ccb-46a6-939e-dfca564a4848",
   "metadata": {},
   "outputs": [],
   "source": [
    "from IPython.core.interactiveshell import InteractiveShell\n",
    "InteractiveShell.ast_node_interactivity=\"all\""
   ]
  },
  {
   "cell_type": "code",
   "execution_count": 3,
   "id": "a02a8dd4-be7f-4ba4-8e28-356325f7e2c9",
   "metadata": {},
   "outputs": [
    {
     "name": "stdout",
     "output_type": "stream",
     "text": [
      "Collecting pandas\n",
      "  Obtaining dependency information for pandas from https://files.pythonhosted.org/packages/e5/cd/c941b51e95992968e3e8abc7180f33b952478abd6943062051517a808db7/pandas-2.1.0-cp311-cp311-macosx_11_0_arm64.whl.metadata\n",
      "  Downloading pandas-2.1.0-cp311-cp311-macosx_11_0_arm64.whl.metadata (18 kB)\n",
      "Collecting numpy>=1.23.2 (from pandas)\n",
      "  Obtaining dependency information for numpy>=1.23.2 from https://files.pythonhosted.org/packages/86/a1/b8ef999c32f26a97b5f714887e21f96c12ae99a38583a0a96e65283ac0a1/numpy-1.25.2-cp311-cp311-macosx_11_0_arm64.whl.metadata\n",
      "  Downloading numpy-1.25.2-cp311-cp311-macosx_11_0_arm64.whl.metadata (5.6 kB)\n",
      "Requirement already satisfied: python-dateutil>=2.8.2 in /opt/homebrew/Cellar/jupyterlab/4.0.5_1/libexec/lib/python3.11/site-packages (from pandas) (2.8.2)\n",
      "Collecting pytz>=2020.1 (from pandas)\n",
      "  Obtaining dependency information for pytz>=2020.1 from https://files.pythonhosted.org/packages/32/4d/aaf7eff5deb402fd9a24a1449a8119f00d74ae9c2efa79f8ef9994261fc2/pytz-2023.3.post1-py2.py3-none-any.whl.metadata\n",
      "  Using cached pytz-2023.3.post1-py2.py3-none-any.whl.metadata (22 kB)\n",
      "Collecting tzdata>=2022.1 (from pandas)\n",
      "  Downloading tzdata-2023.3-py2.py3-none-any.whl (341 kB)\n",
      "\u001b[2K     \u001b[90m━━━━━━━━━━━━━━━━━━━━━━━━━━━━━━━━━━━━━━━\u001b[0m \u001b[32m341.8/341.8 kB\u001b[0m \u001b[31m4.8 MB/s\u001b[0m eta \u001b[36m0:00:00\u001b[0ma \u001b[36m0:00:01\u001b[0m\n",
      "\u001b[?25hRequirement already satisfied: six>=1.5 in /opt/homebrew/opt/six/lib/python3.11/site-packages (from python-dateutil>=2.8.2->pandas) (1.16.0)\n",
      "Downloading pandas-2.1.0-cp311-cp311-macosx_11_0_arm64.whl (11.2 MB)\n",
      "\u001b[2K   \u001b[90m━━━━━━━━━━━━━━━━━━━━━━━━━━━━━━━━━━━━━━━━\u001b[0m \u001b[32m11.2/11.2 MB\u001b[0m \u001b[31m3.9 MB/s\u001b[0m eta \u001b[36m0:00:00\u001b[0m00:01\u001b[0m00:01\u001b[0m\n",
      "\u001b[?25hDownloading numpy-1.25.2-cp311-cp311-macosx_11_0_arm64.whl (14.0 MB)\n",
      "\u001b[2K   \u001b[90m━━━━━━━━━━━━━━━━━━━━━━━━━━━━━━━━━━━━━━━━\u001b[0m \u001b[32m14.0/14.0 MB\u001b[0m \u001b[31m2.8 MB/s\u001b[0m eta \u001b[36m0:00:00\u001b[0m00:01\u001b[0m00:01\u001b[0m\n",
      "\u001b[?25hUsing cached pytz-2023.3.post1-py2.py3-none-any.whl (502 kB)\n",
      "Installing collected packages: pytz, tzdata, numpy, pandas\n",
      "Successfully installed numpy-1.25.2 pandas-2.1.0 pytz-2023.3.post1 tzdata-2023.3\n",
      "Note: you may need to restart the kernel to use updated packages.\n"
     ]
    }
   ],
   "source": [
    "pip install pandas"
   ]
  },
  {
   "cell_type": "code",
   "execution_count": 9,
   "id": "ead40989-26f0-482c-a269-46e171380e93",
   "metadata": {},
   "outputs": [],
   "source": [
    "from urllib.request import urlopen\n",
    "import pandas as pd\n",
    "import bs4"
   ]
  },
  {
   "cell_type": "code",
   "execution_count": 10,
   "id": "e16370d8-6df1-4c7e-b20d-6ef408fe8dfe",
   "metadata": {},
   "outputs": [
    {
     "data": {
      "text/html": [
       "<div>\n",
       "<style scoped>\n",
       "    .dataframe tbody tr th:only-of-type {\n",
       "        vertical-align: middle;\n",
       "    }\n",
       "\n",
       "    .dataframe tbody tr th {\n",
       "        vertical-align: top;\n",
       "    }\n",
       "\n",
       "    .dataframe thead th {\n",
       "        text-align: right;\n",
       "    }\n",
       "</style>\n",
       "<table border=\"1\" class=\"dataframe\">\n",
       "  <thead>\n",
       "    <tr style=\"text-align: right;\">\n",
       "      <th></th>\n",
       "      <th>section</th>\n",
       "      <th>link</th>\n",
       "    </tr>\n",
       "  </thead>\n",
       "  <tbody>\n",
       "    <tr>\n",
       "      <th>0</th>\n",
       "      <td>언론사별</td>\n",
       "      <td>https://news.naver.com/?viewType=pc</td>\n",
       "    </tr>\n",
       "    <tr>\n",
       "      <th>1</th>\n",
       "      <td>정치</td>\n",
       "      <td>https://news.naver.com/main/main.naver?mode=LS...</td>\n",
       "    </tr>\n",
       "    <tr>\n",
       "      <th>2</th>\n",
       "      <td>경제</td>\n",
       "      <td>https://news.naver.com/main/main.naver?mode=LS...</td>\n",
       "    </tr>\n",
       "    <tr>\n",
       "      <th>3</th>\n",
       "      <td>사회</td>\n",
       "      <td>https://news.naver.com/main/main.naver?mode=LS...</td>\n",
       "    </tr>\n",
       "    <tr>\n",
       "      <th>4</th>\n",
       "      <td>생활/문화</td>\n",
       "      <td>https://news.naver.com/main/main.naver?mode=LS...</td>\n",
       "    </tr>\n",
       "    <tr>\n",
       "      <th>5</th>\n",
       "      <td>IT/과학</td>\n",
       "      <td>https://news.naver.com/main/main.naver?mode=LS...</td>\n",
       "    </tr>\n",
       "    <tr>\n",
       "      <th>6</th>\n",
       "      <td>세계</td>\n",
       "      <td>https://news.naver.com/main/main.naver?mode=LS...</td>\n",
       "    </tr>\n",
       "    <tr>\n",
       "      <th>7</th>\n",
       "      <td>랭킹</td>\n",
       "      <td>https://news.naver.com/main/ranking/popularDay...</td>\n",
       "    </tr>\n",
       "    <tr>\n",
       "      <th>8</th>\n",
       "      <td>신문보기</td>\n",
       "      <td>https://news.naver.com/newspaper/home?viewType=pc</td>\n",
       "    </tr>\n",
       "    <tr>\n",
       "      <th>9</th>\n",
       "      <td>오피니언</td>\n",
       "      <td>https://news.naver.com/opinion/home</td>\n",
       "    </tr>\n",
       "    <tr>\n",
       "      <th>10</th>\n",
       "      <td>TV</td>\n",
       "      <td>https://news.naver.com/main/tv/index.naver?mid...</td>\n",
       "    </tr>\n",
       "    <tr>\n",
       "      <th>11</th>\n",
       "      <td>팩트체크</td>\n",
       "      <td>https://news.naver.com/main/factcheck/main.naver</td>\n",
       "    </tr>\n",
       "    <tr>\n",
       "      <th>12</th>\n",
       "      <td>알고리즘 안내</td>\n",
       "      <td>https://media.naver.com/algorithm</td>\n",
       "    </tr>\n",
       "  </tbody>\n",
       "</table>\n",
       "</div>"
      ],
      "text/plain": [
       "    section                                               link\n",
       "0      언론사별                https://news.naver.com/?viewType=pc\n",
       "1        정치  https://news.naver.com/main/main.naver?mode=LS...\n",
       "2        경제  https://news.naver.com/main/main.naver?mode=LS...\n",
       "3        사회  https://news.naver.com/main/main.naver?mode=LS...\n",
       "4     생활/문화  https://news.naver.com/main/main.naver?mode=LS...\n",
       "5     IT/과학  https://news.naver.com/main/main.naver?mode=LS...\n",
       "6        세계  https://news.naver.com/main/main.naver?mode=LS...\n",
       "7        랭킹  https://news.naver.com/main/ranking/popularDay...\n",
       "8      신문보기  https://news.naver.com/newspaper/home?viewType=pc\n",
       "9      오피니언                https://news.naver.com/opinion/home\n",
       "10       TV  https://news.naver.com/main/tv/index.naver?mid...\n",
       "11     팩트체크   https://news.naver.com/main/factcheck/main.naver\n",
       "12  알고리즘 안내                  https://media.naver.com/algorithm"
      ]
     },
     "execution_count": 10,
     "metadata": {},
     "output_type": "execute_result"
    }
   ],
   "source": [
    "# 네이버 뉴스1에서 저장한 naver_news_section.csv 읽어오기\n",
    "section_menu_df = pd.read_csv('./crawl_data/naver_news_section.csv')\n",
    "section_menu_df"
   ]
  },
  {
   "cell_type": "code",
   "execution_count": 12,
   "id": "9fd7181c-c01d-48ac-94d6-2671cdff2849",
   "metadata": {},
   "outputs": [
    {
     "data": {
      "text/plain": [
       "'https://news.naver.com/main/main.naver?mode=LSD&mid=shm&sid1=101'"
      ]
     },
     "execution_count": 12,
     "metadata": {},
     "output_type": "execute_result"
    }
   ],
   "source": [
    "# 경제 섹션 링크\n",
    "section_menu_df['link'][2]"
   ]
  },
  {
   "cell_type": "code",
   "execution_count": 14,
   "id": "c3cee0b1-3711-4c5c-ab61-5efeca9515d5",
   "metadata": {},
   "outputs": [],
   "source": [
    "# 경제 섹션 html 뽑아내기\n",
    "url = section_menu_df['link'][2]\n",
    "html = urlopen(url)\n",
    "bs_obj = bs4.BeautifulSoup(html, 'html.parser')"
   ]
  },
  {
   "cell_type": "code",
   "execution_count": 17,
   "id": "74a8de4d-c7d4-4629-b9b6-42ff4de9b597",
   "metadata": {},
   "outputs": [],
   "source": [
    "# bs_obj"
   ]
  },
  {
   "cell_type": "code",
   "execution_count": 18,
   "id": "1d0afa8b-37c9-4570-92bb-a276d972c2a5",
   "metadata": {},
   "outputs": [],
   "source": [
    "# 네이버 뉴스 섹션 확인하려면\n",
    "# 섹션 별 헤드라인(topic)이 있고\n",
    "# topic의 title과 link를 크롤링할 예정\n"
   ]
  },
  {
   "cell_type": "code",
   "execution_count": 85,
   "id": "02cc737c-5c2b-4054-a746-82812a6622d5",
   "metadata": {},
   "outputs": [
    {
     "data": {
      "text/plain": [
       "4"
      ]
     },
     "execution_count": 85,
     "metadata": {},
     "output_type": "execute_result"
    }
   ],
   "source": [
    "# 헤드라인 뉴스에서 각 topic 추출 : <div class='sh_text'>\n",
    "# 섹션 중에서 정치~ 세계 6개 섹션에 동일한 포맷\n",
    "topic_list = bs_obj.findAll('div', {'class':'sh_text'})\n",
    "len(topic_list)"
   ]
  },
  {
   "cell_type": "code",
   "execution_count": 86,
   "id": "7263b569-5b7e-478b-bdfd-563c4c518888",
   "metadata": {},
   "outputs": [],
   "source": [
    "# 참고 : select()사용하는 경우\n",
    "topic_list2 = bs_obj.select('div.sh_text')"
   ]
  },
  {
   "cell_type": "code",
   "execution_count": 24,
   "id": "38b2789a-efd3-40a5-8cf2-0d401f602194",
   "metadata": {},
   "outputs": [
    {
     "data": {
      "text/plain": [
       "<a class=\"sh_text_headline nclicks(cls_eco.clsart)\" href=\"https://n.news.naver.com/mnews/article/277/0005313330?sid=101\">유가 급등에 오라클 쇼크까지...나스닥 1.04%↓[뉴욕증시]</a>"
      ]
     },
     "execution_count": 24,
     "metadata": {},
     "output_type": "execute_result"
    },
    {
     "data": {
      "text/plain": [
       "'유가 급등에 오라클 쇼크까지...나스닥 1.04%↓[뉴욕증시]'"
      ]
     },
     "execution_count": 24,
     "metadata": {},
     "output_type": "execute_result"
    },
    {
     "data": {
      "text/plain": [
       "'https://n.news.naver.com/mnews/article/277/0005313330?sid=101'"
      ]
     },
     "execution_count": 24,
     "metadata": {},
     "output_type": "execute_result"
    }
   ],
   "source": [
    "# topic_list에서는 <a>태그 text:제목, href :링크\n",
    "# 첫번째1개만 확인\n",
    "topic_list[0].find('a')\n",
    "topic_list[0].find('a').text\n",
    "topic_list[0].find('a')['href']"
   ]
  },
  {
   "cell_type": "code",
   "execution_count": 26,
   "id": "937528c3-963e-47fb-82c1-4e1ee75c7b3b",
   "metadata": {},
   "outputs": [
    {
     "name": "stdout",
     "output_type": "stream",
     "text": [
      "유가 급등에 오라클 쇼크까지...나스닥 1.04%↓[뉴욕증시]\n",
      "https://n.news.naver.com/mnews/article/277/0005313330?sid=101\n",
      "현대차 임단협 잠정합의…기본·성과급 '역대급 인상'\n",
      "https://n.news.naver.com/mnews/article/015/0004891144?sid=101\n",
      "[속보]테슬라 슈퍼컴 기대에 10%↑…나스닥 1.1%↑\n",
      "https://n.news.naver.com/mnews/article/018/0005572832?sid=101\n",
      "삼성전자, 2년 만에 디램·낸드 가격 동시 상승 기대감-KB\n",
      "https://n.news.naver.com/mnews/article/018/0005573564?sid=101\n",
      "이명박 전 대통령, 경제단체 기조연설자 참석...\"사면 후 첫 공개 연설\"\n",
      "https://n.news.naver.com/mnews/article/660/0000044625?sid=101\n",
      " 추석 ‘한우 선물세트’ 인기…그런데 투뿔보다 원뿔이 더 비싸다?[경제합시다]\n",
      "https://n.news.naver.com/mnews/article/056/0011564544?sid=101\n",
      "추석 차례상 차림비 \"시장이 더 싸\"…서울 전통시장 24만원, 대형마트 28만원\n",
      "https://n.news.naver.com/mnews/article/011/0004237057?sid=101\n",
      "퇴직연금으로 평생월급 만들기 위해 국회-정부 머리 맞댄다\n",
      "https://n.news.naver.com/mnews/article/123/0002315468?sid=101\n",
      "부동산 PF 잔액 133조…증권사 연체율 17.3% 달해\n",
      "https://n.news.naver.com/mnews/article/003/0012083936?sid=101\n",
      "동의 안했는데 가입됐다니…보험설계사들 불법영업 대거 적발\n",
      "https://n.news.naver.com/mnews/article/001/0014188864?sid=101\n"
     ]
    }
   ],
   "source": [
    "# topic_list에서 전체 title 과 link 출력\n",
    "# 반복문 + 예외처리\n",
    "\n",
    "for topic in topic_list:\n",
    "    try :\n",
    "        a = topic.find('a')\n",
    "        print(a.text)\n",
    "        print(a['href'])\n",
    "    except:\n",
    "        print('Error occurred!')"
   ]
  },
  {
   "cell_type": "markdown",
   "id": "5fd5ee46-2f01-4893-94e6-267a9841382b",
   "metadata": {},
   "source": [
    "## 수집한 데이터를 데이터 프레임으로 생성하고 파일로 저장"
   ]
  },
  {
   "cell_type": "code",
   "execution_count": 27,
   "id": "4733e1c3-d136-49df-980e-fccb39ae863f",
   "metadata": {},
   "outputs": [],
   "source": [
    "topic_title = []\n",
    "topic_link = []"
   ]
  },
  {
   "cell_type": "code",
   "execution_count": 87,
   "id": "773d25f1-037d-4c87-905a-4f5f1ab40585",
   "metadata": {},
   "outputs": [],
   "source": [
    "for topic in topic_list:\n",
    "    try :\n",
    "        a = topic.find('a')\n",
    "        topic_title.append(a.text)\n",
    "        topic_link.append(a['href'])\n",
    "    except:\n",
    "        print('오류발생')"
   ]
  },
  {
   "cell_type": "code",
   "execution_count": 88,
   "id": "2c3b3fec-96ba-4ad7-bd85-9d4ac64753a5",
   "metadata": {},
   "outputs": [
    {
     "data": {
      "text/plain": [
       "['\\n유가 급등에 오라클 쇼크까지...나스닥 1.04%↓[뉴욕증시]\\n미국 뉴욕증시의 3대 지수는 12일(현지시간) 유가 상승, 오라클을 비롯한 기술주 부진 여파로 일제히 하락 마감했다. 시가총액 1위 기업 애플의 신형 아 …\\n\\n아시아경제\\n24개의 관련뉴스 더보기\\n\\n',\n",
       " \"\\n현대차 임단협 잠정합의…기본·성과급 '역대급 인상'\\n현대자동차 노사가 12일 역대 최고 수준의 임금 인상안에 잠정 합의했다. 노조가 13일로 예고한 부분 파업을 하루 앞두고 사상 처음으로 5년 연속 무분규로 잠정 합의안을 도출했다. 현대차 노사는 이날 이동석 …\\n\\n한국경제\\n59개의 관련뉴스 더보기\\n\\n\",\n",
       " '\\n[속보]테슬라 슈퍼컴 기대에 10%↑…나스닥 1.1%↑\\n투자자들이 이번주 발표될 물가보고서를 기다리는 가운데 뉴욕증시가 모처럼 일제히 상승 마감했다. 테슬라는 도입하고 있는 슈퍼컴퓨터 ‘도조’의 가치가 부상하 …\\n\\n이데일리\\n39개의 관련뉴스 더보기\\n\\n',\n",
       " '\\n삼성전자, 2년 만에 디램·낸드 가격 동시 상승 기대감-KB\\nKB증권은 13일 삼성전자(005930)가 디램(DRAM)과 낸드 가격의 동시 상승세 속에 4분기 본격적인 상승 사이클을 맞을 것이라 기대했다. 투자의견 …\\n\\n이데일리\\n19개의 관련뉴스 더보기\\n\\n',\n",
       " '\\n이명박 전 대통령, 경제단체 기조연설자 참석...\"사면 후 첫 공개 연설\"\\n이명박 전 대통령이 특별사면 뒤 처음으로 공개 행사 연설자로 참석해 주목을 받았습니다. 이 전 대통령은 12일 중소기업중앙회가 롯데호텔 제주에서 개최한  …\\n\\nkbc광주방송\\n15개의 관련뉴스 더보기\\n\\n',\n",
       " '\\n 추석 ‘한우 선물세트’ 인기…그런데 투뿔보다 원뿔이 더 비싸다?[경제합시다]\\n경제합시다, 시간입니다. 올 추석, 직장인들이 가장 선호하는 선물 뭘까요? 한우 선물세트라는데요. 이른바 김영란법으로 불리는 청탁금지법 시행령 개정으로  …\\n\\nKBS\\n47개의 관련뉴스 더보기\\n\\n',\n",
       " '\\n추석 차례상 차림비 \"시장이 더 싸\"…서울 전통시장 24만원, 대형마트 28만원\\n서울에서 전통시장을 이용해 추석 차례상을 준비하면 대형마트를 이용할 때보다 차림비가 4만3000원 가량 저렴한 것으로 조사됐다. 서울시농수산식품공사는 서 …\\n\\n서울경제\\n67개의 관련뉴스 더보기\\n\\n',\n",
       " '\\n퇴직연금으로 평생월급 만들기 위해 국회-정부 머리 맞댄다\\n퇴직연금이 국민의 평생월급으로 활용될 수 있도록 퇴직연금제도의 노후소득보장 기능 개선을 위한 정책 토론회가 열린다. 국민의힘 윤창현 의원은 고용노동부와  …\\n\\n조세일보\\n20개의 관련뉴스 더보기\\n\\n',\n",
       " '\\n부동산 PF 잔액 133조…증권사 연체율 17.3% 달해\\n금융권의 부동산 프로젝트파이낸싱(PF) 대출잔액이 올해 상반기 133조원을 넘어선 것으로 나타났다. 대부분 업권에서 PF 연체율이 증가하고 있는 가운데  …\\n\\n뉴시스\\n49개의 관련뉴스 더보기\\n\\n',\n",
       " '\\n동의 안했는데 가입됐다니…보험설계사들 불법영업 대거 적발\\n보험 가입 대가로 현금에 청소기 등 금품까지 제공해 금감원, 4개 보험대리점·22명 보험설계사 과태료·업무정지 보험 가입에 동의도 안 했는데 가입시키거나 …\\n\\n연합뉴스\\n13개의 관련뉴스 더보기\\n\\n',\n",
       " '\\n유가 급등에 오라클 쇼크까지...나스닥 1.04%↓[뉴욕증시]\\n미국 뉴욕증시의 3대 지수는 12일(현지시간) 유가 상승, 오라클을 비롯한 기술주 부진 여파로 일제히 하락 마감했다. 시가총액 1위 기업 애플의 신형 아 …\\n\\n아시아경제\\n24개의 관련뉴스 더보기\\n\\n',\n",
       " \"\\n현대차 임단협 잠정합의…기본·성과급 '역대급 인상'\\n현대자동차 노사가 12일 역대 최고 수준의 임금 인상안에 잠정 합의했다. 노조가 13일로 예고한 부분 파업을 하루 앞두고 사상 처음으로 5년 연속 무분규로 잠정 합의안을 도출했다. 현대차 노사는 이날 이동석 …\\n\\n한국경제\\n59개의 관련뉴스 더보기\\n\\n\",\n",
       " '\\n[속보]테슬라 슈퍼컴 기대에 10%↑…나스닥 1.1%↑\\n투자자들이 이번주 발표될 물가보고서를 기다리는 가운데 뉴욕증시가 모처럼 일제히 상승 마감했다. 테슬라는 도입하고 있는 슈퍼컴퓨터 ‘도조’의 가치가 부상하 …\\n\\n이데일리\\n39개의 관련뉴스 더보기\\n\\n',\n",
       " '\\n삼성전자, 2년 만에 디램·낸드 가격 동시 상승 기대감-KB\\nKB증권은 13일 삼성전자(005930)가 디램(DRAM)과 낸드 가격의 동시 상승세 속에 4분기 본격적인 상승 사이클을 맞을 것이라 기대했다. 투자의견 …\\n\\n이데일리\\n19개의 관련뉴스 더보기\\n\\n',\n",
       " '\\n이명박 전 대통령, 경제단체 기조연설자 참석...\"사면 후 첫 공개 연설\"\\n이명박 전 대통령이 특별사면 뒤 처음으로 공개 행사 연설자로 참석해 주목을 받았습니다. 이 전 대통령은 12일 중소기업중앙회가 롯데호텔 제주에서 개최한  …\\n\\nkbc광주방송\\n15개의 관련뉴스 더보기\\n\\n',\n",
       " '\\n 추석 ‘한우 선물세트’ 인기…그런데 투뿔보다 원뿔이 더 비싸다?[경제합시다]\\n경제합시다, 시간입니다. 올 추석, 직장인들이 가장 선호하는 선물 뭘까요? 한우 선물세트라는데요. 이른바 김영란법으로 불리는 청탁금지법 시행령 개정으로  …\\n\\nKBS\\n47개의 관련뉴스 더보기\\n\\n',\n",
       " '\\n추석 차례상 차림비 \"시장이 더 싸\"…서울 전통시장 24만원, 대형마트 28만원\\n서울에서 전통시장을 이용해 추석 차례상을 준비하면 대형마트를 이용할 때보다 차림비가 4만3000원 가량 저렴한 것으로 조사됐다. 서울시농수산식품공사는 서 …\\n\\n서울경제\\n67개의 관련뉴스 더보기\\n\\n',\n",
       " '\\n퇴직연금으로 평생월급 만들기 위해 국회-정부 머리 맞댄다\\n퇴직연금이 국민의 평생월급으로 활용될 수 있도록 퇴직연금제도의 노후소득보장 기능 개선을 위한 정책 토론회가 열린다. 국민의힘 윤창현 의원은 고용노동부와  …\\n\\n조세일보\\n20개의 관련뉴스 더보기\\n\\n',\n",
       " '\\n부동산 PF 잔액 133조…증권사 연체율 17.3% 달해\\n금융권의 부동산 프로젝트파이낸싱(PF) 대출잔액이 올해 상반기 133조원을 넘어선 것으로 나타났다. 대부분 업권에서 PF 연체율이 증가하고 있는 가운데  …\\n\\n뉴시스\\n49개의 관련뉴스 더보기\\n\\n',\n",
       " '\\n동의 안했는데 가입됐다니…보험설계사들 불법영업 대거 적발\\n보험 가입 대가로 현금에 청소기 등 금품까지 제공해 금감원, 4개 보험대리점·22명 보험설계사 과태료·업무정지 보험 가입에 동의도 안 했는데 가입시키거나 …\\n\\n연합뉴스\\n13개의 관련뉴스 더보기\\n\\n',\n",
       " '유가 급등에 오라클 쇼크까지...나스닥 1.04%↓[뉴욕증시]\\n미국 뉴욕증시의 3대 지수는 12일(현지시간) 유가 상승, 오라클을 비롯한 기술주 부진 여파로 일제히 하락 마감했다. 시가총액 1위 기업 애플의 신형 아 …\\n\\n아시아경제\\n24개의 관련뉴스 더보기',\n",
       " \"현대차 임단협 잠정합의…기본·성과급 '역대급 인상'\\n현대자동차 노사가 12일 역대 최고 수준의 임금 인상안에 잠정 합의했다. 노조가 13일로 예고한 부분 파업을 하루 앞두고 사상 처음으로 5년 연속 무분규로 잠정 합의안을 도출했다. 현대차 노사는 이날 이동석 …\\n\\n한국경제\\n59개의 관련뉴스 더보기\",\n",
       " '[속보]테슬라 슈퍼컴 기대에 10%↑…나스닥 1.1%↑\\n투자자들이 이번주 발표될 물가보고서를 기다리는 가운데 뉴욕증시가 모처럼 일제히 상승 마감했다. 테슬라는 도입하고 있는 슈퍼컴퓨터 ‘도조’의 가치가 부상하 …\\n\\n이데일리\\n39개의 관련뉴스 더보기',\n",
       " '삼성전자, 2년 만에 디램·낸드 가격 동시 상승 기대감-KB\\nKB증권은 13일 삼성전자(005930)가 디램(DRAM)과 낸드 가격의 동시 상승세 속에 4분기 본격적인 상승 사이클을 맞을 것이라 기대했다. 투자의견 …\\n\\n이데일리\\n19개의 관련뉴스 더보기',\n",
       " '이명박 전 대통령, 경제단체 기조연설자 참석...\"사면 후 첫 공개 연설\"\\n이명박 전 대통령이 특별사면 뒤 처음으로 공개 행사 연설자로 참석해 주목을 받았습니다. 이 전 대통령은 12일 중소기업중앙회가 롯데호텔 제주에서 개최한  …\\n\\nkbc광주방송\\n15개의 관련뉴스 더보기',\n",
       " '추석 ‘한우 선물세트’ 인기…그런데 투뿔보다 원뿔이 더 비싸다?[경제합시다]\\n경제합시다, 시간입니다. 올 추석, 직장인들이 가장 선호하는 선물 뭘까요? 한우 선물세트라는데요. 이른바 김영란법으로 불리는 청탁금지법 시행령 개정으로  …\\n\\nKBS\\n47개의 관련뉴스 더보기',\n",
       " '추석 차례상 차림비 \"시장이 더 싸\"…서울 전통시장 24만원, 대형마트 28만원\\n서울에서 전통시장을 이용해 추석 차례상을 준비하면 대형마트를 이용할 때보다 차림비가 4만3000원 가량 저렴한 것으로 조사됐다. 서울시농수산식품공사는 서 …\\n\\n서울경제\\n67개의 관련뉴스 더보기',\n",
       " '퇴직연금으로 평생월급 만들기 위해 국회-정부 머리 맞댄다\\n퇴직연금이 국민의 평생월급으로 활용될 수 있도록 퇴직연금제도의 노후소득보장 기능 개선을 위한 정책 토론회가 열린다. 국민의힘 윤창현 의원은 고용노동부와  …\\n\\n조세일보\\n20개의 관련뉴스 더보기',\n",
       " '부동산 PF 잔액 133조…증권사 연체율 17.3% 달해\\n금융권의 부동산 프로젝트파이낸싱(PF) 대출잔액이 올해 상반기 133조원을 넘어선 것으로 나타났다. 대부분 업권에서 PF 연체율이 증가하고 있는 가운데  …\\n\\n뉴시스\\n49개의 관련뉴스 더보기',\n",
       " '동의 안했는데 가입됐다니…보험설계사들 불법영업 대거 적발\\n보험 가입 대가로 현금에 청소기 등 금품까지 제공해 금감원, 4개 보험대리점·22명 보험설계사 과태료·업무정지 보험 가입에 동의도 안 했는데 가입시키거나 …\\n\\n연합뉴스\\n13개의 관련뉴스 더보기',\n",
       " '유가 급등에 오라클 쇼크까지...나스닥 1.04%↓[뉴욕증시]\\n미국 뉴욕증시의 3대 지수는 12일(현지시간) 유가 상승, 오라클을 비롯한 기술주 부진 여파로 일제히 하락 마감했다. 시가총액 1위 기업 애플의 신형 아 …\\n\\n아시아경제\\n24개의 관련뉴스 더보기',\n",
       " \"현대차 임단협 잠정합의…기본·성과급 '역대급 인상'\\n현대자동차 노사가 12일 역대 최고 수준의 임금 인상안에 잠정 합의했다. 노조가 13일로 예고한 부분 파업을 하루 앞두고 사상 처음으로 5년 연속 무분규로 잠정 합의안을 도출했다. 현대차 노사는 이날 이동석 …\\n\\n한국경제\\n59개의 관련뉴스 더보기\",\n",
       " '[속보]테슬라 슈퍼컴 기대에 10%↑…나스닥 1.1%↑\\n투자자들이 이번주 발표될 물가보고서를 기다리는 가운데 뉴욕증시가 모처럼 일제히 상승 마감했다. 테슬라는 도입하고 있는 슈퍼컴퓨터 ‘도조’의 가치가 부상하 …\\n\\n이데일리\\n39개의 관련뉴스 더보기',\n",
       " '삼성전자, 2년 만에 디램·낸드 가격 동시 상승 기대감-KB\\nKB증권은 13일 삼성전자(005930)가 디램(DRAM)과 낸드 가격의 동시 상승세 속에 4분기 본격적인 상승 사이클을 맞을 것이라 기대했다. 투자의견 …\\n\\n이데일리\\n19개의 관련뉴스 더보기',\n",
       " '이명박 전 대통령, 경제단체 기조연설자 참석...\"사면 후 첫 공개 연설\"\\n이명박 전 대통령이 특별사면 뒤 처음으로 공개 행사 연설자로 참석해 주목을 받았습니다. 이 전 대통령은 12일 중소기업중앙회가 롯데호텔 제주에서 개최한  …\\n\\nkbc광주방송\\n15개의 관련뉴스 더보기',\n",
       " ' 추석 ‘한우 선물세트’ 인기…그런데 투뿔보다 원뿔이 더 비싸다?[경제합시다]\\n경제합시다, 시간입니다. 올 추석, 직장인들이 가장 선호하는 선물 뭘까요? 한우 선물세트라는데요. 이른바 김영란법으로 불리는 청탁금지법 시행령 개정으로  …\\n\\nKBS\\n47개의 관련뉴스 더보기',\n",
       " '추석 차례상 차림비 \"시장이 더 싸\"…서울 전통시장 24만원, 대형마트 28만원\\n서울에서 전통시장을 이용해 추석 차례상을 준비하면 대형마트를 이용할 때보다 차림비가 4만3000원 가량 저렴한 것으로 조사됐다. 서울시농수산식품공사는 서 …\\n\\n서울경제\\n67개의 관련뉴스 더보기',\n",
       " '퇴직연금으로 평생월급 만들기 위해 국회-정부 머리 맞댄다\\n퇴직연금이 국민의 평생월급으로 활용될 수 있도록 퇴직연금제도의 노후소득보장 기능 개선을 위한 정책 토론회가 열린다. 국민의힘 윤창현 의원은 고용노동부와  …\\n\\n조세일보\\n20개의 관련뉴스 더보기',\n",
       " '부동산 PF 잔액 133조…증권사 연체율 17.3% 달해\\n금융권의 부동산 프로젝트파이낸싱(PF) 대출잔액이 올해 상반기 133조원을 넘어선 것으로 나타났다. 대부분 업권에서 PF 연체율이 증가하고 있는 가운데  …\\n\\n뉴시스\\n49개의 관련뉴스 더보기',\n",
       " '동의 안했는데 가입됐다니…보험설계사들 불법영업 대거 적발\\n보험 가입 대가로 현금에 청소기 등 금품까지 제공해 금감원, 4개 보험대리점·22명 보험설계사 과태료·업무정지 보험 가입에 동의도 안 했는데 가입시키거나 …\\n\\n연합뉴스\\n13개의 관련뉴스 더보기',\n",
       " '유가 급등에 오라클 쇼크까지...나스닥 1.04%↓[뉴욕증시]미국 뉴욕증시의 3대 지수는 12일(현지시간) 유가 상승, 오라클을 비롯한 기술주 부진 여파로 일제히 하락 마감했다. 시가총액 1위 기업 애플의 신형 아 …아시아경제24개의 관련뉴스 더보기',\n",
       " \"현대차 임단협 잠정합의…기본·성과급 '역대급 인상'현대자동차 노사가 12일 역대 최고 수준의 임금 인상안에 잠정 합의했다. 노조가 13일로 예고한 부분 파업을 하루 앞두고 사상 처음으로 5년 연속 무분규로 잠정 합의안을 도출했다. 현대차 노사는 이날 이동석 …한국경제59개의 관련뉴스 더보기\",\n",
       " '[속보]테슬라 슈퍼컴 기대에 10%↑…나스닥 1.1%↑투자자들이 이번주 발표될 물가보고서를 기다리는 가운데 뉴욕증시가 모처럼 일제히 상승 마감했다. 테슬라는 도입하고 있는 슈퍼컴퓨터 ‘도조’의 가치가 부상하 …이데일리39개의 관련뉴스 더보기',\n",
       " '삼성전자, 2년 만에 디램·낸드 가격 동시 상승 기대감-KBKB증권은 13일 삼성전자(005930)가 디램(DRAM)과 낸드 가격의 동시 상승세 속에 4분기 본격적인 상승 사이클을 맞을 것이라 기대했다. 투자의견 …이데일리19개의 관련뉴스 더보기',\n",
       " '이명박 전 대통령, 경제단체 기조연설자 참석...\"사면 후 첫 공개 연설\"이명박 전 대통령이 특별사면 뒤 처음으로 공개 행사 연설자로 참석해 주목을 받았습니다. 이 전 대통령은 12일 중소기업중앙회가 롯데호텔 제주에서 개최한  …kbc광주방송15개의 관련뉴스 더보기',\n",
       " ' 추석 ‘한우 선물세트’ 인기…그런데 투뿔보다 원뿔이 더 비싸다?[경제합시다]경제합시다, 시간입니다. 올 추석, 직장인들이 가장 선호하는 선물 뭘까요? 한우 선물세트라는데요. 이른바 김영란법으로 불리는 청탁금지법 시행령 개정으로  …KBS47개의 관련뉴스 더보기',\n",
       " '추석 차례상 차림비 \"시장이 더 싸\"…서울 전통시장 24만원, 대형마트 28만원서울에서 전통시장을 이용해 추석 차례상을 준비하면 대형마트를 이용할 때보다 차림비가 4만3000원 가량 저렴한 것으로 조사됐다. 서울시농수산식품공사는 서 …서울경제67개의 관련뉴스 더보기',\n",
       " '퇴직연금으로 평생월급 만들기 위해 국회-정부 머리 맞댄다퇴직연금이 국민의 평생월급으로 활용될 수 있도록 퇴직연금제도의 노후소득보장 기능 개선을 위한 정책 토론회가 열린다. 국민의힘 윤창현 의원은 고용노동부와  …조세일보20개의 관련뉴스 더보기',\n",
       " '부동산 PF 잔액 133조…증권사 연체율 17.3% 달해금융권의 부동산 프로젝트파이낸싱(PF) 대출잔액이 올해 상반기 133조원을 넘어선 것으로 나타났다. 대부분 업권에서 PF 연체율이 증가하고 있는 가운데  …뉴시스49개의 관련뉴스 더보기',\n",
       " '동의 안했는데 가입됐다니…보험설계사들 불법영업 대거 적발보험 가입 대가로 현금에 청소기 등 금품까지 제공해 금감원, 4개 보험대리점·22명 보험설계사 과태료·업무정지 보험 가입에 동의도 안 했는데 가입시키거나 …연합뉴스13개의 관련뉴스 더보기',\n",
       " '\\n유가 급등에 오라클 쇼크까지...나스닥 1.04%↓[뉴욕증시]\\n미국 뉴욕증시의 3대 지수는 12일(현지시간) 유가 상승, 오라클을 비롯한 기술주 부진 여파로 일제히 하락 마감했다. 시가총액 1위 기업 애플의 신형 아 …\\n\\n아시아경제\\n24개의 관련뉴스 더보기\\n\\n',\n",
       " \"\\n현대차 임단협 잠정합의…기본·성과급 '역대급 인상'\\n현대자동차 노사가 12일 역대 최고 수준의 임금 인상안에 잠정 합의했다. 노조가 13일로 예고한 부분 파업을 하루 앞두고 사상 처음으로 5년 연속 무분규로 잠정 합의안을 도출했다. 현대차 노사는 이날 이동석 …\\n\\n한국경제\\n59개의 관련뉴스 더보기\\n\\n\",\n",
       " '\\n[속보]테슬라 슈퍼컴 기대에 10%↑…나스닥 1.1%↑\\n투자자들이 이번주 발표될 물가보고서를 기다리는 가운데 뉴욕증시가 모처럼 일제히 상승 마감했다. 테슬라는 도입하고 있는 슈퍼컴퓨터 ‘도조’의 가치가 부상하 …\\n\\n이데일리\\n39개의 관련뉴스 더보기\\n\\n',\n",
       " '\\n삼성전자, 2년 만에 디램·낸드 가격 동시 상승 기대감-KB\\nKB증권은 13일 삼성전자(005930)가 디램(DRAM)과 낸드 가격의 동시 상승세 속에 4분기 본격적인 상승 사이클을 맞을 것이라 기대했다. 투자의견 …\\n\\n이데일리\\n19개의 관련뉴스 더보기\\n\\n',\n",
       " '\\n이명박 전 대통령, 경제단체 기조연설자 참석...\"사면 후 첫 공개 연설\"\\n이명박 전 대통령이 특별사면 뒤 처음으로 공개 행사 연설자로 참석해 주목을 받았습니다. 이 전 대통령은 12일 중소기업중앙회가 롯데호텔 제주에서 개최한  …\\n\\nkbc광주방송\\n15개의 관련뉴스 더보기\\n\\n',\n",
       " '\\n 추석 ‘한우 선물세트’ 인기…그런데 투뿔보다 원뿔이 더 비싸다?[경제합시다]\\n경제합시다, 시간입니다. 올 추석, 직장인들이 가장 선호하는 선물 뭘까요? 한우 선물세트라는데요. 이른바 김영란법으로 불리는 청탁금지법 시행령 개정으로  …\\n\\nKBS\\n47개의 관련뉴스 더보기\\n\\n',\n",
       " '\\n추석 차례상 차림비 \"시장이 더 싸\"…서울 전통시장 24만원, 대형마트 28만원\\n서울에서 전통시장을 이용해 추석 차례상을 준비하면 대형마트를 이용할 때보다 차림비가 4만3000원 가량 저렴한 것으로 조사됐다. 서울시농수산식품공사는 서 …\\n\\n서울경제\\n67개의 관련뉴스 더보기\\n\\n',\n",
       " '\\n퇴직연금으로 평생월급 만들기 위해 국회-정부 머리 맞댄다\\n퇴직연금이 국민의 평생월급으로 활용될 수 있도록 퇴직연금제도의 노후소득보장 기능 개선을 위한 정책 토론회가 열린다. 국민의힘 윤창현 의원은 고용노동부와  …\\n\\n조세일보\\n20개의 관련뉴스 더보기\\n\\n',\n",
       " '\\n부동산 PF 잔액 133조…증권사 연체율 17.3% 달해\\n금융권의 부동산 프로젝트파이낸싱(PF) 대출잔액이 올해 상반기 133조원을 넘어선 것으로 나타났다. 대부분 업권에서 PF 연체율이 증가하고 있는 가운데  …\\n\\n뉴시스\\n49개의 관련뉴스 더보기\\n\\n',\n",
       " '\\n동의 안했는데 가입됐다니…보험설계사들 불법영업 대거 적발\\n보험 가입 대가로 현금에 청소기 등 금품까지 제공해 금감원, 4개 보험대리점·22명 보험설계사 과태료·업무정지 보험 가입에 동의도 안 했는데 가입시키거나 …\\n\\n연합뉴스\\n13개의 관련뉴스 더보기\\n\\n',\n",
       " '유가 급등에 오라클 쇼크까지...나스닥 1.04%↓[뉴욕증시]',\n",
       " \"현대차 임단협 잠정합의…기본·성과급 '역대급 인상'\",\n",
       " '[속보]테슬라 슈퍼컴 기대에 10%↑…나스닥 1.1%↑',\n",
       " '삼성전자, 2년 만에 디램·낸드 가격 동시 상승 기대감-KB',\n",
       " '이명박 전 대통령, 경제단체 기조연설자 참석...\"사면 후 첫 공개 연설\"',\n",
       " ' 추석 ‘한우 선물세트’ 인기…그런데 투뿔보다 원뿔이 더 비싸다?[경제합시다]',\n",
       " '추석 차례상 차림비 \"시장이 더 싸\"…서울 전통시장 24만원, 대형마트 28만원',\n",
       " '퇴직연금으로 평생월급 만들기 위해 국회-정부 머리 맞댄다',\n",
       " '부동산 PF 잔액 133조…증권사 연체율 17.3% 달해',\n",
       " '동의 안했는데 가입됐다니…보험설계사들 불법영업 대거 적발',\n",
       " '\\n한국 주식 팔아도 채권은 샀던 외국인들, 8월은 아니었다…왜?\\n',\n",
       " \"추석 선물 '투쁠 한우'보다 비싼 '원쁠' 세트가 50%나?\",\n",
       " '원유, 천연가스 더 오르면 \"전력 시스템 붕괴리스크 커져\"…\\'산업부 에너지위원회 위원\\'이 말하는 \\'전기료\\' 인상 요인들',\n",
       " \"미국이 금지한 바로 '그것' 나왔다…중국 도대체 무슨 수로?\"]"
      ]
     },
     "execution_count": 88,
     "metadata": {},
     "output_type": "execute_result"
    },
    {
     "data": {
      "text/plain": [
       "['https://n.news.naver.com/mnews/article/277/0005313330?sid=101',\n",
       " 'https://n.news.naver.com/mnews/article/015/0004891144?sid=101',\n",
       " 'https://n.news.naver.com/mnews/article/018/0005572832?sid=101',\n",
       " 'https://n.news.naver.com/mnews/article/018/0005573564?sid=101',\n",
       " 'https://n.news.naver.com/mnews/article/660/0000044625?sid=101',\n",
       " 'https://n.news.naver.com/mnews/article/056/0011564544?sid=101',\n",
       " 'https://n.news.naver.com/mnews/article/011/0004237057?sid=101',\n",
       " 'https://n.news.naver.com/mnews/article/123/0002315468?sid=101',\n",
       " 'https://n.news.naver.com/mnews/article/003/0012083936?sid=101',\n",
       " 'https://n.news.naver.com/mnews/article/001/0014188864?sid=101',\n",
       " 'https://n.news.naver.com/mnews/article/277/0005313330?sid=101',\n",
       " 'https://n.news.naver.com/mnews/article/015/0004891144?sid=101',\n",
       " 'https://n.news.naver.com/mnews/article/018/0005572832?sid=101',\n",
       " 'https://n.news.naver.com/mnews/article/018/0005573564?sid=101',\n",
       " 'https://n.news.naver.com/mnews/article/660/0000044625?sid=101',\n",
       " 'https://n.news.naver.com/mnews/article/056/0011564544?sid=101',\n",
       " 'https://n.news.naver.com/mnews/article/011/0004237057?sid=101',\n",
       " 'https://n.news.naver.com/mnews/article/123/0002315468?sid=101',\n",
       " 'https://n.news.naver.com/mnews/article/003/0012083936?sid=101',\n",
       " 'https://n.news.naver.com/mnews/article/001/0014188864?sid=101',\n",
       " 'https://n.news.naver.com/mnews/article/277/0005313330?sid=101',\n",
       " 'https://n.news.naver.com/mnews/article/015/0004891144?sid=101',\n",
       " 'https://n.news.naver.com/mnews/article/018/0005572832?sid=101',\n",
       " 'https://n.news.naver.com/mnews/article/018/0005573564?sid=101',\n",
       " 'https://n.news.naver.com/mnews/article/660/0000044625?sid=101',\n",
       " 'https://n.news.naver.com/mnews/article/056/0011564544?sid=101',\n",
       " 'https://n.news.naver.com/mnews/article/011/0004237057?sid=101',\n",
       " 'https://n.news.naver.com/mnews/article/123/0002315468?sid=101',\n",
       " 'https://n.news.naver.com/mnews/article/003/0012083936?sid=101',\n",
       " 'https://n.news.naver.com/mnews/article/001/0014188864?sid=101',\n",
       " 'https://n.news.naver.com/mnews/article/277/0005313330?sid=101',\n",
       " 'https://n.news.naver.com/mnews/article/015/0004891144?sid=101',\n",
       " 'https://n.news.naver.com/mnews/article/018/0005572832?sid=101',\n",
       " 'https://n.news.naver.com/mnews/article/018/0005573564?sid=101',\n",
       " 'https://n.news.naver.com/mnews/article/660/0000044625?sid=101',\n",
       " 'https://n.news.naver.com/mnews/article/056/0011564544?sid=101',\n",
       " 'https://n.news.naver.com/mnews/article/011/0004237057?sid=101',\n",
       " 'https://n.news.naver.com/mnews/article/123/0002315468?sid=101',\n",
       " 'https://n.news.naver.com/mnews/article/003/0012083936?sid=101',\n",
       " 'https://n.news.naver.com/mnews/article/001/0014188864?sid=101',\n",
       " 'https://n.news.naver.com/mnews/article/277/0005313330?sid=101',\n",
       " 'https://n.news.naver.com/mnews/article/015/0004891144?sid=101',\n",
       " 'https://n.news.naver.com/mnews/article/018/0005572832?sid=101',\n",
       " 'https://n.news.naver.com/mnews/article/018/0005573564?sid=101',\n",
       " 'https://n.news.naver.com/mnews/article/660/0000044625?sid=101',\n",
       " 'https://n.news.naver.com/mnews/article/056/0011564544?sid=101',\n",
       " 'https://n.news.naver.com/mnews/article/011/0004237057?sid=101',\n",
       " 'https://n.news.naver.com/mnews/article/123/0002315468?sid=101',\n",
       " 'https://n.news.naver.com/mnews/article/003/0012083936?sid=101',\n",
       " 'https://n.news.naver.com/mnews/article/001/0014188864?sid=101',\n",
       " 'https://n.news.naver.com/mnews/article/277/0005313330?sid=101',\n",
       " 'https://n.news.naver.com/mnews/article/015/0004891144?sid=101',\n",
       " 'https://n.news.naver.com/mnews/article/018/0005572832?sid=101',\n",
       " 'https://n.news.naver.com/mnews/article/018/0005573564?sid=101',\n",
       " 'https://n.news.naver.com/mnews/article/660/0000044625?sid=101',\n",
       " 'https://n.news.naver.com/mnews/article/056/0011564544?sid=101',\n",
       " 'https://n.news.naver.com/mnews/article/011/0004237057?sid=101',\n",
       " 'https://n.news.naver.com/mnews/article/123/0002315468?sid=101',\n",
       " 'https://n.news.naver.com/mnews/article/003/0012083936?sid=101',\n",
       " 'https://n.news.naver.com/mnews/article/001/0014188864?sid=101',\n",
       " 'https://n.news.naver.com/mnews/article/277/0005313330?sid=101',\n",
       " 'https://n.news.naver.com/mnews/article/015/0004891144?sid=101',\n",
       " 'https://n.news.naver.com/mnews/article/018/0005572832?sid=101',\n",
       " 'https://n.news.naver.com/mnews/article/018/0005573564?sid=101',\n",
       " 'https://n.news.naver.com/mnews/article/660/0000044625?sid=101',\n",
       " 'https://n.news.naver.com/mnews/article/056/0011564544?sid=101',\n",
       " 'https://n.news.naver.com/mnews/article/011/0004237057?sid=101',\n",
       " 'https://n.news.naver.com/mnews/article/123/0002315468?sid=101',\n",
       " 'https://n.news.naver.com/mnews/article/003/0012083936?sid=101',\n",
       " 'https://n.news.naver.com/mnews/article/001/0014188864?sid=101',\n",
       " 'https://n.news.naver.com/mnews/hotissue/article/055/0001089355?type=series&cid=1055771',\n",
       " 'https://n.news.naver.com/mnews/hotissue/article/055/0001089023?type=series&cid=1055771',\n",
       " 'https://n.news.naver.com/mnews/hotissue/article/055/0001088911?type=series&cid=1055771',\n",
       " 'https://n.news.naver.com/mnews/hotissue/article/055/0001088730?type=series&cid=1055771']"
      ]
     },
     "execution_count": 88,
     "metadata": {},
     "output_type": "execute_result"
    }
   ],
   "source": [
    "topic_title\n",
    "topic_link"
   ]
  },
  {
   "cell_type": "code",
   "execution_count": 39,
   "id": "83be43ea-8f35-4015-92d4-2ab8892fbb5e",
   "metadata": {},
   "outputs": [
    {
     "data": {
      "text/html": [
       "<div>\n",
       "<style scoped>\n",
       "    .dataframe tbody tr th:only-of-type {\n",
       "        vertical-align: middle;\n",
       "    }\n",
       "\n",
       "    .dataframe tbody tr th {\n",
       "        vertical-align: top;\n",
       "    }\n",
       "\n",
       "    .dataframe thead th {\n",
       "        text-align: right;\n",
       "    }\n",
       "</style>\n",
       "<table border=\"1\" class=\"dataframe\">\n",
       "  <thead>\n",
       "    <tr style=\"text-align: right;\">\n",
       "      <th></th>\n",
       "      <th>title</th>\n",
       "      <th>url</th>\n",
       "    </tr>\n",
       "  </thead>\n",
       "  <tbody>\n",
       "    <tr>\n",
       "      <th>0</th>\n",
       "      <td>\\n유가 급등에 오라클 쇼크까지...나스닥 1.04%↓[뉴욕증시]\\n미국 뉴욕증시의...</td>\n",
       "      <td>https://n.news.naver.com/mnews/article/277/000...</td>\n",
       "    </tr>\n",
       "    <tr>\n",
       "      <th>1</th>\n",
       "      <td>\\n현대차 임단협 잠정합의…기본·성과급 '역대급 인상'\\n현대자동차 노사가 12일 ...</td>\n",
       "      <td>https://n.news.naver.com/mnews/article/015/000...</td>\n",
       "    </tr>\n",
       "    <tr>\n",
       "      <th>2</th>\n",
       "      <td>\\n[속보]테슬라 슈퍼컴 기대에 10%↑…나스닥 1.1%↑\\n투자자들이 이번주 발표...</td>\n",
       "      <td>https://n.news.naver.com/mnews/article/018/000...</td>\n",
       "    </tr>\n",
       "    <tr>\n",
       "      <th>3</th>\n",
       "      <td>\\n삼성전자, 2년 만에 디램·낸드 가격 동시 상승 기대감-KB\\nKB증권은 13일...</td>\n",
       "      <td>https://n.news.naver.com/mnews/article/018/000...</td>\n",
       "    </tr>\n",
       "    <tr>\n",
       "      <th>4</th>\n",
       "      <td>\\n이명박 전 대통령, 경제단체 기조연설자 참석...\"사면 후 첫 공개 연설\"\\n이...</td>\n",
       "      <td>https://n.news.naver.com/mnews/article/660/000...</td>\n",
       "    </tr>\n",
       "    <tr>\n",
       "      <th>5</th>\n",
       "      <td>\\n 추석 ‘한우 선물세트’ 인기…그런데 투뿔보다 원뿔이 더 비싸다?[경제합시다]\\...</td>\n",
       "      <td>https://n.news.naver.com/mnews/article/056/001...</td>\n",
       "    </tr>\n",
       "    <tr>\n",
       "      <th>6</th>\n",
       "      <td>\\n추석 차례상 차림비 \"시장이 더 싸\"…서울 전통시장 24만원, 대형마트 28만원...</td>\n",
       "      <td>https://n.news.naver.com/mnews/article/011/000...</td>\n",
       "    </tr>\n",
       "    <tr>\n",
       "      <th>7</th>\n",
       "      <td>\\n퇴직연금으로 평생월급 만들기 위해 국회-정부 머리 맞댄다\\n퇴직연금이 국민의 평...</td>\n",
       "      <td>https://n.news.naver.com/mnews/article/123/000...</td>\n",
       "    </tr>\n",
       "    <tr>\n",
       "      <th>8</th>\n",
       "      <td>\\n부동산 PF 잔액 133조…증권사 연체율 17.3% 달해\\n금융권의 부동산 프로...</td>\n",
       "      <td>https://n.news.naver.com/mnews/article/003/001...</td>\n",
       "    </tr>\n",
       "    <tr>\n",
       "      <th>9</th>\n",
       "      <td>\\n동의 안했는데 가입됐다니…보험설계사들 불법영업 대거 적발\\n보험 가입 대가로 현...</td>\n",
       "      <td>https://n.news.naver.com/mnews/article/001/001...</td>\n",
       "    </tr>\n",
       "    <tr>\n",
       "      <th>10</th>\n",
       "      <td>\\n유가 급등에 오라클 쇼크까지...나스닥 1.04%↓[뉴욕증시]\\n미국 뉴욕증시의...</td>\n",
       "      <td>https://n.news.naver.com/mnews/article/277/000...</td>\n",
       "    </tr>\n",
       "    <tr>\n",
       "      <th>11</th>\n",
       "      <td>\\n현대차 임단협 잠정합의…기본·성과급 '역대급 인상'\\n현대자동차 노사가 12일 ...</td>\n",
       "      <td>https://n.news.naver.com/mnews/article/015/000...</td>\n",
       "    </tr>\n",
       "    <tr>\n",
       "      <th>12</th>\n",
       "      <td>\\n[속보]테슬라 슈퍼컴 기대에 10%↑…나스닥 1.1%↑\\n투자자들이 이번주 발표...</td>\n",
       "      <td>https://n.news.naver.com/mnews/article/018/000...</td>\n",
       "    </tr>\n",
       "    <tr>\n",
       "      <th>13</th>\n",
       "      <td>\\n삼성전자, 2년 만에 디램·낸드 가격 동시 상승 기대감-KB\\nKB증권은 13일...</td>\n",
       "      <td>https://n.news.naver.com/mnews/article/018/000...</td>\n",
       "    </tr>\n",
       "    <tr>\n",
       "      <th>14</th>\n",
       "      <td>\\n이명박 전 대통령, 경제단체 기조연설자 참석...\"사면 후 첫 공개 연설\"\\n이...</td>\n",
       "      <td>https://n.news.naver.com/mnews/article/660/000...</td>\n",
       "    </tr>\n",
       "    <tr>\n",
       "      <th>15</th>\n",
       "      <td>\\n 추석 ‘한우 선물세트’ 인기…그런데 투뿔보다 원뿔이 더 비싸다?[경제합시다]\\...</td>\n",
       "      <td>https://n.news.naver.com/mnews/article/056/001...</td>\n",
       "    </tr>\n",
       "    <tr>\n",
       "      <th>16</th>\n",
       "      <td>\\n추석 차례상 차림비 \"시장이 더 싸\"…서울 전통시장 24만원, 대형마트 28만원...</td>\n",
       "      <td>https://n.news.naver.com/mnews/article/011/000...</td>\n",
       "    </tr>\n",
       "    <tr>\n",
       "      <th>17</th>\n",
       "      <td>\\n퇴직연금으로 평생월급 만들기 위해 국회-정부 머리 맞댄다\\n퇴직연금이 국민의 평...</td>\n",
       "      <td>https://n.news.naver.com/mnews/article/123/000...</td>\n",
       "    </tr>\n",
       "    <tr>\n",
       "      <th>18</th>\n",
       "      <td>\\n부동산 PF 잔액 133조…증권사 연체율 17.3% 달해\\n금융권의 부동산 프로...</td>\n",
       "      <td>https://n.news.naver.com/mnews/article/003/001...</td>\n",
       "    </tr>\n",
       "    <tr>\n",
       "      <th>19</th>\n",
       "      <td>\\n동의 안했는데 가입됐다니…보험설계사들 불법영업 대거 적발\\n보험 가입 대가로 현...</td>\n",
       "      <td>https://n.news.naver.com/mnews/article/001/001...</td>\n",
       "    </tr>\n",
       "    <tr>\n",
       "      <th>20</th>\n",
       "      <td>유가 급등에 오라클 쇼크까지...나스닥 1.04%↓[뉴욕증시]\\n미국 뉴욕증시의 3...</td>\n",
       "      <td>https://n.news.naver.com/mnews/article/277/000...</td>\n",
       "    </tr>\n",
       "    <tr>\n",
       "      <th>21</th>\n",
       "      <td>현대차 임단협 잠정합의…기본·성과급 '역대급 인상'\\n현대자동차 노사가 12일 역대...</td>\n",
       "      <td>https://n.news.naver.com/mnews/article/015/000...</td>\n",
       "    </tr>\n",
       "    <tr>\n",
       "      <th>22</th>\n",
       "      <td>[속보]테슬라 슈퍼컴 기대에 10%↑…나스닥 1.1%↑\\n투자자들이 이번주 발표될 ...</td>\n",
       "      <td>https://n.news.naver.com/mnews/article/018/000...</td>\n",
       "    </tr>\n",
       "    <tr>\n",
       "      <th>23</th>\n",
       "      <td>삼성전자, 2년 만에 디램·낸드 가격 동시 상승 기대감-KB\\nKB증권은 13일 삼...</td>\n",
       "      <td>https://n.news.naver.com/mnews/article/018/000...</td>\n",
       "    </tr>\n",
       "    <tr>\n",
       "      <th>24</th>\n",
       "      <td>이명박 전 대통령, 경제단체 기조연설자 참석...\"사면 후 첫 공개 연설\"\\n이명박...</td>\n",
       "      <td>https://n.news.naver.com/mnews/article/660/000...</td>\n",
       "    </tr>\n",
       "    <tr>\n",
       "      <th>25</th>\n",
       "      <td>추석 ‘한우 선물세트’ 인기…그런데 투뿔보다 원뿔이 더 비싸다?[경제합시다]\\n경제...</td>\n",
       "      <td>https://n.news.naver.com/mnews/article/056/001...</td>\n",
       "    </tr>\n",
       "    <tr>\n",
       "      <th>26</th>\n",
       "      <td>추석 차례상 차림비 \"시장이 더 싸\"…서울 전통시장 24만원, 대형마트 28만원\\n...</td>\n",
       "      <td>https://n.news.naver.com/mnews/article/011/000...</td>\n",
       "    </tr>\n",
       "    <tr>\n",
       "      <th>27</th>\n",
       "      <td>퇴직연금으로 평생월급 만들기 위해 국회-정부 머리 맞댄다\\n퇴직연금이 국민의 평생월...</td>\n",
       "      <td>https://n.news.naver.com/mnews/article/123/000...</td>\n",
       "    </tr>\n",
       "    <tr>\n",
       "      <th>28</th>\n",
       "      <td>부동산 PF 잔액 133조…증권사 연체율 17.3% 달해\\n금융권의 부동산 프로젝트...</td>\n",
       "      <td>https://n.news.naver.com/mnews/article/003/001...</td>\n",
       "    </tr>\n",
       "    <tr>\n",
       "      <th>29</th>\n",
       "      <td>동의 안했는데 가입됐다니…보험설계사들 불법영업 대거 적발\\n보험 가입 대가로 현금에...</td>\n",
       "      <td>https://n.news.naver.com/mnews/article/001/001...</td>\n",
       "    </tr>\n",
       "  </tbody>\n",
       "</table>\n",
       "</div>"
      ],
      "text/plain": [
       "                                                title  \\\n",
       "0   \\n유가 급등에 오라클 쇼크까지...나스닥 1.04%↓[뉴욕증시]\\n미국 뉴욕증시의...   \n",
       "1   \\n현대차 임단협 잠정합의…기본·성과급 '역대급 인상'\\n현대자동차 노사가 12일 ...   \n",
       "2   \\n[속보]테슬라 슈퍼컴 기대에 10%↑…나스닥 1.1%↑\\n투자자들이 이번주 발표...   \n",
       "3   \\n삼성전자, 2년 만에 디램·낸드 가격 동시 상승 기대감-KB\\nKB증권은 13일...   \n",
       "4   \\n이명박 전 대통령, 경제단체 기조연설자 참석...\"사면 후 첫 공개 연설\"\\n이...   \n",
       "5   \\n 추석 ‘한우 선물세트’ 인기…그런데 투뿔보다 원뿔이 더 비싸다?[경제합시다]\\...   \n",
       "6   \\n추석 차례상 차림비 \"시장이 더 싸\"…서울 전통시장 24만원, 대형마트 28만원...   \n",
       "7   \\n퇴직연금으로 평생월급 만들기 위해 국회-정부 머리 맞댄다\\n퇴직연금이 국민의 평...   \n",
       "8   \\n부동산 PF 잔액 133조…증권사 연체율 17.3% 달해\\n금융권의 부동산 프로...   \n",
       "9   \\n동의 안했는데 가입됐다니…보험설계사들 불법영업 대거 적발\\n보험 가입 대가로 현...   \n",
       "10  \\n유가 급등에 오라클 쇼크까지...나스닥 1.04%↓[뉴욕증시]\\n미국 뉴욕증시의...   \n",
       "11  \\n현대차 임단협 잠정합의…기본·성과급 '역대급 인상'\\n현대자동차 노사가 12일 ...   \n",
       "12  \\n[속보]테슬라 슈퍼컴 기대에 10%↑…나스닥 1.1%↑\\n투자자들이 이번주 발표...   \n",
       "13  \\n삼성전자, 2년 만에 디램·낸드 가격 동시 상승 기대감-KB\\nKB증권은 13일...   \n",
       "14  \\n이명박 전 대통령, 경제단체 기조연설자 참석...\"사면 후 첫 공개 연설\"\\n이...   \n",
       "15  \\n 추석 ‘한우 선물세트’ 인기…그런데 투뿔보다 원뿔이 더 비싸다?[경제합시다]\\...   \n",
       "16  \\n추석 차례상 차림비 \"시장이 더 싸\"…서울 전통시장 24만원, 대형마트 28만원...   \n",
       "17  \\n퇴직연금으로 평생월급 만들기 위해 국회-정부 머리 맞댄다\\n퇴직연금이 국민의 평...   \n",
       "18  \\n부동산 PF 잔액 133조…증권사 연체율 17.3% 달해\\n금융권의 부동산 프로...   \n",
       "19  \\n동의 안했는데 가입됐다니…보험설계사들 불법영업 대거 적발\\n보험 가입 대가로 현...   \n",
       "20  유가 급등에 오라클 쇼크까지...나스닥 1.04%↓[뉴욕증시]\\n미국 뉴욕증시의 3...   \n",
       "21  현대차 임단협 잠정합의…기본·성과급 '역대급 인상'\\n현대자동차 노사가 12일 역대...   \n",
       "22  [속보]테슬라 슈퍼컴 기대에 10%↑…나스닥 1.1%↑\\n투자자들이 이번주 발표될 ...   \n",
       "23  삼성전자, 2년 만에 디램·낸드 가격 동시 상승 기대감-KB\\nKB증권은 13일 삼...   \n",
       "24  이명박 전 대통령, 경제단체 기조연설자 참석...\"사면 후 첫 공개 연설\"\\n이명박...   \n",
       "25  추석 ‘한우 선물세트’ 인기…그런데 투뿔보다 원뿔이 더 비싸다?[경제합시다]\\n경제...   \n",
       "26  추석 차례상 차림비 \"시장이 더 싸\"…서울 전통시장 24만원, 대형마트 28만원\\n...   \n",
       "27  퇴직연금으로 평생월급 만들기 위해 국회-정부 머리 맞댄다\\n퇴직연금이 국민의 평생월...   \n",
       "28  부동산 PF 잔액 133조…증권사 연체율 17.3% 달해\\n금융권의 부동산 프로젝트...   \n",
       "29  동의 안했는데 가입됐다니…보험설계사들 불법영업 대거 적발\\n보험 가입 대가로 현금에...   \n",
       "\n",
       "                                                  url  \n",
       "0   https://n.news.naver.com/mnews/article/277/000...  \n",
       "1   https://n.news.naver.com/mnews/article/015/000...  \n",
       "2   https://n.news.naver.com/mnews/article/018/000...  \n",
       "3   https://n.news.naver.com/mnews/article/018/000...  \n",
       "4   https://n.news.naver.com/mnews/article/660/000...  \n",
       "5   https://n.news.naver.com/mnews/article/056/001...  \n",
       "6   https://n.news.naver.com/mnews/article/011/000...  \n",
       "7   https://n.news.naver.com/mnews/article/123/000...  \n",
       "8   https://n.news.naver.com/mnews/article/003/001...  \n",
       "9   https://n.news.naver.com/mnews/article/001/001...  \n",
       "10  https://n.news.naver.com/mnews/article/277/000...  \n",
       "11  https://n.news.naver.com/mnews/article/015/000...  \n",
       "12  https://n.news.naver.com/mnews/article/018/000...  \n",
       "13  https://n.news.naver.com/mnews/article/018/000...  \n",
       "14  https://n.news.naver.com/mnews/article/660/000...  \n",
       "15  https://n.news.naver.com/mnews/article/056/001...  \n",
       "16  https://n.news.naver.com/mnews/article/011/000...  \n",
       "17  https://n.news.naver.com/mnews/article/123/000...  \n",
       "18  https://n.news.naver.com/mnews/article/003/001...  \n",
       "19  https://n.news.naver.com/mnews/article/001/001...  \n",
       "20  https://n.news.naver.com/mnews/article/277/000...  \n",
       "21  https://n.news.naver.com/mnews/article/015/000...  \n",
       "22  https://n.news.naver.com/mnews/article/018/000...  \n",
       "23  https://n.news.naver.com/mnews/article/018/000...  \n",
       "24  https://n.news.naver.com/mnews/article/660/000...  \n",
       "25  https://n.news.naver.com/mnews/article/056/001...  \n",
       "26  https://n.news.naver.com/mnews/article/011/000...  \n",
       "27  https://n.news.naver.com/mnews/article/123/000...  \n",
       "28  https://n.news.naver.com/mnews/article/003/001...  \n",
       "29  https://n.news.naver.com/mnews/article/001/001...  "
      ]
     },
     "execution_count": 39,
     "metadata": {},
     "output_type": "execute_result"
    }
   ],
   "source": [
    "# 데이터 프레임 생성\n",
    "topic_df = pd.DataFrame({'title':topic_title, 'url':topic_link})\n",
    "topic_df"
   ]
  },
  {
   "cell_type": "code",
   "execution_count": 40,
   "id": "5c1d9bc3-6c09-4c52-af05-bc2dfbf50c95",
   "metadata": {},
   "outputs": [],
   "source": [
    "topic_df.to_csv('./crawl_data/naver_news_topic.csv', index=0)"
   ]
  },
  {
   "cell_type": "code",
   "execution_count": 51,
   "id": "3494ef8a-8dee-470d-bc19-fcb9cda92a2f",
   "metadata": {},
   "outputs": [],
   "source": [
    "topic_df = pd.read_csv('./crawl_data/naver_news_topic.csv')\n",
    "# topic_df"
   ]
  },
  {
   "cell_type": "markdown",
   "id": "1bb3802e-0931-4c1f-b56d-20cff9156282",
   "metadata": {},
   "source": [
    "#### 지금까지 한 내용을 결합해서 함수로 구성\n",
    "- 현재 경제 섹션 1개에 대해서 처리했는데\n",
    "- 다른 섹션에도 적용하기 위해 함수로 구성\n",
    "- 함수면 : get_topic(url) : 섹션별 수집한 데이터를 딕셔너리로 구성후 반환\n",
    "- 반환된 딕셔너리를 데이터 프레임에 추가해서 최종 데이터 프레임 완성"
   ]
  },
  {
   "cell_type": "markdown",
   "id": "3c841df5-c1ce-4fcc-94cf-9ad45845447b",
   "metadata": {},
   "source": [
    "#### 사이트 접속해서 요청하는 방법\n",
    "(1) urllib의 request사용 : from urllib.request import urlopen\n",
    "- urlopen(url)\n",
    "<br>\n",
    "(2) requests 패키지 사용\n",
    "- requests.get(url, headers)\n",
    "- http 요청 관련 기능이 더 포함되어 있음"
   ]
  },
  {
   "cell_type": "markdown",
   "id": "4d2d0b86-c00d-4076-ae12-f33edbd6f24c",
   "metadata": {},
   "source": [
    "#### 참고\n",
    "- 접속할 때 자동화 봇으로 간주하고 연결을 끊는 경우가 발생\n",
    "- 서버에 요청시 header 구성해서\n",
    "- 내 웹 브라우저의 user-Agent정보 입력해서\n",
    "- bot이 아님을 증명해야한다.\n",
    "- header 확인\n",
    "    - 개발자 도구 - network 탭 - header 탭 맨 아래 User-Agent\n",
    "- {'User-Agent':'Mozilla/5.0 (iPhone; CPU iPhone OS 13_2_3 like Mac OS X) AppleWebKit/605.1.15 (KHTML, like Gecko) Version/13.0.3 Mobile/15E148 Safari/604.1'}"
   ]
  },
  {
   "cell_type": "code",
   "execution_count": 57,
   "id": "9842da51-57df-4392-8387-e68a9a347222",
   "metadata": {},
   "outputs": [],
   "source": [
    "import requests"
   ]
  },
  {
   "cell_type": "code",
   "execution_count": 61,
   "id": "7207e297-9c9a-4cc7-ba23-53f2bccba616",
   "metadata": {},
   "outputs": [],
   "source": [
    "# 요청 header 설정\n",
    "url = section_menu_df['link'][2]\n",
    "headers = {'User-Agent':'Mozilla/5.0 (iPhone; CPU iPhone OS 13_2_3 like Mac OS X) AppleWebKit/605.1.15 (KHTML, like Gecko) Version/13.0.3 Mobile/15E148 Safari/604.1'}\n",
    "res = requests.get(url, headers=headers)\n",
    "html = res.text\n",
    "bs_obj = bs4.BeautifulSoup(html, 'html.parser')"
   ]
  },
  {
   "cell_type": "code",
   "execution_count": 64,
   "id": "c3d46a85-78bf-466a-b567-a6463340a6ab",
   "metadata": {},
   "outputs": [],
   "source": [
    "# bs_obj"
   ]
  },
  {
   "cell_type": "code",
   "execution_count": 78,
   "id": "0305a45d-04b1-43f3-ae56-c2f0c8ff09d2",
   "metadata": {},
   "outputs": [],
   "source": [
    "# 함수로 구성\n",
    "# 섹션과 url 전달 받아서, 헤드라인 topic의 제목, 링크, 섹션 추출하여\n",
    "# 딕셔너리로 만들어 반환하는 함수\n",
    "def get_topic(url, section):\n",
    "    # 접속 및 결과 파싱\n",
    "    headers = {'User-Agent':'Mozilla/5.0 (iPhone; CPU iPhone OS 13_2_3 like Mac OS X) AppleWebKit/605.1.15 (KHTML, like Gecko) Version/13.0.3 Mobile/15E148 Safari/604.1'}\n",
    "    res = requests.get(url, headers=headers)\n",
    "    html = res.text\n",
    "    bs_obj = bs4.BeautifulSoup(html, 'html.parser')\n",
    "\n",
    "    # topic_list 추출\n",
    "    topic_list = bs_obj.findAll('div', {'class':'sh_text'})\n",
    "\n",
    "\n",
    "    # 제목, 링크 추출해서 리스트에 넣기\n",
    "    topic_title = []\n",
    "    topic_link = []\n",
    "\n",
    "    for topic in topic_list:\n",
    "        try:\n",
    "            a = topic.find('a')\n",
    "            topic_title.append(a.text.strip('\\n'))\n",
    "            topic_link.append(a['href'])\n",
    "        except:\n",
    "            print('오류발생')\n",
    "\n",
    "    # 딕셔너리 만들어서 반환\n",
    "    return ({'topic':topic_title, 'url':topic_link, 'section':section})"
   ]
  },
  {
   "cell_type": "code",
   "execution_count": 79,
   "id": "e7a97853-2f69-4f73-a11d-f535e6edc1a9",
   "metadata": {},
   "outputs": [
    {
     "data": {
      "text/plain": [
       "{'topic': ['무섭게 떨어지는 에코프로 지금이 매수 기회?',\n",
       "  '‘2조원 몸값’ 로보틱스 기대감에...아침부터 터져오른 이 회사',\n",
       "  '요소수 대란 또 오나?···中 수출 중단 소식에 롯데정밀화학 등 관련주 들썩',\n",
       "  '삼성전자, 조만간 ‘8만원대’ 온다...KB “HBM 경쟁력 덕분”'],\n",
       " 'url': ['https://n.news.naver.com/mnews/hotissue/article/024/0000084506?type=series&cid=2000013',\n",
       "  'https://n.news.naver.com/mnews/hotissue/article/024/0000084486?type=series&cid=2000013',\n",
       "  'https://n.news.naver.com/mnews/hotissue/article/024/0000084451?type=series&cid=2000013',\n",
       "  'https://n.news.naver.com/mnews/hotissue/article/024/0000084440?type=series&cid=2000013'],\n",
       " 'section': '경제'}"
      ]
     },
     "execution_count": 79,
     "metadata": {},
     "output_type": "execute_result"
    }
   ],
   "source": [
    "# 함수 테스트 : 경제 섹션 url 과 섹션 전달하고 반환 결과 확인\n",
    "url = section_menu_df['link'][2]\n",
    "test = get_topic(url, '경제')\n",
    "test"
   ]
  },
  {
   "cell_type": "code",
   "execution_count": 80,
   "id": "fd807203-f436-4733-a0da-7a2e3708cf1c",
   "metadata": {},
   "outputs": [
    {
     "data": {
      "text/plain": [
       "{'topic': ['최인호 종합건설회사 (주)유건  대표 “작은 필지부터 재정비하면 골목길 변화시킬 수 있어요”',\n",
       "  '국힘 \"‘김만배 인터뷰’ 청문회 열어야\" 민주 \"국방 장관 탄핵\"',\n",
       "  '“세계 제강공정대회 우승 계기, 철강 산업 발전 일조할 것”',\n",
       "  '여, ‘허위 인터뷰’ 배후로 이재명 대표 겨냥'],\n",
       " 'url': ['https://n.news.naver.com/mnews/hotissue/article/082/0001231935?type=series&cid=2000398',\n",
       "  'https://n.news.naver.com/mnews/hotissue/article/082/0001231744?type=series&cid=2000398',\n",
       "  'https://n.news.naver.com/mnews/hotissue/article/082/0001231717?type=series&cid=2000398',\n",
       "  'https://n.news.naver.com/mnews/hotissue/article/082/0001231536?type=series&cid=2000398'],\n",
       " 'section': '사회'}"
      ]
     },
     "execution_count": 80,
     "metadata": {},
     "output_type": "execute_result"
    }
   ],
   "source": [
    "test = get_topic(section_menu_df['link'][3], '사회')\n",
    "test"
   ]
  },
  {
   "cell_type": "code",
   "execution_count": 82,
   "id": "72276dc9-a522-41b0-af87-6b6635465b6e",
   "metadata": {},
   "outputs": [
    {
     "data": {
      "text/html": [
       "<div>\n",
       "<style scoped>\n",
       "    .dataframe tbody tr th:only-of-type {\n",
       "        vertical-align: middle;\n",
       "    }\n",
       "\n",
       "    .dataframe tbody tr th {\n",
       "        vertical-align: top;\n",
       "    }\n",
       "\n",
       "    .dataframe thead th {\n",
       "        text-align: right;\n",
       "    }\n",
       "</style>\n",
       "<table border=\"1\" class=\"dataframe\">\n",
       "  <thead>\n",
       "    <tr style=\"text-align: right;\">\n",
       "      <th></th>\n",
       "      <th>topic</th>\n",
       "      <th>url</th>\n",
       "      <th>section</th>\n",
       "    </tr>\n",
       "  </thead>\n",
       "  <tbody>\n",
       "  </tbody>\n",
       "</table>\n",
       "</div>"
      ],
      "text/plain": [
       "Empty DataFrame\n",
       "Columns: [topic, url, section]\n",
       "Index: []"
      ]
     },
     "execution_count": 82,
     "metadata": {},
     "output_type": "execute_result"
    }
   ],
   "source": [
    "# 추출하는 모든 섹션의 topic을 하나의 데이터프레임에 저장하기 위해\n",
    "# 빈 데이터프레임 생성\n",
    "# 섹션별로 이 데이터프레임에 추가(데이터프레임 결합(병합) : concat() 사용)\n",
    "# -행으로 계속 추가\n",
    "all_topic_df = pd.DataFrame({\n",
    "    'topic' : [],\n",
    "    'url':[],\n",
    "    'section':[]\n",
    "})\n",
    "all_topic_df"
   ]
  },
  {
   "cell_type": "code",
   "execution_count": 84,
   "id": "cbe1db3c-7df7-4e07-9b62-abd1a819a15d",
   "metadata": {},
   "outputs": [
    {
     "data": {
      "text/html": [
       "<div>\n",
       "<style scoped>\n",
       "    .dataframe tbody tr th:only-of-type {\n",
       "        vertical-align: middle;\n",
       "    }\n",
       "\n",
       "    .dataframe tbody tr th {\n",
       "        vertical-align: top;\n",
       "    }\n",
       "\n",
       "    .dataframe thead th {\n",
       "        text-align: right;\n",
       "    }\n",
       "</style>\n",
       "<table border=\"1\" class=\"dataframe\">\n",
       "  <thead>\n",
       "    <tr style=\"text-align: right;\">\n",
       "      <th></th>\n",
       "      <th>topic</th>\n",
       "      <th>url</th>\n",
       "      <th>section</th>\n",
       "    </tr>\n",
       "  </thead>\n",
       "  <tbody>\n",
       "  </tbody>\n",
       "</table>\n",
       "</div>"
      ],
      "text/plain": [
       "Empty DataFrame\n",
       "Columns: [topic, url, section]\n",
       "Index: []"
      ]
     },
     "execution_count": 84,
     "metadata": {},
     "output_type": "execute_result"
    }
   ],
   "source": [
    "# 참고 : 딕셔너리로 데이터 프레임 생성\n",
    "topic_dic = {}\n",
    "topic_dic['topic'] = []\n",
    "topic_dic['url'] = []\n",
    "topic_dic['section'] = []\n",
    "\n",
    "topic_dic_df = pd.DataFrame(topic_dic)\n",
    "topic_dic_df"
   ]
  },
  {
   "cell_type": "code",
   "execution_count": 94,
   "id": "e5bfc5fa-a208-4035-ad86-6192917670e7",
   "metadata": {},
   "outputs": [],
   "source": [
    "# 포맷이 동일한 섹션만 추출 : 정치, 경제, 사회, 생활/문화, IT/과학, 세계\n",
    "# 함수 반복호출하면서 결과 데이터 프레임에 행으로 추가\n",
    "# concat([결합할애들,,], axis=0 : 행으로 결합, ignore_index 기존의 df인덱스 무시(모든 행 새로운 인덱스로 설정)\n",
    "for i in range(1,7):\n",
    "    df = pd.DataFrame(get_topic(section_menu_df['link'][i], section_menu_df['section'][i]))\n",
    "    all_topic_df = pd.concat([all_topic_df,df], axis=0, ignore_index=True)\n",
    "    "
   ]
  },
  {
   "cell_type": "code",
   "execution_count": 97,
   "id": "cca949f1-c2d3-4d77-9a35-a51df5c52b3a",
   "metadata": {},
   "outputs": [],
   "source": [
    "# all_topic_df"
   ]
  },
  {
   "cell_type": "code",
   "execution_count": 100,
   "id": "0494959b-c565-4e0a-ab96-c765b4a972ca",
   "metadata": {},
   "outputs": [],
   "source": [
    "all_topic_df.to_csv('./crawl_data/naver_news_all_topic.csv')\n",
    "# all_topic_df"
   ]
  },
  {
   "cell_type": "markdown",
   "id": "e48af568-42ae-4d66-87a6-9b85ae32b2fa",
   "metadata": {},
   "source": [
    "### (2) 각 기사 상세 내용 추출  : sub 페이지 내용 추출\n",
    "- 언론사, 기사제목, 작성 날짜 시간, 기사내용, 작성자"
   ]
  },
  {
   "cell_type": "code",
   "execution_count": 101,
   "id": "96c84e20-9dbe-4d19-8252-c9894ed12980",
   "metadata": {},
   "outputs": [],
   "source": [
    "all_topic_df = pd.read_csv('./crawl_data/naver_news_all_topic.csv')"
   ]
  },
  {
   "cell_type": "code",
   "execution_count": 107,
   "id": "05212a03-1b77-4081-b213-f983ca4e7fd1",
   "metadata": {},
   "outputs": [],
   "source": [
    "# all_topic_df"
   ]
  },
  {
   "cell_type": "code",
   "execution_count": 109,
   "id": "20351e42-2771-43af-9a1a-6d57f965366b",
   "metadata": {},
   "outputs": [
    {
     "data": {
      "text/html": [
       "<div>\n",
       "<style scoped>\n",
       "    .dataframe tbody tr th:only-of-type {\n",
       "        vertical-align: middle;\n",
       "    }\n",
       "\n",
       "    .dataframe tbody tr th {\n",
       "        vertical-align: top;\n",
       "    }\n",
       "\n",
       "    .dataframe thead th {\n",
       "        text-align: right;\n",
       "    }\n",
       "</style>\n",
       "<table border=\"1\" class=\"dataframe\">\n",
       "  <thead>\n",
       "    <tr style=\"text-align: right;\">\n",
       "      <th></th>\n",
       "      <th>Unnamed: 0</th>\n",
       "      <th>topic</th>\n",
       "      <th>url</th>\n",
       "      <th>section</th>\n",
       "    </tr>\n",
       "  </thead>\n",
       "  <tbody>\n",
       "    <tr>\n",
       "      <th>0</th>\n",
       "      <td>0</td>\n",
       "      <td>이종섭 국방, 예정없던 일정 소화</td>\n",
       "      <td>https://n.news.naver.com/mnews/hotissue/articl...</td>\n",
       "      <td>정치</td>\n",
       "    </tr>\n",
       "    <tr>\n",
       "      <th>1</th>\n",
       "      <td>1</td>\n",
       "      <td>이종섭 장관 사의표명… 속내는</td>\n",
       "      <td>https://n.news.naver.com/mnews/hotissue/articl...</td>\n",
       "      <td>정치</td>\n",
       "    </tr>\n",
       "    <tr>\n",
       "      <th>2</th>\n",
       "      <td>2</td>\n",
       "      <td>북·러 정상회담, 유력 장소는?</td>\n",
       "      <td>https://n.news.naver.com/mnews/hotissue/articl...</td>\n",
       "      <td>정치</td>\n",
       "    </tr>\n",
       "    <tr>\n",
       "      <th>3</th>\n",
       "      <td>3</td>\n",
       "      <td>정권마다 달라지는 사관생도 교육</td>\n",
       "      <td>https://n.news.naver.com/mnews/hotissue/articl...</td>\n",
       "      <td>정치</td>\n",
       "    </tr>\n",
       "    <tr>\n",
       "      <th>4</th>\n",
       "      <td>4</td>\n",
       "      <td>“미국 장기채 ETF 지금 사세요” 모건스탠리 의견 뜯어보니</td>\n",
       "      <td>https://n.news.naver.com/mnews/hotissue/articl...</td>\n",
       "      <td>경제</td>\n",
       "    </tr>\n",
       "  </tbody>\n",
       "</table>\n",
       "</div>"
      ],
      "text/plain": [
       "   Unnamed: 0                              topic  \\\n",
       "0           0                 이종섭 국방, 예정없던 일정 소화   \n",
       "1           1                   이종섭 장관 사의표명… 속내는   \n",
       "2           2                  북·러 정상회담, 유력 장소는?   \n",
       "3           3                  정권마다 달라지는 사관생도 교육   \n",
       "4           4  “미국 장기채 ETF 지금 사세요” 모건스탠리 의견 뜯어보니   \n",
       "\n",
       "                                                 url section  \n",
       "0  https://n.news.naver.com/mnews/hotissue/articl...      정치  \n",
       "1  https://n.news.naver.com/mnews/hotissue/articl...      정치  \n",
       "2  https://n.news.naver.com/mnews/hotissue/articl...      정치  \n",
       "3  https://n.news.naver.com/mnews/hotissue/articl...      정치  \n",
       "4  https://n.news.naver.com/mnews/hotissue/articl...      경제  "
      ]
     },
     "execution_count": 109,
     "metadata": {},
     "output_type": "execute_result"
    }
   ],
   "source": [
    "all_topic_df.head()"
   ]
  },
  {
   "cell_type": "code",
   "execution_count": 139,
   "id": "0ce888a0-0f82-479e-99e5-5db58464bb08",
   "metadata": {},
   "outputs": [
    {
     "data": {
      "text/plain": [
       "'https://n.news.naver.com/mnews/hotissue/article/277/0005312881?type=series&cid=1064715'"
      ]
     },
     "execution_count": 139,
     "metadata": {},
     "output_type": "execute_result"
    }
   ],
   "source": [
    "# 1개의 url만 선택해서 해당 페이지의 언론사, 기사제목, 작성 날짜 시간, 기사내용, 작성자 추출 확인\n",
    "# 언론사 : <a> :media_end_head_top_logo, 이미지의 title속성값이 언론사명\n",
    "# 기사제목 :\n",
    "url = all_topic_df['url'][3]\n",
    "url"
   ]
  },
  {
   "cell_type": "code",
   "execution_count": 114,
   "id": "82a25c8c-93b9-494e-bed6-8f4ddca0f122",
   "metadata": {},
   "outputs": [],
   "source": [
    "headers = {'User-Agent':'Mozilla/5.0 (iPhone; CPU iPhone OS 13_2_3 like Mac OS X) AppleWebKit/605.1.15 (KHTML, like Gecko) Version/13.0.3 Mobile/15E148 Safari/604.1'}\n",
    "res = requests.get(url, headers=headers)\n",
    "html = res.text\n",
    "bs_obj = bs4.BeautifulSoup(html, 'html.parser')\n",
    "# bs_obj"
   ]
  },
  {
   "cell_type": "code",
   "execution_count": 116,
   "id": "b793b9a2-c98d-44c5-9918-bc114caa0b31",
   "metadata": {},
   "outputs": [
    {
     "data": {
      "text/plain": [
       "'아시아경제'"
      ]
     },
     "execution_count": 116,
     "metadata": {},
     "output_type": "execute_result"
    }
   ],
   "source": [
    "# 언론사 : <a> :media_end_head_top_logo, 이미지의 title속성값이 언론사명\n",
    "paper = bs_obj.find('a', {'class':'media_end_head_top_logo'}).select_one('img')['title']\n",
    "paper"
   ]
  },
  {
   "cell_type": "code",
   "execution_count": 122,
   "id": "426fb775-5fe8-4263-b3f1-19267db1f5f7",
   "metadata": {},
   "outputs": [
    {
     "data": {
      "text/plain": [
       "'[양낙규의 Defence Club]정권마다 달라지는 사관생도 교육'"
      ]
     },
     "execution_count": 122,
     "metadata": {},
     "output_type": "execute_result"
    }
   ],
   "source": [
    "# 기사 제목\n",
    "title = bs_obj.find('div', {'class':'media_end_head_title'}).select_one('span').text\n",
    "title"
   ]
  },
  {
   "cell_type": "code",
   "execution_count": 138,
   "id": "628d1983-c554-4337-be00-aafafdcefada",
   "metadata": {},
   "outputs": [
    {
     "data": {
      "text/plain": [
       "'[양낙규의 Defence Club]정권마다 달라지는 사관생도 교육'"
      ]
     },
     "execution_count": 138,
     "metadata": {},
     "output_type": "execute_result"
    }
   ],
   "source": [
    "# 작성 일자 및 시간\n",
    "datetime = bs_obj.find('span', {'class':'media_end_head_info_datestamp_time _ARTICLE_DATE_TIME'})\n",
    "datetime"
   ]
  },
  {
   "cell_type": "code",
   "execution_count": 140,
   "id": "a42276fe-5f56-477a-9ab1-7a07ea397d50",
   "metadata": {},
   "outputs": [
    {
     "data": {
      "text/plain": [
       "'문재인 정부때 없앤 북한학 등 필수과목육해공 사관학교 올해부터 시간 늘리기로육·해·공군사관학교가 정권이 교체될 때마다 수강필수과목을 변경해 생도들에게 혼란을 가중시킨다는 지적이다. 각군 사관학교는 문재인 전 정부에서 없앤 과목의 교육 시간과 이수 학점을 확대했거나 늘릴 계획인 것으로 나타났다.\\n\\n\\n원본보기\\n\\n[이미지출처=연합뉴스]12일 군에 따르면 12일 군에 따르면 육사는 2019년, 3사는 2021년부터 6·25전쟁사와 북한학, 군사전략 등 일부 교과목을 ‘필수’ 수강과목에서 ‘선택’ 수강과목으로 바꿨다. 미국 육사인 ‘웨스트포인트’와 일본 방위대, 프랑스 생시르 육사 등이 자국 전쟁사와 군사전략을 필수 수강과목으로 지정한 것과 대비되는 교과과정 개편이다.당시 이런 교과과정 개편은 문재인 정부 시절 육사 교수부 지휘부가 주도했으며 내부 교수진이 이의를 제기했으나 묵살된 것으로 알려졌다.육사 79기의 경우 총원 280여 명 중 절반이 넘는 190여 명이 6·25전쟁사와 북한학을 수강하지 않았고 군사전략은 210여 명이 미수강한 것도 확인됐다. 육사와 3사는 성인지력·양성평등, 교양강좌, 독서프로그램 등 교양 위주 강의를 신설해 필수 수강과목으로 지정했다.윤석열 정부들어서자 각군 사관학교는 입장을 바꿨다. 공사는 기존 8시간이던 6·25전쟁사 교육 시간을 올해 2학기부터 19시간으로 늘린 데 이어 내년 1학기부터는 21시간까지 확대하기로 했다. 해당 과목에 부여된 학점도 5학점에서 6학점으로 조정했다.해사는 ‘북한학’ 등 2개 과목을 기존 선택과목에서 모든 생도가 배워야 하는 필수과목으로 변경했다. ‘한국사’, ‘충무공과 한국 해군’, ‘해전사’ 과목에서 2~3시간(1주) 진행하던 6·25전쟁사 교육도 최대 9시간(3주)으로 늘렸다. 육군 제3사관학교는 기존 선택과목이던 ‘북한정치론’을 필수과목으로 지정했고, 6·25전쟁사 내용이 포함된 ‘군사전략론’을 신설했다. 생도들은 졸업하려면 이 과목을 반드시 이수해야 한다. 기존 ‘전쟁과 전쟁법’ 과목은 ‘6·25전쟁사’로 개편했다.학군장교(ROTC)를 양성하는 육군학생군사학교는 이달부터 11월까지 각 학군단에서 시범 교육하는 6·25전쟁사를 내년부터 정식 채택한다.각 사관학교 측은 생도들이 미래 군 리더로서 정체성과 확고한 국가·안보·역사관 확립이 필요하다는 판단에 따라 6·25전쟁사 교육을 강화한 것이라고 설명했다.지난해 국정감사에서 여당은 6·25전쟁사를 사관학교 선택과목으로 전환한 문재인 정부의 조처를 즉시 시정하라고 국방부와 각 군에 촉구한 바 있다.'"
      ]
     },
     "execution_count": 140,
     "metadata": {},
     "output_type": "execute_result"
    }
   ],
   "source": [
    "# 기사 내용\n",
    "article = bs_obj.select_one('#dic_area').text.replace('\\n','')\n",
    "article"
   ]
  },
  {
   "cell_type": "code",
   "execution_count": 142,
   "id": "c4a28a16-67e1-48b9-aec4-1ed54bc6897f",
   "metadata": {},
   "outputs": [
    {
     "data": {
      "text/plain": [
       "'양낙규 군사전문기자 if@asiae.co.kr'"
      ]
     },
     "execution_count": 142,
     "metadata": {},
     "output_type": "execute_result"
    }
   ],
   "source": [
    "# 작성자\n",
    "writer = bs_obj.find('span',{'class':'byline_s'}).text\n",
    "writer"
   ]
  },
  {
   "cell_type": "markdown",
   "id": "ef5b8a66-b5ee-4d51-b303-68aa6ae7a30a",
   "metadata": {},
   "source": [
    "## Sub 페이지 내용 추출하는 함수 작성"
   ]
  },
  {
   "cell_type": "code",
   "execution_count": null,
   "id": "4aa2ec36-5c6c-45cf-bd75-736ed24949b3",
   "metadata": {},
   "outputs": [],
   "source": [
    "# sub 페이지 추출 함수\n",
    "def get_sub_news_info(url):\n",
    "    headers = {'User-Agent':'Mozilla/5.0 (iPhone; CPU iPhone OS 13_2_3 like Mac OS X) AppleWebKit/605.1.15 (KHTML, like Gecko) Version/13.0.3 Mobile/15E148 Safari/604.1'}\n",
    "    # 빈 리스트 생성\n",
    "    paper_list, title_list, datetime_list, writing_list, writer_list = [ [] for _ in range(5) ]\n",
    "    # for _ in range(5) : _ 언더바 - 변수 없이 반복만 수행\n",
    "    \n",
    "    try:\n",
    "        res = requests.get(url, headers = headers)\n",
    "        html = res.text\n",
    "        bs_obj = bs4.BeautifulSoup(html, 'html.parser')\n",
    "\n",
    "        # 접속\n",
    "\n",
    "\n",
    "        # 언론사, 기사제목, 작성 날짜 시간, 기사 내용, 작성자 리스트 생성\n",
    "\n",
    "        paper_list.append(bs_obj.find('a', {'class':'media_end_head_top_logo'}).select_one('img')['title'])\n",
    "        title_list.append(bs_obj.find('div', {'class':'media_end_head_title'}).select_one('span').text)\n",
    "        datetime_list.append(bs_obj.find('span', {'class':'media_end_head_info_datestamp_time _ARTICLE_DATE_TIME'}))\n",
    "        writing_list.append(article = bs_obj.select_one('#dic_area').text.replace('\\n',''))\n",
    "        writer_list.append(bs_obj.find('span',{'class':'byline_s'}).text)\n",
    "\n",
    "    except:\n",
    "        print('error occurred!')\n",
    "        \n",
    "\n",
    "\n",
    "\n",
    "\n",
    "\n",
    "\n"
   ]
  }
 ],
 "metadata": {
  "kernelspec": {
   "display_name": "Python 3 (ipykernel)",
   "language": "python",
   "name": "python3"
  },
  "language_info": {
   "codemirror_mode": {
    "name": "ipython",
    "version": 3
   },
   "file_extension": ".py",
   "mimetype": "text/x-python",
   "name": "python",
   "nbconvert_exporter": "python",
   "pygments_lexer": "ipython3",
   "version": "3.11.5"
  }
 },
 "nbformat": 4,
 "nbformat_minor": 5
}
