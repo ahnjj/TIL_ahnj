{
 "cells": [
  {
   "cell_type": "markdown",
   "id": "7bb58cd0-0974-4e8c-b302-98e32c8fbb73",
   "metadata": {},
   "source": [
    "### 네이버 API 사용 "
   ]
  },
  {
   "cell_type": "code",
   "execution_count": 90,
   "id": "b10cf88f-4eeb-4c3d-87c5-1340946d0529",
   "metadata": {},
   "outputs": [],
   "source": [
    "from IPython.core.interactiveshell import InteractiveShell\n",
    "InteractiveShell.ast_node_interactivity=\"all\""
   ]
  },
  {
   "cell_type": "code",
   "execution_count": 70,
   "id": "05b2a7e8-c1d9-4961-9add-7ee27574dde8",
   "metadata": {},
   "outputs": [],
   "source": [
    "my_id =  'LtsmhCcVwG0A7jdzcpop'\n",
    "my_secret = 'WYL_fkBZRw'"
   ]
  },
  {
   "cell_type": "code",
   "execution_count": 71,
   "id": "869658ac-5b3c-4aac-b709-1b4b28c7035b",
   "metadata": {
    "scrolled": true
   },
   "outputs": [
    {
     "name": "stdout",
     "output_type": "stream",
     "text": [
      "{\n",
      "\t\"lastBuildDate\":\"Fri, 15 Sep 2023 11:30:21 +0900\",\n",
      "\t\"total\":949981,\n",
      "\t\"start\":1,\n",
      "\t\"display\":10,\n",
      "\t\"items\":[\n",
      "\t\t{\n",
      "\t\t\t\"title\":\"아이폰 사파리 텍스트 찾기 <b>단어<\\/b> <b>검색<\\/b> 방법 정리\",\n",
      "\t\t\t\"link\":\"https:\\/\\/blog.naver.com\\/jhbksgi\\/222982804031\",\n",
      "\t\t\t\"description\":\"아이폰 사파리 크롬 텍스트 찾기 <b>단어<\\/b> <b>검색<\\/b> 방법 정리 글\\/사진 : 곰T 기본적으로 컴퓨터용, 모바일용 Browser에는 '<b>검색<\\/b>' 기능이 있습니다. 그냥 <b>검색<\\/b>(Search)이라고 하면 감이 잘 오지 않을 수 있겠네요. 좀 더... \",\n",
      "\t\t\t\"bloggername\":\"곰T의 IT트러블슈팅\",\n",
      "\t\t\t\"bloggerlink\":\"blog.naver.com\\/jhbksgi\",\n",
      "\t\t\t\"postdate\":\"20230112\"\n",
      "\t\t},\n",
      "\t\t{\n",
      "\t\t\t\"title\":\"영어<b>단어<\\/b> <b>검색<\\/b>은 꼭 구글을 이용하기 네이버영어사전 vs... \",\n",
      "\t\t\t\"link\":\"https:\\/\\/blog.naver.com\\/rhyrhyrhy\\/222923284547\",\n",
      "\t\t\t\"description\":\"leave 의 뜻이라고 <b>검색<\\/b>이 됩니다. 사실 이 <b>단어<\\/b> 한개 뿐만이 아니라, 이런식으로 네이버 포털<b>검색<\\/b>으로 정확한 의미를 찾을 수 없었던 <b>단어<\\/b>들이 더 있었어요. 0 점대 레벨 도서에 나와있는 <b>단어<\\/b>들, 게다가... \",\n",
      "\t\t\t\"bloggername\":\"키즈 영어서점 중고 영어 원서 전문 (ar가입지사)\",\n",
      "\t\t\t\"bloggerlink\":\"blog.naver.com\\/rhyrhyrhy\",\n",
      "\t\t\t\"postdate\":\"20221108\"\n",
      "\t\t},\n",
      "\t\t{\n",
      "\t\t\t\"title\":\"영어 <b>단어<\\/b>로 유튜브 영상 <b>검색<\\/b>해주는 유글리쉬 사용법\",\n",
      "\t\t\t\"link\":\"https:\\/\\/blog.naver.com\\/tepet\\/222697272255\",\n",
      "\t\t\t\"description\":\"있는 분야의 핵심 <b>단어<\\/b>를 입력하면, 그 <b>단어<\\/b>가 사용된 문장이 나와주기 때문에 발음과 주로 함께 사용되는 <b>단어<\\/b>들까지 강제로 영어 공부가 된다. #영어<b>단어<\\/b> #유튜브 #영상<b>검색<\\/b> #유글리쉬 #사용법\",\n",
      "\t\t\t\"bloggername\":\"19%\",\n",
      "\t\t\t\"bloggerlink\":\"blog.naver.com\\/tepet\",\n",
      "\t\t\t\"postdate\":\"20220411\"\n",
      "\t\t},\n",
      "\t\t{\n",
      "\t\t\t\"title\":\"네이버 블로그 방문자수 늘리기 <b>검색<\\/b> <b>단어<\\/b> 확장 팁\",\n",
      "\t\t\t\"link\":\"https:\\/\\/blog.naver.com\\/gsamo\\/222899718641\",\n",
      "\t\t\t\"description\":\"오늘은 짧고 굵게 네이버 블로그 방문자수 늘리기 팁 <b>검색<\\/b> <b>단어<\\/b> 확장 방법을 공유하도록 하겠습니다. 블로그에 글은 점점 쌓이는데 방문자 수가 늘어나는 것이 더디다면 분명 이 글이 도움 될 테니 끝까지... \",\n",
      "\t\t\t\"bloggername\":\"쉽고 재밌게 즐기는 디노찌로에- IT 이야기!\",\n",
      "\t\t\t\"bloggerlink\":\"blog.naver.com\\/gsamo\",\n",
      "\t\t\t\"postdate\":\"20221014\"\n",
      "\t\t},\n",
      "\t\t{\n",
      "\t\t\t\"title\":\"한글 <b>단어<\\/b> <b>검색<\\/b> 활용하기. 단축키. 이렇게 쉬운 방법을 안쓰고... \",\n",
      "\t\t\t\"link\":\"https:\\/\\/blog.naver.com\\/zenither\\/223041954219\",\n",
      "\t\t\t\"description\":\"한글을 그렇게 오래동안 써도 <b>단어<\\/b> <b>검색<\\/b>을 해보지 않았다는 사실을 발견했네요. 바로 ctrl + F 입니다. 대소문자 구별해서 찾기, 띄어쓰기 무시 기능도 있어서 왠만한 <b>단어<\\/b>는 다 찾아집니다. 책 한권의 긴 글을... \",\n",
      "\t\t\t\"bloggername\":\"행동하는 독서 -자기변화, 자기계발, 통찰력\",\n",
      "\t\t\t\"bloggerlink\":\"blog.naver.com\\/zenither\",\n",
      "\t\t\t\"postdate\":\"20230312\"\n",
      "\t\t},\n",
      "\t\t{\n",
      "\t\t\t\"title\":\"엑셀-<b>검색<\\/b>창만들기\\/<b>단어<\\/b> <b>검색<\\/b>시 셀표시 강조하는 방법 3가지... \",\n",
      "\t\t\t\"link\":\"https:\\/\\/blog.naver.com\\/collect-data\\/223190272892\",\n",
      "\t\t\t\"description\":\"엑셀에서 <b>검색<\\/b>시 셀이 강조되게 만드는 방법인데요. 3가지 방법 모두 장,단점도 설명할게요. 첫번째 방법. 목록 만들어서 <b>검색<\\/b>하기 1-1. 순서대로 클릭 <b>검색<\\/b>이 이루어질 <b>검색<\\/b>창 클릭 → 데이터 클릭 1-2.... \",\n",
      "\t\t\t\"bloggername\":\"푸싱바 블로그(각종 정보 기록 )\",\n",
      "\t\t\t\"bloggerlink\":\"blog.naver.com\\/collect-data\",\n",
      "\t\t\t\"postdate\":\"20230906\"\n",
      "\t\t},\n",
      "\t\t{\n",
      "\t\t\t\"title\":\"2022 호주(Aussie) 사람들이 가장 많이 <b>검색<\\/b>한 <b>단어<\\/b>는... \",\n",
      "\t\t\t\"link\":\"https:\\/\\/blog.naver.com\\/alkalifa\\/222972234445\",\n",
      "\t\t\t\"description\":\"싶어서 <b>검색<\\/b>해보니 영국 웨일즈의 SW엔지니어 Josh Wardle이 만든 <b>단어<\\/b> 퀴즈 게임이었습니다. 그래서 당장 다운받아서 해보았습니다 일단 무료로 다운로드 받을 수 있습니당 워들 게임의 룰은 단순합니다... \",\n",
      "\t\t\t\"bloggername\":\"渤海人의 원더랜드\",\n",
      "\t\t\t\"bloggerlink\":\"blog.naver.com\\/alkalifa\",\n",
      "\t\t\t\"postdate\":\"20230101\"\n",
      "\t\t},\n",
      "\t\t{\n",
      "\t\t\t\"title\":\"텀블러 <b>검색<\\/b> 방법 – Tumblr 서치 사이트 <b>단어<\\/b> 추천 안전모드... \",\n",
      "\t\t\t\"link\":\"https:\\/\\/blog.naver.com\\/etcsc469\\/223027975062\",\n",
      "\t\t\t\"description\":\"안전모드 해제 관련 텀블러 <b>검색<\\/b> 사이트 텀블러 <b>검색<\\/b> 사이트 https:\\/\\/www.flaru.com\\/ 최근에 <b>검색<\\/b>한 <b>단어<\\/b>, HOT 키워드, 광고 있음 https:\\/\\/tums.io\\/ 깔끔한 전면 페이지 <b>검색<\\/b> 기능만 제공하고 있음 한국에서... \",\n",
      "\t\t\t\"bloggername\":\"서로를 배려하는 삶!\",\n",
      "\t\t\t\"bloggerlink\":\"blog.naver.com\\/etcsc469\",\n",
      "\t\t\t\"postdate\":\"20230226\"\n",
      "\t\t},\n",
      "\t\t{\n",
      "\t\t\t\"title\":\"네이버 블로그 금칙어 <b>검색<\\/b> 누락 조심하면 좋은 <b>단어<\\/b>들 모음\",\n",
      "\t\t\t\"link\":\"https:\\/\\/blog.naver.com\\/hi_kira\\/222853564187\",\n",
      "\t\t\t\"description\":\"때문에 <b>검색<\\/b> 누락이 있는걸까? 라는 의문도 들지만 소 잃고 외양간 고치는거보다는.. 잃기전에 조심하는게 좋겠죠? 아래는 제가 개인적으로 포스팅 발행하면서 금칙어 <b>단어<\\/b>에 잡혔던 <b>단어<\\/b>를 모아봤어요. 그럼... \",\n",
      "\t\t\t\"bloggername\":\"HI, KIRA\",\n",
      "\t\t\t\"bloggerlink\":\"blog.naver.com\\/hi_kira\",\n",
      "\t\t\t\"postdate\":\"20220820\"\n",
      "\t\t},\n",
      "\t\t{\n",
      "\t\t\t\"title\":\"[로스트 아크] 로아 사소한 정보 게시물 별 <b>검색<\\/b> <b>단어<\\/b>들\",\n",
      "\t\t\t\"link\":\"https:\\/\\/blog.naver.com\\/sleep-time\\/223085173688\",\n",
      "\t\t\t\"description\":\"원하시는 <b>단어<\\/b>를 복사하시고, 이후 게시물에서 <b>검색<\\/b>을 통해 찾으시면 빠르게 내용을 보실 수 있습니다. PC <b>검색<\\/b> 기능 ( Ctrl + F ) 짤막 팁 2개 블로그 창을 열어서 하나는 이 게시물, 하나는 해당 게시물을 열어서... \",\n",
      "\t\t\t\"bloggername\":\"그대가 잠든 시간\",\n",
      "\t\t\t\"bloggerlink\":\"blog.naver.com\\/sleep-time\",\n",
      "\t\t\t\"postdate\":\"20230426\"\n",
      "\t\t}\n",
      "\t]\n",
      "}\n"
     ]
    }
   ],
   "source": [
    "# 사용 예\n",
    "# 네이버 검색 API 예제 - 블로그 검색\n",
    "import os\n",
    "import sys\n",
    "import urllib.request\n",
    "client_id = my_id\n",
    "client_secret = my_secret\n",
    "encText = urllib.parse.quote(\"검색할 단어\")\n",
    "url = \"https://openapi.naver.com/v1/search/blog?query=\" + encText # JSON 결과\n",
    "# url = \"https://openapi.naver.com/v1/search/blog.xml?query=\" + encText # XML 결과\n",
    "request = urllib.request.Request(url)\n",
    "request.add_header(\"X-Naver-Client-Id\",client_id)\n",
    "request.add_header(\"X-Naver-Client-Secret\",client_secret)\n",
    "response = urllib.request.urlopen(request)\n",
    "rescode = response.getcode()\n",
    "if(rescode==200):\n",
    "    response_body = response.read()\n",
    "    print(response_body.decode('utf-8'))\n",
    "else:\n",
    "    print(\"Error Code:\" + rescode)"
   ]
  },
  {
   "cell_type": "markdown",
   "id": "0c0bf97f-4435-4f13-84e1-073f59a8aad3",
   "metadata": {},
   "source": [
    "### 네이버 오픈 API 예제 "
   ]
  },
  {
   "cell_type": "code",
   "execution_count": 72,
   "id": "e5cda69f-07ab-4d4e-ac9a-7a9fcd8dfe2b",
   "metadata": {},
   "outputs": [],
   "source": [
    "# 블로그 검색 "
   ]
  },
  {
   "cell_type": "code",
   "execution_count": null,
   "id": "6f925f90-e7b1-49ce-8993-1a53d8ea8257",
   "metadata": {},
   "outputs": [],
   "source": []
  },
  {
   "cell_type": "code",
   "execution_count": 73,
   "id": "0e1ab9e3-6b44-4323-b341-75d85fa8eee6",
   "metadata": {},
   "outputs": [],
   "source": [
    "import os \n",
    "import sys\n",
    "import urllib.request\n",
    "import pandas as pd"
   ]
  },
  {
   "cell_type": "markdown",
   "id": "bfb485a6-9731-4730-b8bc-fd4e9ae65983",
   "metadata": {},
   "source": [
    "### 요청 방법 1"
   ]
  },
  {
   "cell_type": "code",
   "execution_count": 74,
   "id": "f8079f74-7b66-441a-b95e-b49824cf13da",
   "metadata": {},
   "outputs": [
    {
     "data": {
      "text/plain": [
       "'%EA%B0%95%EB%82%A8%EC%97%AD'"
      ]
     },
     "execution_count": 74,
     "metadata": {},
     "output_type": "execute_result"
    }
   ],
   "source": [
    "# 검색할 단어 인코딩\n",
    "encText = urllib.parse.quote(\"강남역\")\n",
    "encText"
   ]
  },
  {
   "cell_type": "code",
   "execution_count": 75,
   "id": "ce802716-8d07-4421-a33c-1c9825fa3f01",
   "metadata": {},
   "outputs": [],
   "source": [
    "# url 호출하면서 인코딩된 검색어를 파라미터로 전달\n",
    "url = \"https://openapi.naver.com/v1/search/blog?query=\" + encText    # JSON결과 "
   ]
  },
  {
   "cell_type": "code",
   "execution_count": 76,
   "id": "e419e464-f07d-436b-b794-5a3d256de9e2",
   "metadata": {},
   "outputs": [],
   "source": [
    "# server로 전송\n",
    "request = urllib.request.Request(url)\n",
    "request.add_header(\"X-Naver-Client-Id\",client_id)\n",
    "request.add_header(\"X-Naver-Client-Secret\",client_secret)"
   ]
  },
  {
   "cell_type": "code",
   "execution_count": 77,
   "id": "c7582228-05be-4962-b921-26988e644a16",
   "metadata": {},
   "outputs": [
    {
     "data": {
      "text/plain": [
       "200"
      ]
     },
     "execution_count": 77,
     "metadata": {},
     "output_type": "execute_result"
    }
   ],
   "source": [
    "# server로 부터 응답 받음\n",
    "response = urllib.request.urlopen(request)\n",
    "rescode = response.getcode()\n",
    "rescode\n",
    "\n",
    "# 200 success\n",
    "# 400 Bad Request\n",
    "# 401 Unauthorized\n",
    "# 403 Forbidden\n",
    "# 404 Not Found"
   ]
  },
  {
   "cell_type": "code",
   "execution_count": 78,
   "id": "2695476d-ed16-4f6e-9e25-05709d22e269",
   "metadata": {
    "scrolled": true
   },
   "outputs": [
    {
     "name": "stdout",
     "output_type": "stream",
     "text": [
      "{\n",
      "\t\"lastBuildDate\":\"Fri, 15 Sep 2023 11:30:29 +0900\",\n",
      "\t\"total\":2138248,\n",
      "\t\"start\":1,\n",
      "\t\"display\":10,\n",
      "\t\"items\":[\n",
      "\t\t{\n",
      "\t\t\t\"title\":\"<b>강남역<\\/b>치과 밝은 미소를 바란다면\",\n",
      "\t\t\t\"link\":\"https:\\/\\/blog.naver.com\\/epal1234\\/223201782075\",\n",
      "\t\t\t\"description\":\"<b>강남역<\\/b>치과 밝은 미소를 바란다면 치아라면 본래 매우 단단한 구조이지만 예상하지 못한 사고나 잘못된... 역시 <b>강남역<\\/b> 치과를 통해 걱정을 해결해 볼 수가 있었어요. 해당 과정에서 약 1개~2개 정도의 치아에... \",\n",
      "\t\t\t\"bloggername\":\"티유치과의원✅\",\n",
      "\t\t\t\"bloggerlink\":\"blog.naver.com\\/epal1234\",\n",
      "\t\t\t\"postdate\":\"20230904\"\n",
      "\t\t},\n",
      "\t\t{\n",
      "\t\t\t\"title\":\"<b>강남역<\\/b>치과 빠른 진료를 바란다면\",\n",
      "\t\t\t\"link\":\"https:\\/\\/blog.naver.com\\/vineyardk\\/223195605133\",\n",
      "\t\t\t\"description\":\"<b>강남역<\\/b>치과 빠른 진료를 바란다면 <b>강남역<\\/b>치과의 일상을 내보내며 자기관리에 집중하지 못하고 살아온... 따라서 직므 우리는 최신식의 디지털 장비를 구하고, 이를 활용하여 강남치과에서 오차를 줄이는 방법을... \",\n",
      "\t\t\t\"bloggername\":\"자기치아살리기 삼성플란트치과의원\",\n",
      "\t\t\t\"bloggerlink\":\"blog.naver.com\\/vineyardk\",\n",
      "\t\t\t\"postdate\":\"20230828\"\n",
      "\t\t},\n",
      "\t\t{\n",
      "\t\t\t\"title\":\"<b>강남역<\\/b> 경락 좌우대칭 고민 해결~\",\n",
      "\t\t\t\"link\":\"https:\\/\\/blog.naver.com\\/nixhhm\\/223171072208\",\n",
      "\t\t\t\"description\":\"저는 앞으로 꾸준히 <b>강남역<\\/b>경락을 통해 지금보다 더 예뻐진 내 모습을 가질 수 있을 것 같아요. 저처럼 수술은 무섭고 예뻐지고 싶으신 분들은 정본에서 경락 어떠실까요? 정본 강남점 주소: 서울 강남구... \",\n",
      "\t\t\t\"bloggername\":\"홍쌤 일상\",\n",
      "\t\t\t\"bloggerlink\":\"blog.naver.com\\/nixhhm\",\n",
      "\t\t\t\"postdate\":\"20230731\"\n",
      "\t\t},\n",
      "\t\t{\n",
      "\t\t\t\"title\":\"<b>강남역<\\/b> 프라이빗 룸식당 와인 다양한 한우부티크\",\n",
      "\t\t\t\"link\":\"https:\\/\\/blog.naver.com\\/joinjaang\\/223211396483\",\n",
      "\t\t\t\"description\":\"와인 한잔 하기를 원하신다면 페어링하기 좋은 고급 한우가 함께하는 한우부티크를 찾아오시길 바란다. 강남 한우부티크 0507-1440-3442 서울특별시 서초구 서초대로78길 38 8층 <b>강남역<\\/b> 5번 출구 119m 매일 11:00 ~ 22:00\",\n",
      "\t\t\t\"bloggername\":\"하우스마켓\",\n",
      "\t\t\t\"bloggerlink\":\"blog.naver.com\\/joinjaang\",\n",
      "\t\t\t\"postdate\":\"20230914\"\n",
      "\t\t},\n",
      "\t\t{\n",
      "\t\t\t\"title\":\"<b>강남역<\\/b> 프라이빗 룸식당 회식 한우부티크 강남 고기집\",\n",
      "\t\t\t\"link\":\"https:\\/\\/blog.naver.com\\/love2dong\\/223208238011\",\n",
      "\t\t\t\"description\":\"<b>강남역<\\/b> 프라이빗 룸식당 회식 한우부티크 강남 고기집 한우부티크 · 영업시간: 매일 11:00-22:00 · 주차 가능 (근처 에이플러스 에셋타워에 주차, 1시간 무료) 벌써 곧 9월 중순이죠? 금요일 퇴근하고 강남 고기집... \",\n",
      "\t\t\t\"bloggername\":\"오늘도 Sweet 하게❤\",\n",
      "\t\t\t\"bloggerlink\":\"blog.naver.com\\/love2dong\",\n",
      "\t\t\t\"postdate\":\"20230911\"\n",
      "\t\t},\n",
      "\t\t{\n",
      "\t\t\t\"title\":\"<b>강남역<\\/b> 맛집, 역삼역 점심 먹기 좋은 중식당 신복면관!\",\n",
      "\t\t\t\"link\":\"https:\\/\\/blog.naver.com\\/santaco\\/223208082328\",\n",
      "\t\t\t\"description\":\"신복면관 서울 강남구 테헤란로4길 6 B126호 매일 11:00~22:00 <b>강남역<\\/b> 1번출구에서 1분 내로 갈 수 있는 곳이다! 위치는 아주 찾기가 쉬웠다 . <b>강남역<\\/b> 1번출구로 나와서 고개를 오른쪽으로 돌리면 큰 건물이 나오는데... \",\n",
      "\t\t\t\"bloggername\":\"매콧의 노래♥\",\n",
      "\t\t\t\"bloggerlink\":\"blog.naver.com\\/santaco\",\n",
      "\t\t\t\"postdate\":\"20230911\"\n",
      "\t\t},\n",
      "\t\t{\n",
      "\t\t\t\"title\":\"<b>강남역<\\/b>미용실 태슬컷 칼단발 가격 어몽헤어 배주희실장\",\n",
      "\t\t\t\"link\":\"https:\\/\\/blog.naver.com\\/todays_lora\\/223211715668\",\n",
      "\t\t\t\"description\":\"하면서 <b>강남역<\\/b> 어몽헤어에서 클리닉도 해보았어요 두 번째 방문이었던 <b>강남역<\\/b>미용실인데 혹시... 남겨보아요 어몽헤어 서울 강남구 봉은사로 18길 76 3층 (신논현역 6번 출구에서 352m) 10:00-19:00 매주 월\\/화 정기휴무\",\n",
      "\t\t\t\"bloggername\":\"여행 좋아하는 한량 주부\",\n",
      "\t\t\t\"bloggerlink\":\"blog.naver.com\\/todays_lora\",\n",
      "\t\t\t\"postdate\":\"20230914\"\n",
      "\t\t},\n",
      "\t\t{\n",
      "\t\t\t\"title\":\"<b>강남역<\\/b> 프라이빗 룸식당 맛집 모임 회식 장소 한우부티크\",\n",
      "\t\t\t\"link\":\"https:\\/\\/blog.naver.com\\/pinkyluv83\\/223209714210\",\n",
      "\t\t\t\"description\":\"한우부티크 <b>강남역<\\/b> 5번 출구 2분 거리 1) 영업시간 11:00 ~22:00 (라스트 오더 21:30) 2) 주차장 : 서초구 강남대로 369 에이플러스에셋 타워 주차 1시간 무료 3) 전화번호 0507-1440-3442 <b>강남역<\\/b> 5번 출구 2분 거리에 있어... \",\n",
      "\t\t\t\"bloggername\":\"Kimi의 여행일기\",\n",
      "\t\t\t\"bloggerlink\":\"blog.naver.com\\/pinkyluv83\",\n",
      "\t\t\t\"postdate\":\"20230912\"\n",
      "\t\t},\n",
      "\t\t{\n",
      "\t\t\t\"title\":\"<b>강남역<\\/b> 회식장소로 안성맞춤인 남도애찬\",\n",
      "\t\t\t\"link\":\"https:\\/\\/blog.naver.com\\/bodyrental\\/223206145615\",\n",
      "\t\t\t\"description\":\"위치 : 서울 강남구 역삼로3길 8 영업시간 : 매일 10:00~22:00 전화번호 : 02-538-1588 저희가 방문한 남도애찬은 <b>강남역<\\/b> 4번출구에서 차로 1분이면 갈 수 있었어요. 큼지막한 간판이 2개나 걸려 있어서 멀리서도 쉽게... \",\n",
      "\t\t\t\"bloggername\":\"♡JOY의 헬스케어 \\/ 일상생활♡\",\n",
      "\t\t\t\"bloggerlink\":\"blog.naver.com\\/bodyrental\",\n",
      "\t\t\t\"postdate\":\"20230908\"\n",
      "\t\t},\n",
      "\t\t{\n",
      "\t\t\t\"title\":\"자꾸 기억나는 <b>강남역<\\/b> 고기집 곱창고\",\n",
      "\t\t\t\"link\":\"https:\\/\\/blog.naver.com\\/06131010\\/223173851134\",\n",
      "\t\t\t\"description\":\"이렇듯 모듬 구이와 전골, 반찬까지 흠잡을 곳 없이 완벽했던 <b>강남역<\\/b> 고기집이라 앞으로도 자주 방문하게 될 것 같아요~ 주소: 서울 강남구 강남대로96길 11 번호: 0507-1386-0001 시간: 화~일11:30 - 01:00\\/월 11:30-23:00... \",\n",
      "\t\t\t\"bloggername\":\"오늘도 감사해요♡\",\n",
      "\t\t\t\"bloggerlink\":\"blog.naver.com\\/06131010\",\n",
      "\t\t\t\"postdate\":\"20230803\"\n",
      "\t\t}\n",
      "\t]\n",
      "}\n"
     ]
    }
   ],
   "source": [
    "# 성공한 경우\n",
    "if(rescode==200):\n",
    "    response_body = response.read()\n",
    "    print(response_body.decode('utf-8'))\n",
    "else:\n",
    "    print(\"Error Code:\" + rescode)"
   ]
  },
  {
   "cell_type": "markdown",
   "id": "17b2fc77-8a8a-458d-8697-c0fc8736fd42",
   "metadata": {},
   "source": [
    "### 요청 방법2"
   ]
  },
  {
   "cell_type": "code",
   "execution_count": 79,
   "id": "98bf37ad-eb39-4ba1-a93a-fe9d66e558a5",
   "metadata": {},
   "outputs": [],
   "source": [
    "#request.get()메소드 사용\n",
    "# header구성이 간단\n",
    "import requests\n",
    "from urllib.parse import urlparse # 한글 처리\n",
    "import urllib.parse"
   ]
  },
  {
   "cell_type": "code",
   "execution_count": 80,
   "id": "c4fee189-bffc-429d-a793-583abedc8525",
   "metadata": {},
   "outputs": [
    {
     "data": {
      "text/plain": [
       "'%EA%B0%95%EB%82%A8%EC%97%AD'"
      ]
     },
     "execution_count": 80,
     "metadata": {},
     "output_type": "execute_result"
    }
   ],
   "source": [
    "# 검색할 단어 인코딩\n",
    "keyword = urllib.parse.quote(\"강남역\")\n",
    "keyword"
   ]
  },
  {
   "cell_type": "code",
   "execution_count": 81,
   "id": "898bf97e-ce2a-46ad-849f-c0a1ed3fe943",
   "metadata": {},
   "outputs": [
    {
     "data": {
      "text/plain": [
       "'https://openapi.naver.com/v1/search/blog.json?query=%EA%B0%95%EB%82%A8%EC%97%AD'"
      ]
     },
     "execution_count": 81,
     "metadata": {},
     "output_type": "execute_result"
    }
   ],
   "source": [
    "# url\n",
    "# 기본 url\n",
    "base_url = \"https://openapi.naver.com/v1/search/blog.json?\"\n",
    "\n",
    "# request parameter : query string서버주소?파라미터명=값&파라미터명=값&.....\n",
    "param = \"query=\" + keyword\n",
    "url = base_url + param\n",
    "url"
   ]
  },
  {
   "cell_type": "code",
   "execution_count": 85,
   "id": "8cda6471-6558-4fd4-8f4b-c458ed8ed209",
   "metadata": {},
   "outputs": [
    {
     "data": {
      "text/plain": [
       "<Response [200]>"
      ]
     },
     "execution_count": 85,
     "metadata": {},
     "output_type": "execute_result"
    }
   ],
   "source": [
    "# 인증정보 Header 에 포함\n",
    "headers = {\n",
    "    \"X-Naver-Client-Id\":client_id,\n",
    "    \"X-Naver-Client-Secret\":client_secret\n",
    "}\n",
    "\n",
    "# request\n",
    "result = requests.get(url, headers=headers)\n",
    "result"
   ]
  },
  {
   "cell_type": "code",
   "execution_count": 127,
   "id": "5a6ef53a-2ab9-4509-b39b-60ddcf598724",
   "metadata": {
    "scrolled": true
   },
   "outputs": [],
   "source": [
    "# 서버로부터 결과로 받은 result parsing\n",
    "json_obj = result.json()\n",
    "# json_obj"
   ]
  },
  {
   "cell_type": "code",
   "execution_count": 87,
   "id": "55ea0bce-4cce-4654-9a91-e49f80f53798",
   "metadata": {},
   "outputs": [
    {
     "data": {
      "text/plain": [
       "dict_keys(['lastBuildDate', 'total', 'start', 'display', 'items'])"
      ]
     },
     "execution_count": 87,
     "metadata": {},
     "output_type": "execute_result"
    }
   ],
   "source": [
    "# 키확인\n",
    "json_obj.keys()"
   ]
  },
  {
   "cell_type": "code",
   "execution_count": 89,
   "id": "85da8c2d-9e0a-444d-baaa-ca379f482525",
   "metadata": {},
   "outputs": [
    {
     "data": {
      "text/plain": [
       "10"
      ]
     },
     "execution_count": 89,
     "metadata": {},
     "output_type": "execute_result"
    }
   ],
   "source": [
    "json_obj['lastBuildDate']\n",
    "json_obj['total']\n",
    "json_obj['start']\n",
    "json_obj['display']"
   ]
  },
  {
   "cell_type": "code",
   "execution_count": 229,
   "id": "4e6938cd-b4e6-45a0-99aa-24e4b9b68b4d",
   "metadata": {},
   "outputs": [
    {
     "name": "stdout",
     "output_type": "stream",
     "text": [
      "[지금 일본은] 나스토아, STS BA 인라인 조관기…고베, &quot;세계 DRI 생산 1.3억... http://www.ferrotimes.com/news/articleView.html?idxno=29446\n",
      "[안전포럼]&quot;경험하지 못한 기후재앙…재난관리책 절실&quot; https://www.mediapen.com/news/view/855230\n",
      "나동연 양산시장, 환경미화원 오찬간담회 http://www.idomin.com/news/articleView.html?idxno=834868\n",
      "&quot;추석이 두렵다&quot; 살벌한 물가에 벌벌 떠는 대한민국 https://n.news.naver.com/mnews/article/586/0000064525?sid=101\n",
      "김천시 '새콤달콤 노란 황옥' 사과 본격 출하 https://www.ajunews.com/view/20230915114926623\n",
      "[기상속보. 오늘의 날씨]전국 대부분 가끔 비, 오후부터 남부지방 소강상태! http://www.jejuilbo.net/news/articleView.html?idxno=213618\n",
      "할인 늘린 배달앱, 이용자 소폭 증가세… 주류·포장 배송 등 사업다각화도 분... https://n.news.naver.com/mnews/article/021/0002594386?sid=101\n",
      "김영철 시의원, &quot;영동대로 지하공간 복합개발 사업」, 안전 측면에서 설계 재... http://www.fntoday.co.kr/news/articleView.html?idxno=301584\n",
      "정부, 경기 둔화 '완화' 진단···'상저하고' 가능할까 https://www.thereport.co.kr/news/articleView.html?idxno=40898\n",
      "금수면 정기 이장회의 개최 http://www.seongjuro.co.kr/news/view.php?idx=52253\n"
     ]
    }
   ],
   "source": [
    "# 각 item 의 제목과 링크 추출 : <b></>태그 빼고\n",
    "for item in json_obj['items']:\n",
    "    title = item['title'].replace('<b>','').replace('</b>','')\n",
    "    link = item['link'].replace('<b>','').replace('</b>','')\n",
    "    print(title, link)"
   ]
  },
  {
   "cell_type": "markdown",
   "id": "77c2f664-5cf2-4cca-95ab-47db4b83fb96",
   "metadata": {},
   "source": [
    "### \n",
    "\n",
    "- 최대 변수 설정\n",
    "- "
   ]
  },
  {
   "cell_type": "code",
   "execution_count": 100,
   "id": "d482fc6d-bff8-40d3-9019-e1282c98ab6a",
   "metadata": {},
   "outputs": [
    {
     "data": {
      "text/plain": [
       "'https://openapi.naver.com/v1/search/blog.json?query=%EA%B0%95%EB%82%A8%EC%97%AD&display=100'"
      ]
     },
     "execution_count": 100,
     "metadata": {},
     "output_type": "execute_result"
    }
   ],
   "source": [
    "# 파라미터 설정\n",
    "keyword = urllib.parse.quote('강남역')\n",
    "num = 100\n",
    "\n",
    "# url\n",
    "# 기본 url\n",
    "base_url = \"https://openapi.naver.com/v1/search/blog.json?\"\n",
    "\n",
    "# request parameter : query string서버주소?파라미터명=값&파라미터명=값&.....\n",
    "param = \"query=\" + keyword + '&display=' + str(num)\n",
    "# 최종 Url\n",
    "url = base_url + param\n",
    "url"
   ]
  },
  {
   "cell_type": "code",
   "execution_count": 102,
   "id": "ce5d41d2-4131-4aec-acf3-c1bbc0db41a4",
   "metadata": {},
   "outputs": [
    {
     "data": {
      "text/plain": [
       "<Response [200]>"
      ]
     },
     "execution_count": 102,
     "metadata": {},
     "output_type": "execute_result"
    }
   ],
   "source": [
    "# 인증정보 Header 에 포함\n",
    "headers = {\n",
    "    \"X-Naver-Client-Id\":client_id,\n",
    "    \"X-Naver-Client-Secret\":client_secret\n",
    "}\n",
    "\n",
    "# request\n",
    "result = requests.get(url, headers=headers)\n",
    "result"
   ]
  },
  {
   "cell_type": "code",
   "execution_count": 104,
   "id": "08300f2c-229e-44a2-becb-414dc99af7ef",
   "metadata": {},
   "outputs": [
    {
     "data": {
      "text/plain": [
       "100"
      ]
     },
     "execution_count": 104,
     "metadata": {},
     "output_type": "execute_result"
    }
   ],
   "source": [
    "# requests 결과 확인\n",
    "json_obj = result.json()\n",
    "len(json_obj['items'])"
   ]
  },
  {
   "cell_type": "code",
   "execution_count": 106,
   "id": "8534e67f-491e-49d5-b2a0-3ca8040720a1",
   "metadata": {
    "scrolled": true
   },
   "outputs": [
    {
     "name": "stdout",
     "output_type": "stream",
     "text": [
      "1 강남역치과 밝은 미소를 바란다면 https://blog.naver.com/epal1234/223201782075\n",
      "2 강남역치과 빠른 진료를 바란다면 https://blog.naver.com/vineyardk/223195605133\n",
      "3 강남역 경락 좌우대칭 고민 해결~ https://blog.naver.com/nixhhm/223171072208\n",
      "4 강남역 프라이빗 룸식당 와인 다양한 한우부티크 https://blog.naver.com/joinjaang/223211396483\n",
      "5 강남역 프라이빗 룸식당 회식 한우부티크 강남 고기집 https://blog.naver.com/love2dong/223208238011\n",
      "6 강남역 맛집, 역삼역 점심 먹기 좋은 중식당 신복면관! https://blog.naver.com/santaco/223208082328\n",
      "7 강남역미용실 태슬컷 칼단발 가격 어몽헤어 배주희실장 https://blog.naver.com/todays_lora/223211715668\n",
      "8 강남역 프라이빗 룸식당 맛집 모임 회식 장소 한우부티크 https://blog.naver.com/pinkyluv83/223209714210\n",
      "9 강남역 회식장소로 안성맞춤인 남도애찬 https://blog.naver.com/bodyrental/223206145615\n",
      "10 자꾸 기억나는 강남역 고기집 곱창고 https://blog.naver.com/06131010/223173851134\n",
      "11 역대급인 강남역 삼겹살 https://blog.naver.com/instyle02/223166935751\n",
      "12 지금도 생각나는 강남역 고기집 봉우화로 https://blog.naver.com/eaenvy77/223157102810\n",
      "13 강남역 고기집 추천 구워주는 유니네! https://blog.naver.com/oppsbyeon/223187234533\n",
      "14 강남역 한우 진짜였던 남도애찬 역삼 소고기 https://blog.naver.com/bayou68/223211598416\n",
      "15 깔끔했던 강남역 고깃집 유니네 https://blog.naver.com/mundysk/223162563002\n",
      "16 강남역 혼밥 맛집 추천, 역삼동 마유유 마라탕 https://blog.naver.com/ppangsun238/223209863124\n",
      "17 강남역 파티룸 '여기'라서 가능했던 스몰 웨딩 https://blog.naver.com/vkqzhsxkdi/223211709037\n",
      "18 인상깊었던 강남역 삼겹살 https://blog.naver.com/genial82/223159761210\n",
      "19 가성비에 반한 강남역 삼겹살 https://blog.naver.com/jung4553/223168608990\n",
      "20 매력있는 강남역 고기집 교대이층집 https://blog.naver.com/clrober/223202967180\n",
      "21 강남역디저트카페 레뽀드라라 :: 비엔나 로얄 밀크티가 맛있는...  https://blog.naver.com/choongchoongchoong/223209308888\n",
      "22 처진피부 확실한 리프팅을 원한다면 강남역 피부과 여름클리닉...  https://blog.naver.com/mistymoon5/223209284356\n",
      "23 특별했던 강남역 룸식당 https://blog.naver.com/fromantic/223181047041\n",
      "24 강남역 맛집 분위기 좋은 소보키 퓨전 한식 https://blog.naver.com/brightenedu/223198312876\n",
      "25 입소문난 강남역 모임장소 봉우화로 https://blog.naver.com/eaenvy77/223197671200\n",
      "26 강남역 보쌈 맛집 1등 먹은 귀한족발 강남점 https://blog.naver.com/jjs2012c/223167292889\n",
      "27 강남역 삼겹살 육즙 팡팡 봉우이층집 https://blog.naver.com/skystar112/223169833659\n",
      "28 강남역디저트맛집 스콘이 찐맛이었던 레뽀드라라 https://blog.naver.com/ssongjiyo/223208665958\n",
      "29 비교불가인 강남역 룸식당 https://blog.naver.com/soojini65/223205786221\n",
      "30 강남역 밥집 근사한 숙성 한우구이 점심 청담등심 https://blog.naver.com/sensenlebo/223211324765\n",
      "31 강남역 고깃집, 가성비 좋은 동두천솥뚜껑삼겹살 https://blog.naver.com/viphsh88/223210696916\n",
      "32 육질이 남다른 강남역 고깃집 유니네고깃간 https://blog.naver.com/fairylamp_/223172742459\n",
      "33 완벽한 한상 강남역 한정식 노랑저고리 https://blog.naver.com/dkdaf/223190418620\n",
      "34 감탄했던 강남역 회식장소 https://blog.naver.com/cotton1121/223189683799\n",
      "35 [강남역 술집 추천] 강남역 회식하기 딱 좋은 어로선 목로집...  https://blog.naver.com/jihyunclaire/223209470821\n",
      "36 강남역 헬스장 추천합니다 https://blog.naver.com/fullofblue/223202053145\n",
      "37 또 가고싶은 강남역 고기맛집 https://blog.naver.com/cocorihyun/223199892988\n",
      "38 강남역 왁싱 30분만에 빠르게 ✨ 슈퍼왁싱 강남 https://blog.naver.com/dondon_choco/223201946765\n",
      "39 강남역 프라이빗 룸식당... 고급스럽고 조용한 강남역 고기집 https://blog.naver.com/hand4444/223211093896\n",
      "40 &quot;유니네 고깃간&quot; 강남역 고기 맛집! 고기 구워주는 곳! https://blog.naver.com/lakiruky/223187163799\n",
      "41 강남역 저녁 맛집 은행골 강남점 혼밥 가능, 밥이 맛있는 스시...  https://blog.naver.com/le_mong98/223204349916\n",
      "42 강남 점심 맛집,강남역 회식장소,'은행골 강남점' 초밥 https://blog.naver.com/rizet/223210440803\n",
      "43 강남 블랙스테이크, 강남역 스테이크 레스토랑 후기 https://blog.naver.com/k_jieunee/223207758267\n",
      "44 강남역 술집 |  조개술찜 맛집 강남역 하이볼 '강남비치' https://blog.naver.com/sally9476/223208789680\n",
      "45 강남 블랙스테이크 레스토랑 강남역 소개팅 돌판에 굽는 와규...  https://blog.naver.com/enzywu/223209801488\n",
      "46 강남역 필라테스 감탄이 나오는 체형교정 후기 https://blog.naver.com/joyjoy0315/223191128946\n",
      "47 강남역 스시류 평일점심 내돈산찐후기 ~ https://blog.naver.com/ssongjiyo/223205309468\n",
      "48 강남역 귓볼 피어싱 심미안피어싱 https://blog.naver.com/sopranosol/223211667146\n",
      "49 강남역 미용실 어몽헤어에서 클리닉 후기 ft.남희영 디자이너 https://blog.naver.com/mj100600/223199959149\n",
      "50 [강남역 냉삼/삼겹살] 냉삼 맛집 추천 &lt;라라식당&gt; https://blog.naver.com/yang7192/223209003872\n",
      "51 강남역미용실 레이어드컷 망한머리 구원투수 써니실장...  https://blog.naver.com/sh_epl/223210208763\n",
      "52 강남역 미용실 추천 ♀️ 박준뷰티랩 강남역점 연우실장 https://blog.naver.com/dondon_choco/223207026206\n",
      "53 강남역 막창 더막창스 강남본점 핫플인 이유! https://blog.naver.com/booms2014/223206671658\n",
      "54 강남역 고기집 추천 유니네 고깃간 소금구이 한판 https://blog.naver.com/kikihyeji/223183511884\n",
      "55 강남역 고깃집 청렴했던 곱창고 https://blog.naver.com/loveyaon/223185965835\n",
      "56 강남역코인노래방 쾌적하고 음질, 시설 만족 200% https://blog.naver.com/immerm/223209548741\n",
      "57 강남역 탕수육 / 더탕수육... 왕갈비 짬뽕 강남역 맛집 + 생맥주 https://blog.naver.com/bright_kwon/223209104128\n",
      "58 강남역 12번출구 갓덴스시 : 언제나 한결같이 약속장소로 좋은곳 https://blog.naver.com/p0pp0/223207571819\n",
      "59 강남역 맛집 소보키 강남점 양도 맛도 좋은 한식주점 추천 https://blog.naver.com/wiz_js/223196615375\n",
      "60 강남역맛집 고급진 점심 만난 고깃집 육목원, 돼지갈비와...  https://blog.naver.com/miki0405/223209517991\n",
      "61 강남역 무한리필 고기집 헬로브라질 슈하스코 디너 https://blog.naver.com/soesee/223206716876\n",
      "62 강남역 샌드위치 위트앤미트 강남점 https://blog.naver.com/plastic100/223208213460\n",
      "63 [강남역 미용실 추천] 중단발 복구펌 뿌리염색 후기 https://blog.naver.com/alice8820/223208256428\n",
      "64 [강남역]알베르/숲 속에 있는 분위기의 강남논현 카페 https://blog.naver.com/donas/223208995971\n",
      "65 가성비 좋은 강남역 근처 고기맛집 내돈내산 &quot;유니네고깃간&quot; https://blog.naver.com/ddunstories/223183652743\n",
      "66 강남역 한우 오마카세_우시야 역삼점 B코스 우마카세 후기 https://blog.naver.com/milkcreamcheese_/223210312987\n",
      "67 강남역미용실 어몽헤어 배주희실장 빌드펌 https://blog.naver.com/jjung7273/223206785728\n",
      "68 [강남통닭호프] 강남역치킨 추천 메뉴/가격 https://blog.naver.com/eru13/223206326270\n",
      "69 강남역 생일파티 장소, 예쁜 파티룸이 있는 플레이 뮤직타운! https://blog.naver.com/viphsh88/223209036228\n",
      "70 강남역 피부과 종아리캇 지방분해주사 후기 https://blog.naver.com/sumr2002/223211336576\n",
      "71 강남역 맛집 역삼역 술집 신복면관 생각보다 너무 괜찮았던집 https://blog.naver.com/ldh__3239/223208046688\n",
      "72 평일 저녁 데이트, 강남역 혼밥하기 좋은 한식집, 1992 덮밥...  https://blog.naver.com/coco120528/223211255650\n",
      "73 강남역 혼술 강남 혼밥 가능한 은행골 강남점 다녀왔어요! https://blog.naver.com/rice_cap/223207059991\n",
      "74 강남역 카페 디저트 맛있는 썸띵어바웃커피 https://blog.naver.com/qufzhd12/223193322209\n",
      "75 [강남술집 야다이] 오뎅나베 먹으러 강남역 이자카야 https://blog.naver.com/eru13/223210840909\n",
      "76 강남역인테리어학원 스케치부터 체계적으로 배우기! https://blog.naver.com/kumh/223210583046\n",
      "77 잡내없이 깔끔했던 강남역 삼겹살 https://blog.naver.com/anjigo/223184364662\n",
      "78 강남역 소형의원 임대 추천  정신과 애니타워빌딩 https://blog.naver.com/pybboss/223211425178\n",
      "79 미국식 요리 82올리언즈강남점 핫플 강남역맛집 https://blog.naver.com/black585/223210970044\n",
      "80 베트남이랑 , 강남역 쌀국수 https://blog.naver.com/toyo137/223208246278\n",
      "81 강남역 퍼스널컬러 이안컬러랩 겨울브라이트 쿨톤 측정 후기 https://blog.naver.com/star_kelly/223210808407\n",
      "82 강남역 맛집 역삼역 데이트 신복면관 강남점 https://blog.naver.com/suny0816/223208730626\n",
      "83 오랜만에 먹어도 맛있는 강남역 뽕족 https://blog.naver.com/minjee1209/223206090346\n",
      "84 강남역 맛집 안주가 다양하고 맛있는 한식주점 소보키 https://blog.naver.com/kangsy0203/223198375874\n",
      "85 매력넘치던 강남역 한식 맛집 청기와타운 https://blog.naver.com/whekrk/223170969136\n",
      "86 강남역 노티드 https://blog.naver.com/renaiwoman/223209655842\n",
      "87 좋은 추억 남기기 좋았던 돌잔치 강남역 상견례 노랑저고리 https://blog.naver.com/design_ggarihan/223190408527\n",
      "88 강남역 회식하기 좋은 해산물 포차 어로선목로집 https://blog.naver.com/padamnara/223207463460\n",
      "89 [ 봉우화로 ] 가성비 좋은 강남역 고기집 추천 / 항아리냉면이...  https://blog.naver.com/baby660780/223207468462\n",
      "90 강남역 수미정/맛과 가격 모두 잘 잡은 밥집 https://blog.naver.com/sagak815/223122659534\n",
      "91 &quot;곱창고&quot; 강남역 고기 맛집! 곱창 맛있는 곳! https://blog.naver.com/sangil00/223193967731\n",
      "92 강남역 미용실 추천 @ 엥비떼헤어 신논현점 - 딥애쉬 염색 후기 https://blog.naver.com/tlsdn4621/223210534018\n",
      "93 강남역 어린이 도서관, 서초청소년도서관 https://blog.naver.com/bjin0710/223211918339\n",
      "94 베라를 뛰어넘을 강남역 숨은 젤라또 맛집 '누볼라' https://blog.naver.com/kimsso333/223209044162\n",
      "95 강남역 카페 밀크티 스콘 맛집 레뽀드라라 강남점 https://blog.naver.com/woops32/223208775973\n",
      "96 강남역 증명사진 맛집 &lt;레코디드&gt; 갔다온 후기! https://blog.naver.com/susie0106/223209624145\n",
      "97 강남역 생일파티하기 최고인 디엠,큐브 강남점 https://blog.naver.com/dahey772/223206004005\n",
      "98 동경빌딩 임대  강남역 대로변 대형 사무실 전용120 https://blog.naver.com/pybboss/223208540655\n",
      "99 강남역(신논현역)구구당,알베르 https://blog.naver.com/blessingmommy/223206882972\n",
      "100 강남역 디저트로 승부하는 이색 카페 타르타르 https://blog.naver.com/dudghk4170/223212084210\n"
     ]
    }
   ],
   "source": [
    "# 인덱싱해서 전부(100개) 결과 출력\n",
    "for i, item in enumerate(json_obj['items']):\n",
    "    print(i+1, item['title'].replace('<b>','').replace('</b>',''), item['link'])"
   ]
  },
  {
   "cell_type": "markdown",
   "id": "84279194-5d5b-41b9-b777-54ba24ca1d46",
   "metadata": {},
   "source": [
    "## keyword와 display (보여줄 개수) 변경해서 검색\n",
    "- 서울역, 5개 출력 "
   ]
  },
  {
   "cell_type": "code",
   "execution_count": 109,
   "id": "4c6264be-b790-4e04-92d4-91aab17ed872",
   "metadata": {},
   "outputs": [],
   "source": [
    "keyword = urllib.parse.quote('서울역')\n",
    "num = 5\n",
    "\n",
    "param = \"query=\" + keyword + \"&display=\" + str(num)\n",
    "url = base_url + param\n",
    "\n",
    "# dycjd\n",
    "result = requests.get(url, headers=headers)\n",
    "json_obj = result.json()"
   ]
  },
  {
   "cell_type": "code",
   "execution_count": 112,
   "id": "a115d1e2-689a-4639-a209-166a42fdc01d",
   "metadata": {
    "scrolled": true
   },
   "outputs": [],
   "source": [
    "# json_obj"
   ]
  },
  {
   "cell_type": "markdown",
   "id": "a8cf9e55-c801-4e58-a6fc-1a2004aa6701",
   "metadata": {},
   "source": [
    "### \n",
    "- 결과 최대 100개\n",
    "- 100개 이상  수집하려면 페이지(start) 이동하면서 여러번 호출해야함\n",
    "- 함수로 구현해놓고 여러번 호출해서 사용\n",
    "-  get_api_result(keyword, display)"
   ]
  },
  {
   "cell_type": "code",
   "execution_count": 136,
   "id": "44069647-5142-4d69-8c7d-8502321655d5",
   "metadata": {},
   "outputs": [],
   "source": [
    "# keyword(검색어)와 display(검색 결과 수) 전달받아서\n",
    "# API 호출 결과를 반환하는 함수\n",
    "def get_api_result(keyword,display):\n",
    "    # id, secret\n",
    "    client_id = 'LtsmhCcVwG0A7jdzcpop'\n",
    "    client_secret = 'WYL_fkBZRw'\n",
    "\n",
    "    # keyword\n",
    "    keyword = urllib.parse.quote(keyword)\n",
    "\n",
    "    # requests url + param\n",
    "    base_url = \"https://openapi.naver.com/v1/search/blog.json?\"\n",
    "    param = \"query=\" + keyword + '&display=' + str(display)      #parameter : query string서버주소?파라미터명=값&파라미터명=값&.....\n",
    "    url = base_url + param        # 최종 url\n",
    "\n",
    "    # headers 인증 정보\n",
    "    headers = {\n",
    "    \"X-Naver-Client-Id\":client_id,\n",
    "    \"X-Naver-Client-Secret\":client_secret\n",
    "    }\n",
    "\n",
    "    # 요청 및 결과 반환\n",
    "    result = requests.get(url, headers=headers)\n",
    "\n",
    "    # json 변환\n",
    "    json_obj = result.json()\n",
    "\n",
    "    return json_obj\n",
    "    "
   ]
  },
  {
   "cell_type": "code",
   "execution_count": 137,
   "id": "83ca581d-1bf6-4cb6-9b0c-9bfbed6b9306",
   "metadata": {
    "scrolled": true
   },
   "outputs": [],
   "source": [
    "# 함수 호출 및 결과 확인\n",
    "keyword = \"장마\"\n",
    "display = 15\n",
    "json_obj = get_api_result(keyword, display)\n",
    "# json_obj"
   ]
  },
  {
   "cell_type": "code",
   "execution_count": 138,
   "id": "14d274d5-82ef-4219-9e7f-d654b62add40",
   "metadata": {},
   "outputs": [
    {
     "data": {
      "text/plain": [
       "15"
      ]
     },
     "execution_count": 138,
     "metadata": {},
     "output_type": "execute_result"
    }
   ],
   "source": [
    "len(json_obj['items'])"
   ]
  },
  {
   "cell_type": "markdown",
   "id": "66ed7f80-4c96-41c3-b209-07cd4a237037",
   "metadata": {},
   "source": [
    "#### 검색 결과 페이징하기\n",
    "- 현재 검색 결과 : 1~100개 (요청 파라미터 : start = 1)\n",
    "- 1~500개 추출하려면\n",
    "    - 1~100\n",
    "    - 101~200 ... 100개씩\n",
    "- 시작 값을 변경하려면\n",
    "- 요청 파라미터값 start"
   ]
  },
  {
   "cell_type": "code",
   "execution_count": 129,
   "id": "1b2c3d4f-5b64-4b5b-898e-bdaeb315d209",
   "metadata": {},
   "outputs": [],
   "source": [
    "# headers 인증 정보\n",
    "headers = {\n",
    "\"X-Naver-Client-Id\":client_id,\n",
    "\"X-Naver-Client-Secret\":client_secret\n",
    "}"
   ]
  },
  {
   "cell_type": "code",
   "execution_count": 233,
   "id": "22716779-10bf-4c06-8ae2-1724c212e256",
   "metadata": {},
   "outputs": [],
   "source": [
    "# get_api_result()함수 수정\n",
    "# 시작 페이지 지정 : start 파라미터\n",
    "def get_api_result(keyword,display,start):\n",
    "    # id, secret\n",
    "    client_id = 'LtsmhCcVwG0A7jdzcpop'\n",
    "    client_secret = 'WYL_fkBZRw'\n",
    "\n",
    "    # keyword\n",
    "    keyword = urllib.parse.quote(keyword)\n",
    "\n",
    "    # requests url + param\n",
    "    base_url = \"https://openapi.naver.com/v1/search/blog.json?\"\n",
    "    param = \"query=\" + keyword + \\\n",
    "            \"&display=\" + str(display) +\\\n",
    "            \"&start=\" + str(start)\n",
    "    url = base_url + param        # 최종 url\n",
    "\n",
    "    # headers 인증 정보는 위에 썼으니까 생략\n",
    "\n",
    "    # 요청 및 결과 반환\n",
    "    result = requests.get(url, headers=headers)\n",
    "\n",
    "    # json 변환\n",
    "    json_obj = result.json()\n",
    "\n",
    "    return json_obj\n",
    "    "
   ]
  },
  {
   "cell_type": "code",
   "execution_count": 140,
   "id": "c4647dd4-c5c1-4e2e-8f29-1c1bd10282dc",
   "metadata": {},
   "outputs": [
    {
     "data": {
      "text/plain": [
       "{'lastBuildDate': 'Fri, 15 Sep 2023 13:17:39 +0900',\n",
       " 'total': 3095805,\n",
       " 'start': 5,\n",
       " 'display': 50,\n",
       " 'items': [{'title': '<b>장마</b> 후 폭염, ‘어떡해요!’ 보다 ‘어떤 대응’이 중요한 때!',\n",
       "   'link': 'https://blog.naver.com/rda2448/223168695998',\n",
       "   'description': '▲ 한 달여 이어진 올해 <b>장마</b>가 7월 26일 기준으로 공식 종료됐습니다. 지난 6월 25일 제주와 중부 지방을 시작으로 한 달여 이어진 올해 <b>장마</b>가 7월 26일 기준으로 공식 종료됐습니다. 올해 <b>장마</b> 기간 전국 평균... ',\n",
       "   'bloggername': \"농촌진흥청 블로그 '농다락'\",\n",
       "   'bloggerlink': 'blog.naver.com/rda2448',\n",
       "   'postdate': '20230728'},\n",
       "  {'title': '주택화재보험 <b>장마</b> 호우주의보 누수 챙기기!',\n",
       "   'link': 'https://blog.naver.com/lilac_queen/223155774718',\n",
       "   'description': '주택화재보험에서 <b>장마</b>와 호우주의보를 대비하여 풍수재해 특약을 넣는 것도 좋은데요 작년에... 주택화재보험 <b>장마</b> 호우주의보 누수를 챙겨보셨으면 하는 바램으로 이 글을 썼습니다 한참 호남 지방에는 <b>장마</b>... ',\n",
       "   'bloggername': 'ORVIETER',\n",
       "   'bloggerlink': 'blog.naver.com/lilac_queen',\n",
       "   'postdate': '20230714'},\n",
       "  {'title': '<b>장마</b>후 세탁기통세척-르주르 세탁기클렌저 사용후기',\n",
       "   'link': 'https://blog.naver.com/nayoung520/223204092994',\n",
       "   'description': '<b>장마</b>가 끝나고 해야 할일 세탁조 청소하기 꿉꿉한 <b>장마</b>가 지나가고 맑게 개인 하늘이 참 예쁜 요즘이에요. <b>장마</b>가 끝나고 미뤄두았던 세탁조를 청소하고 기분 좋게 쌓아놓은 세탁물도 빨아보았습니다. 세탁조... ',\n",
       "   'bloggername': \"nana's diary\",\n",
       "   'bloggerlink': 'blog.naver.com/nayoung520',\n",
       "   'postdate': '20230906'},\n",
       "  {'title': '<b>장마</b>로 초조한 사람들 (2006.07.16)',\n",
       "   'link': 'https://blog.naver.com/fendee/223209939305',\n",
       "   'description': '2006-07-16 01:00:09 <b>장마</b>로 초조한 사람들 사계절이 뚜렷한 대한민국 고유의 계절적 특성이 점점 사라지고 아열대성 기후로 변해간다는 소리와 함께, 매년 여름이면 게릴라성 집중호우로 산사태의 발생 위험이... ',\n",
       "   'bloggername': 'Guitar Blossom',\n",
       "   'bloggerlink': 'blog.naver.com/fendee',\n",
       "   'postdate': '20230913'},\n",
       "  {'title': '호박전 만들기 부침가루 없는 무수분 레시피 가을<b>장마</b>요리',\n",
       "   'link': 'https://blog.naver.com/kehkhk/223198587502',\n",
       "   'description': '여름<b>장마</b> 혹은 비가 오는 날 또는 가을<b>장마</b>요리로 해 먹기 딱 좋은 메뉴이기도 하는데요 밀가루나 부침가루의 농도를 잘 맞추지 못해서 뭔가 맘에 안든다면 요렇게 한번 따라해보세요 호박 자체의... ',\n",
       "   'bloggername': '영양사 오렌지버거의 영양 식재료 한 스푼',\n",
       "   'bloggerlink': 'blog.naver.com/kehkhk',\n",
       "   'postdate': '20230905'},\n",
       "  {'title': '2차우기 아님 가을 <b>장마</b>?',\n",
       "   'link': 'https://blog.naver.com/sanbbaram/223188386516',\n",
       "   'description': '원리와 일반 사항: 동아시아에서는 <b>장마</b>라고 불리는 일정 기간 동안 비가 내리는 시간이 있음. 한국의... &lt;1971~2000 전국 60개 지점 월평균 강수량&gt; 약 한달간 이어지는 <b>장마</b>가 끝나면 불볕더위가 이어지고 간간이... ',\n",
       "   'bloggername': '윤가네 자연벌꿀 (귀농 준비중인 도시민)',\n",
       "   'bloggerlink': 'blog.naver.com/sanbbaram',\n",
       "   'postdate': '20230820'},\n",
       "  {'title': '천연섬유유연제 <b>장마</b> 이기는 향긋한 빨래',\n",
       "   'link': 'https://blog.naver.com/ivoryegg/223158973430',\n",
       "   'description': '냄새와의 전쟁을 피할 수 없는 <b>장마</b>, 덥고 습한 날씨가 벌써 3주째 이어지다 보니 집안에 퀴퀴하고... <b>장마</b>철 냄새 없이 향긋한 빨래를 할 수 있는 천연섬유유연제 제대로 사용하는 방법을 알려드릴게요!... ',\n",
       "   'bloggername': '기승전챔',\n",
       "   'bloggerlink': 'blog.naver.com/ivoryegg',\n",
       "   'postdate': '20230717'},\n",
       "  {'title': '올해 <b>장마</b> 시작 시기 알고 대비 할려면',\n",
       "   'link': 'https://blog.naver.com/troilos/223125824720',\n",
       "   'description': '올해 <b>장마</b> 시작 시기 알고 미리 대비 할려면 안녕하세요, 여러분! 오늘은 대한민국 2023년 <b>장마</b>를 예측해보려 합니다. <b>장마</b>는 우리 나라에서 매년 6월부터 7월 중순까지 이어지는 기간으로, 이는 비가 가장 많이... ',\n",
       "   'bloggername': '블로그하는 경제비둘기',\n",
       "   'bloggerlink': 'blog.naver.com/troilos',\n",
       "   'postdate': '20230611'},\n",
       "  {'title': '[M.E.T TIP] <b>장마</b>·폭염·태풍 ‘3연타’…하늘로 솟구친... ',\n",
       "   'link': 'https://metservice.kr/75369',\n",
       "   'description': 'M.E.T/M.E.T Tip [M.E.T TIP] <b>장마</b>·폭염·태풍 ‘3연타’…하늘로 솟구친 밥상 물가 (주)엠이티 M.E.T Co.,Ltd 2023. 8. 14. 09:36 안녕하세요~(주)엠이티입니다. 최근에 폭염부터, <b>장마</b>, 태풍까지 3연타를 맞은... ',\n",
       "   'bloggername': '엠이티 블로그 | M.E.T',\n",
       "   'bloggerlink': 'https://metservice.kr/',\n",
       "   'postdate': '20230814'},\n",
       "  {'title': '♡필터포유 발수코팅 자동차와이퍼로 가을<b>장마</b> 대비♡',\n",
       "   'link': 'https://blog.naver.com/leeye1985/223196162295',\n",
       "   'description': '올해는 전국적으로 집중되는 폭우로 인해서 많은 피해를 봤죠.ㅠ 그런데 2차<b>장마</b>까지 이어진다고 하네요. 뒤늦은 태풍과 가을<b>장마</b>로 아직까지 비가 많이 내릴 예정인데요. 정말 심한 폭우에 운전을 해보니까... ',\n",
       "   'bloggername': '잭슨과나',\n",
       "   'bloggerlink': 'blog.naver.com/leeye1985',\n",
       "   'postdate': '20230829'},\n",
       "  {'title': '추석 농산물 물가는 극한 <b>장마</b>때부터 예상되었다.',\n",
       "   'link': 'https://blog.naver.com/j5875998/223203885615',\n",
       "   'description': '극한 <b>장마</b>가 오랫동안 지배한 계절에, 농민의 시선은 그 후폭풍인 결과인 추석 물가를 우려하였다. 원인에 대한 분석과 진단을 하더라도, 축적된 원인의 한계로 처방이 어려운 &quot;눈뜨고 당하는 실정&quot;을 맞는다.... ',\n",
       "   'bloggername': '이든농 ( 어질고 착한 농민의 꿈 )',\n",
       "   'bloggerlink': 'blog.naver.com/j5875998',\n",
       "   'postdate': '20230906'},\n",
       "  {'title': '로또 예상번호 1074회 <b>장마</b>를보내며',\n",
       "   'link': 'https://blog.naver.com/mistarno1/223139640389',\n",
       "   'description': '벌써부터 <b>장마</b>가 시작됐는데 준비 잘 하셔서 <b>장마</b>기간 잘 보내시기를 바라겠습니다. 매주 포스팅을 할때마다 참고하시라고 말씀을 드리는부분이 있습니다. 포스팅에서 알려드리고 있는 번호들은 개인적으로... ',\n",
       "   'bloggername': '초록꿈',\n",
       "   'bloggerlink': 'blog.naver.com/mistarno1',\n",
       "   'postdate': '20230627'},\n",
       "  {'title': '가을<b>장마</b>속 마실길-무룡,진동',\n",
       "   'link': 'https://blog.naver.com/junio/223200322116',\n",
       "   'description': '가을<b>장마</b>속 습도 무지하게 높은 날. 7km 2시간30분의 산행. 비라도 올것이지 왜 비는 와서 이런 사달이 났을까... 또 한번 기상청 욕을 한바가지 ... 23년 8월의 마지막날. 나이생각 않고 무식하게 운동한다고... ',\n",
       "   'bloggername': '돈키호테님의 블로그',\n",
       "   'bloggerlink': 'blog.naver.com/junio',\n",
       "   'postdate': '20230902'},\n",
       "  {'title': '2023년 <b>장마</b>기간 중부 남부 제주 30일',\n",
       "   'link': 'https://likejkb.tistory.com/358',\n",
       "   'description': '2023년 <b>장마</b>가 시작되었습니다 여름이 다가 오기 몇달 전부터 올해 여름은 역대로 <b>장마</b>기간이 길수도 있다고 하였습니다 작년 2022년 폭우로 침수피해가 정말 많이 일어나서 이번 2023년 <b>장마</b>기간이 얼마나 긴지... ',\n",
       "   'bloggername': '오늘의best',\n",
       "   'bloggerlink': 'https://likejkb.tistory.com/',\n",
       "   'postdate': '20230629'},\n",
       "  {'title': '8월 일상 <b>장마</b>와 함께한 2023년 여름이야기, 고마웠어 :) !',\n",
       "   'link': 'https://blog.naver.com/jeeinomc/223202415440',\n",
       "   'description': '8월 일상 <b>장마</b>와 함께한 2023년 여름이야기, 고마웠어 :) ! 안녕하세요~~^^ 아직 한낮에는 여전히 덥지만, 아침, 저녁으로는 제법 쌀쌀해졌습니다. 9월이 되어 8월 일상을 뒤적여보니, 덥지만 다양한 선물을 안겨준... ',\n",
       "   'bloggername': '부천지인한의원 - 정성을 다하겠습니다!',\n",
       "   'bloggerlink': 'blog.naver.com/jeeinomc',\n",
       "   'postdate': '20230908'},\n",
       "  {'title': '태풍과 <b>장마</b>는 일기도에서 어떻게 나타날까?',\n",
       "   'link': 'https://blog.naver.com/kma_131/223179807942',\n",
       "   'description': '이번 여름에는 비가 많이 왔던 만큼 <b>장마</b>를 먼저 떠올리시는 분들이 많으실 텐데요, 여름에 대표적인 기상 현상으로는 <b>장마</b>뿐만 아니라 태풍도 있습니다. 일기 예보를 보시면서 <b>장마</b>전선이나 태풍이... ',\n",
       "   'bloggername': '대한민국 기상청 대표 블로그: 생기발랄',\n",
       "   'bloggerlink': 'blog.naver.com/kma_131',\n",
       "   'postdate': '20230810'},\n",
       "  {'title': '<b>장마</b>가 일으킨 비극',\n",
       "   'link': 'https://blog.naver.com/kimroh6688/223175407931',\n",
       "   'description': '<b>장마</b>가 일으킨 비극 본기자는 <b>장마</b>철을 싫어한다. 발톱염증의 원인도 되고 날씨를 덥게 만들어 버리기 때문이다. 하지만 그중에서 제일 싫은 이유는 많은 사상자가 발생한다는 거다. 그런데 최근 6월에... ',\n",
       "   'bloggername': '곰곰이, 어린이/청소년 독서문화공간',\n",
       "   'bloggerlink': 'blog.naver.com/kimroh6688',\n",
       "   'postdate': '20230830'},\n",
       "  {'title': '4호 태풍 탈림 경로 2023년 <b>장마</b> 기간 언제까지 끝 종료 시기는',\n",
       "   'link': 'https://blog.naver.com/dongi0508/223159890311',\n",
       "   'description': '4호 태풍 탈림 경로 2023년 <b>장마</b> 기간 언제까지 끝 종료 시기는 이른 아침에 더워서 깬것보다는 창문의... <b>장마</b>가 완전히 가신 건 아닌듯하다. 보니까 4호 태풍 탈림도 한창 이동중이라고 하고. 그나마... ',\n",
       "   'bloggername': 'Der Sinn des Lebens',\n",
       "   'bloggerlink': 'blog.naver.com/dongi0508',\n",
       "   'postdate': '20230718'},\n",
       "  {'title': '<b>장마</b> 끝, 다시 텃밭!',\n",
       "   'link': 'https://blog.naver.com/hl4gnn/223169470982',\n",
       "   'description': '<b>장마</b>가 끝이 났습니다. <b>장마</b> 기간 동안 텃밭에 피해가 좀 있었습니다. 애플 수박은 잎이 모두 녹아버렸고, 풋고추 8그루는 시들시들해서 죽어버렸고, 나머지 고추들은 탄저병에 몸살을 앓고 있습니다. 살아있지만... ',\n",
       "   'bloggername': '현답의 여행과 독서',\n",
       "   'bloggerlink': 'blog.naver.com/hl4gnn',\n",
       "   'postdate': '20230729'},\n",
       "  {'title': '<b>장마</b> - 뒷끝있다.',\n",
       "   'link': 'https://blog.naver.com/sense97/223170218154',\n",
       "   'description': '긴 <b>장마</b> 뒤... 콩, 팥, 들깨 중 콩이 가장 선전합니다. 한 밭에 심은 세 가지 작물 중, 처음엔 들깨가 가장 잘 나가더니, 긴 <b>장마</b> 후에 들깨는 녹병이 오고 팥은 물에 치어서 들쭉 날쭉. 그 와중에 신통하게도 콩이... ',\n",
       "   'bloggername': '지리산 산내농장',\n",
       "   'bloggerlink': 'blog.naver.com/sense97',\n",
       "   'postdate': '20230730'},\n",
       "  {'title': '<b>장마</b>기간 이사 시 주의 점들 알아보아요',\n",
       "   'link': 'https://blog.naver.com/eyey0811/223190982225',\n",
       "   'description': '다습한 <b>장마</b> 기간에 이사를 하실 때에는 날이 좋은 3-4월에 이사를 하실 때보다 주의해야 할 사항이 더 늘어나기 마련인데요 그런 의미로 오늘은 <b>장마</b>기간 이사 시 주의사항에 관한 글로 이웃님들과 소통하는... ',\n",
       "   'bloggername': '모두 행복하세요^^',\n",
       "   'bloggerlink': 'blog.naver.com/eyey0811',\n",
       "   'postdate': '20230823'},\n",
       "  {'title': '2023 <b>장마</b>기간 시작 언제까지 계속되는지 알아보기',\n",
       "   'link': 'https://blog.naver.com/joinjaang/223153956223',\n",
       "   'description': '한국의 <b>장마</b>기간이 점점 길어지는 것 같습니다. 강수량도 간헐적으로 오래 오던 이전과는 달리 한번에 집중적으로 국지성 호우가 내려 많은 인명과 재산 피해가 속출하고 있는데 일본에서 머물던 <b>장마</b>전선이... ',\n",
       "   'bloggername': '하우스마켓',\n",
       "   'bloggerlink': 'blog.naver.com/joinjaang',\n",
       "   'postdate': '20230712'},\n",
       "  {'title': \"<b>장마</b> 기간 중에 간 휴가 '거제 소노캄' 2박 3일\",\n",
       "   'link': 'https://blog.naver.com/ojhnim/223184095894',\n",
       "   'description': '가는 날이 장날이라고 하필 <b>장마</b> 기간과 휴가가 겹치게 되었다. 윽!! ㅠㅠ [1일차] 새벽에 집에서 출발... 산책 <b>장마</b> 기간이라 외부 활동은 많이 못했지만 실내에서 쉬면서 보낸 조용한 휴가였다. 아기 데리고... ',\n",
       "   'bloggername': '열정이 가득한 불꽃',\n",
       "   'bloggerlink': 'blog.naver.com/ojhnim',\n",
       "   'postdate': '20230815'},\n",
       "  {'title': '<b>장마</b>를 보낸 블루아이스 은청가문비',\n",
       "   'link': 'https://blog.naver.com/nerya_park/223195128361',\n",
       "   'description': '<b>장마</b>를 대비해서 더위와 다습에 약한 침엽수 화분들을 데크 위 반그늘 자리에 옮겨뒀었다 이제 <b>장마</b>도 끝났고 무더위도 한풀 꺾였다고 생각돼서 블루아이스와 은청가문비를 구석에서 꺼냈는데 화들짝 놀랬다... ',\n",
       "   'bloggername': '슬기로운 정원생활',\n",
       "   'bloggerlink': 'blog.naver.com/nerya_park',\n",
       "   'postdate': '20230828'},\n",
       "  {'title': '발생 한반도 영향? 2차<b>장마</b>, 가을<b>장마</b>, 국지호우 등 비 피해는?',\n",
       "   'link': 'https://blog.naver.com/sosin279/223196257506',\n",
       "   'description': '2차 <b>장마</b>, 가을 <b>장마</b>라는 표현을 쓰고 있습니다. 어제 부터 중부지방을 중심으로 시작되었던 비는 이번 수요일 30일까지 이어질 것으로 전망하고 있습니다. 위 이미지에서 보는 것처럼 북쪽 찬 공기와 남쪽... ',\n",
       "   'bloggername': '자유자 카이사르',\n",
       "   'bloggerlink': 'blog.naver.com/sosin279',\n",
       "   'postdate': '20230829'},\n",
       "  {'title': '대학로피부과 탈모, <b>장마</b> 때 악화되기 쉬워 주의해야',\n",
       "   'link': 'https://blog.naver.com/duoclinic/223154119104',\n",
       "   'description': '<b>장마</b> 때 심해질 수 있는 탈모 그렇지만 출산 후 1년 이후에도 탈모 증상을 느끼고 있다면 여성형 탈모로... 특히 요즘과 같이 덥고 습한 <b>장마</b>가 이어지는 한 달 동안에는 탈모가 악화되기 쉬워 주의해야 합니다.... ',\n",
       "   'bloggername': 'Since 1985 듀오피부과의원',\n",
       "   'bloggerlink': 'blog.naver.com/duoclinic',\n",
       "   'postdate': '20230712'},\n",
       "  {'title': '폭염과 <b>장마</b>에도 측백나무 묘목은 잘자라고 있네요!',\n",
       "   'link': 'https://blog.naver.com/ky12812/223182798155',\n",
       "   'description': '금년에도 여름철 폭염과 <b>장마</b>가 길게 이어져 왔지만 정식하거나 파종한 조선측백나무의 묘목 등은... 지루한 <b>장마</b>와 폭염을 이겨내고 지금도 무럭무럭 잘자라고 있습니다. 정식상에서 자라던 3년이상 된... ',\n",
       "   'bloggername': '솔향기 마을 농원',\n",
       "   'bloggerlink': 'blog.naver.com/ky12812',\n",
       "   'postdate': '20230813'},\n",
       "  {'title': '내일 <b>장마</b>, 충청이남지역 호우예보 (기상청, 2023.7.17. 저녁)',\n",
       "   'link': 'https://pcgeeks.tistory.com/23628',\n",
       "   'description': 'https://n.news.naver.com/mnews/article/025/0003294300 내일 시간당 최대 100㎜ 극한호우 퍼붓는다…<b>장마</b> 최대... 집중호우(22년), 태풍 힌남노(22년), 현재까지의 이번 <b>장마</b>(23년) 기상청 속보 2023년 7월 17일 17시경.',\n",
       "   'bloggername': \"PC Geek's\",\n",
       "   'bloggerlink': 'https://pcgeeks.tistory.com/',\n",
       "   'postdate': '20230717'},\n",
       "  {'title': '일상 ) 가을 <b>장마</b>도 끝',\n",
       "   'link': 'https://blog.naver.com/shrk041212/223198702644',\n",
       "   'description': '가을 <b>장마</b>라는게 원래 있었던건가?ㅎㅎㅎ 주구장창 흐리고 비오더니...이제야 좀 가을다운 느낌이다. 가을<b>장마</b>가 오기 바로 직전인듯, 월요일에는 조금 걸었다. 비가 온다는 예보가 있었는데 아주 조금... ',\n",
       "   'bloggername': '룰루랄라 BLOG',\n",
       "   'bloggerlink': 'blog.naver.com/shrk041212',\n",
       "   'postdate': '20230831'},\n",
       "  {'title': '<b>장마</b> 후 청소 필수 주차장',\n",
       "   'link': 'https://blog.naver.com/zovosky/223168487652',\n",
       "   'description': '얼마 전 가을이 오기 전 <b>장마</b>로 지저분 해지 주차장 청소를 하고 온 포스팅을 하겠습니다. <b>장마</b> 기간에는 주차장에 외부에 있는 물만 유입되는 것이 아니라 외부 오염이 유입되고 그동안 타이어에 내재된 타이어... ',\n",
       "   'bloggername': '청소전문가 - 오행종합개발 02-868-6547',\n",
       "   'bloggerlink': 'blog.naver.com/zovosky',\n",
       "   'postdate': '20230804'},\n",
       "  {'title': '7월 22일 긴 <b>장마</b> 후 텃밭',\n",
       "   'link': 'https://blog.naver.com/arare98/223170314766',\n",
       "   'description': '고생해서 키웠는데ㅜㅜ 참 잘컸는데, 이상한 긴 <b>장마</b>로 잎이 병들어 다 말라 버렸다. 아직 덜... 가지도 따고~ 토마토도 따고~ 긴 <b>장마</b>였는데, 토마토들은 병없이 잘 크고 있어 신기하다. 올해 토마토는... ',\n",
       "   'bloggername': '펭귄마을 아라레',\n",
       "   'bloggerlink': 'blog.naver.com/arare98',\n",
       "   'postdate': '20230730'},\n",
       "  {'title': '가을 <b>장마</b> 2차 <b>장마</b>기간 태풍 하이쿠이 예상경로 태풍영향... ',\n",
       "   'link': 'https://blog.naver.com/ohayo11/223196559855',\n",
       "   'description': '가을 <b>장마</b> 현재 상황: 중국 남부 내륙에서 발달한 저기압의 영향으로 전국에 비가 내리고 있음 비 예상 기간: 다음주 초까지 지속될 것으로 예상 강한 비: 전남남해안, 전라권, 수도권, 강원중·북부, 충남... ',\n",
       "   'bloggername': '여행 & 어학 & 건강 그리고 행복',\n",
       "   'bloggerlink': 'blog.naver.com/ohayo11',\n",
       "   'postdate': '20230829'},\n",
       "  {'title': '제주 45일 살기 &lt;<b>장마</b>기간 서귀포에서 보름 살며 느낀점&gt;',\n",
       "   'link': 'https://blog.naver.com/gracepark69/223187396282',\n",
       "   'description': '6월 말부터 <b>장마</b>가 시작 되어 연장을 할까 말까 고민하던 중 넘어진김에 쉬어가라는 속담이 생각났다.... 나의 제주 45일 살기 후반은 <b>장마</b>와 습도, 코로나로 멍이 들고 말았다. 그냥 한달 살기로 마무리 할걸... ',\n",
       "   'bloggername': '은혜의 샘',\n",
       "   'bloggerlink': 'blog.naver.com/gracepark69',\n",
       "   'postdate': '20230818'},\n",
       "  {'title': '가을 <b>장마</b>',\n",
       "   'link': 'https://blog.naver.com/et0631/223199749484',\n",
       "   'description': '부산은 가을 <b>장마</b>라며...일주일 내내 비가오면서 ..끈적끈적... 산신령나올듯한 무드 입니다 에어컨도 내내 제습으로 빵빵 돌리는 중...이제 정말 열대기후로 변하는 건지 .... 여름이면 외삼촌이 농사짓는... ',\n",
       "   'bloggername': 'TIME',\n",
       "   'bloggerlink': 'blog.naver.com/et0631',\n",
       "   'postdate': '20230901'},\n",
       "  {'title': '판타지 장편 소설 베스트셀러 | 비가 오면 열리는 상점, <b>장마</b>상... ',\n",
       "   'link': 'https://blog.naver.com/pshalterego/223202152253',\n",
       "   'description': '<b>장마</b> 기간에만 열리는 아주 특별한 상점이 있습니다. 사연을 받아 선택한 사람만이 이곳으로 올 수... 바로 유영광 작가의 《비가 오면 열리는 상점》에 나오는 <b>장마</b>상점에 대한 이야기입니다. 작가 소개... ',\n",
       "   'bloggername': '소리로 읽는 소곤',\n",
       "   'bloggerlink': 'blog.naver.com/pshalterego',\n",
       "   'postdate': '20230905'},\n",
       "  {'title': \"가을<b>장마</b> 시작..11호 태풍 '하이쿠이' 발생\",\n",
       "   'link': 'https://blog.naver.com/ubcnews/223196296076',\n",
       "   'description': '(앵커멘트) 기상청이 공식적으로 <b>장마</b> 종료를 선언한 지 한 달여 만에 다시 흐린 날씨가... ((브릿지: 지난달 26일, 기상청이 <b>장마</b> 종료를 공식화한 이후 한 달여 만에 다시 흐린 날씨가 찾아왔습니다.)... ',\n",
       "   'bloggername': \"울산의 대표방송 'ubc 울산방송'\",\n",
       "   'bloggerlink': 'blog.naver.com/ubcnews',\n",
       "   'postdate': '20230829'},\n",
       "  {'title': '8월 둘째 주 <b>장마</b> 이후 에키놉스 각시석남 향소국 큰꿩의비름',\n",
       "   'link': 'https://blog.naver.com/nerya_park/223176435461',\n",
       "   'description': '은엽 톱풀 앓이를 해가며 구해서 심었던 은엽 톱풀은 <b>장마</b>에 사라졌다 은엽을 키우기에는 한국의 <b>장마</b>가 너무 무시무시하다 기후 변화로 <b>장마</b> 나기가 더 힘겨워진 것 같기도 올봄에 보식했던 에키놉스 베니치... ',\n",
       "   'bloggername': '슬기로운 정원생활',\n",
       "   'bloggerlink': 'blog.naver.com/nerya_park',\n",
       "   'postdate': '20230806'},\n",
       "  {'title': '<b>장마</b>와 폭염에 살아남을 확률(우리집제라늄)',\n",
       "   'link': 'https://blog.naver.com/alberoazzuro/223189165174',\n",
       "   'description': '100개 정도 제라늄을 순차적으로4,5,6,7월에 구입하여 <b>장마</b>와 폭염 7,8월을 보냈는데요 7월 <b>장마</b>에는 과습으로 무름병에 취약했고 8월 폭염에는 검은색벌레와 곰팡이균에 취약했어요 뿌리 줄기를 타고 검은색... ',\n",
       "   'bloggername': '푸른나무',\n",
       "   'bloggerlink': 'blog.naver.com/alberoazzuro',\n",
       "   'postdate': '20230821'},\n",
       "  {'title': '베리크래프트/ <b>장마</b> 후  햇살 카드(with 크리컷)',\n",
       "   'link': 'https://blog.naver.com/000naya/223183517421',\n",
       "   'description': '계속 <b>장마</b>로 비내리는 나날이였어요. 전례없이 대규모 폭우로 인해 사상자가 생겨서 안타까움을 금할 수가 없네요.ㅜㅜ 다행히 지금 8월은 쨍쨍한 햇볕 가득한 나날입니다. 7월에 만들때만 해도 지리한 <b>장마</b>... ',\n",
       "   'bloggername': '베리크래프트(berrycraft)',\n",
       "   'bloggerlink': 'blog.naver.com/000naya',\n",
       "   'postdate': '20230814'},\n",
       "  {'title': '<b>장마</b>와 식물, 그리고 희망',\n",
       "   'link': 'https://blog.naver.com/ecolab210/223187385145',\n",
       "   'description': '#<b>장마</b> #도장지 #스트레스 #잠아 지난 7월은 길고 긴 <b>장마</b>로 인해 많은 사람들이 힘들어 했습니다. 갑작스런 폭우로 목숨을 잃으신 분도 많으셨고요. 농사를 짓는 분들도 피해가 이만저만이 아니었다고 합니다.... ',\n",
       "   'bloggername': 'ECO LAB',\n",
       "   'bloggerlink': 'blog.naver.com/ecolab210',\n",
       "   'postdate': '20230818'},\n",
       "  {'title': '대구 지긋지긋한 <b>장마</b> 속 반야월 연꽃단지에서 빗바람 산책',\n",
       "   'link': 'https://blog.naver.com/coreabis/223158921880',\n",
       "   'description': '지긋지긋한 <b>장마</b>다. 코로나에 또 걸렸다가 회복하긴 했으나 여전히 기력없고 온갖군데 아프고 날도... 비가 많이 내려 집으로 왔더니 일주일만에 파란하늘이 보였다 이 지겨운 <b>장마</b>도 결국 끝나겠지? 가을이... ',\n",
       "   'bloggername': '우나의 행복한 일상과 여행',\n",
       "   'bloggerlink': 'blog.naver.com/coreabis',\n",
       "   'postdate': '20230717'},\n",
       "  {'title': '2차 <b>장마</b>가 시작된 날, 전통시장에서 느낀 일본 오염수 방류 문제',\n",
       "   'link': 'https://blog.naver.com/pingkyak/223196536541',\n",
       "   'description': '2차 <b>장마</b>가 시작된 날 볼일을 보러 나가는 길에 근처 전통시장을 둘러보았다. 야채 가게에서는 고구마와 제주 더덕, 도라지가 보였고 복숭아와 비름나물도 눈에 띄었다. 한창 무더위가 심할때는 시장내 생선... ',\n",
       "   'bloggername': '아시아(ASIA), 그 길 위에서 친구를 만나다',\n",
       "   'bloggerlink': 'blog.naver.com/pingkyak',\n",
       "   'postdate': '20230829'},\n",
       "  {'title': '폭염.폭우. 가을<b>장마</b>로 이어지는 2023년 공룡약초농장은',\n",
       "   'link': 'https://blog.naver.com/happynamc/223196300145',\n",
       "   'description': '균형섭생과 바른양생으로 청혈과 해독을 강조하는 공룡약초 청각관리사 입니다 2023년 유난히도 긴 <b>장마</b>와 폭염과 폭우와 가을<b>장마</b> 까지 이어지는것 같아서 참 피곤한 농업과 농부의 일상이 아닐까 합니다... ',\n",
       "   'bloggername': '건강과 발효를 論하는 Berry Happy 공룡약초 농원',\n",
       "   'bloggerlink': 'blog.naver.com/happynamc',\n",
       "   'postdate': '20230829'},\n",
       "  {'title': '이상한 날씨 두번째 <b>장마</b>~~',\n",
       "   'link': 'https://blog.naver.com/jmy9026/223191066214',\n",
       "   'description': '이상기온이랍니다 이상한일 ~우리가 사람이 미처 생각지 못한일 =이상한 일 이상기온 이상한 날씨 두번째 <b>장마</b> 그 이상한 날씨 두번째 <b>장마</b> 때문에 어제부터 비가 내리고 있습니다 세계는 불바다 ~ 물바다~ 지진... ',\n",
       "   'bloggername': '세요공방의 꾸메농원',\n",
       "   'bloggerlink': 'blog.naver.com/jmy9026',\n",
       "   'postdate': '20230823'},\n",
       "  {'title': '♡대용량 제습제 쉼표365 습기냠냠 습기제거제로 2차<b>장마</b>... ',\n",
       "   'link': 'https://blog.naver.com/leeye1985/223197171801',\n",
       "   'description': '<b>장마</b>가 지나고 쨍쨍하던 날이 지속되길래 1일 1빨래 하면서 텅빈 빨래통을 보고 정말 흐뭇했습니다. 하지만 2차<b>장마</b> 라니요..ㅎ 태풍도 여러개가 올라오고 있다는데요.ㅠ 정말 날씨가 이상기온으로 갈수록... ',\n",
       "   'bloggername': '잭슨과나',\n",
       "   'bloggerlink': 'blog.naver.com/leeye1985',\n",
       "   'postdate': '20230830'},\n",
       "  {'title': '<b>장마</b> 후의 여름의 모습을 볼 수 있는 정림동 갑천',\n",
       "   'link': 'https://blog.naver.com/first_seogu/223178084647',\n",
       "   'description': '<b>장마</b> 후의 여름의 모습을 볼 수 있는 정림동 갑천 #대전서구 #정림동갑천 #정림동 #여름풍경 #풍경... 비 오는 동안 더위는 꺾였지만, <b>장마</b> 동안 엄청난 폭우로 전국에 많은 자연재해가 잇따랐는데요, <b>장마</b> 후에... ',\n",
       "   'bloggername': '대전광역시 서구청 블로그입니다.',\n",
       "   'bloggerlink': 'blog.naver.com/first_seogu',\n",
       "   'postdate': '20230808'},\n",
       "  {'title': '여쿨 틴트 추천 물다 여름<b>장마</b> 지속력도 갑이야',\n",
       "   'link': 'https://blog.naver.com/jh_0927/223205346710',\n",
       "   'description': '여름<b>장마</b> 틴트인데, 지속력 진짜 미쳤고 .. 색도 정말 예쁘답니다. 단독으로 발라줘도 예쁘지만 제가... 물다 타투 픽싱 립 틴트 여름<b>장마</b> 립은 무조건 웜톤 립만 발랐던 과거의 저.. 요즘엔 쿨톤 색이 더 예뻐... ',\n",
       "   'bloggername': '보름달로그',\n",
       "   'bloggerlink': 'blog.naver.com/jh_0927',\n",
       "   'postdate': '20230907'},\n",
       "  {'title': '산청 날씨 <b>장마</b>는 끝자락',\n",
       "   'link': 'https://blog.naver.com/kakasi000/223157717220',\n",
       "   'description': '평년의 <b>장마</b>를 예상하면 딱 다음 주 월요일이 <b>장마</b>가 끝나는 시기이긴 합니다. 주간예보 하지만 올해는 조금 다를 수도 있기 때문에 아직 조금 더 지켜봐야 하지 않을까 생각합니다. 보통 지금이 <b>장마</b> 이긴 한데... ',\n",
       "   'bloggername': '카카시의 평범한 일상',\n",
       "   'bloggerlink': 'blog.naver.com/kakasi000',\n",
       "   'postdate': '20230716'},\n",
       "  {'title': '2차 <b>장마</b> 시작으로 인한 꿉꿉함을 대용량제습기로 제거하세요.',\n",
       "   'link': 'https://blog.naver.com/gatewelly/223189556996',\n",
       "   'description': '지난 달 26일 <b>장마</b>철이 끝나고 2차 <b>장마</b>가 찾아오고 있는 것으로 분석됐습니다. <b>장마</b>로 인한 눅눅한 실내 습도를 가장 빠르고 강력하게 제거할 수 있는 방법에 대해 알려드리겠습니다. 실내 습도가... ',\n",
       "   'bloggername': '게이트비젼',\n",
       "   'bloggerlink': 'blog.naver.com/gatewelly',\n",
       "   'postdate': '20230821'},\n",
       "  {'title': '여기저기 들리는 <b>장마</b> 위험 경보! 이번 <b>장마</b>는 어떻게 다른지... ',\n",
       "   'link': 'https://blog.naver.com/hi_nso/223165702230',\n",
       "   'description': '전국적으로 <b>장마</b> 기간에 접어든 요즘! 여름을 즐기기에 앞서 시작된 <b>장마</b> 때문에 걱정이 많으실 것 같습니다. 올해는 특히 길게 예정된 <b>장마</b> 예보에 <b>장마</b> 피해 예방에 관한 다양한 기사들이 잇따르고... ',\n",
       "   'bloggername': '통계청 공식 블로그-통하는 세상',\n",
       "   'bloggerlink': 'blog.naver.com/hi_nso',\n",
       "   'postdate': '20230725'}]}"
      ]
     },
     "execution_count": 140,
     "metadata": {},
     "output_type": "execute_result"
    }
   ],
   "source": [
    "# 함수 확인\n",
    "keyword = \"장마\"\n",
    "display = 50\n",
    "start = 5\n",
    "json_obj = get_api_result(keyword, display, start)\n",
    "\n",
    "json_obj"
   ]
  },
  {
   "cell_type": "code",
   "execution_count": 145,
   "id": "973b9073-5eab-4b50-8675-927698cf519c",
   "metadata": {
    "scrolled": true
   },
   "outputs": [
    {
     "name": "stdout",
     "output_type": "stream",
     "text": [
      "1 장마 후 폭염, ‘어떡해요!’ 보다 ‘어떤 대응’이 중요한 때! https://blog.naver.com/rda2448/223168695998\n",
      "2 주택화재보험 장마 호우주의보 누수 챙기기! https://blog.naver.com/lilac_queen/223155774718\n",
      "3 장마후 세탁기통세척-르주르 세탁기클렌저 사용후기 https://blog.naver.com/nayoung520/223204092994\n",
      "4 장마로 초조한 사람들 (2006.07.16) https://blog.naver.com/fendee/223209939305\n",
      "5 호박전 만들기 부침가루 없는 무수분 레시피 가을장마요리 https://blog.naver.com/kehkhk/223198587502\n",
      "6 2차우기 아님 가을 장마? https://blog.naver.com/sanbbaram/223188386516\n",
      "7 천연섬유유연제 장마 이기는 향긋한 빨래 https://blog.naver.com/ivoryegg/223158973430\n",
      "8 올해 장마 시작 시기 알고 대비 할려면 https://blog.naver.com/troilos/223125824720\n",
      "9 [M.E.T TIP] 장마·폭염·태풍 ‘3연타’…하늘로 솟구친...  https://metservice.kr/75369\n",
      "10 ♡필터포유 발수코팅 자동차와이퍼로 가을장마 대비♡ https://blog.naver.com/leeye1985/223196162295\n",
      "11 추석 농산물 물가는 극한 장마때부터 예상되었다. https://blog.naver.com/j5875998/223203885615\n",
      "12 로또 예상번호 1074회 장마를보내며 https://blog.naver.com/mistarno1/223139640389\n",
      "13 가을장마속 마실길-무룡,진동 https://blog.naver.com/junio/223200322116\n",
      "14 2023년 장마기간 중부 남부 제주 30일 https://likejkb.tistory.com/358\n",
      "15 8월 일상 장마와 함께한 2023년 여름이야기, 고마웠어 :) ! https://blog.naver.com/jeeinomc/223202415440\n",
      "16 태풍과 장마는 일기도에서 어떻게 나타날까? https://blog.naver.com/kma_131/223179807942\n",
      "17 장마가 일으킨 비극 https://blog.naver.com/kimroh6688/223175407931\n",
      "18 4호 태풍 탈림 경로 2023년 장마 기간 언제까지 끝 종료 시기는 https://blog.naver.com/dongi0508/223159890311\n",
      "19 장마 끝, 다시 텃밭! https://blog.naver.com/hl4gnn/223169470982\n",
      "20 장마 - 뒷끝있다. https://blog.naver.com/sense97/223170218154\n",
      "21 장마기간 이사 시 주의 점들 알아보아요 https://blog.naver.com/eyey0811/223190982225\n",
      "22 2023 장마기간 시작 언제까지 계속되는지 알아보기 https://blog.naver.com/joinjaang/223153956223\n",
      "23 장마 기간 중에 간 휴가 '거제 소노캄' 2박 3일 https://blog.naver.com/ojhnim/223184095894\n",
      "24 장마를 보낸 블루아이스 은청가문비 https://blog.naver.com/nerya_park/223195128361\n",
      "25 발생 한반도 영향? 2차장마, 가을장마, 국지호우 등 비 피해는? https://blog.naver.com/sosin279/223196257506\n",
      "26 대학로피부과 탈모, 장마 때 악화되기 쉬워 주의해야 https://blog.naver.com/duoclinic/223154119104\n",
      "27 폭염과 장마에도 측백나무 묘목은 잘자라고 있네요! https://blog.naver.com/ky12812/223182798155\n",
      "28 내일 장마, 충청이남지역 호우예보 (기상청, 2023.7.17. 저녁) https://pcgeeks.tistory.com/23628\n",
      "29 일상 ) 가을 장마도 끝 https://blog.naver.com/shrk041212/223198702644\n",
      "30 장마 후 청소 필수 주차장 https://blog.naver.com/zovosky/223168487652\n",
      "31 7월 22일 긴 장마 후 텃밭 https://blog.naver.com/arare98/223170314766\n",
      "32 가을 장마 2차 장마기간 태풍 하이쿠이 예상경로 태풍영향...  https://blog.naver.com/ohayo11/223196559855\n",
      "33 제주 45일 살기 &lt;장마기간 서귀포에서 보름 살며 느낀점&gt; https://blog.naver.com/gracepark69/223187396282\n",
      "34 가을 장마 https://blog.naver.com/et0631/223199749484\n",
      "35 판타지 장편 소설 베스트셀러 | 비가 오면 열리는 상점, 장마상...  https://blog.naver.com/pshalterego/223202152253\n",
      "36 가을장마 시작..11호 태풍 '하이쿠이' 발생 https://blog.naver.com/ubcnews/223196296076\n",
      "37 8월 둘째 주 장마 이후 에키놉스 각시석남 향소국 큰꿩의비름 https://blog.naver.com/nerya_park/223176435461\n",
      "38 장마와 폭염에 살아남을 확률(우리집제라늄) https://blog.naver.com/alberoazzuro/223189165174\n",
      "39 베리크래프트/ 장마 후  햇살 카드(with 크리컷) https://blog.naver.com/000naya/223183517421\n",
      "40 장마와 식물, 그리고 희망 https://blog.naver.com/ecolab210/223187385145\n",
      "41 대구 지긋지긋한 장마 속 반야월 연꽃단지에서 빗바람 산책 https://blog.naver.com/coreabis/223158921880\n",
      "42 2차 장마가 시작된 날, 전통시장에서 느낀 일본 오염수 방류 문제 https://blog.naver.com/pingkyak/223196536541\n",
      "43 폭염.폭우. 가을장마로 이어지는 2023년 공룡약초농장은 https://blog.naver.com/happynamc/223196300145\n",
      "44 이상한 날씨 두번째 장마~~ https://blog.naver.com/jmy9026/223191066214\n",
      "45 ♡대용량 제습제 쉼표365 습기냠냠 습기제거제로 2차장마...  https://blog.naver.com/leeye1985/223197171801\n",
      "46 장마 후의 여름의 모습을 볼 수 있는 정림동 갑천 https://blog.naver.com/first_seogu/223178084647\n",
      "47 여쿨 틴트 추천 물다 여름장마 지속력도 갑이야 https://blog.naver.com/jh_0927/223205346710\n",
      "48 산청 날씨 장마는 끝자락 https://blog.naver.com/kakasi000/223157717220\n",
      "49 2차 장마 시작으로 인한 꿉꿉함을 대용량제습기로 제거하세요. https://blog.naver.com/gatewelly/223189556996\n",
      "50 여기저기 들리는 장마 위험 경보! 이번 장마는 어떻게 다른지...  https://blog.naver.com/hi_nso/223165702230\n"
     ]
    }
   ],
   "source": [
    "# 인덱싱해서 전부() 결과 출력\n",
    "for i, item in enumerate(json_obj['items']):\n",
    "    print(i+1, item['title'].replace('<b>','').replace('</b>',''), item['link'])"
   ]
  },
  {
   "cell_type": "markdown",
   "id": "0fbd969a-b027-4447-bca8-8b487f5cf54a",
   "metadata": {},
   "source": [
    "#### 여러 페이지 호출하는 함수 구현\n",
    "- start 값에 따라 페이지 별로 쉽게 출력하기 위해 출력 부분을 함수로 묶기\n",
    "- call_and_print(keyword, display, start):\n",
    "    - 검색 결과에 대해 블로그 제목, 글링크, 블로거 이름을 출력하는 함수\n",
    "    - 함수 내에서 get_api_result(keyword, display, start) 함수 호출하고\n",
    "    - json 결과 받아서 추출"
   ]
  },
  {
   "cell_type": "code",
   "execution_count": 234,
   "id": "ecaa9854-297f-4a57-ad18-90899b8aaa10",
   "metadata": {},
   "outputs": [],
   "source": [
    "def call_and_print(keyword, display, start):\n",
    "    json_obj = get_api_result(keyword, display, start)\n",
    "\n",
    "    for i, item in enumerate(json_obj['items']):\n",
    "        print(i+1, item['title'].replace('<b>','').replace('</b>',''), item['link'])\n",
    "        "
   ]
  },
  {
   "cell_type": "code",
   "execution_count": 152,
   "id": "d2cc3c9d-c053-4922-a073-4a9d641f8968",
   "metadata": {},
   "outputs": [
    {
     "name": "stdout",
     "output_type": "stream",
     "text": [
      "1 가을 활동 가을 하늘에 열기구를 붙여요 https://blog.naver.com/for0819/223204378363\n",
      "2 한점하늘김환기 관람후기 김환기전시회 호암미술관 비원 https://blog.naver.com/bluemikk/223209306692\n",
      "3 팔공산 하늘정원 가을 산행 https://blog.naver.com/hwanghk1/223208069194\n",
      "4 하늘 구름 가을 사진 감성 보정 법 라이트룸 모바일 https://blog.naver.com/nafnaf55/223209998339\n",
      "5 인천공항 제1여객터미널 가성비 카페 추천 실버카페하늘마루 https://blog.naver.com/dladngud22/223206547778\n",
      "6 다시 돌아온 깨끗한 하늘 뭉게구름 좋구나 야 https://blog.naver.com/5004yurim/223211967965\n",
      "7 남도한바퀴 파란하늘 아래 구례×하동 지리산여행 https://blog.naver.com/sswlim/223210998942\n",
      "8 천고마비 : 가을 하늘이 높아질 수록 마주는 살찐다 https://blog.naver.com/rkgml548/223209325354\n",
      "9 하늘을 나는 발전소 '공중 풍력' https://blog.naver.com/nststory2014/223204990965\n",
      "10 하늘사다리 모녀김밥 백종원김밥 https://blog.naver.com/juilky/223209501654\n"
     ]
    }
   ],
   "source": [
    "# 함수 테스트\n",
    "call_and_print('하늘', 10, 21)"
   ]
  },
  {
   "cell_type": "markdown",
   "id": "c5dc59ba-05db-4ca1-b5c2-38cf6b0c8091",
   "metadata": {},
   "source": [
    "### 검색결과 요청 후 결과를 df로 반환하는 함수"
   ]
  },
  {
   "cell_type": "code",
   "execution_count": 155,
   "id": "aa206983-f1f2-4d55-b3b3-3b7f0e6db470",
   "metadata": {},
   "outputs": [],
   "source": [
    "# 방법1"
   ]
  },
  {
   "cell_type": "code",
   "execution_count": 156,
   "id": "71b24a3c-5039-4100-a6fd-7c501e315c3b",
   "metadata": {},
   "outputs": [],
   "source": [
    "import pandas as pd"
   ]
  },
  {
   "cell_type": "code",
   "execution_count": 235,
   "id": "cb6c2a54-0dd9-4c1b-862d-889ccac28a53",
   "metadata": {},
   "outputs": [],
   "source": [
    "def call_and_save(keyword, display, start):\n",
    "    json_obj = get_api_result(keyword, display, start)\n",
    "    print(start)\n",
    "\n",
    "    # df에 넣을 컬럼 뽑기\n",
    "    title = [item['title'].replace('<b>','').replace('</b>','') for item in json_obj['items']]\n",
    "    link = [item['link'] for item in json_obj['items']]\n",
    "    bloggername = [item['bloggername'] for item in json_obj['items']]\n",
    "\n",
    "    # df 생성\n",
    "    return pd.DataFrame({\n",
    "        'title':title,\n",
    "        'link':link,\n",
    "        '블로거 이름': bloggername\n",
    "    })"
   ]
  },
  {
   "cell_type": "code",
   "execution_count": 236,
   "id": "6a771bcb-e435-4a02-a0c1-1b7ea95c9ebf",
   "metadata": {
    "scrolled": true
   },
   "outputs": [
    {
     "name": "stdout",
     "output_type": "stream",
     "text": [
      "101\n"
     ]
    },
    {
     "data": {
      "text/html": [
       "<div>\n",
       "<style scoped>\n",
       "    .dataframe tbody tr th:only-of-type {\n",
       "        vertical-align: middle;\n",
       "    }\n",
       "\n",
       "    .dataframe tbody tr th {\n",
       "        vertical-align: top;\n",
       "    }\n",
       "\n",
       "    .dataframe thead th {\n",
       "        text-align: right;\n",
       "    }\n",
       "</style>\n",
       "<table border=\"1\" class=\"dataframe\">\n",
       "  <thead>\n",
       "    <tr style=\"text-align: right;\">\n",
       "      <th></th>\n",
       "      <th>title</th>\n",
       "      <th>link</th>\n",
       "      <th>블로거 이름</th>\n",
       "    </tr>\n",
       "  </thead>\n",
       "  <tbody>\n",
       "    <tr>\n",
       "      <th>0</th>\n",
       "      <td>너의 시간 속으로 등장인물 원작 상견니 OST 전여빈 안효섭...</td>\n",
       "      <td>https://blog.naver.com/jehum521/223210308518</td>\n",
       "      <td>신비로거</td>\n",
       "    </tr>\n",
       "    <tr>\n",
       "      <th>1</th>\n",
       "      <td>안효섭/로운 빙의글 영원이란 약속 prologue</td>\n",
       "      <td>https://blog.naver.com/073020v/223209863118</td>\n",
       "      <td>073020v님의 블로그</td>\n",
       "    </tr>\n",
       "    <tr>\n",
       "      <th>2</th>\n",
       "      <td>재미있던 상겨니 원작 한국드라마로 리메이크(안효섭, 전여빈)</td>\n",
       "      <td>https://blog.naver.com/ccyyy03/223202831390</td>\n",
       "      <td>리뷰돌이의 드라마 같은 물욕인생</td>\n",
       "    </tr>\n",
       "    <tr>\n",
       "      <th>3</th>\n",
       "      <td>(6월 9일, 유연석과 안효섭의 대립, 위기의 외상센터, 시청율...</td>\n",
       "      <td>https://blog.naver.com/cleo1112/223125116418</td>\n",
       "      <td>Cleo's handmade tale</td>\n",
       "    </tr>\n",
       "    <tr>\n",
       "      <th>4</th>\n",
       "      <td>&amp;lt;낭만닥터 김사부3&amp;gt; 10회, 한석규 안효섭과 김민재 구출하러...</td>\n",
       "      <td>https://blog.naver.com/gktkrk/223113502711</td>\n",
       "      <td>하사가의 무용지용</td>\n",
       "    </tr>\n",
       "    <tr>\n",
       "      <th>...</th>\n",
       "      <td>...</td>\n",
       "      <td>...</td>\n",
       "      <td>...</td>\n",
       "    </tr>\n",
       "    <tr>\n",
       "      <th>95</th>\n",
       "      <td>안효섭 _ 자크뮈스 파리 패션쇼 참석2023.06.26</td>\n",
       "      <td>https://blog.naver.com/whitestars_22/223138330445</td>\n",
       "      <td>틈만나면 폴짝</td>\n",
       "    </tr>\n",
       "    <tr>\n",
       "      <th>96</th>\n",
       "      <td>가사 뮤비 곡정보 넷플릭스 드라마 추천 전여빈 안효섭 강훈</td>\n",
       "      <td>https://blog.naver.com/raintaro/223206177588</td>\n",
       "      <td>모세스 (MOSES) 의 음악 여행</td>\n",
       "    </tr>\n",
       "    <tr>\n",
       "      <th>97</th>\n",
       "      <td>안효섭 패션 화보 에디션 센서빌리티 남자 코트 숏패딩 겨울...</td>\n",
       "      <td>https://blog.naver.com/ssdria/222923369088</td>\n",
       "      <td>쏭쏭드리아 \"쇼핑에 진심\"</td>\n",
       "    </tr>\n",
       "    <tr>\n",
       "      <th>98</th>\n",
       "      <td>남자 니트 드라마 사내맞선 안효섭 에디션 워셔블 니트 깔끔해</td>\n",
       "      <td>https://blog.naver.com/inha722/222688304811</td>\n",
       "      <td>기린아의 여행육아 모먼트</td>\n",
       "    </tr>\n",
       "    <tr>\n",
       "      <th>99</th>\n",
       "      <td>안효섭 박지현 열애설 알아보기 증거. 소고기 빵, 떡국 등</td>\n",
       "      <td>https://blog.naver.com/nnnnnnow/222694218168</td>\n",
       "      <td>[냥지금]언제 죽을지 모르니까 지금 이 순간 행복할래</td>\n",
       "    </tr>\n",
       "  </tbody>\n",
       "</table>\n",
       "<p>100 rows × 3 columns</p>\n",
       "</div>"
      ],
      "text/plain": [
       "                                           title  \\\n",
       "0          너의 시간 속으로 등장인물 원작 상견니 OST 전여빈 안효섭...    \n",
       "1                    안효섭/로운 빙의글 영원이란 약속 prologue   \n",
       "2              재미있던 상겨니 원작 한국드라마로 리메이크(안효섭, 전여빈)   \n",
       "3        (6월 9일, 유연석과 안효섭의 대립, 위기의 외상센터, 시청율...    \n",
       "4   &lt;낭만닥터 김사부3&gt; 10회, 한석규 안효섭과 김민재 구출하러...    \n",
       "..                                           ...   \n",
       "95                안효섭 _ 자크뮈스 파리 패션쇼 참석2023.06.26   \n",
       "96              가사 뮤비 곡정보 넷플릭스 드라마 추천 전여빈 안효섭 강훈   \n",
       "97          안효섭 패션 화보 에디션 센서빌리티 남자 코트 숏패딩 겨울...    \n",
       "98             남자 니트 드라마 사내맞선 안효섭 에디션 워셔블 니트 깔끔해   \n",
       "99              안효섭 박지현 열애설 알아보기 증거. 소고기 빵, 떡국 등   \n",
       "\n",
       "                                                 link  \\\n",
       "0        https://blog.naver.com/jehum521/223210308518   \n",
       "1         https://blog.naver.com/073020v/223209863118   \n",
       "2         https://blog.naver.com/ccyyy03/223202831390   \n",
       "3        https://blog.naver.com/cleo1112/223125116418   \n",
       "4          https://blog.naver.com/gktkrk/223113502711   \n",
       "..                                                ...   \n",
       "95  https://blog.naver.com/whitestars_22/223138330445   \n",
       "96       https://blog.naver.com/raintaro/223206177588   \n",
       "97         https://blog.naver.com/ssdria/222923369088   \n",
       "98        https://blog.naver.com/inha722/222688304811   \n",
       "99       https://blog.naver.com/nnnnnnow/222694218168   \n",
       "\n",
       "                           블로거 이름  \n",
       "0                            신비로거  \n",
       "1                   073020v님의 블로그  \n",
       "2               리뷰돌이의 드라마 같은 물욕인생  \n",
       "3            Cleo's handmade tale  \n",
       "4                       하사가의 무용지용  \n",
       "..                            ...  \n",
       "95                        틈만나면 폴짝  \n",
       "96            모세스 (MOSES) 의 음악 여행  \n",
       "97                 쏭쏭드리아 \"쇼핑에 진심\"  \n",
       "98                  기린아의 여행육아 모먼트  \n",
       "99  [냥지금]언제 죽을지 모르니까 지금 이 순간 행복할래  \n",
       "\n",
       "[100 rows x 3 columns]"
      ]
     },
     "execution_count": 236,
     "metadata": {},
     "output_type": "execute_result"
    }
   ],
   "source": [
    "# 함수 테스트\n",
    "result_df = call_and_save('안효섭', 100, 101)\n",
    "result_df"
   ]
  },
  {
   "cell_type": "markdown",
   "id": "3b524645-5c13-4484-9c6c-d75da2ac16f2",
   "metadata": {},
   "source": [
    "### call_and_save() 함수 여러번 호출 "
   ]
  },
  {
   "cell_type": "code",
   "execution_count": 175,
   "id": "8c643d65-386d-4765-96dd-fe0ec2e7a01c",
   "metadata": {},
   "outputs": [
    {
     "data": {
      "text/html": [
       "<div>\n",
       "<style scoped>\n",
       "    .dataframe tbody tr th:only-of-type {\n",
       "        vertical-align: middle;\n",
       "    }\n",
       "\n",
       "    .dataframe tbody tr th {\n",
       "        vertical-align: top;\n",
       "    }\n",
       "\n",
       "    .dataframe thead th {\n",
       "        text-align: right;\n",
       "    }\n",
       "</style>\n",
       "<table border=\"1\" class=\"dataframe\">\n",
       "  <thead>\n",
       "    <tr style=\"text-align: right;\">\n",
       "      <th></th>\n",
       "    </tr>\n",
       "  </thead>\n",
       "  <tbody>\n",
       "  </tbody>\n",
       "</table>\n",
       "</div>"
      ],
      "text/plain": [
       "Empty DataFrame\n",
       "Columns: []\n",
       "Index: []"
      ]
     },
     "execution_count": 175,
     "metadata": {},
     "output_type": "execute_result"
    }
   ],
   "source": [
    "# 최종 결과 저장할 빈 df 생성\n",
    "blog_df_final = pd.DataFrame()\n",
    "blog_df_final"
   ]
  },
  {
   "cell_type": "code",
   "execution_count": 176,
   "id": "39cc25aa-aecf-4646-b661-b4d4a5934648",
   "metadata": {},
   "outputs": [],
   "source": [
    "# call_and_save() 함수 5번 호출: 500개 검색 결과 "
   ]
  },
  {
   "cell_type": "code",
   "execution_count": 177,
   "id": "007924d5-f526-4757-a2b9-e4804cddcd8f",
   "metadata": {},
   "outputs": [],
   "source": [
    "keyword = '시청'\n",
    "display = 100\n",
    "start = 1"
   ]
  },
  {
   "cell_type": "code",
   "execution_count": 178,
   "id": "489f2975-cdfe-48f2-afb0-88f083b2eea5",
   "metadata": {},
   "outputs": [
    {
     "name": "stdout",
     "output_type": "stream",
     "text": [
      "1\n",
      "101\n",
      "201\n",
      "301\n",
      "401\n"
     ]
    }
   ],
   "source": [
    "for i in range(5):\n",
    "    df = call_and_save(keyword, display, start)\n",
    "    start += 100\n",
    "    blog_df_final = pd.concat([blog_df_final, df], ignore_index=True)\n",
    "    "
   ]
  },
  {
   "cell_type": "code",
   "execution_count": 180,
   "id": "df39fed3-81b8-4f5b-97b5-c1054557055c",
   "metadata": {},
   "outputs": [
    {
     "data": {
      "text/html": [
       "<div>\n",
       "<style scoped>\n",
       "    .dataframe tbody tr th:only-of-type {\n",
       "        vertical-align: middle;\n",
       "    }\n",
       "\n",
       "    .dataframe tbody tr th {\n",
       "        vertical-align: top;\n",
       "    }\n",
       "\n",
       "    .dataframe thead th {\n",
       "        text-align: right;\n",
       "    }\n",
       "</style>\n",
       "<table border=\"1\" class=\"dataframe\">\n",
       "  <thead>\n",
       "    <tr style=\"text-align: right;\">\n",
       "      <th></th>\n",
       "      <th>title</th>\n",
       "      <th>link</th>\n",
       "      <th>블로거 이름</th>\n",
       "    </tr>\n",
       "  </thead>\n",
       "  <tbody>\n",
       "    <tr>\n",
       "      <th>495</th>\n",
       "      <td>부천시청역 술집 &amp;lt;고고&amp;gt; 다양한 안주와 하이볼 맛집</td>\n",
       "      <td>https://blog.naver.com/sohnjunil/223168889671</td>\n",
       "      <td>G Story</td>\n",
       "    </tr>\n",
       "    <tr>\n",
       "      <th>496</th>\n",
       "      <td>인천시청역 힐스테이트 분양안내</td>\n",
       "      <td>https://blog.naver.com/eagle167/223161985228</td>\n",
       "      <td>천사부동산 031-266-1040</td>\n",
       "    </tr>\n",
       "    <tr>\n",
       "      <th>497</th>\n",
       "      <td>[아이 여권 발급] 하남 시청 여권 발급 (강동구민도 가능) &amp;amp; 등기...</td>\n",
       "      <td>https://blog.naver.com/daji1/223196936971</td>\n",
       "      <td>daheenamic world</td>\n",
       "    </tr>\n",
       "    <tr>\n",
       "      <th>498</th>\n",
       "      <td>현대테라타워 시흥시청역 공급분석</td>\n",
       "      <td>https://blog.naver.com/worship0327/223030483535</td>\n",
       "      <td>부동산 정보나눔</td>\n",
       "    </tr>\n",
       "    <tr>\n",
       "      <th>499</th>\n",
       "      <td>부산 시청 칼국수 현풍닭칼국수</td>\n",
       "      <td>https://blog.naver.com/aaa_0520/223164391118</td>\n",
       "      <td>나의 보통날</td>\n",
       "    </tr>\n",
       "  </tbody>\n",
       "</table>\n",
       "</div>"
      ],
      "text/plain": [
       "                                              title  \\\n",
       "495              부천시청역 술집 &lt;고고&gt; 다양한 안주와 하이볼 맛집   \n",
       "496                                인천시청역 힐스테이트 분양안내   \n",
       "497  [아이 여권 발급] 하남 시청 여권 발급 (강동구민도 가능) &amp; 등기...    \n",
       "498                               현대테라타워 시흥시청역 공급분석   \n",
       "499                                부산 시청 칼국수 현풍닭칼국수   \n",
       "\n",
       "                                                link              블로거 이름  \n",
       "495    https://blog.naver.com/sohnjunil/223168889671             G Story  \n",
       "496     https://blog.naver.com/eagle167/223161985228  천사부동산 031-266-1040  \n",
       "497        https://blog.naver.com/daji1/223196936971    daheenamic world  \n",
       "498  https://blog.naver.com/worship0327/223030483535            부동산 정보나눔  \n",
       "499     https://blog.naver.com/aaa_0520/223164391118              나의 보통날  "
      ]
     },
     "execution_count": 180,
     "metadata": {},
     "output_type": "execute_result"
    }
   ],
   "source": [
    "blog_df_final.tail()"
   ]
  },
  {
   "cell_type": "code",
   "execution_count": 183,
   "id": "03eab6e1-f969-46bd-9785-08b501e2392e",
   "metadata": {},
   "outputs": [
    {
     "data": {
      "text/html": [
       "<div>\n",
       "<style scoped>\n",
       "    .dataframe tbody tr th:only-of-type {\n",
       "        vertical-align: middle;\n",
       "    }\n",
       "\n",
       "    .dataframe tbody tr th {\n",
       "        vertical-align: top;\n",
       "    }\n",
       "\n",
       "    .dataframe thead th {\n",
       "        text-align: right;\n",
       "    }\n",
       "</style>\n",
       "<table border=\"1\" class=\"dataframe\">\n",
       "  <thead>\n",
       "    <tr style=\"text-align: right;\">\n",
       "      <th></th>\n",
       "    </tr>\n",
       "  </thead>\n",
       "  <tbody>\n",
       "  </tbody>\n",
       "</table>\n",
       "</div>"
      ],
      "text/plain": [
       "Empty DataFrame\n",
       "Columns: []\n",
       "Index: []"
      ]
     },
     "execution_count": 183,
     "metadata": {},
     "output_type": "execute_result"
    },
    {
     "name": "stdout",
     "output_type": "stream",
     "text": [
      "1\n",
      "101\n",
      "201\n",
      "301\n",
      "401\n"
     ]
    }
   ],
   "source": [
    "# 또다른 방법으로 start 지정\n",
    "\n",
    "blog_df_final = pd.DataFrame()\n",
    "blog_df_final\n",
    "\n",
    "keyword = '시청'\n",
    "display = 100\n",
    "start = 1\n",
    "\n",
    "for start in range(1, 402, 100):\n",
    "    df = call_and_save(keyword, display, start)\n",
    "    blog_df_final = pd.concat([blog_df_final, df], ignore_index=True)\n"
   ]
  },
  {
   "cell_type": "code",
   "execution_count": 196,
   "id": "d442821d-dfe6-49b9-9b83-f32b5d638487",
   "metadata": {},
   "outputs": [],
   "source": [
    "############################"
   ]
  },
  {
   "cell_type": "markdown",
   "id": "0dbe89e8-9eb9-4140-a168-12c23e8ef275",
   "metadata": {},
   "source": [
    "#### 뉴스 / 블로그 둘다 검색 가능하게 함수 수정\n",
    "- 블로그/뉴스 검색후 결과 저장하는 함수 구현\n",
    "- 블로그/뉴스에 대한 Url 변경되게 구성\n",
    "    - category 사용\n",
    "- 뉴스 url : https://openapi.naver.com/v1/search/news.json?\n",
    "- 블로그 url : \"https://openapi.naver.com/v1/search/blog.json?\"\n",
    "  \n",
    "- title, link추출\n",
    "- if category == '뉴스':\n",
    "    - ctg = 'news'\n",
    "- else:\n",
    "    - ctg = 'blog'\n",
    "\n",
    "- display, start 계산 : 원하는 검색 개수 몇 번 호출할지 계산(몫, 나머지)\n",
    "    - if, 302 -> 100개 3번, 나머지 2개\n",
    "    - display 가 100으로 3번, 2로 1번 전달"
   ]
  },
  {
   "cell_type": "code",
   "execution_count": 284,
   "id": "a784d3cc-2c23-4ca2-afbe-f04f03a71bad",
   "metadata": {},
   "outputs": [
    {
     "ename": "SyntaxError",
     "evalue": "invalid syntax (2501589887.py, line 1)",
     "output_type": "error",
     "traceback": [
      "\u001b[0;36m  Cell \u001b[0;32mIn[284], line 1\u001b[0;36m\u001b[0m\n\u001b[0;31m    global client_id = 'LtsmhCcVwG0A7jdzcpop'\u001b[0m\n\u001b[0m                     ^\u001b[0m\n\u001b[0;31mSyntaxError\u001b[0m\u001b[0;31m:\u001b[0m invalid syntax\n"
     ]
    }
   ],
   "source": [
    "client_id = 'LtsmhCcVwG0A7jdzcpop'\n",
    "client_secret = 'WYL_fkBZRw'"
   ]
  },
  {
   "cell_type": "code",
   "execution_count": null,
   "id": "7b958af0-7e66-4b95-9754-d9b0a9fcce59",
   "metadata": {},
   "outputs": [],
   "source": [
    "# get_api_result() 수정\n",
    "# call_and save() 수정"
   ]
  },
  {
   "cell_type": "code",
   "execution_count": 301,
   "id": "67f06e84-43e2-40c2-b61c-6eecbea4292e",
   "metadata": {},
   "outputs": [],
   "source": [
    "# get_api_result() : 뉴스, 블로그 둘다 되는 용도\n",
    "\n",
    "def get_api_result(keyword,category, display,start):\n",
    "    # id, secret\n",
    "    client_id = 'LtsmhCcVwG0A7jdzcpop'\n",
    "    client_secret = 'WYL_fkBZRw'\n",
    "    \n",
    "    # keyword\n",
    "    keyword = urllib.parse.quote(keyword)\n",
    "\n",
    "      # category\n",
    "    if category == '뉴스':\n",
    "        ctg = \"news\"\n",
    "    else:\n",
    "        ctg = 'blog'\n",
    "\n",
    "    # requests url + param\n",
    "    base_url = \"https://openapi.naver.com/v1/search/\" + ctg + \".json?\"\n",
    "    param = \"query=\" + keyword + \\\n",
    "            \"&display=\" + str(display) +\\\n",
    "            \"&start=\" + str(start)\n",
    "    url = base_url + param        # 최종 url\n",
    "\n",
    "    # headers 인증 정보는 위에 썼으니까 생략\n",
    "\n",
    "    # 요청 및 결과 반환\n",
    "    result = requests.get(url, headers=headers)\n",
    "\n",
    "    # json 변환\n",
    "    json_obj = result.json()\n",
    "\n",
    "    return json_obj\n",
    "    "
   ]
  },
  {
   "cell_type": "code",
   "execution_count": 267,
   "id": "e90c80f6-c821-4b97-a460-b39f133a1191",
   "metadata": {},
   "outputs": [],
   "source": [
    "# new_get_api_result('시청', '뉴스', 100, 1)"
   ]
  },
  {
   "cell_type": "code",
   "execution_count": 295,
   "id": "2e196ec8-4bb9-4029-be0e-7bddd782d970",
   "metadata": {},
   "outputs": [],
   "source": [
    "# # 내 풀이\n",
    "# # call_and_save() : 뉴스, 블로그 둘다 되는 용도\n",
    "# def call_and_save(keyword, category, total):\n",
    "#     # 1.빈 df만들기\n",
    "#     df_final = pd.DataFrame()\n",
    "\n",
    "#     display = 100 if total>= 100 else total\n",
    "    \n",
    "#     for start in range(1,total+1,display):\n",
    "#         if start + total % display - 1 == total:  # display씩 짜르고 마지막 남은 데이터\n",
    "#             display = total%display\n",
    "#         json_obj = get_api_result(keyword, category, display, start)\n",
    "#         print(start)\n",
    "    \n",
    "#         # df에 넣을 컬럼 뽑기\n",
    "#         title = [item['title'].replace('<b>','').replace('</b>','') for item in json_obj['items']]\n",
    "#         link = [item['link'] for item in json_obj['items']]\n",
    "    \n",
    "#         df = pd.DataFrame({\n",
    "#             '제목':title,\n",
    "#             '링크':link,\n",
    "#         })\n",
    "        \n",
    "#         df_final = pd.concat([df_final, df], ignore_index=True)\n",
    "\n",
    "#     return df_final"
   ]
  },
  {
   "cell_type": "code",
   "execution_count": 292,
   "id": "97f70b28-3283-423b-b344-9d184388c5db",
   "metadata": {},
   "outputs": [
    {
     "name": "stdout",
     "output_type": "stream",
     "text": [
      "1\n",
      "101\n"
     ]
    },
    {
     "data": {
      "text/html": [
       "<div>\n",
       "<style scoped>\n",
       "    .dataframe tbody tr th:only-of-type {\n",
       "        vertical-align: middle;\n",
       "    }\n",
       "\n",
       "    .dataframe tbody tr th {\n",
       "        vertical-align: top;\n",
       "    }\n",
       "\n",
       "    .dataframe thead th {\n",
       "        text-align: right;\n",
       "    }\n",
       "</style>\n",
       "<table border=\"1\" class=\"dataframe\">\n",
       "  <thead>\n",
       "    <tr style=\"text-align: right;\">\n",
       "      <th></th>\n",
       "      <th>제목</th>\n",
       "      <th>링크</th>\n",
       "    </tr>\n",
       "  </thead>\n",
       "  <tbody>\n",
       "    <tr>\n",
       "      <th>0</th>\n",
       "      <td>정읍시 &amp;quot;기술 숙련 명장 찾습니다&amp;quot; 내달 6일까지 접수</td>\n",
       "      <td>https://n.news.naver.com/mnews/article/469/000...</td>\n",
       "    </tr>\n",
       "    <tr>\n",
       "      <th>1</th>\n",
       "      <td>당진시민 대상 수상자, 김형열, 한화자, 허영상 선정</td>\n",
       "      <td>https://daily.hankooki.com/news/articleView.ht...</td>\n",
       "    </tr>\n",
       "    <tr>\n",
       "      <th>2</th>\n",
       "      <td>브리 라슨 '레슨 인 케미스트리' 포스터·예고편 공개…&amp;quot;요리는 화학&amp;quot;</td>\n",
       "      <td>https://n.news.naver.com/mnews/article/408/000...</td>\n",
       "    </tr>\n",
       "    <tr>\n",
       "      <th>3</th>\n",
       "      <td>[POP이슈]16기 상철, 정치 유튜버 인정 &amp;quot;추후 다시 할 생각&amp;quot...</td>\n",
       "      <td>https://n.news.naver.com/mnews/article/112/000...</td>\n",
       "    </tr>\n",
       "    <tr>\n",
       "      <th>4</th>\n",
       "      <td>경남생활체육대축전·양산국화축제 연계 시너지 기대</td>\n",
       "      <td>http://www.newsgn.com/343176</td>\n",
       "    </tr>\n",
       "    <tr>\n",
       "      <th>...</th>\n",
       "      <td>...</td>\n",
       "      <td>...</td>\n",
       "    </tr>\n",
       "    <tr>\n",
       "      <th>120</th>\n",
       "      <td>천안시, 전기자동차 460대 추가 보급</td>\n",
       "      <td>http://www.jbnews.com/news/articleView.html?id...</td>\n",
       "    </tr>\n",
       "    <tr>\n",
       "      <th>121</th>\n",
       "      <td>방통위, 뉴스타파 '김만배 인터뷰' 인용보도 방송사들에 자료제출 요구</td>\n",
       "      <td>http://www.pennmike.com/news/articleView.html?...</td>\n",
       "    </tr>\n",
       "    <tr>\n",
       "      <th>122</th>\n",
       "      <td>김제시, 본예산 편성 앞두고 ‘2024년 주요업무계획 보고회’ 개최</td>\n",
       "      <td>https://n.news.naver.com/mnews/article/002/000...</td>\n",
       "    </tr>\n",
       "    <tr>\n",
       "      <th>123</th>\n",
       "      <td>여주시 신청사 건립 타당성조사 본격 착수</td>\n",
       "      <td>https://n.news.naver.com/mnews/article/003/001...</td>\n",
       "    </tr>\n",
       "    <tr>\n",
       "      <th>124</th>\n",
       "      <td>내주 월요일 출근 어쩌나…철도노조 파업에 전장연 시위까지</td>\n",
       "      <td>https://n.news.naver.com/mnews/article/009/000...</td>\n",
       "    </tr>\n",
       "  </tbody>\n",
       "</table>\n",
       "<p>125 rows × 2 columns</p>\n",
       "</div>"
      ],
      "text/plain": [
       "                                                    제목  \\\n",
       "0             정읍시 &quot;기술 숙련 명장 찾습니다&quot; 내달 6일까지 접수   \n",
       "1                        당진시민 대상 수상자, 김형열, 한화자, 허영상 선정   \n",
       "2     브리 라슨 '레슨 인 케미스트리' 포스터·예고편 공개…&quot;요리는 화학&quot;   \n",
       "3    [POP이슈]16기 상철, 정치 유튜버 인정 &quot;추후 다시 할 생각&quot...   \n",
       "4                           경남생활체육대축전·양산국화축제 연계 시너지 기대   \n",
       "..                                                 ...   \n",
       "120                              천안시, 전기자동차 460대 추가 보급   \n",
       "121             방통위, 뉴스타파 '김만배 인터뷰' 인용보도 방송사들에 자료제출 요구   \n",
       "122              김제시, 본예산 편성 앞두고 ‘2024년 주요업무계획 보고회’ 개최   \n",
       "123                             여주시 신청사 건립 타당성조사 본격 착수   \n",
       "124                    내주 월요일 출근 어쩌나…철도노조 파업에 전장연 시위까지   \n",
       "\n",
       "                                                    링크  \n",
       "0    https://n.news.naver.com/mnews/article/469/000...  \n",
       "1    https://daily.hankooki.com/news/articleView.ht...  \n",
       "2    https://n.news.naver.com/mnews/article/408/000...  \n",
       "3    https://n.news.naver.com/mnews/article/112/000...  \n",
       "4                         http://www.newsgn.com/343176  \n",
       "..                                                 ...  \n",
       "120  http://www.jbnews.com/news/articleView.html?id...  \n",
       "121  http://www.pennmike.com/news/articleView.html?...  \n",
       "122  https://n.news.naver.com/mnews/article/002/000...  \n",
       "123  https://n.news.naver.com/mnews/article/003/001...  \n",
       "124  https://n.news.naver.com/mnews/article/009/000...  \n",
       "\n",
       "[125 rows x 2 columns]"
      ]
     },
     "execution_count": 292,
     "metadata": {},
     "output_type": "execute_result"
    }
   ],
   "source": [
    "# 테스트\n",
    "# keyword = '시청'\n",
    "# category = '뉴스'\n",
    "# total = 125\n",
    "\n",
    "# call_and_save(keyword, category, total)"
   ]
  },
  {
   "cell_type": "code",
   "execution_count": null,
   "id": "d37131b0-7ead-47ab-9284-2d38dd29d2ca",
   "metadata": {},
   "outputs": [],
   "source": []
  },
  {
   "cell_type": "code",
   "execution_count": 302,
   "id": "d5bf9f44-588a-4700-9d5b-d15a7ddb547f",
   "metadata": {},
   "outputs": [],
   "source": [
    "# 쌤 풀이\n",
    "# call_and_save() : 뉴스, 블로그 둘다 되는 용도\n",
    "def call_and_save(keyword, category, display):\n",
    "    # 1.빈 df만들기\n",
    "    result_df = pd.DataFrame()\n",
    "\n",
    "    # display, start계산\n",
    "    # display가 100으로 3번, 2로 1번 전달\n",
    "    quo = display // 100\n",
    "    rem = display % 100\n",
    "\n",
    "    for i in range(quo+1):\n",
    "        if i == quo :\n",
    "            display = rem     # 마지막 페이지는 나머지만 전달\n",
    "        else:\n",
    "            display = 100\n",
    "            \n",
    "        json_obj = get_api_result(keyword, category, display, quo*100+1)\n",
    "    \n",
    "        # df에 넣을 컬럼 뽑기\n",
    "        title = [item['title'].replace('<b>','').replace('</b>','') for item in json_obj['items']]\n",
    "        link = [item['link'] for item in json_obj['items']]\n",
    "    \n",
    "        df = pd.DataFrame({\n",
    "            '제목':title,\n",
    "            '링크':link,\n",
    "        })\n",
    "        \n",
    "        result_df = pd.concat([result_df, df], axis = 0, ignore_index=True)\n",
    "\n",
    "    return result_df"
   ]
  },
  {
   "cell_type": "code",
   "execution_count": 303,
   "id": "6962d96f-4ed1-48ee-8cf0-b55f98e17806",
   "metadata": {},
   "outputs": [
    {
     "data": {
      "text/html": [
       "<div>\n",
       "<style scoped>\n",
       "    .dataframe tbody tr th:only-of-type {\n",
       "        vertical-align: middle;\n",
       "    }\n",
       "\n",
       "    .dataframe tbody tr th {\n",
       "        vertical-align: top;\n",
       "    }\n",
       "\n",
       "    .dataframe thead th {\n",
       "        text-align: right;\n",
       "    }\n",
       "</style>\n",
       "<table border=\"1\" class=\"dataframe\">\n",
       "  <thead>\n",
       "    <tr style=\"text-align: right;\">\n",
       "      <th></th>\n",
       "      <th>제목</th>\n",
       "      <th>링크</th>\n",
       "    </tr>\n",
       "  </thead>\n",
       "  <tbody>\n",
       "    <tr>\n",
       "      <th>0</th>\n",
       "      <td>경남은행, 창원특례시에 '1억원 상당 전통시장 상품권' 기탁</td>\n",
       "      <td>https://www.cnbnews.com/news/article.html?no=6...</td>\n",
       "    </tr>\n",
       "    <tr>\n",
       "      <th>1</th>\n",
       "      <td>사천시, 산림청 '기후대응 도시숲 조성 공모사업' 선정</td>\n",
       "      <td>https://www.cnbnews.com/news/article.html?no=6...</td>\n",
       "    </tr>\n",
       "    <tr>\n",
       "      <th>2</th>\n",
       "      <td>송지우, '너의 시간 속으로' 출연..새로운 빌런 캐릭터 완성</td>\n",
       "      <td>https://n.news.naver.com/mnews/article/108/000...</td>\n",
       "    </tr>\n",
       "    <tr>\n",
       "      <th>3</th>\n",
       "      <td>오산시-日이데미츠 코산, 오산 R&amp;amp;D 센터 바탕으로 경제자족도시 오산 도약 ...</td>\n",
       "      <td>https://www.newsfreezone.co.kr/news/articleVie...</td>\n",
       "    </tr>\n",
       "    <tr>\n",
       "      <th>4</th>\n",
       "      <td>BNK경남은행, 창원시에 전통시장 상품권 1억원 기탁…&amp;quot;추석 온정 나눔&amp;q...</td>\n",
       "      <td>https://n.news.naver.com/mnews/article/421/000...</td>\n",
       "    </tr>\n",
       "    <tr>\n",
       "      <th>...</th>\n",
       "      <td>...</td>\n",
       "      <td>...</td>\n",
       "    </tr>\n",
       "    <tr>\n",
       "      <th>297</th>\n",
       "      <td>호요버스, ‘붕괴: 스타레일’ PlayStation®5 버전 10월 11일 출시!</td>\n",
       "      <td>https://kbench.com/?q=node/247721</td>\n",
       "    </tr>\n",
       "    <tr>\n",
       "      <th>298</th>\n",
       "      <td>시흥시 '2023년 사례로 배우는 푸드플랜' 특강 개최</td>\n",
       "      <td>https://www.gukjenews.com/news/articleView.htm...</td>\n",
       "    </tr>\n",
       "    <tr>\n",
       "      <th>299</th>\n",
       "      <td>[15일 순천시] '청년포럼 그래서 순천' 개최 등</td>\n",
       "      <td>https://www.asiatime.co.kr/article/20230915500175</td>\n",
       "    </tr>\n",
       "    <tr>\n",
       "      <th>300</th>\n",
       "      <td>남양주시, 개인정보 보호 중요성 홍보.캠페인 실시</td>\n",
       "      <td>https://www.viva100.com/main/view.php?key=2023...</td>\n",
       "    </tr>\n",
       "    <tr>\n",
       "      <th>301</th>\n",
       "      <td>경남은행, 창원특례시에 '1억원 상당 전통시장 상품권' 기탁</td>\n",
       "      <td>https://www.cnbnews.com/news/article.html?no=6...</td>\n",
       "    </tr>\n",
       "  </tbody>\n",
       "</table>\n",
       "<p>302 rows × 2 columns</p>\n",
       "</div>"
      ],
      "text/plain": [
       "                                                    제목  \\\n",
       "0                    경남은행, 창원특례시에 '1억원 상당 전통시장 상품권' 기탁   \n",
       "1                       사천시, 산림청 '기후대응 도시숲 조성 공모사업' 선정   \n",
       "2                   송지우, '너의 시간 속으로' 출연..새로운 빌런 캐릭터 완성   \n",
       "3    오산시-日이데미츠 코산, 오산 R&amp;D 센터 바탕으로 경제자족도시 오산 도약 ...   \n",
       "4    BNK경남은행, 창원시에 전통시장 상품권 1억원 기탁…&quot;추석 온정 나눔&q...   \n",
       "..                                                 ...   \n",
       "297      호요버스, ‘붕괴: 스타레일’ PlayStation®5 버전 10월 11일 출시!   \n",
       "298                     시흥시 '2023년 사례로 배우는 푸드플랜' 특강 개최   \n",
       "299                       [15일 순천시] '청년포럼 그래서 순천' 개최 등   \n",
       "300                        남양주시, 개인정보 보호 중요성 홍보.캠페인 실시   \n",
       "301                  경남은행, 창원특례시에 '1억원 상당 전통시장 상품권' 기탁   \n",
       "\n",
       "                                                    링크  \n",
       "0    https://www.cnbnews.com/news/article.html?no=6...  \n",
       "1    https://www.cnbnews.com/news/article.html?no=6...  \n",
       "2    https://n.news.naver.com/mnews/article/108/000...  \n",
       "3    https://www.newsfreezone.co.kr/news/articleVie...  \n",
       "4    https://n.news.naver.com/mnews/article/421/000...  \n",
       "..                                                 ...  \n",
       "297                  https://kbench.com/?q=node/247721  \n",
       "298  https://www.gukjenews.com/news/articleView.htm...  \n",
       "299  https://www.asiatime.co.kr/article/20230915500175  \n",
       "300  https://www.viva100.com/main/view.php?key=2023...  \n",
       "301  https://www.cnbnews.com/news/article.html?no=6...  \n",
       "\n",
       "[302 rows x 2 columns]"
      ]
     },
     "execution_count": 303,
     "metadata": {},
     "output_type": "execute_result"
    }
   ],
   "source": [
    "# 302개 프린트\n",
    "call_and_save('시청','뉴스',302)"
   ]
  }
 ],
 "metadata": {
  "kernelspec": {
   "display_name": "Python 3 (ipykernel)",
   "language": "python",
   "name": "python3"
  },
  "language_info": {
   "codemirror_mode": {
    "name": "ipython",
    "version": 3
   },
   "file_extension": ".py",
   "mimetype": "text/x-python",
   "name": "python",
   "nbconvert_exporter": "python",
   "pygments_lexer": "ipython3",
   "version": "3.11.5"
  }
 },
 "nbformat": 4,
 "nbformat_minor": 5
}
