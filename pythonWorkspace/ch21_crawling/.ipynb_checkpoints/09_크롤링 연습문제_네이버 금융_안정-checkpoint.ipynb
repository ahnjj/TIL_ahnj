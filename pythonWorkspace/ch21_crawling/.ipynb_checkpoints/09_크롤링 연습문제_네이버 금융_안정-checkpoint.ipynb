{
 "cells": [
  {
   "cell_type": "markdown",
   "id": "04a520f5-d1cc-4118-8476-49f5807d37ab",
   "metadata": {},
   "source": [
    "### 크롤링 연습문제"
   ]
  },
  {
   "cell_type": "markdown",
   "id": "0eb0ec36-39ef-4f88-9fd8-7727477ae2f6",
   "metadata": {},
   "source": [
    "#### 문제 1\n",
    "- 네이버 금융 페이지에서 유가/환율/국제금 시세/국내금 시세 추출  \n",
    "- url = 'https://finance.naver.com'"
   ]
  },
  {
   "cell_type": "code",
   "execution_count": 1,
   "id": "32e87e2a-eb98-4a48-be13-51748db630aa",
   "metadata": {},
   "outputs": [],
   "source": [
    "from IPython.core.interactiveshell import InteractiveShell\n",
    "InteractiveShell.ast_node_interactivity=\"all\"\n",
    "\n",
    "from urllib.request import urlopen\n",
    "import pandas as pd\n",
    "import bs4\n",
    "import requests"
   ]
  },
  {
   "cell_type": "code",
   "execution_count": 2,
   "id": "adbbb0f9-f8c3-4eb2-b2a6-b363c895890c",
   "metadata": {},
   "outputs": [],
   "source": [
    "url =  'https://finance.naver.com'\n",
    "html = urlopen(url)\n",
    "bs_obj = bs4.BeautifulSoup(html, 'html.parser')\n",
    "# bs_obj"
   ]
  },
  {
   "cell_type": "code",
   "execution_count": 3,
   "id": "ef4d974f-e645-45df-90e9-823c804492d5",
   "metadata": {},
   "outputs": [
    {
     "name": "stdout",
     "output_type": "stream",
     "text": [
      "유가 :  88.52\n",
      "USD :  104.7400\n",
      "국제금 :  1,932.50\n",
      "국내금 :  1,932.50\n"
     ]
    }
   ],
   "source": [
    "# USD div class group1 / tr class up bold th scope=row td text\n",
    "# 유가\n",
    "# 국제금\n",
    "# 국내금\n",
    "\n",
    "# 전체\n",
    "page = bs_obj.select_one('#container')\n",
    "article = page.select_one('.article2')\n",
    "\n",
    "usd = article.find('div', {'class':'section1'}).find('tr',{'class':'up bold'}).select_one('td').text\n",
    "\n",
    "oil = article.find('div', {'class':'section2'}).find('div', {'class':'group1'}).find('tr',{'class':'down bold'}).find('td').text\n",
    "\n",
    "intl = article.find('div', {'class':'section2'}).find('div', {'class':'group2'}).find('tr',{'class':'down bold'}).find('td').text\n",
    "\n",
    "dom = article.find('div', {'class':'section2'}).find('div', {'class':'group2'}).select_one('.down').find('td').text\n",
    "\n",
    "print('유가 : ', oil)\n",
    "print('USD : ', usd)\n",
    "print('국제금 : ', intl)\n",
    "print('국내금 : ', dom)\n"
   ]
  },
  {
   "cell_type": "code",
   "execution_count": 4,
   "id": "70e695cd-2592-4f7f-92f4-b3d0b2de42d1",
   "metadata": {},
   "outputs": [],
   "source": [
    "# 유가 :  88.84\n",
    "# USD :  1,328.00\n",
    "# 국제금 :  1,935.10\n",
    "# 국내금 :  81,781.70"
   ]
  },
  {
   "cell_type": "markdown",
   "id": "0dd8fd18-8437-4e12-bc95-5ccef638860d",
   "metadata": {},
   "source": [
    "#### 문제 2\n",
    "- 네이버 증권 페이지에서 상한가 / 하한가 / 시가총액상위 기업 추출\n",
    "- url = \"http://finance.naver.com/sise/\""
   ]
  },
  {
   "cell_type": "code",
   "execution_count": 5,
   "id": "b824df10-7dee-4eef-bfb3-f4be6a60c994",
   "metadata": {},
   "outputs": [],
   "source": [
    "url =  \"http://finance.naver.com/sise/\"\n",
    "html = urlopen(url)\n",
    "bs_obj = bs4.BeautifulSoup(html, 'html.parser')\n",
    "# bs_obj\n"
   ]
  },
  {
   "cell_type": "code",
   "execution_count": 6,
   "id": "1f9856f0-462a-4b12-9d00-e740d10096a1",
   "metadata": {},
   "outputs": [],
   "source": [
    "# ---------- 상한가 ----------\n",
    "# 1 노루홀딩스우 = 48,900\n",
    "# 2 이원컴포텍 = 4,120\n",
    "# 3 에이스테크 = 2,425\n",
    "# 4 노루페인트우 = 25,450\n",
    "# 5 머큐리 = 8,370\n",
    "# 6 애드바이오텍 = 4,910\n",
    "# 7 썬테크 = 5,180\n",
    "# 8 엔에스컴퍼니 = 4,845"
   ]
  },
  {
   "cell_type": "code",
   "execution_count": 7,
   "id": "9fa200fc-97e7-4ff0-80f5-1f5a8f2d2ad4",
   "metadata": {},
   "outputs": [
    {
     "data": {
      "text/plain": [
       "'피씨엘'"
      ]
     },
     "execution_count": 7,
     "metadata": {},
     "output_type": "execute_result"
    },
    {
     "data": {
      "text/plain": [
       "'3,980'"
      ]
     },
     "execution_count": 7,
     "metadata": {},
     "output_type": "execute_result"
    }
   ],
   "source": [
    "# 상한가 테스트\n",
    "up = bs_obj.select_one('#siselist_tab_0')\n",
    "title = up.findAll('tr')[2].findAll('td')[3].text\n",
    "price = up.findAll('tr')[2].findAll('td')[4].text\n",
    "title\n",
    "price"
   ]
  },
  {
   "cell_type": "code",
   "execution_count": 8,
   "id": "f90f32d8-d1d4-4556-95d4-cfc0978bec75",
   "metadata": {},
   "outputs": [
    {
     "name": "stdout",
     "output_type": "stream",
     "text": [
      "1 피씨엘 = 3,980\n",
      "2 서남 = 4,795\n",
      "3 엘에이티 = 8,030\n",
      "4 엔젠바이오 = 8,760\n"
     ]
    }
   ],
   "source": [
    "n = len(up.findAll('tr'))\n",
    "\n",
    "for i in range(2,n-2):\n",
    "    title = up.findAll('tr')[i].findAll('td')[3].text\n",
    "    price = up.findAll('tr')[i].findAll('td')[4].text\n",
    "    print(f'{i-1} {title} = {price}')"
   ]
  },
  {
   "cell_type": "code",
   "execution_count": 9,
   "id": "2827bddd-eb2b-44a2-a9b3-43b25e4dd465",
   "metadata": {},
   "outputs": [],
   "source": [
    "\n",
    "# ----------- 하한가 -----------\n",
    "# 1 테크엔 = 289"
   ]
  },
  {
   "cell_type": "code",
   "execution_count": 10,
   "id": "6d13fccd-284c-4424-ad53-0a17a9bd5374",
   "metadata": {},
   "outputs": [
    {
     "name": "stdout",
     "output_type": "stream",
     "text": [
      "1 대유에이텍 = 355\n",
      "2 골프존데카 = 1,180\n",
      "3 테크엔 = 246\n"
     ]
    }
   ],
   "source": [
    "down = bs_obj.select_one('#siselist_tab_1')\n",
    "n = len(down.findAll('tr'))\n",
    "\n",
    "for i in range(2,n-2):\n",
    "    title = down.findAll('tr')[i].findAll('td')[3].text\n",
    "    price = down.findAll('tr')[i].findAll('td')[4].text\n",
    "    print(f'{i-1} {title} = {price}')"
   ]
  },
  {
   "cell_type": "code",
   "execution_count": 11,
   "id": "875bf67a-3571-411d-9bfa-40bd6372dfd4",
   "metadata": {},
   "outputs": [],
   "source": [
    "\n",
    "# ----------- 시가총액 상위 -----------\n",
    "# 1 삼성전자 = 70,900\n",
    "# 2 LG에너지솔루션 = 494,500\n",
    "# 3 SK하이닉스 = 118,500\n",
    "# 4 삼성바이오로직스 = 723,000\n",
    "# 5 삼성전자우 = 57,500\n",
    "# 6 POSCO홀딩스 = 529,000\n",
    "# 7 현대차 = 189,800\n",
    "# 8 삼성SDI = 558,000\n",
    "# 9 LG화학 = 540,000\n",
    "# 10 NAVER = 222,000"
   ]
  },
  {
   "cell_type": "code",
   "execution_count": 12,
   "id": "aac322d1-df4b-48b4-87e3-526c84bc7fd0",
   "metadata": {},
   "outputs": [
    {
     "data": {
      "text/plain": [
       "'삼성전자'"
      ]
     },
     "execution_count": 12,
     "metadata": {},
     "output_type": "execute_result"
    },
    {
     "data": {
      "text/plain": [
       "'4,268,395'"
      ]
     },
     "execution_count": 12,
     "metadata": {},
     "output_type": "execute_result"
    }
   ],
   "source": [
    "# 하나 뽑아보기\n",
    "content = bs_obj.select_one('#contentarea')\n",
    "title = content.select_one('#siselist_tab_7').findAll('tr')[2].findAll('td')[1].find('a').text\n",
    "price = content.select_one('#siselist_tab_7').findAll('tr')[2].findAll('td')[5].text\n",
    "\n",
    "title\n",
    "price"
   ]
  },
  {
   "cell_type": "code",
   "execution_count": 16,
   "id": "2d05af4d-d001-4090-ad48-2d3e5f352601",
   "metadata": {},
   "outputs": [
    {
     "name": "stdout",
     "output_type": "stream",
     "text": [
      "1 삼성전자 = 4,268,395\n",
      "2 LG에너지솔루션 = 1,188,720\n",
      "3 SK하이닉스 = 871,419\n",
      "4 삼성바이오로직스 = 515,300\n",
      "5 삼성전자우 = 473,983\n",
      "9 POSCO홀딩스 = 467,679\n",
      "10 현대차 = 400,429\n",
      "11 삼성SDI = 396,084\n",
      "12 LG화학 = 386,140\n",
      "13 NAVER = 365,009\n"
     ]
    }
   ],
   "source": [
    "# tr 1개에 td 9개\n",
    "# 제목: tr 2번째 td a태그 \n",
    "# 시가총액 : td 6번째\n",
    "content = bs_obj.select_one('#contentarea')\n",
    "tot = content.select_one('#siselist_tab_7')\n",
    "n = len(tot.findAll('tr'))\n",
    "\n",
    "for i in range(2,n-2):\n",
    "    if i in (7,8,9):\n",
    "        continue\n",
    "    else:\n",
    "        title = tot.findAll('tr')[i].findAll('td')[1].find('a').text\n",
    "        price = tot.findAll('tr')[i].findAll('td')[5].text\n",
    "        print(f'{i-1} {title} = {price}')"
   ]
  }
 ],
 "metadata": {
  "kernelspec": {
   "display_name": "Python 3 (ipykernel)",
   "language": "python",
   "name": "python3"
  },
  "language_info": {
   "codemirror_mode": {
    "name": "ipython",
    "version": 3
   },
   "file_extension": ".py",
   "mimetype": "text/x-python",
   "name": "python",
   "nbconvert_exporter": "python",
   "pygments_lexer": "ipython3",
   "version": "3.11.5"
  }
 },
 "nbformat": 4,
 "nbformat_minor": 5
}
