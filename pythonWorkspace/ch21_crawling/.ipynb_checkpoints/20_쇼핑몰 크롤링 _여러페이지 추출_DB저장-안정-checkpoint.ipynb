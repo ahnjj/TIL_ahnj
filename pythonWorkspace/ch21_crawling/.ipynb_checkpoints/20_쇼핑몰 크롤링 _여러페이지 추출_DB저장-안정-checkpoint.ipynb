{
 "cells": [
  {
   "cell_type": "markdown",
   "id": "bb5e5316-4308-4442-8ce6-89df6c24b5a0",
   "metadata": {},
   "source": [
    "### 쇼핑몰 크롤링\n",
    "- 상품의 시세 파악을 위해\n",
    "- 특정 사이트 선정해서 매일 상품 가격 변화 확인\n",
    "- 사이트 선정 기준 : 구성 변하지 않고, 접속량이 일정한\n",
    "\n",
    "- http://jolse.com/category/toners-mists/1019/page=1"
   ]
  },
  {
   "cell_type": "markdown",
   "id": "8c8c4352-0895-46be-9dfb-8b231732409b",
   "metadata": {},
   "source": [
    "#### 크롤링 작업 순서\n",
    "(1) 첫번째 페이지에서 상품 정보 추출\n",
    "- 추천상품 2개\n",
    "- 일반 상품 20개\n",
    "- 각 상품 박스\n",
    "    - 상품명\n",
    "    - 상품가격\n",
    "        - 정상가\n",
    "        - 세일가\n",
    "\n",
    "(2) 여러 페이지 크롤링\n",
    "- (1) 접속 & 파싱 함수\n",
    "- (2) 1개의 상품 추출 함수\n",
    "- (3) 한 페이지에서 상품 추출\n",
    "- (4) 여러 페이지에서 추출\n",
    "    - base_url + page 번호(i) -> 반복문 사용"
   ]
  },
  {
   "cell_type": "code",
   "execution_count": 1,
   "id": "d2694ae8-3392-4a9a-bc26-e2747604f029",
   "metadata": {},
   "outputs": [],
   "source": [
    "from IPython.core.interactiveshell import InteractiveShell\n",
    "InteractiveShell.ast_node_interactivity=\"all\""
   ]
  },
  {
   "cell_type": "code",
   "execution_count": 2,
   "id": "9c6230f9-9656-45fc-bd15-25d10d09b91e",
   "metadata": {},
   "outputs": [],
   "source": [
    "from urllib.request import urlopen\n",
    "import pandas as pd\n",
    "import bs4\n",
    "import requests"
   ]
  },
  {
   "cell_type": "code",
   "execution_count": 3,
   "id": "1b61b650-4d78-4ea4-832b-d2114f290b45",
   "metadata": {},
   "outputs": [],
   "source": [
    "url = 'http://jolse.com/category/toners-mists/1019/page=1'\n",
    "html = urlopen(url)\n",
    "bs_obj = bs4.BeautifulSoup(html, 'html.parser')\n",
    "# bs_obj"
   ]
  },
  {
   "cell_type": "code",
   "execution_count": 4,
   "id": "4a22b89f-c375-4ce5-a0aa-79df3f495f27",
   "metadata": {},
   "outputs": [
    {
     "data": {
      "text/plain": [
       "2"
      ]
     },
     "execution_count": 4,
     "metadata": {},
     "output_type": "execute_result"
    }
   ],
   "source": [
    "# page 구조\n",
    "# 추천 상품 2개는 모든 페이지에 동일\n",
    "# 일반 상품\n",
    "# 추천 상품과 일반 상품 그룹을 구성하는 태그명 동일\n",
    "# <ul class='prdList grd5'\n",
    "uls = bs_obj.findAll('ul',{'class':'prdList grid5'})\n",
    "len(uls)"
   ]
  },
  {
   "cell_type": "code",
   "execution_count": 5,
   "id": "ece95228-ac60-4978-a9bb-a48292ac0ece",
   "metadata": {},
   "outputs": [],
   "source": [
    "### (1) 첫 페이지에서 상품 정보 추출\n",
    "# 상품 정보만 담고 있느 div태그 사용( 이미지 제외)\n",
    "# div {'class':'description'}\n",
    "\n",
    "boxes = bs_obj.findAll('div',{'class':'description'})\n",
    "# boxes"
   ]
  },
  {
   "cell_type": "code",
   "execution_count": 6,
   "id": "b2761eda-36ef-468f-a3b2-e4fd1bc235a5",
   "metadata": {
    "jp-MarkdownHeadingCollapsed": true
   },
   "outputs": [],
   "source": [
    "### 추출할 요소 파악\n",
    "#상품명 : \"< strong class=\"name\" > :< sp an>:</sp an><sp an>상품명</sp an>\"\n",
    "# 상품명: 구분자(:)로 나눠서 뒤에 span\n",
    "# 정상 가격 / 세일 가격: <span> 태그로 선택자 없음\n",
    "# - description boxes 안에서 순서로 찾아가기\n",
    "# - 정상가격 : ul에서 두번째[1]<span>\n",
    "# - 세일가격 : ul에서 마지막[-1]<span>"
   ]
  },
  {
   "cell_type": "markdown",
   "id": "3176f0e8-1a1f-4fa9-8b05-13bf34dfb9c2",
   "metadata": {},
   "source": [
    "## (1) 상품명 추출"
   ]
  },
  {
   "cell_type": "code",
   "execution_count": 7,
   "id": "894478ec-7288-4ad6-b910-9a92a483f448",
   "metadata": {},
   "outputs": [
    {
     "name": "stdout",
     "output_type": "stream",
     "text": [
      " Haruharu WONDER Black Rice Hyaluronic Toner 300ml\n",
      " SOME BY MI Propolis B5 Glow Barrier Calming Toner 150ml\n",
      " Anua Heartleaf 77% Soothing Toner 250ml\n",
      " COSRX AHA/BHA CLARIFYING TREATMENT TONER 150ml\n",
      " COSRX Full Fit Propolis Synergy Toner 150ml\n",
      " Beauty of Joseon Ginseng Essence Water 150ml\n",
      " Haruharu WONDER Black Rice Hyaluronic Toner 150ml (Fragrance Free)\n",
      " ROUND LAB 1025 Dokdo Toner 200ml\n",
      " SOME BY MI AHA BHA PHA 30 Days Miracle Toner 150ml\n",
      " COSRX BHA BLACKHEAD POWER LIQUID 100 ML\n",
      " Pyunkang Yul Essence Toner 200ml\n",
      " 🔸0.99deal🔸 COSRX Refresh AHA/BHA Vitamin C Daily Toner 50ml\n",
      " numbuzin No.3 Super Glowing Essence Toner 200ml\n",
      " Isntree Green tea Fresh Toner 200ml\n",
      " AXIS-Y The Mini Glow Set\n",
      " COSRX CENTELLA WATER ALCOHOL FREE TONER 150ml\n",
      " COSRX AHA 7 WHITEHEAD POWER LIQUID 100ml\n",
      " COSRX Balancium Comfort Ceramide Cream Mist 120ml\n",
      " ROUND LAB 1025 Dokdo Toner 100ml\n",
      " Isntree Hyaluronic Acid Toner 200ml (Renewal)\n",
      " ROUND LAB 1025 Dokdo Toner 500ml\n",
      " COSRX Full Fit Propolis Synergy Toner 50ml\n"
     ]
    }
   ],
   "source": [
    "# 전체 상품명 출력\n",
    "for box in boxes:\n",
    "    strong_tag = box.find('strong',{'class':'name'})\n",
    "    print(strong_tag.text.split(\":\")[1])"
   ]
  },
  {
   "cell_type": "code",
   "execution_count": 8,
   "id": "34f9400f-3c9c-47a9-bcc9-aa87a1828673",
   "metadata": {},
   "outputs": [],
   "source": [
    "# 상품명을 리스트로 저장\n",
    "product_list = []\n",
    "for box in boxes:\n",
    "    strong_tag = box.find('strong',{'class':'name'})\n",
    "    product_list.append(strong_tag.text.split(\":\")[1])"
   ]
  },
  {
   "cell_type": "code",
   "execution_count": 9,
   "id": "f653a53d-8af3-4d93-82c7-31a02cb2846d",
   "metadata": {},
   "outputs": [
    {
     "data": {
      "text/plain": [
       "22"
      ]
     },
     "execution_count": 9,
     "metadata": {},
     "output_type": "execute_result"
    }
   ],
   "source": [
    "len(product_list)"
   ]
  },
  {
   "cell_type": "markdown",
   "id": "d94ed636-86a6-46d4-b6ed-c3a91c42774c",
   "metadata": {},
   "source": [
    "## (2) 상품 가격 추출"
   ]
  },
  {
   "cell_type": "code",
   "execution_count": 10,
   "id": "fd17e629-a90d-4d81-8712-55d29894d101",
   "metadata": {},
   "outputs": [
    {
     "data": {
      "text/plain": [
       "<ul class=\"xans-element- xans-product xans-product-listitem spec\"><li class=\"xans-record-\">\n",
       "<strong class=\"title displaynone\"><span style=\"font-size:16px;color:#888888;\">Price</span></strong> <span style=\"font-size:16px;color:#888888;text-decoration:line-through;\">USD 37.00</span><span id=\"span_product_tax_type_text\" style=\"text-decoration:line-through;\"> </span></li>\n",
       "<li class=\"xans-record-\">\n",
       "<strong class=\"title\"><span style=\"font-size:20px;color:#ff2d46;font-weight:bold;\"></span></strong> <span style=\"font-size:20px;color:#ff2d46;font-weight:bold;\">USD 33.30</span></li>\n",
       "</ul>"
      ]
     },
     "execution_count": 10,
     "metadata": {},
     "output_type": "execute_result"
    }
   ],
   "source": [
    "# 상품 가격의 <span> 태그가 선택자로 지정되어 있지 않기 때문에\n",
    "# description boxes 안에서 찾아감\n",
    "# 먼저 ul 태그 확인\n",
    "boxes[0].find('ul')"
   ]
  },
  {
   "cell_type": "code",
   "execution_count": 11,
   "id": "0986c513-0427-46dd-a43a-7fc0cbeeabde",
   "metadata": {},
   "outputs": [],
   "source": [
    "# # 정상 가격 / 세일 가격: <span> 태그로 선택자 없음\n",
    "# - description boxes 안에서 순서로 찾아가기\n",
    "# - 정상가격 : ul에서 두번째[1]<span>\n",
    "# - 세일가격 : ul에서 마지막[-1]<span>"
   ]
  },
  {
   "cell_type": "code",
   "execution_count": 12,
   "id": "15e50951-162d-439e-911e-635763a5b6ed",
   "metadata": {},
   "outputs": [
    {
     "data": {
      "text/plain": [
       "'USD 37.00'"
      ]
     },
     "execution_count": 12,
     "metadata": {},
     "output_type": "execute_result"
    },
    {
     "data": {
      "text/plain": [
       "'USD 33.30'"
      ]
     },
     "execution_count": 12,
     "metadata": {},
     "output_type": "execute_result"
    }
   ],
   "source": [
    "# 정상가격: 두번째 span\n",
    "boxes[0].find('ul').findAll('span')[1].text\n",
    "\n",
    "# 세일 가격 : 마지막 [-1]span\n",
    "boxes[0].find('ul').findAll('span')[-1].text"
   ]
  },
  {
   "cell_type": "code",
   "execution_count": 13,
   "id": "741e5dd8-e39b-4965-b02f-6566e60fe27f",
   "metadata": {},
   "outputs": [
    {
     "name": "stdout",
     "output_type": "stream",
     "text": [
      "상품명 :  Haruharu WONDER Black Rice Hyaluronic Toner 300ml\n",
      "정상가:  USD 37.00\n",
      "할인가: USD 33.30\n",
      "상품명 :  SOME BY MI Propolis B5 Glow Barrier Calming Toner 150ml\n",
      "정상가:  USD 22.00\n",
      "할인가: USD 19.80\n",
      "상품명 :  Anua Heartleaf 77% Soothing Toner 250ml\n",
      "정상가:  USD 28.00\n",
      "할인가: USD 25.20\n",
      "상품명 :  COSRX AHA/BHA CLARIFYING TREATMENT TONER 150ml\n",
      "정상가:  USD 17.25\n",
      "할인가: USD 8.29\n",
      "상품명 :  COSRX Full Fit Propolis Synergy Toner 150ml\n",
      "정상가:  USD 28.00\n",
      "할인가: USD 10.59\n",
      "상품명 :  Beauty of Joseon Ginseng Essence Water 150ml\n",
      "정상가:  USD 24.55\n",
      "할인가: USD 18.41\n",
      "상품명 :  Haruharu WONDER Black Rice Hyaluronic Toner 150ml (Fragrance Free)\n",
      "정상가:  USD 22.00\n",
      "할인가: USD 19.80\n",
      "상품명 :  ROUND LAB 1025 Dokdo Toner 200ml\n",
      "정상가:  USD 17.00\n",
      "할인가: USD 11.99\n",
      "상품명 :  SOME BY MI AHA BHA PHA 30 Days Miracle Toner 150ml\n",
      "정상가:  USD 24.00\n",
      "할인가: USD 14.29\n",
      "상품명 :  COSRX BHA BLACKHEAD POWER LIQUID 100 ML\n",
      "정상가:  USD 20.81\n",
      "할인가: USD 11.39\n",
      "상품명 :  Pyunkang Yul Essence Toner 200ml\n",
      "정상가:  USD 21.90\n",
      "할인가: USD 9.39\n",
      "상품명 :  🔸0.99deal🔸 COSRX Refresh AHA/BHA Vitamin C Daily Toner 50ml\n",
      "정상가:  USD 9.00\n",
      "할인가: USD 0.99\n",
      "상품명 :  numbuzin No.3 Super Glowing Essence Toner 200ml\n",
      "정상가:  USD 23.00\n",
      "할인가: USD 20.70\n",
      "상품명 :  Isntree Green tea Fresh Toner 200ml\n",
      "정상가:  USD 19.90\n",
      "할인가: USD 17.91\n",
      "상품명 :  AXIS-Y The Mini Glow Set\n",
      "정상가:  USD 7.00\n",
      "할인가: USD 6.30\n",
      "상품명 :  COSRX CENTELLA WATER ALCOHOL FREE TONER 150ml\n",
      "정상가:  USD 17.25\n",
      "할인가: USD 12.79\n",
      "상품명 :  COSRX AHA 7 WHITEHEAD POWER LIQUID 100ml\n",
      "정상가:  USD 17.81\n",
      "할인가: USD 11.79\n",
      "상품명 :  COSRX Balancium Comfort Ceramide Cream Mist 120ml\n",
      "정상가:  USD 29.00\n",
      "할인가: USD 26.10\n",
      "상품명 :  ROUND LAB 1025 Dokdo Toner 100ml\n",
      "정상가:  USD 13.55\n",
      "할인가: USD 12.19\n",
      "상품명 :  Isntree Hyaluronic Acid Toner 200ml (Renewal)\n",
      "정상가:  USD 19.30\n",
      "할인가: USD 17.37\n",
      "상품명 :  ROUND LAB 1025 Dokdo Toner 500ml\n",
      "정상가:  USD 34.00\n",
      "할인가: USD 30.60\n",
      "상품명 :  COSRX Full Fit Propolis Synergy Toner 50ml\n",
      "정상가:  USD 9.00\n",
      "할인가: USD 8.10\n"
     ]
    }
   ],
   "source": [
    "# 첫 페이지의 전체 상품 정보 추출\n",
    "# 상품명, 정상가격, 세일 가격\n",
    "for box in boxes:\n",
    "    name = box.find('strong', {'class':'name'}).text.split(':')[1]\n",
    "    price = box.find('ul').findAll('span')[1].text\n",
    "    sale_price = box.find('ul').findAll('span')[-1].text\n",
    "    \n",
    "    print('상품명 :',name)\n",
    "    print('정상가: ',price)\n",
    "    print('할인가:', sale_price)"
   ]
  },
  {
   "cell_type": "markdown",
   "id": "7b629190-a882-4b6d-972d-f7b5ff7e54ad",
   "metadata": {},
   "source": [
    "# 첫 페이지에서 상품 정보 추출하여 df로 저장\n",
    "- 접속 / 파싱\n",
    "- 수집\n",
    "- df로 저장"
   ]
  },
  {
   "cell_type": "code",
   "execution_count": 14,
   "id": "b25d95a7-cd91-42d3-a998-0689ee49feee",
   "metadata": {},
   "outputs": [],
   "source": [
    "url = 'http://jolse.com/category/toners-mists/1019/page=1'\n",
    "html = urlopen(url)\n",
    "bs_obj = bs4.BeautifulSoup(html, 'html.parser')\n"
   ]
  },
  {
   "cell_type": "code",
   "execution_count": 15,
   "id": "be6c6cbb-0421-4373-bac1-e16f2c2ebe1c",
   "metadata": {},
   "outputs": [],
   "source": [
    "# 빈 리스트 생성\n",
    "prd_list = []\n",
    "price_list = []\n",
    "sale_price_list = []"
   ]
  },
  {
   "cell_type": "code",
   "execution_count": 16,
   "id": "d8308f14-5d76-41df-9962-cf3cfa44d7c1",
   "metadata": {},
   "outputs": [],
   "source": [
    "# 전체 상품 데이터 추출 : boxes추출\n",
    "boxes = bs_obj.findAll('div', {'class':'description'})\n",
    "\n",
    "# 각 box에서 상품명, 정상가, 세일가 추출해서 리스트에 저장\n",
    "for box in boxes:\n",
    "    prd_list.append(box.find('strong', {'class':'name'}).text.split(':')[1])\n",
    "    price_list.append(box.find('ul').findAll('span')[1].text)\n",
    "    sale_price_list.append(box.find('ul').findAll('span')[-1].text)"
   ]
  },
  {
   "cell_type": "code",
   "execution_count": 17,
   "id": "5162b181-b826-4277-afce-5e5d516a4694",
   "metadata": {},
   "outputs": [
    {
     "data": {
      "text/html": [
       "<div>\n",
       "<style scoped>\n",
       "    .dataframe tbody tr th:only-of-type {\n",
       "        vertical-align: middle;\n",
       "    }\n",
       "\n",
       "    .dataframe tbody tr th {\n",
       "        vertical-align: top;\n",
       "    }\n",
       "\n",
       "    .dataframe thead th {\n",
       "        text-align: right;\n",
       "    }\n",
       "</style>\n",
       "<table border=\"1\" class=\"dataframe\">\n",
       "  <thead>\n",
       "    <tr style=\"text-align: right;\">\n",
       "      <th></th>\n",
       "      <th>품목</th>\n",
       "      <th>가격</th>\n",
       "      <th>세일가격</th>\n",
       "    </tr>\n",
       "  </thead>\n",
       "  <tbody>\n",
       "    <tr>\n",
       "      <th>0</th>\n",
       "      <td>Haruharu WONDER Black Rice Hyaluronic Toner 3...</td>\n",
       "      <td>USD 37.00</td>\n",
       "      <td>USD 33.30</td>\n",
       "    </tr>\n",
       "    <tr>\n",
       "      <th>1</th>\n",
       "      <td>SOME BY MI Propolis B5 Glow Barrier Calming T...</td>\n",
       "      <td>USD 22.00</td>\n",
       "      <td>USD 19.80</td>\n",
       "    </tr>\n",
       "    <tr>\n",
       "      <th>2</th>\n",
       "      <td>Anua Heartleaf 77% Soothing Toner 250ml</td>\n",
       "      <td>USD 28.00</td>\n",
       "      <td>USD 25.20</td>\n",
       "    </tr>\n",
       "    <tr>\n",
       "      <th>3</th>\n",
       "      <td>COSRX AHA/BHA CLARIFYING TREATMENT TONER 150ml</td>\n",
       "      <td>USD 17.25</td>\n",
       "      <td>USD 8.29</td>\n",
       "    </tr>\n",
       "    <tr>\n",
       "      <th>4</th>\n",
       "      <td>COSRX Full Fit Propolis Synergy Toner 150ml</td>\n",
       "      <td>USD 28.00</td>\n",
       "      <td>USD 10.59</td>\n",
       "    </tr>\n",
       "    <tr>\n",
       "      <th>5</th>\n",
       "      <td>Beauty of Joseon Ginseng Essence Water 150ml</td>\n",
       "      <td>USD 24.55</td>\n",
       "      <td>USD 18.41</td>\n",
       "    </tr>\n",
       "    <tr>\n",
       "      <th>6</th>\n",
       "      <td>Haruharu WONDER Black Rice Hyaluronic Toner 1...</td>\n",
       "      <td>USD 22.00</td>\n",
       "      <td>USD 19.80</td>\n",
       "    </tr>\n",
       "    <tr>\n",
       "      <th>7</th>\n",
       "      <td>ROUND LAB 1025 Dokdo Toner 200ml</td>\n",
       "      <td>USD 17.00</td>\n",
       "      <td>USD 11.99</td>\n",
       "    </tr>\n",
       "    <tr>\n",
       "      <th>8</th>\n",
       "      <td>SOME BY MI AHA BHA PHA 30 Days Miracle Toner ...</td>\n",
       "      <td>USD 24.00</td>\n",
       "      <td>USD 14.29</td>\n",
       "    </tr>\n",
       "    <tr>\n",
       "      <th>9</th>\n",
       "      <td>COSRX BHA BLACKHEAD POWER LIQUID 100 ML</td>\n",
       "      <td>USD 20.81</td>\n",
       "      <td>USD 11.39</td>\n",
       "    </tr>\n",
       "    <tr>\n",
       "      <th>10</th>\n",
       "      <td>Pyunkang Yul Essence Toner 200ml</td>\n",
       "      <td>USD 21.90</td>\n",
       "      <td>USD 9.39</td>\n",
       "    </tr>\n",
       "    <tr>\n",
       "      <th>11</th>\n",
       "      <td>🔸0.99deal🔸 COSRX Refresh AHA/BHA Vitamin C Da...</td>\n",
       "      <td>USD 9.00</td>\n",
       "      <td>USD 0.99</td>\n",
       "    </tr>\n",
       "    <tr>\n",
       "      <th>12</th>\n",
       "      <td>numbuzin No.3 Super Glowing Essence Toner 200ml</td>\n",
       "      <td>USD 23.00</td>\n",
       "      <td>USD 20.70</td>\n",
       "    </tr>\n",
       "    <tr>\n",
       "      <th>13</th>\n",
       "      <td>Isntree Green tea Fresh Toner 200ml</td>\n",
       "      <td>USD 19.90</td>\n",
       "      <td>USD 17.91</td>\n",
       "    </tr>\n",
       "    <tr>\n",
       "      <th>14</th>\n",
       "      <td>AXIS-Y The Mini Glow Set</td>\n",
       "      <td>USD 7.00</td>\n",
       "      <td>USD 6.30</td>\n",
       "    </tr>\n",
       "    <tr>\n",
       "      <th>15</th>\n",
       "      <td>COSRX CENTELLA WATER ALCOHOL FREE TONER 150ml</td>\n",
       "      <td>USD 17.25</td>\n",
       "      <td>USD 12.79</td>\n",
       "    </tr>\n",
       "    <tr>\n",
       "      <th>16</th>\n",
       "      <td>COSRX AHA 7 WHITEHEAD POWER LIQUID 100ml</td>\n",
       "      <td>USD 17.81</td>\n",
       "      <td>USD 11.79</td>\n",
       "    </tr>\n",
       "    <tr>\n",
       "      <th>17</th>\n",
       "      <td>COSRX Balancium Comfort Ceramide Cream Mist 1...</td>\n",
       "      <td>USD 29.00</td>\n",
       "      <td>USD 26.10</td>\n",
       "    </tr>\n",
       "    <tr>\n",
       "      <th>18</th>\n",
       "      <td>ROUND LAB 1025 Dokdo Toner 100ml</td>\n",
       "      <td>USD 13.55</td>\n",
       "      <td>USD 12.19</td>\n",
       "    </tr>\n",
       "    <tr>\n",
       "      <th>19</th>\n",
       "      <td>Isntree Hyaluronic Acid Toner 200ml (Renewal)</td>\n",
       "      <td>USD 19.30</td>\n",
       "      <td>USD 17.37</td>\n",
       "    </tr>\n",
       "    <tr>\n",
       "      <th>20</th>\n",
       "      <td>ROUND LAB 1025 Dokdo Toner 500ml</td>\n",
       "      <td>USD 34.00</td>\n",
       "      <td>USD 30.60</td>\n",
       "    </tr>\n",
       "    <tr>\n",
       "      <th>21</th>\n",
       "      <td>COSRX Full Fit Propolis Synergy Toner 50ml</td>\n",
       "      <td>USD 9.00</td>\n",
       "      <td>USD 8.10</td>\n",
       "    </tr>\n",
       "  </tbody>\n",
       "</table>\n",
       "</div>"
      ],
      "text/plain": [
       "                                                   품목         가격       세일가격\n",
       "0    Haruharu WONDER Black Rice Hyaluronic Toner 3...  USD 37.00  USD 33.30\n",
       "1    SOME BY MI Propolis B5 Glow Barrier Calming T...  USD 22.00  USD 19.80\n",
       "2             Anua Heartleaf 77% Soothing Toner 250ml  USD 28.00  USD 25.20\n",
       "3      COSRX AHA/BHA CLARIFYING TREATMENT TONER 150ml  USD 17.25   USD 8.29\n",
       "4         COSRX Full Fit Propolis Synergy Toner 150ml  USD 28.00  USD 10.59\n",
       "5        Beauty of Joseon Ginseng Essence Water 150ml  USD 24.55  USD 18.41\n",
       "6    Haruharu WONDER Black Rice Hyaluronic Toner 1...  USD 22.00  USD 19.80\n",
       "7                    ROUND LAB 1025 Dokdo Toner 200ml  USD 17.00  USD 11.99\n",
       "8    SOME BY MI AHA BHA PHA 30 Days Miracle Toner ...  USD 24.00  USD 14.29\n",
       "9             COSRX BHA BLACKHEAD POWER LIQUID 100 ML  USD 20.81  USD 11.39\n",
       "10                   Pyunkang Yul Essence Toner 200ml  USD 21.90   USD 9.39\n",
       "11   🔸0.99deal🔸 COSRX Refresh AHA/BHA Vitamin C Da...   USD 9.00   USD 0.99\n",
       "12    numbuzin No.3 Super Glowing Essence Toner 200ml  USD 23.00  USD 20.70\n",
       "13                Isntree Green tea Fresh Toner 200ml  USD 19.90  USD 17.91\n",
       "14                           AXIS-Y The Mini Glow Set   USD 7.00   USD 6.30\n",
       "15      COSRX CENTELLA WATER ALCOHOL FREE TONER 150ml  USD 17.25  USD 12.79\n",
       "16           COSRX AHA 7 WHITEHEAD POWER LIQUID 100ml  USD 17.81  USD 11.79\n",
       "17   COSRX Balancium Comfort Ceramide Cream Mist 1...  USD 29.00  USD 26.10\n",
       "18                   ROUND LAB 1025 Dokdo Toner 100ml  USD 13.55  USD 12.19\n",
       "19      Isntree Hyaluronic Acid Toner 200ml (Renewal)  USD 19.30  USD 17.37\n",
       "20                   ROUND LAB 1025 Dokdo Toner 500ml  USD 34.00  USD 30.60\n",
       "21         COSRX Full Fit Propolis Synergy Toner 50ml   USD 9.00   USD 8.10"
      ]
     },
     "execution_count": 17,
     "metadata": {},
     "output_type": "execute_result"
    }
   ],
   "source": [
    "# 각 리스트를 데이터 프레임으로 생성\n",
    "product_df = pd.DataFrame({\n",
    "    '품목':prd_list,\n",
    "    '가격':price_list,\n",
    "    '세일가격':sale_price_list\n",
    "})\n",
    "product_df"
   ]
  },
  {
   "cell_type": "code",
   "execution_count": 18,
   "id": "18f62f54-f256-42b2-85c9-71c3925a20a9",
   "metadata": {},
   "outputs": [],
   "source": [
    "######### 첫페이지 상품 정보 추출 완료 "
   ]
  },
  {
   "cell_type": "markdown",
   "id": "09578aef-7880-425e-98bf-b9002e428dbf",
   "metadata": {},
   "source": [
    "#### (2) 여러 페이지 크롤링\n",
    "- 현재 페이지 뿐 아니라 다른 모든 페이지에서도 반복 적용할 수 있도록 함수로 작성"
   ]
  },
  {
   "cell_type": "markdown",
   "id": "00728df5-8a33-454f-bd11-35604b293d9a",
   "metadata": {},
   "source": [
    "#### 함수명 및 수행 기능\n",
    "(1) get_request(url) : 접속 , 파싱\n",
    "- url 받아서 접속 및 파싱\n",
    "- return : bs4객체\n",
    "\n",
    "(2) get_product_info(box) : 1개 상품 정보 추출\n",
    "- box 받아서 상품 정보 추출 후 반환\n",
    "- 반환 값 : 1개 상품의 상품명 / 가격 / 세일가격을 딕셔너리 형태로 반환\n",
    "\n",
    "(3) get_page_product(url) : 각 페이지에서 전체 상품 정보 추출하고 df에 추가\n",
    "- 전달받은 url페이지에서 box추출하여\n",
    "- get_product_info(box)호출해서 전달하고 반환된 1개의 상품 정보로 데이터 프레임 생성 및 추가"
   ]
  },
  {
   "cell_type": "code",
   "execution_count": 19,
   "id": "30dd4d03-5f21-410d-b80c-c8769da9fdd7",
   "metadata": {},
   "outputs": [
    {
     "data": {
      "text/html": [
       "<div>\n",
       "<style scoped>\n",
       "    .dataframe tbody tr th:only-of-type {\n",
       "        vertical-align: middle;\n",
       "    }\n",
       "\n",
       "    .dataframe tbody tr th {\n",
       "        vertical-align: top;\n",
       "    }\n",
       "\n",
       "    .dataframe thead th {\n",
       "        text-align: right;\n",
       "    }\n",
       "</style>\n",
       "<table border=\"1\" class=\"dataframe\">\n",
       "  <thead>\n",
       "    <tr style=\"text-align: right;\">\n",
       "      <th></th>\n",
       "      <th>품목</th>\n",
       "      <th>가격</th>\n",
       "      <th>세일가격</th>\n",
       "    </tr>\n",
       "  </thead>\n",
       "  <tbody>\n",
       "  </tbody>\n",
       "</table>\n",
       "</div>"
      ],
      "text/plain": [
       "Empty DataFrame\n",
       "Columns: [품목, 가격, 세일가격]\n",
       "Index: []"
      ]
     },
     "execution_count": 19,
     "metadata": {},
     "output_type": "execute_result"
    }
   ],
   "source": [
    "# 최종 상품 정보 저장할 빈 df생성\n",
    "all_product_df = pd.DataFrame({\n",
    "    '품목':[],\n",
    "    '가격':[],\n",
    "    '세일가격':[]\n",
    "})\n",
    "all_product_df"
   ]
  },
  {
   "cell_type": "code",
   "execution_count": 20,
   "id": "a67195bf-a898-4386-976b-5a01c781d228",
   "metadata": {},
   "outputs": [],
   "source": [
    "# (1) 접속, 파싱 기능 수행 함수\n",
    "def get_request_product(url):\n",
    "    try:\n",
    "        html = urlopen(url)\n",
    "        bs_obj = bs4.BeautifulSoup(html, 'html.parser')\n",
    "    except:\n",
    "        print('접속 및 파싱 오류')\n",
    "        \n",
    "    return bs_obj\n"
   ]
  },
  {
   "cell_type": "code",
   "execution_count": 21,
   "id": "81b89ea9-aa0c-4d74-87e0-55ed8bafd77e",
   "metadata": {},
   "outputs": [],
   "source": [
    "# (2) 1개의 상품 정보를 추출하는 함수\n",
    "# 1개 상품 정보 추출\n",
    "# box받아서 상품 정보 추출 후 반환\n",
    "# 반환 값 : 1개 상품의 상품명/가격/세일가격 dict\n",
    "def get_product_info(box):\n",
    "    try:\n",
    "        name = box.find('strong', {'class':'name'}).text.split(':')[1]\n",
    "        price = box.find('ul').findAll('span')[1].text\n",
    "        sale_price = box.find('ul').findAll('span')[-1].text\n",
    "    except:\n",
    "        print('상품 정보 추출 오류')\n",
    "        \n",
    "    return {'품목':name, '가격':price, '세일 가격':sale_price}"
   ]
  },
  {
   "cell_type": "code",
   "execution_count": 31,
   "id": "a4536606-b74e-4993-bb1f-8b3206d3b538",
   "metadata": {},
   "outputs": [],
   "source": [
    "# (3) 전달받은 url 한 페이지에서 상품 정보 추출하고 df에 추가하는 함수\n",
    "def get_page_product(url):\n",
    "    global all_product_df\n",
    "    print(url)\n",
    "    try:\n",
    "        # 접속 및 파싱 - 함수1 사용\n",
    "        bs_obj = get_request_product(url)\n",
    "        \n",
    "        # 해당 페이지에서 전체 상품 추출\n",
    "        boxes = bs_obj.findAll('div', {'class':'description'})\n",
    "        # 모든 페이지에 추천 상품 2개포함되어 있으므로\n",
    "        # 첫 페이지 : 22개 다 추출\n",
    "        # 두 번째 이후 페이지 : 추천 상품 제외하고 추출(20개)\n",
    "        # 페이지 구분 : https://...../?page=2\n",
    "        # url을 =구분자로 split해서 오른쪽 값([1]) : 페이지 번호\n",
    "        \n",
    "        # 페이지 번호가 1이 아니라면 세번째 상품부터 추출\n",
    "        if url.split('=')[1] != '1':\n",
    "            boxes = boxes[2:]    \n",
    "\n",
    "    except:\n",
    "        print('페이지 정보 추출 오류')\n",
    "        \n",
    "\n",
    "    # 추출된 각 상품 정보를 df에 추가 - 2번째 만든 함수 사용\n",
    "    for box in boxes:\n",
    "        df = pd.DataFrame(get_product_info(box), index=range(1,2))   # 형식적 인덱스추가 의미없음\n",
    "        all_product_df = pd.concat([all_product_df, df], axis=0, ignore_index=True)"
   ]
  },
  {
   "cell_type": "code",
   "execution_count": 23,
   "id": "ed1849cd-9bb8-42c9-ad68-342482a4d2cc",
   "metadata": {},
   "outputs": [],
   "source": [
    "# # 테스트\n",
    "# url = 'http://jolse.com/category/toners-mists/1019/page=2'\n",
    "# get_page_product(url)"
   ]
  },
  {
   "cell_type": "code",
   "execution_count": 24,
   "id": "f6a1c1cb-c11f-43af-bd41-4af0b87df233",
   "metadata": {},
   "outputs": [
    {
     "data": {
      "text/html": [
       "<div>\n",
       "<style scoped>\n",
       "    .dataframe tbody tr th:only-of-type {\n",
       "        vertical-align: middle;\n",
       "    }\n",
       "\n",
       "    .dataframe tbody tr th {\n",
       "        vertical-align: top;\n",
       "    }\n",
       "\n",
       "    .dataframe thead th {\n",
       "        text-align: right;\n",
       "    }\n",
       "</style>\n",
       "<table border=\"1\" class=\"dataframe\">\n",
       "  <thead>\n",
       "    <tr style=\"text-align: right;\">\n",
       "      <th></th>\n",
       "      <th>품목</th>\n",
       "      <th>가격</th>\n",
       "      <th>세일가격</th>\n",
       "    </tr>\n",
       "  </thead>\n",
       "  <tbody>\n",
       "  </tbody>\n",
       "</table>\n",
       "</div>"
      ],
      "text/plain": [
       "Empty DataFrame\n",
       "Columns: [품목, 가격, 세일가격]\n",
       "Index: []"
      ]
     },
     "execution_count": 24,
     "metadata": {},
     "output_type": "execute_result"
    }
   ],
   "source": [
    "all_product_df"
   ]
  },
  {
   "cell_type": "markdown",
   "id": "2ef9521a-97a1-4c84-be52-d6635b1717a0",
   "metadata": {},
   "source": [
    "#### 여러 페이지 추출  \n",
    "- url 뒤에 페이지 번호 있음  \n",
    "- url 작성 시 페이지 번호를 따로 붙임   \n",
    "- 'http://jolse.com/category/toners-mists/1019/page=' + 페이지 번호  "
   ]
  },
  {
   "cell_type": "code",
   "execution_count": 25,
   "id": "20904f6b-2786-4d46-9b28-e13cec788d26",
   "metadata": {},
   "outputs": [
    {
     "data": {
      "text/plain": [
       "'22'"
      ]
     },
     "execution_count": 25,
     "metadata": {},
     "output_type": "execute_result"
    }
   ],
   "source": [
    "# 마지막 페이지 값 추출\n",
    "url = 'http://jolse.com/category/toners-mists/1019/page=1'\n",
    "html = urlopen(url)\n",
    "\n",
    "bs_obj = bs4.BeautifulSoup(html, 'html.parser')\n",
    "last_page = bs_obj.find('a',{'class':'last'})['href'].split('=')[1]\n",
    "last_page"
   ]
  },
  {
   "cell_type": "code",
   "execution_count": 26,
   "id": "c4347631-923c-4e4a-b204-f0e0b4d4aa94",
   "metadata": {},
   "outputs": [
    {
     "name": "stdout",
     "output_type": "stream",
     "text": [
      "http://jolse.com/category/toners-mists/1019/page=1\n",
      "http://jolse.com/category/toners-mists/1019/page=2\n",
      "http://jolse.com/category/toners-mists/1019/page=3\n",
      "http://jolse.com/category/toners-mists/1019/page=4\n",
      "http://jolse.com/category/toners-mists/1019/page=5\n",
      "http://jolse.com/category/toners-mists/1019/page=6\n",
      "http://jolse.com/category/toners-mists/1019/page=7\n",
      "http://jolse.com/category/toners-mists/1019/page=8\n",
      "http://jolse.com/category/toners-mists/1019/page=9\n",
      "http://jolse.com/category/toners-mists/1019/page=10\n",
      "http://jolse.com/category/toners-mists/1019/page=11\n",
      "http://jolse.com/category/toners-mists/1019/page=12\n",
      "http://jolse.com/category/toners-mists/1019/page=13\n",
      "http://jolse.com/category/toners-mists/1019/page=14\n",
      "http://jolse.com/category/toners-mists/1019/page=15\n",
      "http://jolse.com/category/toners-mists/1019/page=16\n",
      "http://jolse.com/category/toners-mists/1019/page=17\n",
      "http://jolse.com/category/toners-mists/1019/page=18\n",
      "http://jolse.com/category/toners-mists/1019/page=19\n",
      "http://jolse.com/category/toners-mists/1019/page=20\n",
      "http://jolse.com/category/toners-mists/1019/page=21\n",
      "http://jolse.com/category/toners-mists/1019/page=22\n"
     ]
    }
   ],
   "source": [
    "# 모든 페이지에서 상품 정보 추출\n",
    "base_url = 'http://jolse.com/category/toners-mists/1019/page='\n",
    "\n",
    "for i in range(1, int(last_page) + 1):\n",
    "    url = base_url + str(i)\n",
    "    get_page_product(url)"
   ]
  },
  {
   "cell_type": "code",
   "execution_count": 27,
   "id": "c5a2c930-6f24-40e5-93d6-5afad74376b8",
   "metadata": {},
   "outputs": [
    {
     "data": {
      "text/html": [
       "<div>\n",
       "<style scoped>\n",
       "    .dataframe tbody tr th:only-of-type {\n",
       "        vertical-align: middle;\n",
       "    }\n",
       "\n",
       "    .dataframe tbody tr th {\n",
       "        vertical-align: top;\n",
       "    }\n",
       "\n",
       "    .dataframe thead th {\n",
       "        text-align: right;\n",
       "    }\n",
       "</style>\n",
       "<table border=\"1\" class=\"dataframe\">\n",
       "  <thead>\n",
       "    <tr style=\"text-align: right;\">\n",
       "      <th></th>\n",
       "      <th>품목</th>\n",
       "      <th>가격</th>\n",
       "      <th>세일가격</th>\n",
       "      <th>세일 가격</th>\n",
       "    </tr>\n",
       "  </thead>\n",
       "  <tbody>\n",
       "    <tr>\n",
       "      <th>0</th>\n",
       "      <td>Haruharu WONDER Black Rice Hyaluronic Toner 3...</td>\n",
       "      <td>USD 37.00</td>\n",
       "      <td>NaN</td>\n",
       "      <td>USD 33.30</td>\n",
       "    </tr>\n",
       "    <tr>\n",
       "      <th>1</th>\n",
       "      <td>SOME BY MI Propolis B5 Glow Barrier Calming T...</td>\n",
       "      <td>USD 22.00</td>\n",
       "      <td>NaN</td>\n",
       "      <td>USD 19.80</td>\n",
       "    </tr>\n",
       "    <tr>\n",
       "      <th>2</th>\n",
       "      <td>Anua Heartleaf 77% Soothing Toner 250ml</td>\n",
       "      <td>USD 28.00</td>\n",
       "      <td>NaN</td>\n",
       "      <td>USD 25.20</td>\n",
       "    </tr>\n",
       "    <tr>\n",
       "      <th>3</th>\n",
       "      <td>COSRX AHA/BHA CLARIFYING TREATMENT TONER 150ml</td>\n",
       "      <td>USD 17.25</td>\n",
       "      <td>NaN</td>\n",
       "      <td>USD 8.29</td>\n",
       "    </tr>\n",
       "    <tr>\n",
       "      <th>4</th>\n",
       "      <td>COSRX Full Fit Propolis Synergy Toner 150ml</td>\n",
       "      <td>USD 28.00</td>\n",
       "      <td>NaN</td>\n",
       "      <td>USD 10.59</td>\n",
       "    </tr>\n",
       "    <tr>\n",
       "      <th>...</th>\n",
       "      <td>...</td>\n",
       "      <td>...</td>\n",
       "      <td>...</td>\n",
       "      <td>...</td>\n",
       "    </tr>\n",
       "    <tr>\n",
       "      <th>437</th>\n",
       "      <td>COSRX Balancium Comfort Ceramide Cream Mist 1...</td>\n",
       "      <td>USD 29.00</td>\n",
       "      <td>NaN</td>\n",
       "      <td>USD 26.10</td>\n",
       "    </tr>\n",
       "    <tr>\n",
       "      <th>438</th>\n",
       "      <td>ROUND LAB 1025 Dokdo Toner 100ml</td>\n",
       "      <td>USD 13.55</td>\n",
       "      <td>NaN</td>\n",
       "      <td>USD 12.19</td>\n",
       "    </tr>\n",
       "    <tr>\n",
       "      <th>439</th>\n",
       "      <td>Isntree Hyaluronic Acid Toner 200ml (Renewal)</td>\n",
       "      <td>USD 19.30</td>\n",
       "      <td>NaN</td>\n",
       "      <td>USD 17.37</td>\n",
       "    </tr>\n",
       "    <tr>\n",
       "      <th>440</th>\n",
       "      <td>ROUND LAB 1025 Dokdo Toner 500ml</td>\n",
       "      <td>USD 34.00</td>\n",
       "      <td>NaN</td>\n",
       "      <td>USD 30.60</td>\n",
       "    </tr>\n",
       "    <tr>\n",
       "      <th>441</th>\n",
       "      <td>COSRX Full Fit Propolis Synergy Toner 50ml</td>\n",
       "      <td>USD 9.00</td>\n",
       "      <td>NaN</td>\n",
       "      <td>USD 8.10</td>\n",
       "    </tr>\n",
       "  </tbody>\n",
       "</table>\n",
       "<p>442 rows × 4 columns</p>\n",
       "</div>"
      ],
      "text/plain": [
       "                                                    품목         가격  세일가격  \\\n",
       "0     Haruharu WONDER Black Rice Hyaluronic Toner 3...  USD 37.00   NaN   \n",
       "1     SOME BY MI Propolis B5 Glow Barrier Calming T...  USD 22.00   NaN   \n",
       "2              Anua Heartleaf 77% Soothing Toner 250ml  USD 28.00   NaN   \n",
       "3       COSRX AHA/BHA CLARIFYING TREATMENT TONER 150ml  USD 17.25   NaN   \n",
       "4          COSRX Full Fit Propolis Synergy Toner 150ml  USD 28.00   NaN   \n",
       "..                                                 ...        ...   ...   \n",
       "437   COSRX Balancium Comfort Ceramide Cream Mist 1...  USD 29.00   NaN   \n",
       "438                   ROUND LAB 1025 Dokdo Toner 100ml  USD 13.55   NaN   \n",
       "439      Isntree Hyaluronic Acid Toner 200ml (Renewal)  USD 19.30   NaN   \n",
       "440                   ROUND LAB 1025 Dokdo Toner 500ml  USD 34.00   NaN   \n",
       "441         COSRX Full Fit Propolis Synergy Toner 50ml   USD 9.00   NaN   \n",
       "\n",
       "         세일 가격  \n",
       "0    USD 33.30  \n",
       "1    USD 19.80  \n",
       "2    USD 25.20  \n",
       "3     USD 8.29  \n",
       "4    USD 10.59  \n",
       "..         ...  \n",
       "437  USD 26.10  \n",
       "438  USD 12.19  \n",
       "439  USD 17.37  \n",
       "440  USD 30.60  \n",
       "441   USD 8.10  \n",
       "\n",
       "[442 rows x 4 columns]"
      ]
     },
     "execution_count": 27,
     "metadata": {},
     "output_type": "execute_result"
    }
   ],
   "source": [
    "all_product_df"
   ]
  },
  {
   "cell_type": "code",
   "execution_count": 28,
   "id": "c0c0b90f-9f0d-4241-a8f0-cd9deac9f7a6",
   "metadata": {},
   "outputs": [],
   "source": [
    "all_product_df.to_csv('./crawl_data/shopping_products.csv', index=0)"
   ]
  },
  {
   "cell_type": "code",
   "execution_count": 29,
   "id": "fe48ee2b-ae6b-4bb1-a4a8-00cc1e1a850a",
   "metadata": {},
   "outputs": [],
   "source": [
    "all_product_df = pd.read_csv('./crawl_data/shopping_products.csv')"
   ]
  },
  {
   "cell_type": "code",
   "execution_count": 30,
   "id": "f45251d3-fc70-4cad-aa0f-00f557a4922d",
   "metadata": {},
   "outputs": [
    {
     "data": {
      "text/html": [
       "<div>\n",
       "<style scoped>\n",
       "    .dataframe tbody tr th:only-of-type {\n",
       "        vertical-align: middle;\n",
       "    }\n",
       "\n",
       "    .dataframe tbody tr th {\n",
       "        vertical-align: top;\n",
       "    }\n",
       "\n",
       "    .dataframe thead th {\n",
       "        text-align: right;\n",
       "    }\n",
       "</style>\n",
       "<table border=\"1\" class=\"dataframe\">\n",
       "  <thead>\n",
       "    <tr style=\"text-align: right;\">\n",
       "      <th></th>\n",
       "      <th>품목</th>\n",
       "      <th>가격</th>\n",
       "      <th>세일가격</th>\n",
       "      <th>세일 가격</th>\n",
       "    </tr>\n",
       "  </thead>\n",
       "  <tbody>\n",
       "    <tr>\n",
       "      <th>0</th>\n",
       "      <td>Haruharu WONDER Black Rice Hyaluronic Toner 3...</td>\n",
       "      <td>USD 37.00</td>\n",
       "      <td>NaN</td>\n",
       "      <td>USD 33.30</td>\n",
       "    </tr>\n",
       "    <tr>\n",
       "      <th>1</th>\n",
       "      <td>SOME BY MI Propolis B5 Glow Barrier Calming T...</td>\n",
       "      <td>USD 22.00</td>\n",
       "      <td>NaN</td>\n",
       "      <td>USD 19.80</td>\n",
       "    </tr>\n",
       "    <tr>\n",
       "      <th>2</th>\n",
       "      <td>Anua Heartleaf 77% Soothing Toner 250ml</td>\n",
       "      <td>USD 28.00</td>\n",
       "      <td>NaN</td>\n",
       "      <td>USD 25.20</td>\n",
       "    </tr>\n",
       "    <tr>\n",
       "      <th>3</th>\n",
       "      <td>COSRX AHA/BHA CLARIFYING TREATMENT TONER 150ml</td>\n",
       "      <td>USD 17.25</td>\n",
       "      <td>NaN</td>\n",
       "      <td>USD 8.29</td>\n",
       "    </tr>\n",
       "    <tr>\n",
       "      <th>4</th>\n",
       "      <td>COSRX Full Fit Propolis Synergy Toner 150ml</td>\n",
       "      <td>USD 28.00</td>\n",
       "      <td>NaN</td>\n",
       "      <td>USD 10.59</td>\n",
       "    </tr>\n",
       "    <tr>\n",
       "      <th>...</th>\n",
       "      <td>...</td>\n",
       "      <td>...</td>\n",
       "      <td>...</td>\n",
       "      <td>...</td>\n",
       "    </tr>\n",
       "    <tr>\n",
       "      <th>437</th>\n",
       "      <td>COSRX Balancium Comfort Ceramide Cream Mist 1...</td>\n",
       "      <td>USD 29.00</td>\n",
       "      <td>NaN</td>\n",
       "      <td>USD 26.10</td>\n",
       "    </tr>\n",
       "    <tr>\n",
       "      <th>438</th>\n",
       "      <td>ROUND LAB 1025 Dokdo Toner 100ml</td>\n",
       "      <td>USD 13.55</td>\n",
       "      <td>NaN</td>\n",
       "      <td>USD 12.19</td>\n",
       "    </tr>\n",
       "    <tr>\n",
       "      <th>439</th>\n",
       "      <td>Isntree Hyaluronic Acid Toner 200ml (Renewal)</td>\n",
       "      <td>USD 19.30</td>\n",
       "      <td>NaN</td>\n",
       "      <td>USD 17.37</td>\n",
       "    </tr>\n",
       "    <tr>\n",
       "      <th>440</th>\n",
       "      <td>ROUND LAB 1025 Dokdo Toner 500ml</td>\n",
       "      <td>USD 34.00</td>\n",
       "      <td>NaN</td>\n",
       "      <td>USD 30.60</td>\n",
       "    </tr>\n",
       "    <tr>\n",
       "      <th>441</th>\n",
       "      <td>COSRX Full Fit Propolis Synergy Toner 50ml</td>\n",
       "      <td>USD 9.00</td>\n",
       "      <td>NaN</td>\n",
       "      <td>USD 8.10</td>\n",
       "    </tr>\n",
       "  </tbody>\n",
       "</table>\n",
       "<p>442 rows × 4 columns</p>\n",
       "</div>"
      ],
      "text/plain": [
       "                                                    품목         가격  세일가격  \\\n",
       "0     Haruharu WONDER Black Rice Hyaluronic Toner 3...  USD 37.00   NaN   \n",
       "1     SOME BY MI Propolis B5 Glow Barrier Calming T...  USD 22.00   NaN   \n",
       "2              Anua Heartleaf 77% Soothing Toner 250ml  USD 28.00   NaN   \n",
       "3       COSRX AHA/BHA CLARIFYING TREATMENT TONER 150ml  USD 17.25   NaN   \n",
       "4          COSRX Full Fit Propolis Synergy Toner 150ml  USD 28.00   NaN   \n",
       "..                                                 ...        ...   ...   \n",
       "437   COSRX Balancium Comfort Ceramide Cream Mist 1...  USD 29.00   NaN   \n",
       "438                   ROUND LAB 1025 Dokdo Toner 100ml  USD 13.55   NaN   \n",
       "439      Isntree Hyaluronic Acid Toner 200ml (Renewal)  USD 19.30   NaN   \n",
       "440                   ROUND LAB 1025 Dokdo Toner 500ml  USD 34.00   NaN   \n",
       "441         COSRX Full Fit Propolis Synergy Toner 50ml   USD 9.00   NaN   \n",
       "\n",
       "         세일 가격  \n",
       "0    USD 33.30  \n",
       "1    USD 19.80  \n",
       "2    USD 25.20  \n",
       "3     USD 8.29  \n",
       "4    USD 10.59  \n",
       "..         ...  \n",
       "437  USD 26.10  \n",
       "438  USD 12.19  \n",
       "439  USD 17.37  \n",
       "440  USD 30.60  \n",
       "441   USD 8.10  \n",
       "\n",
       "[442 rows x 4 columns]"
      ]
     },
     "execution_count": 30,
     "metadata": {},
     "output_type": "execute_result"
    }
   ],
   "source": [
    "all_product_df"
   ]
  }
 ],
 "metadata": {
  "kernelspec": {
   "display_name": "Python 3 (ipykernel)",
   "language": "python",
   "name": "python3"
  },
  "language_info": {
   "codemirror_mode": {
    "name": "ipython",
    "version": 3
   },
   "file_extension": ".py",
   "mimetype": "text/x-python",
   "name": "python",
   "nbconvert_exporter": "python",
   "pygments_lexer": "ipython3",
   "version": "3.11.5"
  }
 },
 "nbformat": 4,
 "nbformat_minor": 5
}
