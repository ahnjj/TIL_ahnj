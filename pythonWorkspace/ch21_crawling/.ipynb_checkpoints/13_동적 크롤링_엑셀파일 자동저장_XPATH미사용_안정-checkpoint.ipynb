{
 "cells": [
  {
   "cell_type": "markdown",
   "id": "a3e44bd4-861f-4d09-af9a-2d29ec62392b",
   "metadata": {},
   "source": [
    "## Opinet 사이트\n",
    "https://www.opinet.co.kr/user/main/mainView.do\n",
    "주유소의 가격을 비교하는 사이트"
   ]
  },
  {
   "cell_type": "markdown",
   "id": "b23d8fe6-7cc7-4606-b0cd-2684222c3106",
   "metadata": {},
   "source": [
    "- 메뉴에서 [싼 주유소 찾기] / [지역별] 이 페이지부터 시작\n",
    "- https://www.opinet.co.kr/searRgSelect.do\n",
    "- 접속한 지역으로 자동 설정됨\n",
    "- 지역을 [서울]로 선택"
   ]
  },
  {
   "cell_type": "code",
   "execution_count": 1,
   "id": "41b70110-d584-4d91-b9cc-411cfb934c07",
   "metadata": {},
   "outputs": [],
   "source": [
    "from IPython.core.interactiveshell import InteractiveShell\n",
    "InteractiveShell.ast_node_interactivity=\"all\""
   ]
  },
  {
   "cell_type": "code",
   "execution_count": 2,
   "id": "ebe8cc65-9995-433a-ba5f-900e45f52df2",
   "metadata": {},
   "outputs": [],
   "source": [
    "from urllib.request import urlopen\n",
    "import bs4\n",
    "import pandas as pd"
   ]
  },
  {
   "cell_type": "code",
   "execution_count": 3,
   "id": "3e03ae3f-f789-45c6-9b1d-0196f11af47a",
   "metadata": {},
   "outputs": [],
   "source": [
    "import selenium\n",
    "from selenium import webdriver\n",
    "from selenium.webdriver.common.by import By # 셀레니움 4.0부터 포함된 객체(모듈)\n",
    "\n",
    "from selenium.webdriver.chrome.service import Service\n",
    "from webdriver_manager.chrome import ChromeDriverManager"
   ]
  },
  {
   "cell_type": "code",
   "execution_count": 4,
   "id": "8c16a1a0-6ad7-4ce6-9f33-2de272955920",
   "metadata": {},
   "outputs": [],
   "source": [
    "# (1) webdriver 객체 생성 \n",
    "chrome_options = webdriver.ChromeOptions()\n",
    "driver = webdriver.Chrome(service=Service(ChromeDriverManager().install()), options=chrome_options)"
   ]
  },
  {
   "cell_type": "code",
   "execution_count": 5,
   "id": "b4006141-aaae-4077-b159-c7ca7b436239",
   "metadata": {},
   "outputs": [],
   "source": [
    "# (2) 페이지 접속\n",
    "# 현재 접속한 위치 인식해서 서울로 들어감\n",
    "url = 'https://www.opinet.co.kr/searRgSelect.do'\n",
    "driver.get(url)"
   ]
  },
  {
   "cell_type": "code",
   "execution_count": 6,
   "id": "a8b08c11-6e57-434a-a5a5-369706dd53c3",
   "metadata": {},
   "outputs": [
    {
     "data": {
      "text/plain": [
       "<selenium.webdriver.remote.webelement.WebElement (session=\"2e86153167966637c0bb510895d6727f\", element=\"460CE6A7F73AF4B14B39545E98F30BF6_element_101\")>"
      ]
     },
     "execution_count": 6,
     "metadata": {},
     "output_type": "execute_result"
    }
   ],
   "source": [
    "# id: SIGUNGU_NMO\n",
    "# id 선택자 사용\n",
    "gu_list_raw = driver.find_element(By.ID, 'SIGUNGU_NM0')\n",
    "gu_list_raw\n",
    "\n",
    "gu_list = gu_list_raw.find_elements(By.TAG_NAME, 'option') \n",
    "# gu_list # element - driver 객체 반환"
   ]
  },
  {
   "cell_type": "code",
   "execution_count": 7,
   "id": "4455be77-cfa1-49e8-b31e-2fd5dbedc659",
   "metadata": {},
   "outputs": [
    {
     "data": {
      "text/plain": [
       "['강남구',\n",
       " '강동구',\n",
       " '강북구',\n",
       " '강서구',\n",
       " '관악구',\n",
       " '광진구',\n",
       " '구로구',\n",
       " '금천구',\n",
       " '노원구',\n",
       " '도봉구',\n",
       " '동대문구',\n",
       " '동작구',\n",
       " '마포구',\n",
       " '서대문구',\n",
       " '서초구',\n",
       " '성동구',\n",
       " '성북구',\n",
       " '송파구',\n",
       " '양천구',\n",
       " '영등포구',\n",
       " '용산구',\n",
       " '은평구',\n",
       " '종로구',\n",
       " '중구',\n",
       " '중랑구']"
      ]
     },
     "execution_count": 7,
     "metadata": {},
     "output_type": "execute_result"
    }
   ],
   "source": [
    "# 구 이름 추출 \n",
    "# <select> 태그 내의 <option> 태그의 value속성\n",
    "# element 에서 속성값 추출\n",
    "\n",
    "gu_name_list = [opt.get_attribute('value') for  opt in gu_list ]\n",
    "gu_name_list.remove('')\n",
    "gu_name_list"
   ]
  },
  {
   "cell_type": "code",
   "execution_count": 9,
   "id": "82902b97-ec42-4665-9ed8-87f7b47f84f0",
   "metadata": {},
   "outputs": [],
   "source": [
    "# 테스트\n",
    "# 현재 강남구 설정해둠\n",
    "# gu_name_list에 있는 구 이름에 해당되는 페이지가 동적으로 바뀌는 지 확인\n",
    "# 첫 번째 구 이름 (강남구)으로 확인 \n",
    "sigungu_sel = driver.find_element(By.ID, 'SIGUNGU_NM0') # 첫번째 강남구\n",
    "\n",
    "# option tag 의 value값을 가져와서\n",
    "# send_keys(구이름) 메소드 호출하면서 전달\n",
    "# 입력값에 해당되는 화면으로 전환되고 전환된 화면에 바뀐 데이터 출력\n",
    "\n",
    "sigungu_sel.send_keys(gu_name_list[2])   # 강북구 값 전달 -> 실행하면 강북구 옵션으로 바뀌어서 웹 바뀜\n",
    "\n",
    "# 인덱스 숫자 변경하면 해당구 지도로 자동 변경됨(열린 페이지가)\n",
    "# send_keys() : 값을 전달해서 웹 브라우저 내용을 동적으로 변경하는 메소드 "
   ]
  },
  {
   "cell_type": "code",
   "execution_count": 10,
   "id": "0c46f6f9-84aa-4d50-85d7-364e47c64b02",
   "metadata": {},
   "outputs": [],
   "source": [
    "# 선택자로 선택\n",
    "# 기능 수행 : 다음 페이지로 전환해서 페이지 내의 데이터 추출\n",
    "# 기능 수행 메소드 2가지 방법\n",
    "# (1) send_keys()  - 그 페이지로 전환해서\n",
    "# (2) click()  - 엑셀 저장 버튼 누르기"
   ]
  },
  {
   "cell_type": "code",
   "execution_count": null,
   "id": "ff7e4f95-7460-44e0-b674-5507698ac0e6",
   "metadata": {},
   "outputs": [],
   "source": [
    "# 엑셀 파일 자동 저장\n",
    "# 왼쪽 주유 가격 맨 아래에 [엑셀저장] 버튼을 자동 실행 시켜서\n",
    "# 모든 구의 주유 정보를 포함하는 엑셀 파일을 자동으로 다운로드 "
   ]
  },
  {
   "cell_type": "code",
   "execution_count": null,
   "id": "003d5e0e-9c46-46c9-9f1c-ed9c5c997ea4",
   "metadata": {},
   "outputs": [],
   "source": [
    "# 테스트 : 1개 파일 다운로드 되는 지 확인\n",
    "# 엑셀저장 버튼 Id : glopopd_excel\n",
    "\n",
    "excel_btn = driver.find_element(By.ID, 'glopopd_excel')\n",
    "excel_btn.click()"
   ]
  },
  {
   "cell_type": "code",
   "execution_count": 11,
   "id": "2fd36b45-dc47-4456-8816-c5dc9a77af69",
   "metadata": {},
   "outputs": [],
   "source": [
    "# 다시 페이지 접속\n",
    "url = 'https://www.opinet.co.kr/searRgSelect.do'\n",
    "driver.get(url)"
   ]
  },
  {
   "cell_type": "code",
   "execution_count": null,
   "id": "7a0fec5f-7099-47d7-9aec-5eab3a0bd677",
   "metadata": {},
   "outputs": [],
   "source": [
    "# 진행 상황 표시(프로그레스 바 출력)"
   ]
  },
  {
   "cell_type": "code",
   "execution_count": 15,
   "id": "27382fbc-9b9f-4ec9-b726-99e325c6518e",
   "metadata": {},
   "outputs": [
    {
     "name": "stdout",
     "output_type": "stream",
     "text": [
      "Requirement already satisfied: tqdm in /opt/homebrew/Cellar/jupyterlab/4.0.5_1/libexec/lib/python3.11/site-packages (4.66.1)\n",
      "Note: you may need to restart the kernel to use updated packages.\n"
     ]
    }
   ],
   "source": [
    "pip install tqdm"
   ]
  },
  {
   "cell_type": "code",
   "execution_count": 16,
   "id": "4fa3b204-60f3-4ce8-af74-0bc66ca81e27",
   "metadata": {},
   "outputs": [
    {
     "name": "stdout",
     "output_type": "stream",
     "text": [
      "Collecting ipywidgets\n",
      "  Obtaining dependency information for ipywidgets from https://files.pythonhosted.org/packages/4a/0e/57ed498fafbc60419a9332d872e929879ceba2d73cb11d284d7112472b3e/ipywidgets-8.1.1-py3-none-any.whl.metadata\n",
      "  Downloading ipywidgets-8.1.1-py3-none-any.whl.metadata (2.4 kB)\n",
      "Requirement already satisfied: comm>=0.1.3 in /opt/homebrew/Cellar/jupyterlab/4.0.5_1/libexec/lib/python3.11/site-packages (from ipywidgets) (0.1.4)\n",
      "Requirement already satisfied: ipython>=6.1.0 in /opt/homebrew/opt/ipython/libexec/lib/python3.11/site-packages (from ipywidgets) (8.15.0)\n",
      "Requirement already satisfied: traitlets>=4.3.1 in /opt/homebrew/opt/ipython/libexec/lib/python3.11/site-packages (from ipywidgets) (5.9.0)\n",
      "Collecting widgetsnbextension~=4.0.9 (from ipywidgets)\n",
      "  Obtaining dependency information for widgetsnbextension~=4.0.9 from https://files.pythonhosted.org/packages/29/03/107d96077c4befed191f7ad1a12c7b52a8f9d2778a5836d59f9855c105f6/widgetsnbextension-4.0.9-py3-none-any.whl.metadata\n",
      "  Downloading widgetsnbextension-4.0.9-py3-none-any.whl.metadata (1.6 kB)\n",
      "Collecting jupyterlab-widgets~=3.0.9 (from ipywidgets)\n",
      "  Obtaining dependency information for jupyterlab-widgets~=3.0.9 from https://files.pythonhosted.org/packages/e8/05/0ebab152288693b5ec7b339aab857362947031143b282853b4c2dd4b5b40/jupyterlab_widgets-3.0.9-py3-none-any.whl.metadata\n",
      "  Downloading jupyterlab_widgets-3.0.9-py3-none-any.whl.metadata (4.1 kB)\n",
      "Requirement already satisfied: backcall in /opt/homebrew/opt/ipython/libexec/lib/python3.11/site-packages (from ipython>=6.1.0->ipywidgets) (0.2.0)\n",
      "Requirement already satisfied: decorator in /opt/homebrew/opt/ipython/libexec/lib/python3.11/site-packages (from ipython>=6.1.0->ipywidgets) (5.1.1)\n",
      "Requirement already satisfied: jedi>=0.16 in /opt/homebrew/opt/ipython/libexec/lib/python3.11/site-packages (from ipython>=6.1.0->ipywidgets) (0.19.0)\n",
      "Requirement already satisfied: matplotlib-inline in /opt/homebrew/opt/ipython/libexec/lib/python3.11/site-packages (from ipython>=6.1.0->ipywidgets) (0.1.6)\n",
      "Requirement already satisfied: pickleshare in /opt/homebrew/opt/ipython/libexec/lib/python3.11/site-packages (from ipython>=6.1.0->ipywidgets) (0.7.5)\n",
      "Requirement already satisfied: prompt-toolkit!=3.0.37,<3.1.0,>=3.0.30 in /opt/homebrew/opt/ipython/libexec/lib/python3.11/site-packages (from ipython>=6.1.0->ipywidgets) (3.0.39)\n",
      "Requirement already satisfied: pygments>=2.4.0 in /opt/homebrew/opt/pygments/lib/python3.11/site-packages (from ipython>=6.1.0->ipywidgets) (2.16.1)\n",
      "Requirement already satisfied: stack-data in /opt/homebrew/opt/ipython/libexec/lib/python3.11/site-packages (from ipython>=6.1.0->ipywidgets) (0.6.2)\n",
      "Requirement already satisfied: pexpect>4.3 in /opt/homebrew/opt/ipython/libexec/lib/python3.11/site-packages (from ipython>=6.1.0->ipywidgets) (4.8.0)\n",
      "Requirement already satisfied: appnope in /opt/homebrew/opt/ipython/libexec/lib/python3.11/site-packages (from ipython>=6.1.0->ipywidgets) (0.1.3)\n",
      "Requirement already satisfied: parso<0.9.0,>=0.8.3 in /opt/homebrew/opt/ipython/libexec/lib/python3.11/site-packages (from jedi>=0.16->ipython>=6.1.0->ipywidgets) (0.8.3)\n",
      "Requirement already satisfied: ptyprocess>=0.5 in /opt/homebrew/opt/ipython/libexec/lib/python3.11/site-packages (from pexpect>4.3->ipython>=6.1.0->ipywidgets) (0.7.0)\n",
      "Requirement already satisfied: wcwidth in /opt/homebrew/opt/ipython/libexec/lib/python3.11/site-packages (from prompt-toolkit!=3.0.37,<3.1.0,>=3.0.30->ipython>=6.1.0->ipywidgets) (0.2.6)\n",
      "Requirement already satisfied: executing>=1.2.0 in /opt/homebrew/opt/ipython/libexec/lib/python3.11/site-packages (from stack-data->ipython>=6.1.0->ipywidgets) (1.2.0)\n",
      "Requirement already satisfied: asttokens>=2.1.0 in /opt/homebrew/opt/ipython/libexec/lib/python3.11/site-packages (from stack-data->ipython>=6.1.0->ipywidgets) (2.2.1)\n",
      "Requirement already satisfied: pure-eval in /opt/homebrew/opt/ipython/libexec/lib/python3.11/site-packages (from stack-data->ipython>=6.1.0->ipywidgets) (0.2.2)\n",
      "Requirement already satisfied: six in /opt/homebrew/opt/six/lib/python3.11/site-packages (from asttokens>=2.1.0->stack-data->ipython>=6.1.0->ipywidgets) (1.16.0)\n",
      "Downloading ipywidgets-8.1.1-py3-none-any.whl (139 kB)\n",
      "\u001b[2K   \u001b[90m━━━━━━━━━━━━━━━━━━━━━━━━━━━━━━━━━━━━━━━━\u001b[0m \u001b[32m139.4/139.4 kB\u001b[0m \u001b[31m5.8 MB/s\u001b[0m eta \u001b[36m0:00:00\u001b[0m\n",
      "\u001b[?25hDownloading jupyterlab_widgets-3.0.9-py3-none-any.whl (214 kB)\n",
      "\u001b[2K   \u001b[90m━━━━━━━━━━━━━━━━━━━━━━━━━━━━━━━━━━━━━━━━\u001b[0m \u001b[32m214.9/214.9 kB\u001b[0m \u001b[31m6.9 MB/s\u001b[0m eta \u001b[36m0:00:00\u001b[0m\n",
      "\u001b[?25hDownloading widgetsnbextension-4.0.9-py3-none-any.whl (2.3 MB)\n",
      "\u001b[2K   \u001b[90m━━━━━━━━━━━━━━━━━━━━━━━━━━━━━━━━━━━━━━━━\u001b[0m \u001b[32m2.3/2.3 MB\u001b[0m \u001b[31m9.8 MB/s\u001b[0m eta \u001b[36m0:00:00\u001b[0m:00:01\u001b[0m00:01\u001b[0m\n",
      "\u001b[?25hInstalling collected packages: widgetsnbextension, jupyterlab-widgets, ipywidgets\n",
      "Successfully installed ipywidgets-8.1.1 jupyterlab-widgets-3.0.9 widgetsnbextension-4.0.9\n",
      "Note: you may need to restart the kernel to use updated packages.\n"
     ]
    }
   ],
   "source": [
    "pip install ipywidgets"
   ]
  },
  {
   "cell_type": "code",
   "execution_count": 8,
   "id": "94210555-9f8d-437d-9451-306ea95b394c",
   "metadata": {},
   "outputs": [],
   "source": [
    "from tqdm.notebook import tqdm\n",
    "import time"
   ]
  },
  {
   "cell_type": "code",
   "execution_count": 9,
   "id": "2ed64a7d-1570-4aff-be7a-4db6ed63ae6d",
   "metadata": {},
   "outputs": [
    {
     "data": {
      "application/vnd.jupyter.widget-view+json": {
       "model_id": "250e748ac971489aa55d3115a20711b8",
       "version_major": 2,
       "version_minor": 0
      },
      "text/plain": [
       "  0%|          | 0/25 [00:00<?, ?it/s]"
      ]
     },
     "metadata": {},
     "output_type": "display_data"
    }
   ],
   "source": [
    "# 구별 페이지에서 데이터 추출하는 진행상황 표시(progress bar 출력)\n",
    "for gu in tqdm(gu_name_list):\n",
    "    # 구별로 구이름 전달하고 해당 구 동적 페이지 실행\n",
    "    sigungu_sel = driver.find_element(By.ID, 'SIGUNGU_NM0')\n",
    "    sigungu_sel.send_keys(gu)\n",
    "\n",
    "    time.sleep(2)   #2초 딜레이\n",
    "\n",
    "    # excel 저장 버튼 클릭\n",
    "    excel_btn = driver.find_element(By.ID, 'glopopd_excel')\n",
    "    excel_btn.click()\n",
    "\n",
    "    time.sleep(2)"
   ]
  },
  {
   "cell_type": "code",
   "execution_count": null,
   "id": "2abf4d75-ecd4-41ab-acbc-4692f1b85312",
   "metadata": {},
   "outputs": [],
   "source": []
  },
  {
   "cell_type": "code",
   "execution_count": 10,
   "id": "ee8ae65b-342b-44b7-b039-654fd72f90ed",
   "metadata": {},
   "outputs": [],
   "source": [
    "driver.close()"
   ]
  },
  {
   "cell_type": "code",
   "execution_count": null,
   "id": "ec8c4459-256c-4a0d-b150-0328b5ec6de6",
   "metadata": {},
   "outputs": [],
   "source": []
  }
 ],
 "metadata": {
  "kernelspec": {
   "display_name": "Python 3 (ipykernel)",
   "language": "python",
   "name": "python3"
  },
  "language_info": {
   "codemirror_mode": {
    "name": "ipython",
    "version": 3
   },
   "file_extension": ".py",
   "mimetype": "text/x-python",
   "name": "python",
   "nbconvert_exporter": "python",
   "pygments_lexer": "ipython3",
   "version": "3.11.5"
  }
 },
 "nbformat": 4,
 "nbformat_minor": 5
}
