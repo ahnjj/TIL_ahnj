{
 "cells": [
  {
   "cell_type": "markdown",
   "id": "5302483e",
   "metadata": {},
   "source": [
    "## selenium을 이용한 동적 크롤링 연습문제 : 네이버웹툰"
   ]
  },
  {
   "cell_type": "markdown",
   "id": "a1f8e116",
   "metadata": {},
   "source": [
    "### 네이버 웹툰 페이지에서 데이터 추출\n",
    "- https://comic.naver.com/genre/bestChallenge.nhn  \n",
    "- [전제베스트도전] 웹툰에서\n",
    "    - 제목, 작가, 별점, 조회수 추출"
   ]
  },
  {
   "cell_type": "markdown",
   "id": "d3513aad",
   "metadata": {},
   "source": [
    "### 문제1\n",
    "- 한 페이지 크롤링\n",
    "- https://comic.naver.com/genre/bestChallenge.nhn 페이지에서\n",
    "- 현재 페이지의 [전제베스트도전] 웹툰에서\n",
    "    - 제목, 작가, 별점, 조회수 추출해서\n",
    "    - 데이터프레임 생성 : naver_webtoon_df"
   ]
  },
  {
   "cell_type": "markdown",
   "id": "9483999f",
   "metadata": {},
   "source": [
    "### 문제2\n",
    "- 1 ~ 20 페이지까지 추출해서 데이터프레임으로 생성"
   ]
  },
  {
   "cell_type": "code",
   "execution_count": 1,
   "id": "67bfb979",
   "metadata": {},
   "outputs": [],
   "source": [
    "# naver_webtoon_df_final\n",
    "# naver_webtoon.csv"
   ]
  },
  {
   "cell_type": "code",
   "execution_count": 2,
   "id": "89ed7a77-c757-4bdc-8e33-bc2178001869",
   "metadata": {},
   "outputs": [],
   "source": [
    "from IPython.core.interactiveshell import InteractiveShell\n",
    "InteractiveShell.ast_node_interactivity=\"all\"\n",
    "\n",
    "from urllib.request import urlopen\n",
    "import pandas as pd\n",
    "import bs4\n",
    "import requests\n",
    "import selenium\n",
    "from selenium import webdriver\n",
    "from selenium.webdriver.common.by import By   # 셀레니움 4.0 부터 포함된 객체(모듈)\n",
    "\n",
    "from selenium.webdriver.chrome.service import Service\n",
    "from webdriver_manager.chrome import ChromeDriverManager"
   ]
  },
  {
   "cell_type": "code",
   "execution_count": 3,
   "id": "9a946cc8",
   "metadata": {},
   "outputs": [],
   "source": [
    "import time"
   ]
  },
  {
   "cell_type": "code",
   "execution_count": 4,
   "id": "503d3cfe-9e92-451f-9eac-3ac92b0be0f5",
   "metadata": {},
   "outputs": [],
   "source": [
    "# (1) webdriver객체 생성\n",
    "chrome_options = webdriver.ChromeOptions()\n",
    "driver = webdriver.Chrome(service=Service(ChromeDriverManager().install()), options=chrome_options)"
   ]
  },
  {
   "cell_type": "code",
   "execution_count": 5,
   "id": "762af05b-5719-44a9-b502-af7f01af77ee",
   "metadata": {},
   "outputs": [],
   "source": [
    "# 접속\n",
    "driver.get('https://comic.naver.com/genre/bestChallenge.nhn')"
   ]
  },
  {
   "cell_type": "code",
   "execution_count": null,
   "id": "f79a57b7",
   "metadata": {},
   "outputs": [],
   "source": [
    "\n"
   ]
  },
  {
   "cell_type": "code",
   "execution_count": 6,
   "id": "6b815e97",
   "metadata": {},
   "outputs": [],
   "source": [
    "# 현재 페이지의 [전제베스트도전] 웹툰에서\n",
    "# 제목, 작가, 별점, 조회수 추출해서\n",
    "# 데이터프레임 생성 : naver_webtoon_df\n",
    "\n",
    "# title : #content > div:nth-child(2) > ul:nth-child(2) > li:nth-child(1) > div > a.ContentTitle__title_area--x24vt > span\n",
    "# author : #content > div:nth-child(2) > ul:nth-child(2) > li:nth-child(1) > div > a.ContentAuthor__author--CTAAP\n",
    "# star : #content > div:nth-child(2) > ul:nth-child(2) > li:nth-child(1) > div > div > span.Rating__star_area--dFzsb > span\n",
    "# views : #content > div:nth-child(2) > ul:nth-child(2) > li:nth-child(1) > div > div > span.Rating__view_area--GQb_S > span"
   ]
  },
  {
   "cell_type": "code",
   "execution_count": 7,
   "id": "0ab6d5cc",
   "metadata": {},
   "outputs": [],
   "source": [
    "webtoons = driver.find_elements(By.CSS_SELECTOR, '#content > div:nth-child(2) > ul:nth-child(2) > li')\n",
    "title = []\n",
    "author = []\n",
    "star = []\n",
    "views = []\n",
    "\n",
    "for i in range(len(webtoons)):\n",
    "    title.append(webtoons[i].find_element(By.CSS_SELECTOR, 'div > a.ContentTitle__title_area--x24vt > span').text)\n",
    "    author.append(webtoons[i].find_element(By.CSS_SELECTOR, 'div > a.ContentAuthor__author--CTAAP').text)\n",
    "    star.append(webtoons[i].find_element(By.CSS_SELECTOR, 'div > div > span.Rating__star_area--dFzsb > span').text)\n",
    "    views.append(webtoons[i].find_element(By.CSS_SELECTOR, 'div > div > span.Rating__view_area--GQb_S > span').text)\n"
   ]
  },
  {
   "cell_type": "code",
   "execution_count": 8,
   "id": "d017f0bc-533a-4283-a0a9-17b69ae088bf",
   "metadata": {},
   "outputs": [],
   "source": [
    "# dataframe생성\n",
    "naver_df= pd.DataFrame({'제목':title, '작가':author, '별점':star, '조회수':views})\n",
    "naver_df.to_csv('./crawl_data/naver_webtoon_df.csv', index=0)"
   ]
  },
  {
   "cell_type": "markdown",
   "id": "4f489da3-1c41-4ab9-acce-5f2b2bd9c7a5",
   "metadata": {},
   "source": [
    "### 1~20페이지 크롤링"
   ]
  },
  {
   "cell_type": "code",
   "execution_count": 42,
   "id": "d79b3b92-d6e6-474b-99a4-d2b023420bdb",
   "metadata": {},
   "outputs": [],
   "source": [
    "import selenium\n",
    "from selenium import webdriver\n",
    "from selenium.webdriver.common.by import By   # 셀레니움 4.0 부터 포함된 객체(모듈)\n",
    "\n",
    "from selenium.webdriver.chrome.service import Service\n",
    "from webdriver_manager.chrome import ChromeDriverManager\n",
    "\n",
    "# (1) webdriver객체 생성\n",
    "# chrome_options = webdriver.ChromeOptions()\n",
    "# driver = webdriver.Chrome(service=Service(ChromeDriverManager().install()), options=chrome_options)"
   ]
  },
  {
   "cell_type": "code",
   "execution_count": 34,
   "id": "17c5c9df-c534-418d-a896-c04b58183973",
   "metadata": {},
   "outputs": [],
   "source": [
    "# (2) 데이터 프레임 생성\n",
    "all_naver_df = pd.DataFrame({\n",
    "    '제목' : [],\n",
    "    '작가':[],\n",
    "    '별점':[],\n",
    "    '조회수':[]\n",
    "})"
   ]
  },
  {
   "cell_type": "code",
   "execution_count": 18,
   "id": "569e7ac0-67ba-4a77-ab89-f21aeb2e7518",
   "metadata": {},
   "outputs": [
    {
     "data": {
      "text/html": [
       "<div>\n",
       "<style scoped>\n",
       "    .dataframe tbody tr th:only-of-type {\n",
       "        vertical-align: middle;\n",
       "    }\n",
       "\n",
       "    .dataframe tbody tr th {\n",
       "        vertical-align: top;\n",
       "    }\n",
       "\n",
       "    .dataframe thead th {\n",
       "        text-align: right;\n",
       "    }\n",
       "</style>\n",
       "<table border=\"1\" class=\"dataframe\">\n",
       "  <thead>\n",
       "    <tr style=\"text-align: right;\">\n",
       "      <th></th>\n",
       "      <th>제목</th>\n",
       "      <th>작가</th>\n",
       "      <th>별점</th>\n",
       "      <th>조회수</th>\n",
       "    </tr>\n",
       "  </thead>\n",
       "  <tbody>\n",
       "  </tbody>\n",
       "</table>\n",
       "</div>"
      ],
      "text/plain": [
       "Empty DataFrame\n",
       "Columns: [제목, 작가, 별점, 조회수]\n",
       "Index: []"
      ]
     },
     "execution_count": 18,
     "metadata": {},
     "output_type": "execute_result"
    }
   ],
   "source": [
    "all_naver_df"
   ]
  },
  {
   "cell_type": "code",
   "execution_count": 41,
   "id": "f5dc2b4c-8149-4661-b481-029e0944b0d2",
   "metadata": {},
   "outputs": [],
   "source": [
    "# (3) 한페이지 추출 함수\n",
    "def get_page_webtoon(url):\n",
    "    global all_naver_df\n",
    "\n",
    "    try:\n",
    "        driver.get(url)\n",
    "        time.sleep(2)\n",
    "    \n",
    "        # 추출\n",
    "        webtoons = driver.find_elements(By.CSS_SELECTOR, '#content > div:nth-child(2) > ul:nth-child(2) > li')\n",
    "        title = []\n",
    "        author = []\n",
    "        star = []\n",
    "        views = []\n",
    "        \n",
    "        for i in range(len(webtoons)):\n",
    "            title.append(webtoons[i].find_element(By.CSS_SELECTOR, 'div > a.ContentTitle__title_area--x24vt > span').text)\n",
    "            author.append(webtoons[i].find_element(By.CSS_SELECTOR, 'div > a.ContentAuthor__author--CTAAP').text)\n",
    "            star.append(webtoons[i].find_element(By.CSS_SELECTOR, 'div > div > span.Rating__star_area--dFzsb > span').text)\n",
    "            views.append(webtoons[i].find_element(By.CSS_SELECTOR, 'div > div > span.Rating__view_area--GQb_S > span').text)\n",
    "\n",
    "        # dataframe에 추가\n",
    "        df= pd.DataFrame({'제목':title, '작가':author, '별점':star, '조회수':views})\n",
    "        all_naver_df = pd.concat([all_naver_df, df], axis=0, ignore_index=True)\n",
    "    except:\n",
    "        print('페이지 추출 중 오류!')\n",
    "              "
   ]
  },
  {
   "cell_type": "code",
   "execution_count": 40,
   "id": "a44e445a-3318-4f86-855b-949a5af410d6",
   "metadata": {},
   "outputs": [],
   "source": [
    "# 함수 테스트 - 주석 처리 할 것\n",
    "# get_page_webtoon('https://comic.naver.com/genre/bestChallenge?page=1')\n",
    "# all_naver_df"
   ]
  },
  {
   "cell_type": "code",
   "execution_count": 31,
   "id": "658e660d-ce9d-46a1-a593-e242a9b2b6b2",
   "metadata": {},
   "outputs": [],
   "source": [
    "# (4) 여러페이지 추출\n",
    "base_url = 'https://comic.naver.com/genre/bestChallenge?page='\n",
    "\n",
    "for i in range(1,11):\n",
    "    url = base_url + str(i)\n",
    "    get_page_webtoon(url)    # 한 페이지 가져오기\n"
   ]
  },
  {
   "cell_type": "code",
   "execution_count": 33,
   "id": "b2824105-fc58-4bd4-83bb-150991555e96",
   "metadata": {},
   "outputs": [],
   "source": [
    "# (5) dataframe생성\n",
    "all_naver_df.to_csv('./crawl_data/all_naver_webtoon_df.csv', index=0)"
   ]
  },
  {
   "cell_type": "code",
   "execution_count": null,
   "id": "9178249c",
   "metadata": {},
   "outputs": [],
   "source": [
    "driver.close()"
   ]
  },
  {
   "cell_type": "code",
   "execution_count": null,
   "id": "f02d09e3-3f97-4cdc-9488-96fb9c85be9e",
   "metadata": {},
   "outputs": [],
   "source": []
  },
  {
   "cell_type": "code",
   "execution_count": null,
   "id": "03bbe746",
   "metadata": {},
   "outputs": [],
   "source": []
  }
 ],
 "metadata": {
  "kernelspec": {
   "display_name": "Python 3 (ipykernel)",
   "language": "python",
   "name": "python3"
  },
  "language_info": {
   "codemirror_mode": {
    "name": "ipython",
    "version": 3
   },
   "file_extension": ".py",
   "mimetype": "text/x-python",
   "name": "python",
   "nbconvert_exporter": "python",
   "pygments_lexer": "ipython3",
   "version": "3.11.5"
  }
 },
 "nbformat": 4,
 "nbformat_minor": 5
}
