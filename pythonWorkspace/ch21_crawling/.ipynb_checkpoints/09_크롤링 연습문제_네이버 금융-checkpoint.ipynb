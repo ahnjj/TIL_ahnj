{
 "cells": [
  {
   "cell_type": "markdown",
   "id": "04a520f5-d1cc-4118-8476-49f5807d37ab",
   "metadata": {},
   "source": [
    "### 크롤링 연습문제"
   ]
  },
  {
   "cell_type": "markdown",
   "id": "0eb0ec36-39ef-4f88-9fd8-7727477ae2f6",
   "metadata": {},
   "source": [
    "#### 문제 1\n",
    "- 네이버 금융 페이지에서 유가/환율/국제금 시세/국내금 시세 추출  \n",
    "- url = 'https://finance.naver.com'"
   ]
  },
  {
   "cell_type": "code",
   "execution_count": 36,
   "id": "ef4d974f-e645-45df-90e9-823c804492d5",
   "metadata": {},
   "outputs": [
    {
     "name": "stdout",
     "output_type": "stream",
     "text": [
      "유가 :  88.84\n",
      "USD :  1,328.00\n",
      "국제금 :  1,935.10\n",
      "국내금 :  81,781.70\n"
     ]
    }
   ],
   "source": []
  },
  {
   "cell_type": "code",
   "execution_count": null,
   "id": "70e695cd-2592-4f7f-92f4-b3d0b2de42d1",
   "metadata": {},
   "outputs": [],
   "source": [
    "# 유가 :  88.84\n",
    "# USD :  1,328.00\n",
    "# 국제금 :  1,935.10\n",
    "# 국내금 :  81,781.70"
   ]
  },
  {
   "cell_type": "markdown",
   "id": "0dd8fd18-8437-4e12-bc95-5ccef638860d",
   "metadata": {},
   "source": [
    "#### 문제 2\n",
    "- 네이버 증권 페이지에서 상한가 / 하한가 / 시가총액상위 기업 추출\n",
    "- url = \"http://finance.naver.com/sise/\""
   ]
  },
  {
   "cell_type": "code",
   "execution_count": 112,
   "id": "b824df10-7dee-4eef-bfb3-f4be6a60c994",
   "metadata": {},
   "outputs": [
    {
     "name": "stdout",
     "output_type": "stream",
     "text": [
      "---------- 상한가 ----------\n",
      "1 노루홀딩스우 = 48,900\n",
      "2 이원컴포텍 = 4,120\n",
      "3 에이스테크 = 2,425\n",
      "4 노루페인트우 = 25,450\n",
      "5 머큐리 = 8,370\n",
      "6 애드바이오텍 = 4,910\n",
      "7 썬테크 = 5,180\n",
      "8 엔에스컴퍼니 = 4,845\n"
     ]
    }
   ],
   "source": [
    "\n"
   ]
  },
  {
   "cell_type": "code",
   "execution_count": null,
   "id": "1f9856f0-462a-4b12-9d00-e740d10096a1",
   "metadata": {},
   "outputs": [],
   "source": [
    "# ---------- 상한가 ----------\n",
    "# 1 노루홀딩스우 = 48,900\n",
    "# 2 이원컴포텍 = 4,120\n",
    "# 3 에이스테크 = 2,425\n",
    "# 4 노루페인트우 = 25,450\n",
    "# 5 머큐리 = 8,370\n",
    "# 6 애드바이오텍 = 4,910\n",
    "# 7 썬테크 = 5,180\n",
    "# 8 엔에스컴퍼니 = 4,845"
   ]
  },
  {
   "cell_type": "code",
   "execution_count": 111,
   "id": "f90f32d8-d1d4-4556-95d4-cfc0978bec75",
   "metadata": {},
   "outputs": [
    {
     "name": "stdout",
     "output_type": "stream",
     "text": [
      "\n",
      "----------- 하한가 -----------\n",
      "1 테크엔 = 289\n"
     ]
    }
   ],
   "source": []
  },
  {
   "cell_type": "code",
   "execution_count": null,
   "id": "2827bddd-eb2b-44a2-a9b3-43b25e4dd465",
   "metadata": {},
   "outputs": [],
   "source": [
    "\n",
    "# ----------- 하한가 -----------\n",
    "# 1 테크엔 = 289"
   ]
  },
  {
   "cell_type": "code",
   "execution_count": 113,
   "id": "6d13fccd-284c-4424-ad53-0a17a9bd5374",
   "metadata": {},
   "outputs": [
    {
     "name": "stdout",
     "output_type": "stream",
     "text": [
      "\n",
      "----------- 시가총액 상위 -----------\n",
      "1 삼성전자 = 70,900\n",
      "2 LG에너지솔루션 = 494,500\n",
      "3 SK하이닉스 = 118,500\n",
      "4 삼성바이오로직스 = 723,000\n",
      "5 삼성전자우 = 57,500\n",
      "6 POSCO홀딩스 = 529,000\n",
      "7 현대차 = 189,800\n",
      "8 삼성SDI = 558,000\n",
      "9 LG화학 = 540,000\n",
      "10 NAVER = 222,000\n"
     ]
    }
   ],
   "source": [
    "\n"
   ]
  },
  {
   "cell_type": "code",
   "execution_count": null,
   "id": "875bf67a-3571-411d-9bfa-40bd6372dfd4",
   "metadata": {},
   "outputs": [],
   "source": [
    "\n",
    "# ----------- 시가총액 상위 -----------\n",
    "# 1 삼성전자 = 70,900\n",
    "# 2 LG에너지솔루션 = 494,500\n",
    "# 3 SK하이닉스 = 118,500\n",
    "# 4 삼성바이오로직스 = 723,000\n",
    "# 5 삼성전자우 = 57,500\n",
    "# 6 POSCO홀딩스 = 529,000\n",
    "# 7 현대차 = 189,800\n",
    "# 8 삼성SDI = 558,000\n",
    "# 9 LG화학 = 540,000\n",
    "# 10 NAVER = 222,000"
   ]
  }
 ],
 "metadata": {
  "kernelspec": {
   "display_name": "Python 3 (ipykernel)",
   "language": "python",
   "name": "python3"
  },
  "language_info": {
   "codemirror_mode": {
    "name": "ipython",
    "version": 3
   },
   "file_extension": ".py",
   "mimetype": "text/x-python",
   "name": "python",
   "nbconvert_exporter": "python",
   "pygments_lexer": "ipython3",
   "version": "3.11.5"
  }
 },
 "nbformat": 4,
 "nbformat_minor": 5
}
