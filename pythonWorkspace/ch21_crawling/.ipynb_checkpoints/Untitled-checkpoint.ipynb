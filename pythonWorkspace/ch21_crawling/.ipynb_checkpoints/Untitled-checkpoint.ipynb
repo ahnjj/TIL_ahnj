{
 "cells": [
  {
   "cell_type": "code",
   "execution_count": 2,
   "id": "b7938e75",
   "metadata": {},
   "outputs": [],
   "source": [
    "from IPython.core.interactiveshell import InteractiveShell\n",
    "InteractiveShell.ast_node_interactivity=\"all\""
   ]
  },
  {
   "cell_type": "code",
   "execution_count": 4,
   "id": "d307b901",
   "metadata": {},
   "outputs": [],
   "source": [
    "from urllib.request import urlopen\n",
    "import bs4"
   ]
  },
  {
   "cell_type": "markdown",
   "id": "21cdd592",
   "metadata": {},
   "source": [
    "#### site crawling : http://www.tistory.com/"
   ]
  },
  {
   "cell_type": "code",
   "execution_count": 6,
   "id": "3d88acf4",
   "metadata": {},
   "outputs": [],
   "source": [
    "url = 'http://www.tistory.com/'\n",
    "html = urlopen(url)\n",
    "bs_obj = bs4.BeautifulSoup(html, 'html.parser')"
   ]
  },
  {
   "cell_type": "code",
   "execution_count": 8,
   "id": "385035ae",
   "metadata": {},
   "outputs": [],
   "source": [
    "# bs_obj"
   ]
  },
  {
   "cell_type": "code",
   "execution_count": 14,
   "id": "c21455f2",
   "metadata": {},
   "outputs": [
    {
     "data": {
      "text/plain": [
       "<div class=\"gnb_tistory\" id=\"kakaoGnb\" role=\"navigation\">\n",
       "<h2 class=\"screen_out\">서비스 주요 메뉴</h2>\n",
       "<ul class=\"list_gnb\">\n",
       "<li><a class=\"link_gnb\" href=\"/feed\">피드</a></li>\n",
       "<li><a class=\"link_gnb\" href=\"/category\">스토리</a></li>\n",
       "<li><a class=\"link_gnb\" href=\"/skin\">스킨</a></li>\n",
       "<li><a class=\"link_gnb\" href=\"/community\">포럼</a></li>\n",
       "</ul>\n",
       "</div>"
      ]
     },
     "execution_count": 14,
     "metadata": {},
     "output_type": "execute_result"
    }
   ],
   "source": [
    "# 기본 메뉴 박스 추출 : id: kakaoGnb 인 div 태그 추출\n",
    "tistory_menu = bs_obj.find('div', {'id':'kakaoGnb'})\n",
    "tistory_menu"
   ]
  },
  {
   "cell_type": "code",
   "execution_count": 21,
   "id": "d9192da1",
   "metadata": {},
   "outputs": [],
   "source": [
    "ul = bs_obj.find('ul',{'class':'link_gnb'})\n",
    "ul"
   ]
  },
  {
   "cell_type": "code",
   "execution_count": 22,
   "id": "42197113",
   "metadata": {},
   "outputs": [
    {
     "data": {
      "text/plain": [
       "[<a class=\"link_gnb\" href=\"/feed\">피드</a>,\n",
       " <a class=\"link_gnb\" href=\"/category\">스토리</a>,\n",
       " <a class=\"link_gnb\" href=\"/skin\">스킨</a>,\n",
       " <a class=\"link_gnb\" href=\"/community\">포럼</a>]"
      ]
     },
     "execution_count": 22,
     "metadata": {},
     "output_type": "execute_result"
    }
   ],
   "source": [
    "a_tag = bs_obj.findAll('a',{'class':'link_gnb'})\n",
    "a_tag"
   ]
  },
  {
   "cell_type": "code",
   "execution_count": 25,
   "id": "fc0c4c0e",
   "metadata": {},
   "outputs": [
    {
     "name": "stdout",
     "output_type": "stream",
     "text": [
      "[<a class=\"link_gnb\" href=\"/feed\">피드</a>] 피드\n",
      "[<a class=\"link_gnb\" href=\"/category\">스토리</a>] 스토리\n",
      "[<a class=\"link_gnb\" href=\"/skin\">스킨</a>] 스킨\n",
      "[<a class=\"link_gnb\" href=\"/community\">포럼</a>] 포럼\n"
     ]
    }
   ],
   "source": [
    "# 메뉴 항목 추출\n",
    "li_list = tistory_menu.select('li')\n",
    "\n",
    "for li in li_list:\n",
    "    print(li.select('a'), li.text)"
   ]
  },
  {
   "cell_type": "code",
   "execution_count": 28,
   "id": "6c38af6e",
   "metadata": {},
   "outputs": [
    {
     "name": "stdout",
     "output_type": "stream",
     "text": [
      "피드\n",
      "스토리\n",
      "스킨\n",
      "포럼\n"
     ]
    }
   ],
   "source": [
    "# 또는\n",
    "a_tag_list = bs_obj.findAll('a', {'class':'link_gnb'})\n",
    "for a in a_tag_list:\n",
    "    print(a.text)"
   ]
  },
  {
   "cell_type": "code",
   "execution_count": 35,
   "id": "6f9ad59d",
   "metadata": {},
   "outputs": [
    {
     "name": "stdout",
     "output_type": "stream",
     "text": [
      "메뉴가 궁금할 땐\n",
      "사용하다 궁금할 땐\n",
      "정책이 궁금할 땐\n",
      "도움이 필요할 땐\n",
      "메뉴가 궁금할 땐\n",
      "사용하다 궁금할 땐\n",
      "정책이 궁금할 땐\n",
      "도움이 필요할 땐\n"
     ]
    }
   ],
   "source": [
    "# footer 메뉴 텍스트만 추출\n",
    "# class wrap_question의 tit_question\n",
    "footer_list = bs_obj.select('.tit_question')\n",
    "for footer in footer_list:\n",
    "    print(footer.text)\n",
    "    \n",
    "\n",
    "# 또는\n",
    "lists = bs_obj.findAll('span', {'class':'tit_question'})\n",
    "for list in lists:\n",
    "    print(list.text)"
   ]
  },
  {
   "cell_type": "markdown",
   "id": "627e5897",
   "metadata": {},
   "source": [
    "## Naver News section 별 url"
   ]
  },
  {
   "cell_type": "code",
   "execution_count": 37,
   "id": "1d4b54ac",
   "metadata": {},
   "outputs": [],
   "source": [
    "# site 연결 , HTML 파싱"
   ]
  },
  {
   "cell_type": "code",
   "execution_count": 42,
   "id": "52a13af0",
   "metadata": {},
   "outputs": [],
   "source": [
    "url = 'https://news.naver.com/'\n",
    "html = urlopen(url)\n",
    "bs_obj = bs4.BeautifulSoup(html, 'html.parser')"
   ]
  },
  {
   "cell_type": "code",
   "execution_count": 51,
   "id": "fc986271",
   "metadata": {},
   "outputs": [],
   "source": [
    "# bs_obj"
   ]
  },
  {
   "cell_type": "code",
   "execution_count": 80,
   "id": "8f784346",
   "metadata": {},
   "outputs": [],
   "source": [
    "# .Nlist_menu_list .Nlist_item\n",
    "\n",
    "ul = bs_obj.select('ul.Nlnb_menu_list')"
   ]
  },
  {
   "cell_type": "code",
   "execution_count": 82,
   "id": "82723e81",
   "metadata": {},
   "outputs": [
    {
     "data": {
      "text/plain": [
       "13"
      ]
     },
     "execution_count": 82,
     "metadata": {},
     "output_type": "execute_result"
    }
   ],
   "source": [
    "# 언론사별  : 링크\n",
    "ul = bs_obj.find('ul', {'class':'Nlnb_menu_list'})\n",
    "li_list = ul.findAll('li')\n",
    "len(li_list)\n"
   ]
  },
  {
   "cell_type": "code",
   "execution_count": 83,
   "id": "dc4e0e63",
   "metadata": {},
   "outputs": [
    {
     "name": "stdout",
     "output_type": "stream",
     "text": [
      "언론사별 : https://news.naver.com/?viewType=pc\n",
      "정치 : https://news.naver.com/main/main.naver?mode=LSD&mid=shm&sid1=100\n",
      "경제 : https://news.naver.com/main/main.naver?mode=LSD&mid=shm&sid1=101\n",
      "사회 : https://news.naver.com/main/main.naver?mode=LSD&mid=shm&sid1=102\n",
      "생활/문화 : https://news.naver.com/main/main.naver?mode=LSD&mid=shm&sid1=103\n",
      "IT/과학 : https://news.naver.com/main/main.naver?mode=LSD&mid=shm&sid1=105\n",
      "세계 : https://news.naver.com/main/main.naver?mode=LSD&mid=shm&sid1=104\n",
      "랭킹 : https://news.naver.com/main/ranking/popularDay.naver\n",
      "신문보기 : https://news.naver.com/newspaper/home?viewType=pc\n",
      "오피니언 : https://news.naver.com/opinion/home\n",
      "TV : https://news.naver.com/main/tv/index.naver?mid=tvh\n",
      "팩트체크 : https://news.naver.com/main/factcheck/main.naver\n",
      "알고리즘 안내 : https://media.naver.com/algorithm\n"
     ]
    }
   ],
   "source": [
    "for li in li_list:\n",
    "    a_tag = li.find('a')\n",
    "    print(a_tag.text, ':', a_tag['href'])"
   ]
  },
  {
   "cell_type": "code",
   "execution_count": 72,
   "id": "8c92c0e3",
   "metadata": {},
   "outputs": [
    {
     "name": "stdout",
     "output_type": "stream",
     "text": [
      "언론사별 https://news.naver.com/?viewType=pc\n",
      "정치 https://news.naver.com/main/main.naver?mode=LSD&mid=shm&sid1=100\n",
      "경제 https://news.naver.com/main/main.naver?mode=LSD&mid=shm&sid1=101\n",
      "사회 https://news.naver.com/main/main.naver?mode=LSD&mid=shm&sid1=102\n",
      "생활/문화 https://news.naver.com/main/main.naver?mode=LSD&mid=shm&sid1=103\n",
      "IT/과학 https://news.naver.com/main/main.naver?mode=LSD&mid=shm&sid1=105\n",
      "세계 https://news.naver.com/main/main.naver?mode=LSD&mid=shm&sid1=104\n",
      "랭킹 https://news.naver.com/main/ranking/popularDay.naver\n",
      "신문보기 https://news.naver.com/newspaper/home?viewType=pc\n",
      "오피니언 https://news.naver.com/opinion/home\n",
      "TV https://news.naver.com/main/tv/index.naver?mid=tvh\n",
      "팩트체크 https://news.naver.com/main/factcheck/main.naver\n",
      "알고리즘 안내 https://media.naver.com/algorithm\n"
     ]
    }
   ],
   "source": [
    "# 또는...\n",
    "menu = bs_obj.findAll('span',{'class':'Nitem_link_menu'})\n",
    "link = bs_obj.findAll('a', {'class':'Nitem_link'})\n",
    "\n",
    "for i in range(len(link)):\n",
    "    print(menu[i].text, link[i]['href'])"
   ]
  },
  {
   "cell_type": "markdown",
   "id": "90827a92",
   "metadata": {},
   "source": []
  },
  {
   "cell_type": "code",
   "execution_count": null,
   "id": "7ae6411c",
   "metadata": {},
   "outputs": [],
   "source": [
    "# 수집한 데이터를 csv 파일로 저장\n",
    "# (1) 섹션 메뉴와 링크를 리스트로 생성\n",
    "# (2) 데이터프레임 생성\n",
    "# (3) 파일로 저장"
   ]
  },
  {
   "cell_type": "code",
   "execution_count": 84,
   "id": "baf75c2c",
   "metadata": {},
   "outputs": [
    {
     "ename": "SyntaxError",
     "evalue": "invalid syntax (2602886321.py, line 2)",
     "output_type": "error",
     "traceback": [
      "\u001b[0;36m  Cell \u001b[0;32mIn[84], line 2\u001b[0;36m\u001b[0m\n\u001b[0;31m    section =\u001b[0m\n\u001b[0m              ^\u001b[0m\n\u001b[0;31mSyntaxError\u001b[0m\u001b[0;31m:\u001b[0m invalid syntax\n"
     ]
    }
   ],
   "source": [
    "# (1)섹션 메뉴와 링크를 리스트로 생성\n",
    "section = "
   ]
  },
  {
   "cell_type": "code",
   "execution_count": 86,
   "id": "627fccf8",
   "metadata": {},
   "outputs": [],
   "source": [
    "# (2) 데이터프레임 생성\n",
    "# pandas 라이브러리 사용\n",
    "import pandas as pd"
   ]
  },
  {
   "cell_type": "code",
   "execution_count": 90,
   "id": "1a71d159",
   "metadata": {},
   "outputs": [
    {
     "ename": "NameError",
     "evalue": "name 'section' is not defined",
     "output_type": "error",
     "traceback": [
      "\u001b[0;31m---------------------------------------------------------------------------\u001b[0m",
      "\u001b[0;31mNameError\u001b[0m                                 Traceback (most recent call last)",
      "Cell \u001b[0;32mIn[90], line 1\u001b[0m\n\u001b[0;32m----> 1\u001b[0m news_section_df \u001b[38;5;241m=\u001b[39m pd\u001b[38;5;241m.\u001b[39mDataFrame({\u001b[38;5;124m'\u001b[39m\u001b[38;5;124msection\u001b[39m\u001b[38;5;124m'\u001b[39m:\u001b[43msection\u001b[49m, \u001b[38;5;124m'\u001b[39m\u001b[38;5;124mlink\u001b[39m\u001b[38;5;124m'\u001b[39m:link})\n\u001b[1;32m      2\u001b[0m news_section_df\n",
      "\u001b[0;31mNameError\u001b[0m: name 'section' is not defined"
     ]
    }
   ],
   "source": [
    "news_section_df = pd.DataFrame({'section':section, 'link':link})\n",
    "news_section_df"
   ]
  },
  {
   "cell_type": "code",
   "execution_count": null,
   "id": "c665c6b6",
   "metadata": {},
   "outputs": [],
   "source": [
    "# (3) 파일로 저장\n",
    "# ch21_crawling 폴더 안에 crawl_data 폴더 생성\n",
    "# 데이터프레임.to_csv('파일경로 및 파일명', index=0)\n"
   ]
  }
 ],
 "metadata": {
  "kernelspec": {
   "display_name": "Python 3 (ipykernel)",
   "language": "python",
   "name": "python3"
  },
  "language_info": {
   "codemirror_mode": {
    "name": "ipython",
    "version": 3
   },
   "file_extension": ".py",
   "mimetype": "text/x-python",
   "name": "python",
   "nbconvert_exporter": "python",
   "pygments_lexer": "ipython3",
   "version": "3.10.9"
  }
 },
 "nbformat": 4,
 "nbformat_minor": 5
}
