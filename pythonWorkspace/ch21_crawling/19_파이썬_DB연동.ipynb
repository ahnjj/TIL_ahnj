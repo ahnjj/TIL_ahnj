{
 "cells": [
  {
   "cell_type": "markdown",
   "id": "b9ec6f05-88fc-45e4-affb-1dabdd75b5a1",
   "metadata": {},
   "source": [
    "### 파이썬 DB 연동\n",
    "- CRUD 작업 처리\n",
    "- CREATE / READ / UPDATE / DELETE\n",
    "- INSERT / SELECT / UPDATE / DELETE"
   ]
  },
  {
   "cell_type": "markdown",
   "id": "662635ba-b416-4cd4-8811-d9a0a4c65442",
   "metadata": {},
   "source": [
    "## 파이썬에서 MySQL 연동 패키지 지원\n",
    "- pymysql 패키지\n",
    "  "
   ]
  },
  {
   "cell_type": "code",
   "execution_count": 11,
   "id": "2522b4ad-5e57-4b42-9d88-05998552faed",
   "metadata": {},
   "outputs": [
    {
     "ename": "SyntaxError",
     "evalue": "invalid syntax (1194980432.py, line 2)",
     "output_type": "error",
     "traceback": [
      "\u001b[0;36m  Cell \u001b[0;32mIn[11], line 2\u001b[0;36m\u001b[0m\n\u001b[0;31m    pip install cryptography\u001b[0m\n\u001b[0m        ^\u001b[0m\n\u001b[0;31mSyntaxError\u001b[0m\u001b[0;31m:\u001b[0m invalid syntax\n"
     ]
    }
   ],
   "source": [
    "# pip install pymysql"
   ]
  },
  {
   "cell_type": "code",
   "execution_count": 12,
   "id": "02f317db-97f9-4fd6-a7fe-080868b285dd",
   "metadata": {},
   "outputs": [
    {
     "name": "stdout",
     "output_type": "stream",
     "text": [
      "Collecting cryptography\n",
      "  Obtaining dependency information for cryptography from https://files.pythonhosted.org/packages/06/5d/f992c40471b60b762dca2b118c0a7837e446bea917f2be54b8f49802fe5e/cryptography-41.0.4-cp37-abi3-macosx_10_12_universal2.whl.metadata\n",
      "  Downloading cryptography-41.0.4-cp37-abi3-macosx_10_12_universal2.whl.metadata (5.2 kB)\n",
      "Requirement already satisfied: cffi>=1.12 in /opt/homebrew/opt/cffi/lib/python3.11/site-packages (from cryptography) (1.15.1)\n",
      "Requirement already satisfied: pycparser in /opt/homebrew/opt/pycparser/lib/python3.11/site-packages (from cffi>=1.12->cryptography) (2.21)\n",
      "Downloading cryptography-41.0.4-cp37-abi3-macosx_10_12_universal2.whl (5.3 MB)\n",
      "\u001b[2K   \u001b[90m━━━━━━━━━━━━━━━━━━━━━━━━━━━━━━━━━━━━━━━━\u001b[0m \u001b[32m5.3/5.3 MB\u001b[0m \u001b[31m10.5 MB/s\u001b[0m eta \u001b[36m0:00:00\u001b[0m00:01\u001b[0m00:01\u001b[0m\n",
      "\u001b[?25hInstalling collected packages: cryptography\n",
      "Successfully installed cryptography-41.0.4\n",
      "Note: you may need to restart the kernel to use updated packages.\n"
     ]
    }
   ],
   "source": [
    "pip install cryptography"
   ]
  },
  {
   "cell_type": "code",
   "execution_count": 1,
   "id": "2419cc1c-ff7b-44b8-88ea-f2526413d475",
   "metadata": {},
   "outputs": [],
   "source": [
    "import pymysql\n",
    "import cryptography"
   ]
  },
  {
   "cell_type": "markdown",
   "id": "1dda523f-1c91-423e-8501-0fbe667c652f",
   "metadata": {},
   "source": [
    "#### DB 연동 순서\n",
    "- (1) DB 연결\n",
    "- (2) cursor 객체 생성\n",
    "- (3) sql 구문 실행\n",
    "- (4) sql 실행 결과 추출 (출력)"
   ]
  },
  {
   "cell_type": "code",
   "execution_count": 2,
   "id": "30a4e928-f7a0-4424-a65d-462ea8070800",
   "metadata": {},
   "outputs": [],
   "source": [
    "# 1. DB 연결\n",
    "# 호스트명, 포트번호, 로그인 계정, 비밀번호, CHARSET 파라미터로 지정\n",
    "import cryptography\n",
    "conn = pymysql.connect(host='localhost', \n",
    "                       port=3306, \n",
    "                       user='root', \n",
    "                       passwd='wjd900105!',\n",
    "                       charset='utf8')\n",
    "# 연결 객체 반환\n"
   ]
  },
  {
   "cell_type": "code",
   "execution_count": 3,
   "id": "1e50ef8c-0445-4c19-8ea6-47724cf5327a",
   "metadata": {},
   "outputs": [],
   "source": [
    "# 2. cursor 객체 \n",
    "cursor = conn.cursor()"
   ]
  },
  {
   "cell_type": "code",
   "execution_count": 4,
   "id": "a111df4e-8a1b-4bc7-b1f3-c01cd4117f57",
   "metadata": {},
   "outputs": [
    {
     "data": {
      "text/plain": [
       "7"
      ]
     },
     "execution_count": 4,
     "metadata": {},
     "output_type": "execute_result"
    }
   ],
   "source": [
    "# 3. sql 문 실행\n",
    "# 데이터베이스 확인 sql문 실행\n",
    "# 실행 : execute() 메소드\n",
    "sql = 'show databases'\n",
    "cursor.execute(sql)\n",
    "\n",
    "# 실행결과 : 데이터베이스 개수 반환"
   ]
  },
  {
   "cell_type": "code",
   "execution_count": 12,
   "id": "e887dff8-40e5-4635-9e70-0705f4d1f926",
   "metadata": {},
   "outputs": [
    {
     "data": {
      "text/plain": [
       "()"
      ]
     },
     "execution_count": 12,
     "metadata": {},
     "output_type": "execute_result"
    }
   ],
   "source": [
    "# 4. sql 실행 결과 추출 (출력)\n",
    "# 서버로부터 받은\n",
    "result = cursor.fetchall()\n",
    "result"
   ]
  },
  {
   "cell_type": "code",
   "execution_count": 15,
   "id": "cd590a67-fcc8-4ee4-a8dc-3e1e2746625a",
   "metadata": {},
   "outputs": [],
   "source": [
    "# database 생성\n",
    "sql = 'create database beauty_shop'\n",
    "# cursor.execute(sql)"
   ]
  },
  {
   "cell_type": "code",
   "execution_count": 17,
   "id": "cf393122-11ac-4395-bd4f-620d692e271d",
   "metadata": {},
   "outputs": [
    {
     "data": {
      "text/plain": [
       "(('beauty_shop',),\n",
       " ('information_schema',),\n",
       " ('mysql',),\n",
       " ('performance_schema',),\n",
       " ('sqldb1',),\n",
       " ('sqldb2',),\n",
       " ('sqldb4',),\n",
       " ('sys',))"
      ]
     },
     "execution_count": 17,
     "metadata": {},
     "output_type": "execute_result"
    }
   ],
   "source": [
    "# beauty_shop db 생성 확인\n",
    "sql = 'show databases'\n",
    "cursor.execute(sql)\n",
    "result = cursor.fetchall()\n",
    "result"
   ]
  },
  {
   "cell_type": "code",
   "execution_count": 20,
   "id": "d7b061d0-f9d9-48bf-9646-7e578f3c696a",
   "metadata": {},
   "outputs": [],
   "source": [
    "# db 삭제\n",
    "sql = 'drop database beauty_shop'\n",
    "cursor.execute(sql)"
   ]
  },
  {
   "cell_type": "code",
   "execution_count": 22,
   "id": "15e18e74-c5dc-4626-a622-e0e56df1a349",
   "metadata": {},
   "outputs": [
    {
     "data": {
      "text/plain": [
       "(('information_schema',),\n",
       " ('mysql',),\n",
       " ('performance_schema',),\n",
       " ('sqldb1',),\n",
       " ('sqldb2',),\n",
       " ('sqldb4',),\n",
       " ('sys',))"
      ]
     },
     "execution_count": 22,
     "metadata": {},
     "output_type": "execute_result"
    }
   ],
   "source": [
    "# beauty_shop db 삭제 확인\n",
    "sql = 'show databases'\n",
    "cursor.execute(sql)\n",
    "result = cursor.fetchall()\n",
    "result"
   ]
  },
  {
   "cell_type": "code",
   "execution_count": 69,
   "id": "c9b001f7-9c21-4567-a228-9ea1f1c47366",
   "metadata": {},
   "outputs": [
    {
     "data": {
      "text/plain": [
       "0"
      ]
     },
     "execution_count": 69,
     "metadata": {},
     "output_type": "execute_result"
    }
   ],
   "source": [
    "# 사용할 db 선택\n",
    "sql = 'use sqldb4'\n",
    "cursor.execute(sql)"
   ]
  },
  {
   "cell_type": "code",
   "execution_count": 27,
   "id": "d1421aad-5dc0-4d54-9171-d559f04674ed",
   "metadata": {},
   "outputs": [],
   "source": [
    "# 테이블 shop 생성\n",
    "sql = \"\"\"\n",
    "    create table shop(\n",
    "        proNo int auto_increment not null primary key,\n",
    "        prdName varchar(100),\n",
    "        prdPrice float,\n",
    "        prdDisPrice float\n",
    "    )\n",
    "\"\"\"\n",
    "\n",
    "cursor.execute(sql)"
   ]
  },
  {
   "cell_type": "code",
   "execution_count": 28,
   "id": "376c33a5-51cf-428a-9a02-1bf3873140a7",
   "metadata": {},
   "outputs": [
    {
     "data": {
      "text/plain": [
       "(('book',),\n",
       " ('booksale',),\n",
       " ('client',),\n",
       " ('client_view',),\n",
       " ('publisher',),\n",
       " ('shop',),\n",
       " ('top5_sales_clients',))"
      ]
     },
     "execution_count": 28,
     "metadata": {},
     "output_type": "execute_result"
    }
   ],
   "source": [
    "# 생성된 테이블 확인\n",
    "sql = \"show tables\"\n",
    "cursor.execute(sql)\n",
    "cursor.fetchall()"
   ]
  },
  {
   "cell_type": "code",
   "execution_count": 29,
   "id": "ec114efb-e296-4007-97d2-9cf332bf0302",
   "metadata": {},
   "outputs": [
    {
     "data": {
      "text/plain": [
       "0"
      ]
     },
     "execution_count": 29,
     "metadata": {},
     "output_type": "execute_result"
    }
   ],
   "source": [
    "# 테이블 삭제 \n",
    "sql = \"drop table shop\"\n",
    "cursor.execute(sql)"
   ]
  },
  {
   "cell_type": "code",
   "execution_count": 30,
   "id": "8ab65e8d-fe82-48da-a8f1-5bd264ed47b4",
   "metadata": {},
   "outputs": [
    {
     "data": {
      "text/plain": [
       "(('bookNo', 'varchar(10)', 'NO', 'PRI', None, ''),\n",
       " ('bookName', 'varchar(30)', 'NO', '', None, ''),\n",
       " ('bookAuthor', 'varchar(20)', 'NO', '', None, ''),\n",
       " ('bookPrice', 'int', 'YES', '', None, ''),\n",
       " ('bookDate', 'date', 'YES', '', None, ''),\n",
       " ('bookStock', 'int', 'YES', '', None, ''),\n",
       " ('pubNo', 'varchar(10)', 'NO', 'MUL', None, ''))"
      ]
     },
     "execution_count": 30,
     "metadata": {},
     "output_type": "execute_result"
    }
   ],
   "source": [
    "# 테이블 구조 확인\n",
    "sql = 'desc book'\n",
    "cursor.execute(sql)\n",
    "cursor.fetchall()\n",
    "# 열이름, 데이터타입(크기), null여부, key, "
   ]
  },
  {
   "cell_type": "code",
   "execution_count": 32,
   "id": "b4880902-784c-4052-91a9-1e34512226a7",
   "metadata": {},
   "outputs": [],
   "source": [
    "###################"
   ]
  },
  {
   "cell_type": "markdown",
   "id": "75e440f9-0b1b-449e-8496-294542939852",
   "metadata": {},
   "source": [
    "- CRUD 작업 처리\n",
    "- CREATE / READ / UPDATE / DELETE\n",
    "- INSERT / SELECT / UPDATE / DELETE"
   ]
  },
  {
   "cell_type": "code",
   "execution_count": 34,
   "id": "ccac35f7-bb7b-4ebc-9a6d-ec422f99a0ff",
   "metadata": {},
   "outputs": [],
   "source": [
    "# SELECT"
   ]
  },
  {
   "cell_type": "code",
   "execution_count": 36,
   "id": "1b1fa4cc-94ac-423b-b1ea-74c8602ba780",
   "metadata": {},
   "outputs": [
    {
     "data": {
      "text/plain": [
       "(('1001', '데이터베이스 이론', '홍길동', 22000, datetime.date(2019, 11, 11), 5, '3'),\n",
       " ('1002', '자바 프로그래밍', '이몽룡', 25000, datetime.date(2021, 12, 12), 4, '1'),\n",
       " ('1003', '인터넷프로그래밍', '성춘향', 30000, datetime.date(2019, 2, 10), 10, '2'),\n",
       " ('1004', '안드로이드 프로그래밍', '변학도', 23000, datetime.date(2017, 10, 10), 2, '1'),\n",
       " ('1005', '안드로이드 앱', '강길동', 26000, datetime.date(2020, 1, 11), 5, '2'),\n",
       " ('1006',\n",
       "  'MS SQL SERVER 2014',\n",
       "  '박지성',\n",
       "  35000,\n",
       "  datetime.date(2020, 3, 25),\n",
       "  7,\n",
       "  '3'),\n",
       " ('1007', 'HTML & CSS', '손흥민', 18000, datetime.date(2023, 9, 30), 3, '1'),\n",
       " ('1008', 'MFC 입문', '류현진', 20000, datetime.date(2015, 12, 12), 5, '1'),\n",
       " ('1009', '안드로이드 게임 제작', '나길동', 33000, datetime.date(2018, 10, 31), 5, '2'),\n",
       " ('1010', 'C++객체지향 프로그래밍', '추신수', 24000, datetime.date(2019, 4, 20), 2, '3'),\n",
       " ('1011', 'JSP 웹 프로그래밍', '김연아', 27000, datetime.date(2020, 10, 23), 8, '1'),\n",
       " ('1012', '해커들의 해킹 기법', '손연재', 32000, datetime.date(2018, 7, 7), 1, '2'),\n",
       " ('1013', '자료구조', '홍길동', 19000, datetime.date(2020, 1, 20), 4, '1'),\n",
       " ('1014', '파이썬', '성춘향', 35000, datetime.date(2023, 9, 25), 5, '2'),\n",
       " ('1015', '자바스크립 & jQuery', '홍길동', 27000, datetime.date(2019, 10, 22), 2, '2'))"
      ]
     },
     "execution_count": 36,
     "metadata": {},
     "output_type": "execute_result"
    }
   ],
   "source": [
    "# book table 데이터 조회\n",
    "sql = 'select * from book'\n",
    "cursor.execute(sql)\n",
    "result = cursor.fetchall()\n",
    "result"
   ]
  },
  {
   "cell_type": "code",
   "execution_count": 38,
   "id": "08af6399-3a80-4d16-babf-5cdf70087638",
   "metadata": {},
   "outputs": [
    {
     "data": {
      "text/plain": [
       "'1001'"
      ]
     },
     "execution_count": 38,
     "metadata": {},
     "output_type": "execute_result"
    }
   ],
   "source": [
    "result[0][0]"
   ]
  },
  {
   "cell_type": "code",
   "execution_count": 45,
   "id": "51b4dde8-6a06-44c5-bc5c-3f9fc2b89a4e",
   "metadata": {},
   "outputs": [
    {
     "name": "stdout",
     "output_type": "stream",
     "text": [
      "('1001', '데이터베이스 이론', '홍길동', 22000, datetime.date(2019, 11, 11), 5, '3')\n",
      "('1002', '자바 프로그래밍', '이몽룡', 25000, datetime.date(2021, 12, 12), 4, '1')\n",
      "('1003', '인터넷프로그래밍', '성춘향', 30000, datetime.date(2019, 2, 10), 10, '2')\n",
      "('1004', '안드로이드 프로그래밍', '변학도', 23000, datetime.date(2017, 10, 10), 2, '1')\n",
      "('1005', '안드로이드 앱', '강길동', 26000, datetime.date(2020, 1, 11), 5, '2')\n",
      "('1006', 'MS SQL SERVER 2014', '박지성', 35000, datetime.date(2020, 3, 25), 7, '3')\n",
      "('1007', 'HTML & CSS', '손흥민', 18000, datetime.date(2023, 9, 30), 3, '1')\n",
      "('1008', 'MFC 입문', '류현진', 20000, datetime.date(2015, 12, 12), 5, '1')\n",
      "('1009', '안드로이드 게임 제작', '나길동', 33000, datetime.date(2018, 10, 31), 5, '2')\n",
      "('1010', 'C++객체지향 프로그래밍', '추신수', 24000, datetime.date(2019, 4, 20), 2, '3')\n",
      "('1011', 'JSP 웹 프로그래밍', '김연아', 27000, datetime.date(2020, 10, 23), 8, '1')\n",
      "('1012', '해커들의 해킹 기법', '손연재', 32000, datetime.date(2018, 7, 7), 1, '2')\n",
      "('1013', '자료구조', '홍길동', 19000, datetime.date(2020, 1, 20), 4, '1')\n",
      "('1014', '파이썬', '성춘향', 35000, datetime.date(2023, 9, 25), 5, '2')\n",
      "('1015', '자바스크립 & jQuery', '홍길동', 27000, datetime.date(2019, 10, 22), 2, '2')\n"
     ]
    }
   ],
   "source": [
    "for row in result:\n",
    "    print(row)"
   ]
  },
  {
   "cell_type": "code",
   "execution_count": 48,
   "id": "d6cc23ae-21b9-4bc4-9e3d-137e5211f5cb",
   "metadata": {},
   "outputs": [
    {
     "data": {
      "text/plain": [
       "(('1003', '인터넷프로그래밍', 30000),\n",
       " ('1006', 'MS SQL SERVER 2014', 35000),\n",
       " ('1009', '안드로이드 게임 제작', 33000),\n",
       " ('1012', '해커들의 해킹 기법', 32000),\n",
       " ('1014', '파이썬', 35000))"
      ]
     },
     "execution_count": 48,
     "metadata": {},
     "output_type": "execute_result"
    }
   ],
   "source": [
    "# 도서 가격이 30,000원 이상인 도서번호, 도서명, 도서가격 출력\n",
    "sql = 'select bookNo, bookName, bookPrice from book where bookPrice>=30000 '\n",
    "cursor.execute(sql)\n",
    "result = cursor.fetchall()\n",
    "result"
   ]
  },
  {
   "cell_type": "code",
   "execution_count": 55,
   "id": "2cc415cb-fe12-4916-b6e6-bcf1d5754520",
   "metadata": {},
   "outputs": [
    {
     "name": "stdout",
     "output_type": "stream",
     "text": [
      "1003 인터넷프로그래밍 30000 \n",
      "1006 MS SQL SERVER 2014 35000 \n",
      "1009 안드로이드 게임 제작 33000 \n",
      "1012 해커들의 해킹 기법 32000 \n",
      "1014 파이썬 35000 \n"
     ]
    }
   ],
   "source": [
    "for row in result:\n",
    "    for data in row:\n",
    "        print(data,end=' ')\n",
    "    print()"
   ]
  },
  {
   "cell_type": "code",
   "execution_count": null,
   "id": "bf4e13f2-59da-42d8-bbd9-86649158a253",
   "metadata": {},
   "outputs": [],
   "source": []
  },
  {
   "cell_type": "code",
   "execution_count": null,
   "id": "ff7e0b63-3128-4338-aada-146ddca96280",
   "metadata": {},
   "outputs": [],
   "source": [
    "# 새로 시작하면\n",
    "# (1) DB연결\n",
    "# (2) 커서 생성\n",
    "# (3) 사용할 db(schema)지정\n",
    "# (4) select 구문 확인"
   ]
  },
  {
   "cell_type": "code",
   "execution_count": 70,
   "id": "f4255800-a413-4e90-a251-47e0ee656473",
   "metadata": {},
   "outputs": [
    {
     "data": {
      "text/plain": [
       "((datetime.date(2019, 11, 11),),\n",
       " (datetime.date(2021, 12, 12),),\n",
       " (datetime.date(2019, 2, 10),),\n",
       " (datetime.date(2017, 10, 10),),\n",
       " (datetime.date(2020, 1, 11),),\n",
       " (datetime.date(2020, 3, 25),),\n",
       " (datetime.date(2023, 9, 30),),\n",
       " (datetime.date(2015, 12, 12),),\n",
       " (datetime.date(2018, 10, 31),),\n",
       " (datetime.date(2019, 4, 20),),\n",
       " (datetime.date(2020, 10, 23),),\n",
       " (datetime.date(2018, 7, 7),),\n",
       " (datetime.date(2020, 1, 20),),\n",
       " (datetime.date(2023, 9, 25),),\n",
       " (datetime.date(2019, 10, 22),))"
      ]
     },
     "execution_count": 70,
     "metadata": {},
     "output_type": "execute_result"
    }
   ],
   "source": [
    "# 날짜 출력\n",
    "sql = \"select bookDate from book\"\n",
    "cursor.execute(sql)\n",
    "result = cursor.fetchall()\n",
    "result"
   ]
  },
  {
   "cell_type": "code",
   "execution_count": 72,
   "id": "512110c2-411f-49ca-b980-d17bc3b0acd5",
   "metadata": {},
   "outputs": [
    {
     "name": "stdout",
     "output_type": "stream",
     "text": [
      "2019년 11월 11일 00시 00분 00초\n",
      "2021년 12월 12일 00시 00분 00초\n",
      "2019년 02월 10일 00시 00분 00초\n",
      "2017년 10월 10일 00시 00분 00초\n",
      "2020년 01월 11일 00시 00분 00초\n",
      "2020년 03월 25일 00시 00분 00초\n",
      "2023년 09월 30일 00시 00분 00초\n",
      "2015년 12월 12일 00시 00분 00초\n",
      "2018년 10월 31일 00시 00분 00초\n",
      "2019년 04월 20일 00시 00분 00초\n",
      "2020년 10월 23일 00시 00분 00초\n",
      "2018년 07월 07일 00시 00분 00초\n",
      "2020년 01월 20일 00시 00분 00초\n",
      "2023년 09월 25일 00시 00분 00초\n",
      "2019년 10월 22일 00시 00분 00초\n"
     ]
    }
   ],
   "source": [
    "# 각 튜플의 원소 출력하고\n",
    "# datetime.date()타입을 문자열로 변환 : strftime()함수 사용\n",
    "for i in range(len(result)):\n",
    "    print(result[i][0].strftime(\"%Y년 %m월 %d일 %H시 %M분 %S초\"))"
   ]
  },
  {
   "cell_type": "code",
   "execution_count": 73,
   "id": "e2862b10-afb6-4513-8a6b-86e8b74acbdb",
   "metadata": {},
   "outputs": [
    {
     "name": "stdout",
     "output_type": "stream",
     "text": [
      "2019-11-11\n",
      "2021-12-12\n",
      "2019-02-10\n",
      "2017-10-10\n",
      "2020-01-11\n",
      "2020-03-25\n",
      "2023-09-30\n",
      "2015-12-12\n",
      "2018-10-31\n",
      "2019-04-20\n",
      "2020-10-23\n",
      "2018-07-07\n",
      "2020-01-20\n",
      "2023-09-25\n",
      "2019-10-22\n"
     ]
    }
   ],
   "source": [
    "# 원하는 형식으로 출력\n",
    "for i in range(len(result)):\n",
    "    print(result[i][0].strftime(\"%Y-%m-%d\"))"
   ]
  },
  {
   "cell_type": "code",
   "execution_count": 79,
   "id": "e0eb0966-708c-41d2-95a5-a48a4b1b8012",
   "metadata": {},
   "outputs": [
    {
     "data": {
      "text/plain": [
       "(('베컴', datetime.date(2021, 7, 9), 2, '도서출판 강남'),\n",
       " ('옴바페', datetime.date(2022, 1, 2), 9, '도서출판 강남'),\n",
       " ('호날두', datetime.date(2020, 2, 20), 5, '도서출판 강남'))"
      ]
     },
     "execution_count": 79,
     "metadata": {},
     "output_type": "execute_result"
    }
   ],
   "source": [
    "# 연습문제\n",
    "# 판매된 도서 중에서 '도서출판 강남'에서 출간된 도서에 대하여\n",
    "# 고객명, 주문일, 도서명, 주문수량, 출판사명 출력\n",
    "# 고객명 오름차순\n",
    "sql = '''\n",
    "    SELECT C.clientName, BS.bsDate, BS.bsQty, P.pubName \n",
    "    FROM client AS C\n",
    "        INNER JOIN bookSale AS BS ON BS.clientNo = C.clientNo\n",
    "        INNER JOIN book AS B ON B.bookNo = BS.bookNo\n",
    "        INNER JOIN publisher AS P ON P.pubNo = B.pubNo\n",
    "    WHERE P.pubName = \"도서출판 강남\"\n",
    "    ORDER BY C.clientName\n",
    "    '''\n",
    "cursor.execute(sql)\n",
    "\n",
    "result = cursor.fetchall()\n",
    "result\n"
   ]
  },
  {
   "cell_type": "code",
   "execution_count": 80,
   "id": "ac60531f-7d02-4edb-a9d8-c8073ae308b9",
   "metadata": {},
   "outputs": [
    {
     "data": {
      "text/plain": [
       "(('1', datetime.date(2019, 4, 5), 2, '3', '1006'),\n",
       " ('2', datetime.date(2019, 10, 11), 1, '7', '1004'),\n",
       " ('3', datetime.date(2020, 2, 20), 5, '2', '1009'),\n",
       " ('4', datetime.date(2020, 7, 10), 4, '1', '1011'),\n",
       " ('5', datetime.date(2021, 2, 9), 2, '2', '1002'),\n",
       " ('6', datetime.date(2021, 7, 9), 2, '4', '1003'),\n",
       " ('7', datetime.date(2022, 11, 16), 2, '2', '1002'),\n",
       " ('8', datetime.date(2022, 1, 2), 9, '7', '1005'),\n",
       " ('9', datetime.date(2023, 9, 25), 1, '8', '1004'))"
      ]
     },
     "execution_count": 80,
     "metadata": {},
     "output_type": "execute_result"
    }
   ],
   "source": [
    "sql = \"select * from bookSale\"\n",
    "cursor.execute(sql)\n",
    "\n",
    "result = cursor.fetchall()\n",
    "result"
   ]
  },
  {
   "cell_type": "code",
   "execution_count": null,
   "id": "0c7fbb88-1b67-4564-8aff-617a7440a21d",
   "metadata": {},
   "outputs": [],
   "source": [
    "###############"
   ]
  },
  {
   "cell_type": "code",
   "execution_count": null,
   "id": "96a8cc5d-aba7-47cf-8ff5-739a177624fa",
   "metadata": {},
   "outputs": [],
   "source": [
    "# INSERT"
   ]
  },
  {
   "cell_type": "code",
   "execution_count": 81,
   "id": "a2f1398e-354e-4d73-a469-5d08642ca682",
   "metadata": {},
   "outputs": [],
   "source": [
    "# 데이터 입력 받아서 book테이블에 저장"
   ]
  },
  {
   "cell_type": "code",
   "execution_count": 83,
   "id": "bccede05-3beb-41f9-b9f9-531506e50510",
   "metadata": {},
   "outputs": [
    {
     "name": "stdin",
     "output_type": "stream",
     "text": [
      "도서번호 입력 :  1016\n",
      "도서명 입력 :  db\n",
      "저자 입력 :  이길동\n",
      "가격 입력 :  23000\n",
      "출판일 입력 :  2022-11-11\n",
      "재고 입력 :  5\n",
      "출판사번호 입력 :  1\n"
     ]
    }
   ],
   "source": [
    "bookNo = input('도서번호 입력 : ')\n",
    "bookName = input('도서명 입력 : ')\n",
    "bookAuthor = input('저자 입력 : ')\n",
    "bookPrice = input('가격 입력 : ')\n",
    "bookDate = input('출판일 입력 : ')\n",
    "bookStock = input('재고 입력 : ')\n",
    "pubNo = input('출판사번호 입력 : ')"
   ]
  },
  {
   "cell_type": "code",
   "execution_count": 84,
   "id": "3b6ab8e1-75e4-4f57-8241-4c4609209ea2",
   "metadata": {},
   "outputs": [
    {
     "data": {
      "text/plain": [
       "('1016', 'db', '이길동', '23000', '2022-11-11', '5', '1')"
      ]
     },
     "execution_count": 84,
     "metadata": {},
     "output_type": "execute_result"
    }
   ],
   "source": [
    "bookNo, bookName, bookAuthor, bookPrice, bookDate, bookStock, pubNo"
   ]
  },
  {
   "cell_type": "code",
   "execution_count": 90,
   "id": "29845671-98b7-4afd-ba64-80b5d6066eea",
   "metadata": {},
   "outputs": [],
   "source": [
    "# INSERT 방법 1\n",
    "sql = \"insert into book(bookNo, bookName, bookAuthor, bookPrice, bookDate, bookStock, pubNo) values('\" \\\n",
    "      + bookNo + \"', '\" \\\n",
    "      + bookName + \"', '\" \\\n",
    "      + bookAuthor + \"', \" \\\n",
    "      + bookPrice + \", '\" \\\n",
    "      + bookDate + \"', \" \\\n",
    "      + bookStock + \", '\" \\\n",
    "      + pubNo + \"')\"\n",
    "\n",
    "cursor.execute(sql)\n",
    "conn.commit()  # 반드시 commit해서 완료시켜야 db에 반영됨"
   ]
  },
  {
   "cell_type": "code",
   "execution_count": null,
   "id": "c2c86624-f963-4118-b7ea-52cbb75e84e3",
   "metadata": {},
   "outputs": [],
   "source": []
  },
  {
   "cell_type": "code",
   "execution_count": 91,
   "id": "defe9ec7-e6f5-456f-94ef-203d1535d83b",
   "metadata": {},
   "outputs": [],
   "source": [
    "# INSERT 방법 2"
   ]
  },
  {
   "cell_type": "code",
   "execution_count": 92,
   "id": "ed080bdf-5aea-4f3f-9a0a-c3e488cd4a2c",
   "metadata": {},
   "outputs": [
    {
     "name": "stdin",
     "output_type": "stream",
     "text": [
      "도서번호 입력 :  1018\n",
      "도서명 입력 :  sql\n",
      "저자 입력 :  이길동\n",
      "가격 입력 :  30000\n",
      "출판일 입력 :  2023-09-27\n",
      "재고 입력 :  6\n",
      "출판사번호 입력 :  2\n"
     ]
    }
   ],
   "source": [
    "bookNo = input('도서번호 입력 : ')\n",
    "bookName = input('도서명 입력 : ')\n",
    "bookAuthor = input('저자 입력 : ')\n",
    "bookPrice = input('가격 입력 : ')\n",
    "bookDate = input('출판일 입력 : ')\n",
    "bookStock = input('재고 입력 : ')\n",
    "pubNo = input('출판사번호 입력 : ')"
   ]
  },
  {
   "cell_type": "code",
   "execution_count": 95,
   "id": "bf8fc9ee-807f-4769-8a50-fd7d5aaf4458",
   "metadata": {},
   "outputs": [],
   "source": [
    "# INSERT 방법2\n",
    "# 모든 열에 데이터 입력 시 열 이름 리스트 생략가능\n",
    "\n",
    "sql = \"insert into book values(%s, %s, %s, %s, %s, %s, %s)\"  # 위치, 데이터 타입 지정해 놓고 (다 문자열로 넘겨도 오류 없음)\n",
    "values = (bookNo, bookName, bookAuthor, bookPrice, bookDate, bookStock, pubNo) # 실제 전달될 값\n",
    "\n",
    "cursor.execute(sql, values)\n",
    "conn.commit()  # 반드시 commit해서 완료시켜야 db에 반영됨"
   ]
  },
  {
   "cell_type": "code",
   "execution_count": 105,
   "id": "62f0e0fc-a73e-4866-ae89-6d895db5e4d9",
   "metadata": {},
   "outputs": [
    {
     "data": {
      "text/plain": [
       "(('1002', '자바 프로그래밍', '이몽룡', 25000, datetime.date(2021, 12, 12), 4, '1'),\n",
       " ('1003', '인터넷프로그래밍', '성춘향', 30000, datetime.date(2019, 2, 10), 10, '2'),\n",
       " ('1004', '안드로이드 프로그래밍', '변학도', 23000, datetime.date(2017, 10, 10), 2, '1'),\n",
       " ('1005', '안드로이드 앱', '강길동', 26000, datetime.date(2020, 1, 11), 5, '2'),\n",
       " ('1006',\n",
       "  'MS SQL SERVER 2014',\n",
       "  '박지성',\n",
       "  35000,\n",
       "  datetime.date(2020, 3, 25),\n",
       "  7,\n",
       "  '3'),\n",
       " ('1007', 'HTML & CSS', '손흥민', 18000, datetime.date(2023, 9, 30), 3, '1'),\n",
       " ('1008', 'MFC 입문', '류현진', 20000, datetime.date(2015, 12, 12), 5, '1'),\n",
       " ('1009', '안드로이드 게임 제작', '나길동', 33000, datetime.date(2018, 10, 31), 5, '2'),\n",
       " ('1010', 'C++객체지향 프로그래밍', '추신수', 24000, datetime.date(2019, 4, 20), 2, '3'),\n",
       " ('1011', 'JSP 웹 프로그래밍', '김연아', 27000, datetime.date(2020, 10, 23), 8, '1'),\n",
       " ('1012', '해커들의 해킹 기법', '손연재', 32000, datetime.date(2018, 7, 7), 1, '2'),\n",
       " ('1013', '자료구조', '홍길동', 19000, datetime.date(2020, 1, 20), 4, '1'),\n",
       " ('1014', '파이썬', '성춘향', 35000, datetime.date(2023, 9, 25), 5, '2'),\n",
       " ('1015', '자바스크립 & jQuery', '홍길동', 27000, datetime.date(2019, 10, 22), 2, '2'),\n",
       " ('1016', 'db', '이길동', 23000, datetime.date(2022, 11, 11), 5, '1'))"
      ]
     },
     "execution_count": 105,
     "metadata": {},
     "output_type": "execute_result"
    }
   ],
   "source": [
    "sql = 'select * from book'\n",
    "cursor.execute(sql)\n",
    "result = cursor.fetchall()\n",
    "result"
   ]
  },
  {
   "cell_type": "code",
   "execution_count": null,
   "id": "b1e984fd-7e70-44d4-87de-a6fd8334747b",
   "metadata": {},
   "outputs": [],
   "source": [
    "##################"
   ]
  },
  {
   "cell_type": "code",
   "execution_count": null,
   "id": "5ce4ac01-0eb1-450b-9481-ac549deef36d",
   "metadata": {},
   "outputs": [],
   "source": [
    "# UPDATE\n",
    "# 주의 ! commit"
   ]
  },
  {
   "cell_type": "code",
   "execution_count": null,
   "id": "c007e14e-5337-4a7f-8b6d-f60b26f59451",
   "metadata": {},
   "outputs": [],
   "source": [
    "# 고객명이 '메시'인 고객의 전화번호 값 수정 : 010 - 1111-1111을 010-1234-1234로변경"
   ]
  },
  {
   "cell_type": "code",
   "execution_count": 97,
   "id": "dd9015fd-c6a6-4c7b-b13d-11899cd0fedf",
   "metadata": {},
   "outputs": [],
   "source": [
    "sql = \"update client set clientPhone='010-1234-1234' where clientName = '메시'\"\n",
    "cursor.execute(sql)\n",
    "conn.commit()"
   ]
  },
  {
   "cell_type": "code",
   "execution_count": 98,
   "id": "ef86b47a-231e-4bb8-abdb-00820830112f",
   "metadata": {},
   "outputs": [
    {
     "data": {
      "text/plain": [
       "(('1', '메시', '010-1234-1234', '서울시', datetime.date(1987, 6, 24), '축구', '남'),\n",
       " ('2', '호날두', '010-2222-2222', '천안', datetime.date(1984, 2, 5), None, '남'),\n",
       " ('3', '샤라포바', '010-3333-3333', '제주', datetime.date(1987, 4, 19), None, '여'),\n",
       " ('4', '베컴', '010-4444-4444', '안양', datetime.date(1994, 5, 2), '영화', '남'),\n",
       " ('5', '네이마르', '010-5555-5555', '수원', datetime.date(1992, 2, 5), '게임', '남'),\n",
       " ('6', '윌리엄스', '010-6666-6666', '서울', datetime.date(1981, 9, 26), '테니스', '여'),\n",
       " ('7', '옴바페', '010-7777-7777', '천안', datetime.date(1991, 1, 7), ' ', '남'),\n",
       " ('8', '살라', '010-8888-8888', '부산', datetime.date(1982, 4, 22), '', '남'))"
      ]
     },
     "execution_count": 98,
     "metadata": {},
     "output_type": "execute_result"
    }
   ],
   "source": [
    "sql = \"select * from client\"\n",
    "cursor.execute(sql)\n",
    "result = cursor.fetchall()\n",
    "result"
   ]
  },
  {
   "cell_type": "code",
   "execution_count": 99,
   "id": "47094fcb-c52b-421d-a20f-0a303664e065",
   "metadata": {},
   "outputs": [
    {
     "name": "stdin",
     "output_type": "stream",
     "text": [
      "도서번호 입력 :  1001\n",
      "도서명 입력 :  데이터베이스 이론 및 실기\n",
      "저자 입력 :  홍길동\n",
      "가격 입력 :  22000\n",
      "출판일 입력 :  2019-11-11\n",
      "재고 입력 :  5\n",
      "출판사번호 입력 :  3\n"
     ]
    }
   ],
   "source": [
    "# 입력된 값으로 데이터 수정\n",
    "# 수정하고자 하는 기본키 값을 입력받고\n",
    "# 수정할 데이터 입력\n",
    "bookNo = input('도서번호 입력 : ')\n",
    "bookName = input('도서명 입력 : ')\n",
    "bookAuthor = input('저자 입력 : ')\n",
    "bookPrice = input('가격 입력 : ')\n",
    "bookDate = input('출판일 입력 : ')\n",
    "bookStock = input('재고 입력 : ')\n",
    "pubNo = input('출판사번호 입력 : ')\n",
    "\n",
    "# ('1001', '데이터베이스 이론', '홍길동', 22000, datetime.date(2019, 11, 11), 5, '3')\n",
    "# '데이터베이스 이론 및 실기', 25000, 재고 7"
   ]
  },
  {
   "cell_type": "code",
   "execution_count": 100,
   "id": "c7a0bde6-1cf3-40c6-bed0-87a2490ff4ae",
   "metadata": {},
   "outputs": [],
   "source": [
    "# update 테이블명 set 열=값, ... where\n",
    "# pk는 변경 불가\n",
    "sql = \"update book set bookName=%s, bookAuthor=%s, \" \\\n",
    "     + \"bookPrice=%s, bookDate=%s, bookStock=%s, pubNo=%s where bookNo=%s\"\n",
    "values = (bookNo, bookName, bookAuthor, bookPrice, bookDate, bookStock, pubNo) # 실제 전달될 값\n",
    "\n",
    "cursor.execute(sql, values)\n",
    "conn.commit()  # 반드시 commit해서 완료시켜야 db에 반영됨\n"
   ]
  },
  {
   "cell_type": "code",
   "execution_count": 101,
   "id": "07875793-9c6b-4930-9182-8bf328fe079d",
   "metadata": {},
   "outputs": [],
   "source": [
    "########################"
   ]
  },
  {
   "cell_type": "code",
   "execution_count": null,
   "id": "8228a3e3-d3a8-4f83-9172-9c14e81dbe08",
   "metadata": {},
   "outputs": [],
   "source": [
    "# DELETE\n",
    "# 주의 ! commit"
   ]
  },
  {
   "cell_type": "code",
   "execution_count": 103,
   "id": "5058b1be-eea2-4839-846d-2f1ffa3822e6",
   "metadata": {},
   "outputs": [],
   "source": [
    "sql = \"delete from book where bookNo = '1018'\"\n",
    "cursor.execute(sql)\n",
    "conn.commit()"
   ]
  },
  {
   "cell_type": "code",
   "execution_count": 104,
   "id": "5aafb22b-a825-4f2b-85c3-c13fb97cfbd0",
   "metadata": {},
   "outputs": [
    {
     "name": "stdin",
     "output_type": "stream",
     "text": [
      "삭제할 도서번호 입력 :  1001\n"
     ]
    }
   ],
   "source": [
    "# 삭제할 도서번호 입력 받아서 삭제\n",
    "bookNo = input('삭제할 도서번호 입력 : ')\n",
    "\n",
    "sql = \"delete from book where bookNo = %s\"\n",
    "# sql = \"delete from book where bookNo =\" + bookNo\n",
    "cursor.execute(sql, bookNo)\n",
    "conn.commit()"
   ]
  },
  {
   "cell_type": "code",
   "execution_count": null,
   "id": "088a4681-b9c2-4149-96d0-53ecdf9263c9",
   "metadata": {},
   "outputs": [],
   "source": [
    "# 저장 프로시저 호출"
   ]
  },
  {
   "cell_type": "code",
   "execution_count": 119,
   "id": "a10bdebf-fa23-4c76-a5ca-763185996359",
   "metadata": {},
   "outputs": [
    {
     "ename": "OperationalError",
     "evalue": "(2006, \"MySQL server has gone away (BrokenPipeError(32, 'Broken pipe'))\")",
     "output_type": "error",
     "traceback": [
      "\u001b[0;31m---------------------------------------------------------------------------\u001b[0m",
      "\u001b[0;31mBrokenPipeError\u001b[0m                           Traceback (most recent call last)",
      "File \u001b[0;32m/opt/homebrew/Cellar/jupyterlab/4.0.5_1/libexec/lib/python3.11/site-packages/pymysql/connections.py:803\u001b[0m, in \u001b[0;36mConnection._write_bytes\u001b[0;34m(self, data)\u001b[0m\n\u001b[1;32m    802\u001b[0m \u001b[38;5;28;01mtry\u001b[39;00m:\n\u001b[0;32m--> 803\u001b[0m     \u001b[38;5;28;43mself\u001b[39;49m\u001b[38;5;241;43m.\u001b[39;49m\u001b[43m_sock\u001b[49m\u001b[38;5;241;43m.\u001b[39;49m\u001b[43msendall\u001b[49m\u001b[43m(\u001b[49m\u001b[43mdata\u001b[49m\u001b[43m)\u001b[49m\n\u001b[1;32m    804\u001b[0m \u001b[38;5;28;01mexcept\u001b[39;00m \u001b[38;5;167;01mOSError\u001b[39;00m \u001b[38;5;28;01mas\u001b[39;00m e:\n",
      "\u001b[0;31mBrokenPipeError\u001b[0m: [Errno 32] Broken pipe",
      "\nDuring handling of the above exception, another exception occurred:\n",
      "\u001b[0;31mOperationalError\u001b[0m                          Traceback (most recent call last)",
      "Cell \u001b[0;32mIn[119], line 5\u001b[0m\n\u001b[1;32m      1\u001b[0m \u001b[38;5;66;03m# (1) 매개변수 없는 경우\u001b[39;00m\n\u001b[1;32m      2\u001b[0m \u001b[38;5;66;03m# -- 한번이라도 주문한 적이 있는 고객을 대상으로 고객등급을 분류하는 프로시저\u001b[39;00m\n\u001b[1;32m      3\u001b[0m \u001b[38;5;66;03m# -- 고객 번호 전달받아서, 고객번호, 고객명, 총주문액, 고객등급 출력\u001b[39;00m\n\u001b[1;32m      4\u001b[0m \u001b[38;5;66;03m# 프로시저 이름 : clientRankCheckProc\u001b[39;00m\n\u001b[0;32m----> 5\u001b[0m \u001b[43mcursor\u001b[49m\u001b[38;5;241;43m.\u001b[39;49m\u001b[43mcallproc\u001b[49m\u001b[43m(\u001b[49m\u001b[38;5;124;43m\"\u001b[39;49m\u001b[38;5;124;43mclientRankCheckProc\u001b[39;49m\u001b[38;5;124;43m\"\u001b[39;49m\u001b[43m)\u001b[49m\n\u001b[1;32m      6\u001b[0m result\u001b[38;5;241m=\u001b[39mcursor\u001b[38;5;241m.\u001b[39mfetchall()\n\u001b[1;32m      7\u001b[0m result\n",
      "File \u001b[0;32m/opt/homebrew/Cellar/jupyterlab/4.0.5_1/libexec/lib/python3.11/site-packages/pymysql/cursors.py:269\u001b[0m, in \u001b[0;36mCursor.callproc\u001b[0;34m(self, procname, args)\u001b[0m\n\u001b[1;32m    263\u001b[0m     \u001b[38;5;28mself\u001b[39m\u001b[38;5;241m.\u001b[39mnextset()\n\u001b[1;32m    265\u001b[0m q \u001b[38;5;241m=\u001b[39m \u001b[38;5;124m\"\u001b[39m\u001b[38;5;124mCALL \u001b[39m\u001b[38;5;132;01m{}\u001b[39;00m\u001b[38;5;124m(\u001b[39m\u001b[38;5;132;01m{}\u001b[39;00m\u001b[38;5;124m)\u001b[39m\u001b[38;5;124m\"\u001b[39m\u001b[38;5;241m.\u001b[39mformat(\n\u001b[1;32m    266\u001b[0m     procname,\n\u001b[1;32m    267\u001b[0m     \u001b[38;5;124m\"\u001b[39m\u001b[38;5;124m,\u001b[39m\u001b[38;5;124m\"\u001b[39m\u001b[38;5;241m.\u001b[39mjoin([\u001b[38;5;124m\"\u001b[39m\u001b[38;5;124m@_\u001b[39m\u001b[38;5;132;01m%s\u001b[39;00m\u001b[38;5;124m_\u001b[39m\u001b[38;5;132;01m%d\u001b[39;00m\u001b[38;5;124m\"\u001b[39m \u001b[38;5;241m%\u001b[39m (procname, i) \u001b[38;5;28;01mfor\u001b[39;00m i \u001b[38;5;129;01min\u001b[39;00m \u001b[38;5;28mrange\u001b[39m(\u001b[38;5;28mlen\u001b[39m(args))]),\n\u001b[1;32m    268\u001b[0m )\n\u001b[0;32m--> 269\u001b[0m \u001b[38;5;28;43mself\u001b[39;49m\u001b[38;5;241;43m.\u001b[39;49m\u001b[43m_query\u001b[49m\u001b[43m(\u001b[49m\u001b[43mq\u001b[49m\u001b[43m)\u001b[49m\n\u001b[1;32m    270\u001b[0m \u001b[38;5;28mself\u001b[39m\u001b[38;5;241m.\u001b[39m_executed \u001b[38;5;241m=\u001b[39m q\n\u001b[1;32m    271\u001b[0m \u001b[38;5;28;01mreturn\u001b[39;00m args\n",
      "File \u001b[0;32m/opt/homebrew/Cellar/jupyterlab/4.0.5_1/libexec/lib/python3.11/site-packages/pymysql/cursors.py:322\u001b[0m, in \u001b[0;36mCursor._query\u001b[0;34m(self, q)\u001b[0m\n\u001b[1;32m    320\u001b[0m conn \u001b[38;5;241m=\u001b[39m \u001b[38;5;28mself\u001b[39m\u001b[38;5;241m.\u001b[39m_get_db()\n\u001b[1;32m    321\u001b[0m \u001b[38;5;28mself\u001b[39m\u001b[38;5;241m.\u001b[39m_clear_result()\n\u001b[0;32m--> 322\u001b[0m \u001b[43mconn\u001b[49m\u001b[38;5;241;43m.\u001b[39;49m\u001b[43mquery\u001b[49m\u001b[43m(\u001b[49m\u001b[43mq\u001b[49m\u001b[43m)\u001b[49m\n\u001b[1;32m    323\u001b[0m \u001b[38;5;28mself\u001b[39m\u001b[38;5;241m.\u001b[39m_do_get_result()\n\u001b[1;32m    324\u001b[0m \u001b[38;5;28;01mreturn\u001b[39;00m \u001b[38;5;28mself\u001b[39m\u001b[38;5;241m.\u001b[39mrowcount\n",
      "File \u001b[0;32m/opt/homebrew/Cellar/jupyterlab/4.0.5_1/libexec/lib/python3.11/site-packages/pymysql/connections.py:557\u001b[0m, in \u001b[0;36mConnection.query\u001b[0;34m(self, sql, unbuffered)\u001b[0m\n\u001b[1;32m    555\u001b[0m \u001b[38;5;28;01mif\u001b[39;00m \u001b[38;5;28misinstance\u001b[39m(sql, \u001b[38;5;28mstr\u001b[39m):\n\u001b[1;32m    556\u001b[0m     sql \u001b[38;5;241m=\u001b[39m sql\u001b[38;5;241m.\u001b[39mencode(\u001b[38;5;28mself\u001b[39m\u001b[38;5;241m.\u001b[39mencoding, \u001b[38;5;124m\"\u001b[39m\u001b[38;5;124msurrogateescape\u001b[39m\u001b[38;5;124m\"\u001b[39m)\n\u001b[0;32m--> 557\u001b[0m \u001b[38;5;28;43mself\u001b[39;49m\u001b[38;5;241;43m.\u001b[39;49m\u001b[43m_execute_command\u001b[49m\u001b[43m(\u001b[49m\u001b[43mCOMMAND\u001b[49m\u001b[38;5;241;43m.\u001b[39;49m\u001b[43mCOM_QUERY\u001b[49m\u001b[43m,\u001b[49m\u001b[43m \u001b[49m\u001b[43msql\u001b[49m\u001b[43m)\u001b[49m\n\u001b[1;32m    558\u001b[0m \u001b[38;5;28mself\u001b[39m\u001b[38;5;241m.\u001b[39m_affected_rows \u001b[38;5;241m=\u001b[39m \u001b[38;5;28mself\u001b[39m\u001b[38;5;241m.\u001b[39m_read_query_result(unbuffered\u001b[38;5;241m=\u001b[39munbuffered)\n\u001b[1;32m    559\u001b[0m \u001b[38;5;28;01mreturn\u001b[39;00m \u001b[38;5;28mself\u001b[39m\u001b[38;5;241m.\u001b[39m_affected_rows\n",
      "File \u001b[0;32m/opt/homebrew/Cellar/jupyterlab/4.0.5_1/libexec/lib/python3.11/site-packages/pymysql/connections.py:861\u001b[0m, in \u001b[0;36mConnection._execute_command\u001b[0;34m(self, command, sql)\u001b[0m\n\u001b[1;32m    859\u001b[0m prelude \u001b[38;5;241m=\u001b[39m struct\u001b[38;5;241m.\u001b[39mpack(\u001b[38;5;124m\"\u001b[39m\u001b[38;5;124m<iB\u001b[39m\u001b[38;5;124m\"\u001b[39m, packet_size, command)\n\u001b[1;32m    860\u001b[0m packet \u001b[38;5;241m=\u001b[39m prelude \u001b[38;5;241m+\u001b[39m sql[: packet_size \u001b[38;5;241m-\u001b[39m \u001b[38;5;241m1\u001b[39m]\n\u001b[0;32m--> 861\u001b[0m \u001b[38;5;28;43mself\u001b[39;49m\u001b[38;5;241;43m.\u001b[39;49m\u001b[43m_write_bytes\u001b[49m\u001b[43m(\u001b[49m\u001b[43mpacket\u001b[49m\u001b[43m)\u001b[49m\n\u001b[1;32m    862\u001b[0m \u001b[38;5;28;01mif\u001b[39;00m DEBUG:\n\u001b[1;32m    863\u001b[0m     dump_packet(packet)\n",
      "File \u001b[0;32m/opt/homebrew/Cellar/jupyterlab/4.0.5_1/libexec/lib/python3.11/site-packages/pymysql/connections.py:806\u001b[0m, in \u001b[0;36mConnection._write_bytes\u001b[0;34m(self, data)\u001b[0m\n\u001b[1;32m    804\u001b[0m \u001b[38;5;28;01mexcept\u001b[39;00m \u001b[38;5;167;01mOSError\u001b[39;00m \u001b[38;5;28;01mas\u001b[39;00m e:\n\u001b[1;32m    805\u001b[0m     \u001b[38;5;28mself\u001b[39m\u001b[38;5;241m.\u001b[39m_force_close()\n\u001b[0;32m--> 806\u001b[0m     \u001b[38;5;28;01mraise\u001b[39;00m err\u001b[38;5;241m.\u001b[39mOperationalError(\n\u001b[1;32m    807\u001b[0m         CR\u001b[38;5;241m.\u001b[39mCR_SERVER_GONE_ERROR, \u001b[38;5;124mf\u001b[39m\u001b[38;5;124m\"\u001b[39m\u001b[38;5;124mMySQL server has gone away (\u001b[39m\u001b[38;5;132;01m{\u001b[39;00me\u001b[38;5;132;01m!r}\u001b[39;00m\u001b[38;5;124m)\u001b[39m\u001b[38;5;124m\"\u001b[39m\n\u001b[1;32m    808\u001b[0m     )\n",
      "\u001b[0;31mOperationalError\u001b[0m: (2006, \"MySQL server has gone away (BrokenPipeError(32, 'Broken pipe'))\")"
     ]
    }
   ],
   "source": [
    "# (1) 매개변수 없는 경우\n",
    "# -- 한번이라도 주문한 적이 있는 고객을 대상으로 고객등급을 분류하는 프로시저\n",
    "# -- 고객 번호 전달받아서, 고객번호, 고객명, 총주문액, 고객등급 출력\n",
    "# 프로시저 이름 : clientRankCheckProc\n",
    "cursor.callproc(\"clientRankCheckProc\")\n",
    "result=cursor.fetchall()\n",
    "result\n"
   ]
  },
  {
   "cell_type": "code",
   "execution_count": null,
   "id": "8d81a291-c9dc-4d41-ae77-3895de4c9b7f",
   "metadata": {},
   "outputs": [],
   "source": [
    "# 매개변수가 있는 경우 : IN 매개변수만 있는 경우\n",
    "\n",
    "# -- 고객의 연령대를 출력하는 프로시저 \n",
    "# -- 고객번호를 전달 받아서, 해당 고객의 생년월일 확인 후 '~년대생' 출력 \n",
    "# -- 예 : 1990년대생, 1980년대생, 1970년대생 출력 \n",
    "# -- 고객번호, 고객명, 연령대 \n",
    "# 프로시저명 : clientAgeCheckProc;\n",
    "# -- 호출하면서 값 전달 \n",
    "# CALL clientAgeCheckProc('1');"
   ]
  },
  {
   "cell_type": "code",
   "execution_count": null,
   "id": "f49d7d50-f5d5-4fd6-8c3d-7e3e1ab403fa",
   "metadata": {},
   "outputs": [],
   "source": [
    "# 방법1\n",
    "cursor.callproc(\"clientAgeCheckProc\", {\"1\"})\n",
    "result = cursor.fetchall()\n",
    "result"
   ]
  },
  {
   "cell_type": "code",
   "execution_count": 110,
   "id": "cede81f8-80b3-47b7-8fd6-e77eb975fd16",
   "metadata": {},
   "outputs": [
    {
     "data": {
      "text/plain": [
       "(('1', '메시', Decimal('108000'), '우수'),)"
      ]
     },
     "execution_count": 110,
     "metadata": {},
     "output_type": "execute_result"
    }
   ],
   "source": [
    "# 방법2\n",
    "cursor.callproc('clientRankCheckProc',{'1'})\n",
    "result = cursor.fetchall()\n",
    "result"
   ]
  },
  {
   "cell_type": "code",
   "execution_count": 108,
   "id": "a7ec7e6b-cee3-4114-b8c4-6fbf7168207d",
   "metadata": {},
   "outputs": [
    {
     "data": {
      "text/plain": [
       "(('3', '샤라포바', Decimal('70000'), '보통'),)"
      ]
     },
     "execution_count": 108,
     "metadata": {},
     "output_type": "execute_result"
    }
   ],
   "source": [
    "# 방법3\n",
    "cursor.callproc('clientRankCheckProc','3')\n",
    "result = cursor.fetchall()\n",
    "result"
   ]
  },
  {
   "cell_type": "code",
   "execution_count": 109,
   "id": "1e287a71-3d3c-4010-a5f2-e93ee20bef43",
   "metadata": {},
   "outputs": [
    {
     "data": {
      "text/plain": [
       "(('4', '베컴', Decimal('60000'), '보통'),)"
      ]
     },
     "execution_count": 109,
     "metadata": {},
     "output_type": "execute_result"
    }
   ],
   "source": [
    "# 방법4 sql 문으로 \n",
    "sql = \"CALL clientRankCheckProc('4')\"\n",
    "\n",
    "cursor.execute(sql)\n",
    "result = cursor.fetchall()\n",
    "result"
   ]
  },
  {
   "cell_type": "code",
   "execution_count": 118,
   "id": "bfc21b50-4e27-4a6f-b44b-cfe5e300c210",
   "metadata": {},
   "outputs": [
    {
     "name": "stdout",
     "output_type": "stream",
     "text": [
      "9\n"
     ]
    }
   ],
   "source": [
    "# 매개변수 있는 경우 : OUT / IN 매개변수 있는 경우 \n",
    "\n",
    "# -- 도서가격을 전달하면, 전달된 도서가격보다 비싼 도서 수를 반환\n",
    "# 프로시저 이름 : bookPriceCountProc;\n",
    "# 프로시저 호출\n",
    "# CALL bookPriceCountProc(30000, @bookCount);\n",
    "# SELECT @bookCount;\n",
    "\n",
    "sql = \"CALL bookPriceCountProc(15000, @bookCount)\"\n",
    "cursor.execute(sql)\n",
    "sql = \"SELECT @bookCount\"\n",
    "cursor.execute(sql)\n",
    "\n",
    "# result = cursor.fetchall()\n",
    "# result\n",
    "\n",
    "# print(result[0][0])\n",
    "\n",
    "result = cursor.fetchone()   # 1개 값이 반환되는 경우\n",
    "result\n",
    "print(result[0])"
   ]
  },
  {
   "cell_type": "code",
   "execution_count": null,
   "id": "b5d16990-7e35-4db4-967a-e5083b3c29ac",
   "metadata": {},
   "outputs": [],
   "source": []
  },
  {
   "cell_type": "code",
   "execution_count": null,
   "id": "fb23699c-207a-4bf5-b838-4528baeb11f1",
   "metadata": {},
   "outputs": [],
   "source": []
  },
  {
   "cell_type": "code",
   "execution_count": null,
   "id": "6343d980-08ad-43a8-b24e-f97acf4de9e5",
   "metadata": {},
   "outputs": [],
   "source": []
  },
  {
   "cell_type": "code",
   "execution_count": null,
   "id": "b4704ae6-9aaa-4282-a9bb-bd10f95f15ea",
   "metadata": {},
   "outputs": [],
   "source": []
  },
  {
   "cell_type": "code",
   "execution_count": 56,
   "id": "2ccbb5c6-1c3d-401a-af53-62ad877047ef",
   "metadata": {},
   "outputs": [],
   "source": [
    "# 반드시 해줄것!\n",
    "cursor.close()\n",
    "conn.close()"
   ]
  }
 ],
 "metadata": {
  "kernelspec": {
   "display_name": "Python 3 (ipykernel)",
   "language": "python",
   "name": "python3"
  },
  "language_info": {
   "codemirror_mode": {
    "name": "ipython",
    "version": 3
   },
   "file_extension": ".py",
   "mimetype": "text/x-python",
   "name": "python",
   "nbconvert_exporter": "python",
   "pygments_lexer": "ipython3",
   "version": "3.11.5"
  }
 },
 "nbformat": 4,
 "nbformat_minor": 5
}
