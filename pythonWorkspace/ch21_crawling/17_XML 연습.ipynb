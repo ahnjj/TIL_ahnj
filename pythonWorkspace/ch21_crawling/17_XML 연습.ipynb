{
 "cells": [
  {
   "cell_type": "markdown",
   "id": "d5741477-78a6-42bc-aaef-8b0f5f4837fa",
   "metadata": {},
   "source": [
    "### XML 연습 "
   ]
  },
  {
   "cell_type": "markdown",
   "id": "32408611-1dee-4b9e-99ec-acf3f4f13255",
   "metadata": {},
   "source": [
    "#### XML(eXtensible Markup Language)\n",
    "- W3C에서 개발된 특수 목적 마크업 언어를 만드는데 사용하도록 권장하는 다목적 마크업 언어\n",
    "- HTML의 한계를 극복할 목적\n",
    "- 전부 beautifulsoup으로 받아온다. -> beautifulsoup의 메소드를 전부 사용할 수 있다."
   ]
  },
  {
   "cell_type": "code",
   "execution_count": 4,
   "id": "4852f9b0-e999-4c4b-979c-d9cc147800de",
   "metadata": {},
   "outputs": [],
   "source": [
    "import xml\n",
    "import bs4"
   ]
  },
  {
   "cell_type": "code",
   "execution_count": 5,
   "id": "74c08999-c959-4881-a13b-398b9e0b4953",
   "metadata": {},
   "outputs": [],
   "source": [
    "xml_str='''\n",
    "<?xml version=\"1.0\" encoding=\"UTF-8\" standalone=\"yes\"?><response><header><resultcode>00</resultcode><resultmsg>NORMAL SERVICE.</resultmsg></header><body><items><item><id>abcd</id><name>홍길동</name><tel>010-1234-1234</tel><address>서울시 강남구</address></item><item><id>sky</id><name>이몽룡</name><tel>010-5678-5678</tel><address>제주도 제주시</address></item><item><id>lucky</id><name>성춘향</name><tel>010-1111-1111</tel><address>경기도 안양시</address></item></items><numofrows>10</numofrows><pageno>1</pageno><totalcount>4</totalcount></body></response>'''"
   ]
  },
  {
   "cell_type": "code",
   "execution_count": 7,
   "id": "e5910448-1075-4da8-b02e-25d0be3d8f0e",
   "metadata": {},
   "outputs": [
    {
     "data": {
      "text/plain": [
       "\n",
       "<?xml version=\"1.0\" encoding=\"UTF-8\" standalone=\"yes\"?><response><header><resultcode>00</resultcode><resultmsg>NORMAL SERVICE.</resultmsg></header><body><items><item><id>abcd</id><name>홍길동</name><tel>010-1234-1234</tel><address>서울시 강남구</address></item><item><id>sky</id><name>이몽룡</name><tel>010-5678-5678</tel><address>제주도 제주시</address></item><item><id>lucky</id><name>성춘향</name><tel>010-1111-1111</tel><address>경기도 안양시</address></item></items><numofrows>10</numofrows><pageno>1</pageno><totalcount>4</totalcount></body></response>"
      ]
     },
     "execution_count": 7,
     "metadata": {},
     "output_type": "execute_result"
    }
   ],
   "source": [
    "bs_obj = bs4.BeautifulSoup(xml_str, 'html.parser')\n",
    "bs_obj"
   ]
  },
  {
   "cell_type": "code",
   "execution_count": 9,
   "id": "42a68f70-536f-4ce6-b3ef-9286b9f3ef17",
   "metadata": {},
   "outputs": [
    {
     "data": {
      "text/plain": [
       "3"
      ]
     },
     "execution_count": 9,
     "metadata": {},
     "output_type": "execute_result"
    }
   ],
   "source": [
    "items = bs_obj.findAll('item')\n",
    "len(items)"
   ]
  },
  {
   "cell_type": "code",
   "execution_count": 10,
   "id": "27343e9d-b00b-4a80-9762-34122d37ff81",
   "metadata": {},
   "outputs": [
    {
     "name": "stdout",
     "output_type": "stream",
     "text": [
      "abcd 홍길동 010-1234-1234 서울시 강남구\n",
      "sky 이몽룡 010-5678-5678 제주도 제주시\n",
      "lucky 성춘향 010-1111-1111 경기도 안양시\n"
     ]
    }
   ],
   "source": [
    "for item in items:\n",
    "    id = item.find('id').text\n",
    "    name = item.find('name').text\n",
    "    tel = item.find('tel').text\n",
    "    address = item.find('address').text\n",
    "    print(id, name, tel, address)"
   ]
  }
 ],
 "metadata": {
  "kernelspec": {
   "display_name": "Python 3 (ipykernel)",
   "language": "python",
   "name": "python3"
  },
  "language_info": {
   "codemirror_mode": {
    "name": "ipython",
    "version": 3
   },
   "file_extension": ".py",
   "mimetype": "text/x-python",
   "name": "python",
   "nbconvert_exporter": "python",
   "pygments_lexer": "ipython3",
   "version": "3.11.5"
  }
 },
 "nbformat": 4,
 "nbformat_minor": 5
}
