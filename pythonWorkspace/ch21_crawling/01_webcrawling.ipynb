{
 "cells": [
  {
   "cell_type": "markdown",
   "id": "c88bf2a0",
   "metadata": {},
   "source": [
    "### urllib 패키지 사용한 소스 추출"
   ]
  },
  {
   "cell_type": "code",
   "execution_count": 2,
   "id": "c987d650",
   "metadata": {},
   "outputs": [],
   "source": [
    "from urllib.request import urlopen"
   ]
  },
  {
   "cell_type": "code",
   "execution_count": 4,
   "id": "3250d96b",
   "metadata": {},
   "outputs": [],
   "source": [
    "# 응답 객체에서 소스 코드 가져오기\n",
    "url = \"http://www.tistory.com\"\n",
    "html = urlopen(url)\n",
    "text = html.read()"
   ]
  },
  {
   "cell_type": "code",
   "execution_count": 6,
   "id": "11d9c98d",
   "metadata": {},
   "outputs": [
    {
     "data": {
      "text/plain": [
       "'\\n\\t<!doctype html>\\n\\t<html lang=\"ko\">\\n\\t<head>\\n\\t\\t<meta charset=\"utf-8\">\\n\\t\\t<meta name=\"google-site-verification\" content=\"Djy29naX64H0z8fGEOEOd-k40Sp65VRnz1sm_thWPhw\" />\\n<meta property=\"og:url\" content=\"https://www.tistory.com\">\\n<meta property=\"og:site_name\" content=\"Tistory\">\\n<meta property=\"og:title\" content=\"Tistory\">\\n<meta property=\"og:description\" content=\"좀 아는 블로거들의 유용한 이야기\">\\n<meta property=\"og:image\" content=\"//t1.daumcdn.net/tistory_admin/static/images/openGraph/tistoryOpengraph.png\">\\n\\t\\t<title>TISTORY</title>\\n<link rel=\"icon\" href=\"https://t1.daumcdn.net/tistory_admin/favicon/tistory_favicon_32x32.ico\" sizes=\"any\">\\n<link rel=\"icon\" type=\"image/svg+xml\" href=\"https://t1.daumcdn.net/tistory_admin/top_v2/bi-tistory-favicon.svg\" />\\n<link rel=\"apple-touch-icon\" href=\"https://t1.daumcdn.net/tistory_admin/top_v2/tistory-apple-touch-favicon.png\">\\t\\t<link rel=\"stylesheet\" type=\"text/css\" href=\"//t1.daumcdn.net/tistory_admin/assets/tistory-web-top/1694410865/static/css/ext/swiper.min.css\">\\n\\t\\t<link rel=\"stylesheet\" type=\"text/css\" href=\"//t1.daumcdn.net/tistory_admin/www/style/top/font.css\">\\n\\t\\t<link rel=\"stylesheet\" type=\"text/css\" href=\"//t1.daumcdn.net/tistory_admin/assets/tistory-gnb/3.3.0/gnb.min.css\">\\n\\t\\t<link rel=\"stylesheet\" type=\"text/css\" href=\"//t1.daumcdn.net/tistory_admin/assets/tistory-web-top/1694410865/static/css/pc/top.css\">\\n\\t\\t<script type=\"text/javascript\" src=\"https://developers.kakao.com/sdk/js/kakao.min.js\" ></script>\\n<!--[if lt IE 9]>\\n<script src=\"https://t1.daumcdn.net/tistory_admin/lib/jquery-1.12.4.min.js\"></script>\\n<![endif]-->\\n<!--[if gte IE 9]><!-->\\n<script src=\"https://t1.daumcdn.net/tistory_admin/lib/jquery-3.1.0.min.js\"></script>\\n<!--<![endif]-->\\n<script src=\"https://t1.daumcdn.net/tistory_admin/lib/fingerprint2-1.4.2.min.js\"></script>\\n<script type=\"text/javascript\" src=\"//m1.daumcdn.net/svc/original/U03/cssjs/jquery/plugin/jquery.cookie-1.4.0.min.js\"></script>\\n<script type=\"text/javascript\" src=\"//s1.daumcdn.net/svc/original/U03/cssjs/userAgent/userAgent-1.0.14.min.js\"></script>\\n\\t</head>\\n\\t<body>\\n\\t\\t<div id=\"kakaoIndex\"><!-- 웹접근성용 바로가기 링크 모음 -->\\n\\t\\t\\t<a href=\"#kakaoBody\">본문 바로가기</a>\\n\\t\\t\\t<a href=\"#kakaoLnb\">메뉴 바로가기</a> <!-- 2017-05-31 수정 : href 값 kakaoGnb -> kakaoLnb 로 변경 -->\\n\\t\\t</div>\\n\\t\\t\\n\\t\\t<div id=\"kakaoWrap\" class=\"tistory_type1\">\\n\\t\\t\\t<div id=\"kakaoHead\" role=\"banner\" class=\"#GNB kakao_head\"><!-- head_type1 : 추가타입 -->\\n<div class=\"inner_header\">\\n\\t<h1>\\n\\t\\t<a href=\"/\" id=\"kakaoServiceLogo\" class=\"#logo img_common_tistory tit_tistory\">티스토리</a>\\n\\t</h1>\\n\\t<div id=\"kakaoGnb\" role=\"navigation\" class=\"gnb_tistory\">\\n\\t\\t<h2 class=\"screen_out\">서비스 주요 메뉴</h2>\\n\\t\\t<ul class=\"list_gnb\">\\n\\t\\t\\t<li ><a href=\"/feed\" class=\"link_gnb\">피드</a></li>\\n\\t\\t\\t<li ><a href=\"/category\" class=\"link_gnb\">스토리</a></li>\\n\\t\\t\\t<li ><a href=\"/skin\" class=\"link_gnb\">스킨</a></li>\\n\\t\\t\\t<li ><a href=\"/community\" class=\"link_gnb\">포럼</a></li>\\n\\t\\t</ul>\\n\\t</div>\\n\\t<div class=\"info_tistory\">\\n\\t\\t<div class=\"logn_tistory\" style=\"display:none\">\\n\\t\\t\\t<h2 class=\"screen_out\">로그인정보</h2>\\n\\t\\t\\t<a href=\"/auth/login?redirectUrl=http%3A%2F%2Fwww.tistory.com%2F\" class=\"link_log_info\">로그인하기</a>\\n\\t\\t\\t<a href=\"/member/join\" class=\"btn_tistory btn_log_info\">가입하기</a>\\n\\t\\t</div>\\n\\t</div>\\n</div>\\n\\t\\t\\t</div>\\n\\t\\t\\t<hr class=\"hide\">\\n\\t\\t\\t<div id=\"kakaoContent\" role=\"main\">\\n\\t\\t\\t\\t<div id=\"cMain\">\\n\\t\\t\\t\\t\\t\\n<div id=\"mFeature\" class=\"feture_main feture_top\">\\n\\t<h2 class=\"screen_out\">PRPMOTION</h2>\\n\\t<div class=\"swiper-container\">\\n\\t\\t<div class=\"swiper-wrapper main_slide\">\\n\\t\\t\\t\\t<div class=\"swiper-slide scene_slide  init_slide\" style=\"background-image:url(https://img1.daumcdn.net/thumb/R1920x0/?scode=mtistory2&fname=https%3A%2F%2Ft1.daumcdn.net%2Fsection%2Foc%2Ffd708e84887d4dff9da3cf2a4374e50e)\">\\n\\t\\t\\t\\t\\t<div class=\"dimm_g_type2\"></div>\\n\\t\\t\\t\\t\\t<div class=\"scene_content\">\\n\\t\\t\\t\\t\\t\\t<div class=\"inner_scene\">\\n\\t\\t\\t\\t\\t\\t\\t<div class=\"scene_tistory scene_tistory_type2\">\\n\\t\\t\\t\\t\\t\\t\\t\\t\\t<strong class=\"tit_scene\"><b>\\'스토리 크리에이터\\'</b><br> 제도를 소개합니다.</strong>\\n\\t\\t\\t\\t\\t\\t\\t\\t\\t<p class=\"desc_scene\">스토리에서 특정 분야에 전문성 있는 창작자를 지원해 드려요.</p>\\n\\t\\t\\t\\t\\t\\t\\t\\t\\t<div class=\"wrap_btn\"><a href=\"https://storyhome.kakao.com/storycreator/?t_src=tistory_pc_topbanner\" class=\"btn_tistory btn_tistory_type5\">자세히보기</a></div>\\n\\t\\t\\t\\t\\t\\t\\t</div>\\n\\t\\t\\t\\t\\t\\t</div>\\n\\t\\t\\t\\t\\t</div>\\n\\t\\t\\t\\t</div>\\n\\t\\t\\t\\t<div class=\"swiper-slide scene_slide  \" style=\"background-image:url(https://img1.daumcdn.net/thumb/R1920x0/?scode=mtistory2&fname=https%3A%2F%2Ft1.daumcdn.net%2Fsection%2Foc%2F3b837b34cc814c7b9b3a12f772e2441f)\">\\n\\t\\t\\t\\t\\t<div class=\"dimm_g_type2\"></div>\\n\\t\\t\\t\\t\\t<div class=\"scene_content\">\\n\\t\\t\\t\\t\\t\\t<div class=\"inner_scene\">\\n\\t\\t\\t\\t\\t\\t\\t<div class=\"scene_tistory scene_tistory_type2\">\\n\\t\\t\\t\\t\\t\\t\\t\\t\\t<strong class=\"tit_scene\"><b>Story로 뭉쳐</b><br>\\n더 넓고 깊어집니다</strong>\\n\\t\\t\\t\\t\\t\\t\\t\\t\\t<p class=\"desc_scene\">티스토리가 브런치스토리, 카카오스토리와 함께<br>\\nStory로 새롭게 출발합니다.</p>\\n\\t\\t\\t\\t\\t\\t\\t\\t\\t<div class=\"wrap_btn\"><a href=\"https://notice.tistory.com/2637\" class=\"btn_tistory btn_tistory_type5\">자세히보기</a></div>\\n\\t\\t\\t\\t\\t\\t\\t</div>\\n\\t\\t\\t\\t\\t\\t</div>\\n\\t\\t\\t\\t\\t</div>\\n\\t\\t\\t\\t</div>\\n\\t\\t\\t\\t<div class=\"swiper-slide scene_slide  \" style=\"background-image:url(https://img1.daumcdn.net/thumb/R1920x0/?scode=mtistory2&fname=https%3A%2F%2Ft1.daumcdn.net%2Fsection%2Foc%2Ff7ba106243774ba6a8cd65419b3f6d17)\">\\n\\t\\t\\t\\t\\t<div class=\"dimm_g_type2\"></div>\\n\\t\\t\\t\\t\\t<div class=\"scene_content\">\\n\\t\\t\\t\\t\\t\\t<div class=\"inner_scene\">\\n\\t\\t\\t\\t\\t\\t\\t<div class=\"scene_tistory scene_tistory_type2\">\\n\\t\\t\\t\\t\\t\\t\\t\\t\\t<strong class=\"tit_scene\"><b>티스토리 모바일홈</b>이<br>\\n새로워졌어요</strong>\\n\\t\\t\\t\\t\\t\\t\\t\\t\\t<p class=\"desc_scene\">\\'오늘의 이슈\\'부터 \\'주목받는 블로그\\'까지<br>\\n새로운 모바일홈에서 살펴보세요.</p>\\n\\t\\t\\t\\t\\t\\t\\t\\t\\t<div class=\"wrap_btn\"><a href=\"https://notice.tistory.com/2635\" class=\"btn_tistory btn_tistory_type5\">자세히보기</a></div>\\n\\t\\t\\t\\t\\t\\t\\t</div>\\n\\t\\t\\t\\t\\t\\t</div>\\n\\t\\t\\t\\t\\t</div>\\n\\t\\t\\t\\t</div>\\n\\t\\t\\t\\t<div class=\"swiper-slide scene_slide white \" style=\"background-image:url(https://img1.daumcdn.net/thumb/R1920x0/?scode=mtistory2&fname=https%3A%2F%2Ft1.daumcdn.net%2Fsection%2Foc%2Feaa6512fa207497e8a88e6d70fd5aa1b)\">\\n\\t\\t\\t\\t\\t<div class=\"dimm_g_type2\"></div>\\n\\t\\t\\t\\t\\t<div class=\"scene_content\">\\n\\t\\t\\t\\t\\t\\t<div class=\"inner_scene\">\\n\\t\\t\\t\\t\\t\\t\\t<div class=\"scene_tistory scene_tistory_type2\">\\n\\t\\t\\t\\t\\t\\t\\t\\t\\t<strong class=\"tit_scene\">당신의 이야기가<br>\\n<b>값진 수익이 됩니다.</b></strong>\\n\\t\\t\\t\\t\\t\\t\\t\\t\\t<p class=\"desc_scene\">심사부터 광고 설정, 수익 확인까지<br>티스토리에서 바로 할 수 있어요.</p>\\n\\t\\t\\t\\t\\t\\t\\t\\t\\t<div class=\"wrap_btn\"><a href=\"https://notice.tistory.com/2572\" class=\"btn_tistory \">자세히 보기</a></div>\\n\\t\\t\\t\\t\\t\\t\\t</div>\\n\\t\\t\\t\\t\\t\\t</div>\\n\\t\\t\\t\\t\\t</div>\\n\\t\\t\\t\\t</div>\\n\\t\\t\\t\\t<div class=\"swiper-slide scene_slide white \" style=\"background-image:url(https://img1.daumcdn.net/thumb/R1920x0/?scode=mtistory2&fname=https%3A%2F%2Ft1.daumcdn.net%2Fsection%2Foc%2F058ac743cf2640fb885bd1f9e9635ab2)\">\\n\\t\\t\\t\\t\\t<div class=\"dimm_g_type2\"></div>\\n\\t\\t\\t\\t\\t<div class=\"scene_content\">\\n\\t\\t\\t\\t\\t\\t<div class=\"inner_scene\">\\n\\t\\t\\t\\t\\t\\t\\t<div class=\"scene_tistory scene_tistory_type2\">\\n\\t\\t\\t\\t\\t\\t\\t\\t\\t<strong class=\"tit_scene\">이제부터 티스토리를<br>\\n<b>카카오계정</b>으로<br>\\n이용해주세요.</strong>\\n\\t\\t\\t\\t\\t\\t\\t\\t\\t<p class=\"desc_scene\"> </p>\\n\\t\\t\\t\\t\\t\\t\\t\\t\\t<div class=\"wrap_btn\"><a href=\"https://notice.tistory.com/2553\" class=\"btn_tistory \">자세히 보기</a></div>\\n\\t\\t\\t\\t\\t\\t\\t</div>\\n\\t\\t\\t\\t\\t\\t</div>\\n\\t\\t\\t\\t\\t</div>\\n\\t\\t\\t\\t</div>\\n\\t\\t\\t\\t<div class=\"swiper-slide scene_slide white \" style=\"background-image:url(https://img1.daumcdn.net/thumb/R1920x0/?scode=mtistory2&fname=https%3A%2F%2Ft1.daumcdn.net%2Fsection%2Foc%2F8532fb82eed84069a36fa0f05170557c)\">\\n\\t\\t\\t\\t\\t<div class=\"dimm_g_type2\"></div>\\n\\t\\t\\t\\t\\t<div class=\"scene_content\">\\n\\t\\t\\t\\t\\t\\t<div class=\"inner_scene\">\\n\\t\\t\\t\\t\\t\\t\\t<div class=\"scene_tistory scene_tistory_type2\">\\n\\t\\t\\t\\t\\t\\t\\t\\t\\t<strong class=\"tit_scene\">티스토리 앱 2.0<br>\\n<b>업데이트</b></strong>\\n\\t\\t\\t\\t\\t\\t\\t\\t\\t<p class=\"desc_scene\">모바일에서도 편리한 블로그 관리를 위해<br>티스토리 앱이 새 옷을 입었습니다.</p>\\n\\t\\t\\t\\t\\t\\t\\t\\t\\t<div class=\"wrap_btn\"><a href=\"https://notice.tistory.com/2523\" class=\"btn_tistory \">자세히 보기</a></div>\\n\\t\\t\\t\\t\\t\\t\\t</div>\\n\\t\\t\\t\\t\\t\\t</div>\\n\\t\\t\\t\\t\\t</div>\\n\\t\\t\\t\\t</div>\\n\\t\\t</div>\\n\\t\\t<button type=\"button\" class=\"btn_scene btn_prev\">\\n\\t\\t\\t<span class=\"img_top ico_prev ico_prev_type1\">이전</span>\\n\\t\\t\\t<span class=\"img_top ico_prev ico_prev_type2\"></span>\\n\\t\\t</button>\\n\\t\\t<button type=\"button\" class=\"btn_scene btn_next\">\\n\\t\\t\\t<span class=\"img_top ico_next ico_next_type1\">다음</span>\\n\\t\\t\\t<span class=\"img_top ico_next ico_next_type2\"></span>\\n\\t\\t</button>\\n\\t</div>\\n</div>\\n<div id=\"mArticle\">\\n\\t<div class=\"section_content section_showcase\">\\n\\t\\t<h2 class=\"screen_out\">SHOWCASE</h2>\\n\\t\\t<div class=\"wrap_tit\">\\n\\t\\t\\t<strong class=\"tit_section\">이 놀라운 사이트들이<br><em>모두 <span class=\"txt_da\">다</span>티스토리</em>라는 사실</strong>\\n\\t\\t\\t<p class=\"desc_section\">티스토리는 그저 공간일 뿐이에요. 그 공간에 무슨일이 일어날지는 아무도 상상할 수 없죠.</p>\\n\\t\\t</div>\\n\\t\\t<div class=\"case_list\">\\n\\t\\t\\t<div class=\"inner_case\">\\n\\t\\t\\t\\t<div class=\"slide_case\" style=\"width:50000px\">\\n\\t\\t\\t\\t\\t\\t<a class=\"site_exam\" href=\"https://hygphoto.tistory.com/\" target=\"_blank\">\\n\\t\\t\\t\\t\\t\\t\\t<div class=\"wrap_thumb\">\\n\\t\\t\\t\\t\\t\\t\\t\\t<img width=\"528\" height=\"396\" src=\"https://img1.daumcdn.net/thumb/C1200x900/?scode=mtistory2&fname=http%3A%2F%2Fcfile2.uf.tistory.com%2Fimage%2F99D6CF405BB2C6B824A969\" class=\"thumb_g\" alt=\"\" />\\n\\t\\t\\t\\t\\t\\t\\t</div>\\n\\t\\t\\t\\t\\t\\t\\t<div class=\"info_exam\">\\n\\t\\t\\t\\t\\t\\t\\t\\t<strong class=\"tit_exam\">HYGPHOTO</strong>\\n\\t\\t\\t\\t\\t\\t\\t\\t<p class=\"txt_exam\">아름다운 일상의 한 컷</p>\\n\\t\\t\\t\\t\\t\\t\\t\\t<span class=\"link_exam\">https://hygphoto.tistory.com/<span class=\"img_top ico_view\"></span></span>\\n\\t\\t\\t\\t\\t\\t\\t</div>\\n\\t\\t\\t\\t\\t\\t</a>\\n\\t\\t\\t\\t\\t\\t<a class=\"site_exam\" href=\"http://mistyfriday.kr/\" target=\"_blank\">\\n\\t\\t\\t\\t\\t\\t\\t<div class=\"wrap_thumb\">\\n\\t\\t\\t\\t\\t\\t\\t\\t<img width=\"528\" height=\"396\" src=\"https://img1.daumcdn.net/thumb/C1200x900/?scode=mtistory2&fname=http%3A%2F%2Fcfile2.uf.tistory.com%2Fimage%2F996CC03C5BB2C66823DA6C\" class=\"thumb_g\" alt=\"\" />\\n\\t\\t\\t\\t\\t\\t\\t</div>\\n\\t\\t\\t\\t\\t\\t\\t<div class=\"info_exam\">\\n\\t\\t\\t\\t\\t\\t\\t\\t<strong class=\"tit_exam\">빛으로 쓴 편지</strong>\\n\\t\\t\\t\\t\\t\\t\\t\\t<p class=\"txt_exam\">여행하고 글을 씁니다.</p>\\n\\t\\t\\t\\t\\t\\t\\t\\t<span class=\"link_exam\">http://mistyfriday.kr/<span class=\"img_top ico_view\"></span></span>\\n\\t\\t\\t\\t\\t\\t\\t</div>\\n\\t\\t\\t\\t\\t\\t</a>\\n\\t\\t\\t\\t\\t\\t<a class=\"site_exam\" href=\"http://leeheehoon.tistory.com/\" target=\"_blank\">\\n\\t\\t\\t\\t\\t\\t\\t<div class=\"wrap_thumb\">\\n\\t\\t\\t\\t\\t\\t\\t\\t<img width=\"528\" height=\"396\" src=\"https://img1.daumcdn.net/thumb/C1200x900/?scode=mtistory2&fname=https%3A%2F%2Ft1.daumcdn.net%2Ftistory_admin%2Fassets%2Fpromotions%2F72a26c24396048fa9fb668442021a18b\" class=\"thumb_g\" alt=\"\" />\\n\\t\\t\\t\\t\\t\\t\\t</div>\\n\\t\\t\\t\\t\\t\\t\\t<div class=\"info_exam\">\\n\\t\\t\\t\\t\\t\\t\\t\\t<strong class=\"tit_exam\">Beyond Perspective</strong>\\n\\t\\t\\t\\t\\t\\t\\t\\t<p class=\"txt_exam\">Lee Heehoon,<br> photographer for ohmynews Seoul S.Korea</p>\\n\\t\\t\\t\\t\\t\\t\\t\\t<span class=\"link_exam\">http://leeheehoon.tistory.com/<span class=\"img_top ico_view\"></span></span>\\n\\t\\t\\t\\t\\t\\t\\t</div>\\n\\t\\t\\t\\t\\t\\t</a>\\n\\t\\t\\t\\t\\t\\t<a class=\"site_exam\" href=\"http://hotel990.com\" target=\"_blank\">\\n\\t\\t\\t\\t\\t\\t\\t<div class=\"wrap_thumb\">\\n\\t\\t\\t\\t\\t\\t\\t\\t<img width=\"528\" height=\"396\" src=\"https://img1.daumcdn.net/thumb/C1200x900/?scode=mtistory2&fname=http%3A%2F%2Fcfile10.uf.tistory.com%2Fimage%2F99A81B3C5BB2C6EF2C9883\" class=\"thumb_g\" alt=\"\" />\\n\\t\\t\\t\\t\\t\\t\\t</div>\\n\\t\\t\\t\\t\\t\\t\\t<div class=\"info_exam\">\\n\\t\\t\\t\\t\\t\\t\\t\\t<strong class=\"tit_exam\">HOTEL 990</strong>\\n\\t\\t\\t\\t\\t\\t\\t\\t<p class=\"txt_exam\"> WELCOME TO THE HOTEL990</p>\\n\\t\\t\\t\\t\\t\\t\\t\\t<span class=\"link_exam\">http://hotel990.com<span class=\"img_top ico_view\"></span></span>\\n\\t\\t\\t\\t\\t\\t\\t</div>\\n\\t\\t\\t\\t\\t\\t</a>\\n\\t\\t\\t\\t\\t\\t<a class=\"site_exam\" href=\"http://so-oh.tistory.com/category\" target=\"_blank\">\\n\\t\\t\\t\\t\\t\\t\\t<div class=\"wrap_thumb\">\\n\\t\\t\\t\\t\\t\\t\\t\\t<img width=\"528\" height=\"396\" src=\"https://img1.daumcdn.net/thumb/C1200x900/?scode=mtistory2&fname=http%3A%2F%2Fcfile1.uf.tistory.com%2Fimage%2F99368F335BB2C64F29335D\" class=\"thumb_g\" alt=\"\" />\\n\\t\\t\\t\\t\\t\\t\\t</div>\\n\\t\\t\\t\\t\\t\\t\\t<div class=\"info_exam\">\\n\\t\\t\\t\\t\\t\\t\\t\\t<strong class=\"tit_exam\">yunscent</strong>\\n\\t\\t\\t\\t\\t\\t\\t\\t<p class=\"txt_exam\">사진이 그림이 됩니다.</p>\\n\\t\\t\\t\\t\\t\\t\\t\\t<span class=\"link_exam\">http://so-oh.tistory.com/category<span class=\"img_top ico_view\"></span></span>\\n\\t\\t\\t\\t\\t\\t\\t</div>\\n\\t\\t\\t\\t\\t\\t</a>\\n\\t\\t\\t\\t</div>\\n\\t\\t\\t</div>\\n\\t\\t\\t<div class=\"area_btn area_prev\">\\n\\t\\t\\t\\t<button type=\"button\" class=\"btn_tistory_type4 btn_prev slick-arrow\" style=\"\"><span class=\"img_top ico_prev\">이전</span></button>\\n\\t\\t\\t</div>\\n\\t\\t\\t<div class=\"area_btn area_next\">\\n\\t\\t\\t\\t<button type=\"button\" class=\"btn_tistory_type4 btn_next slick-arrow\" style=\"\"><span class=\"img_top ico_next\">다음</span></button>\\n\\t\\t\\t</div>\\n\\t\\t</div>\\n\\t\\t<div class=\"relative_list\">\\n\\t\\t\\t\\t<a class=\"wrap_logo\" style=\"background-image:url(https://img1.daumcdn.net/thumb/R300x100/?scode=mtistory2&fname=http%3A%2F%2Fcfile24.uf.tistory.com%2Fimage%2F9950223C5BB2C57B2225FF)\" target=\"_blank\" href=\"http://blog.ibk.co.kr\">IBK 기업은행 블로그</a>\\n\\t\\t\\t\\t<a class=\"wrap_logo\" style=\"background-image:url(https://img1.daumcdn.net/thumb/R300x100/?scode=mtistory2&fname=http%3A%2F%2Fcfile23.uf.tistory.com%2Fimage%2F991B033C5BB2C59024121E)\" target=\"_blank\" href=\"http://www.witheverland.com\">withEverland</a>\\n\\t\\t\\t\\t<a class=\"wrap_logo\" style=\"background-image:url(https://img1.daumcdn.net/thumb/R300x100/?scode=mtistory2&fname=http%3A%2F%2Fcfile27.uf.tistory.com%2Fimage%2F99A6963C5BB2C5C32AB7FC)\" target=\"_blank\" href=\"http://thehyundaiblog.com\">현대백화점 공식블로그</a>\\n\\t\\t\\t\\t<a class=\"wrap_logo\" style=\"background-image:url(https://img1.daumcdn.net/thumb/R300x100/?scode=mtistory2&fname=http%3A%2F%2Fcfile21.uf.tistory.com%2Fimage%2F995901365BB2C53C27D162)\" target=\"_blank\" href=\"http://if-blog.tistory.com\">교육부 공식 블로그</a>\\n\\t\\t\\t\\t<a class=\"wrap_logo\" style=\"background-image:url(https://img1.daumcdn.net/thumb/R300x100/?scode=mtistory2&fname=http%3A%2F%2Fcfile29.uf.tistory.com%2Fimage%2F9988F0395BB2C5B11F8B83)\" target=\"_blank\" href=\"http://blog.paradise.co.kr\">파라다이스 블로그</a>\\n\\t\\t\\t\\t<a class=\"wrap_logo\" style=\"background-image:url(https://img1.daumcdn.net/thumb/R300x100/?scode=mtistory2&fname=http%3A%2F%2Fcfile27.uf.tistory.com%2Fimage%2F9989ED3B5BB2C5D3287867)\" target=\"_blank\" href=\"http://blogdegalleria.tistory.com\">갤러리아 공식블로그 \\'BLOG DE GALLERIA\\'</a>\\n\\t\\t</div>\\n\\t</div>\\n\\t<div class=\"section_content section_skin\">\\n\\t\\t<h2 class=\"screen_out\">스킨고르기</h2>\\n\\t\\t<div class=\"wrap_tit wrap_tit_type1\">\\n\\t\\t\\t<strong class=\"tit_section\">마음에 드는<em><span class=\"img_square\">스킨</span>고르기</em>부터 시작해보세요</strong>\\n\\t\\t\\t<p class=\"desc_section\">티스토리는 얼굴이 없어요. <br>당신이 얼굴을 직접 제작할 수 있도록 다양한 스킨을 제공할 뿐이에요.</p>\\n\\t\\t</div>\\n\\t\\t<div class=\"icon_tistory icon_expression\"></div>\\n\\t\\t<div class=\"wrap_tit\">\\n\\t\\t\\t<strong class=\"tit_section tit_section_type2\">마음대로<br><em>조립하는</em><br>내 콘텐츠</strong>\\n\\t\\t\\t<p class=\"desc_section\">내 마음대로 위치를 바꿔<br>하나의 커버로도 전혀 다른 스킨을<br> 만들 수 있어요.</p>\\n\\t\\t</div>\\n\\t\\t<div class=\"box_skin\">\\n\\t\\t\\t<div class=\"wrap_thumb_skin_01\">\\n\\t\\t\\t\\t<span class=\"\" style=\"background-image:url(//t1.daumcdn.net/tistory_admin/static/top/pc/thumb_skin1_1.jpg);\"></span>\\n\\t\\t\\t\\t<span class=\"\" style=\"background-image:url(//t1.daumcdn.net/tistory_admin/static/top/pc/thumb_skin1_2.jpg);\"></span>\\n\\t\\t\\t\\t<span class=\"\" style=\"background-image:url(//t1.daumcdn.net/tistory_admin/static/top/pc/thumb_skin1_3.jpg);\"></span>\\n\\t\\t\\t\\t<span class=\"\" style=\"background-image:url(//t1.daumcdn.net/tistory_admin/static/top/pc/thumb_skin1_1.jpg);\"></span>\\n\\t\\t\\t\\t<span class=\"\" style=\"background-image:url(//t1.daumcdn.net/tistory_admin/static/top/pc/thumb_skin1_2.jpg);\"></span>\\n\\t\\t\\t\\t<span class=\"\" style=\"background-image:url(//t1.daumcdn.net/tistory_admin/static/top/pc/thumb_skin1_3.jpg);\"></span>\\n\\t\\t\\t</div>\\n\\t\\t\\t<div class=\"wrap_thumb_skin_02\">\\n\\t\\t\\t\\t<div class=\"inner_thumb\">\\n\\t\\t\\t\\t\\t<span class=\" _left\" style=\"background-image:url(//t1.daumcdn.net/tistory_admin/static/top/pc/thumb_skin2_1.jpg);height:140px\" data-index=\"1\"></span>\\n\\t\\t\\t\\t\\t<span class=\" _left\" style=\"background-image:url(//t1.daumcdn.net/tistory_admin/static/top/pc/thumb_skin2_2.jpg);height:150px\" data-index=\"2\"></span>\\n\\t\\t\\t\\t\\t<span class=\" _left\" style=\"background-image:url(//t1.daumcdn.net/tistory_admin/static/top/pc/thumb_skin2_3.jpg);height:432px\" data-index=\"3\"></span>\\n\\t\\t\\t\\t\\t<span class=\" _right\" style=\"background-image:url(//t1.daumcdn.net/tistory_admin/static/top/pc/thumb_skin2_3.jpg);height:432px\" data-index=\"1\"></span>\\n\\t\\t\\t\\t\\t<span class=\" _right\" style=\"background-image:url(//t1.daumcdn.net/tistory_admin/static/top/pc/thumb_skin2_2.jpg);height:150px\" data-index=\"2\"></span>\\n\\t\\t\\t\\t\\t<span class=\" _right\" style=\"background-image:url(//t1.daumcdn.net/tistory_admin/static/top/pc/thumb_skin2_1.jpg);height:140px\" data-index=\"3\"></span>\\n\\t\\t\\t\\t</div>\\n\\t\\t\\t</div>\\n\\t\\t</div>\\n\\t\\t<a href=\"/skin/pg_Poster\" class=\"link_section\">\\n\\t\\t\\t<strong class=\"tit_link\">Poster</strong>\\n\\t\\t\\t<span class=\"desc_link\">스킨 보기</span>\\n\\t\\t\\t<span class=\"img_top ico_link_arrow\"></span>\\n\\t\\t</a>\\n\\t</div>\\n\\t<div class=\"section_content section_photo\">\\n\\t\\t<h2 class=\"screen_out\">사진변경</h2>\\n\\t\\t<div class=\"wrap_tit\">\\n\\t\\t\\t<strong class=\"tit_section tit_section_type2\"><em>사진만 바꾸어도</em><br>다른 분위기</strong>\\n\\t\\t\\t<p class=\"desc_section\">스킨은 그저 캔버스일 뿐입니다.<br>스킨 속 같은 커버라도 이미지에 따라<br>전혀 다른 분위기를 연출할 수 있어요. </p>\\n\\t\\t</div>\\n\\t\\t<div class=\"wrap_photo_skin\">\\n\\t\\t\\t<div class=\"photo_skin\">\\n\\t\\t\\t\\t<div class=\"skin_move\">\\n\\t\\t\\t\\t\\t<span class=\"bg_img\" style=\"background-image:url(//t1.daumcdn.net/tistory_admin/static/top/pc/photo_skin01.jpg);\"></span>\\n\\t\\t\\t\\t\\t<span class=\"bg_img\" style=\"background-image:url(//t1.daumcdn.net/tistory_admin/static/top/pc/photo_skin03.jpg);\"></span>\\n\\t\\t\\t\\t</div>\\n\\t\\t\\t\\t<div class=\"box_img_skin\">\\n\\t\\t\\t\\t\\t<div class=\"wrap_skin\">\\n\\t\\t\\t\\t\\t\\t<div class=\"skin_move\">\\n\\t\\t\\t\\t\\t\\t\\t<span class=\"bg_img_sm\" style=\"background-image:url(//t1.daumcdn.net/tistory_admin/static/top/pcrtn/photo_skin01_sm.jpg);\"></span>\\n\\t\\t\\t\\t\\t\\t\\t<span class=\"bg_img_sm\" style=\"background-image:url(//t1.daumcdn.net/tistory_admin/static/top/pcrtn/photo_skin03_sm.jpg);\"></span>\\n\\t\\t\\t\\t\\t\\t</div>\\n\\t\\t\\t\\t\\t</div>\\n\\t\\t\\t\\t\\t<div class=\"wrap_skin\">\\n\\t\\t\\t\\t\\t\\t<div class=\"txt_img_skin\" style=\"background-image:url(//t1.daumcdn.net/tistory_admin/static/top/pcrtn/photo_skin_txt02.png);\"></div>\\n\\t\\t\\t\\t\\t\\t<div class=\"txt_img_skin\" style=\"background-image:url(//t1.daumcdn.net/tistory_admin/static/top/pcrtn/photo_skin_txt04.png);\"></div>\\n\\t\\t\\t\\t\\t</div>\\n\\t\\t\\t\\t</div>\\n\\t\\t\\t</div>\\n\\t\\t\\t<div class=\"photo_skin\">\\n\\t\\t\\t\\t<div class=\"skin_move\">\\n\\t\\t\\t\\t\\t<span class=\"bg_img\" style=\"background-image:url(//t1.daumcdn.net/tistory_admin/static/top/pc/photo_skin02.jpg);\"></span>\\n\\t\\t\\t\\t\\t<span class=\"bg_img\" style=\"background-image:url(//t1.daumcdn.net/tistory_admin/static/top/pc/photo_skin04.jpg);\"></span>\\n\\t\\t\\t\\t</div>\\n\\t\\t\\t\\t<div class=\"box_img_skin\">\\n\\t\\t\\t\\t\\t<div class=\"wrap_skin\" >\\n\\t\\t\\t\\t\\t\\t<div class=\"txt_img_skin\" style=\"background-image:url(//t1.daumcdn.net/tistory_admin/static/top/pcrtn/photo_skin_txt01.png);\"></div>\\n\\t\\t\\t\\t\\t\\t<div class=\"txt_img_skin\" style=\"background-image:url(//t1.daumcdn.net/tistory_admin/static/top/pcrtn/photo_skin_txt03.png);\"></div>\\n\\t\\t\\t\\t\\t</div>\\n\\t\\t\\t\\t\\t<div class=\"wrap_skin\">\\n\\t\\t\\t\\t\\t\\t<div class=\"skin_move\">\\n\\t\\t\\t\\t\\t\\t\\t<span class=\"bg_img_sm\" style=\"background-image:url(//t1.daumcdn.net/tistory_admin/static/top/pcrtn/photo_skin02_sm.jpg);\"></span>\\n\\t\\t\\t\\t\\t\\t\\t<span class=\"bg_img_sm\" style=\"background-image:url(//t1.daumcdn.net/tistory_admin/static/top/pcrtn/photo_skin04_sm.jpg);\"></span>\\n\\t\\t\\t\\t\\t\\t</div>\\n\\t\\t\\t\\t\\t</div>\\n\\t\\t\\t\\t</div>\\n\\t\\t\\t</div>\\n\\t\\t</div>\\n\\t\\t<a href=\"/skin/pg_Whatever\" class=\"link_section\">\\n\\t\\t\\t<strong class=\"tit_link\">Whatever</strong>\\n\\t\\t\\t<span class=\"desc_link\">스킨 보기</span>\\n\\t\\t\\t<span class=\"img_top ico_link_arrow\"></span>\\n\\t\\t</a>\\n\\t</div>\\n\\t<div class=\"section_content section_magazine\"><!-- 모션 진행시 \\'rolling_up\\' 클래스 추가 -->\\n\\t\\t<h2 class=\"screen_out\">블로그와 매거진처럼 </h2>\\n\\t\\t<div class=\"wrap_tit\">\\n\\t\\t\\t<strong class=\"tit_section tit_section_type2\">때로는 <em>블로그</em>처럼,<br>때로는 <em>매거진</em>처럼</strong>\\n\\t\\t\\t<p class=\"desc_section\">복잡하지 않으면서 깔끔한 스킨 커버로<br>콘텐츠에 힘을 실어 줄 수 있습니다.</p>\\n\\t\\t</div>\\n\\t\\t<div class=\"bg_magazine\" style=\"background-image:url(//t1.daumcdn.net/tistory_admin/static/top/pc/magazin_01.jpg);\">\\n\\t\\t\\t<div class=\"bg_magazine inner_bg\" style=\"background-image:url(//t1.daumcdn.net/tistory_admin/static/top/pc/magazin_02.jpg);\"></div>\\n\\t\\t</div>\\n\\t\\t<div class=\"box_magazine\" style=\"background-image:url(//t1.daumcdn.net/tistory_admin/static/top/pcrtn/magazine_header.jpg\">\\n\\t\\t\\t<div class=\"inner_box\">\\n\\t\\t\\t\\t<img src=\"//t1.daumcdn.net/tistory_admin/static/top/pc/magazine_sm.jpg\" class=\"thumb_magazine\" width=\"540\" alt=\"\">\\n\\t\\t\\t</div>\\n\\t\\t</div>\\n\\t\\t<a href=\"/skin/xf_Letter\" class=\"link_section\">\\n\\t\\t\\t<strong class=\"tit_link\">Letter</strong>\\n\\t\\t\\t<span class=\"desc_link\">스킨 보기</span>\\n\\t\\t\\t<span class=\"img_top ico_link_arrow\"></span>\\n\\t\\t</a>\\n\\t</div>\\n\\t<div class=\"section_content section_guide\">\\n\\t\\t<h2 class=\"screen_out\">이용 가이드</h2>\\n\\t\\t<div class=\"inner_section\">\\n\\t\\t\\t<strong class=\"tit_guide\">더 잘 쓰고 싶어요?</strong>\\n\\t\\t\\t<div class=\"info_guide\">\\n\\t\\t\\t\\t    <a href=\"https://notice.tistory.com/1797\" target=\"_blank\" class=\"link_guide\">당신의 티스토리에 다양한 <em>플러그인</em>을 <br>사용할 수 있어요.</a>\\n\\t\\t\\t\\t    <a href=\"https://notice.tistory.com/2444\" target=\"_blank\" class=\"link_guide\">사이트 보안을 위해 더 안전한\\xa0<br><em>암호화 접속</em>을 사용해보세요.</a>\\n\\t\\t\\t\\t    <a href=\"https://notice.tistory.com/2400\" target=\"_blank\" class=\"link_guide\">콘텐츠를 고정된 메뉴로 유지하고 싶다면 <br><em>페이지</em>를 이용해보세요.</a>\\n\\t\\t\\t\\t    <a href=\"https://notice.tistory.com/1784\" target=\"_blank\" class=\"link_guide\">나만의 <em>도메인</em>을 연결해보세요.<br>당신의 티스토리에 엣지가 생길거예요.</a>\\n\\t\\t\\t\\t    <a href=\"https://notice.tistory.com/2384\" target=\"_blank\" class=\"link_guide\"><em>로그인 보안</em>기능으로 당신의 정보와<br>콘텐츠를 안전하게 지키세요!\\xa0</a>\\n\\t\\t\\t</div>\\n\\t\\t</div>\\n\\t</div>\\n</div>\\n\\n\\t\\t\\t\\t\\n\\t\\t\\t\\t</div>\\n\\t\\t\\t</div>\\n\\t\\t\\t<hr class=\"hide\">\\n<div id=\"daumFoot\" class=\"footer_comm\">\\n\\t<div class=\"inner_foot\">\\n\\t\\t<div class=\"cont_tistory\">\\n\\t\\t\\t<strong class=\"img_common_tistory txt_tistory\">TISTORY</strong>\\n\\t\\t\\t<p class=\"desc_footer\">티스토리는 카카오에서 <em>♥</em>을 담아 만듭니다.<br>© Kakao Corp.</p>\\n\\t\\t\\t<div class=\"search_tistory\" id=\"footerSearchContainer\">\\n\\t\\t\\t\\t<h2 class=\"screen_out\">검색</h2>\\n\\t\\t\\t\\t<form action=\"//search.daum.net/search\" target=\"_blank\" role=\"search\" method=\"get\">\\n\\t\\t\\t\\t\\t<fieldset>\\n\\t\\t\\t\\t\\t\\t<legend class=\"screen_out\">티스토리 검색</legend>\\n\\t\\t\\t\\t\\t\\t<input type=\"hidden\" name=\"w\" value=\"blog\">\\n\\t\\t\\t\\t\\t\\t<input type=\"hidden\" name=\"f\" value=\"section\">\\n\\t\\t\\t\\t\\t\\t<input type=\"hidden\" name=\"SA\" value=\"tistory\">\\n\\t\\t\\t\\t\\t\\t<input type=\"hidden\" name=\"lpp\" value=\"10\">\\n\\t\\t\\t\\t\\t\\t<input type=\"hidden\" name=\"nil_profile\" value=\"vsearch\">\\n\\t\\t\\t\\t\\t\\t<input type=\"hidden\" name=\"nil_src\" value=\"tistory\">\\n\\t\\t\\t\\t\\t\\t<div class=\"inp_text\">\\n\\t\\t\\t\\t\\t\\t\\t<input type=\"text\" id=\"footerSearchInput\" placeholder=\"검색어입력\" title=\"검색\" name=\"q\">\\n\\t\\t\\t\\t\\t\\t</div>\\n\\t\\t\\t\\t\\t\\t<button type=\"submit\" class=\"img_common_tistory btn_search\">검색</button>\\n\\t\\t\\t\\t\\t</fieldset>\\n\\t\\t\\t\\t</form>\\n\\t\\t\\t</div>\\n\\t\\t</div>\\n\\t\\t<div class=\"question_tistory\">\\n\\t\\t\\t<h2 class=\"screen_out\">문의목록</h2>\\n\\t\\t\\t<div class=\"wrap_question\">\\n\\t\\t\\t\\t<span class=\"tit_question\">메뉴가 궁금할 땐</span>\\n\\t\\t\\t\\t<ul class=\"list_question\">\\n\\t\\t\\t\\t\\t<li><a href=\"/skin\" class=\"link_txt\">스킨</a></li>\\n\\t\\t\\t\\t\\t<li><a href=\"/community/forum\" class=\"link_txt\">포럼</a></li>\\n\\t\\t\\t\\t\\t<li><a href=\"/category\" class=\"link_txt\">스토리</a></li>\\n\\t\\t\\t\\t</ul>\\n\\t\\t\\t</div>\\n\\t\\t\\t<div class=\"wrap_question\">\\n\\t\\t\\t\\t<span class=\"tit_question\">사용하다 궁금할 땐</span>\\n\\t\\t\\t\\t<ul class=\"list_question\">\\n\\t\\t\\t\\t\\t<li><a href=\"/guide/api/manage/register\" class=\"link_txt\">오픈 API</a></li>\\n\\t\\t\\t\\t\\t<li><a href=\"https://tistory.github.io/document-tistory-skin/\" class=\"link_txt\" target=\"_blank\">스킨가이드</a></li>\\n\\t\\t\\t\\t\\t<li><a href=\"https://cs.kakao.com/requests?service=175&locale=ko\" class=\"link_txt\" target=\"_blank\">고객센터</a></li>\\n\\t\\t\\t\\t</ul>\\n\\t\\t\\t</div>\\n\\t\\t\\t<div class=\"wrap_question\">\\n\\t\\t\\t\\t<span class=\"tit_question\">정책이 궁금할 땐</span>\\n\\t\\t\\t\\t<ul class=\"list_question\">\\n\\t\\t\\t\\t\\t<li><a href=\"/info/contract\" class=\"link_txt\">이용약관</a></li>\\n\\t\\t\\t\\t\\t<li><a href=\"https://www.kakao.com/policy/privacy?lang=ko\" class=\"link_txt\"><em>카카오 개인정보처리방침</em></a></li>\\n\\t\\t\\t\\t\\t<li><a href=\"https://www.kakao.com/policy/safeguard\" class=\"link_txt\">청소년보호정책</a></li>\\n\\t\\t\\t\\t\\t<li><a href=\"/info/openApi\" class=\"link_txt\">오픈API 이용약관</a></li>\\n\\t\\t\\t\\t\\t<li><a href=\"/info/emailPolicy\" class=\"link_txt\">Email 수집거부정책</a></li>\\n\\t\\t\\t\\t</ul>\\n\\t\\t\\t</div>\\n\\t\\t\\t<div class=\"wrap_question\">\\n\\t\\t\\t\\t<span class=\"tit_question\">도움이 필요할 땐</span>\\n\\t\\t\\t\\t<ul class=\"list_question\">\\n\\t\\t\\t\\t\\t<li><a href=\"https://www.kakao.com/policy/right\" class=\"link_txt\" target=\"_blank\">권리침해신고</a></li>\\n\\t\\t\\t\\t\\t<li><a href=\"https://cs.kakao.com/conflict\" class=\"link_txt\" target=\"_blank\">상거래 피해 구제신청</a></li>\\n\\t\\t\\t\\t</ul>\\n\\t\\t\\t</div>\\n\\t\\t</div>\\n\\t</div>\\n</div>\\n\\t\\t</div>\\n\\n\\n\\t<script type=\"text/javascript\" src=\"//t1.daumcdn.net/tistory_admin/assets/tistory-web-top/1694410865/static/js/ext/underscore-1.9.0.min.js\"></script>\\n\\n<script src=\"//t1.daumcdn.net/tistory_admin/assets/tistory-web-top/1694410865/static/js/ext/swiper.min.js\"></script>\\n<script src=\"//t1.daumcdn.net/tistory_admin/assets/tistory-web-top/1694410865/static/js/T.js\"></script>\\n<script src=\"//t1.daumcdn.net/tistory_admin/assets/tistory-web-top/1694410865/static/js/T.util.js\"></script>\\n<script src=\"//t1.daumcdn.net/tistory_admin/assets/tistory-web-top/1694410865/static/js/T.auth.js\"></script>\\n<script src=\"//t1.daumcdn.net/tistory_admin/assets/tistory-web-top/1694410865/static/js/pc/T.p.top.js\"></script>\\n\\n\\n<script type=\"text/javascript\" src=\"//t1.daumcdn.net/tiara/js/v1/tiara.min.js\"></script>\\n<script type=\"text/javascript\">\\n    window.addEventListener(\\'load\\', function (){\\n        TiaraTracker.getInstance()\\n            .setSvcDomain(\\'user.tistory.com\\')\\n            .trackPage(\\'user\\')\\n            .setSection(\\'top\\')\\n            .setPage(\\'user\\')\\n\\t\\t\\t.setKakaoAppKey(\\'3e6ddd834b023f24221217e370daed18\\')\\n\\t\\t\\t.setAppUserId(\\'\\')\\n\\t\\t\\t.setAutoClick(true)\\n\\t\\t\\t.setDisableSendLegacy(true)\\n            .track();\\n    });\\n</script>\\n<script type=\"text/javascript\">\\n\\tvar Config = {\\n\\t\\tproduction: true,\\n\\t\\tservice: \\'tistory\\',\\n\\t\\tuseWriteButton: false,\\n\\t\\tuseBlogList: true\\n\\t};\\n\\n\\tvar appInfo = {\\n\\t\\tdomain: \\'tistory.com\\',\\n\\t\\ttopUrl: \\'https://www.tistory.com\\',\\n\\t\\tloginUrl: \\'https://www.tistory.com/auth/login\\',\\n\\t\\tlogoutUrl: \\'https://www.tistory.com/auth/logout\\',\\n\\t\\tmemberUrl: \\'https://www.tistory.com/member\\',\\n\\t\\tgnbBaseUrl: \\'https://www.tistory.com/accio\\',\\n\\t\\tthumbnailBaseUrl: \\'https://i1.daumcdn.net/thumb\\',\\n\\t\\tkakaoAccountUrl: \\'https://accounts.kakao.com/weblogin/account/info\\'\\n\\t};\\n\\n\\tvar initData = {\\n\\t};\\n\\n\\tvar production = true;\\n</script>\\n\\n    <script src=\"https://t1.daumcdn.net/tistory_admin/assets/tistory-gnb/3.3.0/gnb.min.js\"></script>\\n\\n\\t<script src=\"//t1.daumcdn.net/tistory_admin/assets/tistory-web-top/1694410865/static/js/pc/T.p.top.home.js\"></script>\\n\\n\\t<!-- IE9 이하에서 영상 슬라이드 제거 위한 조건부 스크립트 적용 -->\\n\\t<!--[if lte IE9]>\\n\\t<script type=\"text/javascript\">\\n\\t\\t(function($) {\\n\\t\\t\\tvar slideNum = $(\\'.scene_slide\\').length,\\n\\t\\t\\t\\tisVideo = $(\\'.scene_slide\\').children(\"video\").length,\\n\\t\\t\\t\\tvideoItemSlide = $(\"video\").parent(),\\n\\t\\t\\t\\tvideoItem = $(\\'video\\');\\n\\n\\t\\t\\tif(slideNum == 1){\\n\\t\\t\\t\\tif(isVideo == 1){\\n\\t\\t\\t\\t\\tvideoItem.remove();\\n\\t\\t\\t\\t}\\n\\t\\t\\t}else{\\n\\t\\t\\t\\tif(isVideo == 1){\\n\\t\\t\\t\\t\\tvideoItemSlide.remove();\\n\\t\\t\\t\\t}\\n\\t\\t\\t}\\n\\t\\t})(jQuery);\\n\\t</script>\\n\\t<![endif]-->\\n\\t\\n\\t</body>\\n\\t</html>\\n'"
      ]
     },
     "execution_count": 6,
     "metadata": {},
     "output_type": "execute_result"
    }
   ],
   "source": [
    "text.decode('utf8')"
   ]
  },
  {
   "cell_type": "markdown",
   "id": "dc8c322c",
   "metadata": {},
   "source": [
    "### BeautifulSoup 사용법"
   ]
  },
  {
   "cell_type": "code",
   "execution_count": 8,
   "id": "95945026",
   "metadata": {},
   "outputs": [],
   "source": [
    "import bs4"
   ]
  },
  {
   "cell_type": "code",
   "execution_count": 17,
   "id": "d23aa5f4",
   "metadata": {},
   "outputs": [],
   "source": [
    "url = \"https://www.tistory.com\"\n",
    "html = urlopen(url)"
   ]
  },
  {
   "cell_type": "code",
   "execution_count": 18,
   "id": "477fad91",
   "metadata": {},
   "outputs": [],
   "source": [
    "# parsing object 생성 -> 객체의 메소드 사용해서 추출 가능\n",
    "bs_obj = bs4.BeautifulSoup(html, 'html.parser')"
   ]
  },
  {
   "cell_type": "code",
   "execution_count": 23,
   "id": "7fece729",
   "metadata": {},
   "outputs": [],
   "source": [
    "#bs_obj  # tag형식으로 받아옴"
   ]
  },
  {
   "cell_type": "code",
   "execution_count": 24,
   "id": "f5c1c822",
   "metadata": {},
   "outputs": [],
   "source": [
    "# 계층 구조로 표현 : 가독성이 좋음\n",
    "# print(bs_obj.prettify())"
   ]
  },
  {
   "cell_type": "code",
   "execution_count": 42,
   "id": "1ed74ff9",
   "metadata": {},
   "outputs": [],
   "source": [
    "html_str = \"<html><div>hello<ul><li>Coffee</li><li>Tea</li><li>Milk</li></ul></div></html>\""
   ]
  },
  {
   "cell_type": "code",
   "execution_count": 43,
   "id": "95f59bec",
   "metadata": {},
   "outputs": [
    {
     "data": {
      "text/plain": [
       "<html><div>hello<ul><li>Coffee</li><li>Tea</li><li>Milk</li></ul></div></html>"
      ]
     },
     "execution_count": 43,
     "metadata": {},
     "output_type": "execute_result"
    }
   ],
   "source": [
    "# (1)  html code -> parsing object 로 반환\n",
    "bs_obj = bs4.BeautifulSoup(html_str,'html.parser')\n",
    "bs_obj"
   ]
  },
  {
   "cell_type": "code",
   "execution_count": 44,
   "id": "aff46df2",
   "metadata": {},
   "outputs": [],
   "source": [
    "# 여러 줄 return 가능 하도록\n",
    "from IPython.core.interactiveshell import InteractiveShell\n",
    "InteractiveShell.ast_node_interactivity=\"all\""
   ]
  },
  {
   "cell_type": "code",
   "execution_count": 45,
   "id": "4284ba3d",
   "metadata": {},
   "outputs": [
    {
     "data": {
      "text/plain": [
       "<div>hello<ul><li>Coffee</li><li>Tea</li><li>Milk</li></ul></div>"
      ]
     },
     "execution_count": 45,
     "metadata": {},
     "output_type": "execute_result"
    },
    {
     "data": {
      "text/plain": [
       "'helloCoffeeTeaMilk'"
      ]
     },
     "execution_count": 45,
     "metadata": {},
     "output_type": "execute_result"
    }
   ],
   "source": [
    "# (2) find() method 사용해서 tag추출\n",
    "# find() : 첫 번째 태그만 추출\n",
    "# find('tag name')\n",
    "bs_obj.find('div')   # <div>태그 추출\n",
    "bs_obj.find('div').text   # 텍스트 속성 : 텍스트만(문자열) 반환"
   ]
  },
  {
   "cell_type": "code",
   "execution_count": 46,
   "id": "3587ff9b",
   "metadata": {},
   "outputs": [
    {
     "data": {
      "text/plain": [
       "<html><div>hello<ul><li>Coffee</li><li>Tea</li><li>Milk</li></ul></div></html>"
      ]
     },
     "execution_count": 46,
     "metadata": {},
     "output_type": "execute_result"
    }
   ],
   "source": [
    "# (1)Create parsing object\n",
    "bs_obj = bs4.BeautifulSoup(html_str,'html.parser')\n",
    "bs_obj"
   ]
  },
  {
   "cell_type": "code",
   "execution_count": 48,
   "id": "86b0ef7f",
   "metadata": {},
   "outputs": [
    {
     "data": {
      "text/plain": [
       "<ul><li>Coffee</li><li>Tea</li><li>Milk</li></ul>"
      ]
     },
     "execution_count": 48,
     "metadata": {},
     "output_type": "execute_result"
    }
   ],
   "source": [
    "# (2) <ul> 추출\n",
    "ul = bs_obj.find('ul')\n",
    "ul"
   ]
  },
  {
   "cell_type": "code",
   "execution_count": 55,
   "id": "6c1efceb",
   "metadata": {},
   "outputs": [
    {
     "data": {
      "text/plain": [
       "[<li>Coffee</li>, <li>Tea</li>, <li>Milk</li>]"
      ]
     },
     "execution_count": 55,
     "metadata": {},
     "output_type": "execute_result"
    },
    {
     "data": {
      "text/plain": [
       "<li>Coffee</li>"
      ]
     },
     "execution_count": 55,
     "metadata": {},
     "output_type": "execute_result"
    }
   ],
   "source": [
    "# 전부 찾기 : findAll\n",
    "# return : list\n",
    "ul.findAll('li')"
   ]
  },
  {
   "cell_type": "code",
   "execution_count": 63,
   "id": "1c4e9a56",
   "metadata": {},
   "outputs": [
    {
     "name": "stdout",
     "output_type": "stream",
     "text": [
      "Coffee\n",
      "Tea\n",
      "Milk\n"
     ]
    }
   ],
   "source": [
    "# 모든 li태그의 text 추출 \n",
    "lis = ul.findAll('li')\n",
    "for li in lis:\n",
    "    print(li.text)"
   ]
  },
  {
   "cell_type": "markdown",
   "id": "ea2f5784",
   "metadata": {},
   "source": [
    "#####################"
   ]
  },
  {
   "cell_type": "code",
   "execution_count": 66,
   "id": "fc22af31",
   "metadata": {},
   "outputs": [],
   "source": [
    "html_str = \"\"\"\n",
    "<html>\n",
    "    <body>\n",
    "        <ul class=\"greet\">\n",
    "            <li>hello</li>\n",
    "            <li>bye</li>\n",
    "            <li>welcome</li>\n",
    "        </ul>\n",
    "        <ul class=\"reply\">\n",
    "            <li>ok</li>\n",
    "            <li>no</li>\n",
    "            <li>sure</li>\n",
    "        </ul>\n",
    "    </body>\n",
    "</html>\n",
    "\"\"\""
   ]
  },
  {
   "cell_type": "code",
   "execution_count": 67,
   "id": "e3ea97c6",
   "metadata": {},
   "outputs": [],
   "source": [
    "bs_obj = bs4.BeautifulSoup(html_str, 'html.parser')"
   ]
  },
  {
   "cell_type": "code",
   "execution_count": 68,
   "id": "cd4e2e56",
   "metadata": {},
   "outputs": [
    {
     "data": {
      "text/plain": [
       "<ul class=\"greet\">\n",
       "<li>hello</li>\n",
       "<li>bye</li>\n",
       "<li>welcome</li>\n",
       "</ul>"
      ]
     },
     "execution_count": 68,
     "metadata": {},
     "output_type": "execute_result"
    }
   ],
   "source": [
    "# class 속성값이 greet 인 태그 추출\n",
    "bs_obj.find('ul', {'class':'greet'})"
   ]
  },
  {
   "cell_type": "code",
   "execution_count": 72,
   "id": "63dd83d4",
   "metadata": {},
   "outputs": [
    {
     "name": "stdout",
     "output_type": "stream",
     "text": [
      "hello\n",
      "bye\n",
      "welcome\n"
     ]
    }
   ],
   "source": [
    "# class 속성값이 greet 인 ul태그 내 모든 li태그의 텍스트값 출력\n",
    "ul = bs_obj.find('ul', {'class':'greet'})\n",
    "lis = ul.findAll('li')\n",
    "for li in lis:\n",
    "    print(li.text)"
   ]
  },
  {
   "cell_type": "markdown",
   "id": "098dd45d",
   "metadata": {},
   "source": [
    "########################"
   ]
  },
  {
   "cell_type": "code",
   "execution_count": 76,
   "id": "5c74a9fe",
   "metadata": {},
   "outputs": [],
   "source": [
    "html_str = \"\"\"\n",
    "    <html>\n",
    "        <body>\n",
    "            <h1 id='title'>Hello Python</h1>\n",
    "            <p id=\"crawling\">웹 크롤링</p>\n",
    "            <p id=\"parsing\">parsing</p>\n",
    "        </body>\n",
    "    </html>\n",
    "\"\"\""
   ]
  },
  {
   "cell_type": "code",
   "execution_count": 87,
   "id": "d4593d96",
   "metadata": {},
   "outputs": [],
   "source": [
    "# 파싱 객체 구문 분석\n",
    "bs_obj = bs4.BeautifulSoup(html_str, 'html.parser')"
   ]
  },
  {
   "cell_type": "code",
   "execution_count": 86,
   "id": "72652682",
   "metadata": {},
   "outputs": [
    {
     "data": {
      "text/plain": [
       "'Hello Python'"
      ]
     },
     "execution_count": 86,
     "metadata": {},
     "output_type": "execute_result"
    }
   ],
   "source": [
    "# id가 title인 태그와 그 텍스트 추출\n",
    "title = bs_obj.find('h1',{'id':'title'})\n",
    "title.text"
   ]
  },
  {
   "cell_type": "code",
   "execution_count": 88,
   "id": "3cfac239",
   "metadata": {},
   "outputs": [
    {
     "data": {
      "text/plain": [
       "'parsing'"
      ]
     },
     "execution_count": 88,
     "metadata": {},
     "output_type": "execute_result"
    }
   ],
   "source": [
    "# id가 parsing인 태그와 텍스트\n",
    "parsing = bs_obj.find('p', {'id':'parsing'})\n",
    "parsing.text"
   ]
  },
  {
   "cell_type": "markdown",
   "id": "2e783e91",
   "metadata": {},
   "source": [
    "### 형제 노드 찾기\n",
    "- next_sibling"
   ]
  },
  {
   "cell_type": "code",
   "execution_count": 89,
   "id": "e54970b0",
   "metadata": {},
   "outputs": [],
   "source": [
    "html_str = \"\"\"\n",
    "    <html>\n",
    "        <body>\n",
    "            <h1 id='title'>Hello Python</h1>\n",
    "            <p id=\"crawling\">웹 크롤링</p>\n",
    "            <p id=\"parsing\">parsing</p>\n",
    "        </body>\n",
    "    </html>\n",
    "\"\"\""
   ]
  },
  {
   "cell_type": "code",
   "execution_count": 91,
   "id": "c505380b",
   "metadata": {},
   "outputs": [],
   "source": [
    "bs_obj = bs4.BeautifulSoup(html_str, 'html.parser')"
   ]
  },
  {
   "cell_type": "code",
   "execution_count": 93,
   "id": "f60d62f9",
   "metadata": {},
   "outputs": [
    {
     "data": {
      "text/plain": [
       "<p id=\"crawling\">웹 크롤링</p>"
      ]
     },
     "execution_count": 93,
     "metadata": {},
     "output_type": "execute_result"
    }
   ],
   "source": [
    "# first p tag\n",
    "bs_obj.find('p')"
   ]
  },
  {
   "cell_type": "code",
   "execution_count": 98,
   "id": "c6b361e6",
   "metadata": {},
   "outputs": [
    {
     "data": {
      "text/plain": [
       "[<p id=\"crawling\">웹 크롤링</p>, <p id=\"parsing\">parsing</p>]"
      ]
     },
     "execution_count": 98,
     "metadata": {},
     "output_type": "execute_result"
    },
    {
     "data": {
      "text/plain": [
       "<p id=\"parsing\">parsing</p>"
      ]
     },
     "execution_count": 98,
     "metadata": {},
     "output_type": "execute_result"
    }
   ],
   "source": [
    "# every p tag\n",
    "bs_obj.findAll('p')\n",
    "bs_obj.findAll('p')[1]        # 1 index : second p tag"
   ]
  },
  {
   "cell_type": "code",
   "execution_count": 104,
   "id": "6b73d337",
   "metadata": {},
   "outputs": [
    {
     "data": {
      "text/plain": [
       "<p id=\"crawling\">웹 크롤링</p>"
      ]
     },
     "execution_count": 104,
     "metadata": {},
     "output_type": "execute_result"
    },
    {
     "data": {
      "text/plain": [
       "'\\n'"
      ]
     },
     "execution_count": 104,
     "metadata": {},
     "output_type": "execute_result"
    },
    {
     "data": {
      "text/plain": [
       "<p id=\"parsing\">parsing</p>"
      ]
     },
     "execution_count": 104,
     "metadata": {},
     "output_type": "execute_result"
    },
    {
     "data": {
      "text/plain": [
       "'\\n'"
      ]
     },
     "execution_count": 104,
     "metadata": {},
     "output_type": "execute_result"
    }
   ],
   "source": [
    "p1 = bs_obj.find('p')\n",
    "p1\n",
    "\n",
    "p1.next_sibling  # 줄바꿈 한 경우 : 형제 태그로 '\\n'인식\n",
    "p1.next_sibling.next_sibling\n",
    "p1.next_sibling.next_sibling.next_sibling"
   ]
  },
  {
   "cell_type": "markdown",
   "id": "542f39b3",
   "metadata": {},
   "source": [
    "#### 태그 내의 특정 속성의 값 추출\n",
    "-  < a href=\"www.abc.com\">\n",
    "- <a> 태그의 href 속성의 속성값: www.abc.com\n",
    "   "
   ]
  },
  {
   "cell_type": "code",
   "execution_count": 109,
   "id": "4cf7ee9f",
   "metadata": {},
   "outputs": [],
   "source": [
    "\n",
    "html_str = \"\"\"\n",
    "<html>\n",
    "    <body>\n",
    "        <ul class=\"ko\">\n",
    "            <li><a href=\"https://www.naver.com/\">네이버</a></li>\n",
    "            <li><a href=\"https://www.daum.net/\">다음</a></li>\n",
    "        </ul>\n",
    "        <ul class=\"sns\">\n",
    "            <li><a href=\"https://www.goole.com/\">구글</a></li>\n",
    "            <li><a href=\"https://www.facebook.net/\">페이스북</a></li>\n",
    "        </ul>\n",
    "    </body>\n",
    "</html>\n",
    "\"\"\"\n"
   ]
  },
  {
   "cell_type": "code",
   "execution_count": 110,
   "id": "0e67883b",
   "metadata": {},
   "outputs": [],
   "source": [
    "# Create parsing object\n",
    "bs_obj = bs4.BeautifulSoup(html_str, 'html.parser')"
   ]
  },
  {
   "cell_type": "code",
   "execution_count": 111,
   "id": "3613c4e7",
   "metadata": {},
   "outputs": [
    {
     "data": {
      "text/plain": [
       "<a href=\"https://www.naver.com/\">네이버</a>"
      ]
     },
     "execution_count": 111,
     "metadata": {},
     "output_type": "execute_result"
    },
    {
     "data": {
      "text/plain": [
       "'https://www.naver.com/'"
      ]
     },
     "execution_count": 111,
     "metadata": {},
     "output_type": "execute_result"
    }
   ],
   "source": [
    "# 첫번째 a태그\n",
    "bs_obj.findAll('a')[0]\n",
    "\n",
    "# a tag의 href속성\n",
    "bs_obj.findAll('a')[0]['href']"
   ]
  },
  {
   "cell_type": "code",
   "execution_count": 113,
   "id": "ca0acc05",
   "metadata": {},
   "outputs": [
    {
     "name": "stdout",
     "output_type": "stream",
     "text": [
      "https://www.naver.com/\n",
      "https://www.daum.net/\n",
      "https://www.goole.com/\n",
      "https://www.facebook.net/\n"
     ]
    }
   ],
   "source": [
    "# 모든 링크 추출\n",
    "a_list = bs_obj.findAll('a')\n",
    "for a in a_list:\n",
    "    print(a['href'])"
   ]
  },
  {
   "cell_type": "markdown",
   "id": "9fa22c2d",
   "metadata": {},
   "source": [
    "### Select 메소드\n"
   ]
  },
  {
   "cell_type": "markdown",
   "id": "6c9c7903",
   "metadata": {},
   "source": [
    "select() 메소드\n",
    "- list 반환\n",
    "- select_one() : 1개의 태그 추출\n",
    "    - text 반환하고 싶으면 .text\n",
    "- select() : 여러개의 태그 추출 \n",
    "    - 1개라도 리스트로 반환\n",
    "    - 텍스트를 추출하고 싶으면 [index].text\n",
    "- CSS 선택자 그대로 사용 가능 : 아이디 선택자/ 클래스 선택자 / 태그 선택자 \n",
    "\n",
    "- 클래스명 : 클래스 선택자\n",
    "  - 같은 클래스 값을 갖는 여러개 있을 수 있음\n",
    "- #id명 : 유일한 태그 (1개만 추출)\n",
    "- 띄어쓰기 : 자손 선택\n",
    "    - div li : div 태그의 모든 자손 li\n",
    "- . > : 자식 선택\n",
    "    - div > li : div 태그 내의 바로 밑의 자식 태그 li"
   ]
  },
  {
   "cell_type": "code",
   "execution_count": null,
   "id": "e271370d",
   "metadata": {},
   "outputs": [],
   "source": []
  },
  {
   "cell_type": "code",
   "execution_count": 114,
   "id": "ac7e27f9",
   "metadata": {},
   "outputs": [],
   "source": [
    "\n",
    "html_str = \"\"\"\n",
    "<html>\n",
    "   <body>\n",
    "    \t<div id=\"wrap\">\n",
    "        \t<div id=\"mainMenuBox\">                \t\n",
    "                <ul>  \n",
    "                    <li><a href=\"#\" id='fashion'>패션잡화</a></li>    \n",
    "                    <li><a href=\"#\">주방용품</a></li>                     \t          \n",
    "                    <li><a href=\"#\">생활건강</a></li>\n",
    "                    <li><a href=\"#\">DIY가구</a></li>\n",
    "                </ul>\n",
    "            </div>\n",
    "        \t<div>\n",
    "            \t<table>\n",
    "                \t<tr><td><img src=\"shoes1.jpg\"></td>\n",
    "                    \t  <td><img src=\"shoes2.jpg\"></td>\n",
    "                    \t  <td><img src=\"shoes3.jpg\"></td></tr>\n",
    "                    <tr id=\"prdName\"><td>솔로이스트<br>걸리쉬 리본단화</td>\n",
    "                    \t  <td>맥컬린<br>그레이가보시스트랩 펌프스</td>\n",
    "                          <td>맥컬린<br>섹슈얼인사이드펌프스</td></tr>\n",
    "                    <tr id=\"price\"><td>100,000원</td><td>200,000원</td><td>120,000원</td></tr>\n",
    "                </table>\n",
    "            </div>\n",
    "            <div id=\"out_box\">\n",
    "            \t<div class=\"box\">\n",
    "                \t<h4>공지사항</h4>\n",
    "                    <hr>\n",
    "                    <a href=\"#\">[배송] : 무표배송 변경 안내 23.08.20</a><br>\n",
    "                    <a href=\"#\">[전시] : DIY 가구 전시 안내 23.08.31</a><br>\n",
    "                    <a href=\"#\">[판매] : 11월 특가 상품 안내 23.09.05</a><br>\n",
    "                    <div>공지사항 확인 필수</div>\n",
    "                </div>\n",
    "                <div class=\"box\">\n",
    "                \t<h4>커뮤니티</h4>\n",
    "                    <hr>\n",
    "                    <a href=\"#\">[레시피] : 살 안찌는 야식 만들기</a><br>\n",
    "                    <a href=\"#\">[가구] : 헌집 새집 베스트 가구</a><br>\n",
    "                    <a href=\"#\">[후기] : 배송이 잘못 됐어요 ㅠㅠ</a><br>\n",
    "                    <div>커뮤니티 확인 요청</div>\n",
    "                 </div>\n",
    "            </div>            \n",
    "        </div>\n",
    "    </body>\n",
    "</html>\"\"\""
   ]
  },
  {
   "cell_type": "code",
   "execution_count": 115,
   "id": "8f212fb1",
   "metadata": {},
   "outputs": [],
   "source": [
    "# 파싱 객체 생성\n",
    "bs_obj = bs4.BeautifulSoup(html_str, 'html.parser')"
   ]
  },
  {
   "cell_type": "code",
   "execution_count": 117,
   "id": "037f4739",
   "metadata": {},
   "outputs": [
    {
     "name": "stdout",
     "output_type": "stream",
     "text": [
      "패션잡화\n",
      "주방용품\n",
      "생활건강\n",
      "DIY가구\n",
      "[배송] : 무표배송 변경 안내 23.08.20\n",
      "[전시] : DIY 가구 전시 안내 23.08.31\n",
      "[판매] : 11월 특가 상품 안내 23.09.05\n",
      "[레시피] : 살 안찌는 야식 만들기\n",
      "[가구] : 헌집 새집 베스트 가구\n",
      "[후기] : 배송이 잘못 됐어요 ㅠㅠ\n"
     ]
    }
   ],
   "source": [
    "# a tag 선택자\n",
    "a_list = bs_obj.select('a')\n",
    "\n",
    "for a in a_list:\n",
    "    print(a.text)"
   ]
  },
  {
   "cell_type": "code",
   "execution_count": 118,
   "id": "22a34ba4",
   "metadata": {},
   "outputs": [
    {
     "data": {
      "text/plain": [
       "[<div id=\"mainMenuBox\">\n",
       " <ul>\n",
       " <li><a href=\"#\" id=\"fashion\">패션잡화</a></li>\n",
       " <li><a href=\"#\">주방용품</a></li>\n",
       " <li><a href=\"#\">생활건강</a></li>\n",
       " <li><a href=\"#\">DIY가구</a></li>\n",
       " </ul>\n",
       " </div>]"
      ]
     },
     "execution_count": 118,
     "metadata": {},
     "output_type": "execute_result"
    }
   ],
   "source": [
    "# id 선택자\n",
    "# id=\"mainMenuBox\" 인 div태그 추출\n",
    "bs_obj.select('#mainMenuBox')"
   ]
  },
  {
   "cell_type": "code",
   "execution_count": 132,
   "id": "54f344b1",
   "metadata": {},
   "outputs": [],
   "source": [
    "# id = \"mainMenuBox\" 인 div 태그 내 모든 li 태그 추출\n",
    "li = bs_obj.select('#mainMenuBox li')\n"
   ]
  },
  {
   "cell_type": "code",
   "execution_count": 134,
   "id": "43c2490e",
   "metadata": {},
   "outputs": [
    {
     "data": {
      "text/plain": [
       "[<a href=\"#\">[배송] : 무표배송 변경 안내 23.08.20</a>,\n",
       " <a href=\"#\">[전시] : DIY 가구 전시 안내 23.08.31</a>,\n",
       " <a href=\"#\">[판매] : 11월 특가 상품 안내 23.09.05</a>,\n",
       " <a href=\"#\">[레시피] : 살 안찌는 야식 만들기</a>,\n",
       " <a href=\"#\">[가구] : 헌집 새집 베스트 가구</a>,\n",
       " <a href=\"#\">[후기] : 배송이 잘못 됐어요 ㅠㅠ</a>]"
      ]
     },
     "execution_count": 134,
     "metadata": {},
     "output_type": "execute_result"
    }
   ],
   "source": [
    "# class가 box인 태그 내에 들어있는 모든 a 태그 추출\n",
    "bs_obj.select('.box a')"
   ]
  },
  {
   "cell_type": "code",
   "execution_count": 147,
   "id": "4883920e",
   "metadata": {},
   "outputs": [
    {
     "data": {
      "text/plain": [
       "'패션잡화'"
      ]
     },
     "execution_count": 147,
     "metadata": {},
     "output_type": "execute_result"
    },
    {
     "data": {
      "text/plain": [
       "'패션잡화'"
      ]
     },
     "execution_count": 147,
     "metadata": {},
     "output_type": "execute_result"
    }
   ],
   "source": [
    "# '패션잡화'추출 id \n",
    "bs_obj.select('#fashion')[0].text\n",
    "bs_obj.select_one('#fashion').text\n",
    "\n"
   ]
  },
  {
   "cell_type": "code",
   "execution_count": 150,
   "id": "5fa4961c",
   "metadata": {},
   "outputs": [
    {
     "data": {
      "text/plain": [
       "'공지사항 확인 필수'"
      ]
     },
     "execution_count": 150,
     "metadata": {},
     "output_type": "execute_result"
    }
   ],
   "source": [
    "# '공지사항 확인 필수' 추출\n",
    "bs_obj.select('.box div')[0].text"
   ]
  },
  {
   "cell_type": "code",
   "execution_count": null,
   "id": "5537f1e2",
   "metadata": {},
   "outputs": [],
   "source": []
  }
 ],
 "metadata": {
  "kernelspec": {
   "display_name": "Python 3 (ipykernel)",
   "language": "python",
   "name": "python3"
  },
  "language_info": {
   "codemirror_mode": {
    "name": "ipython",
    "version": 3
   },
   "file_extension": ".py",
   "mimetype": "text/x-python",
   "name": "python",
   "nbconvert_exporter": "python",
   "pygments_lexer": "ipython3",
   "version": "3.10.9"
  }
 },
 "nbformat": 4,
 "nbformat_minor": 5
}
