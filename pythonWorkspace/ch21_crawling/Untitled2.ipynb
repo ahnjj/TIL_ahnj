{
 "cells": [
  {
   "cell_type": "code",
   "execution_count": 1,
   "id": "ba0d20ae-eefa-43d4-8bf3-3e3449bd2340",
   "metadata": {},
   "outputs": [],
   "source": [
    "from IPython.core.interactiveshell import InteractiveShell\n",
    "InteractiveShell.ast_node_interactivity=\"all\"\n"
   ]
  },
  {
   "cell_type": "code",
   "execution_count": 7,
   "id": "5647bd9d-a296-4d39-aaff-f6439a21f753",
   "metadata": {},
   "outputs": [
    {
     "name": "stdout",
     "output_type": "stream",
     "text": [
      "1\n",
      "2\n",
      "3\n",
      "4\n",
      "5\n",
      "6\n",
      "7\n",
      "8\n"
     ]
    },
    {
     "data": {
      "text/plain": [
       "288"
      ]
     },
     "execution_count": 7,
     "metadata": {},
     "output_type": "execute_result"
    }
   ],
   "source": [
    "nums = [0,0,0,0,0,0,0,0,0,0,0,0,0,0,0,0,0,0,0,0,0,0,0,0,0,0,0,0,0,0,0,0,0,0,0,0,0,0,0,0,0,0,0,0,0,0,0,0,0,0,0,0,0,0,0,0,0,0,0,0,0,0,0,0,0,0,0,0,0,0,0,0,0,0,0,0,0,0,0,0,0,0,0,0,0,0,0,0,0,0,0,0,0,0,0,0,0,0,0,0,0,0,0,0,0,0,0,0,0,0,0,0,0,0,0,0,0,0,0,0,0,0,0,0,0,0,0,0,0,0,0,0,0,0,0,0,0,0,0,0,0,0,0,0,0,0,0,0,0,0,0,0,0,0,0,0,0,0,0,0,0,0,0,0,0,0,0,0,0,0,0,0,0,0,0,0,0,0,0,0,0,0,0,0,0,0,0,0,0,0,0,0,0,0,0,0,0,0,0,0,0,0,0,0,0,0,0,0,0,0,0,0,0,0,0,0,0,0,0,0,0,0,0,0,0,0,0,0,0,0,0,0,0,0,0,0,0,0,0,0,0,0,0,0,0,0,0,0,0,0,0,0,0,0,0,0,0,0,0,0,0,0,0,0,0,0,0,0,0,0,0,0,0,0,0,0,0,0,0,0,0,0,0,0,0,0,0,0,0,0,0,0,0,0,0,0]\n",
    "\n",
    "last, zero = -1, 0\n",
    "l, r = 0, len(nums)-1\n",
    "\n",
    "\n",
    "while l <= r:\n",
    "    m = (l+r)//2\n",
    "    if nums[m] < 0 :\n",
    "        last = m\n",
    "        l = m + 1\n",
    "    elif nums[m] > 0:\n",
    "        r = m - 1\n",
    "    elif nums[m] == 0:\n",
    "        zero += 1\n",
    "        r = m - 1\n",
    "    print(zero)\n",
    "\n",
    "neg = last + 1\n",
    "pos = len(nums) - neg - zero\n",
    "\n",
    "max(neg, pos)\n"
   ]
  },
  {
   "cell_type": "code",
   "execution_count": 18,
   "id": "78c502e2-c9a2-412a-8023-0c4069599721",
   "metadata": {
    "scrolled": true
   },
   "outputs": [
    {
     "name": "stdout",
     "output_type": "stream",
     "text": [
      "neg 0\n",
      "neg 2\n",
      "neg 3\n",
      "pos 0\n",
      "pos 5\n",
      "pos 5\n"
     ]
    },
    {
     "data": {
      "text/plain": [
       "3"
      ]
     },
     "execution_count": 18,
     "metadata": {},
     "output_type": "execute_result"
    }
   ],
   "source": [
    "# nums = [0,0,0,0,0,0,0,0,0,0,0,0,0,0,0,0,0,0,0,0,0,0,0,0,0,0,0,0,0,0,0,0,0,0,0,0,0,0,0,0,0,0,0,0,0,0,0,0,0,0,0,0,0,0,0,0,0,0,0,0,0,0,0,0,0,0,0,0,0,0,0,0,0,0,0,0,0,0,0,0,0,0,0,0,0,0,0,0,0,0,0,0,0,0,0,0,0,0,0,0,0,0,0,0,0,0,0,0,0,0,0,0,0,0,0,0,0,0,0,0,0,0,0,0,0,0,0,0,0,0,0,0,0,0,0,0,0,0,0,0,0,0,0,0,0,0,0,0,0,0,0,0,0,0,0,0,0,0,0,0,0,0,0,0,0,0,0,0,0,0,0,0,0,0,0,0,0,0,0,0,0,0,0,0,0,0,0,0,0,0,0,0,0,0,0,0,0,0,0,0,0,0,0,0,0,0,0,0,0,0,0,0,0,0,0,0,0,0,0,0,0,0,0,0,0,0,0,0,0,0,0,0,0,0,0,0,0,0,0,0,0,0,0,0,0,0,0,0,0,0,0,0,0,0,0,0,0,0,0,0,0,0,0,0,0,0,0,0,0,0,0,0,0,0,0,0,0,0,0,0,0,0,0,0,0,0,0,0,0,0,0,0,0,0,0,0]\n",
    "nums = [-3,-2,-1,0,0,1,2]\n",
    "# last, zero = -1, 0\n",
    "l, r = 0, len(nums)-1\n",
    "neg = pos = 0\n",
    "\n",
    "# leftmost - last neg\n",
    "while l <= r:\n",
    "    m = (l+r)//2\n",
    "    if nums[m] < 0 :\n",
    "        neg = m + 1\n",
    "        l = m + 1\n",
    "    else:\n",
    "        r = m - 1\n",
    "    print('neg',neg)\n",
    "\n",
    "l, r = 0, len(nums)-1\n",
    "while l <= r:\n",
    "    m = (l+r)//2\n",
    "    if nums[m] > 0:\n",
    "        pos = m\n",
    "        r = m - 1\n",
    "    else:\n",
    "        l = m + 1\n",
    "    print('pos', pos)\n",
    "\n",
    "\n",
    "pos = len(nums) - pos\n",
    "\n",
    "max(neg, pos)\n"
   ]
  },
  {
   "cell_type": "code",
   "execution_count": 45,
   "id": "6c91268b-41c4-4d76-9dac-6939fac5cd5d",
   "metadata": {},
   "outputs": [
    {
     "data": {
      "text/plain": [
       "[2, 0, 3]"
      ]
     },
     "execution_count": 45,
     "metadata": {},
     "output_type": "execute_result"
    }
   ],
   "source": [
    "mat = [[1,1,0,0,0],[1,1,1,1,0], [1,0,0,0,0], [1,1,0,0,0], [1,1,1,1,1]]\n",
    "k = 3\n",
    "soldiers = dict()\n",
    "\n",
    "def count(arr):\n",
    "    l, r = 0, len(arr)-1\n",
    "    while l<=r:\n",
    "        m = (l+r)//2\n",
    "        if arr[m] == 1:\n",
    "            l = m + 1\n",
    "        else:\n",
    "            r = m - 1\n",
    "    return l\n",
    "\n",
    "# l = soldiers number\n",
    "\n",
    "for i, row in enumerate(mat):\n",
    "    soldiers[i] = count(row)\n",
    "\n",
    "# sort by weakness\n",
    "\n",
    "res = sorted(soldiers.items(), key = lambda item : (item[1],item[0]))\n",
    "\n",
    "[res[i][0] for i in range(k)]\n",
    "    "
   ]
  },
  {
   "cell_type": "code",
   "execution_count": 35,
   "id": "552518a8-f24b-4d2b-9bad-70598a87493b",
   "metadata": {},
   "outputs": [
    {
     "data": {
      "text/plain": [
       "[10, 12, 3, 28]"
      ]
     },
     "execution_count": 35,
     "metadata": {},
     "output_type": "execute_result"
    }
   ],
   "source": [
    "l = [3, 10,28,12]\n",
    "n = 10 # n과 거리가 가장 가까운 순으로 정렬 / 같으면 작은 값 먼저\n",
    "l.sort(key = lambda x : (abs(x-n), x-n)) # None\n",
    "sorted(l, key = lambda x : (abs(x-n), x-n))"
   ]
  }
 ],
 "metadata": {
  "kernelspec": {
   "display_name": "Python 3 (ipykernel)",
   "language": "python",
   "name": "python3"
  },
  "language_info": {
   "codemirror_mode": {
    "name": "ipython",
    "version": 3
   },
   "file_extension": ".py",
   "mimetype": "text/x-python",
   "name": "python",
   "nbconvert_exporter": "python",
   "pygments_lexer": "ipython3",
   "version": "3.11.5"
  }
 },
 "nbformat": 4,
 "nbformat_minor": 5
}
