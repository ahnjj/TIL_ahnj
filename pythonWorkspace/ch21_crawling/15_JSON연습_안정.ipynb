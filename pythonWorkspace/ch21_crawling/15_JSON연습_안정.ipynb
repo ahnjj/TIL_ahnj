{
 "cells": [
  {
   "cell_type": "markdown",
   "id": "d15590a1-d1a5-4ddd-8ddb-41f9e5d326d1",
   "metadata": {},
   "source": [
    "## JSON연습\n",
    "- 파일확장명 : json"
   ]
  },
  {
   "cell_type": "code",
   "execution_count": 37,
   "id": "ba3a4fa4-76e3-4457-a825-d52d6a0f3397",
   "metadata": {},
   "outputs": [],
   "source": [
    "# %config Completer.use_jedi = False"
   ]
  },
  {
   "cell_type": "code",
   "execution_count": 4,
   "id": "f3792248-2217-4349-9245-04c020348483",
   "metadata": {},
   "outputs": [],
   "source": [
    "from IPython.core.interactiveshell import InteractiveShell\n",
    "InteractiveShell.ast_node_interactivity=\"all\""
   ]
  },
  {
   "cell_type": "code",
   "execution_count": 5,
   "id": "9d1d4b81-e042-4ca5-b4f5-04c66ebba518",
   "metadata": {},
   "outputs": [],
   "source": [
    "import json"
   ]
  },
  {
   "cell_type": "code",
   "execution_count": 6,
   "id": "2e81e9e3-9b12-4bb7-a515-09f0e24ffe3f",
   "metadata": {},
   "outputs": [
    {
     "data": {
      "text/plain": [
       "{'name': '홍길동', 'age': '33'}"
      ]
     },
     "execution_count": 6,
     "metadata": {},
     "output_type": "execute_result"
    }
   ],
   "source": [
    "# json 형식의 문자열\n",
    "json_str = '{\"name\": \"홍길동\", \"age\":\"33\"}'\n",
    "\n",
    "# json 형식의 문자열을 json객체로 변환 : Loads() 메소드 ㅏㅅ용\n",
    "# '' 로 전체 닫고 내부는 \"\"\n",
    "json_obj = json.loads(json_str)\n",
    "json_obj"
   ]
  },
  {
   "cell_type": "code",
   "execution_count": 7,
   "id": "0a73520e-5782-4c23-a9b6-a595a5cee86d",
   "metadata": {},
   "outputs": [
    {
     "data": {
      "text/plain": [
       "dict"
      ]
     },
     "execution_count": 7,
     "metadata": {},
     "output_type": "execute_result"
    }
   ],
   "source": [
    "type(json_obj)"
   ]
  },
  {
   "cell_type": "code",
   "execution_count": 8,
   "id": "7cffccf1-51be-4985-94a5-d047017f0ed9",
   "metadata": {},
   "outputs": [
    {
     "data": {
      "text/plain": [
       "'홍길동'"
      ]
     },
     "execution_count": 8,
     "metadata": {},
     "output_type": "execute_result"
    },
    {
     "data": {
      "text/plain": [
       "'33'"
      ]
     },
     "execution_count": 8,
     "metadata": {},
     "output_type": "execute_result"
    }
   ],
   "source": [
    "# 각 요소의 값 추출 : get()메소드 사용\n",
    "json_obj.get(\"name\")\n",
    "json_obj.get(\"age\")"
   ]
  },
  {
   "cell_type": "code",
   "execution_count": 42,
   "id": "39a32daa-176f-4fb6-afda-978b488aa6ed",
   "metadata": {},
   "outputs": [
    {
     "data": {
      "text/plain": [
       "'홍길동'"
      ]
     },
     "execution_count": 42,
     "metadata": {},
     "output_type": "execute_result"
    },
    {
     "data": {
      "text/plain": [
       "'33'"
      ]
     },
     "execution_count": 42,
     "metadata": {},
     "output_type": "execute_result"
    }
   ],
   "source": [
    "# 각 요소의 값 추출 : key 사용\n",
    "json_obj['name']\n",
    "json_obj['age']"
   ]
  },
  {
   "cell_type": "code",
   "execution_count": 12,
   "id": "54f2868f-2135-4a43-8f73-0f50466f4a46",
   "metadata": {},
   "outputs": [
    {
     "data": {
      "text/plain": [
       "{'fruits': [{'fruit': 'apple'}, {'fruit': 'pear'}, {'fruit': 'banana'}],\n",
       " 'price': [{'price': 1000}, {'price': 2000}, {'price': 3000}]}"
      ]
     },
     "execution_count": 12,
     "metadata": {},
     "output_type": "execute_result"
    }
   ],
   "source": [
    "json_str = '''\n",
    "{\"fruits\":[{\"fruit\":\"apple\"}, {\"fruit\":\"pear\"}, {\"fruit\":\"banana\"}],\n",
    " \"price\":[{\"price\":1000},{\"price\":2000},{\"price\":3000}]\n",
    " }'''\n",
    "\n",
    "# json형식의 문자열을 json 객체로 반환\n",
    "json_obj = json.loads(json_str)\n",
    "json_obj"
   ]
  },
  {
   "cell_type": "code",
   "execution_count": 44,
   "id": "7dc82344-f5cf-4862-bc04-d221a010cd9c",
   "metadata": {},
   "outputs": [
    {
     "data": {
      "text/plain": [
       "[{'fruit': 'apple'}, {'fruit': 'pear'}, {'fruit': 'banana'}]"
      ]
     },
     "execution_count": 44,
     "metadata": {},
     "output_type": "execute_result"
    },
    {
     "data": {
      "text/plain": [
       "[{'fruit': 'apple'}, {'fruit': 'pear'}, {'fruit': 'banana'}]"
      ]
     },
     "execution_count": 44,
     "metadata": {},
     "output_type": "execute_result"
    }
   ],
   "source": [
    "# 변수명 fruits요소 출력\n",
    "json_obj.get('fruits')\n",
    "json_obj['fruits']"
   ]
  },
  {
   "cell_type": "code",
   "execution_count": 45,
   "id": "064b780b-2ecd-4e9a-864f-496f887e33fe",
   "metadata": {},
   "outputs": [
    {
     "data": {
      "text/plain": [
       "{'fruit': 'apple'}"
      ]
     },
     "execution_count": 45,
     "metadata": {},
     "output_type": "execute_result"
    },
    {
     "data": {
      "text/plain": [
       "{'fruit': 'apple'}"
      ]
     },
     "execution_count": 45,
     "metadata": {},
     "output_type": "execute_result"
    }
   ],
   "source": [
    "json_obj.get('fruits')[0]\n",
    "json_obj['fruits'][0]"
   ]
  },
  {
   "cell_type": "code",
   "execution_count": 46,
   "id": "a777a94f-d59b-48b3-85c9-68b2195690c2",
   "metadata": {},
   "outputs": [
    {
     "data": {
      "text/plain": [
       "'apple'"
      ]
     },
     "execution_count": 46,
     "metadata": {},
     "output_type": "execute_result"
    }
   ],
   "source": [
    "# apple 추출\n",
    "json_obj.get('fruits')[0]['fruit']"
   ]
  },
  {
   "cell_type": "code",
   "execution_count": 2,
   "id": "66c243bb-f6b0-456d-99a0-49fa9a2d5948",
   "metadata": {},
   "outputs": [
    {
     "ename": "NameError",
     "evalue": "name 'json_obj' is not defined",
     "output_type": "error",
     "traceback": [
      "\u001b[0;31m---------------------------------------------------------------------------\u001b[0m",
      "\u001b[0;31mNameError\u001b[0m                                 Traceback (most recent call last)",
      "Cell \u001b[0;32mIn[2], line 1\u001b[0m\n\u001b[0;32m----> 1\u001b[0m \u001b[43mjson_obj\u001b[49m\u001b[38;5;241m.\u001b[39mget(\u001b[38;5;124m'\u001b[39m\u001b[38;5;124mprice\u001b[39m\u001b[38;5;124m'\u001b[39m)[\u001b[38;5;241m0\u001b[39m][\u001b[38;5;124m'\u001b[39m\u001b[38;5;124mprice\u001b[39m\u001b[38;5;124m'\u001b[39m]\n",
      "\u001b[0;31mNameError\u001b[0m: name 'json_obj' is not defined"
     ]
    }
   ],
   "source": [
    "json_obj.get('price')[0]['price']"
   ]
  },
  {
   "cell_type": "code",
   "execution_count": 21,
   "id": "4e7fab13-334b-4c30-955b-f058dd556986",
   "metadata": {},
   "outputs": [
    {
     "name": "stdout",
     "output_type": "stream",
     "text": [
      "apple 1000\n",
      "pear 2000\n",
      "banana 3000\n"
     ]
    }
   ],
   "source": [
    "# 딕셔너리처럼 사용하면 된다.\n",
    "for fruit, price in zip(json_obj['fruits'], json_obj['price']):\n",
    "    print(fruit['fruit'], price['price'])"
   ]
  },
  {
   "cell_type": "markdown",
   "id": "372bc1ea-6458-4676-b8f2-98de9385187b",
   "metadata": {},
   "source": [
    "### JOSN 연습문제 "
   ]
  },
  {
   "cell_type": "code",
   "execution_count": 24,
   "id": "2093ea08-3441-448d-9e4f-f18a789cd706",
   "metadata": {},
   "outputs": [],
   "source": [
    "json_str = '''\n",
    "{\n",
    "\t\"lastBuildDate\":\"Thu, 14 Sep 2023 12:50:30 +0900\",\n",
    "\t\"total\":949667,\n",
    "\t\"start\":1,\n",
    "\t\"display\":10,\n",
    "\t\"items\":[\n",
    "\t\t{\n",
    "\t\t\t\"title\":\"아이폰 사파리 텍스트 찾기 <b>단어<\\/b> <b>검색<\\/b> 방법 정리\",\n",
    "\t\t\t\"link\":\"https:\\/\\/blog.naver.com\\/jhbksgi\\/222982804031\",\n",
    "\t\t\t\"description\":\"아이폰 사파리 크롬 텍스트 찾기 <b>단어<\\/b> <b>검색<\\/b> 방법 정리 글\\/사진 : 곰T 기본적으로 컴퓨터용, 모바일용 Browser에는 '<b>검색<\\/b>' 기능이 있습니다. 그냥 <b>검색<\\/b>(Search)이라고 하면 감이 잘 오지 않을 수 있겠네요. 좀 더... \",\n",
    "\t\t\t\"bloggername\":\"곰T의 IT트러블슈팅\",\n",
    "\t\t\t\"bloggerlink\":\"blog.naver.com\\/jhbksgi\",\n",
    "\t\t\t\"postdate\":\"20230112\"\n",
    "\t\t},\n",
    "\t\t{\n",
    "\t\t\t\"title\":\"영어<b>단어<\\/b> <b>검색<\\/b>은 꼭 구글을 이용하기 네이버영어사전 vs... \",\n",
    "\t\t\t\"link\":\"https:\\/\\/blog.naver.com\\/rhyrhyrhy\\/222923284547\",\n",
    "\t\t\t\"description\":\"leave 의 뜻이라고 <b>검색<\\/b>이 됩니다. 사실 이 <b>단어<\\/b> 한개 뿐만이 아니라, 이런식으로 네이버 포털<b>검색<\\/b>으로 정확한 의미를 찾을 수 없었던 <b>단어<\\/b>들이 더 있었어요. 0 점대 레벨 도서에 나와있는 <b>단어<\\/b>들, 게다가... \",\n",
    "\t\t\t\"bloggername\":\"키즈 영어서점 중고 영어 원서 전문 (ar가입지사)\",\n",
    "\t\t\t\"bloggerlink\":\"blog.naver.com\\/rhyrhyrhy\",\n",
    "\t\t\t\"postdate\":\"20230712\"\n",
    "\t\t},\n",
    "\t\t{\n",
    "\t\t\t\"title\":\"영어 <b>단어<\\/b>로 유튜브 영상 <b>검색<\\/b>해주는 유글리쉬 사용법\",\n",
    "\t\t\t\"link\":\"https:\\/\\/blog.naver.com\\/tepet\\/222697272255\",\n",
    "\t\t\t\"description\":\"있는 분야의 핵심 <b>단어<\\/b>를 입력하면, 그 <b>단어<\\/b>가 사용된 문장이 나와주기 때문에 발음과 주로 함께 사용되는 <b>단어<\\/b>들까지 강제로 영어 공부가 된다. #영어<b>단어<\\/b> #유튜브 #영상<b>검색<\\/b> #유글리쉬 #사용법\",\n",
    "\t\t\t\"bloggername\":\"19%\",\n",
    "\t\t\t\"bloggerlink\":\"blog.naver.com\\/tepet\",\n",
    "\t\t\t\"postdate\":\"20230911\"\n",
    "\t\t}\n",
    "\t]\n",
    "}\n",
    "'''"
   ]
  },
  {
   "cell_type": "code",
   "execution_count": 41,
   "id": "e85d23f4-9282-4f17-aed4-53cb6a635289",
   "metadata": {},
   "outputs": [
    {
     "data": {
      "text/html": [
       "<div>\n",
       "<style scoped>\n",
       "    .dataframe tbody tr th:only-of-type {\n",
       "        vertical-align: middle;\n",
       "    }\n",
       "\n",
       "    .dataframe tbody tr th {\n",
       "        vertical-align: top;\n",
       "    }\n",
       "\n",
       "    .dataframe thead th {\n",
       "        text-align: right;\n",
       "    }\n",
       "</style>\n",
       "<table border=\"1\" class=\"dataframe\">\n",
       "  <thead>\n",
       "    <tr style=\"text-align: right;\">\n",
       "      <th></th>\n",
       "      <th>title</th>\n",
       "      <th>link</th>\n",
       "    </tr>\n",
       "  </thead>\n",
       "  <tbody>\n",
       "    <tr>\n",
       "      <th>0</th>\n",
       "      <td>아이폰 사파리 텍스트 찾기 단어 검색 방법 정리</td>\n",
       "      <td>https://blog.naver.com/jhbksgi/222982804031</td>\n",
       "    </tr>\n",
       "    <tr>\n",
       "      <th>1</th>\n",
       "      <td>영어단어 검색은 꼭 구글을 이용하기 네이버영어사전 vs...</td>\n",
       "      <td>https://blog.naver.com/rhyrhyrhy/222923284547</td>\n",
       "    </tr>\n",
       "    <tr>\n",
       "      <th>2</th>\n",
       "      <td>영어 단어로 유튜브 영상 검색해주는 유글리쉬 사용법</td>\n",
       "      <td>https://blog.naver.com/tepet/222697272255</td>\n",
       "    </tr>\n",
       "  </tbody>\n",
       "</table>\n",
       "</div>"
      ],
      "text/plain": [
       "                                title  \\\n",
       "0          아이폰 사파리 텍스트 찾기 단어 검색 방법 정리   \n",
       "1  영어단어 검색은 꼭 구글을 이용하기 네이버영어사전 vs...    \n",
       "2        영어 단어로 유튜브 영상 검색해주는 유글리쉬 사용법   \n",
       "\n",
       "                                            link  \n",
       "0    https://blog.naver.com/jhbksgi/222982804031  \n",
       "1  https://blog.naver.com/rhyrhyrhy/222923284547  \n",
       "2      https://blog.naver.com/tepet/222697272255  "
      ]
     },
     "execution_count": 41,
     "metadata": {},
     "output_type": "execute_result"
    }
   ],
   "source": [
    "# title과 link추출해서 dataframe으로 생성\n",
    "import pandas as pd\n",
    "json_obj = json.loads(json_str)   \n",
    "\n",
    "titles = []\n",
    "links = [] \n",
    "\n",
    "# <b>없애기 : replace\n",
    "for item in json_obj['items']:\n",
    "    titles.append(item['title'].replace('<b>','').replace('</b>',''))\n",
    "    links.append(item['link'].replace('<b>','').replace('</b>',''))\n",
    "\n",
    "df = pd.DataFrame({'title':titles, 'link':links})\n",
    "df"
   ]
  },
  {
   "cell_type": "code",
   "execution_count": null,
   "id": "5257e5c0-a180-4e1d-8b0d-1cf7d8acbf79",
   "metadata": {},
   "outputs": [],
   "source": []
  }
 ],
 "metadata": {
  "kernelspec": {
   "display_name": "Python 3 (ipykernel)",
   "language": "python",
   "name": "python3"
  },
  "language_info": {
   "codemirror_mode": {
    "name": "ipython",
    "version": 3
   },
   "file_extension": ".py",
   "mimetype": "text/x-python",
   "name": "python",
   "nbconvert_exporter": "python",
   "pygments_lexer": "ipython3",
   "version": "3.11.5"
  }
 },
 "nbformat": 4,
 "nbformat_minor": 5
}
