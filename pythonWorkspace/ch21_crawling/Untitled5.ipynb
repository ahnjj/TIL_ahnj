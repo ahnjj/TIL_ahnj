{
 "cells": [
  {
   "cell_type": "code",
   "execution_count": 3,
   "id": "b67837a0-3221-4ea3-b2f1-ba4bd37a6d60",
   "metadata": {},
   "outputs": [
    {
     "data": {
      "text/plain": [
       "12"
      ]
     },
     "execution_count": 3,
     "metadata": {},
     "output_type": "execute_result"
    }
   ],
   "source": [
    "capacity = [53,45,74,29,63,7,12,58,20,35,10,53,30,97,71,79,9,84,77,26,32,12,13,11,39,67,76,59,68,21,55,3,27,11,67,3,22,33,12,2,47,40,62,74,58,44,42,72,8,75,31,18,6,92,42,14,70,31,33,84,54,7,77,72,95,2,86,51,91,34,53,18,77,32,47,61,87,83,14,62,79,61,75,9,10,48,91,52,81,97,19,63,63,98,48,67,48,32,33,40]\n",
    "rocks = [30,42,45,19,61,5,3,26,5,33,2,39,23,58,50,70,0,75,22,13,4,1,1,11,19,10,46,14,59,5,23,3,24,7,36,2,13,30,11,1,0,40,46,29,9,9,18,34,3,62,1,7,5,19,26,10,24,27,25,15,31,1,52,31,85,0,3,0,8,26,0,9,49,12,45,21,80,7,10,33,31,43,75,9,6,17,4,15,40,70,10,19,59,24,37,29,17,8,7,35]\n",
    "additionalRocks = 10\n",
    "leftRocks = [c-r for c, r in zip(capacity, rocks)]\n",
    "\n",
    "\n",
    "right = sum(leftRocks)\n",
    "left = min(leftRocks)\n",
    "maxbag = 0\n",
    "\n",
    "while left <= right:\n",
    "    mid = (left+right)//2\n",
    "    cur = 0\n",
    "    bag = 0\n",
    "    for leftRock in sorted(leftRocks):\n",
    "        if cur + leftRock <= mid:\n",
    "            cur += leftRock\n",
    "            bag += 1\n",
    "            \n",
    "        else:\n",
    "            break\n",
    "            \n",
    "    if mid > additionalRocks:\n",
    "        right = mid - 1\n",
    "    else:\n",
    "        left = mid + 1\n",
    "        maxbag = max(bag, maxbag)\n",
    "    \n",
    "    \n",
    "maxbag"
   ]
  },
  {
   "cell_type": "code",
   "execution_count": 12,
   "id": "1771d833-df28-4b87-8159-9b4c4303264f",
   "metadata": {},
   "outputs": [
    {
     "data": {
      "text/plain": [
       "1"
      ]
     },
     "execution_count": 12,
     "metadata": {},
     "output_type": "execute_result"
    }
   ],
   "source": [
    "arr = [0,10,5,2]\n",
    "\n",
    "low, high = 0, len(arr) -1 \n",
    "\n",
    "while low<high:\n",
    "    mid = (low+high)//2\n",
    "    if arr[mid-1] < arr[mid] and arr[mid] > arr[mid+1]:\n",
    "        break\n",
    "    elif arr[mid-1] > arr[mid]:\n",
    "        high = mid \n",
    "    elif arr[mid] < arr[mid+1]:\n",
    "        low = mid + 1\n",
    "    \n",
    "mid"
   ]
  }
 ],
 "metadata": {
  "kernelspec": {
   "display_name": "Python 3 (ipykernel)",
   "language": "python",
   "name": "python3"
  },
  "language_info": {
   "codemirror_mode": {
    "name": "ipython",
    "version": 3
   },
   "file_extension": ".py",
   "mimetype": "text/x-python",
   "name": "python",
   "nbconvert_exporter": "python",
   "pygments_lexer": "ipython3",
   "version": "3.11.5"
  }
 },
 "nbformat": 4,
 "nbformat_minor": 5
}
