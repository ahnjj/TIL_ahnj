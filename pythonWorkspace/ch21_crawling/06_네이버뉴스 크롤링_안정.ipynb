{
 "cells": [
  {
   "cell_type": "markdown",
   "id": "8763d79a-59dc-409a-ab54-533e130cb4b8",
   "metadata": {},
   "source": [
    "## 네이버 뉴스 크롤링 최종\n",
    "- 섹션 추출~ sub 페이지 추출\n",
    "#### (1) + (2) + (3)\n",
    "(1) 섹션 메뉴와 섹션별 url 추출      \n",
    "    - section, link  \n",
    "    - section_menu_df  \n",
    "(2) 섹션별 헤드라인(topic) 제목과 url 추출  \n",
    "    - topic, url, section  \n",
    "    - all_topic_df  \n",
    "(3) 섹션 헤드라인별 sub 페이지 기사 내용 추출  \n",
    "    - 언론사, 제목, 날짜/시간, 기사내용, 작성자  \n",
    "    - paper, title, datetime, writing, writer  \n",
    "    - all_sub_news_info_df   "
   ]
  },
  {
   "cell_type": "code",
   "execution_count": 1,
   "id": "108911fa-05ee-4754-acf3-ae1afcd0e5b6",
   "metadata": {},
   "outputs": [],
   "source": [
    "from urllib.request import urlopen\n",
    "import pandas as pd\n",
    "import bs4\n",
    "import requests"
   ]
  },
  {
   "cell_type": "code",
   "execution_count": 2,
   "id": "374ce56c-175a-41e4-b21c-ecd08b3f4877",
   "metadata": {},
   "outputs": [],
   "source": [
    "from IPython.core.interactiveshell import InteractiveShell\n",
    "InteractiveShell.ast_node_interactivity=\"all\""
   ]
  },
  {
   "cell_type": "code",
   "execution_count": 3,
   "id": "10651c7b-15cb-417d-8b18-6b38e4fe0ec9",
   "metadata": {},
   "outputs": [],
   "source": [
    "url = 'https://news.naver.com/'\n",
    "html = urlopen(url)\n",
    "bs_obj = bs4.BeautifulSoup(html, 'html.parser')\n",
    "# bs_obj"
   ]
  },
  {
   "cell_type": "markdown",
   "id": "cf182481-2255-4ae1-bb59-d837504b2bc8",
   "metadata": {},
   "source": [
    "### (1) 네이버 뉴스 섹션 메뉴, url추출"
   ]
  },
  {
   "cell_type": "code",
   "execution_count": 4,
   "id": "b0b85121-baec-4537-90ee-d7982575ee17",
   "metadata": {},
   "outputs": [],
   "source": [
    "ul = bs_obj.find('ul', {'class':'Nlnb_menu_list'})\n",
    "# ul"
   ]
  },
  {
   "cell_type": "code",
   "execution_count": 5,
   "id": "e623c55e-3382-4404-b0d6-b238a02bde1e",
   "metadata": {},
   "outputs": [
    {
     "data": {
      "text/html": [
       "<div>\n",
       "<style scoped>\n",
       "    .dataframe tbody tr th:only-of-type {\n",
       "        vertical-align: middle;\n",
       "    }\n",
       "\n",
       "    .dataframe tbody tr th {\n",
       "        vertical-align: top;\n",
       "    }\n",
       "\n",
       "    .dataframe thead th {\n",
       "        text-align: right;\n",
       "    }\n",
       "</style>\n",
       "<table border=\"1\" class=\"dataframe\">\n",
       "  <thead>\n",
       "    <tr style=\"text-align: right;\">\n",
       "      <th></th>\n",
       "      <th>section</th>\n",
       "      <th>link</th>\n",
       "    </tr>\n",
       "  </thead>\n",
       "  <tbody>\n",
       "    <tr>\n",
       "      <th>0</th>\n",
       "      <td>언론사별</td>\n",
       "      <td>https://news.naver.com/?viewType=pc</td>\n",
       "    </tr>\n",
       "    <tr>\n",
       "      <th>1</th>\n",
       "      <td>정치</td>\n",
       "      <td>https://news.naver.com/main/main.naver?mode=LS...</td>\n",
       "    </tr>\n",
       "    <tr>\n",
       "      <th>2</th>\n",
       "      <td>경제</td>\n",
       "      <td>https://news.naver.com/main/main.naver?mode=LS...</td>\n",
       "    </tr>\n",
       "    <tr>\n",
       "      <th>3</th>\n",
       "      <td>사회</td>\n",
       "      <td>https://news.naver.com/main/main.naver?mode=LS...</td>\n",
       "    </tr>\n",
       "    <tr>\n",
       "      <th>4</th>\n",
       "      <td>생활/문화</td>\n",
       "      <td>https://news.naver.com/main/main.naver?mode=LS...</td>\n",
       "    </tr>\n",
       "    <tr>\n",
       "      <th>5</th>\n",
       "      <td>IT/과학</td>\n",
       "      <td>https://news.naver.com/main/main.naver?mode=LS...</td>\n",
       "    </tr>\n",
       "    <tr>\n",
       "      <th>6</th>\n",
       "      <td>세계</td>\n",
       "      <td>https://news.naver.com/main/main.naver?mode=LS...</td>\n",
       "    </tr>\n",
       "    <tr>\n",
       "      <th>7</th>\n",
       "      <td>랭킹</td>\n",
       "      <td>https://news.naver.com/main/ranking/popularDay...</td>\n",
       "    </tr>\n",
       "    <tr>\n",
       "      <th>8</th>\n",
       "      <td>신문보기</td>\n",
       "      <td>https://news.naver.com/newspaper/home?viewType=pc</td>\n",
       "    </tr>\n",
       "    <tr>\n",
       "      <th>9</th>\n",
       "      <td>오피니언</td>\n",
       "      <td>https://news.naver.com/opinion/home</td>\n",
       "    </tr>\n",
       "    <tr>\n",
       "      <th>10</th>\n",
       "      <td>TV</td>\n",
       "      <td>https://news.naver.com/main/tv/index.naver?mid...</td>\n",
       "    </tr>\n",
       "    <tr>\n",
       "      <th>11</th>\n",
       "      <td>팩트체크</td>\n",
       "      <td>https://news.naver.com/main/factcheck/main.naver</td>\n",
       "    </tr>\n",
       "    <tr>\n",
       "      <th>12</th>\n",
       "      <td>알고리즘 안내</td>\n",
       "      <td>https://media.naver.com/algorithm</td>\n",
       "    </tr>\n",
       "  </tbody>\n",
       "</table>\n",
       "</div>"
      ],
      "text/plain": [
       "    section                                               link\n",
       "0      언론사별                https://news.naver.com/?viewType=pc\n",
       "1        정치  https://news.naver.com/main/main.naver?mode=LS...\n",
       "2        경제  https://news.naver.com/main/main.naver?mode=LS...\n",
       "3        사회  https://news.naver.com/main/main.naver?mode=LS...\n",
       "4     생활/문화  https://news.naver.com/main/main.naver?mode=LS...\n",
       "5     IT/과학  https://news.naver.com/main/main.naver?mode=LS...\n",
       "6        세계  https://news.naver.com/main/main.naver?mode=LS...\n",
       "7        랭킹  https://news.naver.com/main/ranking/popularDay...\n",
       "8      신문보기  https://news.naver.com/newspaper/home?viewType=pc\n",
       "9      오피니언                https://news.naver.com/opinion/home\n",
       "10       TV  https://news.naver.com/main/tv/index.naver?mid...\n",
       "11     팩트체크   https://news.naver.com/main/factcheck/main.naver\n",
       "12  알고리즘 안내                  https://media.naver.com/algorithm"
      ]
     },
     "execution_count": 5,
     "metadata": {},
     "output_type": "execute_result"
    }
   ],
   "source": [
    "# 수집된 데이터로 df구성\n",
    "lis = ul.select('li')\n",
    "\n",
    "section = []\n",
    "link = []\n",
    "\n",
    "# 리스트에 추가\n",
    "for li in lis:\n",
    "    a_tag = li.find('a')\n",
    "    section.append(a_tag.text)\n",
    "    link.append(a_tag['href'])\n",
    "\n",
    "section_menu_df = pd.DataFrame({'section':section, 'link':link})\n",
    "section_menu_df"
   ]
  },
  {
   "cell_type": "markdown",
   "id": "e3dabe75-baad-4411-bdb5-7c8eaf67bbab",
   "metadata": {},
   "source": [
    "### (2) 섹션별 헤드라인(topic) 제목, url 추출"
   ]
  },
  {
   "cell_type": "code",
   "execution_count": 6,
   "id": "8ff3ad89-6b8f-4fb0-9588-1cb4e7b7a622",
   "metadata": {},
   "outputs": [],
   "source": [
    "# 함수로 구성\n",
    "# 섹션과 url 전달 받아서, 헤드라인 topic의 제목, 링크, 섹션 추출하여\n",
    "# 딕셔너리로 만들어 반환하는 함수\n",
    "def get_topic(url, section):\n",
    "    # 접속 및 결과 파싱\n",
    "    headers = {'User-Agent':'Mozilla/5.0 (iPhone; CPU iPhone OS 13_2_3 like Mac OS X) AppleWebKit/605.1.15 (KHTML, like Gecko) Version/13.0.3 Mobile/15E148 Safari/604.1'}\n",
    "    res = requests.get(url, headers=headers)\n",
    "    html = res.text\n",
    "    bs_obj = bs4.BeautifulSoup(html, 'html.parser')\n",
    "\n",
    "    # topic_list 추출\n",
    "    topic_list = bs_obj.findAll('div', {'class':'sh_text'})\n",
    "\n",
    "\n",
    "    # 제목, 링크 추출해서 리스트에 넣기\n",
    "    topic_title = []\n",
    "    topic_link = []\n",
    "\n",
    "    for topic in topic_list:\n",
    "        try:\n",
    "            a = topic.find('a')\n",
    "            topic_title.append(a.text)\n",
    "            topic_link.append(a['href'])\n",
    "        except:\n",
    "            print('오류발생')\n",
    "\n",
    "    # 딕셔너리 만들어서 반환\n",
    "    return ({'topic':topic_title, 'url':topic_link, 'section':section})"
   ]
  },
  {
   "cell_type": "code",
   "execution_count": 7,
   "id": "331c226e-16b3-4374-a830-cc3c111f7d1e",
   "metadata": {},
   "outputs": [],
   "source": [
    "# 모든 섹션에 대한 모든 topic 데이터프레임 생성\n",
    "# 빈 데이터프레임 만들고\n",
    "all_topic_df = pd.DataFrame({\n",
    "    'topic' : [],\n",
    "    'url':[],\n",
    "    'section':[]\n",
    "})\n",
    "\n",
    "for i in range(1,7):\n",
    "    df = pd.DataFrame(get_topic(section_menu_df['link'][i], section_menu_df['section'][i]))\n",
    "    all_topic_df = pd.concat([all_topic_df,df], axis=0, ignore_index=True)\n",
    "# all_topic_df"
   ]
  },
  {
   "cell_type": "markdown",
   "id": "fe880aaa-aaf2-41ca-82bb-bc702f89a175",
   "metadata": {},
   "source": [
    "#### (3) 섹션 헤드라인별 Sub페이지 기사 내용 추출\n",
    "- 언론사, 제목, 날짜/시간, 기사내용, 작성자"
   ]
  },
  {
   "cell_type": "code",
   "execution_count": 8,
   "id": "260a8cc9-f25d-406c-a411-f436dd609f67",
   "metadata": {},
   "outputs": [],
   "source": [
    "# sub 페이지 추출 함수\n",
    "def get_sub_news_info(url):\n",
    "    headers = {'User-Agent':'Mozilla/5.0 (iPhone; CPU iPhone OS 13_2_3 like Mac OS X) AppleWebKit/605.1.15 (KHTML, like Gecko) Version/13.0.3 Mobile/15E148 Safari/604.1'}\n",
    "    # 빈 리스트 생성\n",
    "    paper_list, title_list, datetime_list, writing_list, writer_list = [ [] for _ in range(5) ]\n",
    "    # for _ in range(5) : _ 언더바 - 변수 없이 반복만 수행\n",
    "    \n",
    "    try:\n",
    "        # 접속\n",
    "        res = requests.get(url, headers = headers)\n",
    "        html = res.text\n",
    "        bs_obj = bs4.BeautifulSoup(html, 'html.parser')\n",
    "\n",
    "        # 언론사, 기사제목, 작성 날짜 시간, 기사 내용, 작성자 리스트 생성\n",
    "        paper_list.append(bs_obj.find('a', {'class':'media_end_head_top_logo'}).select_one('img')['title'])\n",
    "        title_list.append(bs_obj.find('div', {'class':'media_end_head_title'}).select_one('span').text)\n",
    "        datetime_list.append(bs_obj.find('span', {'class':'media_end_head_info_datestamp_time _ARTICLE_DATE_TIME'}))\n",
    "        writing_list.append(bs_obj.select_one('#dic_area').text.replace('\\n',''))\n",
    "        writer_list.append(bs_obj.find('span',{'class':'byline_s'}).text)\n",
    "\n",
    "    except:\n",
    "        print('sub_news error occurred!')\n",
    "        \n",
    "\n",
    "    # dictionary로 만들어서 반환\n",
    "    sub_news_dict = {\n",
    "        'paper' : paper_list,\n",
    "        'title' : title_list,\n",
    "        'datetime' : datetime_list,\n",
    "        'writing' : writing_list,\n",
    "        'writer' : writer_list\n",
    "    }\n",
    "    return sub_news_dict\n"
   ]
  },
  {
   "cell_type": "code",
   "execution_count": 9,
   "id": "b8ca096b-6af0-4d29-a565-2b24a03c4e88",
   "metadata": {},
   "outputs": [
    {
     "name": "stdout",
     "output_type": "stream",
     "text": [
      "sub_news error occurred!\n"
     ]
    },
    {
     "ename": "ValueError",
     "evalue": "All arrays must be of the same length",
     "output_type": "error",
     "traceback": [
      "\u001b[0;31m---------------------------------------------------------------------------\u001b[0m",
      "\u001b[0;31mValueError\u001b[0m                                Traceback (most recent call last)",
      "Cell \u001b[0;32mIn[9], line 12\u001b[0m\n\u001b[1;32m     10\u001b[0m \u001b[38;5;66;03m# all_topic_df에 있는 모든 서브 페이지 url전달하고 결과 받아서 최종 데이터프레임으로 저장\u001b[39;00m\n\u001b[1;32m     11\u001b[0m \u001b[38;5;28;01mfor\u001b[39;00m url \u001b[38;5;129;01min\u001b[39;00m all_topic_df[\u001b[38;5;124m'\u001b[39m\u001b[38;5;124murl\u001b[39m\u001b[38;5;124m'\u001b[39m]:\n\u001b[0;32m---> 12\u001b[0m     df \u001b[38;5;241m=\u001b[39m \u001b[43mpd\u001b[49m\u001b[38;5;241;43m.\u001b[39;49m\u001b[43mDataFrame\u001b[49m\u001b[43m(\u001b[49m\u001b[43mget_sub_news_info\u001b[49m\u001b[43m(\u001b[49m\u001b[43murl\u001b[49m\u001b[43m)\u001b[49m\u001b[43m)\u001b[49m\n\u001b[1;32m     13\u001b[0m     all_sub_news_info_df \u001b[38;5;241m=\u001b[39m pd\u001b[38;5;241m.\u001b[39mconcat([all_sub_news_info_df, df], axis\u001b[38;5;241m=\u001b[39m\u001b[38;5;241m0\u001b[39m, ignore_index\u001b[38;5;241m=\u001b[39m\u001b[38;5;28;01mTrue\u001b[39;00m)\n\u001b[1;32m     14\u001b[0m all_sub_news_info_df\n",
      "File \u001b[0;32m/opt/homebrew/Cellar/jupyterlab/4.0.5_1/libexec/lib/python3.11/site-packages/pandas/core/frame.py:736\u001b[0m, in \u001b[0;36mDataFrame.__init__\u001b[0;34m(self, data, index, columns, dtype, copy)\u001b[0m\n\u001b[1;32m    730\u001b[0m     mgr \u001b[38;5;241m=\u001b[39m \u001b[38;5;28mself\u001b[39m\u001b[38;5;241m.\u001b[39m_init_mgr(\n\u001b[1;32m    731\u001b[0m         data, axes\u001b[38;5;241m=\u001b[39m{\u001b[38;5;124m\"\u001b[39m\u001b[38;5;124mindex\u001b[39m\u001b[38;5;124m\"\u001b[39m: index, \u001b[38;5;124m\"\u001b[39m\u001b[38;5;124mcolumns\u001b[39m\u001b[38;5;124m\"\u001b[39m: columns}, dtype\u001b[38;5;241m=\u001b[39mdtype, copy\u001b[38;5;241m=\u001b[39mcopy\n\u001b[1;32m    732\u001b[0m     )\n\u001b[1;32m    734\u001b[0m \u001b[38;5;28;01melif\u001b[39;00m \u001b[38;5;28misinstance\u001b[39m(data, \u001b[38;5;28mdict\u001b[39m):\n\u001b[1;32m    735\u001b[0m     \u001b[38;5;66;03m# GH#38939 de facto copy defaults to False only in non-dict cases\u001b[39;00m\n\u001b[0;32m--> 736\u001b[0m     mgr \u001b[38;5;241m=\u001b[39m \u001b[43mdict_to_mgr\u001b[49m\u001b[43m(\u001b[49m\u001b[43mdata\u001b[49m\u001b[43m,\u001b[49m\u001b[43m \u001b[49m\u001b[43mindex\u001b[49m\u001b[43m,\u001b[49m\u001b[43m \u001b[49m\u001b[43mcolumns\u001b[49m\u001b[43m,\u001b[49m\u001b[43m \u001b[49m\u001b[43mdtype\u001b[49m\u001b[38;5;241;43m=\u001b[39;49m\u001b[43mdtype\u001b[49m\u001b[43m,\u001b[49m\u001b[43m \u001b[49m\u001b[43mcopy\u001b[49m\u001b[38;5;241;43m=\u001b[39;49m\u001b[43mcopy\u001b[49m\u001b[43m,\u001b[49m\u001b[43m \u001b[49m\u001b[43mtyp\u001b[49m\u001b[38;5;241;43m=\u001b[39;49m\u001b[43mmanager\u001b[49m\u001b[43m)\u001b[49m\n\u001b[1;32m    737\u001b[0m \u001b[38;5;28;01melif\u001b[39;00m \u001b[38;5;28misinstance\u001b[39m(data, ma\u001b[38;5;241m.\u001b[39mMaskedArray):\n\u001b[1;32m    738\u001b[0m     \u001b[38;5;28;01mfrom\u001b[39;00m \u001b[38;5;21;01mnumpy\u001b[39;00m\u001b[38;5;21;01m.\u001b[39;00m\u001b[38;5;21;01mma\u001b[39;00m \u001b[38;5;28;01mimport\u001b[39;00m mrecords\n",
      "File \u001b[0;32m/opt/homebrew/Cellar/jupyterlab/4.0.5_1/libexec/lib/python3.11/site-packages/pandas/core/internals/construction.py:503\u001b[0m, in \u001b[0;36mdict_to_mgr\u001b[0;34m(data, index, columns, dtype, typ, copy)\u001b[0m\n\u001b[1;32m    499\u001b[0m     \u001b[38;5;28;01melse\u001b[39;00m:\n\u001b[1;32m    500\u001b[0m         \u001b[38;5;66;03m# dtype check to exclude e.g. range objects, scalars\u001b[39;00m\n\u001b[1;32m    501\u001b[0m         arrays \u001b[38;5;241m=\u001b[39m [x\u001b[38;5;241m.\u001b[39mcopy() \u001b[38;5;28;01mif\u001b[39;00m \u001b[38;5;28mhasattr\u001b[39m(x, \u001b[38;5;124m\"\u001b[39m\u001b[38;5;124mdtype\u001b[39m\u001b[38;5;124m\"\u001b[39m) \u001b[38;5;28;01melse\u001b[39;00m x \u001b[38;5;28;01mfor\u001b[39;00m x \u001b[38;5;129;01min\u001b[39;00m arrays]\n\u001b[0;32m--> 503\u001b[0m \u001b[38;5;28;01mreturn\u001b[39;00m \u001b[43marrays_to_mgr\u001b[49m\u001b[43m(\u001b[49m\u001b[43marrays\u001b[49m\u001b[43m,\u001b[49m\u001b[43m \u001b[49m\u001b[43mcolumns\u001b[49m\u001b[43m,\u001b[49m\u001b[43m \u001b[49m\u001b[43mindex\u001b[49m\u001b[43m,\u001b[49m\u001b[43m \u001b[49m\u001b[43mdtype\u001b[49m\u001b[38;5;241;43m=\u001b[39;49m\u001b[43mdtype\u001b[49m\u001b[43m,\u001b[49m\u001b[43m \u001b[49m\u001b[43mtyp\u001b[49m\u001b[38;5;241;43m=\u001b[39;49m\u001b[43mtyp\u001b[49m\u001b[43m,\u001b[49m\u001b[43m \u001b[49m\u001b[43mconsolidate\u001b[49m\u001b[38;5;241;43m=\u001b[39;49m\u001b[43mcopy\u001b[49m\u001b[43m)\u001b[49m\n",
      "File \u001b[0;32m/opt/homebrew/Cellar/jupyterlab/4.0.5_1/libexec/lib/python3.11/site-packages/pandas/core/internals/construction.py:114\u001b[0m, in \u001b[0;36marrays_to_mgr\u001b[0;34m(arrays, columns, index, dtype, verify_integrity, typ, consolidate)\u001b[0m\n\u001b[1;32m    111\u001b[0m \u001b[38;5;28;01mif\u001b[39;00m verify_integrity:\n\u001b[1;32m    112\u001b[0m     \u001b[38;5;66;03m# figure out the index, if necessary\u001b[39;00m\n\u001b[1;32m    113\u001b[0m     \u001b[38;5;28;01mif\u001b[39;00m index \u001b[38;5;129;01mis\u001b[39;00m \u001b[38;5;28;01mNone\u001b[39;00m:\n\u001b[0;32m--> 114\u001b[0m         index \u001b[38;5;241m=\u001b[39m \u001b[43m_extract_index\u001b[49m\u001b[43m(\u001b[49m\u001b[43marrays\u001b[49m\u001b[43m)\u001b[49m\n\u001b[1;32m    115\u001b[0m     \u001b[38;5;28;01melse\u001b[39;00m:\n\u001b[1;32m    116\u001b[0m         index \u001b[38;5;241m=\u001b[39m ensure_index(index)\n",
      "File \u001b[0;32m/opt/homebrew/Cellar/jupyterlab/4.0.5_1/libexec/lib/python3.11/site-packages/pandas/core/internals/construction.py:677\u001b[0m, in \u001b[0;36m_extract_index\u001b[0;34m(data)\u001b[0m\n\u001b[1;32m    675\u001b[0m lengths \u001b[38;5;241m=\u001b[39m \u001b[38;5;28mlist\u001b[39m(\u001b[38;5;28mset\u001b[39m(raw_lengths))\n\u001b[1;32m    676\u001b[0m \u001b[38;5;28;01mif\u001b[39;00m \u001b[38;5;28mlen\u001b[39m(lengths) \u001b[38;5;241m>\u001b[39m \u001b[38;5;241m1\u001b[39m:\n\u001b[0;32m--> 677\u001b[0m     \u001b[38;5;28;01mraise\u001b[39;00m \u001b[38;5;167;01mValueError\u001b[39;00m(\u001b[38;5;124m\"\u001b[39m\u001b[38;5;124mAll arrays must be of the same length\u001b[39m\u001b[38;5;124m\"\u001b[39m)\n\u001b[1;32m    679\u001b[0m \u001b[38;5;28;01mif\u001b[39;00m have_dicts:\n\u001b[1;32m    680\u001b[0m     \u001b[38;5;28;01mraise\u001b[39;00m \u001b[38;5;167;01mValueError\u001b[39;00m(\n\u001b[1;32m    681\u001b[0m         \u001b[38;5;124m\"\u001b[39m\u001b[38;5;124mMixing dicts with non-Series may lead to ambiguous ordering.\u001b[39m\u001b[38;5;124m\"\u001b[39m\n\u001b[1;32m    682\u001b[0m     )\n",
      "\u001b[0;31mValueError\u001b[0m: All arrays must be of the same length"
     ]
    }
   ],
   "source": [
    "# 빈 데이터 프레임 생성\n",
    "all_sub_news_info_df = pd.DataFrame({\n",
    "    'paper' : [],\n",
    "    'title' : [],\n",
    "    'datetime' : [],\n",
    "    'writing' : [],\n",
    "    'writer' : []\n",
    "})\n",
    "\n",
    "# all_topic_df에 있는 모든 서브 페이지 url전달하고 결과 받아서 최종 데이터프레임으로 저장\n",
    "for url in all_topic_df['url']:\n",
    "    df = pd.DataFrame(get_sub_news_info(url))\n",
    "    all_sub_news_info_df = pd.concat([all_sub_news_info_df, df], axis=0, ignore_index=True)\n",
    "all_sub_news_info_df"
   ]
  },
  {
   "cell_type": "code",
   "execution_count": null,
   "id": "6388a0dc-39af-4ac5-8c70-70be2ac488cb",
   "metadata": {},
   "outputs": [],
   "source": [
    "# 최종 결과 파일로 저장\n",
    "all_sub_news_info_df.to_csv('./crawl_data/naver_sub_news_section.csv', index=0)"
   ]
  },
  {
   "cell_type": "code",
   "execution_count": null,
   "id": "5f199343-7312-44c5-983f-9ffcbb5da9ad",
   "metadata": {},
   "outputs": [],
   "source": [
    "all_sub_news_info_df = pd.read_csv('./crawl_data/naver_sub_news_section.csv')\n",
    "all_sub_news_info_df"
   ]
  }
 ],
 "metadata": {
  "kernelspec": {
   "display_name": "Python 3 (ipykernel)",
   "language": "python",
   "name": "python3"
  },
  "language_info": {
   "codemirror_mode": {
    "name": "ipython",
    "version": 3
   },
   "file_extension": ".py",
   "mimetype": "text/x-python",
   "name": "python",
   "nbconvert_exporter": "python",
   "pygments_lexer": "ipython3",
   "version": "3.11.5"
  }
 },
 "nbformat": 4,
 "nbformat_minor": 5
}
