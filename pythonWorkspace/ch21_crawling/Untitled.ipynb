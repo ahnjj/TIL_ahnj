{
 "cells": [
  {
   "cell_type": "code",
   "execution_count": 2,
   "id": "8eb8af22",
   "metadata": {},
   "outputs": [],
   "source": [
    "from IPython.core.interactiveshell import InteractiveShell\n",
    "InteractiveShell.ast_node_interactivity=\"all\""
   ]
  },
  {
   "cell_type": "code",
   "execution_count": 4,
   "id": "4f14be81",
   "metadata": {},
   "outputs": [],
   "source": [
    "from urllib.request import urlopen\n",
    "import bs4"
   ]
  },
  {
   "cell_type": "markdown",
   "id": "ef855c6c",
   "metadata": {},
   "source": [
    "#### site crawling : http://www.tistory.com/"
   ]
  },
  {
   "cell_type": "code",
   "execution_count": 6,
   "id": "bc980892",
   "metadata": {},
   "outputs": [],
   "source": [
    "url = 'http://www.tistory.com/'\n",
    "html = urlopen(url)\n",
    "bs_obj = bs4.BeautifulSoup(html, 'html.parser')"
   ]
  },
  {
   "cell_type": "code",
   "execution_count": 8,
   "id": "1cba3424",
   "metadata": {},
   "outputs": [],
   "source": [
    "# bs_obj"
   ]
  },
  {
   "cell_type": "code",
   "execution_count": 14,
   "id": "c712bb88",
   "metadata": {},
   "outputs": [
    {
     "data": {
      "text/plain": [
       "<div class=\"gnb_tistory\" id=\"kakaoGnb\" role=\"navigation\">\n",
       "<h2 class=\"screen_out\">서비스 주요 메뉴</h2>\n",
       "<ul class=\"list_gnb\">\n",
       "<li><a class=\"link_gnb\" href=\"/feed\">피드</a></li>\n",
       "<li><a class=\"link_gnb\" href=\"/category\">스토리</a></li>\n",
       "<li><a class=\"link_gnb\" href=\"/skin\">스킨</a></li>\n",
       "<li><a class=\"link_gnb\" href=\"/community\">포럼</a></li>\n",
       "</ul>\n",
       "</div>"
      ]
     },
     "execution_count": 14,
     "metadata": {},
     "output_type": "execute_result"
    }
   ],
   "source": [
    "# 기본 메뉴 박스 추출 : id: kakaoGnb 인 div 태그 추출\n",
    "tistory_menu = bs_obj.find('div', {'id':'kakaoGnb'})\n",
    "tistory_menu"
   ]
  },
  {
   "cell_type": "code",
   "execution_count": 21,
   "id": "5857fee0",
   "metadata": {},
   "outputs": [],
   "source": [
    "ul = bs_obj.find('ul',{'class':'link_gnb'})\n",
    "ul"
   ]
  },
  {
   "cell_type": "code",
   "execution_count": 22,
   "id": "aa838322",
   "metadata": {},
   "outputs": [
    {
     "data": {
      "text/plain": [
       "[<a class=\"link_gnb\" href=\"/feed\">피드</a>,\n",
       " <a class=\"link_gnb\" href=\"/category\">스토리</a>,\n",
       " <a class=\"link_gnb\" href=\"/skin\">스킨</a>,\n",
       " <a class=\"link_gnb\" href=\"/community\">포럼</a>]"
      ]
     },
     "execution_count": 22,
     "metadata": {},
     "output_type": "execute_result"
    }
   ],
   "source": [
    "a_tag = bs_obj.findAll('a',{'class':'link_gnb'})\n",
    "a_tag"
   ]
  },
  {
   "cell_type": "code",
   "execution_count": 25,
   "id": "7563867e",
   "metadata": {},
   "outputs": [
    {
     "name": "stdout",
     "output_type": "stream",
     "text": [
      "[<a class=\"link_gnb\" href=\"/feed\">피드</a>] 피드\n",
      "[<a class=\"link_gnb\" href=\"/category\">스토리</a>] 스토리\n",
      "[<a class=\"link_gnb\" href=\"/skin\">스킨</a>] 스킨\n",
      "[<a class=\"link_gnb\" href=\"/community\">포럼</a>] 포럼\n"
     ]
    }
   ],
   "source": [
    "# 메뉴 항목 추출\n",
    "li_list = tistory_menu.select('li')\n",
    "\n",
    "for li in li_list:\n",
    "    print(li.select('a'), li.text)"
   ]
  },
  {
   "cell_type": "code",
   "execution_count": 28,
   "id": "f15ebe46",
   "metadata": {},
   "outputs": [
    {
     "name": "stdout",
     "output_type": "stream",
     "text": [
      "피드\n",
      "스토리\n",
      "스킨\n",
      "포럼\n"
     ]
    }
   ],
   "source": [
    "# 또는\n",
    "a_tag_list = bs_obj.findAll('a', {'class':'link_gnb'})\n",
    "for a in a_tag_list:\n",
    "    print(a.text)"
   ]
  },
  {
   "cell_type": "code",
   "execution_count": 35,
   "id": "3f46a90c",
   "metadata": {},
   "outputs": [
    {
     "name": "stdout",
     "output_type": "stream",
     "text": [
      "메뉴가 궁금할 땐\n",
      "사용하다 궁금할 땐\n",
      "정책이 궁금할 땐\n",
      "도움이 필요할 땐\n",
      "메뉴가 궁금할 땐\n",
      "사용하다 궁금할 땐\n",
      "정책이 궁금할 땐\n",
      "도움이 필요할 땐\n"
     ]
    }
   ],
   "source": [
    "# footer 메뉴 텍스트만 추출\n",
    "# class wrap_question의 tit_question\n",
    "footer_list = bs_obj.select('.tit_question')\n",
    "for footer in footer_list:\n",
    "    print(footer.text)\n",
    "    \n",
    "\n",
    "# 또는\n",
    "lists = bs_obj.findAll('span', {'class':'tit_question'})\n",
    "for list in lists:\n",
    "    print(list.text)"
   ]
  },
  {
   "cell_type": "markdown",
   "id": "d91bdc8e",
   "metadata": {},
   "source": [
    "## Naver News section 별 url"
   ]
  },
  {
   "cell_type": "code",
   "execution_count": 37,
   "id": "6f5a269a",
   "metadata": {},
   "outputs": [],
   "source": [
    "# site 연결 , HTML 파싱"
   ]
  },
  {
   "cell_type": "code",
   "execution_count": 42,
   "id": "e40dc629",
   "metadata": {},
   "outputs": [],
   "source": [
    "url = 'https://news.naver.com/'\n",
    "html = urlopen(url)\n",
    "bs_obj = bs4.BeautifulSoup(html, 'html.parser')"
   ]
  },
  {
   "cell_type": "code",
   "execution_count": 51,
   "id": "8a0cc3e1",
   "metadata": {},
   "outputs": [],
   "source": [
    "# bs_obj"
   ]
  },
  {
   "cell_type": "code",
   "execution_count": 80,
   "id": "47fc7a33",
   "metadata": {},
   "outputs": [],
   "source": [
    "# .Nlist_menu_list .Nlist_item\n",
    "\n",
    "ul = bs_obj.select('ul.Nlnb_menu_list')"
   ]
  },
  {
   "cell_type": "code",
   "execution_count": 82,
   "id": "e219253b",
   "metadata": {},
   "outputs": [
    {
     "data": {
      "text/plain": [
       "13"
      ]
     },
     "execution_count": 82,
     "metadata": {},
     "output_type": "execute_result"
    }
   ],
   "source": [
    "# 언론사별  : 링크\n",
    "ul = bs_obj.find('ul', {'class':'Nlnb_menu_list'})\n",
    "li_list = ul.findAll('li')\n",
    "len(li_list)\n"
   ]
  },
  {
   "cell_type": "code",
   "execution_count": 83,
   "id": "191398f4",
   "metadata": {},
   "outputs": [
    {
     "name": "stdout",
     "output_type": "stream",
     "text": [
      "언론사별 : https://news.naver.com/?viewType=pc\n",
      "정치 : https://news.naver.com/main/main.naver?mode=LSD&mid=shm&sid1=100\n",
      "경제 : https://news.naver.com/main/main.naver?mode=LSD&mid=shm&sid1=101\n",
      "사회 : https://news.naver.com/main/main.naver?mode=LSD&mid=shm&sid1=102\n",
      "생활/문화 : https://news.naver.com/main/main.naver?mode=LSD&mid=shm&sid1=103\n",
      "IT/과학 : https://news.naver.com/main/main.naver?mode=LSD&mid=shm&sid1=105\n",
      "세계 : https://news.naver.com/main/main.naver?mode=LSD&mid=shm&sid1=104\n",
      "랭킹 : https://news.naver.com/main/ranking/popularDay.naver\n",
      "신문보기 : https://news.naver.com/newspaper/home?viewType=pc\n",
      "오피니언 : https://news.naver.com/opinion/home\n",
      "TV : https://news.naver.com/main/tv/index.naver?mid=tvh\n",
      "팩트체크 : https://news.naver.com/main/factcheck/main.naver\n",
      "알고리즘 안내 : https://media.naver.com/algorithm\n"
     ]
    }
   ],
   "source": [
    "for li in li_list:\n",
    "    a_tag = li.find('a')\n",
    "    print(a_tag.text, ':', a_tag['href'])"
   ]
  },
  {
   "cell_type": "code",
   "execution_count": 72,
   "id": "d02d233b",
   "metadata": {},
   "outputs": [
    {
     "name": "stdout",
     "output_type": "stream",
     "text": [
      "언론사별 https://news.naver.com/?viewType=pc\n",
      "정치 https://news.naver.com/main/main.naver?mode=LSD&mid=shm&sid1=100\n",
      "경제 https://news.naver.com/main/main.naver?mode=LSD&mid=shm&sid1=101\n",
      "사회 https://news.naver.com/main/main.naver?mode=LSD&mid=shm&sid1=102\n",
      "생활/문화 https://news.naver.com/main/main.naver?mode=LSD&mid=shm&sid1=103\n",
      "IT/과학 https://news.naver.com/main/main.naver?mode=LSD&mid=shm&sid1=105\n",
      "세계 https://news.naver.com/main/main.naver?mode=LSD&mid=shm&sid1=104\n",
      "랭킹 https://news.naver.com/main/ranking/popularDay.naver\n",
      "신문보기 https://news.naver.com/newspaper/home?viewType=pc\n",
      "오피니언 https://news.naver.com/opinion/home\n",
      "TV https://news.naver.com/main/tv/index.naver?mid=tvh\n",
      "팩트체크 https://news.naver.com/main/factcheck/main.naver\n",
      "알고리즘 안내 https://media.naver.com/algorithm\n"
     ]
    }
   ],
   "source": [
    "# 또는...\n",
    "menu = bs_obj.findAll('span',{'class':'Nitem_link_menu'})\n",
    "link = bs_obj.findAll('a', {'class':'Nitem_link'})\n",
    "\n",
    "for i in range(len(link)):\n",
    "    print(menu[i].text, link[i]['href'])"
   ]
  },
  {
   "cell_type": "markdown",
   "id": "20157730",
   "metadata": {},
   "source": []
  },
  {
   "cell_type": "code",
   "execution_count": null,
   "id": "84b5cb79",
   "metadata": {},
   "outputs": [],
   "source": [
    "# 수집한 데이터를 csv 파일로 저장\n",
    "# (1) 섹션 메뉴와 링크를 리스트로 생성\n",
    "# (2) 데이터프레임 생성\n",
    "# (3) 파일로 저장"
   ]
  },
  {
   "cell_type": "code",
   "execution_count": 94,
   "id": "9d4d1d66",
   "metadata": {},
   "outputs": [],
   "source": [
    "# (1)섹션 메뉴와 링크를 리스트로 생성\n",
    "section = []\n",
    "link = []\n",
    "\n",
    "for li in li_list:\n",
    "    a_tag = li.find('a')\n",
    "    section.append(a_tag.text)\n",
    "    link.append(a_tag['href'])"
   ]
  },
  {
   "cell_type": "code",
   "execution_count": 95,
   "id": "635f484e",
   "metadata": {},
   "outputs": [
    {
     "data": {
      "text/plain": [
       "['언론사별',\n",
       " '정치',\n",
       " '경제',\n",
       " '사회',\n",
       " '생활/문화',\n",
       " 'IT/과학',\n",
       " '세계',\n",
       " '랭킹',\n",
       " '신문보기',\n",
       " '오피니언',\n",
       " 'TV',\n",
       " '팩트체크',\n",
       " '알고리즘 안내']"
      ]
     },
     "execution_count": 95,
     "metadata": {},
     "output_type": "execute_result"
    },
    {
     "data": {
      "text/plain": [
       "['https://news.naver.com/?viewType=pc',\n",
       " 'https://news.naver.com/main/main.naver?mode=LSD&mid=shm&sid1=100',\n",
       " 'https://news.naver.com/main/main.naver?mode=LSD&mid=shm&sid1=101',\n",
       " 'https://news.naver.com/main/main.naver?mode=LSD&mid=shm&sid1=102',\n",
       " 'https://news.naver.com/main/main.naver?mode=LSD&mid=shm&sid1=103',\n",
       " 'https://news.naver.com/main/main.naver?mode=LSD&mid=shm&sid1=105',\n",
       " 'https://news.naver.com/main/main.naver?mode=LSD&mid=shm&sid1=104',\n",
       " 'https://news.naver.com/main/ranking/popularDay.naver',\n",
       " 'https://news.naver.com/newspaper/home?viewType=pc',\n",
       " 'https://news.naver.com/opinion/home',\n",
       " 'https://news.naver.com/main/tv/index.naver?mid=tvh',\n",
       " 'https://news.naver.com/main/factcheck/main.naver',\n",
       " 'https://media.naver.com/algorithm']"
      ]
     },
     "execution_count": 95,
     "metadata": {},
     "output_type": "execute_result"
    }
   ],
   "source": [
    "section\n",
    "link"
   ]
  },
  {
   "cell_type": "code",
   "execution_count": 96,
   "id": "93ad5cf7",
   "metadata": {},
   "outputs": [],
   "source": [
    "# (2) 데이터프레임 생성\n",
    "# pandas 라이브러리 사용\n",
    "import pandas as pd"
   ]
  },
  {
   "cell_type": "code",
   "execution_count": 97,
   "id": "4232d41d",
   "metadata": {},
   "outputs": [
    {
     "data": {
      "text/html": [
       "<div>\n",
       "<style scoped>\n",
       "    .dataframe tbody tr th:only-of-type {\n",
       "        vertical-align: middle;\n",
       "    }\n",
       "\n",
       "    .dataframe tbody tr th {\n",
       "        vertical-align: top;\n",
       "    }\n",
       "\n",
       "    .dataframe thead th {\n",
       "        text-align: right;\n",
       "    }\n",
       "</style>\n",
       "<table border=\"1\" class=\"dataframe\">\n",
       "  <thead>\n",
       "    <tr style=\"text-align: right;\">\n",
       "      <th></th>\n",
       "      <th>section</th>\n",
       "      <th>link</th>\n",
       "    </tr>\n",
       "  </thead>\n",
       "  <tbody>\n",
       "    <tr>\n",
       "      <th>0</th>\n",
       "      <td>언론사별</td>\n",
       "      <td>https://news.naver.com/?viewType=pc</td>\n",
       "    </tr>\n",
       "    <tr>\n",
       "      <th>1</th>\n",
       "      <td>정치</td>\n",
       "      <td>https://news.naver.com/main/main.naver?mode=LS...</td>\n",
       "    </tr>\n",
       "    <tr>\n",
       "      <th>2</th>\n",
       "      <td>경제</td>\n",
       "      <td>https://news.naver.com/main/main.naver?mode=LS...</td>\n",
       "    </tr>\n",
       "    <tr>\n",
       "      <th>3</th>\n",
       "      <td>사회</td>\n",
       "      <td>https://news.naver.com/main/main.naver?mode=LS...</td>\n",
       "    </tr>\n",
       "    <tr>\n",
       "      <th>4</th>\n",
       "      <td>생활/문화</td>\n",
       "      <td>https://news.naver.com/main/main.naver?mode=LS...</td>\n",
       "    </tr>\n",
       "    <tr>\n",
       "      <th>5</th>\n",
       "      <td>IT/과학</td>\n",
       "      <td>https://news.naver.com/main/main.naver?mode=LS...</td>\n",
       "    </tr>\n",
       "    <tr>\n",
       "      <th>6</th>\n",
       "      <td>세계</td>\n",
       "      <td>https://news.naver.com/main/main.naver?mode=LS...</td>\n",
       "    </tr>\n",
       "    <tr>\n",
       "      <th>7</th>\n",
       "      <td>랭킹</td>\n",
       "      <td>https://news.naver.com/main/ranking/popularDay...</td>\n",
       "    </tr>\n",
       "    <tr>\n",
       "      <th>8</th>\n",
       "      <td>신문보기</td>\n",
       "      <td>https://news.naver.com/newspaper/home?viewType=pc</td>\n",
       "    </tr>\n",
       "    <tr>\n",
       "      <th>9</th>\n",
       "      <td>오피니언</td>\n",
       "      <td>https://news.naver.com/opinion/home</td>\n",
       "    </tr>\n",
       "    <tr>\n",
       "      <th>10</th>\n",
       "      <td>TV</td>\n",
       "      <td>https://news.naver.com/main/tv/index.naver?mid...</td>\n",
       "    </tr>\n",
       "    <tr>\n",
       "      <th>11</th>\n",
       "      <td>팩트체크</td>\n",
       "      <td>https://news.naver.com/main/factcheck/main.naver</td>\n",
       "    </tr>\n",
       "    <tr>\n",
       "      <th>12</th>\n",
       "      <td>알고리즘 안내</td>\n",
       "      <td>https://media.naver.com/algorithm</td>\n",
       "    </tr>\n",
       "  </tbody>\n",
       "</table>\n",
       "</div>"
      ],
      "text/plain": [
       "    section                                               link\n",
       "0      언론사별                https://news.naver.com/?viewType=pc\n",
       "1        정치  https://news.naver.com/main/main.naver?mode=LS...\n",
       "2        경제  https://news.naver.com/main/main.naver?mode=LS...\n",
       "3        사회  https://news.naver.com/main/main.naver?mode=LS...\n",
       "4     생활/문화  https://news.naver.com/main/main.naver?mode=LS...\n",
       "5     IT/과학  https://news.naver.com/main/main.naver?mode=LS...\n",
       "6        세계  https://news.naver.com/main/main.naver?mode=LS...\n",
       "7        랭킹  https://news.naver.com/main/ranking/popularDay...\n",
       "8      신문보기  https://news.naver.com/newspaper/home?viewType=pc\n",
       "9      오피니언                https://news.naver.com/opinion/home\n",
       "10       TV  https://news.naver.com/main/tv/index.naver?mid...\n",
       "11     팩트체크   https://news.naver.com/main/factcheck/main.naver\n",
       "12  알고리즘 안내                  https://media.naver.com/algorithm"
      ]
     },
     "execution_count": 97,
     "metadata": {},
     "output_type": "execute_result"
    }
   ],
   "source": [
    "news_section_df = pd.DataFrame({'section':section, 'link':link})\n",
    "news_section_df"
   ]
  },
  {
   "cell_type": "code",
   "execution_count": 98,
   "id": "5f6b4d7b",
   "metadata": {},
   "outputs": [],
   "source": [
    "# (3) 파일로 저장\n",
    "# ch21_crawling 폴더 안에 crawl_data 폴더 생성\n",
    "# 데이터프레임.to_csv('파일경로 및 파일명', index=0)"
   ]
  },
  {
   "cell_type": "code",
   "execution_count": 105,
   "id": "547d304e",
   "metadata": {},
   "outputs": [],
   "source": [
    "news_section_df.to_csv('./crawl_data/naver_news_section.csv')"
   ]
  }
 ],
 "metadata": {
  "kernelspec": {
   "display_name": "Python 3 (ipykernel)",
   "language": "python",
   "name": "python3"
  },
  "language_info": {
   "codemirror_mode": {
    "name": "ipython",
    "version": 3
   },
   "file_extension": ".py",
   "mimetype": "text/x-python",
   "name": "python",
   "nbconvert_exporter": "python",
   "pygments_lexer": "ipython3",
   "version": "3.10.9"
  }
 },
 "nbformat": 4,
 "nbformat_minor": 5
}
