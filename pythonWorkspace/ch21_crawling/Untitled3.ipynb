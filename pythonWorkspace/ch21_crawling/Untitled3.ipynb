{
 "cells": [
  {
   "cell_type": "code",
   "execution_count": 41,
   "id": "11afbf57-09e0-449e-8f12-9cffd264418a",
   "metadata": {},
   "outputs": [],
   "source": [
    "# nums = [4,5,2,1]\n",
    "# queries = [3,10,21]\n",
    "nums = [2,3,4,5]\n",
    "queries = [1]"
   ]
  },
  {
   "cell_type": "code",
   "execution_count": 43,
   "id": "36345db0-faca-4d10-b955-4fed826933f9",
   "metadata": {},
   "outputs": [
    {
     "name": "stdout",
     "output_type": "stream",
     "text": [
      "0 break\n"
     ]
    },
    {
     "data": {
      "text/plain": [
       "[0]"
      ]
     },
     "execution_count": 43,
     "metadata": {},
     "output_type": "execute_result"
    }
   ],
   "source": [
    "nums.sort()\n",
    "ans = []\n",
    "\n",
    "for q in queries:\n",
    "    length = i = 0\n",
    "    target = q\n",
    "    # cur = nums[0]\n",
    "    cur = 0\n",
    "    \n",
    "    while i < len(nums):\n",
    "        cur += nums[i]\n",
    "        if cur <= target:\n",
    "            length += 1\n",
    "            # i += 1\n",
    "            # cur += nums[i]\n",
    "        else:\n",
    "            print(i, 'break')\n",
    "            break\n",
    "        i += 1\n",
    "        print(cur)\n",
    "        \n",
    "    ans.append(length)\n",
    "\n",
    "ans\n"
   ]
  },
  {
   "cell_type": "code",
   "execution_count": 50,
   "id": "6b17601f-dab6-498f-893e-2895c233f69f",
   "metadata": {},
   "outputs": [
    {
     "data": {
      "text/plain": [
       "[9, 4]"
      ]
     },
     "execution_count": 50,
     "metadata": {},
     "output_type": "execute_result"
    }
   ],
   "source": [
    "nums1 = [4,9,5]\n",
    "nums2 = [9,4,9,8,4]\n",
    "\n",
    "nums1 = set(nums1)\n",
    "nums2 = set(nums2)\n",
    "list(nums1&nums2)\n"
   ]
  },
  {
   "cell_type": "code",
   "execution_count": 62,
   "id": "925cb0fe-64fe-4b0e-8ef5-98c01a3ffa53",
   "metadata": {},
   "outputs": [
    {
     "name": "stdout",
     "output_type": "stream",
     "text": [
      "[2]\n"
     ]
    }
   ],
   "source": [
    "nums1 = [1,2,2,1]\n",
    "nums2 = [2,2]\n",
    "nums1.sort()\n",
    "nums2.sort()\n",
    "\n",
    "def search(arr,target):\n",
    "    l,r = 0, len(arr)-1\n",
    "    \n",
    "    while l<=r:\n",
    "        m = (l+r)//2\n",
    "        if arr[m] > target:\n",
    "            r = m - 1\n",
    "        elif arr[m] < target:\n",
    "            l = m + 1\n",
    "        else:\n",
    "            return True\n",
    "    return False\n",
    "\n",
    "def result(arr1, arr2):\n",
    "    ans = []\n",
    "    for target in arr1:\n",
    "        if search(arr2,target) and target not in ans:\n",
    "            ans.append(target)\n",
    "    return ans\n",
    "\n",
    "if len(nums1) > len(nums2):\n",
    "    print(result(nums2,nums1))\n",
    "else:\n",
    "    print(result(nums1,nums2))"
   ]
  },
  {
   "cell_type": "code",
   "execution_count": 86,
   "id": "8d89565d-6ecd-424e-9267-799e06b79c1f",
   "metadata": {},
   "outputs": [
    {
     "name": "stdout",
     "output_type": "stream",
     "text": [
      "[5, 4]\n"
     ]
    }
   ],
   "source": [
    "aliceSizes = [1,2,5]\n",
    "bobSizes = [2,4]\n",
    "output = []\n",
    "\n",
    "s1 = sum(aliceSizes)\n",
    "s2 = sum(bobSizes)\n",
    "\n",
    "\n",
    "# box1 : \n",
    "# box2 :  box1 -(s1-s2)/2\n",
    "\n",
    "def binary_search(A, B):\n",
    "    # s1 = sum(A)\n",
    "    # s2 = sum(B)\n",
    "    B.sort()\n",
    "\n",
    "    for box1 in A:\n",
    "        l, r = 0, len(B)-1\n",
    "        box2 = (2 * box1 + abs(s2 - s1))//2\n",
    "        while l<=r:\n",
    "            m = (l+r)//2\n",
    "            if B[m] > box2:\n",
    "                r = m - 1\n",
    "            elif B[m] < box2:\n",
    "                l = m + 1\n",
    "            else:\n",
    "       \n",
    "                return [box1, box2]\n",
    "\n",
    "if s1 > s2:\n",
    "    output = binary_search(bobSizes, aliceSizes)\n",
    "    print(output[::-1])\n",
    "else:\n",
    "    print(binary_search(aliceSizes, bobSizes))\n",
    "\n"
   ]
  },
  {
   "cell_type": "code",
   "execution_count": 88,
   "id": "c94dc9a7-de39-4736-9698-be6dc0e85772",
   "metadata": {},
   "outputs": [
    {
     "ename": "SyntaxError",
     "evalue": "'return' outside function (2825759685.py, line 19)",
     "output_type": "error",
     "traceback": [
      "\u001b[0;36m  Cell \u001b[0;32mIn[88], line 19\u001b[0;36m\u001b[0m\n\u001b[0;31m    return [alice_change, bob_change]\u001b[0m\n\u001b[0m    ^\u001b[0m\n\u001b[0;31mSyntaxError\u001b[0m\u001b[0;31m:\u001b[0m 'return' outside function\n"
     ]
    }
   ],
   "source": [
    "aliceSizes = [1,2,5]\n",
    "bobSizes = [2,4]\n",
    "\n",
    "aliceSizes.sort()\n",
    "bobSizes.sort()\n",
    "\n",
    "alice = sum(aliceSizes)\n",
    "bob = sum(bobSizes)\n",
    "\n",
    "for alice_change in aliceSizes:\n",
    "    bl, br = 0, len(bobSizes)-1\n",
    "    while bl <= br:\n",
    "        bm = bl + (br-bl)//2\n",
    "        bob_change = bob[bm]\n",
    "        new_alice = alice - alice_change + bob_change\n",
    "        new_bob = bob - bob_change + alice_change\n",
    "\n",
    "        if new_alice == new_bob:\n",
    "            return [alice_change, bob_change]\n",
    "        elif new_alice > new_bob:\n",
    "            br = bm - 1\n",
    "        elif new_alice < new_bob:\n",
    "            bl = bm + 1\n",
    "        "
   ]
  },
  {
   "cell_type": "code",
   "execution_count": 98,
   "id": "59ed7a29-3697-43de-ac25-efb5739c4dbf",
   "metadata": {},
   "outputs": [
    {
     "data": {
      "text/plain": [
       "2"
      ]
     },
     "execution_count": 98,
     "metadata": {},
     "output_type": "execute_result"
    }
   ],
   "source": [
    "nums = [0,1]\n",
    "\n",
    "# sort to initialize binary search\n",
    "nums.sort()\n",
    "n = len(nums)\n",
    "l, r = 0, n-1\n",
    "\n",
    "while l <= r:\n",
    "    m = (l+r)//2\n",
    "    if nums[m] == m :\n",
    "        l = m + 1\n",
    "    else:\n",
    "        r = m - 1\n",
    "l\n",
    "    "
   ]
  }
 ],
 "metadata": {
  "kernelspec": {
   "display_name": "Python 3 (ipykernel)",
   "language": "python",
   "name": "python3"
  },
  "language_info": {
   "codemirror_mode": {
    "name": "ipython",
    "version": 3
   },
   "file_extension": ".py",
   "mimetype": "text/x-python",
   "name": "python",
   "nbconvert_exporter": "python",
   "pygments_lexer": "ipython3",
   "version": "3.11.5"
  }
 },
 "nbformat": 4,
 "nbformat_minor": 5
}
