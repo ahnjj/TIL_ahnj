{
 "cells": [
  {
   "cell_type": "markdown",
   "id": "39e5da9b-aaf7-40a0-81d9-246fc9a1f4dc",
   "metadata": {},
   "source": [
    "# 서울시 주유소 가격 정보 엑셀 파일 자동 다운로드\n",
    "- XPATH \n",
    "- XML Path Language\n",
    "- XML 문서의 특정 요소 속성에 접근하기 위한 경로를 지정하는 언어\n",
    "- XPATH 식 : 경로식 사용, 수학함수 기타 확장 가능한 표현(기호) 사용"
   ]
  },
  {
   "cell_type": "markdown",
   "id": "a3e44bd4-861f-4d09-af9a-2d29ec62392b",
   "metadata": {},
   "source": [
    "## Opinet 사이트\n",
    "https://www.opinet.co.kr/user/main/mainView.do\n",
    "주유소의 가격을 비교하는 사이트"
   ]
  },
  {
   "cell_type": "markdown",
   "id": "b23d8fe6-7cc7-4606-b0cd-2684222c3106",
   "metadata": {},
   "source": [
    "- 메뉴에서 [싼 주유소 찾기] / [지역별] 이 페이지부터 시작\n",
    "- https://www.opinet.co.kr/searRgSelect.do\n",
    "- 접속한 지역으로 자동 설정됨\n",
    "- 지역을 [서울]로 선택"
   ]
  },
  {
   "cell_type": "code",
   "execution_count": 1,
   "id": "41b70110-d584-4d91-b9cc-411cfb934c07",
   "metadata": {},
   "outputs": [],
   "source": [
    "from IPython.core.interactiveshell import InteractiveShell\n",
    "InteractiveShell.ast_node_interactivity=\"all\""
   ]
  },
  {
   "cell_type": "code",
   "execution_count": 2,
   "id": "ebe8cc65-9995-433a-ba5f-900e45f52df2",
   "metadata": {},
   "outputs": [],
   "source": [
    "from urllib.request import urlopen\n",
    "import bs4\n",
    "import pandas as pd"
   ]
  },
  {
   "cell_type": "code",
   "execution_count": 3,
   "id": "3e03ae3f-f789-45c6-9b1d-0196f11af47a",
   "metadata": {},
   "outputs": [],
   "source": [
    "import selenium\n",
    "from selenium import webdriver\n",
    "from selenium.webdriver.common.by import By # 셀레니움 4.0부터 포함된 객체(모듈)\n",
    "\n",
    "from selenium.webdriver.chrome.service import Service\n",
    "from webdriver_manager.chrome import ChromeDriverManager"
   ]
  },
  {
   "cell_type": "code",
   "execution_count": 4,
   "id": "8c16a1a0-6ad7-4ce6-9f33-2de272955920",
   "metadata": {
    "scrolled": true
   },
   "outputs": [],
   "source": [
    "# (1) webdriver 객체 생성 \n",
    "chrome_options = webdriver.ChromeOptions()\n",
    "driver = webdriver.Chrome(service=Service(ChromeDriverManager().install()), options=chrome_options)"
   ]
  },
  {
   "cell_type": "code",
   "execution_count": 5,
   "id": "b4006141-aaae-4077-b159-c7ca7b436239",
   "metadata": {},
   "outputs": [],
   "source": [
    "# (2) 페이지 접속\n",
    "# 현재 접속한 위치 인식해서 서울로 들어감 - 다른 지역에서 접속시 페이지 열리면 강남구 선택\n",
    "url = 'https://www.opinet.co.kr/searRgSelect.do'\n",
    "driver.get(url)"
   ]
  },
  {
   "cell_type": "code",
   "execution_count": null,
   "id": "cb94cea7-bcec-4639-a711-3253567dc4a4",
   "metadata": {},
   "outputs": [],
   "source": [
    "# XPATH 값 복사하기\n",
    "# developer tools 열고 [강남구] 태그 선택\n",
    "# 코드에서 태그부분 우클릭 / copy / copy Xpath"
   ]
  },
  {
   "cell_type": "code",
   "execution_count": 10,
   "id": "a8b08c11-6e57-434a-a5a5-369706dd53c3",
   "metadata": {},
   "outputs": [],
   "source": [
    "# Xpath : //*[@id=\"SIGUNGU_NM0\"]\n",
    "# Xpath 사용\n",
    "xpath = '//*[@id=\"SIGUNGU_NM0\"]'\n",
    "gu_list_raw = driver.find_element(By.XPATH, xpath)\n",
    "# gu_list_raw\n",
    "\n",
    "gu_list = gu_list_raw.find_elements(By.TAG_NAME, 'option') \n",
    "# gu_list # element - driver 객체 반환"
   ]
  },
  {
   "cell_type": "code",
   "execution_count": 11,
   "id": "4455be77-cfa1-49e8-b31e-2fd5dbedc659",
   "metadata": {
    "scrolled": true
   },
   "outputs": [
    {
     "data": {
      "text/plain": [
       "['강남구',\n",
       " '강동구',\n",
       " '강북구',\n",
       " '강서구',\n",
       " '관악구',\n",
       " '광진구',\n",
       " '구로구',\n",
       " '금천구',\n",
       " '노원구',\n",
       " '도봉구',\n",
       " '동대문구',\n",
       " '동작구',\n",
       " '마포구',\n",
       " '서대문구',\n",
       " '서초구',\n",
       " '성동구',\n",
       " '성북구',\n",
       " '송파구',\n",
       " '양천구',\n",
       " '영등포구',\n",
       " '용산구',\n",
       " '은평구',\n",
       " '종로구',\n",
       " '중구',\n",
       " '중랑구']"
      ]
     },
     "execution_count": 11,
     "metadata": {},
     "output_type": "execute_result"
    }
   ],
   "source": [
    "# 구 이름 추출 \n",
    "# <select> 태그 내의 <option> 태그의 value속성\n",
    "# element 에서 속성값 추출\n",
    "\n",
    "gu_name_list = [opt.get_attribute('value') for  opt in gu_list ]\n",
    "gu_name_list.remove('')\n",
    "gu_name_list"
   ]
  },
  {
   "cell_type": "code",
   "execution_count": 8,
   "id": "82902b97-ec42-4665-9ed8-87f7b47f84f0",
   "metadata": {},
   "outputs": [
    {
     "ename": "NameError",
     "evalue": "name 'gu_name_list' is not defined",
     "output_type": "error",
     "traceback": [
      "\u001b[0;31m---------------------------------------------------------------------------\u001b[0m",
      "\u001b[0;31mNameError\u001b[0m                                 Traceback (most recent call last)",
      "Cell \u001b[0;32mIn[8], line 11\u001b[0m\n\u001b[1;32m      5\u001b[0m sigungu_sel \u001b[38;5;241m=\u001b[39m driver\u001b[38;5;241m.\u001b[39mfind_element(By\u001b[38;5;241m.\u001b[39mID, \u001b[38;5;124m'\u001b[39m\u001b[38;5;124mSIGUNGU_NM0\u001b[39m\u001b[38;5;124m'\u001b[39m) \u001b[38;5;66;03m# 첫번째 강남구\u001b[39;00m\n\u001b[1;32m      7\u001b[0m \u001b[38;5;66;03m# option tag 의 value값을 가져와서\u001b[39;00m\n\u001b[1;32m      8\u001b[0m \u001b[38;5;66;03m# send_keys(구이름) 메소드 호출하면서 전달\u001b[39;00m\n\u001b[1;32m      9\u001b[0m \u001b[38;5;66;03m# 입력값에 해당되는 화면으로 전환되고 전환된 화면에 바뀐 데이터 출력\u001b[39;00m\n\u001b[0;32m---> 11\u001b[0m sigungu_sel\u001b[38;5;241m.\u001b[39msend_keys(\u001b[43mgu_name_list\u001b[49m[\u001b[38;5;241m2\u001b[39m])   \u001b[38;5;66;03m# 강북구 값 전달 -> 실행하면 강북구 옵션으로 바뀌어서 웹 바뀜\u001b[39;00m\n\u001b[1;32m     13\u001b[0m \u001b[38;5;66;03m# 인덱스 숫자 변경하면 해당구 지도로 자동 변경됨(열린 페이지가)\u001b[39;00m\n\u001b[1;32m     14\u001b[0m \u001b[38;5;66;03m# send_keys() : 값을 전달해서 웹 브라우저 내용을 동적으로 변경하는 메소드 \u001b[39;00m\n",
      "\u001b[0;31mNameError\u001b[0m: name 'gu_name_list' is not defined"
     ]
    }
   ],
   "source": [
    "# 테스트 : \n",
    "# 현재 강남구 설정해둠\n",
    "# gu_name_list에 있는 구 이름에 해당되는 페이지가 동적으로 바뀌는 지 확인\n",
    "# 첫 번째 구 이름 (강남구)으로 확인 \n",
    "sigungu_sel = driver.find_element(By.ID, 'SIGUNGU_NM0') # 첫번째 강남구\n",
    "\n",
    "# option tag 의 value값을 가져와서\n",
    "# send_keys(구이름) 메소드 호출하면서 전달\n",
    "# 입력값에 해당되는 화면으로 전환되고 전환된 화면에 바뀐 데이터 출력\n",
    "\n",
    "sigungu_sel.send_keys(gu_name_list[2])   # 강북구 값 전달 -> 실행하면 강북구 옵션으로 바뀌어서 웹 바뀜\n",
    "\n",
    "# 인덱스 숫자 변경하면 해당구 지도로 자동 변경됨(열린 페이지가)\n",
    "# send_keys() : 값을 전달해서 웹 브라우저 내용을 동적으로 변경하는 메소드 "
   ]
  },
  {
   "cell_type": "code",
   "execution_count": null,
   "id": "0c46f6f9-84aa-4d50-85d7-364e47c64b02",
   "metadata": {},
   "outputs": [],
   "source": [
    "# 선택자로 선택\n",
    "# 기능 수행 : 다음 페이지로 전환해서 페이지 내의 데이터 추출\n",
    "# 기능 수행 메소드 2가지 방법\n",
    "# (1) send_keys()  - 그 페이지로 전환해서\n",
    "# (2) click()  - 엑셀 저장 버튼 누르기"
   ]
  },
  {
   "cell_type": "code",
   "execution_count": null,
   "id": "ff7e4f95-7460-44e0-b674-5507698ac0e6",
   "metadata": {},
   "outputs": [],
   "source": [
    "# 엑셀 파일 자동 저장\n",
    "# 왼쪽 주유 가격 맨 아래에 [엑셀저장] 버튼을 자동 실행 시켜서\n",
    "# 모든 구의 주유 정보를 포함하는 엑셀 파일을 자동으로 다운로드 "
   ]
  },
  {
   "cell_type": "code",
   "execution_count": 8,
   "id": "003d5e0e-9c46-46c9-9f1c-ed9c5c997ea4",
   "metadata": {},
   "outputs": [],
   "source": [
    "# 테스트 : 1개 파일 다운로드 되는 지 확인\n",
    "# [엑셀저장] 버튼의 XPATH 복사해서 사용\n",
    "xpath = '//*[@id=\"glopopd_excel\"]'\n",
    "excel_btn = driver.find_element(By.XPATH, xpath)\n",
    "excel_btn.click()"
   ]
  },
  {
   "cell_type": "code",
   "execution_count": 13,
   "id": "5789502b-fa76-404b-a648-22790c661c00",
   "metadata": {},
   "outputs": [
    {
     "ename": "InvalidSessionIdException",
     "evalue": "Message: invalid session id\nStacktrace:\n0   chromedriver                        0x0000000102aea65c chromedriver + 4318812\n1   chromedriver                        0x0000000102ae2d00 chromedriver + 4287744\n2   chromedriver                        0x0000000102714644 chromedriver + 296516\n3   chromedriver                        0x0000000102745940 chromedriver + 497984\n4   chromedriver                        0x000000010276f63c chromedriver + 669244\n5   chromedriver                        0x000000010276ecb4 chromedriver + 666804\n6   chromedriver                        0x00000001026e20c0 chromedriver + 90304\n7   chromedriver                        0x0000000102aaac40 chromedriver + 4058176\n8   chromedriver                        0x0000000102aaf160 chromedriver + 4075872\n9   chromedriver                        0x0000000102a72e68 chromedriver + 3829352\n10  chromedriver                        0x0000000102aafc4c chromedriver + 4078668\n11  chromedriver                        0x0000000102a87f08 chromedriver + 3915528\n12  chromedriver                        0x00000001026e0ad8 chromedriver + 84696\n13  dyld                                0x000000018ed2be50 start + 2544\n",
     "output_type": "error",
     "traceback": [
      "\u001b[0;31m---------------------------------------------------------------------------\u001b[0m",
      "\u001b[0;31mInvalidSessionIdException\u001b[0m                 Traceback (most recent call last)",
      "Cell \u001b[0;32mIn[13], line 1\u001b[0m\n\u001b[0;32m----> 1\u001b[0m \u001b[43mdriver\u001b[49m\u001b[38;5;241;43m.\u001b[39;49m\u001b[43mclose\u001b[49m\u001b[43m(\u001b[49m\u001b[43m)\u001b[49m\n",
      "File \u001b[0;32m/opt/homebrew/Cellar/jupyterlab/4.0.5_1/libexec/lib/python3.11/site-packages/selenium/webdriver/remote/webdriver.py:455\u001b[0m, in \u001b[0;36mWebDriver.close\u001b[0;34m(self)\u001b[0m\n\u001b[1;32m    447\u001b[0m \u001b[38;5;28;01mdef\u001b[39;00m \u001b[38;5;21mclose\u001b[39m(\u001b[38;5;28mself\u001b[39m) \u001b[38;5;241m-\u001b[39m\u001b[38;5;241m>\u001b[39m \u001b[38;5;28;01mNone\u001b[39;00m:\n\u001b[1;32m    448\u001b[0m \u001b[38;5;250m    \u001b[39m\u001b[38;5;124;03m\"\"\"Closes the current window.\u001b[39;00m\n\u001b[1;32m    449\u001b[0m \n\u001b[1;32m    450\u001b[0m \u001b[38;5;124;03m    :Usage:\u001b[39;00m\n\u001b[0;32m   (...)\u001b[0m\n\u001b[1;32m    453\u001b[0m \u001b[38;5;124;03m            driver.close()\u001b[39;00m\n\u001b[1;32m    454\u001b[0m \u001b[38;5;124;03m    \"\"\"\u001b[39;00m\n\u001b[0;32m--> 455\u001b[0m     \u001b[38;5;28;43mself\u001b[39;49m\u001b[38;5;241;43m.\u001b[39;49m\u001b[43mexecute\u001b[49m\u001b[43m(\u001b[49m\u001b[43mCommand\u001b[49m\u001b[38;5;241;43m.\u001b[39;49m\u001b[43mCLOSE\u001b[49m\u001b[43m)\u001b[49m\n",
      "File \u001b[0;32m/opt/homebrew/Cellar/jupyterlab/4.0.5_1/libexec/lib/python3.11/site-packages/selenium/webdriver/remote/webdriver.py:344\u001b[0m, in \u001b[0;36mWebDriver.execute\u001b[0;34m(self, driver_command, params)\u001b[0m\n\u001b[1;32m    342\u001b[0m response \u001b[38;5;241m=\u001b[39m \u001b[38;5;28mself\u001b[39m\u001b[38;5;241m.\u001b[39mcommand_executor\u001b[38;5;241m.\u001b[39mexecute(driver_command, params)\n\u001b[1;32m    343\u001b[0m \u001b[38;5;28;01mif\u001b[39;00m response:\n\u001b[0;32m--> 344\u001b[0m     \u001b[38;5;28;43mself\u001b[39;49m\u001b[38;5;241;43m.\u001b[39;49m\u001b[43merror_handler\u001b[49m\u001b[38;5;241;43m.\u001b[39;49m\u001b[43mcheck_response\u001b[49m\u001b[43m(\u001b[49m\u001b[43mresponse\u001b[49m\u001b[43m)\u001b[49m\n\u001b[1;32m    345\u001b[0m     response[\u001b[38;5;124m\"\u001b[39m\u001b[38;5;124mvalue\u001b[39m\u001b[38;5;124m\"\u001b[39m] \u001b[38;5;241m=\u001b[39m \u001b[38;5;28mself\u001b[39m\u001b[38;5;241m.\u001b[39m_unwrap_value(response\u001b[38;5;241m.\u001b[39mget(\u001b[38;5;124m\"\u001b[39m\u001b[38;5;124mvalue\u001b[39m\u001b[38;5;124m\"\u001b[39m, \u001b[38;5;28;01mNone\u001b[39;00m))\n\u001b[1;32m    346\u001b[0m     \u001b[38;5;28;01mreturn\u001b[39;00m response\n",
      "File \u001b[0;32m/opt/homebrew/Cellar/jupyterlab/4.0.5_1/libexec/lib/python3.11/site-packages/selenium/webdriver/remote/errorhandler.py:229\u001b[0m, in \u001b[0;36mErrorHandler.check_response\u001b[0;34m(self, response)\u001b[0m\n\u001b[1;32m    227\u001b[0m         alert_text \u001b[38;5;241m=\u001b[39m value[\u001b[38;5;124m\"\u001b[39m\u001b[38;5;124malert\u001b[39m\u001b[38;5;124m\"\u001b[39m]\u001b[38;5;241m.\u001b[39mget(\u001b[38;5;124m\"\u001b[39m\u001b[38;5;124mtext\u001b[39m\u001b[38;5;124m\"\u001b[39m)\n\u001b[1;32m    228\u001b[0m     \u001b[38;5;28;01mraise\u001b[39;00m exception_class(message, screen, stacktrace, alert_text)  \u001b[38;5;66;03m# type: ignore[call-arg]  # mypy is not smart enough here\u001b[39;00m\n\u001b[0;32m--> 229\u001b[0m \u001b[38;5;28;01mraise\u001b[39;00m exception_class(message, screen, stacktrace)\n",
      "\u001b[0;31mInvalidSessionIdException\u001b[0m: Message: invalid session id\nStacktrace:\n0   chromedriver                        0x0000000102aea65c chromedriver + 4318812\n1   chromedriver                        0x0000000102ae2d00 chromedriver + 4287744\n2   chromedriver                        0x0000000102714644 chromedriver + 296516\n3   chromedriver                        0x0000000102745940 chromedriver + 497984\n4   chromedriver                        0x000000010276f63c chromedriver + 669244\n5   chromedriver                        0x000000010276ecb4 chromedriver + 666804\n6   chromedriver                        0x00000001026e20c0 chromedriver + 90304\n7   chromedriver                        0x0000000102aaac40 chromedriver + 4058176\n8   chromedriver                        0x0000000102aaf160 chromedriver + 4075872\n9   chromedriver                        0x0000000102a72e68 chromedriver + 3829352\n10  chromedriver                        0x0000000102aafc4c chromedriver + 4078668\n11  chromedriver                        0x0000000102a87f08 chromedriver + 3915528\n12  chromedriver                        0x00000001026e0ad8 chromedriver + 84696\n13  dyld                                0x000000018ed2be50 start + 2544\n"
     ]
    }
   ],
   "source": [
    "driver.close()"
   ]
  },
  {
   "cell_type": "markdown",
   "id": "e28a56d7-b870-4660-9de9-710a9114ef6b",
   "metadata": {},
   "source": [
    "### 서울 시 모든 구의 주유가격 정보 파일 자동 다운로드"
   ]
  },
  {
   "cell_type": "code",
   "execution_count": 4,
   "id": "f91391f3-f0de-4a0a-a25f-aef52836e505",
   "metadata": {},
   "outputs": [],
   "source": [
    "# (1) webdriver 객체 생성\n",
    "chrome_options = webdriver.ChromeOptions()\n",
    "driver = webdriver.Chrome(service=Service(ChromeDriverManager().install()), options=chrome_options)"
   ]
  },
  {
   "cell_type": "code",
   "execution_count": 5,
   "id": "2fd36b45-dc47-4456-8816-c5dc9a77af69",
   "metadata": {},
   "outputs": [],
   "source": [
    "# 다시 페이지 접속\n",
    "url = 'https://www.opinet.co.kr/searRgSelect.do'\n",
    "driver.get(url)"
   ]
  },
  {
   "cell_type": "code",
   "execution_count": null,
   "id": "7a0fec5f-7099-47d7-9aec-5eab3a0bd677",
   "metadata": {},
   "outputs": [],
   "source": [
    "# 진행 상황 표시(프로그레스 바 출력)"
   ]
  },
  {
   "cell_type": "code",
   "execution_count": 6,
   "id": "94210555-9f8d-437d-9451-306ea95b394c",
   "metadata": {},
   "outputs": [],
   "source": [
    "from tqdm.notebook import tqdm\n",
    "import time"
   ]
  },
  {
   "cell_type": "code",
   "execution_count": 12,
   "id": "2ed64a7d-1570-4aff-be7a-4db6ed63ae6d",
   "metadata": {},
   "outputs": [
    {
     "data": {
      "application/vnd.jupyter.widget-view+json": {
       "model_id": "ea3cdc47cc5741508d3f8bb21f817a88",
       "version_major": 2,
       "version_minor": 0
      },
      "text/plain": [
       "  0%|          | 0/25 [00:00<?, ?it/s]"
      ]
     },
     "metadata": {},
     "output_type": "display_data"
    },
    {
     "ename": "InvalidSelectorException",
     "evalue": "Message: invalid selector: An invalid or illegal selector was specified\n  (Session info: chrome=116.0.5845.187); For documentation on this error, please visit: https://www.selenium.dev/documentation/webdriver/troubleshooting/errors#invalid-selector-exception\nStacktrace:\n0   chromedriver                        0x000000010481e65c chromedriver + 4318812\n1   chromedriver                        0x0000000104816d00 chromedriver + 4287744\n2   chromedriver                        0x00000001044487ec chromedriver + 296940\n3   chromedriver                        0x000000010444cfa0 chromedriver + 315296\n4   chromedriver                        0x000000010444ead8 chromedriver + 322264\n5   chromedriver                        0x000000010444ec04 chromedriver + 322564\n6   chromedriver                        0x00000001044861a0 chromedriver + 549280\n7   chromedriver                        0x00000001044bed28 chromedriver + 781608\n8   chromedriver                        0x000000010447a178 chromedriver + 500088\n9   chromedriver                        0x000000010447afc0 chromedriver + 503744\n10  chromedriver                        0x00000001047dec40 chromedriver + 4058176\n11  chromedriver                        0x00000001047e3160 chromedriver + 4075872\n12  chromedriver                        0x00000001047a6e68 chromedriver + 3829352\n13  chromedriver                        0x00000001047e3c4c chromedriver + 4078668\n14  chromedriver                        0x00000001047bbf08 chromedriver + 3915528\n15  chromedriver                        0x0000000104800140 chromedriver + 4194624\n16  chromedriver                        0x00000001048002c4 chromedriver + 4195012\n17  chromedriver                        0x00000001048104d0 chromedriver + 4261072\n18  libsystem_pthread.dylib             0x000000018f05506c _pthread_start + 148\n19  libsystem_pthread.dylib             0x000000018f04fe2c thread_start + 8\n",
     "output_type": "error",
     "traceback": [
      "\u001b[0;31m---------------------------------------------------------------------------\u001b[0m",
      "\u001b[0;31mInvalidSelectorException\u001b[0m                  Traceback (most recent call last)",
      "Cell \u001b[0;32mIn[12], line 11\u001b[0m\n\u001b[1;32m      9\u001b[0m \u001b[38;5;66;03m# excel 저장 버튼 클릭\u001b[39;00m\n\u001b[1;32m     10\u001b[0m xpath \u001b[38;5;241m=\u001b[39m \u001b[38;5;124m'\u001b[39m\u001b[38;5;124m//*[@id=\u001b[39m\u001b[38;5;124m\"\u001b[39m\u001b[38;5;124mglopopd_excel\u001b[39m\u001b[38;5;124m\"\u001b[39m\u001b[38;5;124m]\u001b[39m\u001b[38;5;124m'\u001b[39m\n\u001b[0;32m---> 11\u001b[0m excel_btn \u001b[38;5;241m=\u001b[39m \u001b[43mdriver\u001b[49m\u001b[38;5;241;43m.\u001b[39;49m\u001b[43mfind_element\u001b[49m\u001b[43m(\u001b[49m\u001b[43mBy\u001b[49m\u001b[38;5;241;43m.\u001b[39;49m\u001b[43mID\u001b[49m\u001b[43m,\u001b[49m\u001b[43m \u001b[49m\u001b[43mxpath\u001b[49m\u001b[43m)\u001b[49m\n\u001b[1;32m     12\u001b[0m excel_btn\u001b[38;5;241m.\u001b[39mclick()\n\u001b[1;32m     14\u001b[0m time\u001b[38;5;241m.\u001b[39msleep(\u001b[38;5;241m2\u001b[39m)\n",
      "File \u001b[0;32m/opt/homebrew/Cellar/jupyterlab/4.0.5_1/libexec/lib/python3.11/site-packages/selenium/webdriver/remote/webdriver.py:738\u001b[0m, in \u001b[0;36mWebDriver.find_element\u001b[0;34m(self, by, value)\u001b[0m\n\u001b[1;32m    735\u001b[0m     by \u001b[38;5;241m=\u001b[39m By\u001b[38;5;241m.\u001b[39mCSS_SELECTOR\n\u001b[1;32m    736\u001b[0m     value \u001b[38;5;241m=\u001b[39m \u001b[38;5;124mf\u001b[39m\u001b[38;5;124m'\u001b[39m\u001b[38;5;124m[name=\u001b[39m\u001b[38;5;124m\"\u001b[39m\u001b[38;5;132;01m{\u001b[39;00mvalue\u001b[38;5;132;01m}\u001b[39;00m\u001b[38;5;124m\"\u001b[39m\u001b[38;5;124m]\u001b[39m\u001b[38;5;124m'\u001b[39m\n\u001b[0;32m--> 738\u001b[0m \u001b[38;5;28;01mreturn\u001b[39;00m \u001b[38;5;28;43mself\u001b[39;49m\u001b[38;5;241;43m.\u001b[39;49m\u001b[43mexecute\u001b[49m\u001b[43m(\u001b[49m\u001b[43mCommand\u001b[49m\u001b[38;5;241;43m.\u001b[39;49m\u001b[43mFIND_ELEMENT\u001b[49m\u001b[43m,\u001b[49m\u001b[43m \u001b[49m\u001b[43m{\u001b[49m\u001b[38;5;124;43m\"\u001b[39;49m\u001b[38;5;124;43musing\u001b[39;49m\u001b[38;5;124;43m\"\u001b[39;49m\u001b[43m:\u001b[49m\u001b[43m \u001b[49m\u001b[43mby\u001b[49m\u001b[43m,\u001b[49m\u001b[43m \u001b[49m\u001b[38;5;124;43m\"\u001b[39;49m\u001b[38;5;124;43mvalue\u001b[39;49m\u001b[38;5;124;43m\"\u001b[39;49m\u001b[43m:\u001b[49m\u001b[43m \u001b[49m\u001b[43mvalue\u001b[49m\u001b[43m}\u001b[49m\u001b[43m)\u001b[49m[\u001b[38;5;124m\"\u001b[39m\u001b[38;5;124mvalue\u001b[39m\u001b[38;5;124m\"\u001b[39m]\n",
      "File \u001b[0;32m/opt/homebrew/Cellar/jupyterlab/4.0.5_1/libexec/lib/python3.11/site-packages/selenium/webdriver/remote/webdriver.py:344\u001b[0m, in \u001b[0;36mWebDriver.execute\u001b[0;34m(self, driver_command, params)\u001b[0m\n\u001b[1;32m    342\u001b[0m response \u001b[38;5;241m=\u001b[39m \u001b[38;5;28mself\u001b[39m\u001b[38;5;241m.\u001b[39mcommand_executor\u001b[38;5;241m.\u001b[39mexecute(driver_command, params)\n\u001b[1;32m    343\u001b[0m \u001b[38;5;28;01mif\u001b[39;00m response:\n\u001b[0;32m--> 344\u001b[0m     \u001b[38;5;28;43mself\u001b[39;49m\u001b[38;5;241;43m.\u001b[39;49m\u001b[43merror_handler\u001b[49m\u001b[38;5;241;43m.\u001b[39;49m\u001b[43mcheck_response\u001b[49m\u001b[43m(\u001b[49m\u001b[43mresponse\u001b[49m\u001b[43m)\u001b[49m\n\u001b[1;32m    345\u001b[0m     response[\u001b[38;5;124m\"\u001b[39m\u001b[38;5;124mvalue\u001b[39m\u001b[38;5;124m\"\u001b[39m] \u001b[38;5;241m=\u001b[39m \u001b[38;5;28mself\u001b[39m\u001b[38;5;241m.\u001b[39m_unwrap_value(response\u001b[38;5;241m.\u001b[39mget(\u001b[38;5;124m\"\u001b[39m\u001b[38;5;124mvalue\u001b[39m\u001b[38;5;124m\"\u001b[39m, \u001b[38;5;28;01mNone\u001b[39;00m))\n\u001b[1;32m    346\u001b[0m     \u001b[38;5;28;01mreturn\u001b[39;00m response\n",
      "File \u001b[0;32m/opt/homebrew/Cellar/jupyterlab/4.0.5_1/libexec/lib/python3.11/site-packages/selenium/webdriver/remote/errorhandler.py:229\u001b[0m, in \u001b[0;36mErrorHandler.check_response\u001b[0;34m(self, response)\u001b[0m\n\u001b[1;32m    227\u001b[0m         alert_text \u001b[38;5;241m=\u001b[39m value[\u001b[38;5;124m\"\u001b[39m\u001b[38;5;124malert\u001b[39m\u001b[38;5;124m\"\u001b[39m]\u001b[38;5;241m.\u001b[39mget(\u001b[38;5;124m\"\u001b[39m\u001b[38;5;124mtext\u001b[39m\u001b[38;5;124m\"\u001b[39m)\n\u001b[1;32m    228\u001b[0m     \u001b[38;5;28;01mraise\u001b[39;00m exception_class(message, screen, stacktrace, alert_text)  \u001b[38;5;66;03m# type: ignore[call-arg]  # mypy is not smart enough here\u001b[39;00m\n\u001b[0;32m--> 229\u001b[0m \u001b[38;5;28;01mraise\u001b[39;00m exception_class(message, screen, stacktrace)\n",
      "\u001b[0;31mInvalidSelectorException\u001b[0m: Message: invalid selector: An invalid or illegal selector was specified\n  (Session info: chrome=116.0.5845.187); For documentation on this error, please visit: https://www.selenium.dev/documentation/webdriver/troubleshooting/errors#invalid-selector-exception\nStacktrace:\n0   chromedriver                        0x000000010481e65c chromedriver + 4318812\n1   chromedriver                        0x0000000104816d00 chromedriver + 4287744\n2   chromedriver                        0x00000001044487ec chromedriver + 296940\n3   chromedriver                        0x000000010444cfa0 chromedriver + 315296\n4   chromedriver                        0x000000010444ead8 chromedriver + 322264\n5   chromedriver                        0x000000010444ec04 chromedriver + 322564\n6   chromedriver                        0x00000001044861a0 chromedriver + 549280\n7   chromedriver                        0x00000001044bed28 chromedriver + 781608\n8   chromedriver                        0x000000010447a178 chromedriver + 500088\n9   chromedriver                        0x000000010447afc0 chromedriver + 503744\n10  chromedriver                        0x00000001047dec40 chromedriver + 4058176\n11  chromedriver                        0x00000001047e3160 chromedriver + 4075872\n12  chromedriver                        0x00000001047a6e68 chromedriver + 3829352\n13  chromedriver                        0x00000001047e3c4c chromedriver + 4078668\n14  chromedriver                        0x00000001047bbf08 chromedriver + 3915528\n15  chromedriver                        0x0000000104800140 chromedriver + 4194624\n16  chromedriver                        0x00000001048002c4 chromedriver + 4195012\n17  chromedriver                        0x00000001048104d0 chromedriver + 4261072\n18  libsystem_pthread.dylib             0x000000018f05506c _pthread_start + 148\n19  libsystem_pthread.dylib             0x000000018f04fe2c thread_start + 8\n"
     ]
    }
   ],
   "source": [
    "# 구별 페이지에서 데이터 추출하는 진행상황 표시(progress bar 출력)\n",
    "for gu in tqdm(gu_name_list):\n",
    "    # 구별로 구이름 전달하고 해당 구 동적 페이지 실행\n",
    "    sigungu_sel = driver.find_element(By.XPATH, '//*[@id=\"SIGUNGU_NM0\"]')\n",
    "    sigungu_sel.send_keys(gu)\n",
    "\n",
    "    time.sleep(2)   #2초 딜레이\n",
    "\n",
    "    # excel 저장 버튼 클릭\n",
    "    xpath = '//*[@id=\"glopopd_excel\"]'\n",
    "    excel_btn = driver.find_element(By.ID, xpath)\n",
    "    excel_btn.click()\n",
    "\n",
    "    time.sleep(2)"
   ]
  },
  {
   "cell_type": "code",
   "execution_count": null,
   "id": "2abf4d75-ecd4-41ab-acbc-4692f1b85312",
   "metadata": {},
   "outputs": [],
   "source": []
  },
  {
   "cell_type": "code",
   "execution_count": 13,
   "id": "ee8ae65b-342b-44b7-b039-654fd72f90ed",
   "metadata": {},
   "outputs": [],
   "source": [
    "driver.close()"
   ]
  },
  {
   "cell_type": "code",
   "execution_count": null,
   "id": "ec8c4459-256c-4a0d-b150-0328b5ec6de6",
   "metadata": {},
   "outputs": [],
   "source": []
  }
 ],
 "metadata": {
  "kernelspec": {
   "display_name": "Python 3 (ipykernel)",
   "language": "python",
   "name": "python3"
  },
  "language_info": {
   "codemirror_mode": {
    "name": "ipython",
    "version": 3
   },
   "file_extension": ".py",
   "mimetype": "text/x-python",
   "name": "python",
   "nbconvert_exporter": "python",
   "pygments_lexer": "ipython3",
   "version": "3.11.5"
  }
 },
 "nbformat": 4,
 "nbformat_minor": 5
}
