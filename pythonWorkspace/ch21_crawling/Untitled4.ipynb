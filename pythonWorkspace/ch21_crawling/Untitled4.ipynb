{
 "cells": [
  {
   "cell_type": "code",
   "execution_count": 61,
   "id": "1cde03fa-c1f2-4475-839d-4defa83199ab",
   "metadata": {},
   "outputs": [
    {
     "data": {
      "text/plain": [
       "6"
      ]
     },
     "execution_count": 61,
     "metadata": {},
     "output_type": "execute_result"
    }
   ],
   "source": [
    "weights = [3,2,2,4,1,4]\n",
    "days = 3\n",
    "\n",
    "left = max(weights)\n",
    "right = sum(weights)\n",
    "\n",
    "while left < right:\n",
    "    mid = (left+right) // 2\n",
    "    currDay, currWeight = 1, 0\n",
    "    for weight in weights:\n",
    "        if currWeight + weight > mid:\n",
    "            currDay += 1\n",
    "            currWeight = 0\n",
    "        currWeight += weight\n",
    "    if currDay > days:\n",
    "        left = mid + 1\n",
    "    else:\n",
    "        right = mid\n",
    "\n",
    "   "
   ]
  }
 ],
 "metadata": {
  "kernelspec": {
   "display_name": "Python 3 (ipykernel)",
   "language": "python",
   "name": "python3"
  },
  "language_info": {
   "codemirror_mode": {
    "name": "ipython",
    "version": 3
   },
   "file_extension": ".py",
   "mimetype": "text/x-python",
   "name": "python",
   "nbconvert_exporter": "python",
   "pygments_lexer": "ipython3",
   "version": "3.11.5"
  }
 },
 "nbformat": 4,
 "nbformat_minor": 5
}
