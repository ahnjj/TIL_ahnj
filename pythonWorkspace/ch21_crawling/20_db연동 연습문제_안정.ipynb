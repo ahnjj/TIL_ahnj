{
 "cells": [
  {
   "cell_type": "markdown",
   "id": "ef768a8a-7d7f-4718-a0f0-87aefd16383a",
   "metadata": {},
   "source": [
    "### DB 연동 연습문제\n",
    "- (1) DB 연결\n",
    "- (2) prodcut 테이블에서 전체 상품 정보 출력\n",
    "- (3) 상품가격이 1,000,000원 이상인 상품만 출력\n",
    "- (4) 새로운 상품 등록 (입력 받아서)\n",
    "- (5) 상품번호가 10인 상품의 가격을 1000,000원으로 수정\n",
    "- (6) 상품번호가 15인 상품 삭제 (상품번호 입력 받아서)"
   ]
  },
  {
   "cell_type": "code",
   "execution_count": 2,
   "id": "d6c87c46-2603-49b6-9de4-69be71355791",
   "metadata": {},
   "outputs": [],
   "source": [
    "import pymysql"
   ]
  },
  {
   "cell_type": "code",
   "execution_count": 4,
   "id": "012ce58e-9bcf-4017-a26f-4c0f323c908f",
   "metadata": {},
   "outputs": [],
   "source": [
    "# 1. DB 연결\n",
    "# 호스트명, 포트번호, 로그인 계정, 비밀번호, CHARSET 파라미터로 지정\n",
    "import cryptography\n",
    "conn = pymysql.connect(host='localhost', \n",
    "                       port=3306, \n",
    "                       user='root', \n",
    "                       passwd='wjd900105!',\n",
    "                       charset='utf8')\n",
    "# 연결 객체 반환"
   ]
  },
  {
   "cell_type": "code",
   "execution_count": 6,
   "id": "6e061ba8-ccb4-4e40-9120-da8514a113ba",
   "metadata": {},
   "outputs": [],
   "source": [
    "# 2. cursor 객체 \n",
    "cursor = conn.cursor()"
   ]
  },
  {
   "cell_type": "code",
   "execution_count": 9,
   "id": "c5bdced3-117e-4eef-98ab-72df1ef949bb",
   "metadata": {},
   "outputs": [
    {
     "data": {
      "text/plain": [
       "(('1', '삼성 냉장고 비스포크', 1620000, '삼성전자', '새틴 코럴', 1),\n",
       " ('10', 'HP 게이밍 노트북', 1200000, 'HP', '흰색', 2),\n",
       " ('11', '32인치 LED 모니터', 299000, 'LG전자', '검정', 2),\n",
       " ('12', '광시야각 LED 모니터', 195000, '삼성전자', '흰색', 2),\n",
       " ('13', '등산배낭 옵티마', 68000, '밀레', '자주', 4),\n",
       " ('14', '35L 등산배낭', 49000, '(주)셀파', '노랑', 4),\n",
       " ('15', '원터치 자동 텐트', 58000, '이지트래블러', '그린', 4),\n",
       " ('2', 'LG 디오스 와인셀러', 1367000, 'LG전자', '검정', 1),\n",
       " ('3', 'QLED 8K TV', 2175000, '삼성전자', '블랙', 1),\n",
       " ('4', '올레드 TV 55', 799000, 'LG전자', '검정', 1),\n",
       " ('5', 'UHD TV', 2250000, '삼성전자', '은색', 1),\n",
       " ('6', '유아용 세발 자전거', 76000, '삼천리 자전거', '빨강', 3),\n",
       " ('7', '로드 사이클 자전거', 150000, '알톤', '검정', 3),\n",
       " ('8', '여성용 클래식 자전거', 100000, '알톤', '핑크', 3),\n",
       " ('9', '노트북9 metal', 1390000, '도시바', '은색', 2))"
      ]
     },
     "execution_count": 9,
     "metadata": {},
     "output_type": "execute_result"
    }
   ],
   "source": [
    "sql = 'use sqldb4'\n",
    "cursor.execute(sql)\n",
    "\n",
    "sql = 'select * from product'\n",
    "cursor.execute(sql)\n",
    "result = cursor.fetchall()\n",
    "result"
   ]
  },
  {
   "cell_type": "code",
   "execution_count": 11,
   "id": "5667f0b9-7799-4e00-8770-a3acf260be4d",
   "metadata": {},
   "outputs": [
    {
     "data": {
      "text/plain": [
       "(('1', '삼성 냉장고 비스포크', 1620000, '삼성전자', '새틴 코럴', 1),\n",
       " ('10', 'HP 게이밍 노트북', 1200000, 'HP', '흰색', 2),\n",
       " ('2', 'LG 디오스 와인셀러', 1367000, 'LG전자', '검정', 1),\n",
       " ('3', 'QLED 8K TV', 2175000, '삼성전자', '블랙', 1),\n",
       " ('5', 'UHD TV', 2250000, '삼성전자', '은색', 1),\n",
       " ('9', '노트북9 metal', 1390000, '도시바', '은색', 2))"
      ]
     },
     "execution_count": 11,
     "metadata": {},
     "output_type": "execute_result"
    }
   ],
   "source": [
    "#  상품가격이 1,000,000원 이상인 상품만 출력\n",
    "sql = 'select * from product where prdPrice >= 1000000'\n",
    "cursor.execute(sql)\n",
    "result = cursor.fetchall()\n",
    "result"
   ]
  },
  {
   "cell_type": "code",
   "execution_count": 45,
   "id": "d7d026c3-793d-4f0a-946f-83c5b3b7eee6",
   "metadata": {},
   "outputs": [
    {
     "name": "stdin",
     "output_type": "stream",
     "text": [
      "상품번호 입력 :  17\n",
      "상품명 입력 :  dkdlvhs\n",
      "상품가격 입력 :  10000000\n",
      "제조사 입력 :  apple\n",
      "상품 색상 입력 :  pink\n",
      "카테고리 입력 :  1\n"
     ]
    }
   ],
   "source": [
    "# 새로운 상품 등록 (입력 받아서)\n",
    "prdNo = input('상품번호 입력 : ')\n",
    "prdName = input('상품명 입력 : ')\n",
    "prdPrice = input('상품가격 입력 : ')\n",
    "prdMaker = input('제조사 입력 : ')\n",
    "prdColor = input('상품 색상 입력 : ')\n",
    "ctgNo = input('카테고리 입력 : ')"
   ]
  },
  {
   "cell_type": "code",
   "execution_count": 46,
   "id": "01fd49bd-59a6-4bb2-9aa1-2de5846d7ac0",
   "metadata": {},
   "outputs": [
    {
     "data": {
      "text/plain": [
       "('17', 'dkdlvhs', '10000000', 'apple', 'pink', '1')"
      ]
     },
     "execution_count": 46,
     "metadata": {},
     "output_type": "execute_result"
    }
   ],
   "source": [
    "prdNo, prdName, prdPrice, prdMaker, prdColor, ctgNo"
   ]
  },
  {
   "cell_type": "code",
   "execution_count": 47,
   "id": "464c8ade-a2d8-4bb7-b4d7-68ee41e72d80",
   "metadata": {},
   "outputs": [],
   "source": [
    "sql = \"insert into product values(%s, %s, %s, %s, %s, %s)\"  # 위치, 데이터 타입 지정해 놓고 (다 문자열로 넘겨도 오류 없음)\n",
    "values = (prdNo, prdName, prdPrice, prdMaker, prdColor, ctgNo) # 실제 전달될 값\n",
    "\n",
    "cursor.execute(sql, values)\n",
    "conn.commit()  # 반드시 commit해서 완료시켜야 db에 반영됨"
   ]
  },
  {
   "cell_type": "code",
   "execution_count": 48,
   "id": "f5e505fb-5e11-44f7-9e09-d6a1900def1c",
   "metadata": {},
   "outputs": [
    {
     "data": {
      "text/plain": [
       "(('1', '삼성 냉장고 비스포크', 1620000, '삼성전자', '새틴 코럴', 1),\n",
       " ('10', 'HP 게이밍 노트북', 1000000, 'HP', '흰색', 2),\n",
       " ('11', '32인치 LED 모니터', 299000, 'LG전자', '검정', 2),\n",
       " ('12', '광시야각 LED 모니터', 195000, '삼성전자', '흰색', 2),\n",
       " ('13', '등산배낭 옵티마', 68000, '밀레', '자주', 4),\n",
       " ('14', '35L 등산배낭', 49000, '(주)셀파', '노랑', 4),\n",
       " ('15', '아이폰 16', 1300000, '애플', '분홍색', 1),\n",
       " ('17', 'dkdlvhs', 10000000, 'apple', 'pink', 1),\n",
       " ('2', 'LG 디오스 와인셀러', 1367000, 'LG전자', '검정', 1),\n",
       " ('3', 'QLED 8K TV', 2175000, '삼성전자', '블랙', 1),\n",
       " ('4', '올레드 TV 55', 799000, 'LG전자', '검정', 1),\n",
       " ('5', 'UHD TV', 2250000, '삼성전자', '은색', 1),\n",
       " ('6', '유아용 세발 자전거', 76000, '삼천리 자전거', '빨강', 3),\n",
       " ('7', '로드 사이클 자전거', 150000, '알톤', '검정', 3),\n",
       " ('8', '여성용 클래식 자전거', 100000, '알톤', '핑크', 3),\n",
       " ('9', '노트북9 metal', 1390000, '도시바', '은색', 2))"
      ]
     },
     "execution_count": 48,
     "metadata": {},
     "output_type": "execute_result"
    }
   ],
   "source": [
    "# 확인\n",
    "sql = 'select * from product'\n",
    "cursor.execute(sql)\n",
    "result = cursor.fetchall()\n",
    "result"
   ]
  },
  {
   "cell_type": "code",
   "execution_count": 22,
   "id": "d0e0562b-7070-42a5-8aea-82619b50cb8c",
   "metadata": {},
   "outputs": [],
   "source": [
    "# (5) 상품번호가 10인 상품의 가격을 1000,000원으로 수정\n",
    "sql = \"update product set prdPrice=1000000 where prdNo=10\"\n",
    "\n",
    "cursor.execute(sql) # 값도 같이 전달 \n",
    "conn.commit()"
   ]
  },
  {
   "cell_type": "code",
   "execution_count": 25,
   "id": "344eb4f5-f3a9-4908-b280-87ad9e963456",
   "metadata": {},
   "outputs": [
    {
     "data": {
      "text/plain": [
       "(('10', 'HP 게이밍 노트북', 1000000, 'HP', '흰색', 2),)"
      ]
     },
     "execution_count": 25,
     "metadata": {},
     "output_type": "execute_result"
    }
   ],
   "source": [
    "# 확인\n",
    "sql = 'select * from product where prdNo=10'\n",
    "cursor.execute(sql)\n",
    "result = cursor.fetchall()\n",
    "result"
   ]
  },
  {
   "cell_type": "code",
   "execution_count": 26,
   "id": "cdef27f3-bf94-4769-bead-a4e6f414590c",
   "metadata": {},
   "outputs": [],
   "source": [
    "# (6) 상품번호가 15인 상품 삭제 (상품번호 입력 받아서)"
   ]
  },
  {
   "cell_type": "code",
   "execution_count": 27,
   "id": "c5c98aa7-8fb9-4ae2-a401-b200c1a32954",
   "metadata": {},
   "outputs": [
    {
     "name": "stdin",
     "output_type": "stream",
     "text": [
      "상품번호 입력 :  15\n"
     ]
    }
   ],
   "source": [
    "prdNo = input('상품번호 입력 : ')"
   ]
  },
  {
   "cell_type": "code",
   "execution_count": 29,
   "id": "2a891816-4b8f-4df2-9411-ee7bdfda73ee",
   "metadata": {},
   "outputs": [],
   "source": [
    "sql = \"delete from product where prdNo=\" + prdNo\n",
    "\n",
    "cursor.execute(sql) # 값도 같이 전달 \n",
    "conn.commit()"
   ]
  },
  {
   "cell_type": "code",
   "execution_count": 31,
   "id": "e8b09462-cdab-48e3-bf2c-44af80773b38",
   "metadata": {},
   "outputs": [
    {
     "data": {
      "text/plain": [
       "(('1', '삼성 냉장고 비스포크', 1620000, '삼성전자', '새틴 코럴', 1),\n",
       " ('10', 'HP 게이밍 노트북', 1000000, 'HP', '흰색', 2),\n",
       " ('11', '32인치 LED 모니터', 299000, 'LG전자', '검정', 2),\n",
       " ('12', '광시야각 LED 모니터', 195000, '삼성전자', '흰색', 2),\n",
       " ('13', '등산배낭 옵티마', 68000, '밀레', '자주', 4),\n",
       " ('14', '35L 등산배낭', 49000, '(주)셀파', '노랑', 4),\n",
       " ('2', 'LG 디오스 와인셀러', 1367000, 'LG전자', '검정', 1),\n",
       " ('3', 'QLED 8K TV', 2175000, '삼성전자', '블랙', 1),\n",
       " ('4', '올레드 TV 55', 799000, 'LG전자', '검정', 1),\n",
       " ('5', 'UHD TV', 2250000, '삼성전자', '은색', 1),\n",
       " ('6', '유아용 세발 자전거', 76000, '삼천리 자전거', '빨강', 3),\n",
       " ('7', '로드 사이클 자전거', 150000, '알톤', '검정', 3),\n",
       " ('8', '여성용 클래식 자전거', 100000, '알톤', '핑크', 3),\n",
       " ('9', '노트북9 metal', 1390000, '도시바', '은색', 2))"
      ]
     },
     "execution_count": 31,
     "metadata": {},
     "output_type": "execute_result"
    }
   ],
   "source": [
    "# 확인\n",
    "sql = 'select * from product'\n",
    "cursor.execute(sql)\n",
    "result = cursor.fetchall()\n",
    "result"
   ]
  }
 ],
 "metadata": {
  "kernelspec": {
   "display_name": "Python 3 (ipykernel)",
   "language": "python",
   "name": "python3"
  },
  "language_info": {
   "codemirror_mode": {
    "name": "ipython",
    "version": 3
   },
   "file_extension": ".py",
   "mimetype": "text/x-python",
   "name": "python",
   "nbconvert_exporter": "python",
   "pygments_lexer": "ipython3",
   "version": "3.11.5"
  }
 },
 "nbformat": 4,
 "nbformat_minor": 5
}
