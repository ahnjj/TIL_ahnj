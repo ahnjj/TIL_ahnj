{
 "cells": [
  {
   "cell_type": "markdown",
   "id": "845b7d59-8bed-43f1-ad68-5a361cddfe98",
   "metadata": {},
   "source": [
    "# Pandas_Series"
   ]
  },
  {
   "cell_type": "markdown",
   "id": "72117af8",
   "metadata": {},
   "source": [
    "### 파이썬의 주요 데이터 분석 라이브러리\n",
    "- NumPy (넘파이) : 배열, 행렬 관련 편리한 기능 제공\n",
    "- Pnadas (판다스) : Series, DataFrame 등의 자료구조를 활용한 \n",
    "                    데이터 분석 기능 제공\n",
    "- Matplotlib (맷플롯립) : 데이터 분석 결과를 시각화하는데 유용한 기능 제공"
   ]
  },
  {
   "cell_type": "markdown",
   "id": "f356eb7c",
   "metadata": {},
   "source": [
    "### 판다스 (pandas)\n",
    "    - series, DataFrame등의 자료구조를 활용한 데이터 분석 기능을 제공해주는 라이브러리\n",
    "    - pandas 라이브러리 구성\n",
    "        - 여러종류의 클래스와 다양한 함수로 구성\n",
    "        - 시리즈와 데이터 프레임의 데이터 구조 클래스 객체 포함\n",
    "        - 시리즈(1차원 배열) 데이터프레임(2차원 테이블 형태)"
   ]
  },
  {
   "cell_type": "markdown",
   "id": "18a62ad9",
   "metadata": {},
   "source": [
    "#### 판다스의 목적\n",
    "    - 서로 다른 여러 가지 유형의 데이터를 공통된 포맷으로 정리하는 것\n",
    "    - 특히, 행과 열로 이루어진 2차원 구조의 데이터프레임 형식으로 사용\n",
    "    - 데이터 분석 실무에서 사용됨\n"
   ]
  },
  {
   "cell_type": "markdown",
   "id": "1b7f8f2e",
   "metadata": {},
   "source": [
    "#### Series\n",
    "  - pandas의 기본 객체 중 하나\n",
    "  - 동일한 타입의 데이터가 순차적으로 나열된 1차원 배열 형태\n",
    "  - 인덱스(index)와 데이터 값(value)이 일대일로 대응"
   ]
  },
  {
   "cell_type": "markdown",
   "id": "7860f411",
   "metadata": {},
   "source": [
    "### Series 학습 내용\n",
    "- Series 생성 방법  \n",
    "- 시리즈 데이터의 추가/삭제/갱신 \n",
    "- 인덱싱        \n",
    "- 슬라이싱     \n",
    "- 시리즈 연산     \n",
    "- 시리즈 속성 및 함수  \n",
    "- 날짜 인덱스를 이용한 시리즈 생성  "
   ]
  },
  {
   "cell_type": "markdown",
   "id": "84f9f21f",
   "metadata": {},
   "source": [
    "### 판다스/넘파이 모듈 import\n",
    "\n",
    "- 데이터분석에서 기본 패키지 :  pandas와 numpy 패키지  \n",
    "- 일반적으로 pandas 모듈은 pd 라는 별칭 사용  \n",
    "- numpy는 np라는 별칭 사용  "
   ]
  },
  {
   "cell_type": "code",
   "execution_count": 6,
   "id": "d5135ae1",
   "metadata": {},
   "outputs": [],
   "source": [
    "# 한 셀에서 여려 결과 출력\n",
    "from IPython.core.interactiveshell import InteractiveShell\n",
    "InteractiveShell.ast_node_interactivity=\"all\""
   ]
  },
  {
   "cell_type": "code",
   "execution_count": 7,
   "id": "a4a08041",
   "metadata": {},
   "outputs": [],
   "source": [
    "import pandas as pd\n",
    "import numpy as np"
   ]
  },
  {
   "cell_type": "markdown",
   "id": "6c334730",
   "metadata": {},
   "source": [
    "#### Series 생성 방법 : pd.Series(집합적 자료형 )\n",
    "    (1) 리스트로 생성  \n",
    "    (2) 튜플로 생성  \n",
    "    (3) 딕셔너리로 생성 \n",
    "    (4) range()/np.arange() 함수 사용해서 생성"
   ]
  },
  {
   "cell_type": "markdown",
   "id": "e4fb83fb",
   "metadata": {},
   "source": [
    " #### (1) 리스트로 생성  \n",
    " - index는 명시하지 않을 경우 기본적으로 0부터 자동 생성"
   ]
  },
  {
   "cell_type": "code",
   "execution_count": 4,
   "id": "0d0fa0ee",
   "metadata": {},
   "outputs": [
    {
     "data": {
      "text/plain": [
       "0    1\n",
       "1    2\n",
       "2    3\n",
       "dtype: int64"
      ]
     },
     "execution_count": 4,
     "metadata": {},
     "output_type": "execute_result"
    }
   ],
   "source": [
    "# pd.Series(집합적 자료형)\n",
    "# pd.Series(리스트)\n",
    "# index는 명시하지 않을 경우 기본적으로 0부터 자동 생성\n",
    "s = pd.Series([1, 2, 3])\n",
    "s\n",
    "# index value"
   ]
  },
  {
   "cell_type": "code",
   "execution_count": 5,
   "id": "36f6e2c7",
   "metadata": {},
   "outputs": [
    {
     "data": {
      "text/plain": [
       "0      a\n",
       "1      1\n",
       "2    3.0\n",
       "dtype: object"
      ]
     },
     "execution_count": 5,
     "metadata": {},
     "output_type": "execute_result"
    }
   ],
   "source": [
    "# 리스트 내에 서로 다른 타입의 데이터가 있으면 형변환 발생\n",
    "# 문자열이 포함된 경우 문자형 (object)으로 변환\n",
    "s = pd.Series(['a', 1, 3.0])\n",
    "s"
   ]
  },
  {
   "cell_type": "code",
   "execution_count": 6,
   "id": "9df2f432",
   "metadata": {},
   "outputs": [
    {
     "data": {
      "text/plain": [
       "0    0.0\n",
       "1    1.0\n",
       "2    3.0\n",
       "dtype: float64"
      ]
     },
     "execution_count": 6,
     "metadata": {},
     "output_type": "execute_result"
    }
   ],
   "source": [
    "# 정수, 실수 섞여 있는 경우 실수로 형변환 (큰 타입으로 변환)\n",
    "s = pd.Series([0, 1, 3.0])\n",
    "s"
   ]
  },
  {
   "cell_type": "code",
   "execution_count": 8,
   "id": "9db34cc7",
   "metadata": {},
   "outputs": [
    {
     "data": {
      "text/plain": [
       "0    0.0\n",
       "1    NaN\n",
       "2    3.0\n",
       "dtype: float64"
      ]
     },
     "execution_count": 8,
     "metadata": {},
     "output_type": "execute_result"
    }
   ],
   "source": [
    "# 주의!! - NaN 값이 있으면 실수로 인식 \n",
    "s = pd.Series([0, np.nan, 3])\n",
    "s"
   ]
  },
  {
   "cell_type": "code",
   "execution_count": 9,
   "id": "bc659b59",
   "metadata": {},
   "outputs": [
    {
     "data": {
      "text/plain": [
       "1    1\n",
       "2    2\n",
       "3    3\n",
       "dtype: int64"
      ]
     },
     "execution_count": 9,
     "metadata": {},
     "output_type": "execute_result"
    }
   ],
   "source": [
    "# index 명시 : 숫자 인덱스\n",
    "s = pd.Series([1, 2, 3], index=[1, 2, 3])\n",
    "s"
   ]
  },
  {
   "cell_type": "code",
   "execution_count": 10,
   "id": "0d817702",
   "metadata": {},
   "outputs": [
    {
     "data": {
      "text/plain": [
       "a    1\n",
       "b    2\n",
       "c    3\n",
       "dtype: int64"
      ]
     },
     "execution_count": 10,
     "metadata": {},
     "output_type": "execute_result"
    }
   ],
   "source": [
    "# index 명시 : 문자 인덱스\n",
    "s = pd.Series([1, 2, 3], index=['a', 'b', 'c'])\n",
    "s"
   ]
  },
  {
   "cell_type": "code",
   "execution_count": 11,
   "id": "5b897e11",
   "metadata": {},
   "outputs": [
    {
     "data": {
      "text/plain": [
       "a    1\n",
       "b    2\n",
       "c    3\n",
       "dtype: int64"
      ]
     },
     "execution_count": 11,
     "metadata": {},
     "output_type": "execute_result"
    }
   ],
   "source": [
    "# index 옵션명(인수명) 생략 가능\n",
    "# pd.Series(데이터, 인덱스)\n",
    "s = pd.Series([1, 2, 3], ['a', 'b', 'c'])\n",
    "s"
   ]
  },
  {
   "cell_type": "code",
   "execution_count": 12,
   "id": "d6085acf",
   "metadata": {},
   "outputs": [
    {
     "data": {
      "text/plain": [
       "a    1\n",
       "a    2\n",
       "c    3\n",
       "dtype: int64"
      ]
     },
     "execution_count": 12,
     "metadata": {},
     "output_type": "execute_result"
    }
   ],
   "source": [
    "# 인덱스 중복 가능 : 오류 없음\n",
    "# 검색 시 중복 확인하고 결과에서 선택해서 출력\n",
    "s = pd.Series([1, 2, 3], ['a', 'a', 'c'])\n",
    "s"
   ]
  },
  {
   "cell_type": "code",
   "execution_count": 14,
   "id": "56c11ee3",
   "metadata": {},
   "outputs": [
    {
     "data": {
      "text/plain": [
       "홍길동     95\n",
       "이몽룡    100\n",
       "성춘향     80\n",
       "dtype: int64"
      ]
     },
     "execution_count": 14,
     "metadata": {},
     "output_type": "execute_result"
    },
    {
     "data": {
      "text/plain": [
       "홍길동     95\n",
       "이몽룡    100\n",
       "성춘향     80\n",
       "dtype: int64"
      ]
     },
     "execution_count": 14,
     "metadata": {},
     "output_type": "execute_result"
    }
   ],
   "source": [
    "# 문자 인덱스 예\n",
    "# 데이터 : 95, 100, 80\n",
    "# 인덱스 : 홍길동, 이몽룡, 성춘향\n",
    "s= pd.Series([95,100,80],['홍길동','이몽룡','성춘향'])\n",
    "s\n",
    "\n",
    "score = pd.Series([95, 100, 80], index=['홍길동', '이몽룡', '성춘향'])\n",
    "score"
   ]
  },
  {
   "cell_type": "code",
   "execution_count": 15,
   "id": "1ab29d09",
   "metadata": {},
   "outputs": [
    {
     "data": {
      "text/plain": [
       "홍길동     95\n",
       "이몽룡    100\n",
       "성춘향     80\n",
       "Name: 성적, dtype: int64"
      ]
     },
     "execution_count": 15,
     "metadata": {},
     "output_type": "execute_result"
    }
   ],
   "source": [
    "# 시리즈 이름 붙이기\n",
    "# 시리즈.name 속성 사용\n",
    "s.name = '성적'\n",
    "s"
   ]
  },
  {
   "cell_type": "code",
   "execution_count": 16,
   "id": "b72612fe",
   "metadata": {},
   "outputs": [
    {
     "data": {
      "text/plain": [
       "성명\n",
       "홍길동     95\n",
       "이몽룡    100\n",
       "성춘향     80\n",
       "Name: 성적, dtype: int64"
      ]
     },
     "execution_count": 16,
     "metadata": {},
     "output_type": "execute_result"
    }
   ],
   "source": [
    "# index에 이름 붙이기 \n",
    "# 시리즈.index.name 속성 사용\n",
    "s.index.name = '성명'\n",
    "s"
   ]
  },
  {
   "cell_type": "code",
   "execution_count": 17,
   "id": "ee08ba94",
   "metadata": {},
   "outputs": [
    {
     "data": {
      "text/plain": [
       "array([ 95, 100,  80], dtype=int64)"
      ]
     },
     "execution_count": 17,
     "metadata": {},
     "output_type": "execute_result"
    }
   ],
   "source": [
    "# 시리즈의 값 : numpy array() 형태 - 1차원 배열\n",
    "# 시리즈.values 속성 사용\n",
    "s.values"
   ]
  },
  {
   "cell_type": "code",
   "execution_count": null,
   "id": "72a88204",
   "metadata": {},
   "outputs": [],
   "source": []
  },
  {
   "cell_type": "markdown",
   "id": "24fac664",
   "metadata": {},
   "source": [
    "#### (2) 튜플로 생성  "
   ]
  },
  {
   "cell_type": "code",
   "execution_count": 18,
   "id": "2833d456-c46d-41a0-863f-45afda2907e9",
   "metadata": {},
   "outputs": [
    {
     "data": {
      "text/plain": [
       "0    1.0\n",
       "1    2.0\n",
       "2    3.0\n",
       "dtype: float64"
      ]
     },
     "execution_count": 18,
     "metadata": {},
     "output_type": "execute_result"
    }
   ],
   "source": [
    "# pd.Series(튜플)\n",
    "s2 = pd.Series((1.0, 2.0, 3.0))\n",
    "s2"
   ]
  },
  {
   "cell_type": "code",
   "execution_count": 19,
   "id": "49f1ab7d",
   "metadata": {},
   "outputs": [
    {
     "data": {
      "text/plain": [
       "1    1.0\n",
       "2    2.0\n",
       "3    3.0\n",
       "dtype: float64"
      ]
     },
     "execution_count": 19,
     "metadata": {},
     "output_type": "execute_result"
    }
   ],
   "source": [
    "s2 = pd.Series((1.0, 2.0, 3.0), index=[1,2,3])\n",
    "s2"
   ]
  },
  {
   "cell_type": "code",
   "execution_count": null,
   "id": "cf672228",
   "metadata": {},
   "outputs": [],
   "source": []
  },
  {
   "cell_type": "markdown",
   "id": "8225212a",
   "metadata": {},
   "source": [
    "#### (3) 딕셔너리로 생성 \n",
    "- Series({key:value, key1:value1....})  \n",
    "- key -> 인덱스\n",
    "- value -> 값"
   ]
  },
  {
   "cell_type": "code",
   "execution_count": 20,
   "id": "ca807b43",
   "metadata": {},
   "outputs": [
    {
     "data": {
      "text/plain": [
       "서울    9631482\n",
       "부산    3393191\n",
       "인천    2632035\n",
       "대전    1490158\n",
       "dtype: int64"
      ]
     },
     "execution_count": 20,
     "metadata": {},
     "output_type": "execute_result"
    }
   ],
   "source": [
    "# 딕셔너리로 시리즈 생성 \n",
    "# 키 : 서울 부산, 인천, 대전\n",
    "# 값 : 9631482, 3393191, 2632035, 1490158\n",
    "city = pd.Series({'서울':9631482, '부산':3393191, '인천':2632035, '대전':1490158})\n",
    "city"
   ]
  },
  {
   "cell_type": "code",
   "execution_count": 22,
   "id": "2ac29225",
   "metadata": {},
   "outputs": [
    {
     "data": {
      "text/plain": [
       "서울    9631482\n",
       "부산    3393191\n",
       "인천    2632035\n",
       "대전    1490158\n",
       "dtype: int64"
      ]
     },
     "execution_count": 22,
     "metadata": {},
     "output_type": "execute_result"
    }
   ],
   "source": [
    "city = pd.Series({\n",
    "    '서울' : 9631482,\n",
    "    '부산' : 3393191,\n",
    "    '인천' : 2632035,\n",
    "    '대전' : 1490158})\n",
    "city"
   ]
  },
  {
   "cell_type": "code",
   "execution_count": 23,
   "id": "26a5071d",
   "metadata": {},
   "outputs": [
    {
     "data": {
      "text/plain": [
       "Index(['서울', '부산', '인천', '대전'], dtype='object')"
      ]
     },
     "execution_count": 23,
     "metadata": {},
     "output_type": "execute_result"
    }
   ],
   "source": [
    "city.index"
   ]
  },
  {
   "cell_type": "code",
   "execution_count": 26,
   "id": "f23d11f5-71b3-46b3-9332-67035b634b1a",
   "metadata": {},
   "outputs": [
    {
     "data": {
      "text/plain": [
       "9631482"
      ]
     },
     "execution_count": 26,
     "metadata": {},
     "output_type": "execute_result"
    },
    {
     "data": {
      "text/plain": [
       "9631482"
      ]
     },
     "execution_count": 26,
     "metadata": {},
     "output_type": "execute_result"
    }
   ],
   "source": [
    "# 시리즈의 특정 값 출력 : 인덱스 사용\n",
    "city['서울']\n",
    "# city[0]  # 0-base 위치 인덱스 사용 - deprecated 경고\n",
    "city.iloc[0]  # iloc 사용해야 0-base위치 사용 가능"
   ]
  },
  {
   "cell_type": "code",
   "execution_count": null,
   "id": "666996c6",
   "metadata": {},
   "outputs": [],
   "source": []
  },
  {
   "cell_type": "code",
   "execution_count": null,
   "id": "637b324a",
   "metadata": {},
   "outputs": [],
   "source": []
  },
  {
   "cell_type": "markdown",
   "id": "45bdb4cd",
   "metadata": {},
   "source": [
    "#### (4) range()/np.arange() 함수 사용해서 생성  "
   ]
  },
  {
   "cell_type": "code",
   "execution_count": 139,
   "id": "a61d95c7",
   "metadata": {},
   "outputs": [
    {
     "data": {
      "text/plain": [
       "0    0\n",
       "1    1\n",
       "2    2\n",
       "3    3\n",
       "4    4\n",
       "dtype: int64"
      ]
     },
     "execution_count": 139,
     "metadata": {},
     "output_type": "execute_result"
    }
   ],
   "source": [
    "# range() 함수 사용해서 시리즈 생성\n",
    "# range(숫자) : 0부터\n",
    "s = pd.Series(range(5))\n",
    "s\n",
    "# range(5) : 0~4\n",
    "# index : 0-base 위치 인덱스"
   ]
  },
  {
   "cell_type": "code",
   "execution_count": 140,
   "id": "eea7bba6",
   "metadata": {},
   "outputs": [
    {
     "data": {
      "text/plain": [
       "0    11\n",
       "1    12\n",
       "2    13\n",
       "3    14\n",
       "4    15\n",
       "dtype: int64"
      ]
     },
     "execution_count": 140,
     "metadata": {},
     "output_type": "execute_result"
    }
   ],
   "source": [
    "# range(start, end) : start ~ end - 1 \n",
    "s = pd.Series(range(11, 16))\n",
    "s"
   ]
  },
  {
   "cell_type": "code",
   "execution_count": 141,
   "id": "1d749620-29ab-49a9-9b56-d0fdc2dde0e2",
   "metadata": {},
   "outputs": [
    {
     "data": {
      "text/plain": [
       "1    11\n",
       "2    12\n",
       "3    13\n",
       "4    14\n",
       "5    15\n",
       "dtype: int64"
      ]
     },
     "execution_count": 141,
     "metadata": {},
     "output_type": "execute_result"
    }
   ],
   "source": [
    "# index 설정\n",
    "s = pd.Series(range(11, 16), range(1, 6))\n",
    "s"
   ]
  },
  {
   "cell_type": "code",
   "execution_count": 11,
   "id": "25f7cf23",
   "metadata": {},
   "outputs": [
    {
     "data": {
      "text/plain": [
       "0    0\n",
       "1    1\n",
       "2    2\n",
       "3    3\n",
       "4    4\n",
       "dtype: int64"
      ]
     },
     "execution_count": 11,
     "metadata": {},
     "output_type": "execute_result"
    }
   ],
   "source": [
    "# numpy의 arange() 사용\n",
    "s = pd.Series(np.arange(5))\n",
    "s"
   ]
  },
  {
   "cell_type": "code",
   "execution_count": 4,
   "id": "ec1255ec",
   "metadata": {},
   "outputs": [],
   "source": [
    "# 결측값을 포함해서 시리즈 만들기 : NaN\n",
    "# Numpy : np.nan\n",
    "# pandas : None(NaN으로 적으면 오류남)\n"
   ]
  },
  {
   "cell_type": "code",
   "execution_count": 142,
   "id": "43a52d4d",
   "metadata": {},
   "outputs": [
    {
     "data": {
      "text/plain": [
       "0    1.0\n",
       "1    2.0\n",
       "2    3.0\n",
       "3    NaN\n",
       "4    5.0\n",
       "5    6.0\n",
       "dtype: float64"
      ]
     },
     "execution_count": 142,
     "metadata": {},
     "output_type": "execute_result"
    }
   ],
   "source": [
    "# Numpy : np.nan\n",
    "s = pd.Series([1,2,3, np.nan, 5, 6])\n",
    "s"
   ]
  },
  {
   "cell_type": "code",
   "execution_count": 143,
   "id": "a5cc1c96",
   "metadata": {},
   "outputs": [
    {
     "data": {
      "text/plain": [
       "0    1.0\n",
       "1    2.0\n",
       "2    3.0\n",
       "3    NaN\n",
       "4    5.0\n",
       "5    6.0\n",
       "dtype: float64"
      ]
     },
     "execution_count": 143,
     "metadata": {},
     "output_type": "execute_result"
    }
   ],
   "source": [
    "# pandas : None(NaN으로 적으면 오류남)\n",
    "s = pd.Series([1, 2, 3, None, 5, 6])\n",
    "s"
   ]
  },
  {
   "cell_type": "code",
   "execution_count": 13,
   "id": "c474c35b",
   "metadata": {},
   "outputs": [
    {
     "data": {
      "text/plain": [
       "홍길동     95\n",
       "이몽룡    100\n",
       "성춘향     88\n",
       "dtype: int64"
      ]
     },
     "execution_count": 13,
     "metadata": {},
     "output_type": "execute_result"
    }
   ],
   "source": [
    "# 시리즈에 데이터 추가\n",
    "# 새 인덱스로 추가하면 됨 : 시리즈[인덱스] = 값\n",
    "s = pd.Series([95, 100, 88],\n",
    "             index = ['홍길동', '이몽룡', '성춘향'])\n",
    "s"
   ]
  },
  {
   "cell_type": "code",
   "execution_count": 145,
   "id": "021de434",
   "metadata": {},
   "outputs": [
    {
     "data": {
      "text/plain": [
       "0       1.0\n",
       "1       2.0\n",
       "2       3.0\n",
       "3       NaN\n",
       "4       5.0\n",
       "5       6.0\n",
       "변학도    70.0\n",
       "dtype: float64"
      ]
     },
     "execution_count": 145,
     "metadata": {},
     "output_type": "execute_result"
    }
   ],
   "source": [
    "# 새 인덱스로 추가하면 됨 : 시리즈[인덱스] = 값\n",
    "# 인덱스 : 변학도\n",
    "# 값 : 70\n",
    "s['변학도'] = 70\n",
    "s"
   ]
  },
  {
   "cell_type": "code",
   "execution_count": 147,
   "id": "13d8051e",
   "metadata": {},
   "outputs": [
    {
     "data": {
      "text/plain": [
       "0       1.0\n",
       "1       2.0\n",
       "2       3.0\n",
       "3       NaN\n",
       "4       5.0\n",
       "5       6.0\n",
       "변학도    70.0\n",
       "홍길동    95.0\n",
       "dtype: float64"
      ]
     },
     "execution_count": 147,
     "metadata": {},
     "output_type": "execute_result"
    }
   ],
   "source": [
    "# 시리즈 값 변경\n",
    "# 시리즈[기존 인덱스] = new value(덮어씀)\n",
    "s['홍길동'] = 95\n",
    "s"
   ]
  },
  {
   "cell_type": "code",
   "execution_count": 148,
   "id": "ed188b00",
   "metadata": {},
   "outputs": [
    {
     "data": {
      "text/plain": [
       "0       1.0\n",
       "1       2.0\n",
       "2       3.0\n",
       "3       NaN\n",
       "4       5.0\n",
       "5       6.0\n",
       "홍길동    95.0\n",
       "dtype: float64"
      ]
     },
     "execution_count": 148,
     "metadata": {},
     "output_type": "execute_result"
    }
   ],
   "source": [
    "# 시리즈 내 원소 삭제 : del \n",
    "del s['변학도']\n",
    "s"
   ]
  },
  {
   "cell_type": "code",
   "execution_count": 16,
   "id": "d5dc45fd",
   "metadata": {},
   "outputs": [],
   "source": [
    "# drop() 사용\n",
    "# 시리즈.drop(index, axis=0, inplace=True)\n",
    "# axis=0: 행 의미 (default로 생략 가능)\n",
    "# inplace=True: 결과 반영(원본 데이터 변경)"
   ]
  },
  {
   "cell_type": "code",
   "execution_count": 19,
   "id": "dbe3a8cf",
   "metadata": {},
   "outputs": [
    {
     "data": {
      "text/plain": [
       "이몽룡    100\n",
       "성춘향     88\n",
       "dtype: int64"
      ]
     },
     "execution_count": 19,
     "metadata": {},
     "output_type": "execute_result"
    },
    {
     "data": {
      "text/plain": [
       "홍길동     95\n",
       "이몽룡    100\n",
       "성춘향     88\n",
       "dtype: int64"
      ]
     },
     "execution_count": 19,
     "metadata": {},
     "output_type": "execute_result"
    }
   ],
   "source": [
    "s.drop('홍길동') # 실제 데이터는 삭제되지 않고 결과만 보여줌 \n",
    "s"
   ]
  },
  {
   "cell_type": "code",
   "execution_count": 21,
   "id": "9c2f8207",
   "metadata": {},
   "outputs": [
    {
     "data": {
      "text/plain": [
       "이몽룡    100\n",
       "성춘향     88\n",
       "dtype: int64"
      ]
     },
     "execution_count": 21,
     "metadata": {},
     "output_type": "execute_result"
    },
    {
     "data": {
      "text/plain": [
       "홍길동     95\n",
       "이몽룡    100\n",
       "성춘향     88\n",
       "dtype: int64"
      ]
     },
     "execution_count": 21,
     "metadata": {},
     "output_type": "execute_result"
    }
   ],
   "source": [
    "s.drop('홍길동', axis=0) # 실제 데이터는 삭제되지 않고 결과만 보여줌 \n",
    "s"
   ]
  },
  {
   "cell_type": "code",
   "execution_count": 22,
   "id": "5cc4689b",
   "metadata": {},
   "outputs": [
    {
     "data": {
      "text/plain": [
       "이몽룡    100\n",
       "성춘향     88\n",
       "dtype: int64"
      ]
     },
     "execution_count": 22,
     "metadata": {},
     "output_type": "execute_result"
    }
   ],
   "source": [
    "s.drop('홍길동', axis=0, inplace=True) # 실제 데이터 삭제\n",
    "s"
   ]
  },
  {
   "cell_type": "code",
   "execution_count": null,
   "id": "4e9e7f8e",
   "metadata": {},
   "outputs": [],
   "source": []
  },
  {
   "cell_type": "code",
   "execution_count": null,
   "id": "d2bf4ea6-2237-4790-bd3c-59d2c1d5ede5",
   "metadata": {},
   "outputs": [],
   "source": [
    "#################################################################################"
   ]
  },
  {
   "cell_type": "markdown",
   "id": "5236f64d",
   "metadata": {},
   "source": [
    "### 인덱싱  \n",
    "    - 인덱스 종류    \n",
    "        (1) 문자형 인덱스    \n",
    "         - index 명시하지 않으면 0부터 시작하는 정수형 인덱스 자동 지정됨\n",
    "        (2) 정수형 인덱스   \n",
    "          -  정수형 인덱스로 명시한 경우 0-base 위치 인덱스 사용 못함 (에러)\n",
    "        (3) 위치 인덱스  : 0-base 위치 인덱스         \n",
    "    - 원소 접근  \n",
    "        (1) 정수형 인덱스 사용 : 시리즈[숫자 인덱스]  \n",
    "        (2) 문자형 인덱스 사용 : 시리즈['문자 인덱스']   \n",
    "        (3) 리스트 이용 인덱싱"
   ]
  },
  {
   "cell_type": "code",
   "execution_count": 150,
   "id": "e4aabdfe-8245-452d-a2cd-ba724a1485b1",
   "metadata": {},
   "outputs": [
    {
     "data": {
      "text/plain": [
       "홍길동     95\n",
       "이몽룡    100\n",
       "성춘향     88\n",
       "dtype: int64"
      ]
     },
     "execution_count": 150,
     "metadata": {},
     "output_type": "execute_result"
    }
   ],
   "source": [
    "# (1)문자형 인덱스\n",
    "s = pd.Series([95, 100, 88],\n",
    "              index = ['홍길동', '이몽룡', '성춘향'])\n",
    "s"
   ]
  },
  {
   "cell_type": "code",
   "execution_count": 152,
   "id": "f8f33c80",
   "metadata": {},
   "outputs": [
    {
     "data": {
      "text/plain": [
       "95"
      ]
     },
     "execution_count": 152,
     "metadata": {},
     "output_type": "execute_result"
    },
    {
     "data": {
      "text/plain": [
       "95"
      ]
     },
     "execution_count": 152,
     "metadata": {},
     "output_type": "execute_result"
    }
   ],
   "source": [
    "# 첫 번째 원소의 값 출력: 0-base 인덱스\n",
    "# s[0] # deprecated \n",
    "s.iloc[0]"
   ]
  },
  {
   "cell_type": "code",
   "execution_count": 153,
   "id": "ceb3a09b",
   "metadata": {},
   "outputs": [
    {
     "data": {
      "text/plain": [
       "1    10\n",
       "2    20\n",
       "3    30\n",
       "dtype: int64"
      ]
     },
     "execution_count": 153,
     "metadata": {},
     "output_type": "execute_result"
    }
   ],
   "source": [
    "# (2) 정수형 인덱스 :  0-base 인덱스 아님\n",
    "s2 = pd.Series([10, 20, 30], index=[1,2,3])\n",
    "s2"
   ]
  },
  {
   "cell_type": "code",
   "execution_count": 33,
   "id": "2974e964",
   "metadata": {},
   "outputs": [
    {
     "data": {
      "text/plain": [
       "10"
      ]
     },
     "execution_count": 33,
     "metadata": {},
     "output_type": "execute_result"
    }
   ],
   "source": [
    "# 정수형 인덱스 접근\n",
    "s2[1]\n",
    "# 1 : 지정한 인덱스 값  0-base아님 "
   ]
  },
  {
   "cell_type": "code",
   "execution_count": 35,
   "id": "fad483a7",
   "metadata": {},
   "outputs": [
    {
     "data": {
      "text/plain": [
       "(100, 100)"
      ]
     },
     "execution_count": 35,
     "metadata": {},
     "output_type": "execute_result"
    }
   ],
   "source": [
    "# 두 개 이상의 인덱싱 코드를 나열하면 튜플 형태로 출력\n",
    "s.iloc[0], s['이몽룡']"
   ]
  },
  {
   "cell_type": "code",
   "execution_count": 154,
   "id": "c6123279",
   "metadata": {
    "scrolled": true
   },
   "outputs": [
    {
     "data": {
      "text/plain": [
       "홍길동     95\n",
       "이몽룡    100\n",
       "성춘향     88\n",
       "dtype: int64"
      ]
     },
     "execution_count": 154,
     "metadata": {},
     "output_type": "execute_result"
    },
    {
     "data": {
      "text/plain": [
       "95"
      ]
     },
     "execution_count": 154,
     "metadata": {},
     "output_type": "execute_result"
    },
    {
     "data": {
      "text/plain": [
       "이몽룡    100\n",
       "홍길동     95\n",
       "성춘향     88\n",
       "dtype: int64"
      ]
     },
     "execution_count": 154,
     "metadata": {},
     "output_type": "execute_result"
    }
   ],
   "source": [
    "# (3) list 이용 indexing\n",
    "s\n",
    "s.iloc[0]\n",
    "s.iloc[[1,0,2]]"
   ]
  },
  {
   "cell_type": "code",
   "execution_count": 43,
   "id": "0649b9c0",
   "metadata": {},
   "outputs": [
    {
     "data": {
      "text/plain": [
       "a    10\n",
       "b    20\n",
       "c    30\n",
       "dtype: int64"
      ]
     },
     "execution_count": 43,
     "metadata": {},
     "output_type": "execute_result"
    }
   ],
   "source": [
    "# 문자 인덱스인 경우 dot(.)연산자 사용해서 접근 가능\n",
    "s3 = pd.Series([10,20,30], index=['a','b','c'])\n",
    "s3"
   ]
  },
  {
   "cell_type": "code",
   "execution_count": 45,
   "id": "78c4884f",
   "metadata": {},
   "outputs": [
    {
     "data": {
      "text/plain": [
       "10"
      ]
     },
     "execution_count": 45,
     "metadata": {},
     "output_type": "execute_result"
    },
    {
     "data": {
      "text/plain": [
       "10"
      ]
     },
     "execution_count": 45,
     "metadata": {},
     "output_type": "execute_result"
    }
   ],
   "source": [
    "s3['a']  # 이렇게 인덱스로 접근해도되고\n",
    "s3.a  # . 으로 바로 접근 가능 "
   ]
  },
  {
   "cell_type": "code",
   "execution_count": 47,
   "id": "01bd1c56",
   "metadata": {},
   "outputs": [
    {
     "data": {
      "text/plain": [
       "100"
      ]
     },
     "execution_count": 47,
     "metadata": {},
     "output_type": "execute_result"
    }
   ],
   "source": [
    "# 한글 문자 인덱스도 dot 연산자 사용해서 접근 가능\n",
    "s.이몽룡"
   ]
  },
  {
   "cell_type": "code",
   "execution_count": null,
   "id": "8878cbd9-4f28-44e8-bb82-b8455a1cb89b",
   "metadata": {},
   "outputs": [],
   "source": [
    "#################################################################################"
   ]
  },
  {
   "cell_type": "markdown",
   "id": "461a2e52",
   "metadata": {},
   "source": [
    "### 슬라이싱  \n",
    "    (1) 0-base 위치 인덱스를 이용한 슬라이싱  \n",
    "        - 시리즈[start:end] : start ~ end-1까지 추출\n",
    "    (2) 문자(라벨) 인덱스를 이용한 슬라이싱 \n",
    "        - 시리즈['시작라벨':'끝라벨']\n",
    "            - 시작에서 끝까지 양쪽 라벨 포함된 범위 추출  "
   ]
  },
  {
   "cell_type": "code",
   "execution_count": 50,
   "id": "93dfff29",
   "metadata": {},
   "outputs": [],
   "source": [
    "data = {\n",
    "    '서울' : 9631482,\n",
    "    '부산' : 3393191,\n",
    "    '인천' : 2632035,\n",
    "    '대전' : 1490158\n",
    "}"
   ]
  },
  {
   "cell_type": "code",
   "execution_count": 51,
   "id": "d5205b07",
   "metadata": {},
   "outputs": [
    {
     "data": {
      "text/plain": [
       "서울    9631482\n",
       "부산    3393191\n",
       "인천    2632035\n",
       "대전    1490158\n",
       "dtype: int64"
      ]
     },
     "execution_count": 51,
     "metadata": {},
     "output_type": "execute_result"
    }
   ],
   "source": [
    "city = pd.Series(data)\n",
    "city"
   ]
  },
  {
   "cell_type": "code",
   "execution_count": 56,
   "id": "5e570159",
   "metadata": {},
   "outputs": [
    {
     "data": {
      "text/plain": [
       "부산    3393191\n",
       "인천    2632035\n",
       "dtype: int64"
      ]
     },
     "execution_count": 56,
     "metadata": {},
     "output_type": "execute_result"
    },
    {
     "data": {
      "text/plain": [
       "부산    3393191\n",
       "인천    2632035\n",
       "dtype: int64"
      ]
     },
     "execution_count": 56,
     "metadata": {},
     "output_type": "execute_result"
    }
   ],
   "source": [
    "# slicing\n",
    "# 부산 ~ 인천 데이터 출력\n",
    "# 0-base 인덱스 사용\n",
    "city[1:3]\n",
    "\n",
    "# 문자 인덱스 사용\n",
    "city['부산':'인천']"
   ]
  },
  {
   "cell_type": "code",
   "execution_count": 58,
   "id": "b86c0dbb",
   "metadata": {},
   "outputs": [
    {
     "data": {
      "text/plain": [
       "1    100\n",
       "2    200\n",
       "3    300\n",
       "4    400\n",
       "dtype: int64"
      ]
     },
     "execution_count": 58,
     "metadata": {},
     "output_type": "execute_result"
    }
   ],
   "source": [
    "s = pd.Series([100, 200, 300, 400], index=[1, 2, 3, 4])\n",
    "s"
   ]
  },
  {
   "cell_type": "code",
   "execution_count": 155,
   "id": "99f19e93",
   "metadata": {},
   "outputs": [
    {
     "data": {
      "text/plain": [
       "홍길동     95\n",
       "이몽룡    100\n",
       "성춘향     88\n",
       "dtype: int64"
      ]
     },
     "execution_count": 155,
     "metadata": {},
     "output_type": "execute_result"
    }
   ],
   "source": [
    "# slicing : 100~ 300 출력\n",
    "s[0:3]"
   ]
  },
  {
   "cell_type": "code",
   "execution_count": 67,
   "id": "fe4adb95",
   "metadata": {},
   "outputs": [
    {
     "data": {
      "text/plain": [
       "2    200\n",
       "4    400\n",
       "3    300\n",
       "dtype: int64"
      ]
     },
     "execution_count": 67,
     "metadata": {},
     "output_type": "execute_result"
    },
    {
     "data": {
      "text/plain": [
       "2    200\n",
       "4    400\n",
       "3    300\n",
       "dtype: int64"
      ]
     },
     "execution_count": 67,
     "metadata": {},
     "output_type": "execute_result"
    }
   ],
   "source": [
    "# 리스트 사용 인덱싱\n",
    "# 200, 400, 300 출력\n",
    "s[[2,4,3]]\n",
    "# 0-base 인덱스 사용\n",
    "s.iloc[[1,3,2]]"
   ]
  },
  {
   "cell_type": "code",
   "execution_count": null,
   "id": "6d0165a2-f0cc-40c3-adc1-c023c9f8c769",
   "metadata": {},
   "outputs": [],
   "source": [
    "#################################################################################"
   ]
  },
  {
   "cell_type": "markdown",
   "id": "c2ea1861",
   "metadata": {},
   "source": [
    "### 시리즈 연산  \n",
    "    (1) 벡터화 연산  \n",
    "    (2) Boolean selection  \n",
    "    (3) 두 시리즈간의 연산"
   ]
  },
  {
   "cell_type": "code",
   "execution_count": null,
   "id": "c3af0027",
   "metadata": {},
   "outputs": [],
   "source": []
  },
  {
   "cell_type": "markdown",
   "id": "fb46f551",
   "metadata": {},
   "source": [
    "#####  (1) 벡터화 연산\n",
    "- 벡터화 연산 : 집합적 자료형의 원소 각각에 대해 독립적으로 계산 수행\n",
    "    - 단, 연산은 시리즈의 값에만 적용\n",
    "    - 인덱스 값은 변경 불가"
   ]
  },
  {
   "cell_type": "code",
   "execution_count": 71,
   "id": "5907b30f-102a-4ce0-a18a-f6815e5c9197",
   "metadata": {},
   "outputs": [
    {
     "data": {
      "text/plain": [
       "0    11\n",
       "1    12\n",
       "2    13\n",
       "dtype: int64"
      ]
     },
     "execution_count": 71,
     "metadata": {},
     "output_type": "execute_result"
    }
   ],
   "source": [
    "# 시리즈 각 원소에 대해서 + 10한 연산 수행\n",
    "pd.Series([1, 2, 3]) + 10"
   ]
  },
  {
   "cell_type": "code",
   "execution_count": 74,
   "id": "ce8aa6f7",
   "metadata": {},
   "outputs": [
    {
     "data": {
      "text/plain": [
       "서울    9631482\n",
       "부산    3393191\n",
       "인천    2632035\n",
       "대전    1490158\n",
       "dtype: int64"
      ]
     },
     "execution_count": 74,
     "metadata": {},
     "output_type": "execute_result"
    }
   ],
   "source": [
    "city"
   ]
  },
  {
   "cell_type": "code",
   "execution_count": 75,
   "id": "2f0353ea",
   "metadata": {},
   "outputs": [
    {
     "data": {
      "text/plain": [
       "서울     True\n",
       "부산     True\n",
       "인천     True\n",
       "대전    False\n",
       "dtype: bool"
      ]
     },
     "execution_count": 75,
     "metadata": {},
     "output_type": "execute_result"
    }
   ],
   "source": [
    "city > 2500000"
   ]
  },
  {
   "cell_type": "code",
   "execution_count": 77,
   "id": "39992c69",
   "metadata": {},
   "outputs": [
    {
     "data": {
      "text/plain": [
       "부산    3393191\n",
       "인천    2632035\n",
       "dtype: int64"
      ]
     },
     "execution_count": 77,
     "metadata": {},
     "output_type": "execute_result"
    }
   ],
   "source": [
    "# city 시리즈 값 중에서 2,500,000보다 크고 5,000,000보다 작은 원소를 추출\n",
    "city[(city > 2500000) &(city < 5000000)]"
   ]
  },
  {
   "cell_type": "markdown",
   "id": "c6037fd9",
   "metadata": {},
   "source": [
    "#### (2) Boolean selection\n",
    "  - boolean 연산 결과 True에 해당되는 값만 추출 \n",
    "  - [연산식] : 연산식 결과가 True인 것만 추출\n",
    "  - 다중조건의 경우, &(and), |(or)를 사용하여 연결 가능"
   ]
  },
  {
   "cell_type": "code",
   "execution_count": 156,
   "id": "fc31e8f9-f6b4-4980-bb6c-43c6e4510ee4",
   "metadata": {},
   "outputs": [
    {
     "data": {
      "text/plain": [
       "1     0\n",
       "2     1\n",
       "3     2\n",
       "4     3\n",
       "5     4\n",
       "6     5\n",
       "7     6\n",
       "8     7\n",
       "9     8\n",
       "10    9\n",
       "dtype: int64"
      ]
     },
     "execution_count": 156,
     "metadata": {},
     "output_type": "execute_result"
    }
   ],
   "source": [
    "# series s3 생성\n",
    "# index : 1 ~ 10\n",
    "# values : 0 ~ 9\n",
    "s3 = pd.Series(range(0,10), index =range(1,11))\n",
    "s3"
   ]
  },
  {
   "cell_type": "code",
   "execution_count": 94,
   "id": "1d458896",
   "metadata": {
    "scrolled": true
   },
   "outputs": [
    {
     "data": {
      "text/plain": [
       "3    4\n",
       "4    5\n",
       "5    6\n",
       "dtype: int64"
      ]
     },
     "execution_count": 94,
     "metadata": {},
     "output_type": "execute_result"
    }
   ],
   "source": [
    "# s3 중에서 3보다 크고 7미만인 값만 추출\n",
    "s3[(s3>3) & (s3<7)]"
   ]
  },
  {
   "cell_type": "code",
   "execution_count": 157,
   "id": "4787d128",
   "metadata": {
    "scrolled": true
   },
   "outputs": [
    {
     "data": {
      "text/plain": [
       "1    0\n",
       "3    2\n",
       "5    4\n",
       "7    6\n",
       "9    8\n",
       "dtype: int64"
      ]
     },
     "execution_count": 157,
     "metadata": {},
     "output_type": "execute_result"
    }
   ],
   "source": [
    "# s3 원소중에서 짝수 값만 추출\n",
    "s3[(s3%2 == 0)]"
   ]
  },
  {
   "cell_type": "code",
   "execution_count": 96,
   "id": "53b97a0c",
   "metadata": {
    "scrolled": true
   },
   "outputs": [
    {
     "data": {
      "text/plain": [
       "0    False\n",
       "1    False\n",
       "2    False\n",
       "3    False\n",
       "4    False\n",
       "5    False\n",
       "6     True\n",
       "7     True\n",
       "8     True\n",
       "9     True\n",
       "dtype: bool"
      ]
     },
     "execution_count": 96,
     "metadata": {},
     "output_type": "execute_result"
    }
   ],
   "source": [
    "s3 >= 7"
   ]
  },
  {
   "cell_type": "markdown",
   "id": "4ad09b67",
   "metadata": {},
   "source": [
    "##### 딕셔너리 와 시리즈의 관계\n",
    "- 시리즈 객체는 인덱스를 key로 가지는 딕셔너리 형과 같다고 볼 수 있음\n",
    "- 딕셔너리에서 제공하는 대부분의 연산자 사용 가능\n",
    "    - in 연산자 : T/F\n",
    "    - for 루프를 통해 각 원소의 key와 value에 접근 가능"
   ]
  },
  {
   "cell_type": "code",
   "execution_count": 97,
   "id": "bc17bec2-a355-4dbb-95fa-e662b1212ad1",
   "metadata": {},
   "outputs": [
    {
     "data": {
      "text/plain": [
       "a    10\n",
       "b    20\n",
       "c    30\n",
       "d    40\n",
       "dtype: int64"
      ]
     },
     "execution_count": 97,
     "metadata": {},
     "output_type": "execute_result"
    }
   ],
   "source": [
    "nums = pd.Series([10, 20, 30, 40], index=['a', 'b', 'c', 'd'])\n",
    "nums"
   ]
  },
  {
   "cell_type": "code",
   "execution_count": 99,
   "id": "b5680e81",
   "metadata": {},
   "outputs": [
    {
     "data": {
      "text/plain": [
       "True"
      ]
     },
     "execution_count": 99,
     "metadata": {},
     "output_type": "execute_result"
    }
   ],
   "source": [
    "# in연산자 사용\n",
    "# 키에 해당되는 인덱스 a가 시리즈에 포함되어 있는지 확인\n",
    "'a' in nums"
   ]
  },
  {
   "cell_type": "code",
   "execution_count": 158,
   "id": "ed9525d2",
   "metadata": {},
   "outputs": [
    {
     "data": {
      "text/plain": [
       "서울    9631482\n",
       "부산    3393191\n",
       "인천    2632035\n",
       "대전    1490158\n",
       "dtype: int64"
      ]
     },
     "execution_count": 158,
     "metadata": {},
     "output_type": "execute_result"
    }
   ],
   "source": [
    "city"
   ]
  },
  {
   "cell_type": "code",
   "execution_count": 159,
   "id": "cc89968f",
   "metadata": {},
   "outputs": [
    {
     "data": {
      "text/plain": [
       "<zip at 0x144b6bfc0>"
      ]
     },
     "execution_count": 159,
     "metadata": {},
     "output_type": "execute_result"
    }
   ],
   "source": [
    "city.items()"
   ]
  },
  {
   "cell_type": "code",
   "execution_count": 104,
   "id": "e6066b65",
   "metadata": {},
   "outputs": [
    {
     "data": {
      "text/plain": [
       "[('서울', 9631482), ('부산', 3393191), ('인천', 2632035), ('대전', 1490158)]"
      ]
     },
     "execution_count": 104,
     "metadata": {},
     "output_type": "execute_result"
    }
   ],
   "source": [
    "list(city.items())"
   ]
  },
  {
   "cell_type": "code",
   "execution_count": 106,
   "id": "d00e42e3",
   "metadata": {},
   "outputs": [
    {
     "name": "stdout",
     "output_type": "stream",
     "text": [
      "서울 9631482\n",
      "부산 3393191\n",
      "인천 2632035\n",
      "대전 1490158\n"
     ]
    }
   ],
   "source": [
    "# key, value\n",
    "# index, value 추출\n",
    "for k, v in list(city.items()):\n",
    "    print(k, v)"
   ]
  },
  {
   "cell_type": "code",
   "execution_count": 108,
   "id": "6b6e0af0",
   "metadata": {},
   "outputs": [
    {
     "name": "stdout",
     "output_type": "stream",
     "text": [
      "서울\n",
      "부산\n",
      "인천\n",
      "대전\n"
     ]
    }
   ],
   "source": [
    "# key(index) 추출\n",
    "for k in city.keys():\n",
    "    print(k)"
   ]
  },
  {
   "cell_type": "code",
   "execution_count": 111,
   "id": "b8f86d33",
   "metadata": {},
   "outputs": [
    {
     "name": "stdout",
     "output_type": "stream",
     "text": [
      "9631482\n",
      "3393191\n",
      "2632035\n",
      "1490158\n"
     ]
    }
   ],
   "source": [
    "# 값 추출\n",
    "for v in city.values:\n",
    "    print(v) "
   ]
  },
  {
   "cell_type": "code",
   "execution_count": null,
   "id": "23bd1d99",
   "metadata": {},
   "outputs": [],
   "source": []
  },
  {
   "cell_type": "code",
   "execution_count": null,
   "id": "e1675919-ae84-41fb-a31c-615a59c43f5b",
   "metadata": {},
   "outputs": [],
   "source": [
    "#################################################################################"
   ]
  },
  {
   "cell_type": "markdown",
   "id": "371da524",
   "metadata": {},
   "source": [
    "### 시리즈 속성 및 함수(메소드)      \n",
    "     - size 속성 : 원소 개수 반환  \n",
    "     - shape 속성 : 튜플형태로 shape반환  \n",
    "     - len() : 길이 (원소 개수 반환)\n",
    "     - unique() : 유일한 값만 ndarray로 반환  \n",
    "     - count() : NaN을 제외한 개수를 반환  \n",
    "     - mean(): NaN을 제외한 평균  \n",
    "     - value_counts() : NaN을 제외하고 각 값들의 빈도를 반환 "
   ]
  },
  {
   "cell_type": "code",
   "execution_count": 118,
   "id": "32fe57d1-5161-419b-a84a-cb7da13ffc21",
   "metadata": {},
   "outputs": [
    {
     "data": {
      "text/plain": [
       "0     1.0\n",
       "1     1.0\n",
       "2     2.0\n",
       "3     1.0\n",
       "4     2.0\n",
       "5     NaN\n",
       "6     2.0\n",
       "7     2.0\n",
       "8     1.0\n",
       "9     1.0\n",
       "10    3.0\n",
       "11    3.0\n",
       "12    4.0\n",
       "13    5.0\n",
       "14    5.0\n",
       "15    7.0\n",
       "16    NaN\n",
       "dtype: float64"
      ]
     },
     "execution_count": 118,
     "metadata": {},
     "output_type": "execute_result"
    }
   ],
   "source": [
    "# nan, NaN둘다 된다.\n",
    "s5 = pd.Series([1, 1, 2, 1, 2, np.nan, 2, 2, 1, 1, 3, 3, 4, 5, 5, 7, np.NaN])\n",
    "s5"
   ]
  },
  {
   "cell_type": "code",
   "execution_count": 120,
   "id": "20468949",
   "metadata": {},
   "outputs": [
    {
     "data": {
      "text/plain": [
       "17"
      ]
     },
     "execution_count": 120,
     "metadata": {},
     "output_type": "execute_result"
    },
    {
     "data": {
      "text/plain": [
       "17"
      ]
     },
     "execution_count": 120,
     "metadata": {},
     "output_type": "execute_result"
    }
   ],
   "source": [
    "# 길이 (원소의 개수)\n",
    "len(s5)\n",
    "s5.size"
   ]
  },
  {
   "cell_type": "code",
   "execution_count": 122,
   "id": "60b1f900",
   "metadata": {},
   "outputs": [
    {
     "data": {
      "text/plain": [
       "(17,)"
      ]
     },
     "execution_count": 122,
     "metadata": {},
     "output_type": "execute_result"
    }
   ],
   "source": [
    "s5.shape # 차원으로 표현하기 때문에 tuple형태로 출력 "
   ]
  },
  {
   "cell_type": "code",
   "execution_count": 124,
   "id": "706dba28",
   "metadata": {},
   "outputs": [
    {
     "data": {
      "text/plain": [
       "array([ 1.,  2., nan,  3.,  4.,  5.,  7.])"
      ]
     },
     "execution_count": 124,
     "metadata": {},
     "output_type": "execute_result"
    }
   ],
   "source": [
    "# unique() : 중복값 제거하고 유일한 값 출력\n",
    "s5.unique()"
   ]
  },
  {
   "cell_type": "code",
   "execution_count": 126,
   "id": "e82367d5",
   "metadata": {},
   "outputs": [
    {
     "data": {
      "text/plain": [
       "15"
      ]
     },
     "execution_count": 126,
     "metadata": {},
     "output_type": "execute_result"
    }
   ],
   "source": [
    "s5.count()  # NaN 값 제외"
   ]
  },
  {
   "cell_type": "code",
   "execution_count": 128,
   "id": "bd72e874",
   "metadata": {},
   "outputs": [
    {
     "data": {
      "text/plain": [
       "2.6666666666666665"
      ]
     },
     "execution_count": 128,
     "metadata": {},
     "output_type": "execute_result"
    }
   ],
   "source": [
    "# 평균 - NaN값 제외\n",
    "s5.mean() "
   ]
  },
  {
   "cell_type": "code",
   "execution_count": 130,
   "id": "bdbb6d41",
   "metadata": {},
   "outputs": [
    {
     "data": {
      "text/plain": [
       "1.0    5\n",
       "2.0    4\n",
       "3.0    2\n",
       "5.0    2\n",
       "4.0    1\n",
       "7.0    1\n",
       "dtype: int64"
      ]
     },
     "execution_count": 130,
     "metadata": {},
     "output_type": "execute_result"
    }
   ],
   "source": [
    "# 각 원소에 대해 동일한 value의 원소끼리 grouping해서 개수 세서 반환\n",
    "# NaN 제외\n",
    "s5.value_counts()"
   ]
  },
  {
   "cell_type": "code",
   "execution_count": 132,
   "id": "5468b316",
   "metadata": {},
   "outputs": [
    {
     "data": {
      "text/plain": [
       "a    1\n",
       "b    2\n",
       "c    3\n",
       "a    4\n",
       "a    5\n",
       "dtype: int64"
      ]
     },
     "execution_count": 132,
     "metadata": {},
     "output_type": "execute_result"
    }
   ],
   "source": [
    "s = pd.Series([1,2,3,4,5], index=['a', 'b', 'c', 'a', 'a'])\n",
    "s"
   ]
  },
  {
   "cell_type": "code",
   "execution_count": 134,
   "id": "97443aec",
   "metadata": {},
   "outputs": [
    {
     "data": {
      "text/plain": [
       "False"
      ]
     },
     "execution_count": 134,
     "metadata": {},
     "output_type": "execute_result"
    }
   ],
   "source": [
    "# index 중복되는게 없는지\n",
    "s.index.is_unique "
   ]
  },
  {
   "cell_type": "code",
   "execution_count": 136,
   "id": "1c0a4dab",
   "metadata": {},
   "outputs": [
    {
     "data": {
      "text/plain": [
       "a    1\n",
       "a    4\n",
       "a    5\n",
       "dtype: int64"
      ]
     },
     "execution_count": 136,
     "metadata": {},
     "output_type": "execute_result"
    }
   ],
   "source": [
    "s['a']"
   ]
  },
  {
   "cell_type": "code",
   "execution_count": 138,
   "id": "531a8968",
   "metadata": {},
   "outputs": [
    {
     "data": {
      "text/plain": [
       "1"
      ]
     },
     "execution_count": 138,
     "metadata": {},
     "output_type": "execute_result"
    },
    {
     "data": {
      "text/plain": [
       "4"
      ]
     },
     "execution_count": 138,
     "metadata": {},
     "output_type": "execute_result"
    },
    {
     "data": {
      "text/plain": [
       "5"
      ]
     },
     "execution_count": 138,
     "metadata": {},
     "output_type": "execute_result"
    }
   ],
   "source": [
    "# 중복되는 인덱스에서 각 원소 골라내기\n",
    "s['a'].iloc[0]\n",
    "s['a'].iloc[1]\n",
    "s['a'].iloc[2]"
   ]
  }
 ],
 "metadata": {
  "kernelspec": {
   "display_name": "Python 3 (ipykernel)",
   "language": "python",
   "name": "python3"
  },
  "language_info": {
   "codemirror_mode": {
    "name": "ipython",
    "version": 3
   },
   "file_extension": ".py",
   "mimetype": "text/x-python",
   "name": "python",
   "nbconvert_exporter": "python",
   "pygments_lexer": "ipython3",
   "version": "3.10.13"
  }
 },
 "nbformat": 4,
 "nbformat_minor": 5
}
