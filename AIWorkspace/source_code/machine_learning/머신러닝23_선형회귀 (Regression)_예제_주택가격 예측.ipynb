{
 "cells": [
  {
   "cell_type": "markdown",
   "id": "0dedd291",
   "metadata": {},
   "source": [
    "## 선형 회귀 예제"
   ]
  },
  {
   "cell_type": "markdown",
   "id": "85f9a06d",
   "metadata": {},
   "source": [
    "### 사이킷런 LinearRegression을 이용한 보스턴 주택 가격 예측 예제"
   ]
  },
  {
   "cell_type": "markdown",
   "id": "5b9e4228",
   "metadata": {},
   "source": [
    "### 사용 데이터 \n",
    "- Boston Housing Price (보스턴 주택 가격 데이터)\n",
    "- 사이킷런 1.0 대 버전에서만 제공 (1.2 버전 이후 제공되지 않음)\n",
    "\n",
    "---\n",
    "- 보스턴 시의 주택 가격에 대한 데이터\n",
    "    - 주택의 여러가진 요건들과 주택의 가격 정보 포함\n",
    "    - 주택의 가격에 영향을 미치는 요소 분석\n",
    "- 데이터 수 : 506 개\n",
    "- 피처 개수 :  14 개\n"
   ]
  },
  {
   "cell_type": "code",
   "execution_count": 1,
   "id": "953c54cc",
   "metadata": {},
   "outputs": [
    {
     "data": {
      "text/plain": [
       "'1.2.1'"
      ]
     },
     "execution_count": 1,
     "metadata": {},
     "output_type": "execute_result"
    }
   ],
   "source": [
    "import sklearn\n",
    "sklearn.__version__"
   ]
  },
  {
   "cell_type": "markdown",
   "id": "8191d15b",
   "metadata": {},
   "source": [
    "피처 설명  \n",
    "- CRIM: 지역별 범죄 발생률. 1인당 범죄율  \n",
    "- ZN: 25,000평방피트를 초과하는 거주 지역의 비율  \n",
    "- INDUS: 비상업지역이 점유하고 있는 토지의 비율(넓이 비율)  \n",
    "- CHAS: 찰스강에 대한 더미 변수(강의 경계에 위치한 경우는 1, 아니면 0)  \n",
    "- NOX: 일산화질소 농도  \n",
    "- RM: 주택 1가구당 평균 방의 개수  \n",
    "- AGE: 1940년 이전에 건축된 소유주택의 비율  \n",
    "- DIS: 5개 주요 고용센터까지의 가중 거리(접근성 지수)  \n",
    "- RAD: 고속도로 접근 용이도(접근성 지수)  \n",
    "- TAX: 10,000달러당 재산세율  \n",
    "- PTRATIO: 자치시(town)별 학생/교사 비율  \n",
    "- B: 자치시별 흑인 거주 비율  \n",
    "- LSTAT: 하위 계층의 비율  \n",
    "- MEDV: 본인 소유의 주택 가격(중앙값) (단위: $1,000)  "
   ]
  },
  {
   "cell_type": "markdown",
   "id": "b63ed41d",
   "metadata": {},
   "source": [
    "### 보스턴 주택 가격 예측 모델 생성  \n",
    "- 사용 데이터 세트 : 보스턴 주택 가격 데이터 세트  \n",
    "- 데이터 준비 : 피처 데이터 / 레이블 데이터  \n",
    "- 데이터 세트 분리 : 학습 / 테스트 데이터 세트   \n",
    "    - train_test_split() 이용  \n",
    "- 사용 알고리즘(모델) : LinearRegression  \n",
    "- 모델 학습 및 예측 수행 : fit() / predict()  \n",
    "- 모델 평가  \n",
    "    - MSE 측정 : metrics 모듈의 mean_squared_error() 이용   \n",
    "    - RMSE 측정 : 사이킷런이 지원하지 않기 때문에 np.sqrt() 이용  \n",
    "    - R2 Score 측정 : r2_score() 이용    \n",
    "- 교차 검증 수행  "
   ]
  },
  {
   "cell_type": "code",
   "execution_count": 2,
   "id": "c1e0d8dd",
   "metadata": {},
   "outputs": [],
   "source": [
    "from IPython.core.interactiveshell import InteractiveShell\n",
    "InteractiveShell.ast_node_interactivity=\"all\""
   ]
  },
  {
   "cell_type": "code",
   "execution_count": 4,
   "id": "22f74a8d",
   "metadata": {},
   "outputs": [
    {
     "data": {
      "text/html": [
       "<div>\n",
       "<style scoped>\n",
       "    .dataframe tbody tr th:only-of-type {\n",
       "        vertical-align: middle;\n",
       "    }\n",
       "\n",
       "    .dataframe tbody tr th {\n",
       "        vertical-align: top;\n",
       "    }\n",
       "\n",
       "    .dataframe thead th {\n",
       "        text-align: right;\n",
       "    }\n",
       "</style>\n",
       "<table border=\"1\" class=\"dataframe\">\n",
       "  <thead>\n",
       "    <tr style=\"text-align: right;\">\n",
       "      <th></th>\n",
       "      <th>CRIM</th>\n",
       "      <th>ZN</th>\n",
       "      <th>INDUS</th>\n",
       "      <th>CHAS</th>\n",
       "      <th>NOX</th>\n",
       "      <th>RM</th>\n",
       "      <th>AGE</th>\n",
       "      <th>DIS</th>\n",
       "      <th>RAD</th>\n",
       "      <th>TAX</th>\n",
       "      <th>PTRATIO</th>\n",
       "      <th>B</th>\n",
       "      <th>LSTAT</th>\n",
       "      <th>PRICE</th>\n",
       "    </tr>\n",
       "  </thead>\n",
       "  <tbody>\n",
       "    <tr>\n",
       "      <th>0</th>\n",
       "      <td>0.00632</td>\n",
       "      <td>18.0</td>\n",
       "      <td>2.31</td>\n",
       "      <td>0</td>\n",
       "      <td>0.538</td>\n",
       "      <td>6.575</td>\n",
       "      <td>65.2</td>\n",
       "      <td>4.0900</td>\n",
       "      <td>1</td>\n",
       "      <td>296</td>\n",
       "      <td>15.3</td>\n",
       "      <td>396.90</td>\n",
       "      <td>4.98</td>\n",
       "      <td>24.0</td>\n",
       "    </tr>\n",
       "    <tr>\n",
       "      <th>1</th>\n",
       "      <td>0.02731</td>\n",
       "      <td>0.0</td>\n",
       "      <td>7.07</td>\n",
       "      <td>0</td>\n",
       "      <td>0.469</td>\n",
       "      <td>6.421</td>\n",
       "      <td>78.9</td>\n",
       "      <td>4.9671</td>\n",
       "      <td>2</td>\n",
       "      <td>242</td>\n",
       "      <td>17.8</td>\n",
       "      <td>396.90</td>\n",
       "      <td>9.14</td>\n",
       "      <td>21.6</td>\n",
       "    </tr>\n",
       "    <tr>\n",
       "      <th>2</th>\n",
       "      <td>0.02729</td>\n",
       "      <td>0.0</td>\n",
       "      <td>7.07</td>\n",
       "      <td>0</td>\n",
       "      <td>0.469</td>\n",
       "      <td>7.185</td>\n",
       "      <td>61.1</td>\n",
       "      <td>4.9671</td>\n",
       "      <td>2</td>\n",
       "      <td>242</td>\n",
       "      <td>17.8</td>\n",
       "      <td>392.83</td>\n",
       "      <td>4.03</td>\n",
       "      <td>34.7</td>\n",
       "    </tr>\n",
       "    <tr>\n",
       "      <th>3</th>\n",
       "      <td>0.03237</td>\n",
       "      <td>0.0</td>\n",
       "      <td>2.18</td>\n",
       "      <td>0</td>\n",
       "      <td>0.458</td>\n",
       "      <td>6.998</td>\n",
       "      <td>45.8</td>\n",
       "      <td>6.0622</td>\n",
       "      <td>3</td>\n",
       "      <td>222</td>\n",
       "      <td>18.7</td>\n",
       "      <td>394.63</td>\n",
       "      <td>2.94</td>\n",
       "      <td>33.4</td>\n",
       "    </tr>\n",
       "    <tr>\n",
       "      <th>4</th>\n",
       "      <td>0.06905</td>\n",
       "      <td>0.0</td>\n",
       "      <td>2.18</td>\n",
       "      <td>0</td>\n",
       "      <td>0.458</td>\n",
       "      <td>7.147</td>\n",
       "      <td>54.2</td>\n",
       "      <td>6.0622</td>\n",
       "      <td>3</td>\n",
       "      <td>222</td>\n",
       "      <td>18.7</td>\n",
       "      <td>396.90</td>\n",
       "      <td>5.33</td>\n",
       "      <td>36.2</td>\n",
       "    </tr>\n",
       "  </tbody>\n",
       "</table>\n",
       "</div>"
      ],
      "text/plain": [
       "      CRIM    ZN  INDUS  CHAS    NOX     RM   AGE     DIS  RAD  TAX  PTRATIO   \n",
       "0  0.00632  18.0   2.31     0  0.538  6.575  65.2  4.0900    1  296     15.3  \\\n",
       "1  0.02731   0.0   7.07     0  0.469  6.421  78.9  4.9671    2  242     17.8   \n",
       "2  0.02729   0.0   7.07     0  0.469  7.185  61.1  4.9671    2  242     17.8   \n",
       "3  0.03237   0.0   2.18     0  0.458  6.998  45.8  6.0622    3  222     18.7   \n",
       "4  0.06905   0.0   2.18     0  0.458  7.147  54.2  6.0622    3  222     18.7   \n",
       "\n",
       "        B  LSTAT  PRICE  \n",
       "0  396.90   4.98   24.0  \n",
       "1  396.90   9.14   21.6  \n",
       "2  392.83   4.03   34.7  \n",
       "3  394.63   2.94   33.4  \n",
       "4  396.90   5.33   36.2  "
      ]
     },
     "execution_count": 4,
     "metadata": {},
     "output_type": "execute_result"
    },
    {
     "data": {
      "text/html": [
       "<div>\n",
       "<style scoped>\n",
       "    .dataframe tbody tr th:only-of-type {\n",
       "        vertical-align: middle;\n",
       "    }\n",
       "\n",
       "    .dataframe tbody tr th {\n",
       "        vertical-align: top;\n",
       "    }\n",
       "\n",
       "    .dataframe thead th {\n",
       "        text-align: right;\n",
       "    }\n",
       "</style>\n",
       "<table border=\"1\" class=\"dataframe\">\n",
       "  <thead>\n",
       "    <tr style=\"text-align: right;\">\n",
       "      <th></th>\n",
       "      <th>CRIM</th>\n",
       "      <th>ZN</th>\n",
       "      <th>INDUS</th>\n",
       "      <th>CHAS</th>\n",
       "      <th>NOX</th>\n",
       "      <th>RM</th>\n",
       "      <th>AGE</th>\n",
       "      <th>DIS</th>\n",
       "      <th>RAD</th>\n",
       "      <th>TAX</th>\n",
       "      <th>PTRATIO</th>\n",
       "      <th>B</th>\n",
       "      <th>LSTAT</th>\n",
       "      <th>PRICE</th>\n",
       "    </tr>\n",
       "  </thead>\n",
       "  <tbody>\n",
       "    <tr>\n",
       "      <th>501</th>\n",
       "      <td>0.06263</td>\n",
       "      <td>0.0</td>\n",
       "      <td>11.93</td>\n",
       "      <td>0</td>\n",
       "      <td>0.573</td>\n",
       "      <td>6.593</td>\n",
       "      <td>69.1</td>\n",
       "      <td>2.4786</td>\n",
       "      <td>1</td>\n",
       "      <td>273</td>\n",
       "      <td>21.0</td>\n",
       "      <td>391.99</td>\n",
       "      <td>9.67</td>\n",
       "      <td>22.4</td>\n",
       "    </tr>\n",
       "    <tr>\n",
       "      <th>502</th>\n",
       "      <td>0.04527</td>\n",
       "      <td>0.0</td>\n",
       "      <td>11.93</td>\n",
       "      <td>0</td>\n",
       "      <td>0.573</td>\n",
       "      <td>6.120</td>\n",
       "      <td>76.7</td>\n",
       "      <td>2.2875</td>\n",
       "      <td>1</td>\n",
       "      <td>273</td>\n",
       "      <td>21.0</td>\n",
       "      <td>396.90</td>\n",
       "      <td>9.08</td>\n",
       "      <td>20.6</td>\n",
       "    </tr>\n",
       "    <tr>\n",
       "      <th>503</th>\n",
       "      <td>0.06076</td>\n",
       "      <td>0.0</td>\n",
       "      <td>11.93</td>\n",
       "      <td>0</td>\n",
       "      <td>0.573</td>\n",
       "      <td>6.976</td>\n",
       "      <td>91.0</td>\n",
       "      <td>2.1675</td>\n",
       "      <td>1</td>\n",
       "      <td>273</td>\n",
       "      <td>21.0</td>\n",
       "      <td>396.90</td>\n",
       "      <td>5.64</td>\n",
       "      <td>23.9</td>\n",
       "    </tr>\n",
       "    <tr>\n",
       "      <th>504</th>\n",
       "      <td>0.10959</td>\n",
       "      <td>0.0</td>\n",
       "      <td>11.93</td>\n",
       "      <td>0</td>\n",
       "      <td>0.573</td>\n",
       "      <td>6.794</td>\n",
       "      <td>89.3</td>\n",
       "      <td>2.3889</td>\n",
       "      <td>1</td>\n",
       "      <td>273</td>\n",
       "      <td>21.0</td>\n",
       "      <td>393.45</td>\n",
       "      <td>6.48</td>\n",
       "      <td>22.0</td>\n",
       "    </tr>\n",
       "    <tr>\n",
       "      <th>505</th>\n",
       "      <td>0.04741</td>\n",
       "      <td>0.0</td>\n",
       "      <td>11.93</td>\n",
       "      <td>0</td>\n",
       "      <td>0.573</td>\n",
       "      <td>6.030</td>\n",
       "      <td>80.8</td>\n",
       "      <td>2.5050</td>\n",
       "      <td>1</td>\n",
       "      <td>273</td>\n",
       "      <td>21.0</td>\n",
       "      <td>396.90</td>\n",
       "      <td>7.88</td>\n",
       "      <td>11.9</td>\n",
       "    </tr>\n",
       "  </tbody>\n",
       "</table>\n",
       "</div>"
      ],
      "text/plain": [
       "        CRIM   ZN  INDUS  CHAS    NOX     RM   AGE     DIS  RAD  TAX  PTRATIO   \n",
       "501  0.06263  0.0  11.93     0  0.573  6.593  69.1  2.4786    1  273     21.0  \\\n",
       "502  0.04527  0.0  11.93     0  0.573  6.120  76.7  2.2875    1  273     21.0   \n",
       "503  0.06076  0.0  11.93     0  0.573  6.976  91.0  2.1675    1  273     21.0   \n",
       "504  0.10959  0.0  11.93     0  0.573  6.794  89.3  2.3889    1  273     21.0   \n",
       "505  0.04741  0.0  11.93     0  0.573  6.030  80.8  2.5050    1  273     21.0   \n",
       "\n",
       "          B  LSTAT  PRICE  \n",
       "501  391.99   9.67   22.4  \n",
       "502  396.90   9.08   20.6  \n",
       "503  396.90   5.64   23.9  \n",
       "504  393.45   6.48   22.0  \n",
       "505  396.90   7.88   11.9  "
      ]
     },
     "execution_count": 4,
     "metadata": {},
     "output_type": "execute_result"
    }
   ],
   "source": [
    "import numpy as np\n",
    "import pandas as pd\n",
    "import seaborn as sns\n",
    "import matplotlib.pyplot as plt\n",
    "%matplotlib inline\n",
    "\n",
    "boston_df = df_pop = pd.read_csv('../../data/boston_dataset.csv', index_col=0) \n",
    "boston_df.head()\n",
    "boston_df.tail()\n"
   ]
  },
  {
   "cell_type": "code",
   "execution_count": 5,
   "id": "9c07de00",
   "metadata": {},
   "outputs": [
    {
     "name": "stdout",
     "output_type": "stream",
     "text": [
      "<class 'pandas.core.frame.DataFrame'>\n",
      "Index: 506 entries, 0 to 505\n",
      "Data columns (total 14 columns):\n",
      " #   Column   Non-Null Count  Dtype  \n",
      "---  ------   --------------  -----  \n",
      " 0   CRIM     506 non-null    float64\n",
      " 1   ZN       506 non-null    float64\n",
      " 2   INDUS    506 non-null    float64\n",
      " 3   CHAS     506 non-null    int64  \n",
      " 4   NOX      506 non-null    float64\n",
      " 5   RM       506 non-null    float64\n",
      " 6   AGE      506 non-null    float64\n",
      " 7   DIS      506 non-null    float64\n",
      " 8   RAD      506 non-null    int64  \n",
      " 9   TAX      506 non-null    int64  \n",
      " 10  PTRATIO  506 non-null    float64\n",
      " 11  B        506 non-null    float64\n",
      " 12  LSTAT    506 non-null    float64\n",
      " 13  PRICE    506 non-null    float64\n",
      "dtypes: float64(11), int64(3)\n",
      "memory usage: 59.3 KB\n"
     ]
    }
   ],
   "source": [
    "boston_df.info()"
   ]
  },
  {
   "cell_type": "markdown",
   "id": "dceaf81a",
   "metadata": {},
   "source": [
    "집 값에 크게 영향을 미치는 중요한 요소 추청  \n",
    "- 삶의 편의성을 생각하면 : RM (거주할 수 있는 방 개수)\n",
    "- RAD : 고속도로 접근 용이도 (미국은 차가 있어야 하니까)"
   ]
  },
  {
   "cell_type": "markdown",
   "id": "3aa9c50a",
   "metadata": {},
   "source": [
    "각 피처별로 주택 가격에 미치는 영향도를 조사  \n",
    "총 8개의 피처에 대해 값이 증가할수록 PRICE 값이 어떻게 변하는지 확인"
   ]
  },
  {
   "cell_type": "markdown",
   "id": "7d753725",
   "metadata": {},
   "source": [
    "Seaborn의 regplot() 이용  \n",
    "- 각 ax마다 피처와 PRICE의 관계 표현  \n",
    "- 2차원 평면에서 X축을 피처, Y축을 타깃값으로 설정하면  \n",
    "- 산점도와 함께 선형 회귀 직선표시  "
   ]
  },
  {
   "cell_type": "markdown",
   "id": "4a66b59a",
   "metadata": {},
   "source": [
    "### 집 값에 영향을 미치는 피처 확인 "
   ]
  },
  {
   "cell_type": "code",
   "execution_count": null,
   "id": "8ca6f457",
   "metadata": {},
   "outputs": [],
   "source": [
    "# 피처 선택\n",
    "\n",
    "# 방의 개수\n",
    "# 25,000평방피트를 초과하는 거주 지역의 비율 \n",
    "# 비상업지역이 점유하고 있는 토지의 비율(넓이 비율)\n",
    "# 일산화질소 농도\n",
    "# 1940년 이전에 건축된 소유 주택의 비율\n",
    "# 학생/교사 비율\n",
    "# 하위 계층의 비율\n",
    "# 고속도로 접근 용이도\n",
    "\n",
    "# 선택한 피처들만 포함시켜서 \n",
    "# sns.regplot()사용하여\n",
    "# 2행 4열로 시각화"
   ]
  },
  {
   "cell_type": "code",
   "execution_count": 20,
   "id": "a7059bf8",
   "metadata": {},
   "outputs": [
    {
     "data": {
      "text/plain": [
       "<Figure size 800x400 with 0 Axes>"
      ]
     },
     "execution_count": 20,
     "metadata": {},
     "output_type": "execute_result"
    },
    {
     "data": {
      "text/plain": [
       "<Axes: >"
      ]
     },
     "execution_count": 20,
     "metadata": {},
     "output_type": "execute_result"
    },
    {
     "data": {
      "text/plain": [
       "<Axes: xlabel='RM', ylabel='PRICE'>"
      ]
     },
     "execution_count": 20,
     "metadata": {},
     "output_type": "execute_result"
    },
    {
     "data": {
      "text/plain": [
       "<Axes: >"
      ]
     },
     "execution_count": 20,
     "metadata": {},
     "output_type": "execute_result"
    },
    {
     "data": {
      "text/plain": [
       "<Axes: xlabel='ZN', ylabel='PRICE'>"
      ]
     },
     "execution_count": 20,
     "metadata": {},
     "output_type": "execute_result"
    },
    {
     "data": {
      "text/plain": [
       "<Axes: >"
      ]
     },
     "execution_count": 20,
     "metadata": {},
     "output_type": "execute_result"
    },
    {
     "data": {
      "text/plain": [
       "<Axes: xlabel='INDUS', ylabel='PRICE'>"
      ]
     },
     "execution_count": 20,
     "metadata": {},
     "output_type": "execute_result"
    },
    {
     "data": {
      "text/plain": [
       "<Axes: >"
      ]
     },
     "execution_count": 20,
     "metadata": {},
     "output_type": "execute_result"
    },
    {
     "data": {
      "text/plain": [
       "<Axes: xlabel='NOX', ylabel='PRICE'>"
      ]
     },
     "execution_count": 20,
     "metadata": {},
     "output_type": "execute_result"
    },
    {
     "data": {
      "text/plain": [
       "<Axes: >"
      ]
     },
     "execution_count": 20,
     "metadata": {},
     "output_type": "execute_result"
    },
    {
     "data": {
      "text/plain": [
       "<Axes: xlabel='AGE', ylabel='PRICE'>"
      ]
     },
     "execution_count": 20,
     "metadata": {},
     "output_type": "execute_result"
    },
    {
     "data": {
      "text/plain": [
       "<Axes: >"
      ]
     },
     "execution_count": 20,
     "metadata": {},
     "output_type": "execute_result"
    },
    {
     "data": {
      "text/plain": [
       "<Axes: xlabel='PTRATIO', ylabel='PRICE'>"
      ]
     },
     "execution_count": 20,
     "metadata": {},
     "output_type": "execute_result"
    },
    {
     "data": {
      "text/plain": [
       "<Axes: >"
      ]
     },
     "execution_count": 20,
     "metadata": {},
     "output_type": "execute_result"
    },
    {
     "data": {
      "text/plain": [
       "<Axes: xlabel='LSTAT', ylabel='PRICE'>"
      ]
     },
     "execution_count": 20,
     "metadata": {},
     "output_type": "execute_result"
    },
    {
     "data": {
      "text/plain": [
       "<Axes: >"
      ]
     },
     "execution_count": 20,
     "metadata": {},
     "output_type": "execute_result"
    },
    {
     "data": {
      "text/plain": [
       "<Axes: xlabel='RAD', ylabel='PRICE'>"
      ]
     },
     "execution_count": 20,
     "metadata": {},
     "output_type": "execute_result"
    },
    {
     "data": {
      "image/png": "[encoded data removed]",
      "text/plain": [
       "<Figure size 800x400 with 8 Axes>"
      ]
     },
     "metadata": {},
     "output_type": "display_data"
    }
   ],
   "source": [
    "features = ['RM', 'ZN', 'INDUS', 'NOX', 'AGE', 'PTRATIO', 'LSTAT', 'RAD']\n",
    "\n",
    "plt.figure(figsize=(8,4))\n",
    "for i, feature in enumerate(features):\n",
    "    plt.subplot(2,4,i+1)\n",
    "    sns.regplot(x=feature, y='PRICE', data=boston_df)\n",
    "    \n",
    "plt.tight_layout()\n",
    "plt.show()"
   ]
  },
  {
   "cell_type": "code",
   "execution_count": 15,
   "id": "33371668",
   "metadata": {},
   "outputs": [],
   "source": [
    "# 결과\n",
    "# 기울기\n",
    "# PRICE에 가장 영향을 많이 끼치는 feature : RM(방의 개수), LSTAT(하위계층)\n",
    "# RM : 양의 방향 - 방개수 증가 -> 가격 증가\n",
    "# LSTAT : 음의 방향"
   ]
  },
  {
   "cell_type": "markdown",
   "id": "6dcc3bbc",
   "metadata": {},
   "source": []
  },
  {
   "cell_type": "markdown",
   "id": "328dac0d",
   "metadata": {},
   "source": [
    "### 데이터 준비 "
   ]
  },
  {
   "cell_type": "code",
   "execution_count": 22,
   "id": "f1472ede",
   "metadata": {},
   "outputs": [],
   "source": [
    "# target 값 데이터 세트\n",
    "# label처럼 0,1로 분류되지 않아도 괜찮음\n",
    "y_target = boston_df['PRICE']\n",
    "\n",
    "\n",
    "# feature값 데이터 세트\n",
    "X_data = boston_df.drop('PRICE', axis=1)"
   ]
  },
  {
   "cell_type": "markdown",
   "id": "2a5a594a",
   "metadata": {},
   "source": [
    "### 데이터 세트 분리"
   ]
  },
  {
   "cell_type": "code",
   "execution_count": 23,
   "id": "9b03ccb7",
   "metadata": {},
   "outputs": [],
   "source": [
    "from sklearn.model_selection import train_test_split\n",
    "\n",
    "X_train , X_test , y_train , y_test = train_test_split(X_data ,\n",
    "                                                       y_target ,\n",
    "                                                       test_size=0.3, \n",
    "                                                       random_state=156)"
   ]
  },
  {
   "cell_type": "markdown",
   "id": "570e670e",
   "metadata": {},
   "source": [
    "### 예측 모델 생성 "
   ]
  },
  {
   "cell_type": "code",
   "execution_count": 25,
   "id": "75e09924",
   "metadata": {},
   "outputs": [
    {
     "data": {
      "text/html": [
       "<style>#sk-container-id-2 {color: black;background-color: white;}#sk-container-id-2 pre{padding: 0;}#sk-container-id-2 div.sk-toggleable {background-color: white;}#sk-container-id-2 label.sk-toggleable__label {cursor: pointer;display: block;width: 100%;margin-bottom: 0;padding: 0.3em;box-sizing: border-box;text-align: center;}#sk-container-id-2 label.sk-toggleable__label-arrow:before {content: \"▸\";float: left;margin-right: 0.25em;color: #696969;}#sk-container-id-2 label.sk-toggleable__label-arrow:hover:before {color: black;}#sk-container-id-2 div.sk-estimator:hover label.sk-toggleable__label-arrow:before {color: black;}#sk-container-id-2 div.sk-toggleable__content {max-height: 0;max-width: 0;overflow: hidden;text-align: left;background-color: #f0f8ff;}#sk-container-id-2 div.sk-toggleable__content pre {margin: 0.2em;color: black;border-radius: 0.25em;background-color: #f0f8ff;}#sk-container-id-2 input.sk-toggleable__control:checked~div.sk-toggleable__content {max-height: 200px;max-width: 100%;overflow: auto;}#sk-container-id-2 input.sk-toggleable__control:checked~label.sk-toggleable__label-arrow:before {content: \"▾\";}#sk-container-id-2 div.sk-estimator input.sk-toggleable__control:checked~label.sk-toggleable__label {background-color: #d4ebff;}#sk-container-id-2 div.sk-label input.sk-toggleable__control:checked~label.sk-toggleable__label {background-color: #d4ebff;}#sk-container-id-2 input.sk-hidden--visually {border: 0;clip: rect(1px 1px 1px 1px);clip: rect(1px, 1px, 1px, 1px);height: 1px;margin: -1px;overflow: hidden;padding: 0;position: absolute;width: 1px;}#sk-container-id-2 div.sk-estimator {font-family: monospace;background-color: #f0f8ff;border: 1px dotted black;border-radius: 0.25em;box-sizing: border-box;margin-bottom: 0.5em;}#sk-container-id-2 div.sk-estimator:hover {background-color: #d4ebff;}#sk-container-id-2 div.sk-parallel-item::after {content: \"\";width: 100%;border-bottom: 1px solid gray;flex-grow: 1;}#sk-container-id-2 div.sk-label:hover label.sk-toggleable__label {background-color: #d4ebff;}#sk-container-id-2 div.sk-serial::before {content: \"\";position: absolute;border-left: 1px solid gray;box-sizing: border-box;top: 0;bottom: 0;left: 50%;z-index: 0;}#sk-container-id-2 div.sk-serial {display: flex;flex-direction: column;align-items: center;background-color: white;padding-right: 0.2em;padding-left: 0.2em;position: relative;}#sk-container-id-2 div.sk-item {position: relative;z-index: 1;}#sk-container-id-2 div.sk-parallel {display: flex;align-items: stretch;justify-content: center;background-color: white;position: relative;}#sk-container-id-2 div.sk-item::before, #sk-container-id-2 div.sk-parallel-item::before {content: \"\";position: absolute;border-left: 1px solid gray;box-sizing: border-box;top: 0;bottom: 0;left: 50%;z-index: -1;}#sk-container-id-2 div.sk-parallel-item {display: flex;flex-direction: column;z-index: 1;position: relative;background-color: white;}#sk-container-id-2 div.sk-parallel-item:first-child::after {align-self: flex-end;width: 50%;}#sk-container-id-2 div.sk-parallel-item:last-child::after {align-self: flex-start;width: 50%;}#sk-container-id-2 div.sk-parallel-item:only-child::after {width: 0;}#sk-container-id-2 div.sk-dashed-wrapped {border: 1px dashed gray;margin: 0 0.4em 0.5em 0.4em;box-sizing: border-box;padding-bottom: 0.4em;background-color: white;}#sk-container-id-2 div.sk-label label {font-family: monospace;font-weight: bold;display: inline-block;line-height: 1.2em;}#sk-container-id-2 div.sk-label-container {text-align: center;}#sk-container-id-2 div.sk-container {/* jupyter's `normalize.less` sets `[hidden] { display: none; }` but bootstrap.min.css set `[hidden] { display: none !important; }` so we also need the `!important` here to be able to override the default hidden behavior on the sphinx rendered scikit-learn.org. See: https://github.com/scikit-learn/scikit-learn/issues/21755 */display: inline-block !important;position: relative;}#sk-container-id-2 div.sk-text-repr-fallback {display: none;}</style><div id=\"sk-container-id-2\" class=\"sk-top-container\"><div class=\"sk-text-repr-fallback\"><pre>LinearRegression()</pre><b>In a Jupyter environment, please rerun this cell to show the HTML representation or trust the notebook. <br />On GitHub, the HTML representation is unable to render, please try loading this page with nbviewer.org.</b></div><div class=\"sk-container\" hidden><div class=\"sk-item\"><div class=\"sk-estimator sk-toggleable\"><input class=\"sk-toggleable__control sk-hidden--visually\" id=\"sk-estimator-id-2\" type=\"checkbox\" checked><label for=\"sk-estimator-id-2\" class=\"sk-toggleable__label sk-toggleable__label-arrow\">LinearRegression</label><div class=\"sk-toggleable__content\"><pre>LinearRegression()</pre></div></div></div></div></div>"
      ],
      "text/plain": [
       "LinearRegression()"
      ]
     },
     "execution_count": 25,
     "metadata": {},
     "output_type": "execute_result"
    }
   ],
   "source": [
    "# 예측 모델 생성\n",
    "from sklearn.linear_model import LinearRegression\n",
    "\n",
    "lr_reg = LinearRegression()\n",
    "lr_reg.fit(X_train, y_train) # 학습\n",
    "y_pred = lr_reg.predict(X_test) # 예측"
   ]
  },
  {
   "cell_type": "markdown",
   "id": "19093a93",
   "metadata": {},
   "source": [
    "### 모델 평가"
   ]
  },
  {
   "cell_type": "code",
   "execution_count": 33,
   "id": "608b45c8",
   "metadata": {},
   "outputs": [
    {
     "name": "stdout",
     "output_type": "stream",
     "text": [
      "MSE : 17.297, RMSE :4.159\n",
      "R제곱 : 0.757\n"
     ]
    }
   ],
   "source": [
    "# 모델 평가 : MSE / RMSE / R 제곱\n",
    "\n",
    "from sklearn.metrics import mean_squared_error, r2_score\n",
    "\n",
    "# mse값 : mean_squared_error(실제값, 예측값) 사용 -> 예측 오류값 \n",
    "mse = mean_squared_error(y_test, y_pred)\n",
    "\n",
    "# rmse : 사이킷런에서는 rmse지원하지 않기 때문에 np.sqrt(mse) 사용\n",
    "rmse = np.sqrt(mse)\n",
    "\n",
    "# r제곱 : r2_score(실제값, 예측값)\n",
    "r2 = r2_score(y_test, y_pred)\n",
    "\n",
    "\n",
    "# 평가 지표 출력\n",
    "print('MSE : {0:.3f}, RMSE :{1:.3f}'.format(mse, rmse))\n",
    "print('R제곱 : {0:.3f}'.format(r2))\n",
    "\n",
    "# 결과\n",
    "# 평가 : RMSE와 R제곱 지표 확인\n",
    "# RMSE :  4.159\n",
    "# R제곱 :  0.757\n",
    "\n",
    "# RMSE 는 낮을수록 성능이 좋고\n",
    "# R제곱은 1에 가까울수록 좋은 수치임\n",
    "\n",
    "# 따라서 현재 예측 모델은\n",
    "# 나쁜 수치는 아니지만 만족할만한 수치도 아님"
   ]
  },
  {
   "cell_type": "code",
   "execution_count": 34,
   "id": "763247f0",
   "metadata": {},
   "outputs": [
    {
     "data": {
      "text/plain": [
       "21.654605263157894"
      ]
     },
     "execution_count": 34,
     "metadata": {},
     "output_type": "execute_result"
    },
    {
     "data": {
      "text/plain": [
       "23.047517912319616"
      ]
     },
     "execution_count": 34,
     "metadata": {},
     "output_type": "execute_result"
    }
   ],
   "source": [
    "# 실제값 예측값 비교\n",
    "y_test.mean() # 실제값 평균\n",
    "y_pred.mean() # 예측값 평균"
   ]
  },
  {
   "cell_type": "code",
   "execution_count": 56,
   "id": "6ee1f8d5",
   "metadata": {},
   "outputs": [
    {
     "name": "stdout",
     "output_type": "stream",
     "text": [
      "절편 값 : 40.9955951721644\n",
      "회귀 계수 값 : [-1.12979614e-01  6.55124002e-02  3.44366694e-02  3.04589777e+00\n",
      " -1.97958320e+01  3.35496880e+00  5.93713290e-03 -1.74185354e+00\n",
      "  3.55884364e-01 -1.42954516e-02 -9.20180066e-01  1.03966156e-02\n",
      " -5.66182106e-01]\n"
     ]
    }
   ],
   "source": [
    "# 절편과 회귀 계수값 확인\n",
    "print('절편 값 :', lr_reg.intercept_)\n",
    "print('회귀 계수 값 :', lr_reg.coef_)"
   ]
  },
  {
   "cell_type": "code",
   "execution_count": 58,
   "id": "30d715ea",
   "metadata": {},
   "outputs": [
    {
     "data": {
      "text/plain": [
       "RM          3.354969\n",
       "CHAS        3.045898\n",
       "RAD         0.355884\n",
       "ZN          0.065512\n",
       "INDUS       0.034437\n",
       "B           0.010397\n",
       "AGE         0.005937\n",
       "TAX        -0.014295\n",
       "CRIM       -0.112980\n",
       "LSTAT      -0.566182\n",
       "PTRATIO    -0.920180\n",
       "DIS        -1.741854\n",
       "NOX       -19.795832\n",
       "dtype: float64"
      ]
     },
     "execution_count": 58,
     "metadata": {},
     "output_type": "execute_result"
    }
   ],
   "source": [
    "# coef_ 속성은 회귀 계수 값만 가지고 있으므로\n",
    "# 회귀 계수값을 피처별로 매칭시키고\n",
    "# 내림차순 정렬해서 확인\n",
    "from pandas import Series\n",
    "f_imp = Series(data= lr_reg.coef_, index=boston_df.columns[:-1]).sort_values(ascending=False)\n",
    "f_imp\n",
    "\n",
    "# 결과\n",
    "# RM이 회귀계수 3.4로 가장 큼\n",
    "# 특이사항 : NOX피처의 회귀계수가 -19.8로 너무 큼\n",
    "# -NOX값 때문에 예측 오류값이 달라질 수 있음\n",
    "# 최적화 수행하면서 피처의 회귀계수 변화도 같이 살펴볼 예정"
   ]
  },
  {
   "cell_type": "markdown",
   "id": "d2ae9550",
   "metadata": {},
   "source": [
    "### 교차 검증 수행"
   ]
  },
  {
   "cell_type": "markdown",
   "id": "0503b82f",
   "metadata": {},
   "source": [
    "교차 검증 수행\n",
    "- 5개의 폴드 세트에서 corss_val_score()를 이용해 교차 검증 수행     \n",
    "- MSE와 RMSE 측정  \n",
    "- corss_val_score()에서는 RMSE를 제공하지 않음    \n",
    "    - MSE 수치 결과를 RMSE로 변환 작업 필요     \n",
    "\n",
    "MSE 구하는 방법      \n",
    "- MSE 값을 반환받기 위해 매개변수 scoring='neg_mean_squared_error' 설정  \n",
    "    - 주의!!  \n",
    "    - 사이킷런의 지표 평가 기준은 높은 지표 값일수록 좋은 모델인데      \n",
    "        - 예: 정확도, f1, recall, precision, roc_auc   \n",
    "    - MSE는 낮을수록 좋은 회귀 모델  \n",
    "        - 그래서 scoring='neg_mean_squared_error'로 사이킷런의 scoring 함수를 호출하면  \n",
    "        - MSE 값에 -1을 곱해서 반환됨(반환값이 minus다!)   \n",
    "        - 따라서 MSE값 쓰려면\n",
    "        - corss_val_score()에서 반환된 값에 다시 -1을 곱해야   \n",
    "            - 양의 값인 원래 모델에서 계산된 MSE 값이 됨  \n",
    "- 결론 :  \n",
    "    - scoring='neg_mean_squared_error' 설정  \n",
    "    - **반환된 값에 -1 곱해서 양의 값으로 변환해서 사용**\n",
    "\n",
    "RMSE 구하는 방법  \n",
    "- 사이킷런에서 RMSE는 제공하지 않으므로  \n",
    "- MSE 수치 결과를 RMSE로 변환할 필요  \n",
    "- 변환된 MSE 값에 넘파이 sqrt() 함수를 적용해서 구함  \n"
   ]
  },
  {
   "cell_type": "code",
   "execution_count": 66,
   "id": "745b1a74",
   "metadata": {},
   "outputs": [
    {
     "name": "stdout",
     "output_type": "stream",
     "text": [
      "5 Folds 교차 검증 개별 Negative MSE scores :  [-12.46 -26.05 -33.07 -80.76 -33.31]\n",
      "5 Folds 교차 검증 개별 RMSE scores :  [3.53 5.1  5.75 8.99 5.77]\n",
      "5 Folds 교차 검증 평균 RMSE :  5.829\n"
     ]
    }
   ],
   "source": [
    "# 5개의 fold세트에서 교차 검증 수행\n",
    "# MSE와 RMSE 측정\n",
    "from sklearn.model_selection import cross_val_score\n",
    "\n",
    "# 5개 Fold set으로 MSE 구함\n",
    "neg_mse_scores = cross_val_score(lr_reg,\n",
    "                                X_data, y_target, \n",
    "                                scoring='neg_mean_squared_error',\n",
    "                                cv=5)\n",
    "\n",
    "# neg_mse_scores가 음수값으로 반환되므로 -1 곲해서 사용\n",
    "# RMSE는 np.sqrt() 사용\n",
    "rmse_scores = np.sqrt(-1 * neg_mse_scores) # 제곱근\n",
    "avg_rmse = np.mean(rmse_scores) # 평균\n",
    "\n",
    "# 평가 지표 출력\n",
    "print('5 Folds 교차 검증 개별 Negative MSE scores : ', np.round(neg_mse_scores, 2))\n",
    "print('5 Folds 교차 검증 개별 RMSE scores : ', np.round(rmse_scores, 2))\n",
    "print('5 Folds 교차 검증 평균 RMSE : ', np.round(avg_rmse, 3))\n",
    "\n",
    "# 결과\n",
    "# 교차 검증 전 RMSE : 4.159\n",
    "# 교차 검증 후 RMSE : 5.829\n",
    "\n",
    "# 좀 더 정확한 평가를 위해서 교차 검증을 수행했는데\n",
    "# RMSE값이 약간 더 높게 나타남\n",
    "# 만족할 만한 수치는 아님\n",
    "\n",
    "# 데이터 부족이 가장 큰 문제인듯 (테스트용, 검증용 데이터 부족)\n",
    "# 좀 더 충분한 데이터가 있어야 할 듯"
   ]
  },
  {
   "cell_type": "markdown",
   "id": "58e69ec0",
   "metadata": {},
   "source": [
    "### LinearRegression 하이퍼 파라미터 튜닝\n",
    "- LinearRegression 모델은 파라미터가 몇 개 없기 때문에\n",
    "- 하이퍼 파라미터 튜닝은 거의 수행하지 않음\n",
    "- 하이퍼 파라미터 튜닝을 적용하려면 릿리, 라쏘, 엘라스틱 넷을 사용   "
   ]
  },
  {
   "cell_type": "markdown",
   "id": "6c888d1f",
   "metadata": {},
   "source": [
    "회귀분석에서 스케일링\n",
    "- tree기반 알고리즘은 영향을 덜 받아서 수행하지 않아도 괜찮은데\n",
    "- 로지스틱 회귀는 회귀를 기반으로 하고 있기 때문에\n",
    "- **피쳐데이터: 표준 스케일링**\n",
    "- **target :  로그 변환**\n",
    "- 한 후에 모델링 !!\n"
   ]
  },
  {
   "cell_type": "code",
   "execution_count": 67,
   "id": "0c04dc1c",
   "metadata": {},
   "outputs": [],
   "source": [
    "# 선형 회귀 계열의  로지스틱 회귀는\n",
    "# 데이터의  정규 분포에 따라\n",
    "# 예측 성능에 영향을 받을 수 있으므로\n",
    "# 먼저 정규 분포 형태의 표준 스케일링을 적용한 뒤\n",
    "# 학습/테스트 데이터 세트로 분리"
   ]
  },
  {
   "cell_type": "markdown",
   "id": "bbca069b",
   "metadata": {},
   "source": [
    "### 스케일링 수행 후 데이터 세트 분리하고 모델링 수행 "
   ]
  },
  {
   "cell_type": "code",
   "execution_count": 87,
   "id": "ee300f35",
   "metadata": {},
   "outputs": [],
   "source": [
    "from sklearn.preprocessing import StandardScaler\n",
    "\n",
    "# 피처데이터 표준 스케일링 \n",
    "scaler = StandardScaler()\n",
    "data_scaled = scaler.fit_transform(X_data)\n",
    "\n",
    "# target값 로그 변환\n",
    "target_scaled = np.log1p(y_target)\n",
    "\n",
    "# 데이터 세트 분리\n",
    "X_train, X_test, y_train, y_test = train_test_split(data_scaled,\n",
    "                                                    target_scaled,\n",
    "                                                    test_size=0.3, \n",
    "                                                    random_state=156)\n"
   ]
  },
  {
   "cell_type": "code",
   "execution_count": 88,
   "id": "848b7d11",
   "metadata": {},
   "outputs": [
    {
     "data": {
      "text/html": [
       "<style>#sk-container-id-13 {color: black;background-color: white;}#sk-container-id-13 pre{padding: 0;}#sk-container-id-13 div.sk-toggleable {background-color: white;}#sk-container-id-13 label.sk-toggleable__label {cursor: pointer;display: block;width: 100%;margin-bottom: 0;padding: 0.3em;box-sizing: border-box;text-align: center;}#sk-container-id-13 label.sk-toggleable__label-arrow:before {content: \"▸\";float: left;margin-right: 0.25em;color: #696969;}#sk-container-id-13 label.sk-toggleable__label-arrow:hover:before {color: black;}#sk-container-id-13 div.sk-estimator:hover label.sk-toggleable__label-arrow:before {color: black;}#sk-container-id-13 div.sk-toggleable__content {max-height: 0;max-width: 0;overflow: hidden;text-align: left;background-color: #f0f8ff;}#sk-container-id-13 div.sk-toggleable__content pre {margin: 0.2em;color: black;border-radius: 0.25em;background-color: #f0f8ff;}#sk-container-id-13 input.sk-toggleable__control:checked~div.sk-toggleable__content {max-height: 200px;max-width: 100%;overflow: auto;}#sk-container-id-13 input.sk-toggleable__control:checked~label.sk-toggleable__label-arrow:before {content: \"▾\";}#sk-container-id-13 div.sk-estimator input.sk-toggleable__control:checked~label.sk-toggleable__label {background-color: #d4ebff;}#sk-container-id-13 div.sk-label input.sk-toggleable__control:checked~label.sk-toggleable__label {background-color: #d4ebff;}#sk-container-id-13 input.sk-hidden--visually {border: 0;clip: rect(1px 1px 1px 1px);clip: rect(1px, 1px, 1px, 1px);height: 1px;margin: -1px;overflow: hidden;padding: 0;position: absolute;width: 1px;}#sk-container-id-13 div.sk-estimator {font-family: monospace;background-color: #f0f8ff;border: 1px dotted black;border-radius: 0.25em;box-sizing: border-box;margin-bottom: 0.5em;}#sk-container-id-13 div.sk-estimator:hover {background-color: #d4ebff;}#sk-container-id-13 div.sk-parallel-item::after {content: \"\";width: 100%;border-bottom: 1px solid gray;flex-grow: 1;}#sk-container-id-13 div.sk-label:hover label.sk-toggleable__label {background-color: #d4ebff;}#sk-container-id-13 div.sk-serial::before {content: \"\";position: absolute;border-left: 1px solid gray;box-sizing: border-box;top: 0;bottom: 0;left: 50%;z-index: 0;}#sk-container-id-13 div.sk-serial {display: flex;flex-direction: column;align-items: center;background-color: white;padding-right: 0.2em;padding-left: 0.2em;position: relative;}#sk-container-id-13 div.sk-item {position: relative;z-index: 1;}#sk-container-id-13 div.sk-parallel {display: flex;align-items: stretch;justify-content: center;background-color: white;position: relative;}#sk-container-id-13 div.sk-item::before, #sk-container-id-13 div.sk-parallel-item::before {content: \"\";position: absolute;border-left: 1px solid gray;box-sizing: border-box;top: 0;bottom: 0;left: 50%;z-index: -1;}#sk-container-id-13 div.sk-parallel-item {display: flex;flex-direction: column;z-index: 1;position: relative;background-color: white;}#sk-container-id-13 div.sk-parallel-item:first-child::after {align-self: flex-end;width: 50%;}#sk-container-id-13 div.sk-parallel-item:last-child::after {align-self: flex-start;width: 50%;}#sk-container-id-13 div.sk-parallel-item:only-child::after {width: 0;}#sk-container-id-13 div.sk-dashed-wrapped {border: 1px dashed gray;margin: 0 0.4em 0.5em 0.4em;box-sizing: border-box;padding-bottom: 0.4em;background-color: white;}#sk-container-id-13 div.sk-label label {font-family: monospace;font-weight: bold;display: inline-block;line-height: 1.2em;}#sk-container-id-13 div.sk-label-container {text-align: center;}#sk-container-id-13 div.sk-container {/* jupyter's `normalize.less` sets `[hidden] { display: none; }` but bootstrap.min.css set `[hidden] { display: none !important; }` so we also need the `!important` here to be able to override the default hidden behavior on the sphinx rendered scikit-learn.org. See: https://github.com/scikit-learn/scikit-learn/issues/21755 */display: inline-block !important;position: relative;}#sk-container-id-13 div.sk-text-repr-fallback {display: none;}</style><div id=\"sk-container-id-13\" class=\"sk-top-container\"><div class=\"sk-text-repr-fallback\"><pre>LinearRegression()</pre><b>In a Jupyter environment, please rerun this cell to show the HTML representation or trust the notebook. <br />On GitHub, the HTML representation is unable to render, please try loading this page with nbviewer.org.</b></div><div class=\"sk-container\" hidden><div class=\"sk-item\"><div class=\"sk-estimator sk-toggleable\"><input class=\"sk-toggleable__control sk-hidden--visually\" id=\"sk-estimator-id-13\" type=\"checkbox\" checked><label for=\"sk-estimator-id-13\" class=\"sk-toggleable__label sk-toggleable__label-arrow\">LinearRegression</label><div class=\"sk-toggleable__content\"><pre>LinearRegression()</pre></div></div></div></div></div>"
      ],
      "text/plain": [
       "LinearRegression()"
      ]
     },
     "execution_count": 88,
     "metadata": {},
     "output_type": "execute_result"
    }
   ],
   "source": [
    "# 예측 모델 생성\n",
    "from sklearn.linear_model import LinearRegression\n",
    "from sklearn.metrics import accuracy_score\n",
    "\n",
    "\n",
    "lr_reg = LinearRegression()\n",
    "lr_reg.fit(X_train, y_train) # 학습\n",
    "y_pred = lr_reg.predict(X_test) # 예측"
   ]
  },
  {
   "cell_type": "code",
   "execution_count": 89,
   "id": "968340de",
   "metadata": {},
   "outputs": [
    {
     "name": "stdout",
     "output_type": "stream",
     "text": [
      "MSE : 0.031, RMSE :0.176\n",
      "R제곱 : 0.794\n"
     ]
    }
   ],
   "source": [
    "# 모델 평가 : MSE / RMSE / R 제곱\n",
    "\n",
    "from sklearn.metrics import mean_squared_error, r2_score\n",
    "\n",
    "# mse값 : mean_squared_error(실제값, 예측값) 사용 -> 예측 오류값 \n",
    "mse = mean_squared_error(y_test, y_pred)\n",
    "\n",
    "# rmse : 사이킷런에서는 rmse지원하지 않기 때문에 np.sqrt(mse) 사용\n",
    "rmse = np.sqrt(mse)\n",
    "\n",
    "# r제곱 : r2_score(실제값, 예측값)\n",
    "r2 = r2_score(y_test, y_pred)\n",
    "\n",
    "\n",
    "# 평가 지표 출력\n",
    "print('MSE : {0:.3f}, RMSE :{1:.3f}'.format(mse, rmse))\n",
    "print('R제곱 : {0:.3f}'.format(r2))\n",
    "\n",
    "\n",
    "# MSE : 0.031, RMSE :0.176\n",
    "# R제곱 : 0.794"
   ]
  }
 ],
 "metadata": {
  "kernelspec": {
   "display_name": "Python 3 (ipykernel)",
   "language": "python",
   "name": "python3"
  },
  "language_info": {
   "codemirror_mode": {
    "name": "ipython",
    "version": 3
   },
   "file_extension": ".py",
   "mimetype": "text/x-python",
   "name": "python",
   "nbconvert_exporter": "python",
   "pygments_lexer": "ipython3",
   "version": "3.10.13"
  }
 },
 "nbformat": 4,
 "nbformat_minor": 5
}
