{
 "cells": [
  {
   "cell_type": "markdown",
   "id": "e3982ccf",
   "metadata": {},
   "source": [
    "## 여러 분류 모델 성능 평가 지표를 활용한 모델 평가"
   ]
  },
  {
   "cell_type": "markdown",
   "id": "aa3613fe",
   "metadata": {},
   "source": [
    "### 피마 인디언 당뇨병 예측\n",
    "- 피마 인디언 당뇨병 (Pima Indian Diabetes) 데이터 세트를 이용해  \n",
    "- 당뇨병 여부를 판단하는 머신러닝 예측 모델을 수립하고  \n",
    "- 오차행렬, 정확도, 정밀도, 재현율, F1 스코어, ROC AUC 평가 지표 적용  "
   ]
  },
  {
   "cell_type": "markdown",
   "id": "026259a4",
   "metadata": {},
   "source": [
    "### 피마 인디언 당뇨병 예측 모델  \n",
    "- 사용 데이터 세트 : Pima Indian Diabetes  \n",
    "- 데이터 세트 분리 : 테스트용(평가용) 데이터 세트 20%  \n",
    "- 사용하는 ML 알고리즘 : 로지스틱 회귀 알고리즘  \n",
    "- 모델 평가 : 예측 성능 평가   \n",
    "    - 오차행렬, 정확도, 정밀도, 재현율, F1 스코어, ROC AUC 평가 지표 "
   ]
  },
  {
   "cell_type": "markdown",
   "id": "aa5265a6",
   "metadata": {},
   "source": [
    "#### 피마 인디언 당뇨명 데이터 세트  \n",
    "- 북아메리카 피마 지역 원주민의 Type-2 당뇨병 결과 데이터  \n",
    "- 보통 당뇨 원인으로 식습관과 유전을 꼽음  \n",
    "- 피마 지역은 고립된 지역에서 인디언 고유의 활동이 지속돼 왔지만  \n",
    "- 20세기 후반에 들어서면서 서구화된 식습관으로 많은 당뇨 환자 발생  \n",
    "- 고립된 유전적 특성 때문에 당뇨학회에서는 피마 인디언의 당뇨병 자료에 대해 많은 연구 수행  "
   ]
  },
  {
   "cell_type": "markdown",
   "id": "ce14454b",
   "metadata": {},
   "source": [
    "https://www.kaggle.com/  \n",
    "회원가입하고 데이터 다운로드  \n"
   ]
  },
  {
   "cell_type": "markdown",
   "id": "6d23209c",
   "metadata": {},
   "source": [
    "###  피마 인디언 당뇨병 예측 프로세스\n",
    "(1) 데이터 세트 준비 : 피마 인디언 당뇨명 데이터 세트  \n",
    "(2) 데이터 세트 분리 : 학습 데이터 / 테스트 데이터 세트  \n",
    "(3) 모델 학습 및 예측 수행 :  로지스틱 회귀 알고리즘 적용하여 모델 학습 및 예측   \n",
    "(4) 평가 : 예측 성능 평가 지표 출력   \n",
    "(5) 재현율 성능에 조금 더 초점을 맞춰 조정  \n",
    "(6) 예측 성능을 향상시키기 위해 데이터 가공 수행  \n",
    "(7) 다시 예측 성능 평가  "
   ]
  },
  {
   "cell_type": "code",
   "execution_count": 4,
   "id": "13c916f5",
   "metadata": {},
   "outputs": [],
   "source": [
    "from IPython.core.interactiveshell import InteractiveShell\n",
    "InteractiveShell.ast_node_interactivity=\"all\""
   ]
  },
  {
   "cell_type": "code",
   "execution_count": 5,
   "id": "fa025397",
   "metadata": {},
   "outputs": [],
   "source": [
    "import numpy as np\n",
    "import pandas as pd\n",
    "import matplotlib.pyplot as plt\n",
    "%matplotlib inline"
   ]
  },
  {
   "cell_type": "markdown",
   "id": "53e7f9de",
   "metadata": {},
   "source": [
    "### (1) 데이터 세트 준비 : 피마 인디언 당뇨명 데이터 세트"
   ]
  },
  {
   "cell_type": "code",
   "execution_count": 3,
   "id": "a4de6c94",
   "metadata": {
    "scrolled": true
   },
   "outputs": [
    {
     "data": {
      "text/html": [
       "<div>\n",
       "<style scoped>\n",
       "    .dataframe tbody tr th:only-of-type {\n",
       "        vertical-align: middle;\n",
       "    }\n",
       "\n",
       "    .dataframe tbody tr th {\n",
       "        vertical-align: top;\n",
       "    }\n",
       "\n",
       "    .dataframe thead th {\n",
       "        text-align: right;\n",
       "    }\n",
       "</style>\n",
       "<table border=\"1\" class=\"dataframe\">\n",
       "  <thead>\n",
       "    <tr style=\"text-align: right;\">\n",
       "      <th></th>\n",
       "      <th>Pregnancies</th>\n",
       "      <th>Glucose</th>\n",
       "      <th>BloodPressure</th>\n",
       "      <th>SkinThickness</th>\n",
       "      <th>Insulin</th>\n",
       "      <th>BMI</th>\n",
       "      <th>DiabetesPedigreeFunction</th>\n",
       "      <th>Age</th>\n",
       "      <th>Outcome</th>\n",
       "    </tr>\n",
       "  </thead>\n",
       "  <tbody>\n",
       "    <tr>\n",
       "      <th>765</th>\n",
       "      <td>5</td>\n",
       "      <td>121</td>\n",
       "      <td>72</td>\n",
       "      <td>23</td>\n",
       "      <td>112</td>\n",
       "      <td>26.2</td>\n",
       "      <td>0.245</td>\n",
       "      <td>30</td>\n",
       "      <td>0</td>\n",
       "    </tr>\n",
       "    <tr>\n",
       "      <th>766</th>\n",
       "      <td>1</td>\n",
       "      <td>126</td>\n",
       "      <td>60</td>\n",
       "      <td>0</td>\n",
       "      <td>0</td>\n",
       "      <td>30.1</td>\n",
       "      <td>0.349</td>\n",
       "      <td>47</td>\n",
       "      <td>1</td>\n",
       "    </tr>\n",
       "    <tr>\n",
       "      <th>767</th>\n",
       "      <td>1</td>\n",
       "      <td>93</td>\n",
       "      <td>70</td>\n",
       "      <td>31</td>\n",
       "      <td>0</td>\n",
       "      <td>30.4</td>\n",
       "      <td>0.315</td>\n",
       "      <td>23</td>\n",
       "      <td>0</td>\n",
       "    </tr>\n",
       "  </tbody>\n",
       "</table>\n",
       "</div>"
      ],
      "text/plain": [
       "     Pregnancies  Glucose  BloodPressure  SkinThickness  Insulin   BMI   \n",
       "765            5      121             72             23      112  26.2  \\\n",
       "766            1      126             60              0        0  30.1   \n",
       "767            1       93             70             31        0  30.4   \n",
       "\n",
       "     DiabetesPedigreeFunction  Age  Outcome  \n",
       "765                     0.245   30        0  \n",
       "766                     0.349   47        1  \n",
       "767                     0.315   23        0  "
      ]
     },
     "execution_count": 3,
     "metadata": {},
     "output_type": "execute_result"
    }
   ],
   "source": [
    "diabetes_data = pd.read_csv('../../data/diabetes.csv')\n",
    "diabetes_data.tail(3)\n",
    "\n",
    "# 어떤 컬럼을 label로 / feature data로 잡으면 좋을지?\n",
    "# label : 0/1로 분류되어야하므로 : outcome\n",
    "# 나머지 columns들 : feature data"
   ]
  },
  {
   "cell_type": "markdown",
   "id": "03559675",
   "metadata": {},
   "source": [
    "피마 인디언 당뇨병 데이터 세트 피처\n",
    "* Pregnancies: 임신 횟수\n",
    "* Glucose: 포도당 부하 검사 수치\n",
    "* BloodPressure: 혈압(mm Hg)\n",
    "* SkinThickness: 팔 삼두근 뒤쪽의 피하지방 측정값(mm)\n",
    "* Insulin: 혈청 인슐린(mu U/ml)\n",
    "* BMI: 체질량지수(체중(kg)/(키(m))^2)\n",
    "* DiabetesPedigreeFunction: 당뇨 내력 가중치 값\n",
    "* Age: 나이\n",
    "* Outcome: 클래스 결정 값(0또는 1)"
   ]
  },
  {
   "cell_type": "code",
   "execution_count": 17,
   "id": "8e021922",
   "metadata": {},
   "outputs": [
    {
     "data": {
      "text/plain": [
       "Outcome\n",
       "0    500\n",
       "1    268\n",
       "Name: count, dtype: int64"
      ]
     },
     "execution_count": 17,
     "metadata": {},
     "output_type": "execute_result"
    }
   ],
   "source": [
    "# label data 확인 : 'Outcome'\n",
    "# 정답 : 클래스 결정 값 0, 1\n",
    "diabetes_data['Outcome'].value_counts()\n",
    "\n",
    "# 전체 768개 중에"
   ]
  },
  {
   "cell_type": "code",
   "execution_count": 18,
   "id": "60c50fce",
   "metadata": {},
   "outputs": [
    {
     "name": "stdout",
     "output_type": "stream",
     "text": [
      "<class 'pandas.core.frame.DataFrame'>\n",
      "RangeIndex: 768 entries, 0 to 767\n",
      "Data columns (total 9 columns):\n",
      " #   Column                    Non-Null Count  Dtype  \n",
      "---  ------                    --------------  -----  \n",
      " 0   Pregnancies               768 non-null    int64  \n",
      " 1   Glucose                   768 non-null    int64  \n",
      " 2   BloodPressure             768 non-null    int64  \n",
      " 3   SkinThickness             768 non-null    int64  \n",
      " 4   Insulin                   768 non-null    int64  \n",
      " 5   BMI                       768 non-null    float64\n",
      " 6   DiabetesPedigreeFunction  768 non-null    float64\n",
      " 7   Age                       768 non-null    int64  \n",
      " 8   Outcome                   768 non-null    int64  \n",
      "dtypes: float64(2), int64(7)\n",
      "memory usage: 54.1 KB\n"
     ]
    }
   ],
   "source": [
    "diabetes_data.info()\n",
    "\n",
    "# Null값 없음\n",
    "# -> 별도의 전처리 없이 바로 진행"
   ]
  },
  {
   "cell_type": "code",
   "execution_count": 19,
   "id": "37ba4afd",
   "metadata": {},
   "outputs": [
    {
     "data": {
      "text/html": [
       "<div>\n",
       "<style scoped>\n",
       "    .dataframe tbody tr th:only-of-type {\n",
       "        vertical-align: middle;\n",
       "    }\n",
       "\n",
       "    .dataframe tbody tr th {\n",
       "        vertical-align: top;\n",
       "    }\n",
       "\n",
       "    .dataframe thead th {\n",
       "        text-align: right;\n",
       "    }\n",
       "</style>\n",
       "<table border=\"1\" class=\"dataframe\">\n",
       "  <thead>\n",
       "    <tr style=\"text-align: right;\">\n",
       "      <th></th>\n",
       "      <th>Pregnancies</th>\n",
       "      <th>Glucose</th>\n",
       "      <th>BloodPressure</th>\n",
       "      <th>SkinThickness</th>\n",
       "      <th>Insulin</th>\n",
       "      <th>BMI</th>\n",
       "      <th>DiabetesPedigreeFunction</th>\n",
       "      <th>Age</th>\n",
       "    </tr>\n",
       "  </thead>\n",
       "  <tbody>\n",
       "    <tr>\n",
       "      <th>0</th>\n",
       "      <td>6</td>\n",
       "      <td>148</td>\n",
       "      <td>72</td>\n",
       "      <td>35</td>\n",
       "      <td>0</td>\n",
       "      <td>33.6</td>\n",
       "      <td>0.627</td>\n",
       "      <td>50</td>\n",
       "    </tr>\n",
       "    <tr>\n",
       "      <th>1</th>\n",
       "      <td>1</td>\n",
       "      <td>85</td>\n",
       "      <td>66</td>\n",
       "      <td>29</td>\n",
       "      <td>0</td>\n",
       "      <td>26.6</td>\n",
       "      <td>0.351</td>\n",
       "      <td>31</td>\n",
       "    </tr>\n",
       "  </tbody>\n",
       "</table>\n",
       "</div>"
      ],
      "text/plain": [
       "   Pregnancies  Glucose  BloodPressure  SkinThickness  Insulin   BMI   \n",
       "0            6      148             72             35        0  33.6  \\\n",
       "1            1       85             66             29        0  26.6   \n",
       "\n",
       "   DiabetesPedigreeFunction  Age  \n",
       "0                     0.627   50  \n",
       "1                     0.351   31  "
      ]
     },
     "execution_count": 19,
     "metadata": {},
     "output_type": "execute_result"
    },
    {
     "data": {
      "text/plain": [
       "0    1\n",
       "1    0\n",
       "Name: Outcome, dtype: int64"
      ]
     },
     "execution_count": 19,
     "metadata": {},
     "output_type": "execute_result"
    }
   ],
   "source": [
    "# 피처 데이터\n",
    "feature_data = diabetes_data.drop('Outcome', axis=1) # label빼고 모든 열\n",
    "feature_data.head(2)\n",
    "\n",
    "\n",
    "# 레이블 데이터\n",
    "label_data = diabetes_data['Outcome']\n",
    "label_data.head(2)"
   ]
  },
  {
   "cell_type": "markdown",
   "id": "a7980848",
   "metadata": {},
   "source": [
    "### (2) 데이터 세트 분리 : 학습 데이터 / 테스트 데이터 세트"
   ]
  },
  {
   "cell_type": "code",
   "execution_count": 21,
   "id": "52476ef4",
   "metadata": {},
   "outputs": [],
   "source": [
    "# stratify= label 데이터 옵션 없는 경우\n",
    "from sklearn.model_selection import train_test_split\n",
    "X_train, X_test, y_train, y_test = train_test_split(feature_data,\n",
    "                                                    label_data,\n",
    "                                                    test_size=0.2, \n",
    "                                                    random_state=11)\n"
   ]
  },
  {
   "cell_type": "code",
   "execution_count": 26,
   "id": "b95bbdcb",
   "metadata": {},
   "outputs": [
    {
     "data": {
      "text/plain": [
       "Outcome\n",
       "0    0.651042\n",
       "1    0.348958\n",
       "Name: proportion, dtype: float64"
      ]
     },
     "execution_count": 26,
     "metadata": {},
     "output_type": "execute_result"
    },
    {
     "data": {
      "text/plain": [
       "Outcome\n",
       "0    0.651466\n",
       "1    0.348534\n",
       "Name: proportion, dtype: float64"
      ]
     },
     "execution_count": 26,
     "metadata": {},
     "output_type": "execute_result"
    },
    {
     "data": {
      "text/plain": [
       "Outcome\n",
       "0    0.649351\n",
       "1    0.350649\n",
       "Name: proportion, dtype: float64"
      ]
     },
     "execution_count": 26,
     "metadata": {},
     "output_type": "execute_result"
    }
   ],
   "source": [
    "# stratify= label 데이터 옵션 없는 경우\n",
    "# 데이터 셋 분리하기 전과 후의 레이블값 분포 (비율) 확인\n",
    "# 분리 전\n",
    "label_data.value_counts(normalize=True)\n",
    "\n",
    "# 분리 후\n",
    "# y값들\n",
    "y_train.value_counts(normalize=True)\n",
    "y_test.value_counts(normalize=True)\n"
   ]
  },
  {
   "cell_type": "markdown",
   "id": "b43bab6f",
   "metadata": {},
   "source": [
    "#### stratify=y 옵션\n",
    "- y : label data\n",
    "- 레이블 값에서 0과 1의 비율을 유지하면서 데이터 세트 분리\n",
    "\n",
    "피마 인디언 당뇨병 데이터 세트    \n",
    "- 전체 768개 중에서 1이 268개 : 34.89 %   \n",
    "     \n",
    "- stratify=y로 설정한 경우 (1의 비율 거의 유사)  \n",
    "    - 학습 데이터 세트 에서 1의 비율 : 34.85 %  \n",
    "    - 테스트 데이터 세트에서 1의 비율 : 35.06%  \n",
    "         \n",
    "- stratify=y로 설정하지 않은 경우 (1의 비율 차이가 있음)  \n",
    "    - 학습 데이터 세트 에서 1의 비율 : 34.36 %  \n",
    "    - 테스트 데이터 세트에서 1의 비율 : 37.01 %  "
   ]
  },
  {
   "cell_type": "code",
   "execution_count": 25,
   "id": "38a43060",
   "metadata": {},
   "outputs": [],
   "source": [
    "# stratify= label 데이터 옵션 있는 경우\n",
    "X_train, X_test, y_train, y_test = train_test_split(feature_data,\n",
    "                                                    label_data,\n",
    "                                                    test_size=0.2, \n",
    "                                                    random_state=11,\n",
    "                                                   stratify = label_data)\n"
   ]
  },
  {
   "cell_type": "code",
   "execution_count": 28,
   "id": "258a0e94",
   "metadata": {},
   "outputs": [
    {
     "data": {
      "text/plain": [
       "Outcome\n",
       "0    0.651466\n",
       "1    0.348534\n",
       "Name: proportion, dtype: float64"
      ]
     },
     "execution_count": 28,
     "metadata": {},
     "output_type": "execute_result"
    },
    {
     "data": {
      "text/plain": [
       "Outcome\n",
       "0    0.649351\n",
       "1    0.350649\n",
       "Name: proportion, dtype: float64"
      ]
     },
     "execution_count": 28,
     "metadata": {},
     "output_type": "execute_result"
    }
   ],
   "source": [
    "# stratify= label 데이터 옵션 있는 경우\n",
    "# 분리 후\n",
    "# y값들\n",
    "y_train.value_counts(normalize=True)\n",
    "y_test.value_counts(normalize=True)"
   ]
  },
  {
   "cell_type": "code",
   "execution_count": null,
   "id": "335529af",
   "metadata": {},
   "outputs": [],
   "source": [
    "# 결과 : stratify = y 옵션 있으나 없으나 똑같음"
   ]
  },
  {
   "cell_type": "code",
   "execution_count": null,
   "id": "e2f29643",
   "metadata": {},
   "outputs": [],
   "source": []
  },
  {
   "cell_type": "markdown",
   "id": "0a6f7a3c",
   "metadata": {},
   "source": [
    "### (3) 모델 학습 및 예측 수행 \n",
    "- 로지스틱 회귀 알고리즘 적용하여 모델 학습 및 예측 "
   ]
  },
  {
   "cell_type": "code",
   "execution_count": 35,
   "id": "88286a8a",
   "metadata": {},
   "outputs": [
    {
     "data": {
      "text/html": [
       "<style>#sk-container-id-5 {color: black;background-color: white;}#sk-container-id-5 pre{padding: 0;}#sk-container-id-5 div.sk-toggleable {background-color: white;}#sk-container-id-5 label.sk-toggleable__label {cursor: pointer;display: block;width: 100%;margin-bottom: 0;padding: 0.3em;box-sizing: border-box;text-align: center;}#sk-container-id-5 label.sk-toggleable__label-arrow:before {content: \"▸\";float: left;margin-right: 0.25em;color: #696969;}#sk-container-id-5 label.sk-toggleable__label-arrow:hover:before {color: black;}#sk-container-id-5 div.sk-estimator:hover label.sk-toggleable__label-arrow:before {color: black;}#sk-container-id-5 div.sk-toggleable__content {max-height: 0;max-width: 0;overflow: hidden;text-align: left;background-color: #f0f8ff;}#sk-container-id-5 div.sk-toggleable__content pre {margin: 0.2em;color: black;border-radius: 0.25em;background-color: #f0f8ff;}#sk-container-id-5 input.sk-toggleable__control:checked~div.sk-toggleable__content {max-height: 200px;max-width: 100%;overflow: auto;}#sk-container-id-5 input.sk-toggleable__control:checked~label.sk-toggleable__label-arrow:before {content: \"▾\";}#sk-container-id-5 div.sk-estimator input.sk-toggleable__control:checked~label.sk-toggleable__label {background-color: #d4ebff;}#sk-container-id-5 div.sk-label input.sk-toggleable__control:checked~label.sk-toggleable__label {background-color: #d4ebff;}#sk-container-id-5 input.sk-hidden--visually {border: 0;clip: rect(1px 1px 1px 1px);clip: rect(1px, 1px, 1px, 1px);height: 1px;margin: -1px;overflow: hidden;padding: 0;position: absolute;width: 1px;}#sk-container-id-5 div.sk-estimator {font-family: monospace;background-color: #f0f8ff;border: 1px dotted black;border-radius: 0.25em;box-sizing: border-box;margin-bottom: 0.5em;}#sk-container-id-5 div.sk-estimator:hover {background-color: #d4ebff;}#sk-container-id-5 div.sk-parallel-item::after {content: \"\";width: 100%;border-bottom: 1px solid gray;flex-grow: 1;}#sk-container-id-5 div.sk-label:hover label.sk-toggleable__label {background-color: #d4ebff;}#sk-container-id-5 div.sk-serial::before {content: \"\";position: absolute;border-left: 1px solid gray;box-sizing: border-box;top: 0;bottom: 0;left: 50%;z-index: 0;}#sk-container-id-5 div.sk-serial {display: flex;flex-direction: column;align-items: center;background-color: white;padding-right: 0.2em;padding-left: 0.2em;position: relative;}#sk-container-id-5 div.sk-item {position: relative;z-index: 1;}#sk-container-id-5 div.sk-parallel {display: flex;align-items: stretch;justify-content: center;background-color: white;position: relative;}#sk-container-id-5 div.sk-item::before, #sk-container-id-5 div.sk-parallel-item::before {content: \"\";position: absolute;border-left: 1px solid gray;box-sizing: border-box;top: 0;bottom: 0;left: 50%;z-index: -1;}#sk-container-id-5 div.sk-parallel-item {display: flex;flex-direction: column;z-index: 1;position: relative;background-color: white;}#sk-container-id-5 div.sk-parallel-item:first-child::after {align-self: flex-end;width: 50%;}#sk-container-id-5 div.sk-parallel-item:last-child::after {align-self: flex-start;width: 50%;}#sk-container-id-5 div.sk-parallel-item:only-child::after {width: 0;}#sk-container-id-5 div.sk-dashed-wrapped {border: 1px dashed gray;margin: 0 0.4em 0.5em 0.4em;box-sizing: border-box;padding-bottom: 0.4em;background-color: white;}#sk-container-id-5 div.sk-label label {font-family: monospace;font-weight: bold;display: inline-block;line-height: 1.2em;}#sk-container-id-5 div.sk-label-container {text-align: center;}#sk-container-id-5 div.sk-container {/* jupyter's `normalize.less` sets `[hidden] { display: none; }` but bootstrap.min.css set `[hidden] { display: none !important; }` so we also need the `!important` here to be able to override the default hidden behavior on the sphinx rendered scikit-learn.org. See: https://github.com/scikit-learn/scikit-learn/issues/21755 */display: inline-block !important;position: relative;}#sk-container-id-5 div.sk-text-repr-fallback {display: none;}</style><div id=\"sk-container-id-5\" class=\"sk-top-container\"><div class=\"sk-text-repr-fallback\"><pre>LogisticRegression(max_iter=1000)</pre><b>In a Jupyter environment, please rerun this cell to show the HTML representation or trust the notebook. <br />On GitHub, the HTML representation is unable to render, please try loading this page with nbviewer.org.</b></div><div class=\"sk-container\" hidden><div class=\"sk-item\"><div class=\"sk-estimator sk-toggleable\"><input class=\"sk-toggleable__control sk-hidden--visually\" id=\"sk-estimator-id-5\" type=\"checkbox\" checked><label for=\"sk-estimator-id-5\" class=\"sk-toggleable__label sk-toggleable__label-arrow\">LogisticRegression</label><div class=\"sk-toggleable__content\"><pre>LogisticRegression(max_iter=1000)</pre></div></div></div></div></div>"
      ],
      "text/plain": [
       "LogisticRegression(max_iter=1000)"
      ]
     },
     "execution_count": 35,
     "metadata": {},
     "output_type": "execute_result"
    },
    {
     "data": {
      "text/plain": [
       "0.7792207792207793"
      ]
     },
     "execution_count": 35,
     "metadata": {},
     "output_type": "execute_result"
    }
   ],
   "source": [
    "from sklearn.linear_model import LogisticRegression\n",
    "from sklearn.metrics import accuracy_score\n",
    "\n",
    "# 모델 생성\n",
    "lr_clf = LogisticRegression(max_iter=1000)\n",
    "\n",
    "# 모델 학습 및 예측\n",
    "lr_clf.fit(X_train, y_train)\n",
    "y_pred_lr = lr_clf.predict(X_test)\n",
    "accuracy_score(y_test, y_pred_lr)   # 정확도"
   ]
  },
  {
   "cell_type": "markdown",
   "id": "38dd64c7",
   "metadata": {},
   "source": [
    "### (4) 평가 : 예측 성능 평가 지표 출력 \n",
    "- 오차행렬, 정확도, 정밀도, 재현율, F1 스코어, ROC AUC 평가 지표"
   ]
  },
  {
   "cell_type": "code",
   "execution_count": 51,
   "id": "183624a3",
   "metadata": {},
   "outputs": [],
   "source": [
    "from sklearn.metrics import confusion_matrix\n",
    "from sklearn.metrics import accuracy_score, roc_auc_score\n",
    "from sklearn.metrics import precision_score\n",
    "from sklearn.metrics import recall_score\n",
    "from sklearn.metrics import f1_score\n",
    "\n",
    "# 예측 모델 평가 수행 및 평가 지표 출력하는 함수 작성\n",
    "def get_clf_eval(y_test, y_pred, pred_proba):\n",
    "    cm = confusion_matrix(y_test, y_pred) # confusion 혼동행렬\n",
    "    accuracy = accuracy_score(y_test, y_pred) # 정확도\n",
    "    precision = precision_score(y_test, y_pred) # 정밀도\n",
    "    recall = recall_score(y_test, y_pred)  # 재현율\n",
    "    f1 = f1_score(y_test, y_pred) # F1 스코어\n",
    "    roc_auc = roc_auc_score(y_test, pred_proba) # ROC_AUC score\n",
    "    \n",
    "    # 출력\n",
    "    # 오차행렬\n",
    "    print('오차행렬 : ', cm)\n",
    "    # 정확도, 정밀도, 재현율, F1\n",
    "    print(f\"정확도: {accuracy:.4f}, 정밀도: {precision:.4f}, 재현율: {recall:.4f},  F1 : {f1:.4f}, ROC_AUC : {roc_auc:.4f}\")"
   ]
  },
  {
   "cell_type": "code",
   "execution_count": 61,
   "id": "3abf280a",
   "metadata": {},
   "outputs": [
    {
     "name": "stdout",
     "output_type": "stream",
     "text": [
      "오차행렬 :  [[90 10]\n",
      " [24 30]]\n",
      "정확도: 0.7792, 정밀도: 0.7500, 재현율: 0.5556,  F1 : 0.6383, ROC_AUC : 0.8513\n"
     ]
    }
   ],
   "source": [
    "# 함수호출해서 예측 모델 평가 및 평가 지표 출력\n",
    "\n",
    "# label 값이 1일 때의 예측 확률\n",
    "pred_proba = lr_clf.predict_proba(X_test)[:, 1]\n",
    "\n",
    "get_clf_eval(y_test, y_pred_lr, pred_proba)\n",
    "\n",
    "# 결과 : \n",
    "# 예측 정확도 : 약 78% , 재현율 약 56% \n",
    "# 데이터가 당뇨병 환자 예측이므로\n",
    "# 재현율에 더 초점을 맞춰 조정을 해야함 (실제 P를 N로 잘못 판단할 경우 심각한 문제 발생)"
   ]
  },
  {
   "cell_type": "code",
   "execution_count": 62,
   "id": "55b330bd",
   "metadata": {},
   "outputs": [
    {
     "data": {
      "text/plain": [
       "array([[0.00934162, 0.99065838],\n",
       "       [0.82503399, 0.17496601],\n",
       "       [0.21053203, 0.78946797],\n",
       "       [0.22386875, 0.77613125],\n",
       "       [0.88596927, 0.11403073]])"
      ]
     },
     "execution_count": 62,
     "metadata": {},
     "output_type": "execute_result"
    }
   ],
   "source": [
    "# 예측 확률값 확인\n",
    "lr_clf.predict_proba(X_test)[:5]"
   ]
  },
  {
   "cell_type": "markdown",
   "id": "224f6280",
   "metadata": {},
   "source": [
    "### (5) 재현율 성능에 조금 더 초점을 맞춰 조정"
   ]
  },
  {
   "cell_type": "code",
   "execution_count": null,
   "id": "8d1d6f4b",
   "metadata": {},
   "outputs": [],
   "source": [
    "# 먼저 정밀도와 재현율 곡선을 확인하고\n",
    "# 임계값 별로 정밀도와 재현율 값의 변화 확인"
   ]
  },
  {
   "cell_type": "code",
   "execution_count": 63,
   "id": "9eb8d4ee",
   "metadata": {},
   "outputs": [
    {
     "data": {
      "text/plain": [
       "154"
      ]
     },
     "execution_count": 63,
     "metadata": {},
     "output_type": "execute_result"
    },
    {
     "data": {
      "text/plain": [
       "155"
      ]
     },
     "execution_count": 63,
     "metadata": {},
     "output_type": "execute_result"
    },
    {
     "data": {
      "text/plain": [
       "155"
      ]
     },
     "execution_count": 63,
     "metadata": {},
     "output_type": "execute_result"
    }
   ],
   "source": [
    "# precision_recall_curve() 사용해서\n",
    "from sklearn.metrics import precision_recall_curve\n",
    "precision, reacalls, thresholds = precision_recall_curve(y_test, pred_proba)\n",
    "thresholds.size\n",
    "precision.size\n",
    "reacalls.size"
   ]
  },
  {
   "cell_type": "code",
   "execution_count": 64,
   "id": "67f27505",
   "metadata": {},
   "outputs": [
    {
     "data": {
      "text/plain": [
       "154"
      ]
     },
     "execution_count": 64,
     "metadata": {},
     "output_type": "execute_result"
    }
   ],
   "source": [
    "# 그래프\n",
    "# x축은 thresholds값, y축은 정밀도, 재현율 값으로 plot()\n",
    "# x축을 사용할 thresholds값은 114개\n",
    "# 정밀도, 재현율 값은 115개\n",
    "threshold_boundary = thresholds.shape[0]\n",
    "threshold_boundary"
   ]
  },
  {
   "cell_type": "code",
   "execution_count": 65,
   "id": "4b7a9632",
   "metadata": {},
   "outputs": [],
   "source": [
    "import numpy as np\n",
    "import matplotlib.pyplot as plt\n",
    "%matplotlib inline"
   ]
  },
  {
   "cell_type": "code",
   "execution_count": 68,
   "id": "cfcb831f",
   "metadata": {},
   "outputs": [],
   "source": [
    "# thresholds변화에 따른 정밀도-재현율 변환 곡선 시각화하는 함수 작성\n",
    "\n",
    "def precision_recall_curve_plot(y_test,pred_proba):\n",
    "    \n",
    "    precision, reacalls, thresholds = precision_recall_curve(y_test, pred_proba)\n",
    "\n",
    "    # 임계값\n",
    "    threshold_boundary = thresholds.shape[0]\n",
    "\n",
    "\n",
    "    # x축은 thresholds값, y축은 정밀도, 재현율 값으로 plot()\n",
    "    plt.plot(thresholds, precision[0:threshold_boundary],\n",
    "            linestyle='--', label='precision')\n",
    "    plt.plot(thresholds, reacalls[0:threshold_boundary],\n",
    "            linestyle='--', label='reacalls')\n",
    "\n",
    "    # thresholds 값 x축 : 0, 1 단위로 변경\n",
    "    # xlim() : x축 범위 지정\n",
    "    start, end = plt.xlim()\n",
    "    plt.xticks(np.round(np.arange(start, end, 0.1), 2))\n",
    "\n",
    "    plt.xlabel('Thresholds Value')\n",
    "    plt.ylabel('Precision and Recall Value')\n",
    "    plt.legend()\n",
    "    plt.grid()\n",
    "    plt.show()\n",
    "\n",
    "\n",
    "# 그래프 결과\n",
    "# 정밀도와 재현율이 균형을 이루는 지점(두 선이 만나는 지점)의\n",
    "# thresholds값이 약 0.4x\n",
    "# 그런데 이 지점에서 정밀도와 재현율 두 지표 모두 0.7이 안되는 수치로 낮는 편이라서\n",
    "# 임계값 조정이 필요\n",
    "\n",
    "# 임계값을 조정하기 전에 다시 데이터 점검\n",
    "# 앞에서 Null값이 없어서 별다른 전처리 수행하지 않았음\n",
    "# 일반적으로 미리 모든 전처리를 수행하고 모델링 시작하는 방법도 있지만\n",
    "# 일단 필요한 전처리만 진행하고 모델링 수행 -> 결과를 보고\n",
    "# 다시 전처리를 수행하기도 함"
   ]
  },
  {
   "cell_type": "code",
   "execution_count": 70,
   "id": "ac7fdb8f",
   "metadata": {},
   "outputs": [
    {
     "data": {
      "image/png": "[encoded data removed]",
      "text/plain": [
       "<Figure size 640x480 with 1 Axes>"
      ]
     },
     "metadata": {},
     "output_type": "display_data"
    }
   ],
   "source": [
    "# 레이블 값이 1일 때의 예측 확률\n",
    "pred_proba = lr_clf.predict_proba(X_test)[:, 1]\n",
    "\n",
    "precision_recall_curve_plot(y_test, pred_proba)\n",
    "# 균형을 이루는 값 : 약 0.4\n",
    "# 그 때 약 70%정도"
   ]
  },
  {
   "cell_type": "code",
   "execution_count": null,
   "id": "522f9897",
   "metadata": {},
   "outputs": [],
   "source": []
  },
  {
   "cell_type": "markdown",
   "id": "df6b3533",
   "metadata": {},
   "source": [
    "### (6) 예측 성능을 향상시키기 위해 데이터 가공 수행\n",
    "- 0 값 확인하고 다른 값으로 대체\n",
    "- 피처 스케일링 "
   ]
  },
  {
   "cell_type": "code",
   "execution_count": 71,
   "id": "05135a2e",
   "metadata": {},
   "outputs": [
    {
     "data": {
      "text/html": [
       "<div>\n",
       "<style scoped>\n",
       "    .dataframe tbody tr th:only-of-type {\n",
       "        vertical-align: middle;\n",
       "    }\n",
       "\n",
       "    .dataframe tbody tr th {\n",
       "        vertical-align: top;\n",
       "    }\n",
       "\n",
       "    .dataframe thead th {\n",
       "        text-align: right;\n",
       "    }\n",
       "</style>\n",
       "<table border=\"1\" class=\"dataframe\">\n",
       "  <thead>\n",
       "    <tr style=\"text-align: right;\">\n",
       "      <th></th>\n",
       "      <th>Pregnancies</th>\n",
       "      <th>Glucose</th>\n",
       "      <th>BloodPressure</th>\n",
       "      <th>SkinThickness</th>\n",
       "      <th>Insulin</th>\n",
       "      <th>BMI</th>\n",
       "      <th>DiabetesPedigreeFunction</th>\n",
       "      <th>Age</th>\n",
       "      <th>Outcome</th>\n",
       "    </tr>\n",
       "  </thead>\n",
       "  <tbody>\n",
       "    <tr>\n",
       "      <th>count</th>\n",
       "      <td>768.000000</td>\n",
       "      <td>768.000000</td>\n",
       "      <td>768.000000</td>\n",
       "      <td>768.000000</td>\n",
       "      <td>768.000000</td>\n",
       "      <td>768.000000</td>\n",
       "      <td>768.000000</td>\n",
       "      <td>768.000000</td>\n",
       "      <td>768.000000</td>\n",
       "    </tr>\n",
       "    <tr>\n",
       "      <th>mean</th>\n",
       "      <td>3.845052</td>\n",
       "      <td>120.894531</td>\n",
       "      <td>69.105469</td>\n",
       "      <td>20.536458</td>\n",
       "      <td>79.799479</td>\n",
       "      <td>31.992578</td>\n",
       "      <td>0.471876</td>\n",
       "      <td>33.240885</td>\n",
       "      <td>0.348958</td>\n",
       "    </tr>\n",
       "    <tr>\n",
       "      <th>std</th>\n",
       "      <td>3.369578</td>\n",
       "      <td>31.972618</td>\n",
       "      <td>19.355807</td>\n",
       "      <td>15.952218</td>\n",
       "      <td>115.244002</td>\n",
       "      <td>7.884160</td>\n",
       "      <td>0.331329</td>\n",
       "      <td>11.760232</td>\n",
       "      <td>0.476951</td>\n",
       "    </tr>\n",
       "    <tr>\n",
       "      <th>min</th>\n",
       "      <td>0.000000</td>\n",
       "      <td>0.000000</td>\n",
       "      <td>0.000000</td>\n",
       "      <td>0.000000</td>\n",
       "      <td>0.000000</td>\n",
       "      <td>0.000000</td>\n",
       "      <td>0.078000</td>\n",
       "      <td>21.000000</td>\n",
       "      <td>0.000000</td>\n",
       "    </tr>\n",
       "    <tr>\n",
       "      <th>25%</th>\n",
       "      <td>1.000000</td>\n",
       "      <td>99.000000</td>\n",
       "      <td>62.000000</td>\n",
       "      <td>0.000000</td>\n",
       "      <td>0.000000</td>\n",
       "      <td>27.300000</td>\n",
       "      <td>0.243750</td>\n",
       "      <td>24.000000</td>\n",
       "      <td>0.000000</td>\n",
       "    </tr>\n",
       "    <tr>\n",
       "      <th>50%</th>\n",
       "      <td>3.000000</td>\n",
       "      <td>117.000000</td>\n",
       "      <td>72.000000</td>\n",
       "      <td>23.000000</td>\n",
       "      <td>30.500000</td>\n",
       "      <td>32.000000</td>\n",
       "      <td>0.372500</td>\n",
       "      <td>29.000000</td>\n",
       "      <td>0.000000</td>\n",
       "    </tr>\n",
       "    <tr>\n",
       "      <th>75%</th>\n",
       "      <td>6.000000</td>\n",
       "      <td>140.250000</td>\n",
       "      <td>80.000000</td>\n",
       "      <td>32.000000</td>\n",
       "      <td>127.250000</td>\n",
       "      <td>36.600000</td>\n",
       "      <td>0.626250</td>\n",
       "      <td>41.000000</td>\n",
       "      <td>1.000000</td>\n",
       "    </tr>\n",
       "    <tr>\n",
       "      <th>max</th>\n",
       "      <td>17.000000</td>\n",
       "      <td>199.000000</td>\n",
       "      <td>122.000000</td>\n",
       "      <td>99.000000</td>\n",
       "      <td>846.000000</td>\n",
       "      <td>67.100000</td>\n",
       "      <td>2.420000</td>\n",
       "      <td>81.000000</td>\n",
       "      <td>1.000000</td>\n",
       "    </tr>\n",
       "  </tbody>\n",
       "</table>\n",
       "</div>"
      ],
      "text/plain": [
       "       Pregnancies     Glucose  BloodPressure  SkinThickness     Insulin   \n",
       "count   768.000000  768.000000     768.000000     768.000000  768.000000  \\\n",
       "mean      3.845052  120.894531      69.105469      20.536458   79.799479   \n",
       "std       3.369578   31.972618      19.355807      15.952218  115.244002   \n",
       "min       0.000000    0.000000       0.000000       0.000000    0.000000   \n",
       "25%       1.000000   99.000000      62.000000       0.000000    0.000000   \n",
       "50%       3.000000  117.000000      72.000000      23.000000   30.500000   \n",
       "75%       6.000000  140.250000      80.000000      32.000000  127.250000   \n",
       "max      17.000000  199.000000     122.000000      99.000000  846.000000   \n",
       "\n",
       "              BMI  DiabetesPedigreeFunction         Age     Outcome  \n",
       "count  768.000000                768.000000  768.000000  768.000000  \n",
       "mean    31.992578                  0.471876   33.240885    0.348958  \n",
       "std      7.884160                  0.331329   11.760232    0.476951  \n",
       "min      0.000000                  0.078000   21.000000    0.000000  \n",
       "25%     27.300000                  0.243750   24.000000    0.000000  \n",
       "50%     32.000000                  0.372500   29.000000    0.000000  \n",
       "75%     36.600000                  0.626250   41.000000    1.000000  \n",
       "max     67.100000                  2.420000   81.000000    1.000000  "
      ]
     },
     "execution_count": 71,
     "metadata": {},
     "output_type": "execute_result"
    }
   ],
   "source": [
    "diabetes_data.describe()\n",
    "\n",
    "# min 값이 0인 피처가 어느 정도 존재하는 것을 확인\n",
    "# Glucose(포도당), BloodPressure(혈압),SkinThickness(팔 뒤쪽 피하지방), Insulin,  BMI(체질량지수)\n",
    "# 이런 피처들이 0이 날올 수 없는데 0으로 되어 있음\n",
    "# ----> 전처리(가공) 작업 필요"
   ]
  },
  {
   "cell_type": "markdown",
   "id": "3d649992",
   "metadata": {},
   "source": [
    "### 각 피처들의 값 분포 확인"
   ]
  },
  {
   "cell_type": "code",
   "execution_count": 16,
   "id": "46eda9a0",
   "metadata": {},
   "outputs": [
    {
     "data": {
      "text/plain": [
       "(array([  5.,   0.,   4.,  32., 156., 211., 163.,  95.,  56.,  46.]),\n",
       " array([  0. ,  19.9,  39.8,  59.7,  79.6,  99.5, 119.4, 139.3, 159.2,\n",
       "        179.1, 199. ]),\n",
       " <BarContainer object of 10 artists>)"
      ]
     },
     "execution_count": 16,
     "metadata": {},
     "output_type": "execute_result"
    },
    {
     "data": {
      "image/png": "[encoded data removed]",
      "text/plain": [
       "<Figure size 640x480 with 1 Axes>"
      ]
     },
     "metadata": {},
     "output_type": "display_data"
    }
   ],
   "source": [
    "# Glucose(포도당) 피처의 히스토그램 확인\n",
    "plt.hist(diabetes_data['Glucose'], bins=10)\n",
    "# 0값이 일정 수준 존재 확인"
   ]
  },
  {
   "cell_type": "markdown",
   "id": "62045625",
   "metadata": {},
   "source": [
    "### 0값이 있는 피처들에서 0값의 데이터 건수와 퍼센트 계산\n",
    "- 0값의 데이터 건수  \n",
    "- 전체 데이터 건수 대비 몇 퍼센트의 비율인지 확인  "
   ]
  },
  {
   "cell_type": "code",
   "execution_count": 72,
   "id": "a2d390ec",
   "metadata": {
    "scrolled": true
   },
   "outputs": [
    {
     "data": {
      "text/plain": [
       "768"
      ]
     },
     "execution_count": 72,
     "metadata": {},
     "output_type": "execute_result"
    },
    {
     "name": "stdout",
     "output_type": "stream",
     "text": [
      "Glucose 0건수는 5, 퍼센트 0.65 %\n",
      "BloodPressure 0건수는 35, 퍼센트 4.56 %\n",
      "SkinThickness 0건수는 227, 퍼센트 29.56 %\n",
      "Insulin 0건수는 374, 퍼센트 48.70 %\n",
      "BMI 0건수는 11, 퍼센트 1.43 %\n"
     ]
    }
   ],
   "source": [
    "# 0값을 검사할 피처명 리스트 생성\n",
    "zero_features = ['Glucose', 'BloodPressure', 'SkinThickness', 'Insulin', 'BMI']\n",
    "\n",
    "# 전체 데이터건수\n",
    "total_count = diabetes_data['Glucose'].count()\n",
    "total_count\n",
    "\n",
    "# 피처별로 반복하면서 데이터 값이 0인 데이터 건수 추출하고, 퍼센트 계산\n",
    "for feature in zero_features:\n",
    "    zero_count = diabetes_data[diabetes_data[feature] == 0][feature].count()\n",
    "    print('{0} 0건수는 {1}, 퍼센트 {2:.2f} %'.format(feature, zero_count, 100*zero_count/total_count))\n",
    "\n",
    "\n",
    "# 0 값이 상당히 많음\n",
    "# 전체 데이터 건수가 많지 않기 때문에\n",
    "# 0값인 데이터를 삭제할 경우에\n",
    "# 학습을 효과적으로 수행하기 어려울 것 같으므로\n",
    "# 0값을 평균값으로 대체"
   ]
  },
  {
   "cell_type": "markdown",
   "id": "d7385447",
   "metadata": {},
   "source": [
    "**0값을 평균값으로 대체**"
   ]
  },
  {
   "cell_type": "code",
   "execution_count": 79,
   "id": "24e29ee7",
   "metadata": {},
   "outputs": [
    {
     "name": "stdout",
     "output_type": "stream",
     "text": [
      "Glucose 0건수는 0, 퍼센트 0.00 %\n",
      "BloodPressure 0건수는 0, 퍼센트 0.00 %\n",
      "SkinThickness 0건수는 0, 퍼센트 0.00 %\n",
      "Insulin 0건수는 0, 퍼센트 0.00 %\n",
      "BMI 0건수는 0, 퍼센트 0.00 %\n"
     ]
    }
   ],
   "source": [
    "# 0 값을 평균값으로 대체\n",
    "# fillna 는 null값을 바꾸는 것인데, 우리는 null이 아니라 0값이므로 Replace사용\n",
    "# diabetes_data['Glucose'].fillna(diabetes_data['Glucose'].mean(), inplace=True)\n",
    "\n",
    "# df이므로 열 통째로 넣어서 변경해준다.\n",
    "diabetes_data[zero_features] = diabetes_data[zero_features\n",
    "                                            ].replace(0, diabetes_data[zero_features].mean())\n",
    "\n",
    "for feature in zero_features:\n",
    "    zero_count = diabetes_data[diabetes_data[feature] == 0][feature].count()\n",
    "    print('{0} 0건수는 {1}, 퍼센트 {2:.2f} %'.format(feature, zero_count, 100*zero_count/total_count))\n",
    "\n",
    "# 변경 완료"
   ]
  },
  {
   "cell_type": "markdown",
   "id": "545451b1",
   "metadata": {},
   "source": [
    "### 피처 스케일링 (feature scaling)\n",
    "- 서로 다른 변수의 값 범위를 일정한 수준으로 맞춤\n",
    "- StandardScaler 클래스의 fit_transform() 메소드 이용해서 \n",
    "- 피처 데이터 세트에 일괄적으로 스케일링 적용하고  \n",
    "- 0값을 평균으로 대체한 데이터 세트로 학습/예측 수행  \n",
    "- 개별 피처를 평균이 0이고 분산이 1인 값으로 변환"
   ]
  },
  {
   "cell_type": "markdown",
   "id": "c33264fd",
   "metadata": {},
   "source": [
    "### 피처 스케일링 후 다시 예측 프로세스 진행"
   ]
  },
  {
   "cell_type": "code",
   "execution_count": 84,
   "id": "5f54e820",
   "metadata": {},
   "outputs": [
    {
     "data": {
      "text/html": [
       "<div>\n",
       "<style scoped>\n",
       "    .dataframe tbody tr th:only-of-type {\n",
       "        vertical-align: middle;\n",
       "    }\n",
       "\n",
       "    .dataframe tbody tr th {\n",
       "        vertical-align: top;\n",
       "    }\n",
       "\n",
       "    .dataframe thead th {\n",
       "        text-align: right;\n",
       "    }\n",
       "</style>\n",
       "<table border=\"1\" class=\"dataframe\">\n",
       "  <thead>\n",
       "    <tr style=\"text-align: right;\">\n",
       "      <th></th>\n",
       "      <th>Pregnancies</th>\n",
       "      <th>Glucose</th>\n",
       "      <th>BloodPressure</th>\n",
       "      <th>SkinThickness</th>\n",
       "      <th>Insulin</th>\n",
       "      <th>BMI</th>\n",
       "      <th>DiabetesPedigreeFunction</th>\n",
       "      <th>Age</th>\n",
       "    </tr>\n",
       "  </thead>\n",
       "  <tbody>\n",
       "    <tr>\n",
       "      <th>0</th>\n",
       "      <td>6</td>\n",
       "      <td>148.0</td>\n",
       "      <td>72.0</td>\n",
       "      <td>35.0</td>\n",
       "      <td>79.799479</td>\n",
       "      <td>33.6</td>\n",
       "      <td>0.627</td>\n",
       "      <td>50</td>\n",
       "    </tr>\n",
       "    <tr>\n",
       "      <th>1</th>\n",
       "      <td>1</td>\n",
       "      <td>85.0</td>\n",
       "      <td>66.0</td>\n",
       "      <td>29.0</td>\n",
       "      <td>79.799479</td>\n",
       "      <td>26.6</td>\n",
       "      <td>0.351</td>\n",
       "      <td>31</td>\n",
       "    </tr>\n",
       "  </tbody>\n",
       "</table>\n",
       "</div>"
      ],
      "text/plain": [
       "   Pregnancies  Glucose  BloodPressure  SkinThickness    Insulin   BMI   \n",
       "0            6    148.0           72.0           35.0  79.799479  33.6  \\\n",
       "1            1     85.0           66.0           29.0  79.799479  26.6   \n",
       "\n",
       "   DiabetesPedigreeFunction  Age  \n",
       "0                     0.627   50  \n",
       "1                     0.351   31  "
      ]
     },
     "execution_count": 84,
     "metadata": {},
     "output_type": "execute_result"
    },
    {
     "data": {
      "text/html": [
       "<style>#sk-container-id-8 {color: black;background-color: white;}#sk-container-id-8 pre{padding: 0;}#sk-container-id-8 div.sk-toggleable {background-color: white;}#sk-container-id-8 label.sk-toggleable__label {cursor: pointer;display: block;width: 100%;margin-bottom: 0;padding: 0.3em;box-sizing: border-box;text-align: center;}#sk-container-id-8 label.sk-toggleable__label-arrow:before {content: \"▸\";float: left;margin-right: 0.25em;color: #696969;}#sk-container-id-8 label.sk-toggleable__label-arrow:hover:before {color: black;}#sk-container-id-8 div.sk-estimator:hover label.sk-toggleable__label-arrow:before {color: black;}#sk-container-id-8 div.sk-toggleable__content {max-height: 0;max-width: 0;overflow: hidden;text-align: left;background-color: #f0f8ff;}#sk-container-id-8 div.sk-toggleable__content pre {margin: 0.2em;color: black;border-radius: 0.25em;background-color: #f0f8ff;}#sk-container-id-8 input.sk-toggleable__control:checked~div.sk-toggleable__content {max-height: 200px;max-width: 100%;overflow: auto;}#sk-container-id-8 input.sk-toggleable__control:checked~label.sk-toggleable__label-arrow:before {content: \"▾\";}#sk-container-id-8 div.sk-estimator input.sk-toggleable__control:checked~label.sk-toggleable__label {background-color: #d4ebff;}#sk-container-id-8 div.sk-label input.sk-toggleable__control:checked~label.sk-toggleable__label {background-color: #d4ebff;}#sk-container-id-8 input.sk-hidden--visually {border: 0;clip: rect(1px 1px 1px 1px);clip: rect(1px, 1px, 1px, 1px);height: 1px;margin: -1px;overflow: hidden;padding: 0;position: absolute;width: 1px;}#sk-container-id-8 div.sk-estimator {font-family: monospace;background-color: #f0f8ff;border: 1px dotted black;border-radius: 0.25em;box-sizing: border-box;margin-bottom: 0.5em;}#sk-container-id-8 div.sk-estimator:hover {background-color: #d4ebff;}#sk-container-id-8 div.sk-parallel-item::after {content: \"\";width: 100%;border-bottom: 1px solid gray;flex-grow: 1;}#sk-container-id-8 div.sk-label:hover label.sk-toggleable__label {background-color: #d4ebff;}#sk-container-id-8 div.sk-serial::before {content: \"\";position: absolute;border-left: 1px solid gray;box-sizing: border-box;top: 0;bottom: 0;left: 50%;z-index: 0;}#sk-container-id-8 div.sk-serial {display: flex;flex-direction: column;align-items: center;background-color: white;padding-right: 0.2em;padding-left: 0.2em;position: relative;}#sk-container-id-8 div.sk-item {position: relative;z-index: 1;}#sk-container-id-8 div.sk-parallel {display: flex;align-items: stretch;justify-content: center;background-color: white;position: relative;}#sk-container-id-8 div.sk-item::before, #sk-container-id-8 div.sk-parallel-item::before {content: \"\";position: absolute;border-left: 1px solid gray;box-sizing: border-box;top: 0;bottom: 0;left: 50%;z-index: -1;}#sk-container-id-8 div.sk-parallel-item {display: flex;flex-direction: column;z-index: 1;position: relative;background-color: white;}#sk-container-id-8 div.sk-parallel-item:first-child::after {align-self: flex-end;width: 50%;}#sk-container-id-8 div.sk-parallel-item:last-child::after {align-self: flex-start;width: 50%;}#sk-container-id-8 div.sk-parallel-item:only-child::after {width: 0;}#sk-container-id-8 div.sk-dashed-wrapped {border: 1px dashed gray;margin: 0 0.4em 0.5em 0.4em;box-sizing: border-box;padding-bottom: 0.4em;background-color: white;}#sk-container-id-8 div.sk-label label {font-family: monospace;font-weight: bold;display: inline-block;line-height: 1.2em;}#sk-container-id-8 div.sk-label-container {text-align: center;}#sk-container-id-8 div.sk-container {/* jupyter's `normalize.less` sets `[hidden] { display: none; }` but bootstrap.min.css set `[hidden] { display: none !important; }` so we also need the `!important` here to be able to override the default hidden behavior on the sphinx rendered scikit-learn.org. See: https://github.com/scikit-learn/scikit-learn/issues/21755 */display: inline-block !important;position: relative;}#sk-container-id-8 div.sk-text-repr-fallback {display: none;}</style><div id=\"sk-container-id-8\" class=\"sk-top-container\"><div class=\"sk-text-repr-fallback\"><pre>LogisticRegression(max_iter=3000)</pre><b>In a Jupyter environment, please rerun this cell to show the HTML representation or trust the notebook. <br />On GitHub, the HTML representation is unable to render, please try loading this page with nbviewer.org.</b></div><div class=\"sk-container\" hidden><div class=\"sk-item\"><div class=\"sk-estimator sk-toggleable\"><input class=\"sk-toggleable__control sk-hidden--visually\" id=\"sk-estimator-id-8\" type=\"checkbox\" checked><label for=\"sk-estimator-id-8\" class=\"sk-toggleable__label sk-toggleable__label-arrow\">LogisticRegression</label><div class=\"sk-toggleable__content\"><pre>LogisticRegression(max_iter=3000)</pre></div></div></div></div></div>"
      ],
      "text/plain": [
       "LogisticRegression(max_iter=3000)"
      ]
     },
     "execution_count": 84,
     "metadata": {},
     "output_type": "execute_result"
    },
    {
     "name": "stdout",
     "output_type": "stream",
     "text": [
      "오차행렬 :  [[88 12]\n",
      " [25 29]]\n",
      "정확도: 0.7597, 정밀도: 0.7073, 재현율: 0.5370,  F1 : 0.6105, ROC_AUC : 0.8461\n"
     ]
    }
   ],
   "source": [
    "from sklearn.preprocessing import StandardScaler\n",
    "\n",
    "# 피처 데이터\n",
    "feature_data = diabetes_data.drop('Outcome', axis=1) # label빼고 모든 열\n",
    "feature_data.head(2)\n",
    "\n",
    "\n",
    "# 레이블 데이터\n",
    "label_data = diabetes_data['Outcome']\n",
    "\n",
    "# 표준 스케일링 적용\n",
    "scaler = StandardScaler()\n",
    "feature_data_scaled = scaler.fit_transform(feature_data)\n",
    "\n",
    "# 학습 / 테스트 데이터 세트 분리\n",
    "# 스케일링 된 피쳐 데이터 셋 사용\n",
    "# stratify= label 데이터 옵션 있는 경우\n",
    "X_train, X_test, y_train, y_test = train_test_split(feature_data_scaled,\n",
    "                                                    label_data,\n",
    "                                                    test_size=0.2, \n",
    "                                                    random_state=11,\n",
    "                                                   stratify = label_data)\n",
    "\n",
    "# 로지스틱 회귀로\n",
    "# 모델 생성/학습/예측\n",
    "lr_clf = LogisticRegression(max_iter=3000)\n",
    "lr_clf.fit(X_train, y_train)\n",
    "y_pred = lr_clf.predict(X_test)\n",
    "\n",
    "\n",
    "# 모델 평가\n",
    "# pred_proba사용해서\n",
    "pred_proba = lr_clf.predict_proba(X_test)[:, 1]\n",
    "# get_clf_eval()함수 호출\n",
    "get_clf_eval(y_test, y_pred, pred_proba)\n",
    "\n",
    "\n",
    "# 평가 지표 출력 \n",
    "# 오히려 데이터 가공 전보다 재현율/ 정밀도가 더 떨어졌다."
   ]
  },
  {
   "cell_type": "code",
   "execution_count": null,
   "id": "3d90790c",
   "metadata": {},
   "outputs": [],
   "source": [
    "# 데이터 가공전\n",
    "# 0값을 평균값으로 대체 +\n",
    "# 피처 스케일링 수행하기 전 평가지표\n",
    "\n",
    "# 오차행렬 :  [[90 10]\n",
    "#  [24 30]]\n",
    "# 정확도: 0.7792, 정밀도: 0.7500, 재현율: 0.5556,  F1 : 0.6383, ROC_AUC : 0.8513"
   ]
  },
  {
   "cell_type": "markdown",
   "id": "881deb72",
   "metadata": {},
   "source": [
    "### 임계값을 변화시키면서 재현율 성능 측정\n",
    "- 임계값을 0.3에서 0.5까지 0.03씩 변화시키면서\n",
    "- 재현율과 다른 평가 지표의 값 확인"
   ]
  },
  {
   "cell_type": "markdown",
   "id": "73898382",
   "metadata": {},
   "source": [
    "Binarizer 클래스 활용\n",
    "- 사이킷런의 Binarizer 클래스 이용해서  \n",
    "- 분류 결정 임계값을 조절하여  \n",
    "- 정밀도와 재현율의 성능 수치를 상호 보완적으로 조정 가능"
   ]
  },
  {
   "cell_type": "markdown",
   "id": "e5390f74",
   "metadata": {},
   "source": [
    "Binarizer 클래스 이용 예측값 변환 예제\n",
    "- 임계값(threshold) 변수를 특정 값으로 설정하고\n",
    "- Binarizer 클래스의 fit_transform() 메서드를 이용해서\n",
    "- 넘파이 ndarray 입력 값을 지정 threshold 보다 같거나 작으면 0값으로,\n",
    "- 크면 1값으로 변환해서 반환Binarizer 클래스 이용 예측값 변환 예제\n",
    "- 임계값(threshold) 변수를 특정 값으로 설정하고\n",
    "- Binarizer 클래스의 fit_transform() 메서드를 이용해서\n",
    "- 넘파이 ndarray 입력 값을 지정 threshold 보다 같거나 작으면 0값으로,\n",
    "- 크면 1값으로 변환해서 반환"
   ]
  },
  {
   "cell_type": "code",
   "execution_count": 92,
   "id": "c6de1bd5",
   "metadata": {},
   "outputs": [],
   "source": [
    "# 임계값에 따른 평가 수치 출력 함수\n",
    "from sklearn.preprocessing import Binarizer\n",
    "\n",
    "def get_eval_by_threshold(y_test, pred_proba, thresholds):\n",
    "    # thresholds 리스트 값을 차례로 반복하면서 평가 수행\n",
    "    for custom_threshold in thresholds:\n",
    "        binarizer = Binarizer(threshold=custom_threshold).fit(pred_proba)\n",
    "        # threshold보다 같거나 작으면 0, 크면 1로 변환해서 반환\n",
    "        custom_predict = binarizer.transform(pred_proba)\n",
    "        \n",
    "        print('\\n임계값 : ', custom_threshold)\n",
    "        \n",
    "        # 위에서 만든 평가 함수 호출\n",
    "        get_clf_eval(y_test, custom_predict, pred_proba)"
   ]
  },
  {
   "cell_type": "code",
   "execution_count": 93,
   "id": "44f8be00",
   "metadata": {
    "scrolled": true
   },
   "outputs": [
    {
     "name": "stdout",
     "output_type": "stream",
     "text": [
      "\n",
      "임계값 :  0.3\n",
      "오차행렬 :  [[75 25]\n",
      " [13 41]]\n",
      "정확도: 0.7532, 정밀도: 0.6212, 재현율: 0.7593,  F1 : 0.6833, ROC_AUC : 0.8461\n",
      "\n",
      "임계값 :  0.33\n",
      "오차행렬 :  [[77 23]\n",
      " [15 39]]\n",
      "정확도: 0.7532, 정밀도: 0.6290, 재현율: 0.7222,  F1 : 0.6724, ROC_AUC : 0.8461\n",
      "\n",
      "임계값 :  0.36\n",
      "오차행렬 :  [[79 21]\n",
      " [16 38]]\n",
      "정확도: 0.7597, 정밀도: 0.6441, 재현율: 0.7037,  F1 : 0.6726, ROC_AUC : 0.8461\n",
      "\n",
      "임계값 :  0.39\n",
      "오차행렬 :  [[81 19]\n",
      " [17 37]]\n",
      "정확도: 0.7662, 정밀도: 0.6607, 재현율: 0.6852,  F1 : 0.6727, ROC_AUC : 0.8461\n",
      "\n",
      "임계값 :  0.42\n",
      "오차행렬 :  [[84 16]\n",
      " [19 35]]\n",
      "정확도: 0.7727, 정밀도: 0.6863, 재현율: 0.6481,  F1 : 0.6667, ROC_AUC : 0.8461\n",
      "\n",
      "임계값 :  0.45\n",
      "오차행렬 :  [[86 14]\n",
      " [19 35]]\n",
      "정확도: 0.7857, 정밀도: 0.7143, 재현율: 0.6481,  F1 : 0.6796, ROC_AUC : 0.8461\n",
      "\n",
      "임계값 :  0.48\n",
      "오차행렬 :  [[87 13]\n",
      " [24 30]]\n",
      "정확도: 0.7597, 정밀도: 0.6977, 재현율: 0.5556,  F1 : 0.6186, ROC_AUC : 0.8461\n",
      "\n",
      "임계값 :  0.5\n",
      "오차행렬 :  [[88 12]\n",
      " [25 29]]\n",
      "정확도: 0.7597, 정밀도: 0.7073, 재현율: 0.5370,  F1 : 0.6105, ROC_AUC : 0.8461\n"
     ]
    }
   ],
   "source": [
    "thresholds = [0.3, 0.33, 0.36, 0.39, 0.42, 0.45, 0.48, 0.5]\n",
    "pred_proba = lr_clf.predict_proba(X_test)[:, 1]\n",
    "get_eval_by_threshold(y_test, pred_proba.reshape(-1,1), thresholds)\n",
    "\n",
    "# reshape(-1,1)에서 -1의미 \n",
    "# 열의 값은 특정 정수로 지정되어 있을 때\n",
    "# 남은 배열의 길이와 남은 차원으로부터 추정해서 \n",
    "# 알아서 행을 지정하라는 의미\n",
    "\n",
    "# 결과\n",
    "# 정확도, 정밀도 희생하고 재현율 높이는데 가장 좋은  임계값 : 0.3\n",
    "# 재현율 : 0.7593\n",
    "# 정밀도도 0.6212정도는 많이 낮지 않다고 판단해서 이 임계값을 선택할 수 있음\n",
    "# 만일 정밀도 수치가 더 ㅁ낳이 낮으면 다른 선택해야한다.\n",
    "# 또한 F1 도 0.6833으로 가장 높음 : 정밀도, 재현율이 균형을 이루고 있다고 보여짐"
   ]
  },
  {
   "cell_type": "code",
   "execution_count": 90,
   "id": "b425b354",
   "metadata": {
    "scrolled": true
   },
   "outputs": [
    {
     "data": {
      "text/plain": [
       "array([0.99444024, 0.16024478, 0.80380298, 0.792367  , 0.03982618,\n",
       "       0.52247632, 0.04425754, 0.92908034, 0.85061868, 0.68132797,\n",
       "       0.03339697, 0.80039946, 0.32320464, 0.25441518, 0.22225795,\n",
       "       0.81979791, 0.76081831, 0.89579055, 0.44953591, 0.37312721,\n",
       "       0.08422004, 0.01241444, 0.34076835, 0.18644551, 0.23041407,\n",
       "       0.22403132, 0.48195188, 0.19331687, 0.27739601, 0.068702  ,\n",
       "       0.41854702, 0.81657785, 0.09570861, 0.29350802, 0.65204945,\n",
       "       0.47211704, 0.25546373, 0.43317833, 0.02794601, 0.04335974,\n",
       "       0.07548422, 0.45176905, 0.83795559, 0.24581658, 0.24767427,\n",
       "       0.80400841, 0.07735071, 0.50115774, 0.08047413, 0.10785696,\n",
       "       0.0617696 , 0.11713441, 0.12696228, 0.17079562, 0.03604824,\n",
       "       0.22195157, 0.13737693, 0.10702922, 0.75944456, 0.04185289,\n",
       "       0.39597495, 0.46036716, 0.03060092, 0.9274826 , 0.05442859,\n",
       "       0.16702648, 0.09948941, 0.09508402, 0.3292328 , 0.12588279,\n",
       "       0.38881249, 0.1868754 , 0.31657823, 0.95189142, 0.07053423,\n",
       "       0.55424595, 0.31630031, 0.7480464 , 0.13491229, 0.96873717,\n",
       "       0.10665955, 0.18803783, 0.03623705, 0.08225675, 0.79241277,\n",
       "       0.3529907 , 0.14489693, 0.13630441, 0.81358539, 0.39754971,\n",
       "       0.19054703, 0.12326435, 0.1275286 , 0.22425658, 0.6865819 ,\n",
       "       0.53510438, 0.46632981, 0.65398688, 0.62140379, 0.24880031,\n",
       "       0.04241685, 0.29205795, 0.16730272, 0.05699845, 0.92946825,\n",
       "       0.200611  , 0.22825212, 0.06713212, 0.75285669, 0.39158725,\n",
       "       0.01450989, 0.38373061, 0.86055984, 0.28486111, 0.2016601 ,\n",
       "       0.12496181, 0.19970387, 0.89737389, 0.03445784, 0.67424369,\n",
       "       0.27385379, 0.63717577, 0.61974702, 0.33191429, 0.77533946,\n",
       "       0.01839869, 0.05648844, 0.97327511, 0.77345645, 0.47994365,\n",
       "       0.1649253 , 0.09228439, 0.18176292, 0.26132813, 0.41906457,\n",
       "       0.10207824, 0.14260741, 0.75003451, 0.49229565, 0.12292074,\n",
       "       0.07568039, 0.23424902, 0.0394122 , 0.23944593, 0.26873136,\n",
       "       0.1467258 , 0.78510862, 0.26094749, 0.10642613, 0.61334787,\n",
       "       0.06878511, 0.47875303, 0.05601759, 0.08927239])"
      ]
     },
     "execution_count": 90,
     "metadata": {},
     "output_type": "execute_result"
    }
   ],
   "source": [
    "lr_clf.predict_proba(X_test)[:, 1]"
   ]
  },
  {
   "cell_type": "code",
   "execution_count": 89,
   "id": "72cafab0",
   "metadata": {
    "scrolled": true
   },
   "outputs": [
    {
     "data": {
      "text/plain": [
       "array([[0.99444024],\n",
       "       [0.16024478],\n",
       "       [0.80380298],\n",
       "       [0.792367  ],\n",
       "       [0.03982618],\n",
       "       [0.52247632],\n",
       "       [0.04425754],\n",
       "       [0.92908034],\n",
       "       [0.85061868],\n",
       "       [0.68132797],\n",
       "       [0.03339697],\n",
       "       [0.80039946],\n",
       "       [0.32320464],\n",
       "       [0.25441518],\n",
       "       [0.22225795],\n",
       "       [0.81979791],\n",
       "       [0.76081831],\n",
       "       [0.89579055],\n",
       "       [0.44953591],\n",
       "       [0.37312721],\n",
       "       [0.08422004],\n",
       "       [0.01241444],\n",
       "       [0.34076835],\n",
       "       [0.18644551],\n",
       "       [0.23041407],\n",
       "       [0.22403132],\n",
       "       [0.48195188],\n",
       "       [0.19331687],\n",
       "       [0.27739601],\n",
       "       [0.068702  ],\n",
       "       [0.41854702],\n",
       "       [0.81657785],\n",
       "       [0.09570861],\n",
       "       [0.29350802],\n",
       "       [0.65204945],\n",
       "       [0.47211704],\n",
       "       [0.25546373],\n",
       "       [0.43317833],\n",
       "       [0.02794601],\n",
       "       [0.04335974],\n",
       "       [0.07548422],\n",
       "       [0.45176905],\n",
       "       [0.83795559],\n",
       "       [0.24581658],\n",
       "       [0.24767427],\n",
       "       [0.80400841],\n",
       "       [0.07735071],\n",
       "       [0.50115774],\n",
       "       [0.08047413],\n",
       "       [0.10785696],\n",
       "       [0.0617696 ],\n",
       "       [0.11713441],\n",
       "       [0.12696228],\n",
       "       [0.17079562],\n",
       "       [0.03604824],\n",
       "       [0.22195157],\n",
       "       [0.13737693],\n",
       "       [0.10702922],\n",
       "       [0.75944456],\n",
       "       [0.04185289],\n",
       "       [0.39597495],\n",
       "       [0.46036716],\n",
       "       [0.03060092],\n",
       "       [0.9274826 ],\n",
       "       [0.05442859],\n",
       "       [0.16702648],\n",
       "       [0.09948941],\n",
       "       [0.09508402],\n",
       "       [0.3292328 ],\n",
       "       [0.12588279],\n",
       "       [0.38881249],\n",
       "       [0.1868754 ],\n",
       "       [0.31657823],\n",
       "       [0.95189142],\n",
       "       [0.07053423],\n",
       "       [0.55424595],\n",
       "       [0.31630031],\n",
       "       [0.7480464 ],\n",
       "       [0.13491229],\n",
       "       [0.96873717],\n",
       "       [0.10665955],\n",
       "       [0.18803783],\n",
       "       [0.03623705],\n",
       "       [0.08225675],\n",
       "       [0.79241277],\n",
       "       [0.3529907 ],\n",
       "       [0.14489693],\n",
       "       [0.13630441],\n",
       "       [0.81358539],\n",
       "       [0.39754971],\n",
       "       [0.19054703],\n",
       "       [0.12326435],\n",
       "       [0.1275286 ],\n",
       "       [0.22425658],\n",
       "       [0.6865819 ],\n",
       "       [0.53510438],\n",
       "       [0.46632981],\n",
       "       [0.65398688],\n",
       "       [0.62140379],\n",
       "       [0.24880031],\n",
       "       [0.04241685],\n",
       "       [0.29205795],\n",
       "       [0.16730272],\n",
       "       [0.05699845],\n",
       "       [0.92946825],\n",
       "       [0.200611  ],\n",
       "       [0.22825212],\n",
       "       [0.06713212],\n",
       "       [0.75285669],\n",
       "       [0.39158725],\n",
       "       [0.01450989],\n",
       "       [0.38373061],\n",
       "       [0.86055984],\n",
       "       [0.28486111],\n",
       "       [0.2016601 ],\n",
       "       [0.12496181],\n",
       "       [0.19970387],\n",
       "       [0.89737389],\n",
       "       [0.03445784],\n",
       "       [0.67424369],\n",
       "       [0.27385379],\n",
       "       [0.63717577],\n",
       "       [0.61974702],\n",
       "       [0.33191429],\n",
       "       [0.77533946],\n",
       "       [0.01839869],\n",
       "       [0.05648844],\n",
       "       [0.97327511],\n",
       "       [0.77345645],\n",
       "       [0.47994365],\n",
       "       [0.1649253 ],\n",
       "       [0.09228439],\n",
       "       [0.18176292],\n",
       "       [0.26132813],\n",
       "       [0.41906457],\n",
       "       [0.10207824],\n",
       "       [0.14260741],\n",
       "       [0.75003451],\n",
       "       [0.49229565],\n",
       "       [0.12292074],\n",
       "       [0.07568039],\n",
       "       [0.23424902],\n",
       "       [0.0394122 ],\n",
       "       [0.23944593],\n",
       "       [0.26873136],\n",
       "       [0.1467258 ],\n",
       "       [0.78510862],\n",
       "       [0.26094749],\n",
       "       [0.10642613],\n",
       "       [0.61334787],\n",
       "       [0.06878511],\n",
       "       [0.47875303],\n",
       "       [0.05601759],\n",
       "       [0.08927239]])"
      ]
     },
     "execution_count": 89,
     "metadata": {},
     "output_type": "execute_result"
    }
   ],
   "source": [
    "lr_clf.predict_proba(X_test)[:, 1].reshape(-1, 1)  # 이런 형태로 바꿔서 값을 보낼것"
   ]
  },
  {
   "cell_type": "markdown",
   "id": "950f3a67",
   "metadata": {},
   "source": [
    "모델링 과정을 큰 틀로 확인\n",
    "- 데이터 준비\n",
    "- 데이터셋 분리\n",
    "- 모델 생성/학습/예측/평가 (알고리즘을 부품처럼 사용 : 상세 내용 파악 안하고 사용법만 익힌 상태)\n",
    "- 성능 향상(튜닝)"
   ]
  },
  {
   "cell_type": "markdown",
   "id": "855f66d4",
   "metadata": {},
   "source": [
    "여러가지 성능 평가지표 확인"
   ]
  },
  {
   "cell_type": "markdown",
   "id": "82773c7e",
   "metadata": {},
   "source": [
    "여러 가지 분류 알고리즘"
   ]
  },
  {
   "cell_type": "code",
   "execution_count": 95,
   "id": "3eecb343",
   "metadata": {},
   "outputs": [
    {
     "data": {
      "text/plain": [
       "0.8461111111111111"
      ]
     },
     "execution_count": 95,
     "metadata": {},
     "output_type": "execute_result"
    }
   ],
   "source": []
  }
 ],
 "metadata": {
  "kernelspec": {
   "display_name": "Python 3 (ipykernel)",
   "language": "python",
   "name": "python3"
  },
  "language_info": {
   "codemirror_mode": {
    "name": "ipython",
    "version": 3
   },
   "file_extension": ".py",
   "mimetype": "text/x-python",
   "name": "python",
   "nbconvert_exporter": "python",
   "pygments_lexer": "ipython3",
   "version": "3.10.13"
  }
 },
 "nbformat": 4,
 "nbformat_minor": 5
}
