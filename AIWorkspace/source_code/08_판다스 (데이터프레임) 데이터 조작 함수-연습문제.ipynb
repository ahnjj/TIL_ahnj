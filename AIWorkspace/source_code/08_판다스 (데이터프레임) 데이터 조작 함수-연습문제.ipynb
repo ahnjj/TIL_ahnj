{
 "cells": [
  {
   "cell_type": "markdown",
   "id": "1f26a72c",
   "metadata": {},
   "source": [
    "### 데이터프레임 데이터 조작 함수 연습문제"
   ]
  },
  {
   "cell_type": "code",
   "execution_count": null,
   "id": "ff03d825",
   "metadata": {},
   "outputs": [],
   "source": [
    "# 패키지 임포트"
   ]
  },
  {
   "cell_type": "code",
   "execution_count": null,
   "id": "49ff0c9c",
   "metadata": {},
   "outputs": [],
   "source": [
    "# seaborn 패키지의 titanic 데이터셋을 load 하시오"
   ]
  },
  {
   "cell_type": "markdown",
   "id": "8b5a9210",
   "metadata": {},
   "source": [
    "#### 연습문제 1\n",
    "- 타이타닉 호 승객에 대해서 다음의 값 추출\n",
    "  - 성별(sex) 인원수 : 인덱스 기준으로 정렬\n",
    "  - 나이별(age) 인원수 : 값 기준 정렬  \n",
    "  - 선실별(class) 인원수, 사망/생존(alive)인원수 : 임의 정렬     "
   ]
  },
  {
   "cell_type": "code",
   "execution_count": null,
   "id": "8b4df92c",
   "metadata": {},
   "outputs": [],
   "source": [
    "정렬전\n",
    "male 577\n",
    "female 314\n",
    "\n",
    "정렬후\n",
    "female 314\n",
    "male 577"
   ]
  },
  {
   "cell_type": "code",
   "execution_count": null,
   "id": "f11266a0",
   "metadata": {},
   "outputs": [],
   "source": []
  },
  {
   "cell_type": "markdown",
   "id": "d406a49f",
   "metadata": {},
   "source": [
    "#### 연습문제 2\n",
    "- 성별에 따른 생존자수와 사망자수의 정보를 갖고 있는 데이터프레임 생성  \n",
    "    - 0은 생존 1은 사망"
   ]
  },
  {
   "cell_type": "markdown",
   "id": "6b5e45de",
   "metadata": {},
   "source": [
    "![](데이터조작문제.PNG)"
   ]
  },
  {
   "cell_type": "markdown",
   "id": "dcbe7084",
   "metadata": {},
   "source": [
    "#### 연습문제 3\n",
    "- 타이타닉호 승객을 사망자와 생존자 그룹으로 나누고(alive)\n",
    "- 각 그룹에 대해 미성년자, 청년, 중년, 장년, 노년 승객의 비율 출력  \n",
    "    - bins=[0,18,35,50,65,99]\n",
    "    - labels=['미성년자','청년','중년','장년','노년']"
   ]
  },
  {
   "cell_type": "markdown",
   "id": "32ad9969",
   "metadata": {},
   "source": [
    "#### 연습문제 4\n",
    "- 내포 for문을 이용해서 리스트 ['id_1','id_2','id_3','id_4'] 생성"
   ]
  },
  {
   "cell_type": "code",
   "execution_count": null,
   "id": "0d8a6158",
   "metadata": {},
   "outputs": [],
   "source": []
  }
 ],
 "metadata": {
  "kernelspec": {
   "display_name": "Python 3 (ipykernel)",
   "language": "python",
   "name": "python3"
  },
  "language_info": {
   "codemirror_mode": {
    "name": "ipython",
    "version": 3
   },
   "file_extension": ".py",
   "mimetype": "text/x-python",
   "name": "python",
   "nbconvert_exporter": "python",
   "pygments_lexer": "ipython3",
   "version": "3.11.5"
  }
 },
 "nbformat": 4,
 "nbformat_minor": 5
}
