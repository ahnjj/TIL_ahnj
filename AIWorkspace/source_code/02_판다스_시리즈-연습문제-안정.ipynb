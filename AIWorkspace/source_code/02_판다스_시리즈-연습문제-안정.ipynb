{
 "cells": [
  {
   "cell_type": "code",
   "execution_count": 2,
   "metadata": {},
   "outputs": [],
   "source": [
    "# 넘파이, 판다스 패키지 import\n",
    "import pandas as pd\n",
    "import numpy as np"
   ]
  },
  {
   "cell_type": "code",
   "execution_count": 3,
   "metadata": {},
   "outputs": [],
   "source": [
    "# 한 셀에서 여려 결과 출력\n",
    "from IPython.core.interactiveshell import InteractiveShell\n",
    "InteractiveShell.ast_node_interactivity=\"all\""
   ]
  },
  {
   "cell_type": "markdown",
   "metadata": {},
   "source": [
    "#### 시리즈 연습 문제 "
   ]
  },
  {
   "cell_type": "code",
   "execution_count": 4,
   "metadata": {},
   "outputs": [
    {
     "data": {
      "text/plain": [
       "a    10\n",
       "b    20\n",
       "c    30\n",
       "dtype: int64"
      ]
     },
     "execution_count": 4,
     "metadata": {},
     "output_type": "execute_result"
    }
   ],
   "source": [
    "# 연습문제 1\n",
    "# 리스트를 사용하여 시리즈 s1 생성\n",
    "# value : 10, 20, 30\n",
    "# 문자열 인덱스 명시 : a, b, c\n",
    "s1 = pd.Series([10,20,30], index=['a','b','c'])\n",
    "s1"
   ]
  },
  {
   "cell_type": "code",
   "execution_count": 6,
   "metadata": {},
   "outputs": [
    {
     "data": {
      "text/plain": [
       "국어     95\n",
       "영어     80\n",
       "수학     75\n",
       "과학    100\n",
       "dtype: int64"
      ]
     },
     "execution_count": 6,
     "metadata": {},
     "output_type": "execute_result"
    }
   ],
   "source": [
    "# 연습문제 2\n",
    "# 딕셔너리를 사용하여 시리즈 s2 생성\n",
    "# '국어':95,'영어':80,'수학':75, '과학':100\n",
    "score = {'국어':95,'영어':80,'수학':75, '과학':100}\n",
    "s2 = pd.Series(score)\n",
    "s2"
   ]
  },
  {
   "cell_type": "code",
   "execution_count": 7,
   "metadata": {},
   "outputs": [
    {
     "data": {
      "text/plain": [
       "국어     95\n",
       "영어     80\n",
       "수학     75\n",
       "과학    100\n",
       "Name: 성적, dtype: int64"
      ]
     },
     "execution_count": 7,
     "metadata": {},
     "output_type": "execute_result"
    }
   ],
   "source": [
    "# 연습문제 3 \n",
    "# s2에 성적 이라는 이름 설정\n",
    "s2.name = '성적'\n",
    "s2"
   ]
  },
  {
   "cell_type": "code",
   "execution_count": 9,
   "metadata": {},
   "outputs": [
    {
     "data": {
      "text/plain": [
       "영어     80\n",
       "수학     75\n",
       "과학    100\n",
       "Name: 성적, dtype: int64"
      ]
     },
     "execution_count": 9,
     "metadata": {},
     "output_type": "execute_result"
    }
   ],
   "source": [
    "# 연습문제 4\n",
    "# 영어, 수학, 과학 점수만 추출\n",
    "s2[['영어','수학','과학']]"
   ]
  },
  {
   "cell_type": "code",
   "execution_count": 10,
   "metadata": {},
   "outputs": [
    {
     "data": {
      "text/plain": [
       "국어    95\n",
       "수학    75\n",
       "Name: 성적, dtype: int64"
      ]
     },
     "execution_count": 10,
     "metadata": {},
     "output_type": "execute_result"
    }
   ],
   "source": [
    "# 연습문제 5\n",
    "# 국어, 수학 점수만 추출\n",
    "s2[['국어','수학']]"
   ]
  },
  {
   "cell_type": "code",
   "execution_count": 11,
   "metadata": {},
   "outputs": [
    {
     "data": {
      "text/plain": [
       "국어     95\n",
       "과학    100\n",
       "Name: 성적, dtype: int64"
      ]
     },
     "execution_count": 11,
     "metadata": {},
     "output_type": "execute_result"
    }
   ],
   "source": [
    "# 연습문제 6\n",
    "# 점수가 90 이상인 과목만 추출\n",
    "s2[(s2>=90)]"
   ]
  },
  {
   "cell_type": "code",
   "execution_count": 13,
   "metadata": {},
   "outputs": [
    {
     "data": {
      "text/plain": [
       "국어    95\n",
       "영어    80\n",
       "수학    75\n",
       "과학    98\n",
       "Name: 성적, dtype: int64"
      ]
     },
     "execution_count": 13,
     "metadata": {},
     "output_type": "execute_result"
    }
   ],
   "source": [
    "# 연습문제 7\n",
    "# 과학 점수를 98로 변경\n",
    "s2['과학'] = 98\n",
    "s2"
   ]
  },
  {
   "cell_type": "code",
   "execution_count": 14,
   "metadata": {},
   "outputs": [
    {
     "data": {
      "text/plain": [
       "국어    95\n",
       "영어    80\n",
       "수학    75\n",
       "Name: 성적, dtype: int64"
      ]
     },
     "execution_count": 14,
     "metadata": {},
     "output_type": "execute_result"
    }
   ],
   "source": [
    "# 연습문제 8\n",
    "# 과학 데이터 삭제\n",
    "del s2['과학']\n",
    "s2"
   ]
  },
  {
   "cell_type": "code",
   "execution_count": 16,
   "metadata": {},
   "outputs": [
    {
     "name": "stdout",
     "output_type": "stream",
     "text": [
      "데이터에 과학 정보가 없습니다\n"
     ]
    }
   ],
   "source": [
    "# 연습문제 9\n",
    "# 시리즈 s2에 과학 데이터가 포함되어 있는지 확인\n",
    "# 포함되어 있으면 '데이터에 과학 정보가 있습니다'\n",
    "# 포함되어 있지 않으면 '데이터에 과학 정보가 없습니다' 출력\n",
    "if '과학' in s2:\n",
    "    print('데이터에 과학 정보가 있습니다.')\n",
    "else:\n",
    "    print('데이터에 과학 정보가 없습니다' )"
   ]
  },
  {
   "cell_type": "code",
   "execution_count": 22,
   "metadata": {},
   "outputs": [
    {
     "data": {
      "text/plain": [
       "3"
      ]
     },
     "execution_count": 22,
     "metadata": {},
     "output_type": "execute_result"
    },
    {
     "data": {
      "text/plain": [
       "250"
      ]
     },
     "execution_count": 22,
     "metadata": {},
     "output_type": "execute_result"
    },
    {
     "data": {
      "text/plain": [
       "83.33333333333333"
      ]
     },
     "execution_count": 22,
     "metadata": {},
     "output_type": "execute_result"
    }
   ],
   "source": [
    "# 연습문제 10\n",
    "# 과목 수, 총점, 평균(소수점 2자리까지) 출력\n",
    "len(s2)\n",
    "s2.sum()\n",
    "s2.mean()"
   ]
  }
 ],
 "metadata": {
  "kernelspec": {
   "display_name": "Python 3 (ipykernel)",
   "language": "python",
   "name": "python3"
  },
  "language_info": {
   "codemirror_mode": {
    "name": "ipython",
    "version": 3
   },
   "file_extension": ".py",
   "mimetype": "text/x-python",
   "name": "python",
   "nbconvert_exporter": "python",
   "pygments_lexer": "ipython3",
   "version": "3.10.13"
  }
 },
 "nbformat": 4,
 "nbformat_minor": 4
}
