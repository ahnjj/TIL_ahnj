{
 "cells": [
  {
   "cell_type": "markdown",
   "metadata": {},
   "source": [
    "## 신경망을 위한 데이터 표현"
   ]
  },
  {
   "cell_type": "markdown",
   "metadata": {},
   "source": [
    "**텐서(tensor)**\n",
    "- 다차원 넘파이 배열\n",
    "- 최근의 모든 머신 러닝 시스템은 일반적으로 텐서를 기본 데이터 구조로 사용\n",
    "\n",
    "**스칼라(0D 텐서, 0차원 텐서)**\n",
    "- 하나의 숫자만 담고 있는 텐서\n",
    "- 넘파이에서는 float32나 float64 타입의 숫자가 스칼라 텐서에 해당\n",
    "- ndim 속성을 사용하면 넘파이 배열의 축 개수를 확인할 수 있음\n",
    "- 스칼라 텐서의 축 개수 : 0 (ndim = = 0)\n",
    "- 12  \n",
    "- array(12)  \n",
    "\n",
    "**벡터(1D 텐서)**\n",
    "- 숫자의 배열\n",
    "- 벡터 텐서의 축 개수 : 1 (ndim = = 1)\n",
    "- [1, 2, 3, 4, 5]\n",
    "- array([1, 2, 3, 4, 5])\n",
    "\n",
    "\n",
    "**행렬(2D 텐서)**\n",
    "- 벡터의 배열이 행렬(matrix) 또는 2D 텐서임\n",
    "- 행렬텐서의 축 개수 : 2 (ndim = = 2)\n",
    "- 보통 행(row)과 열(column)이라고 부름\n",
    "- 첫 번째 축에 놓여 있는 원소를 행이라 부르고\n",
    "- 두 번째 축에 놓여 있는 원소를 열이라 부름\n",
    "- array([[ 5, 78,  2, 34,  0],  \n",
    "       [ 6, 79,  3, 35,  1],  \n",
    "       [ 7, 80,  4, 36,  2]])  \n",
    "\n",
    "\n",
    "**3D 텐서와 고차원 텐서**\n",
    "- 2D 행렬들을 하나의 새로운 배열로 합치면 \n",
    "- 숫자가 채워진 직육면체 형태로 해석할 수 있는 3D 텐서가 만들어짐\n",
    "\n",
    "- 2차원 행렬 3개 를 하나로 합침 (아래)\n",
    "- array([[[ 5, 78,  2, 34,  0],  \n",
    "        [ 6, 79,  3, 35,  1],  \n",
    "        [ 7, 80,  4, 36,  2]],  \n",
    "\n",
    "       [[ 5, 78,  2, 34,  0],  \n",
    "        [ 6, 79,  3, 35,  1],  \n",
    "        [ 7, 80,  4, 36,  2]],  \n",
    "\n",
    "       [[ 5, 78,  2, 34,  0],  \n",
    "        [ 6, 79,  3, 35,  1],  \n",
    "        [ 7, 80,  4, 36,  2]]])  \n",
    "- 3D 텐서들을 하나의 배열로 합치면 4D 텐서를 만드는 식으로 이어짐\n",
    "\n",
    "- 딥러닝에서는 보통 0D에서 4D까지의 텐서를 다룸\n",
    "- 동영상 데이터를 다룰 경우에는 5D 텐서까지 가기도 함\n",
    "\n",
    "\n",
    "\n",
    "\n",
    "**5D 벡터 vs 5D 텐서**\n",
    "- 5D 벡터 \n",
    "  - array([1, 2, 3, 4, 5])  \n",
    "  - 5개의 원소를 가지고 있으므로 5차원 벡터라고 부름\n",
    "    - 5D 벡터는 하나의 축을 따라 5개의 차원을 가진 것임       \n",
    "- 5D 텐서는 5개의 축을 가진 것임  \n",
    "    - 텐서의 각 축을 따라 여러 개의 차원을 가진 벡터가 놓일 수 있음\n"
   ]
  },
  {
   "cell_type": "code",
   "execution_count": 1,
   "metadata": {},
   "outputs": [],
   "source": [
    "from IPython.core.interactiveshell import InteractiveShell\n",
    "InteractiveShell.ast_node_interactivity=\"all\""
   ]
  },
  {
   "cell_type": "code",
   "execution_count": 2,
   "metadata": {},
   "outputs": [],
   "source": [
    "import numpy as np"
   ]
  },
  {
   "cell_type": "code",
   "execution_count": 4,
   "metadata": {},
   "outputs": [
    {
     "data": {
      "text/plain": [
       "array(12)"
      ]
     },
     "execution_count": 4,
     "metadata": {},
     "output_type": "execute_result"
    },
    {
     "name": "stdout",
     "output_type": "stream",
     "text": [
      "12\n"
     ]
    }
   ],
   "source": [
    "# 스칼라(0D 텐서, 0차원 텐서)\n",
    "s = np.array(12)\n",
    "s\n",
    "print(s) # 값만 프린트"
   ]
  },
  {
   "cell_type": "code",
   "execution_count": 5,
   "metadata": {},
   "outputs": [
    {
     "data": {
      "text/plain": [
       "0"
      ]
     },
     "execution_count": 5,
     "metadata": {},
     "output_type": "execute_result"
    }
   ],
   "source": [
    "# 스칼라 텐서의 축 개수 확인 : 0개 (ndim==0)\n",
    "s.ndim"
   ]
  },
  {
   "cell_type": "code",
   "execution_count": 8,
   "metadata": {},
   "outputs": [
    {
     "data": {
      "text/plain": [
       "array([1, 2, 3, 4, 5])"
      ]
     },
     "execution_count": 8,
     "metadata": {},
     "output_type": "execute_result"
    },
    {
     "name": "stdout",
     "output_type": "stream",
     "text": [
      "[1 2 3 4 5]\n"
     ]
    },
    {
     "data": {
      "text/plain": [
       "1"
      ]
     },
     "execution_count": 8,
     "metadata": {},
     "output_type": "execute_result"
    }
   ],
   "source": [
    "# 벡터(1D 텐서)\n",
    "v = np.array([1, 2, 3, 4, 5])\n",
    "v\n",
    "print(v)\n",
    "v.ndim  # 축 1개"
   ]
  },
  {
   "cell_type": "code",
   "execution_count": 12,
   "metadata": {},
   "outputs": [
    {
     "data": {
      "text/plain": [
       "array([[ 5, 78,  2, 34,  0],\n",
       "       [ 6, 79,  3, 35,  1],\n",
       "       [ 7, 80,  4, 36,  2]])"
      ]
     },
     "execution_count": 12,
     "metadata": {},
     "output_type": "execute_result"
    },
    {
     "name": "stdout",
     "output_type": "stream",
     "text": [
      "[[ 5 78  2 34  0]\n",
      " [ 6 79  3 35  1]\n",
      " [ 7 80  4 36  2]]\n"
     ]
    },
    {
     "data": {
      "text/plain": [
       "2"
      ]
     },
     "execution_count": 12,
     "metadata": {},
     "output_type": "execute_result"
    }
   ],
   "source": [
    "# 행렬(2D 텐서)\n",
    "m = np.array([[5, 78, 2, 34, 0],\n",
    "            [6, 79, 3, 35, 1],\n",
    "            [7, 80, 4, 36, 2]])\n",
    "\n",
    "m\n",
    "print(m)\n",
    "m.ndim # 축 2개\n",
    "# 첫번 째 축 : 행 [5, 78, 2, 34, 0]\n",
    "# 두번 째 축 : 열 [5, 6, 7]"
   ]
  },
  {
   "cell_type": "code",
   "execution_count": 15,
   "metadata": {},
   "outputs": [
    {
     "data": {
      "text/plain": [
       "array([[[ 5, 78,  2, 34,  0],\n",
       "        [ 6, 79,  3, 35,  1],\n",
       "        [ 7, 80,  4, 36,  2]],\n",
       "\n",
       "       [[ 6, 78,  2, 34,  0],\n",
       "        [ 6, 79,  3, 35,  1],\n",
       "        [ 7, 80,  4, 36,  2]],\n",
       "\n",
       "       [[ 5, 78,  2, 34,  0],\n",
       "        [ 6, 79,  3, 35,  1],\n",
       "        [ 7, 80,  4, 36,  2]]])"
      ]
     },
     "execution_count": 15,
     "metadata": {},
     "output_type": "execute_result"
    },
    {
     "name": "stdout",
     "output_type": "stream",
     "text": [
      "[[[ 5 78  2 34  0]\n",
      "  [ 6 79  3 35  1]\n",
      "  [ 7 80  4 36  2]]\n",
      "\n",
      " [[ 6 78  2 34  0]\n",
      "  [ 6 79  3 35  1]\n",
      "  [ 7 80  4 36  2]]\n",
      "\n",
      " [[ 5 78  2 34  0]\n",
      "  [ 6 79  3 35  1]\n",
      "  [ 7 80  4 36  2]]]\n"
     ]
    },
    {
     "data": {
      "text/plain": [
       "3"
      ]
     },
     "execution_count": 15,
     "metadata": {},
     "output_type": "execute_result"
    }
   ],
   "source": [
    "# 3D 텐서와 고차원 텐서\n",
    "x3 = np.array([[[5, 78, 2, 34, 0],\n",
    "            [6, 79, 3, 35, 1],\n",
    "            [7, 80, 4, 36, 2]],\n",
    "            [[5, 78, 2, 34, 0],\n",
    "            [6, 79, 3, 35, 1],\n",
    "            [7, 80, 4, 36, 2]],\n",
    "            [[5, 78, 2, 34, 0],\n",
    "            [6, 79, 3, 35, 1],\n",
    "            [7, 80, 4, 36, 2]]])\n",
    "x3\n",
    "print(x3)\n",
    "x3.ndim # 축 3개\n",
    "# 첫 번째 축 : X축(행) [5, 78, 2, 34, 0]\n",
    "# 두 번째 축 : Y축(열) [5, 6, 7]\n",
    "# 세 번째 축 : Z축 [5, 5, 5]"
   ]
  },
  {
   "cell_type": "code",
   "execution_count": null,
   "metadata": {},
   "outputs": [],
   "source": []
  },
  {
   "cell_type": "markdown",
   "metadata": {},
   "source": [
    "### 텐서(data)의 3가지 핵심 속성  \n",
    "(1) 축의 개수  \n",
    "- 예를 들어 3D 텐서에는 3개의 축이 있고, \n",
    "- 행렬에는 2개의 축이 있음\n",
    "- 넘파이 라이브러리에서는 ndim 속성에 저장되어 있음  \n",
    "         \n",
    "(2) 크기(shape)\n",
    "- 텐서의 각 축을 따라 얼마나 많은 차원이 있는지를 나타낸 파이썬의 튜플(tuple) 형태  \n",
    "- 예를 들어 앞에 나온 행렬의 크기는 (3, 5)이고 3D 텐서의 크기는 (3, 3, 5)임\n",
    "- 벡터의 크기는 (5,)처럼 1개의 원소로 이루어진 튜플임\n",
    "- 배열 스칼라는 ()처럼 크기가 없음\n",
    "         \n",
    "(3) 데이터 타입(넘파이에서는 dtype에 저장됨)\n",
    "- 텐서에 포함된 데이터의 타입  \n",
    "- 예를 들어 텐서의 데이터 타입은 float32, uint8, float64 등이 될 수 있음\n",
    "- 드물게 char 타입을 사용\n",
    "- 텐서는 사전에 할당되어 연속된 메모리에 저장되어야 하므로\n",
    "  - 넘파이 배열에서는 (그리고 대부분 다른 라이브러리에서도) 가변 길이의 문자열은 지원하지 않음  \n"
   ]
  },
  {
   "cell_type": "code",
   "execution_count": null,
   "metadata": {},
   "outputs": [],
   "source": []
  },
  {
   "cell_type": "code",
   "execution_count": null,
   "metadata": {},
   "outputs": [],
   "source": []
  },
  {
   "cell_type": "markdown",
   "metadata": {},
   "source": [
    "### 텐서의 예 \n",
    "- 우리가 사용할 데이터는 대부분 다음 중 하나에 속할 것임\n",
    "- 2D 텐서 : 벡터 데이터: (samples, features) 크기의 2D 텐서\n",
    "- 3D 텐서 : 시계열 데이터 또는 시퀀스(sequence) 데이터\n",
    "    - (samples, timesteps, features) 크기의 3D 텐서\n",
    "- 4D 텐서 : 이미지: (samples, height, width, channels)  \n",
    "            - 또는 (samples, channels, height, width) 크기의 4D 텐서  \n",
    "- 5D 텐서 : 동영상: (samples, frames, height, width, channels)  \n",
    "            - 또는 (samples, frames, channels, height, width) 크기의 5D 텐서  "
   ]
  },
  {
   "cell_type": "markdown",
   "metadata": {},
   "source": [
    "#### 벡터 데이터 : 대부분의 경우에 해당됨\n",
    "- 데이터셋에서는 하나의 데이터 포인트가 벡터로 인코딩될 수 있으므로 \n",
    "- 배치 데이터는 2D 텐서로 인코딩될 것임(즉 벡터의 배열임)\n",
    "- 첫 번째 축은 샘플 축이고\n",
    "- 두 번째 축은 특성 축(feature axis)임  \n",
    "\n",
    "- 예1: 사람의 나이, 우편 번호, 소득으로 구성된 인구 통계 데이터  \n",
    "    - 각 사람은 3개의 값을 가진 벡터로 구성됨   \n",
    "    - 10만 명이 포함된 전체 데이터셋은 (100000, 3) 크기의 텐서에 저장될 수 있음   \n"
   ]
  },
  {
   "cell_type": "markdown",
   "metadata": {},
   "source": [
    "#### 시계열 데이터 또는 시퀀스 데이터\n",
    "- 데이터에서 시간이 (또는 연속된 순서가) 중요할 때는 \n",
    "- 시간 축을 포함하여 3D 텐서로 저장됨  \n",
    "- (samples, timesteps, features) \n",
    "- 각 샘플은 벡터(2D 텐서)의 시퀀스로 인코딩되므로 \n",
    "- 배치 데이터는 3D 텐서로 인코딩될 것임\n",
    "- 관례적으로 시간 축은 항상 두 번째 축(인덱스가 1인 축)임"
   ]
  },
  {
   "cell_type": "markdown",
   "metadata": {},
   "source": [
    "#### 시계열 데이터 또는 시퀀스 데이터 예\n",
    "\n",
    "예1 : 주식 가격 데이터셋\n",
    "- 1분마다 현재 주식 가격, 지난 1분 동안의 최고 가격과 최소 가격을 저장함\n",
    "- 1분마다 데이터는 3D 벡터로 인코딩되고\n",
    "- 하루 동안의 거래는 (390, 3) 크기의 2D 텐서로 인코딩됨\n",
    "- (하루의 거래 시간은 390분임)\n",
    "- 250일치의 데이터는 (250,390, 3) 크기의 3D 텐서로 저장될 수 있음\n",
    "- 1일치 데이터가 하나의 샘플이 됨\n",
    "\n",
    "예2: 트윗 데이터셋\n",
    "- 각 트윗은 128개의 알파벳으로 구성된 280개의 문자 시퀀스인데\n",
    "- 각 문자가 128개의 크기인 이진 벡터로 인코딩될 수 있음\n",
    "- (해당 문자의 인덱스만 1이고 나머지는 모두 0인 벡터)  \n",
    "- 그러면 각 트윗은 (280, 128) 크기의 2D 텐서로 인코딩될 수 있음\n",
    "- 100만 개의 트윗으로 구성된 데이터셋은 \n",
    "- (1000000, 280, 128) 크기의 텐서에 저장됨\n"
   ]
  },
  {
   "attachments": {
    "image.png": {
     "image/png": "[encoded data removed]"
    }
   },
   "cell_type": "markdown",
   "metadata": {},
   "source": [
    "![image.png](attachment:image.png)"
   ]
  },
  {
   "cell_type": "markdown",
   "metadata": {},
   "source": [
    "#### 이미지 데이터\n",
    "\n",
    "- 이미지는 전형적으로 높이, 너비, 컬러 채널의 3차원으로 이루어짐\n",
    "- (MNIST 숫자처럼) 흑백 이미지는 하나의 컬러 채널만을 가지고 있어 \n",
    "  - 2D 텐서로 저장될 수 있지만   \n",
    "  - 관례상 이미지 텐서는 항상 3D로 저장됨  \n",
    "  - 흑백 이미지의 경우 컬러 채널의 차원 크기는 1임  \n",
    "    - 256×256 크기의 흑백 이미지에 대한 128개의 배치는   \n",
    "    - (128, 256, 256, 1) 크기의 텐서에 저장될 수 있음  \n",
    "  - 컬러 이미지의 경우 컬러 채널의 차원 크기는 3임 (RGB 컬러 채널)    \n",
    "    - 컬러 이미지에 대한 128개의 배치라면   \n",
    "    - (128, 256, 256, 3) 크기의 텐서에 저장될 수 있음  \n"
   ]
  },
  {
   "cell_type": "markdown",
   "metadata": {},
   "source": [
    "#### 이미지 텐서의 크기를 지정하는 방식은 두 가지   \n",
    "- (1) 채널 마지막 (channel-last) 방식 : 텐서플로에서 사용  \n",
    "  - (samples, height, width, color_depth) 순서   \n",
    "  - 컬러 채널의 깊이를 끝에 놓음  \n",
    "- (2) 채널 우선(channel-first) 방식 : 씨아노에서 사용  \n",
    "  - (samples, color_depth, height, width) 순서  \n",
    "  - 컬러 채널의 깊이를 배치 축 바로 뒤에 놓음  \n",
    "  - 씨아노 방식을 사용하면 앞선 예는   \n",
    "  - (128, 1, 256, 256)과 (128, 3,256, 256)이 됨  \n",
    "\n",
    "- 케라스 프레임워크는 두 형식을 모두 지원   "
   ]
  },
  {
   "attachments": {
    "image-2.png": {
     "image/png": "[encoded data removed]"
    }
   },
   "cell_type": "markdown",
   "metadata": {},
   "source": [
    "![image-2.png](attachment:image-2.png)"
   ]
  },
  {
   "cell_type": "markdown",
   "metadata": {},
   "source": [
    "# 현재 많이 사용되는 대표적인 딥러닝 프레임 워크\n",
    "- Theano\n",
    "    - python 기반\n",
    "    - 데이터 탐색, 수치 계산에 유용\n",
    "    - 확장성 뛰어나지 않고, GPU 지원 부족\n",
    "\n",
    "- tensorflow\n",
    "    - theano 대신 하기 위해 google에서 개발\n",
    "    - deep 알고리즘, 강화 학습 등 다양한 알고리즘 지원\n",
    "    - 텐서 보드라는 모델 가상화 도구 제공 : 모델 시각화\n",
    "    \n",
    "- keras\n",
    "    - theano 또는 tensorflow 사용\n",
    "    - 전문가가 아니면 사용하기 어려울 수 있고\n",
    "    - 효율적인 인공신경망을 단순하게 구축하기를 목표로 구축\n",
    "    - 토치와 같이 사용할 경우 순환 신경망 분야에서 인기가 높음\n",
    "    \n",
    "- 토치\n",
    "    - Lua라는 스크립트 언어 기반\n",
    "    - 대기업에서 토치 기반으로 자체 버전 개발할 정도로 효율적인 프레임워크\n",
    "    -  순환 신경망 분야에서 인기가 높음 \n",
    "    \n",
    "- DL4J(DeepLearning4J)\n",
    "    - 자바로 개발된 딥러닝 프레임워크 (자바 지원)\n",
    "    - 하둡과 스파크 기반으로하는 빅데이터 도구와 함께 사용해서\n",
    "    - 효율적인 딥러닝 가능\n",
    "    - 비지니스 환경 중심의 분산 딥러닝 플랫폼으로 널리 사용\n",
    "    \n",
    "    \n",
    "- 딥러닝 개발에 사용되는 프레임 워크\n",
    "    - 특정 딥러닝 분야에 특화 되어 있거나\n",
    "    - 기능상 차이가 있음\n",
    "    - 개발하고자 하는 분야에 맞춰서 프레임워크 선택해서 사용"
   ]
  },
  {
   "cell_type": "code",
   "execution_count": null,
   "metadata": {},
   "outputs": [],
   "source": []
  }
 ],
 "metadata": {
  "kernelspec": {
   "display_name": "Python 3 (ipykernel)",
   "language": "python",
   "name": "python3"
  },
  "language_info": {
   "codemirror_mode": {
    "name": "ipython",
    "version": 3
   },
   "file_extension": ".py",
   "mimetype": "text/x-python",
   "name": "python",
   "nbconvert_exporter": "python",
   "pygments_lexer": "ipython3",
   "version": "3.10.13"
  }
 },
 "nbformat": 4,
 "nbformat_minor": 4
}
