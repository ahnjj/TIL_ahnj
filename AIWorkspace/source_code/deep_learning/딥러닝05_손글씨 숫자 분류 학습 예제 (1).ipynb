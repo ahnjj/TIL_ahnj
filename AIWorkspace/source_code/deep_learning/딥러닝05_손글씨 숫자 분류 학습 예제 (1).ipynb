{
 "cells": [
  {
   "cell_type": "markdown",
   "metadata": {},
   "source": [
    "# 손글씨 숫자 분류 학습"
   ]
  },
  {
   "cell_type": "markdown",
   "metadata": {},
   "source": [
    "케라스 파이썬 라이브러리를 사용하여 손글씨 숫자 분류 학습\n",
    "- 흑백 손글씨 숫자 이미지(28x28 픽셀)를 10개의 범주(0에서 9까지)로 분류\n",
    "- MNIST 데이터셋 사용\n",
    "- 1980년대에 미국 국립표준기술연구소에서 수집한 \n",
    "- 6만 개의 훈련 이미지와 1만 개의 테스트 이미지로 구성\n",
    "- MNIST 데이터셋은 넘파이 배열 형태로 케라스에 이미 포함되어 있음"
   ]
  },
  {
   "cell_type": "markdown",
   "metadata": {},
   "source": [
    "## 손글씨 숫자 분류 작업\n",
    "- (1) 데이터 준비     \n",
    "- (2) 이미지 데이터 전처리  \n",
    "  - 2차원 이미지를 1차원 벡터로 변환    \n",
    "  - 정규화   \n",
    "  - 원-핫 인코딩       \n",
    "- (3) 모델링  \n"
   ]
  },
  {
   "cell_type": "markdown",
   "metadata": {},
   "source": [
    "### (1) 데이터 준비 "
   ]
  },
  {
   "cell_type": "code",
   "execution_count": 1,
   "metadata": {},
   "outputs": [],
   "source": [
    "from IPython.core.interactiveshell import InteractiveShell\n",
    "InteractiveShell.ast_node_interactivity=\"all\""
   ]
  },
  {
   "cell_type": "code",
   "execution_count": 3,
   "metadata": {},
   "outputs": [],
   "source": [
    "import numpy as np\n",
    "import matplotlib.pyplot as plt\n",
    "%matplotlib inline"
   ]
  },
  {
   "cell_type": "code",
   "execution_count": 6,
   "metadata": {},
   "outputs": [],
   "source": [
    "# 데이터 로드 \n",
    "from keras.datasets import mnist\n",
    "\n",
    "(X_train, y_train), (X_test, y_test) = mnist.load_data()"
   ]
  },
  {
   "cell_type": "code",
   "execution_count": 8,
   "metadata": {},
   "outputs": [
    {
     "data": {
      "text/plain": [
       "(60000, 28, 28)"
      ]
     },
     "execution_count": 8,
     "metadata": {},
     "output_type": "execute_result"
    },
    {
     "data": {
      "text/plain": [
       "(60000,)"
      ]
     },
     "execution_count": 8,
     "metadata": {},
     "output_type": "execute_result"
    },
    {
     "data": {
      "text/plain": [
       "(10000, 28, 28)"
      ]
     },
     "execution_count": 8,
     "metadata": {},
     "output_type": "execute_result"
    },
    {
     "data": {
      "text/plain": [
       "(10000,)"
      ]
     },
     "execution_count": 8,
     "metadata": {},
     "output_type": "execute_result"
    }
   ],
   "source": [
    "# 데이터 세트 확인\n",
    "X_train.shape  # 3D 텐서 \n",
    "y_train.shape\n",
    "X_test.shape\n",
    "y_test.shape"
   ]
  },
  {
   "cell_type": "code",
   "execution_count": null,
   "metadata": {},
   "outputs": [],
   "source": [
    "# (60000, 28, 28) :  3D 텐서 \n",
    "# -> 2D 텐서 : (60000, 28*28) == (60000, 784) (샘플수, 피처수)\n",
    "# -> 1차원 : (784, ) (데이터 개수)\n",
    "# input_shape=(28*28, ) == input_shape=(784, )"
   ]
  },
  {
   "cell_type": "code",
   "execution_count": 11,
   "metadata": {},
   "outputs": [],
   "source": [
    "# X_train 확인\n",
    "# X_train[0] # 28*28"
   ]
  },
  {
   "cell_type": "code",
   "execution_count": 14,
   "metadata": {},
   "outputs": [
    {
     "data": {
      "text/plain": [
       "array([5, 0, 4, 1, 9, 2, 1, 3, 1, 4], dtype=uint8)"
      ]
     },
     "execution_count": 14,
     "metadata": {},
     "output_type": "execute_result"
    },
    {
     "data": {
      "text/plain": [
       "9"
      ]
     },
     "execution_count": 14,
     "metadata": {},
     "output_type": "execute_result"
    }
   ],
   "source": [
    "# 레이블 값 확인\n",
    "y_train[:10]\n",
    "y_train[4] # 다섯 번째 값 : 9"
   ]
  },
  {
   "cell_type": "code",
   "execution_count": 23,
   "metadata": {},
   "outputs": [
    {
     "data": {
      "text/plain": [
       "<matplotlib.image.AxesImage at 0x196a5e91d10>"
      ]
     },
     "execution_count": 23,
     "metadata": {},
     "output_type": "execute_result"
    },
    {
     "data": {
      "image/png": "[encoded data removed]",
      "text/plain": [
       "<Figure size 640x480 with 1 Axes>"
      ]
     },
     "metadata": {},
     "output_type": "display_data"
    }
   ],
   "source": [
    "# 다섯 번째 샘플(9)을 시각화해서 확인\n",
    "digit = X_train[9]\n",
    "\n",
    "plt.imshow(digit, cmap=plt.cm.binary) #cmap=plt.cm.binary, cmap='RdBu', 디폴트 : viridis\n",
    "plt.show()"
   ]
  },
  {
   "cell_type": "code",
   "execution_count": 20,
   "metadata": {},
   "outputs": [],
   "source": [
    "# X_train[9] \n",
    "# 화면을 작게하면 4모양이 보임\n",
    "# 28 * 28 픽셀\n",
    "# 0 ~ 255 : 숫자가 클수록 진하게 표시 "
   ]
  },
  {
   "cell_type": "code",
   "execution_count": 27,
   "metadata": {},
   "outputs": [
    {
     "data": {
      "text/plain": [
       "<matplotlib.image.AxesImage at 0x196a72753d0>"
      ]
     },
     "execution_count": 27,
     "metadata": {},
     "output_type": "execute_result"
    },
    {
     "data": {
      "text/plain": [
       "(-0.5, 27.5, 27.5, -0.5)"
      ]
     },
     "execution_count": 27,
     "metadata": {},
     "output_type": "execute_result"
    },
    {
     "data": {
      "text/plain": [
       "<matplotlib.image.AxesImage at 0x196a70f4dd0>"
      ]
     },
     "execution_count": 27,
     "metadata": {},
     "output_type": "execute_result"
    },
    {
     "data": {
      "text/plain": [
       "(-0.5, 27.5, 27.5, -0.5)"
      ]
     },
     "execution_count": 27,
     "metadata": {},
     "output_type": "execute_result"
    },
    {
     "data": {
      "text/plain": [
       "<matplotlib.image.AxesImage at 0x196a714d510>"
      ]
     },
     "execution_count": 27,
     "metadata": {},
     "output_type": "execute_result"
    },
    {
     "data": {
      "text/plain": [
       "(-0.5, 27.5, 27.5, -0.5)"
      ]
     },
     "execution_count": 27,
     "metadata": {},
     "output_type": "execute_result"
    },
    {
     "data": {
      "text/plain": [
       "<matplotlib.image.AxesImage at 0x196a745e810>"
      ]
     },
     "execution_count": 27,
     "metadata": {},
     "output_type": "execute_result"
    },
    {
     "data": {
      "text/plain": [
       "(-0.5, 27.5, 27.5, -0.5)"
      ]
     },
     "execution_count": 27,
     "metadata": {},
     "output_type": "execute_result"
    },
    {
     "data": {
      "text/plain": [
       "<matplotlib.image.AxesImage at 0x196a0627c10>"
      ]
     },
     "execution_count": 27,
     "metadata": {},
     "output_type": "execute_result"
    },
    {
     "data": {
      "text/plain": [
       "(-0.5, 27.5, 27.5, -0.5)"
      ]
     },
     "execution_count": 27,
     "metadata": {},
     "output_type": "execute_result"
    },
    {
     "data": {
      "text/plain": [
       "<matplotlib.image.AxesImage at 0x196a3bdaa10>"
      ]
     },
     "execution_count": 27,
     "metadata": {},
     "output_type": "execute_result"
    },
    {
     "data": {
      "text/plain": [
       "(-0.5, 27.5, 27.5, -0.5)"
      ]
     },
     "execution_count": 27,
     "metadata": {},
     "output_type": "execute_result"
    },
    {
     "data": {
      "text/plain": [
       "<matplotlib.image.AxesImage at 0x196a7084510>"
      ]
     },
     "execution_count": 27,
     "metadata": {},
     "output_type": "execute_result"
    },
    {
     "data": {
      "text/plain": [
       "(-0.5, 27.5, 27.5, -0.5)"
      ]
     },
     "execution_count": 27,
     "metadata": {},
     "output_type": "execute_result"
    },
    {
     "data": {
      "text/plain": [
       "<matplotlib.image.AxesImage at 0x196a74d9e90>"
      ]
     },
     "execution_count": 27,
     "metadata": {},
     "output_type": "execute_result"
    },
    {
     "data": {
      "text/plain": [
       "(-0.5, 27.5, 27.5, -0.5)"
      ]
     },
     "execution_count": 27,
     "metadata": {},
     "output_type": "execute_result"
    },
    {
     "data": {
      "text/plain": [
       "<matplotlib.image.AxesImage at 0x196a5dc9a10>"
      ]
     },
     "execution_count": 27,
     "metadata": {},
     "output_type": "execute_result"
    },
    {
     "data": {
      "text/plain": [
       "(-0.5, 27.5, 27.5, -0.5)"
      ]
     },
     "execution_count": 27,
     "metadata": {},
     "output_type": "execute_result"
    },
    {
     "data": {
      "text/plain": [
       "<matplotlib.image.AxesImage at 0x196a5dc9c10>"
      ]
     },
     "execution_count": 27,
     "metadata": {},
     "output_type": "execute_result"
    },
    {
     "data": {
      "text/plain": [
       "(-0.5, 27.5, 27.5, -0.5)"
      ]
     },
     "execution_count": 27,
     "metadata": {},
     "output_type": "execute_result"
    },
    {
     "data": {
      "image/png": "[encoded data removed]",
      "text/plain": [
       "<Figure size 1000x1000 with 10 Axes>"
      ]
     },
     "metadata": {},
     "output_type": "display_data"
    }
   ],
   "source": [
    "# 처음 10개 손글씨 이미지 확인\n",
    "\n",
    "fig, axs = plt.subplots(1, 10, figsize=(10, 10))\n",
    "for i in  range(10):\n",
    "    axs[i].imshow(X_train[i], cmap=plt.cm.binary) # cmap='PuRd'\n",
    "    axs[i].axis('off')\n",
    "    \n",
    "plt.show()"
   ]
  },
  {
   "cell_type": "code",
   "execution_count": null,
   "metadata": {},
   "outputs": [],
   "source": []
  },
  {
   "cell_type": "markdown",
   "metadata": {},
   "source": [
    "### (2) 이미지 데이터 전처리\n",
    "- 3차원 이미지를 2차원으로 변환\n",
    "  - (60000, 28, 28)  -> (60000, 784) (샘플수, 피처수)  \n",
    "  - 이유 : Dense 층의 입력값으로 사용 시 \n",
    "    - 2차원 형태의 데이터 사용하지 못하고  \n",
    "    - 1차원 형태로 변환해야 함\n",
    "    - 가로,세로 (28, 28) - > (784, ) 또는 (28*28, )\n",
    "    - input_shape(784,)  \n",
    "- 정규화  \n",
    "  - 이미지의 실제 픽셀 값 : 0~255 범위의 값  \n",
    "  - 정규화 해서 0~1사이의 값으로 변환  \n",
    "- 원-핫 인코딩\n",
    "  - 0~9 숫자 레이블이 범주형이므로 원-핫 인코딩 수행  "
   ]
  },
  {
   "attachments": {
    "image-2.png": {
     "image/png": "[encoded data removed]"
    }
   },
   "cell_type": "markdown",
   "metadata": {},
   "source": [
    "![image-2.png](attachment:image-2.png)"
   ]
  },
  {
   "cell_type": "markdown",
   "metadata": {},
   "source": [
    "####  reshape / 정규화 (Normalization)"
   ]
  },
  {
   "cell_type": "code",
   "execution_count": 28,
   "metadata": {},
   "outputs": [
    {
     "data": {
      "text/plain": [
       "(0, 255)"
      ]
     },
     "execution_count": 28,
     "metadata": {},
     "output_type": "execute_result"
    }
   ],
   "source": [
    "# 이미지의 실제 픽셀 값 확인 : 0~255 범위의 값\n",
    "np.min(X_train), np.max(X_train)"
   ]
  },
  {
   "cell_type": "code",
   "execution_count": 30,
   "metadata": {},
   "outputs": [
    {
     "data": {
      "text/plain": [
       "0.5882352941176471"
      ]
     },
     "execution_count": 30,
     "metadata": {},
     "output_type": "execute_result"
    },
    {
     "data": {
      "text/plain": [
       "0.5882352941176471"
      ]
     },
     "execution_count": 30,
     "metadata": {},
     "output_type": "execute_result"
    }
   ],
   "source": [
    "150/255  # 그냥 나누면 실수값 반환\n",
    "150/255.0"
   ]
  },
  {
   "cell_type": "code",
   "execution_count": 31,
   "metadata": {},
   "outputs": [
    {
     "data": {
      "text/plain": [
       "(0.0, 1.0)"
      ]
     },
     "execution_count": 31,
     "metadata": {},
     "output_type": "execute_result"
    }
   ],
   "source": [
    "x = X_train / 255\n",
    "np.min(x), np.max(x)"
   ]
  },
  {
   "cell_type": "code",
   "execution_count": 32,
   "metadata": {},
   "outputs": [
    {
     "data": {
      "text/plain": [
       "(60000, 28, 28)"
      ]
     },
     "execution_count": 32,
     "metadata": {},
     "output_type": "execute_result"
    },
    {
     "data": {
      "text/plain": [
       "(10000, 28, 28)"
      ]
     },
     "execution_count": 32,
     "metadata": {},
     "output_type": "execute_result"
    }
   ],
   "source": [
    "# 변환 전 데이터\n",
    "X_train.shape\n",
    "X_test.shape"
   ]
  },
  {
   "cell_type": "code",
   "execution_count": 35,
   "metadata": {},
   "outputs": [],
   "source": [
    "# 차원 변환 및 정규화\n",
    "# X_train : (60000, 28, 28)  -> (60000, 28*28) == (60000, 784)\n",
    "X_train2 = X_train.reshape(60000, 28*28)\n",
    "X_train2 = X_train2 / 255\n",
    "\n",
    "# X_test : (10000, 28, 28) -> (10000, 784)\n",
    "X_test2 = X_test.reshape(10000, 28*28)\n",
    "X_test2 = X_test2 / 255\n"
   ]
  },
  {
   "cell_type": "code",
   "execution_count": 36,
   "metadata": {},
   "outputs": [
    {
     "data": {
      "text/plain": [
       "(60000, 784)"
      ]
     },
     "execution_count": 36,
     "metadata": {},
     "output_type": "execute_result"
    },
    {
     "data": {
      "text/plain": [
       "(10000, 784)"
      ]
     },
     "execution_count": 36,
     "metadata": {},
     "output_type": "execute_result"
    }
   ],
   "source": [
    "# 변환 후 데이터\n",
    "X_train2.shape\n",
    "X_test2.shape"
   ]
  },
  {
   "cell_type": "code",
   "execution_count": null,
   "metadata": {},
   "outputs": [],
   "source": []
  },
  {
   "cell_type": "markdown",
   "metadata": {},
   "source": [
    "#### 원-핫 인코딩 "
   ]
  },
  {
   "cell_type": "code",
   "execution_count": 38,
   "metadata": {},
   "outputs": [
    {
     "data": {
      "text/plain": [
       "array([5, 0, 4, 1, 9, 2, 1, 3, 1, 4], dtype=uint8)"
      ]
     },
     "execution_count": 38,
     "metadata": {},
     "output_type": "execute_result"
    }
   ],
   "source": [
    "# 원-핫 인코딩 수행 전\n",
    "y_train[:10] # 숫자형 카테고리 값"
   ]
  },
  {
   "cell_type": "code",
   "execution_count": 40,
   "metadata": {},
   "outputs": [],
   "source": [
    "# 0~9 값의 레이블을 원-핫 인코딩 변환 (바이너리화) : 0 또는 1로 변환\n",
    "\n",
    "from  keras.utils import to_categorical\n",
    "\n",
    "y_train2 = to_categorical(y_train)\n",
    "y_test2 = to_categorical(y_test)"
   ]
  },
  {
   "cell_type": "code",
   "execution_count": 41,
   "metadata": {},
   "outputs": [
    {
     "data": {
      "text/plain": [
       "array([[0., 0., 0., 0., 0., 1., 0., 0., 0., 0.],\n",
       "       [1., 0., 0., 0., 0., 0., 0., 0., 0., 0.],\n",
       "       [0., 0., 0., 0., 1., 0., 0., 0., 0., 0.],\n",
       "       [0., 1., 0., 0., 0., 0., 0., 0., 0., 0.],\n",
       "       [0., 0., 0., 0., 0., 0., 0., 0., 0., 1.],\n",
       "       [0., 0., 1., 0., 0., 0., 0., 0., 0., 0.],\n",
       "       [0., 1., 0., 0., 0., 0., 0., 0., 0., 0.],\n",
       "       [0., 0., 0., 1., 0., 0., 0., 0., 0., 0.],\n",
       "       [0., 1., 0., 0., 0., 0., 0., 0., 0., 0.],\n",
       "       [0., 0., 0., 0., 1., 0., 0., 0., 0., 0.]], dtype=float32)"
      ]
     },
     "execution_count": 41,
     "metadata": {},
     "output_type": "execute_result"
    }
   ],
   "source": [
    "y_train2[:10]"
   ]
  },
  {
   "cell_type": "code",
   "execution_count": null,
   "metadata": {},
   "outputs": [],
   "source": []
  },
  {
   "cell_type": "code",
   "execution_count": null,
   "metadata": {},
   "outputs": [],
   "source": [
    "# 원-핫 인코딩 수행 후"
   ]
  },
  {
   "cell_type": "markdown",
   "metadata": {},
   "source": [
    "### (3) 모델링 "
   ]
  },
  {
   "cell_type": "markdown",
   "metadata": {},
   "source": [
    "#### 모델링 순서  \n",
    "(1) 모델 설정   \n",
    "(2) 모델 컴파일   \n",
    "(3) 모델 학습(실행)   \n",
    "(4) 모델 평가(결과 출력)  \n",
    "- 사용 데이터\n",
    "  - 위에서 전처리 작업 끝낸 데이터 사용\n",
    "  - X_train2, y_train2, X_test2, y_test2  "
   ]
  },
  {
   "cell_type": "markdown",
   "metadata": {},
   "source": [
    "#### 모델링 순서  \n",
    "(1) 모델 설정   \n",
    "(2) 모델 컴파일   \n",
    "(3) 모델 학습(실행)   \n",
    "(4) 모델 평가(결과 출력)  \n",
    "- 사용 데이터\n",
    "  - 위에서 전처리 작업 끝낸 데이터 사용\n",
    "  - X_train2, y_train2, X_test2, y_test2  "
   ]
  },
  {
   "cell_type": "code",
   "execution_count": 46,
   "metadata": {
    "collapsed": true
   },
   "outputs": [
    {
     "name": "stdout",
     "output_type": "stream",
     "text": [
      "Epoch 1/100\n",
      "469/469 [==============================] - 2s 4ms/step - loss: 0.2630 - accuracy: 0.9251 - val_loss: 0.1258 - val_accuracy: 0.9632\n",
      "Epoch 2/100\n",
      "469/469 [==============================] - 2s 4ms/step - loss: 0.1066 - accuracy: 0.9680 - val_loss: 0.0924 - val_accuracy: 0.9707\n",
      "Epoch 3/100\n",
      "469/469 [==============================] - 2s 4ms/step - loss: 0.0695 - accuracy: 0.9790 - val_loss: 0.0883 - val_accuracy: 0.9715\n",
      "Epoch 4/100\n",
      "469/469 [==============================] - 2s 4ms/step - loss: 0.0508 - accuracy: 0.9849 - val_loss: 0.0742 - val_accuracy: 0.9763\n",
      "Epoch 5/100\n",
      "469/469 [==============================] - 2s 4ms/step - loss: 0.0382 - accuracy: 0.9886 - val_loss: 0.0661 - val_accuracy: 0.9802\n",
      "Epoch 6/100\n",
      "469/469 [==============================] - 2s 3ms/step - loss: 0.0293 - accuracy: 0.9913 - val_loss: 0.0644 - val_accuracy: 0.9806\n",
      "Epoch 7/100\n",
      "469/469 [==============================] - 2s 3ms/step - loss: 0.0219 - accuracy: 0.9936 - val_loss: 0.0631 - val_accuracy: 0.9816\n",
      "Epoch 8/100\n",
      "469/469 [==============================] - 2s 3ms/step - loss: 0.0171 - accuracy: 0.9954 - val_loss: 0.0602 - val_accuracy: 0.9823\n",
      "Epoch 9/100\n",
      "469/469 [==============================] - 2s 4ms/step - loss: 0.0123 - accuracy: 0.9969 - val_loss: 0.0672 - val_accuracy: 0.9812\n",
      "Epoch 10/100\n",
      "469/469 [==============================] - 2s 4ms/step - loss: 0.0097 - accuracy: 0.9977 - val_loss: 0.0628 - val_accuracy: 0.9834\n",
      "Epoch 11/100\n",
      "469/469 [==============================] - 2s 4ms/step - loss: 0.0068 - accuracy: 0.9986 - val_loss: 0.0659 - val_accuracy: 0.9823\n",
      "Epoch 12/100\n",
      "469/469 [==============================] - 2s 4ms/step - loss: 0.0049 - accuracy: 0.9992 - val_loss: 0.0664 - val_accuracy: 0.9822\n",
      "Epoch 13/100\n",
      "469/469 [==============================] - 2s 4ms/step - loss: 0.0035 - accuracy: 0.9994 - val_loss: 0.0673 - val_accuracy: 0.9823\n",
      "Epoch 14/100\n",
      "469/469 [==============================] - 2s 4ms/step - loss: 0.0025 - accuracy: 0.9996 - val_loss: 0.0652 - val_accuracy: 0.9830\n",
      "Epoch 15/100\n",
      "469/469 [==============================] - 2s 4ms/step - loss: 0.0014 - accuracy: 0.9998 - val_loss: 0.0666 - val_accuracy: 0.9833\n",
      "Epoch 16/100\n",
      "469/469 [==============================] - 2s 4ms/step - loss: 0.0011 - accuracy: 0.9999 - val_loss: 0.0682 - val_accuracy: 0.9829\n",
      "Epoch 17/100\n",
      "469/469 [==============================] - 2s 4ms/step - loss: 7.8857e-04 - accuracy: 0.9999 - val_loss: 0.0658 - val_accuracy: 0.9835\n",
      "Epoch 18/100\n",
      "469/469 [==============================] - 2s 4ms/step - loss: 5.1716e-04 - accuracy: 1.0000 - val_loss: 0.0654 - val_accuracy: 0.9835\n",
      "Epoch 19/100\n",
      "469/469 [==============================] - 2s 4ms/step - loss: 3.9737e-04 - accuracy: 1.0000 - val_loss: 0.0650 - val_accuracy: 0.9839\n",
      "Epoch 20/100\n",
      "469/469 [==============================] - 2s 4ms/step - loss: 3.8354e-04 - accuracy: 1.0000 - val_loss: 0.0671 - val_accuracy: 0.9834\n",
      "Epoch 21/100\n",
      "469/469 [==============================] - 2s 4ms/step - loss: 3.0168e-04 - accuracy: 1.0000 - val_loss: 0.0683 - val_accuracy: 0.9833\n",
      "Epoch 22/100\n",
      "469/469 [==============================] - 2s 4ms/step - loss: 2.7839e-04 - accuracy: 1.0000 - val_loss: 0.0679 - val_accuracy: 0.9835\n",
      "Epoch 23/100\n",
      "469/469 [==============================] - 2s 4ms/step - loss: 2.4648e-04 - accuracy: 1.0000 - val_loss: 0.0682 - val_accuracy: 0.9834\n",
      "Epoch 24/100\n",
      "469/469 [==============================] - 2s 4ms/step - loss: 2.2212e-04 - accuracy: 1.0000 - val_loss: 0.0682 - val_accuracy: 0.9833\n",
      "Epoch 25/100\n",
      "469/469 [==============================] - 2s 4ms/step - loss: 2.0478e-04 - accuracy: 1.0000 - val_loss: 0.0684 - val_accuracy: 0.9829\n",
      "Epoch 26/100\n",
      "469/469 [==============================] - 2s 4ms/step - loss: 1.9166e-04 - accuracy: 1.0000 - val_loss: 0.0691 - val_accuracy: 0.9833\n",
      "Epoch 27/100\n",
      "469/469 [==============================] - 2s 4ms/step - loss: 1.7915e-04 - accuracy: 1.0000 - val_loss: 0.0693 - val_accuracy: 0.9834\n",
      "Epoch 28/100\n",
      "469/469 [==============================] - 2s 4ms/step - loss: 1.6858e-04 - accuracy: 1.0000 - val_loss: 0.0699 - val_accuracy: 0.9835\n",
      "Epoch 29/100\n",
      "469/469 [==============================] - 2s 4ms/step - loss: 1.5942e-04 - accuracy: 1.0000 - val_loss: 0.0703 - val_accuracy: 0.9833\n",
      "Epoch 30/100\n",
      "469/469 [==============================] - 2s 4ms/step - loss: 1.4903e-04 - accuracy: 1.0000 - val_loss: 0.0709 - val_accuracy: 0.9832\n",
      "Epoch 31/100\n",
      "469/469 [==============================] - 2s 4ms/step - loss: 1.4191e-04 - accuracy: 1.0000 - val_loss: 0.0709 - val_accuracy: 0.9832\n",
      "Epoch 32/100\n",
      "469/469 [==============================] - 2s 4ms/step - loss: 1.3595e-04 - accuracy: 1.0000 - val_loss: 0.0711 - val_accuracy: 0.9827\n",
      "Epoch 33/100\n",
      "469/469 [==============================] - 2s 4ms/step - loss: 1.2911e-04 - accuracy: 1.0000 - val_loss: 0.0716 - val_accuracy: 0.9829\n",
      "Epoch 34/100\n",
      "469/469 [==============================] - 2s 4ms/step - loss: 1.2390e-04 - accuracy: 1.0000 - val_loss: 0.0716 - val_accuracy: 0.9830\n",
      "Epoch 35/100\n",
      "469/469 [==============================] - 2s 4ms/step - loss: 1.1832e-04 - accuracy: 1.0000 - val_loss: 0.0720 - val_accuracy: 0.9832\n",
      "Epoch 36/100\n",
      "469/469 [==============================] - 2s 4ms/step - loss: 1.1393e-04 - accuracy: 1.0000 - val_loss: 0.0722 - val_accuracy: 0.9831\n",
      "Epoch 37/100\n",
      "469/469 [==============================] - 2s 4ms/step - loss: 1.0897e-04 - accuracy: 1.0000 - val_loss: 0.0720 - val_accuracy: 0.9831\n",
      "Epoch 38/100\n",
      "469/469 [==============================] - 2s 4ms/step - loss: 1.0456e-04 - accuracy: 1.0000 - val_loss: 0.0727 - val_accuracy: 0.9830\n",
      "Epoch 39/100\n",
      "469/469 [==============================] - 2s 4ms/step - loss: 1.0108e-04 - accuracy: 1.0000 - val_loss: 0.0725 - val_accuracy: 0.9828\n",
      "Epoch 40/100\n",
      "469/469 [==============================] - 2s 4ms/step - loss: 9.7853e-05 - accuracy: 1.0000 - val_loss: 0.0728 - val_accuracy: 0.9832\n",
      "Epoch 41/100\n",
      "469/469 [==============================] - 2s 4ms/step - loss: 9.4085e-05 - accuracy: 1.0000 - val_loss: 0.0732 - val_accuracy: 0.9830\n",
      "Epoch 42/100\n",
      "469/469 [==============================] - 2s 4ms/step - loss: 9.1334e-05 - accuracy: 1.0000 - val_loss: 0.0735 - val_accuracy: 0.9828\n",
      "Epoch 43/100\n",
      "469/469 [==============================] - 2s 4ms/step - loss: 8.8301e-05 - accuracy: 1.0000 - val_loss: 0.0736 - val_accuracy: 0.9832\n",
      "Epoch 44/100\n",
      "469/469 [==============================] - 2s 4ms/step - loss: 8.5341e-05 - accuracy: 1.0000 - val_loss: 0.0736 - val_accuracy: 0.9833\n",
      "Epoch 45/100\n",
      "469/469 [==============================] - 2s 4ms/step - loss: 8.3119e-05 - accuracy: 1.0000 - val_loss: 0.0742 - val_accuracy: 0.9831\n",
      "Epoch 46/100\n",
      "469/469 [==============================] - 2s 4ms/step - loss: 8.0639e-05 - accuracy: 1.0000 - val_loss: 0.0741 - val_accuracy: 0.9833\n",
      "Epoch 47/100\n",
      "469/469 [==============================] - 2s 4ms/step - loss: 7.8334e-05 - accuracy: 1.0000 - val_loss: 0.0741 - val_accuracy: 0.9829\n",
      "Epoch 48/100\n",
      "469/469 [==============================] - 2s 4ms/step - loss: 7.5942e-05 - accuracy: 1.0000 - val_loss: 0.0742 - val_accuracy: 0.9829\n",
      "Epoch 49/100\n",
      "469/469 [==============================] - 2s 4ms/step - loss: 7.4025e-05 - accuracy: 1.0000 - val_loss: 0.0744 - val_accuracy: 0.9831\n",
      "Epoch 50/100\n",
      "469/469 [==============================] - 2s 4ms/step - loss: 7.2250e-05 - accuracy: 1.0000 - val_loss: 0.0746 - val_accuracy: 0.9830\n",
      "Epoch 51/100\n",
      "469/469 [==============================] - 2s 4ms/step - loss: 7.0242e-05 - accuracy: 1.0000 - val_loss: 0.0749 - val_accuracy: 0.9831\n",
      "Epoch 52/100\n",
      "469/469 [==============================] - 2s 4ms/step - loss: 6.8605e-05 - accuracy: 1.0000 - val_loss: 0.0749 - val_accuracy: 0.9830\n",
      "Epoch 53/100\n",
      "469/469 [==============================] - 2s 4ms/step - loss: 6.6800e-05 - accuracy: 1.0000 - val_loss: 0.0749 - val_accuracy: 0.9832\n",
      "Epoch 54/100\n",
      "469/469 [==============================] - 2s 4ms/step - loss: 6.5118e-05 - accuracy: 1.0000 - val_loss: 0.0753 - val_accuracy: 0.9831\n",
      "Epoch 55/100\n",
      "469/469 [==============================] - 2s 4ms/step - loss: 6.3627e-05 - accuracy: 1.0000 - val_loss: 0.0754 - val_accuracy: 0.9831\n",
      "Epoch 56/100\n",
      "469/469 [==============================] - 2s 4ms/step - loss: 6.2203e-05 - accuracy: 1.0000 - val_loss: 0.0757 - val_accuracy: 0.9830\n"
     ]
    },
    {
     "name": "stdout",
     "output_type": "stream",
     "text": [
      "Epoch 57/100\n",
      "469/469 [==============================] - 2s 4ms/step - loss: 6.0894e-05 - accuracy: 1.0000 - val_loss: 0.0759 - val_accuracy: 0.9832\n",
      "Epoch 58/100\n",
      "469/469 [==============================] - 2s 4ms/step - loss: 5.9491e-05 - accuracy: 1.0000 - val_loss: 0.0759 - val_accuracy: 0.9831\n",
      "Epoch 59/100\n",
      "469/469 [==============================] - 2s 4ms/step - loss: 5.8276e-05 - accuracy: 1.0000 - val_loss: 0.0759 - val_accuracy: 0.9829\n",
      "Epoch 60/100\n",
      "469/469 [==============================] - 2s 4ms/step - loss: 5.6871e-05 - accuracy: 1.0000 - val_loss: 0.0763 - val_accuracy: 0.9831\n",
      "Epoch 61/100\n",
      "469/469 [==============================] - 2s 4ms/step - loss: 5.5662e-05 - accuracy: 1.0000 - val_loss: 0.0761 - val_accuracy: 0.9829\n",
      "Epoch 62/100\n",
      "469/469 [==============================] - 2s 4ms/step - loss: 5.4666e-05 - accuracy: 1.0000 - val_loss: 0.0765 - val_accuracy: 0.9833\n",
      "Epoch 63/100\n",
      "469/469 [==============================] - 2s 4ms/step - loss: 5.3515e-05 - accuracy: 1.0000 - val_loss: 0.0764 - val_accuracy: 0.9830\n",
      "Epoch 64/100\n",
      "469/469 [==============================] - 2s 4ms/step - loss: 5.2551e-05 - accuracy: 1.0000 - val_loss: 0.0766 - val_accuracy: 0.9831\n",
      "Epoch 65/100\n",
      "469/469 [==============================] - 2s 4ms/step - loss: 5.1500e-05 - accuracy: 1.0000 - val_loss: 0.0768 - val_accuracy: 0.9831\n",
      "Epoch 66/100\n",
      "469/469 [==============================] - 2s 4ms/step - loss: 5.0551e-05 - accuracy: 1.0000 - val_loss: 0.0768 - val_accuracy: 0.9830\n",
      "Epoch 67/100\n",
      "469/469 [==============================] - 2s 4ms/step - loss: 4.9564e-05 - accuracy: 1.0000 - val_loss: 0.0768 - val_accuracy: 0.9831\n",
      "Epoch 68/100\n",
      "469/469 [==============================] - 2s 4ms/step - loss: 4.8784e-05 - accuracy: 1.0000 - val_loss: 0.0769 - val_accuracy: 0.9831\n",
      "Epoch 69/100\n",
      "469/469 [==============================] - 2s 4ms/step - loss: 4.7900e-05 - accuracy: 1.0000 - val_loss: 0.0772 - val_accuracy: 0.9829\n",
      "Epoch 70/100\n",
      "469/469 [==============================] - 2s 4ms/step - loss: 4.7044e-05 - accuracy: 1.0000 - val_loss: 0.0773 - val_accuracy: 0.9831\n",
      "Epoch 71/100\n",
      "469/469 [==============================] - 2s 4ms/step - loss: 4.6278e-05 - accuracy: 1.0000 - val_loss: 0.0775 - val_accuracy: 0.9829\n",
      "Epoch 72/100\n",
      "469/469 [==============================] - 2s 4ms/step - loss: 4.5518e-05 - accuracy: 1.0000 - val_loss: 0.0775 - val_accuracy: 0.9831\n",
      "Epoch 73/100\n",
      "469/469 [==============================] - 2s 4ms/step - loss: 4.4661e-05 - accuracy: 1.0000 - val_loss: 0.0775 - val_accuracy: 0.9829\n",
      "Epoch 74/100\n",
      "469/469 [==============================] - 2s 4ms/step - loss: 4.3941e-05 - accuracy: 1.0000 - val_loss: 0.0777 - val_accuracy: 0.9832\n",
      "Epoch 75/100\n",
      "469/469 [==============================] - 2s 4ms/step - loss: 4.3180e-05 - accuracy: 1.0000 - val_loss: 0.0779 - val_accuracy: 0.9830\n",
      "Epoch 76/100\n",
      "469/469 [==============================] - 2s 4ms/step - loss: 4.2416e-05 - accuracy: 1.0000 - val_loss: 0.0777 - val_accuracy: 0.9829\n",
      "Epoch 77/100\n",
      "469/469 [==============================] - 2s 4ms/step - loss: 4.1823e-05 - accuracy: 1.0000 - val_loss: 0.0779 - val_accuracy: 0.9831\n",
      "Epoch 78/100\n",
      "469/469 [==============================] - 2s 4ms/step - loss: 4.1175e-05 - accuracy: 1.0000 - val_loss: 0.0782 - val_accuracy: 0.9829\n",
      "Epoch 79/100\n",
      "469/469 [==============================] - 2s 4ms/step - loss: 4.0580e-05 - accuracy: 1.0000 - val_loss: 0.0782 - val_accuracy: 0.9828\n",
      "Epoch 80/100\n",
      "469/469 [==============================] - 2s 4ms/step - loss: 3.9999e-05 - accuracy: 1.0000 - val_loss: 0.0782 - val_accuracy: 0.9830\n",
      "Epoch 81/100\n",
      "469/469 [==============================] - 2s 4ms/step - loss: 3.9434e-05 - accuracy: 1.0000 - val_loss: 0.0784 - val_accuracy: 0.9832\n",
      "Epoch 82/100\n",
      "469/469 [==============================] - 2s 4ms/step - loss: 3.8770e-05 - accuracy: 1.0000 - val_loss: 0.0784 - val_accuracy: 0.9831\n",
      "Epoch 83/100\n",
      "469/469 [==============================] - 2s 4ms/step - loss: 3.8243e-05 - accuracy: 1.0000 - val_loss: 0.0785 - val_accuracy: 0.9831\n",
      "Epoch 84/100\n",
      "469/469 [==============================] - 2s 4ms/step - loss: 3.7723e-05 - accuracy: 1.0000 - val_loss: 0.0786 - val_accuracy: 0.9829\n",
      "Epoch 85/100\n",
      "469/469 [==============================] - 2s 4ms/step - loss: 3.7196e-05 - accuracy: 1.0000 - val_loss: 0.0787 - val_accuracy: 0.9831\n",
      "Epoch 86/100\n",
      "469/469 [==============================] - 2s 4ms/step - loss: 3.6687e-05 - accuracy: 1.0000 - val_loss: 0.0789 - val_accuracy: 0.9831\n",
      "Epoch 87/100\n",
      "469/469 [==============================] - 2s 4ms/step - loss: 3.6153e-05 - accuracy: 1.0000 - val_loss: 0.0790 - val_accuracy: 0.9831\n",
      "Epoch 88/100\n",
      "469/469 [==============================] - 2s 4ms/step - loss: 3.5674e-05 - accuracy: 1.0000 - val_loss: 0.0791 - val_accuracy: 0.9830\n",
      "Epoch 89/100\n",
      "469/469 [==============================] - 2s 4ms/step - loss: 3.5172e-05 - accuracy: 1.0000 - val_loss: 0.0792 - val_accuracy: 0.9830\n",
      "Epoch 90/100\n",
      "469/469 [==============================] - 2s 4ms/step - loss: 3.4739e-05 - accuracy: 1.0000 - val_loss: 0.0791 - val_accuracy: 0.9829\n",
      "Epoch 91/100\n",
      "469/469 [==============================] - 2s 4ms/step - loss: 3.4269e-05 - accuracy: 1.0000 - val_loss: 0.0792 - val_accuracy: 0.9829\n",
      "Epoch 92/100\n",
      "469/469 [==============================] - 2s 4ms/step - loss: 3.3790e-05 - accuracy: 1.0000 - val_loss: 0.0794 - val_accuracy: 0.9829\n",
      "Epoch 93/100\n",
      "469/469 [==============================] - 2s 4ms/step - loss: 3.3331e-05 - accuracy: 1.0000 - val_loss: 0.0794 - val_accuracy: 0.9829\n",
      "Epoch 94/100\n",
      "469/469 [==============================] - 2s 4ms/step - loss: 3.2927e-05 - accuracy: 1.0000 - val_loss: 0.0796 - val_accuracy: 0.9831\n",
      "Epoch 95/100\n",
      "469/469 [==============================] - 2s 4ms/step - loss: 3.2478e-05 - accuracy: 1.0000 - val_loss: 0.0795 - val_accuracy: 0.9829\n",
      "Epoch 96/100\n",
      "469/469 [==============================] - 2s 4ms/step - loss: 3.2148e-05 - accuracy: 1.0000 - val_loss: 0.0796 - val_accuracy: 0.9830\n",
      "Epoch 97/100\n",
      "469/469 [==============================] - 2s 4ms/step - loss: 3.1696e-05 - accuracy: 1.0000 - val_loss: 0.0797 - val_accuracy: 0.9828\n",
      "Epoch 98/100\n",
      "469/469 [==============================] - 2s 4ms/step - loss: 3.1379e-05 - accuracy: 1.0000 - val_loss: 0.0798 - val_accuracy: 0.9830\n",
      "Epoch 99/100\n",
      "469/469 [==============================] - 2s 4ms/step - loss: 3.1011e-05 - accuracy: 1.0000 - val_loss: 0.0799 - val_accuracy: 0.9829\n",
      "Epoch 100/100\n",
      "469/469 [==============================] - 2s 4ms/step - loss: 3.0625e-05 - accuracy: 1.0000 - val_loss: 0.0799 - val_accuracy: 0.9831\n",
      "313/313 [==============================] - 0s 1ms/step - loss: 0.0799 - accuracy: 0.9831\n",
      "정확도: 0.9831, 손실: 0.0799\n"
     ]
    }
   ],
   "source": [
    "from tensorflow.keras.models import Sequential\n",
    "from tensorflow.keras.layers import Dense\n",
    "import tensorflow as tf\n",
    "\n",
    "tf.random.set_seed(3)\n",
    "\n",
    "# (1) 모델 설정\n",
    "# 2개의 층으로 구성된 모델 \n",
    "# 첫 번째 층 : 입력 : 28*28=784, 출력 : 512\n",
    "# 두 번째 층 : (입력 512), 출력 : 10\n",
    "\n",
    "# 활성화 함수 : activation= 'softmax' : 다중 분류 \n",
    "# 출력층 출력값 수 : 10\n",
    "model = Sequential()\n",
    "model.add(Dense(512, input_shape=(784,), activation='relu'))\n",
    "model.add(Dense(10, activation='softmax'))\n",
    "\n",
    "# (2) 컴파일\n",
    "# 다중분류 : loss='categorical_crossentropy'\n",
    "# 최적화 : optimizer='rmsprop'\n",
    "# 평가방법 :  metrics='accuracy'\n",
    "model.compile(loss='categorical_crossentropy', \n",
    "              optimizer='rmsprop', metrics=['accuracy'])\n",
    "\n",
    "# (3) 모델 학습 (실행)\n",
    "# epochs=100\n",
    "# batch_size=128\n",
    "epochs = 100\n",
    "batch_size = 128\n",
    "# model.fit(X_train2, y_train2, epochs=epochs, batch_size=batch_size)\n",
    "history = model.fit(X_train2, y_train2, \n",
    "                    epochs=epochs, batch_size=batch_size,\n",
    "                    validation_data=(X_test2, y_test2))\n",
    "# 학습 과정 결과를 history 객체에 저장\n",
    "# validation_data 지정해야 함\n",
    "\n",
    "# (4) 모델 평가 (결과 출력)\n",
    "# acc, loss\n",
    "loss, accuracy = model.evaluate(X_test2, y_test2)\n",
    "\n",
    "print(f'정확도: {accuracy:.4f}, 손실: {loss:.4f}')\n"
   ]
  },
  {
   "cell_type": "markdown",
   "metadata": {},
   "source": [
    "### 시각화"
   ]
  },
  {
   "cell_type": "code",
   "execution_count": 47,
   "metadata": {},
   "outputs": [
    {
     "data": {
      "text/plain": [
       "<Figure size 1800x600 with 0 Axes>"
      ]
     },
     "execution_count": 47,
     "metadata": {},
     "output_type": "execute_result"
    },
    {
     "data": {
      "text/plain": [
       "<Axes: >"
      ]
     },
     "execution_count": 47,
     "metadata": {},
     "output_type": "execute_result"
    },
    {
     "data": {
      "text/plain": [
       "[<matplotlib.lines.Line2D at 0x196dd850bd0>]"
      ]
     },
     "execution_count": 47,
     "metadata": {},
     "output_type": "execute_result"
    },
    {
     "data": {
      "text/plain": [
       "[<matplotlib.lines.Line2D at 0x196dd853310>]"
      ]
     },
     "execution_count": 47,
     "metadata": {},
     "output_type": "execute_result"
    },
    {
     "data": {
      "text/plain": [
       "Text(0.5, 1.0, 'accuracy')"
      ]
     },
     "execution_count": 47,
     "metadata": {},
     "output_type": "execute_result"
    },
    {
     "data": {
      "text/plain": [
       "<matplotlib.legend.Legend at 0x196d8f5bbd0>"
      ]
     },
     "execution_count": 47,
     "metadata": {},
     "output_type": "execute_result"
    },
    {
     "data": {
      "text/plain": [
       "<Axes: >"
      ]
     },
     "execution_count": 47,
     "metadata": {},
     "output_type": "execute_result"
    },
    {
     "data": {
      "text/plain": [
       "[<matplotlib.lines.Line2D at 0x196ef12b250>]"
      ]
     },
     "execution_count": 47,
     "metadata": {},
     "output_type": "execute_result"
    },
    {
     "data": {
      "text/plain": [
       "[<matplotlib.lines.Line2D at 0x196ef135e10>]"
      ]
     },
     "execution_count": 47,
     "metadata": {},
     "output_type": "execute_result"
    },
    {
     "data": {
      "text/plain": [
       "Text(0.5, 1.0, 'loss')"
      ]
     },
     "execution_count": 47,
     "metadata": {},
     "output_type": "execute_result"
    },
    {
     "data": {
      "text/plain": [
       "<matplotlib.legend.Legend at 0x196dd81f710>"
      ]
     },
     "execution_count": 47,
     "metadata": {},
     "output_type": "execute_result"
    },
    {
     "data": {
      "image/png": "[encoded data removed]",
      "text/plain": [
       "<Figure size 1800x600 with 2 Axes>"
      ]
     },
     "metadata": {},
     "output_type": "display_data"
    }
   ],
   "source": [
    "# accuracy와 loss 확인\n",
    "# accuracy / val_accuracy\n",
    "# loss / val_loss\n",
    "\n",
    "# 필요한 값\n",
    "# history 객체의 history['accuracy'] \n",
    "# history 객체의 history['val_accuracy']\n",
    "# history 객체의 history['loss']\n",
    "# history 객체의 history['val_loss']\n",
    "\n",
    "plt. figure(figsize=(18, 6))\n",
    "\n",
    "# 정확도\n",
    "plt.subplot(1, 2, 1)\n",
    "plt.plot(history.history['accuracy'], label='accuracy')\n",
    "plt.plot(history.history['val_accuracy'], label='val_accuracy')\n",
    "plt.title('accuracy')\n",
    "plt.legend()\n",
    "\n",
    "# 손실률\n",
    "plt.subplot(1, 2, 2)\n",
    "plt.plot(history.history['loss'], label='loss')\n",
    "plt.plot(history.history['val_loss'], label='val_loss')\n",
    "plt.title('loss')\n",
    "plt.legend()\n",
    "\n",
    "plt.show()"
   ]
  },
  {
   "cell_type": "code",
   "execution_count": null,
   "metadata": {},
   "outputs": [],
   "source": []
  },
  {
   "cell_type": "markdown",
   "metadata": {},
   "source": [
    "### 모델 저장 "
   ]
  },
  {
   "cell_type": "code",
   "execution_count": 54,
   "metadata": {},
   "outputs": [],
   "source": [
    "model.save('./data/img_model.h5') # legacy"
   ]
  },
  {
   "cell_type": "code",
   "execution_count": 53,
   "metadata": {},
   "outputs": [],
   "source": [
    "model.save('./data/img_model.keras')"
   ]
  },
  {
   "cell_type": "code",
   "execution_count": null,
   "metadata": {},
   "outputs": [],
   "source": []
  },
  {
   "cell_type": "markdown",
   "metadata": {},
   "source": [
    "### 모델 불러오기 "
   ]
  },
  {
   "cell_type": "code",
   "execution_count": 56,
   "metadata": {},
   "outputs": [],
   "source": [
    "from tensorflow.keras.models import load_model\n",
    "\n",
    "loaded_model = load_model('./data/img_model.h5')"
   ]
  },
  {
   "cell_type": "code",
   "execution_count": 57,
   "metadata": {},
   "outputs": [],
   "source": [
    "loaded_model = load_model('./data/img_model.keras')"
   ]
  },
  {
   "cell_type": "code",
   "execution_count": null,
   "metadata": {},
   "outputs": [],
   "source": []
  },
  {
   "cell_type": "markdown",
   "metadata": {},
   "source": [
    "### loaded_model 모델로 예측"
   ]
  },
  {
   "cell_type": "code",
   "execution_count": null,
   "metadata": {},
   "outputs": [],
   "source": [
    "# predict() 사용해서 예측\n",
    "# 예측 확률 반환 \n",
    "# 예 : [0.1111111], 0.55777. 0.3333333,....]"
   ]
  },
  {
   "cell_type": "code",
   "execution_count": 66,
   "metadata": {},
   "outputs": [
    {
     "data": {
      "text/plain": [
       "array([7, 2, 1, 0, 4, 1, 4, 9, 5, 9], dtype=int64)"
      ]
     },
     "execution_count": 66,
     "metadata": {},
     "output_type": "execute_result"
    },
    {
     "data": {
      "text/plain": [
       "array([7, 2, 1, 0, 4, 1, 4, 9, 5, 9], dtype=uint8)"
      ]
     },
     "execution_count": 66,
     "metadata": {},
     "output_type": "execute_result"
    }
   ],
   "source": [
    "y_pre_prob = loaded_model.predict(X_test2, verbose=0)\n",
    "y_pred = y_pre_prob.argmax(axis=1) # 열방향(가로축) 값들 중에서 최대값으로 예측\n",
    "y_pred[:10]\n",
    "y_test[:10]"
   ]
  },
  {
   "cell_type": "code",
   "execution_count": 62,
   "metadata": {},
   "outputs": [
    {
     "data": {
      "text/plain": [
       "4"
      ]
     },
     "execution_count": 62,
     "metadata": {},
     "output_type": "execute_result"
    }
   ],
   "source": [
    "y_train[9]"
   ]
  },
  {
   "cell_type": "code",
   "execution_count": null,
   "metadata": {},
   "outputs": [],
   "source": []
  },
  {
   "cell_type": "code",
   "execution_count": null,
   "metadata": {},
   "outputs": [],
   "source": [
    "##################################################################"
   ]
  },
  {
   "cell_type": "code",
   "execution_count": 72,
   "metadata": {},
   "outputs": [
    {
     "data": {
      "text/plain": [
       "array([4], dtype=int64)"
      ]
     },
     "execution_count": 72,
     "metadata": {},
     "output_type": "execute_result"
    },
    {
     "name": "stdout",
     "output_type": "stream",
     "text": [
      "[4]\n"
     ]
    }
   ],
   "source": [
    "# X_train[9] 값으로 예측 \n",
    "# X_train[9] 값을 적절한 형태로 변환하여 \n",
    "# predict() 함수에 넣어서 4로 예측하는지 확인\n",
    "\n",
    "# 학습할 때 0 ~ 1 사이의 값으로 학습\n",
    "\n",
    "test_var = X_train[9].reshape(1, 28*28) / 255\n",
    "# test_var = test_var / 255\n",
    "y_pre_prob = loaded_model.predict(test_var, verbose=0)\n",
    "y_pred = y_pre_prob.argmax(axis=1)\n",
    "y_pred\n",
    "print(y_pred)"
   ]
  },
  {
   "cell_type": "code",
   "execution_count": 73,
   "metadata": {},
   "outputs": [
    {
     "data": {
      "text/plain": [
       "(10000, 784)"
      ]
     },
     "execution_count": 73,
     "metadata": {},
     "output_type": "execute_result"
    }
   ],
   "source": [
    "X_test2.shape"
   ]
  },
  {
   "cell_type": "code",
   "execution_count": null,
   "metadata": {},
   "outputs": [],
   "source": []
  },
  {
   "cell_type": "code",
   "execution_count": null,
   "metadata": {},
   "outputs": [],
   "source": []
  },
  {
   "cell_type": "code",
   "execution_count": 78,
   "metadata": {},
   "outputs": [
    {
     "data": {
      "text/plain": [
       "<matplotlib.image.AxesImage at 0x196ddbd2290>"
      ]
     },
     "execution_count": 78,
     "metadata": {},
     "output_type": "execute_result"
    },
    {
     "data": {
      "image/png": "[encoded data removed]",
      "text/plain": [
       "<Figure size 640x480 with 1 Axes>"
      ]
     },
     "metadata": {},
     "output_type": "display_data"
    }
   ],
   "source": [
    "# X_train2[9] 값을 적절한 형태로 변환하여 \n",
    "# 그래프로 출력 : imshow() 사용\n",
    "\n",
    "digit = X_train2[9].reshape(28, 28)\n",
    "\n",
    "plt.imshow(digit) #cmap=plt.cm.binary, cmap='RdBu', 디폴트 : viridis\n",
    "plt.show()"
   ]
  },
  {
   "cell_type": "code",
   "execution_count": 74,
   "metadata": {},
   "outputs": [
    {
     "data": {
      "text/plain": [
       "(28, 28)"
      ]
     },
     "execution_count": 74,
     "metadata": {},
     "output_type": "execute_result"
    }
   ],
   "source": [
    "digit.shape"
   ]
  },
  {
   "cell_type": "code",
   "execution_count": 76,
   "metadata": {},
   "outputs": [
    {
     "data": {
      "text/plain": [
       "(784,)"
      ]
     },
     "execution_count": 76,
     "metadata": {},
     "output_type": "execute_result"
    }
   ],
   "source": [
    "X_train2[9].shape"
   ]
  },
  {
   "cell_type": "code",
   "execution_count": 79,
   "metadata": {},
   "outputs": [
    {
     "data": {
      "text/plain": [
       "(28, 28)"
      ]
     },
     "execution_count": 79,
     "metadata": {},
     "output_type": "execute_result"
    }
   ],
   "source": [
    "X_train[9].shape"
   ]
  }
 ],
 "metadata": {
  "kernelspec": {
   "display_name": "DEEP_ENV",
   "language": "python",
   "name": "deepenv"
  },
  "language_info": {
   "codemirror_mode": {
    "name": "ipython",
    "version": 3
   },
   "file_extension": ".py",
   "mimetype": "text/x-python",
   "name": "python",
   "nbconvert_exporter": "python",
   "pygments_lexer": "ipython3",
   "version": "3.10.13"
  }
 },
 "nbformat": 4,
 "nbformat_minor": 4
}
