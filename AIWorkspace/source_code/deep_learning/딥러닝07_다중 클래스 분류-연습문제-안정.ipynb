{
 "cells": [
  {
   "cell_type": "markdown",
   "id": "b3f5b78a",
   "metadata": {},
   "source": [
    "# 다중 클래스 분류 연습문제"
   ]
  },
  {
   "cell_type": "markdown",
   "id": "b45f0c74",
   "metadata": {},
   "source": [
    "### 다중 클래스 분류 작업\n",
    "- (1) 데이터 준비 : iris 데이터\n",
    "- (2) 모델링\n",
    "- (3) 모델 저장 / 불러오기\n",
    "- (4) 시각화"
   ]
  },
  {
   "cell_type": "code",
   "execution_count": 1,
   "id": "6548d92c",
   "metadata": {},
   "outputs": [],
   "source": [
    "from IPython.core.interactiveshell import InteractiveShell\n",
    "InteractiveShell.ast_node_interactivity=\"all\""
   ]
  },
  {
   "cell_type": "code",
   "execution_count": 2,
   "id": "83983286",
   "metadata": {},
   "outputs": [],
   "source": [
    "import numpy as np"
   ]
  },
  {
   "cell_type": "code",
   "execution_count": 3,
   "id": "1df65da9",
   "metadata": {},
   "outputs": [],
   "source": [
    "import matplotlib.pyplot as plt\n",
    "%matplotlib inline"
   ]
  },
  {
   "cell_type": "markdown",
   "id": "a2c2f62e",
   "metadata": {},
   "source": [
    "### 데이터 준비"
   ]
  },
  {
   "cell_type": "code",
   "execution_count": 4,
   "id": "485d5dca",
   "metadata": {},
   "outputs": [],
   "source": [
    "# data load\n",
    "from sklearn.datasets import load_iris\n",
    "from sklearn.model_selection import train_test_split\n",
    "\n",
    "# 데이터 세트 로드\n",
    "iris_data = load_iris()\n",
    "\n",
    "# 학습/테스트 데이터 세트로 분리\n",
    "X_train, X_test, y_train, y_test = train_test_split(iris_data.data, \n",
    "                                                    iris_data.target, \n",
    "                                                    test_size=0.2, \n",
    "                                                    random_state=11)"
   ]
  },
  {
   "cell_type": "code",
   "execution_count": 5,
   "id": "56392c8b",
   "metadata": {},
   "outputs": [
    {
     "data": {
      "text/plain": [
       "['sepal length (cm)',\n",
       " 'sepal width (cm)',\n",
       " 'petal length (cm)',\n",
       " 'petal width (cm)']"
      ]
     },
     "execution_count": 5,
     "metadata": {},
     "output_type": "execute_result"
    }
   ],
   "source": [
    "iris_data.feature_names\n",
    "# features : 4개"
   ]
  },
  {
   "cell_type": "code",
   "execution_count": 6,
   "id": "699b56c9",
   "metadata": {},
   "outputs": [
    {
     "data": {
      "text/plain": [
       "(120, 4)"
      ]
     },
     "execution_count": 6,
     "metadata": {},
     "output_type": "execute_result"
    },
    {
     "data": {
      "text/plain": [
       "(120,)"
      ]
     },
     "execution_count": 6,
     "metadata": {},
     "output_type": "execute_result"
    },
    {
     "data": {
      "text/plain": [
       "(30, 4)"
      ]
     },
     "execution_count": 6,
     "metadata": {},
     "output_type": "execute_result"
    },
    {
     "data": {
      "text/plain": [
       "(30,)"
      ]
     },
     "execution_count": 6,
     "metadata": {},
     "output_type": "execute_result"
    }
   ],
   "source": [
    "# 데이터 세트 확인 \n",
    "X_train.shape # 2차\n",
    "y_train.shape\n",
    "X_test.shape\n",
    "y_test.shape"
   ]
  },
  {
   "cell_type": "code",
   "execution_count": 7,
   "id": "770e9573",
   "metadata": {},
   "outputs": [
    {
     "data": {
      "text/plain": [
       "array([0, 2, 2, 0, 0, 2, 2, 1, 0, 1, 1, 2, 0, 1, 2, 1, 1, 0, 2, 0, 2, 2,\n",
       "       1, 2, 1, 0, 0, 1, 0, 0, 2, 2, 2, 0, 0, 0, 1, 0, 1, 2, 2, 1, 1, 2,\n",
       "       2, 0, 1, 1, 2, 2, 2, 0, 2, 0, 0, 0, 0, 2, 0, 0, 0, 1, 0, 1, 1, 2,\n",
       "       1, 0, 0, 0, 1, 1, 1, 2, 1, 0, 1, 2, 0, 2, 2, 1, 0, 0, 0, 2, 1, 0,\n",
       "       2, 1, 2, 0, 0, 1, 1, 2, 1, 2, 2, 1, 1, 2, 2, 0, 1, 2, 0, 2, 2, 0,\n",
       "       1, 2, 0, 1, 1, 1, 0, 1, 1, 1])"
      ]
     },
     "execution_count": 7,
     "metadata": {},
     "output_type": "execute_result"
    }
   ],
   "source": [
    "y_train\n",
    "# 레이블 : 0, 1, 2"
   ]
  },
  {
   "cell_type": "code",
   "execution_count": 8,
   "id": "d84db98f",
   "metadata": {},
   "outputs": [
    {
     "data": {
      "text/plain": [
       "(120, 4)"
      ]
     },
     "execution_count": 8,
     "metadata": {},
     "output_type": "execute_result"
    },
    {
     "data": {
      "text/plain": [
       "(120, 3)"
      ]
     },
     "execution_count": 8,
     "metadata": {},
     "output_type": "execute_result"
    },
    {
     "data": {
      "text/plain": [
       "(30, 4)"
      ]
     },
     "execution_count": 8,
     "metadata": {},
     "output_type": "execute_result"
    },
    {
     "data": {
      "text/plain": [
       "(30, 3)"
      ]
     },
     "execution_count": 8,
     "metadata": {},
     "output_type": "execute_result"
    }
   ],
   "source": [
    "# 라벨 : 원-핫 인코딩\n",
    "# 숫자 기반(범주형) -> binary (원핫 인코딩)\n",
    "from keras.utils import to_categorical\n",
    "\n",
    "y_train2 = to_categorical(y_train)\n",
    "y_test2 = to_categorical(y_test)\n",
    "\n",
    "\n",
    "# 데이터 세트 확인 \n",
    "X_train.shape # 2차\n",
    "y_train2.shape\n",
    "X_test.shape\n",
    "y_test2.shape"
   ]
  },
  {
   "cell_type": "markdown",
   "id": "9d724036",
   "metadata": {},
   "source": [
    "### 모델링"
   ]
  },
  {
   "cell_type": "code",
   "execution_count": 10,
   "id": "e0261b31",
   "metadata": {
    "scrolled": true
   },
   "outputs": [
    {
     "name": "stdout",
     "output_type": "stream",
     "text": [
      "Epoch 1/10\n",
      "1/1 [==============================] - 0s 343ms/step - loss: 1.2918 - accuracy: 0.3333 - val_loss: 1.1744 - val_accuracy: 0.3667\n",
      "Epoch 2/10\n",
      "1/1 [==============================] - 0s 16ms/step - loss: 1.2059 - accuracy: 0.3250 - val_loss: 1.1278 - val_accuracy: 0.4333\n",
      "Epoch 3/10\n",
      "1/1 [==============================] - 0s 17ms/step - loss: 1.1495 - accuracy: 0.3667 - val_loss: 1.0878 - val_accuracy: 0.3667\n",
      "Epoch 4/10\n",
      "1/1 [==============================] - 0s 17ms/step - loss: 1.1042 - accuracy: 0.3250 - val_loss: 1.0547 - val_accuracy: 0.3667\n",
      "Epoch 5/10\n",
      "1/1 [==============================] - 0s 17ms/step - loss: 1.0658 - accuracy: 0.3250 - val_loss: 1.0251 - val_accuracy: 0.3667\n",
      "Epoch 6/10\n",
      "1/1 [==============================] - 0s 16ms/step - loss: 1.0322 - accuracy: 0.3250 - val_loss: 0.9989 - val_accuracy: 0.3667\n",
      "Epoch 7/10\n",
      "1/1 [==============================] - 0s 16ms/step - loss: 1.0025 - accuracy: 0.3250 - val_loss: 0.9752 - val_accuracy: 0.4333\n",
      "Epoch 8/10\n",
      "1/1 [==============================] - 0s 16ms/step - loss: 0.9757 - accuracy: 0.3833 - val_loss: 0.9533 - val_accuracy: 0.6333\n",
      "Epoch 9/10\n",
      "1/1 [==============================] - 0s 16ms/step - loss: 0.9512 - accuracy: 0.5917 - val_loss: 0.9330 - val_accuracy: 0.6333\n",
      "Epoch 10/10\n",
      "1/1 [==============================] - 0s 17ms/step - loss: 0.9284 - accuracy: 0.6833 - val_loss: 0.9141 - val_accuracy: 0.6333\n",
      "1/1 [==============================] - 0s 13ms/step - loss: 0.9141 - accuracy: 0.6333\n",
      "정확도 : 0.6333, 손실 : 0.9141\n"
     ]
    }
   ],
   "source": [
    "from tensorflow.keras.models import Sequential\n",
    "from tensorflow.keras.layers import Dense\n",
    "import tensorflow as tf\n",
    "\n",
    "tf.random.set_seed(3)\n",
    "\n",
    "# (1) 모델 설정\n",
    "model = Sequential()\n",
    "model.add(Dense(units= 120, input_shape=(4,), activation='relu'))\n",
    "model.add(Dense(units= 3 , activation='softmax'))\n",
    "\n",
    "# (2) compile\n",
    "model.compile(loss='categorical_crossentropy',\n",
    "             optimizer='rmsprop', metrics=['accuracy'])\n",
    "\n",
    "# (3) 모델 학습\n",
    "epochs = 10\n",
    "batch_size = 256\n",
    "\n",
    "history = model.fit(x=X_train, y=y_train2,\n",
    "                    epochs=epochs, batch_size=batch_size,\n",
    "                   validation_data=(X_test, y_test2))\n",
    "\n",
    "# (4) 모델 평가 (결과 출력)\n",
    "loss, accuracy =  model.evaluate(X_test, y_test2)\n",
    "print(f'정확도 : {accuracy:.4f}, 손실 : {loss:.4f}')"
   ]
  },
  {
   "cell_type": "code",
   "execution_count": 11,
   "id": "f40972da",
   "metadata": {},
   "outputs": [
    {
     "name": "stdout",
     "output_type": "stream",
     "text": [
      "Model: \"sequential\"\n",
      "_________________________________________________________________\n",
      " Layer (type)                Output Shape              Param #   \n",
      "=================================================================\n",
      " dense (Dense)               (None, 120)               600       \n",
      "                                                                 \n",
      " dense_1 (Dense)             (None, 3)                 363       \n",
      "                                                                 \n",
      "=================================================================\n",
      "Total params: 963 (3.76 KB)\n",
      "Trainable params: 963 (3.76 KB)\n",
      "Non-trainable params: 0 (0.00 Byte)\n",
      "_________________________________________________________________\n"
     ]
    }
   ],
   "source": [
    "model.summary()"
   ]
  },
  {
   "cell_type": "code",
   "execution_count": null,
   "id": "d7dae17c",
   "metadata": {},
   "outputs": [],
   "source": [
    "# (3) 모델 저장 / 불러오기\n",
    "\n",
    "model.save('../../data/img_07_model.keras')\n",
    "\n"
   ]
  },
  {
   "cell_type": "code",
   "execution_count": null,
   "id": "d4a3f072",
   "metadata": {},
   "outputs": [],
   "source": [
    "# 모델 불러오기\n",
    "from tensorflow.keras.models import load_model\n",
    "\n",
    "loaded_model = load_model('../../data/img_07_model.keras')"
   ]
  },
  {
   "cell_type": "code",
   "execution_count": null,
   "id": "ebc0d334",
   "metadata": {},
   "outputs": [],
   "source": [
    "y_pre_prob = loaded_model.predict(X_test, verbose=0)\n",
    "y_pred = y_pre_prob.argmax(axis=1)\n",
    "y_pred[:10]\n",
    "y_test[:10]"
   ]
  },
  {
   "cell_type": "code",
   "execution_count": null,
   "id": "086d8226",
   "metadata": {},
   "outputs": [],
   "source": [
    "# (4) 시각화\n",
    "\n",
    "plt.figure(figsize=(18, 6))\n",
    "\n",
    "# 정확도\n",
    "plt.subplot(1, 2, 1)\n",
    "plt.plot(history.history['accuracy'], label='accuracy')\n",
    "plt.plot(history.history['val_accuracy'], label='val_accuracy')\n",
    "plt.title('accuracy')\n",
    "plt.legend()\n",
    "\n",
    "# 손실률\n",
    "plt.subplot(1, 2, 2)\n",
    "plt.plot(history.history['loss'], label='loss')\n",
    "plt.plot(history.history['val_loss'], label='val_loss')\n",
    "plt.title('loss')\n",
    "plt.legend()\n",
    "\n",
    "plt.show()"
   ]
  }
 ],
 "metadata": {
  "kernelspec": {
   "display_name": "DEEP_ENV",
   "language": "python",
   "name": "deepenv"
  },
  "language_info": {
   "codemirror_mode": {
    "name": "ipython",
    "version": 3
   },
   "file_extension": ".py",
   "mimetype": "text/x-python",
   "name": "python",
   "nbconvert_exporter": "python",
   "pygments_lexer": "ipython3",
   "version": "3.10.13"
  }
 },
 "nbformat": 4,
 "nbformat_minor": 5
}
