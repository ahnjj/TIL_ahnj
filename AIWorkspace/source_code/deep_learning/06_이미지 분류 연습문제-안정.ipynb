{
 "cells": [
  {
   "cell_type": "markdown",
   "id": "b0055097",
   "metadata": {},
   "source": [
    "# 이미지 분류 연습 문제"
   ]
  },
  {
   "cell_type": "markdown",
   "id": "7af73902",
   "metadata": {},
   "source": [
    "### 이미지 분류 작업\n",
    "- (1) 데이터 준비\n",
    "- (2) 이미지 데이터 전처리 / 시각화\n",
    "- (3) 모델링\n",
    "- (4) 결과 시각화\n",
    "- (5) 모델 저장 / 로드\n",
    "- (6) 예측(predict)"
   ]
  },
  {
   "cell_type": "code",
   "execution_count": 14,
   "id": "7c34c171",
   "metadata": {},
   "outputs": [],
   "source": [
    "from IPython.core.interactiveshell import InteractiveShell\n",
    "InteractiveShell.ast_node_interactivity=\"all\""
   ]
  },
  {
   "cell_type": "code",
   "execution_count": 15,
   "id": "45a2624b",
   "metadata": {},
   "outputs": [],
   "source": [
    "import numpy as np"
   ]
  },
  {
   "cell_type": "code",
   "execution_count": 46,
   "id": "ef10bbaa",
   "metadata": {},
   "outputs": [],
   "source": [
    "import matplotlib.pyplot as plt\n",
    "%matplotlib inline"
   ]
  },
  {
   "cell_type": "code",
   "execution_count": 22,
   "id": "26238898",
   "metadata": {},
   "outputs": [],
   "source": [
    "# data load\n",
    "from keras.datasets import fashion_mnist\n",
    "\n",
    "(X_train, y_train), (X_test, y_test) = fashion_mnist.load_data()"
   ]
  },
  {
   "cell_type": "code",
   "execution_count": null,
   "id": "103d3127",
   "metadata": {},
   "outputs": [],
   "source": []
  },
  {
   "cell_type": "code",
   "execution_count": 11,
   "id": "6fad02ec",
   "metadata": {},
   "outputs": [
    {
     "data": {
      "text/plain": [
       "(60000, 28, 28)"
      ]
     },
     "execution_count": 11,
     "metadata": {},
     "output_type": "execute_result"
    },
    {
     "data": {
      "text/plain": [
       "(60000,)"
      ]
     },
     "execution_count": 11,
     "metadata": {},
     "output_type": "execute_result"
    },
    {
     "data": {
      "text/plain": [
       "(10000, 28, 28)"
      ]
     },
     "execution_count": 11,
     "metadata": {},
     "output_type": "execute_result"
    },
    {
     "data": {
      "text/plain": [
       "(10000,)"
      ]
     },
     "execution_count": 11,
     "metadata": {},
     "output_type": "execute_result"
    }
   ],
   "source": [
    "# 데이터 세트 쉐입 확인\n",
    "X_train.shape\n",
    "y_train.shape\n",
    "X_test.shape \n",
    "y_test.shape"
   ]
  },
  {
   "cell_type": "code",
   "execution_count": 24,
   "id": "ae0cfb1a",
   "metadata": {},
   "outputs": [
    {
     "data": {
      "text/plain": [
       "array([9, 0, 0, 3, 0, 2, 7, 2, 5, 5], dtype=uint8)"
      ]
     },
     "execution_count": 24,
     "metadata": {},
     "output_type": "execute_result"
    }
   ],
   "source": [
    " y_train[:10]"
   ]
  },
  {
   "cell_type": "code",
   "execution_count": 53,
   "id": "8bb7170c",
   "metadata": {},
   "outputs": [
    {
     "data": {
      "text/plain": [
       "<matplotlib.image.AxesImage at 0x16e18efe0>"
      ]
     },
     "execution_count": 53,
     "metadata": {},
     "output_type": "execute_result"
    },
    {
     "data": {
      "text/plain": [
       "(-0.5, 27.5, 27.5, -0.5)"
      ]
     },
     "execution_count": 53,
     "metadata": {},
     "output_type": "execute_result"
    },
    {
     "data": {
      "text/plain": [
       "<matplotlib.image.AxesImage at 0x16e1c3d30>"
      ]
     },
     "execution_count": 53,
     "metadata": {},
     "output_type": "execute_result"
    },
    {
     "data": {
      "text/plain": [
       "(-0.5, 27.5, 27.5, -0.5)"
      ]
     },
     "execution_count": 53,
     "metadata": {},
     "output_type": "execute_result"
    },
    {
     "data": {
      "text/plain": [
       "<matplotlib.image.AxesImage at 0x16e1f01c0>"
      ]
     },
     "execution_count": 53,
     "metadata": {},
     "output_type": "execute_result"
    },
    {
     "data": {
      "text/plain": [
       "(-0.5, 27.5, 27.5, -0.5)"
      ]
     },
     "execution_count": 53,
     "metadata": {},
     "output_type": "execute_result"
    },
    {
     "data": {
      "text/plain": [
       "<matplotlib.image.AxesImage at 0x16e1f0430>"
      ]
     },
     "execution_count": 53,
     "metadata": {},
     "output_type": "execute_result"
    },
    {
     "data": {
      "text/plain": [
       "(-0.5, 27.5, 27.5, -0.5)"
      ]
     },
     "execution_count": 53,
     "metadata": {},
     "output_type": "execute_result"
    },
    {
     "data": {
      "text/plain": [
       "<matplotlib.image.AxesImage at 0x16e1c3d90>"
      ]
     },
     "execution_count": 53,
     "metadata": {},
     "output_type": "execute_result"
    },
    {
     "data": {
      "text/plain": [
       "(-0.5, 27.5, 27.5, -0.5)"
      ]
     },
     "execution_count": 53,
     "metadata": {},
     "output_type": "execute_result"
    },
    {
     "data": {
      "text/plain": [
       "<matplotlib.image.AxesImage at 0x16e1f0850>"
      ]
     },
     "execution_count": 53,
     "metadata": {},
     "output_type": "execute_result"
    },
    {
     "data": {
      "text/plain": [
       "(-0.5, 27.5, 27.5, -0.5)"
      ]
     },
     "execution_count": 53,
     "metadata": {},
     "output_type": "execute_result"
    },
    {
     "data": {
      "text/plain": [
       "<matplotlib.image.AxesImage at 0x16e1f0a30>"
      ]
     },
     "execution_count": 53,
     "metadata": {},
     "output_type": "execute_result"
    },
    {
     "data": {
      "text/plain": [
       "(-0.5, 27.5, 27.5, -0.5)"
      ]
     },
     "execution_count": 53,
     "metadata": {},
     "output_type": "execute_result"
    },
    {
     "data": {
      "text/plain": [
       "<matplotlib.image.AxesImage at 0x16e1f0d30>"
      ]
     },
     "execution_count": 53,
     "metadata": {},
     "output_type": "execute_result"
    },
    {
     "data": {
      "text/plain": [
       "(-0.5, 27.5, 27.5, -0.5)"
      ]
     },
     "execution_count": 53,
     "metadata": {},
     "output_type": "execute_result"
    },
    {
     "data": {
      "text/plain": [
       "<matplotlib.image.AxesImage at 0x16e1f12a0>"
      ]
     },
     "execution_count": 53,
     "metadata": {},
     "output_type": "execute_result"
    },
    {
     "data": {
      "text/plain": [
       "(-0.5, 27.5, 27.5, -0.5)"
      ]
     },
     "execution_count": 53,
     "metadata": {},
     "output_type": "execute_result"
    },
    {
     "data": {
      "text/plain": [
       "<matplotlib.image.AxesImage at 0x16e1f15a0>"
      ]
     },
     "execution_count": 53,
     "metadata": {},
     "output_type": "execute_result"
    },
    {
     "data": {
      "text/plain": [
       "(-0.5, 27.5, 27.5, -0.5)"
      ]
     },
     "execution_count": 53,
     "metadata": {},
     "output_type": "execute_result"
    },
    {
     "data": {
      "image/png": "[encoded data removed]",
      "text/plain": [
       "<Figure size 1000x1000 with 10 Axes>"
      ]
     },
     "metadata": {},
     "output_type": "display_data"
    }
   ],
   "source": [
    "# 시각화 해서 확인\n",
    "fig, axs = plt.subplots(1, 10, figsize=(10,10))\n",
    "for i in range(10):\n",
    "    axs[i].imshow(X_train[i], cmap=plt.cm.binary)\n",
    "    axs[i].axis('off')   # 테두리없애기\n",
    "    \n",
    "plt.show()"
   ]
  },
  {
   "cell_type": "markdown",
   "id": "3225ab58",
   "metadata": {},
   "source": [
    "## 이미지 데이터 전처리 / 시각화"
   ]
  },
  {
   "cell_type": "code",
   "execution_count": 20,
   "id": "a2e5a02a",
   "metadata": {},
   "outputs": [],
   "source": [
    "# 차원 변환 및 정규화\n",
    "# 차원 : 3D (60000, 28, 28) -> (60000, 784) 2D\n",
    "# 정규화 : np.min(X_train), np.max(X_train) # 픽셀 값 0~255\n",
    "\n",
    "X_train2 = X_train.reshape(60000, 28*28) / 255\n",
    "\n",
    "X_test2 = X_test.reshape(10000, 28*28) / 255"
   ]
  },
  {
   "cell_type": "code",
   "execution_count": 25,
   "id": "e486757d",
   "metadata": {},
   "outputs": [
    {
     "data": {
      "text/plain": [
       "(60000, 784)"
      ]
     },
     "execution_count": 25,
     "metadata": {},
     "output_type": "execute_result"
    },
    {
     "data": {
      "text/plain": [
       "(10000, 784)"
      ]
     },
     "execution_count": 25,
     "metadata": {},
     "output_type": "execute_result"
    }
   ],
   "source": [
    "# 변환 후 데이터 shape확인\n",
    "X_train2.shape\n",
    "X_test2.shape"
   ]
  },
  {
   "cell_type": "code",
   "execution_count": 28,
   "id": "db91e24a",
   "metadata": {},
   "outputs": [
    {
     "data": {
      "text/plain": [
       "array([9, 0, 0, 3, 0, 2, 7, 2, 5, 5], dtype=uint8)"
      ]
     },
     "execution_count": 28,
     "metadata": {},
     "output_type": "execute_result"
    },
    {
     "data": {
      "text/plain": [
       "array([[0., 0., 0., 0., 0., 0., 0., 0., 0., 1.],\n",
       "       [0., 0., 1., 0., 0., 0., 0., 0., 0., 0.],\n",
       "       [0., 1., 0., 0., 0., 0., 0., 0., 0., 0.],\n",
       "       [0., 1., 0., 0., 0., 0., 0., 0., 0., 0.]], dtype=float32)"
      ]
     },
     "execution_count": 28,
     "metadata": {},
     "output_type": "execute_result"
    }
   ],
   "source": [
    "# label 값 원-핫 인코딩\n",
    "\n",
    "# 인코딩 전\n",
    "y_train[:10] # 숫자형\n",
    "\n",
    "# 인코딩\n",
    "from keras.utils import to_categorical\n",
    "\n",
    "y_train2 = to_categorical(y_train)\n",
    "y_test2 = to_categorical(y_test)\n",
    "\n",
    "# 인코딩 후\n",
    "y_test2[:4]"
   ]
  },
  {
   "cell_type": "markdown",
   "id": "e9ace127",
   "metadata": {},
   "source": [
    "## 모델링"
   ]
  },
  {
   "cell_type": "code",
   "execution_count": 50,
   "id": "f5363734",
   "metadata": {},
   "outputs": [],
   "source": [
    "from tensorflow.keras.models import Sequential\n",
    "from tensorflow.keras.layers import Dense\n",
    "import tensorflow as tf\n",
    "\n",
    "tf.random.set_seed(3)\n",
    "\n",
    "# (1) 모델설정\n",
    "# 보통 softmax는 출력층에서\n",
    "model = Sequential()\n",
    "model.add(Dense(units=512, input_shape=(784,), activation='relu'))\n",
    "model.add(Dense(units=10, activation='softmax'))"
   ]
  },
  {
   "cell_type": "code",
   "execution_count": 51,
   "id": "e8c2e18b",
   "metadata": {},
   "outputs": [],
   "source": [
    "# (2) 컴파일\n",
    "model.compile(loss='categorical_crossentropy', optimizer='rmsprop', metrics=['accuracy'])"
   ]
  },
  {
   "cell_type": "code",
   "execution_count": 52,
   "id": "f462968c",
   "metadata": {
    "scrolled": true
   },
   "outputs": [
    {
     "name": "stdout",
     "output_type": "stream",
     "text": [
      "Epoch 1/100\n",
      "469/469 [==============================] - 3s 5ms/step - loss: 0.5619 - accuracy: 0.8016 - val_loss: 0.4221 - val_accuracy: 0.8508\n",
      "Epoch 2/100\n",
      "469/469 [==============================] - 2s 5ms/step - loss: 0.3791 - accuracy: 0.8609 - val_loss: 0.3668 - val_accuracy: 0.8701\n",
      "Epoch 3/100\n",
      "469/469 [==============================] - 2s 5ms/step - loss: 0.3353 - accuracy: 0.8758 - val_loss: 0.3604 - val_accuracy: 0.8696\n",
      "Epoch 4/100\n",
      "469/469 [==============================] - 2s 5ms/step - loss: 0.3092 - accuracy: 0.8870 - val_loss: 0.3959 - val_accuracy: 0.8592\n",
      "Epoch 5/100\n",
      "469/469 [==============================] - 2s 5ms/step - loss: 0.2886 - accuracy: 0.8940 - val_loss: 0.3565 - val_accuracy: 0.8760\n",
      "Epoch 6/100\n",
      "469/469 [==============================] - 2s 5ms/step - loss: 0.2759 - accuracy: 0.8979 - val_loss: 0.3681 - val_accuracy: 0.8738\n",
      "Epoch 7/100\n",
      "469/469 [==============================] - 2s 5ms/step - loss: 0.2625 - accuracy: 0.9038 - val_loss: 0.3497 - val_accuracy: 0.8750\n",
      "Epoch 8/100\n",
      "469/469 [==============================] - 2s 5ms/step - loss: 0.2530 - accuracy: 0.9059 - val_loss: 0.3662 - val_accuracy: 0.8747\n",
      "Epoch 9/100\n",
      "469/469 [==============================] - 2s 5ms/step - loss: 0.2433 - accuracy: 0.9104 - val_loss: 0.3258 - val_accuracy: 0.8871\n",
      "Epoch 10/100\n",
      "469/469 [==============================] - 2s 5ms/step - loss: 0.2356 - accuracy: 0.9127 - val_loss: 0.3467 - val_accuracy: 0.8902\n",
      "Epoch 11/100\n",
      "469/469 [==============================] - 2s 5ms/step - loss: 0.2277 - accuracy: 0.9151 - val_loss: 0.3371 - val_accuracy: 0.8881\n",
      "Epoch 12/100\n",
      "469/469 [==============================] - 2s 5ms/step - loss: 0.2188 - accuracy: 0.9192 - val_loss: 0.3465 - val_accuracy: 0.8841\n",
      "Epoch 13/100\n",
      "469/469 [==============================] - 2s 5ms/step - loss: 0.2094 - accuracy: 0.9228 - val_loss: 0.3686 - val_accuracy: 0.8857\n",
      "Epoch 14/100\n",
      "469/469 [==============================] - 2s 5ms/step - loss: 0.2059 - accuracy: 0.9240 - val_loss: 0.3503 - val_accuracy: 0.8882\n",
      "Epoch 15/100\n",
      "469/469 [==============================] - 2s 5ms/step - loss: 0.1979 - accuracy: 0.9269 - val_loss: 0.3870 - val_accuracy: 0.8858\n",
      "Epoch 16/100\n",
      "469/469 [==============================] - 2s 5ms/step - loss: 0.1946 - accuracy: 0.9285 - val_loss: 0.3754 - val_accuracy: 0.8820\n",
      "Epoch 17/100\n",
      "469/469 [==============================] - 2s 5ms/step - loss: 0.1869 - accuracy: 0.9322 - val_loss: 0.4156 - val_accuracy: 0.8783\n",
      "Epoch 18/100\n",
      "469/469 [==============================] - 2s 5ms/step - loss: 0.1826 - accuracy: 0.9329 - val_loss: 0.3581 - val_accuracy: 0.8932\n",
      "Epoch 19/100\n",
      "469/469 [==============================] - 2s 5ms/step - loss: 0.1774 - accuracy: 0.9351 - val_loss: 0.3702 - val_accuracy: 0.8922\n",
      "Epoch 20/100\n",
      "469/469 [==============================] - 2s 5ms/step - loss: 0.1735 - accuracy: 0.9362 - val_loss: 0.4319 - val_accuracy: 0.8794\n",
      "Epoch 21/100\n",
      "469/469 [==============================] - 2s 5ms/step - loss: 0.1687 - accuracy: 0.9380 - val_loss: 0.3855 - val_accuracy: 0.8941\n",
      "Epoch 22/100\n",
      "469/469 [==============================] - 2s 5ms/step - loss: 0.1626 - accuracy: 0.9400 - val_loss: 0.4032 - val_accuracy: 0.8947\n",
      "Epoch 23/100\n",
      "469/469 [==============================] - 2s 5ms/step - loss: 0.1607 - accuracy: 0.9422 - val_loss: 0.4048 - val_accuracy: 0.8910\n",
      "Epoch 24/100\n",
      "469/469 [==============================] - 2s 5ms/step - loss: 0.1543 - accuracy: 0.9434 - val_loss: 0.4314 - val_accuracy: 0.8909\n",
      "Epoch 25/100\n",
      "469/469 [==============================] - 2s 5ms/step - loss: 0.1537 - accuracy: 0.9449 - val_loss: 0.4290 - val_accuracy: 0.8890\n",
      "Epoch 26/100\n",
      "469/469 [==============================] - 2s 5ms/step - loss: 0.1450 - accuracy: 0.9462 - val_loss: 0.4847 - val_accuracy: 0.8740\n",
      "Epoch 27/100\n",
      "469/469 [==============================] - 2s 5ms/step - loss: 0.1450 - accuracy: 0.9473 - val_loss: 0.4327 - val_accuracy: 0.8920\n",
      "Epoch 28/100\n",
      "469/469 [==============================] - 2s 5ms/step - loss: 0.1421 - accuracy: 0.9488 - val_loss: 0.4567 - val_accuracy: 0.8857\n",
      "Epoch 29/100\n",
      "469/469 [==============================] - 2s 5ms/step - loss: 0.1378 - accuracy: 0.9494 - val_loss: 0.4261 - val_accuracy: 0.8987\n",
      "Epoch 30/100\n",
      "469/469 [==============================] - 2s 5ms/step - loss: 0.1345 - accuracy: 0.9514 - val_loss: 0.4817 - val_accuracy: 0.8879\n",
      "Epoch 31/100\n",
      "469/469 [==============================] - 2s 5ms/step - loss: 0.1324 - accuracy: 0.9522 - val_loss: 0.4714 - val_accuracy: 0.8909\n",
      "Epoch 32/100\n",
      "469/469 [==============================] - 2s 5ms/step - loss: 0.1286 - accuracy: 0.9538 - val_loss: 0.4733 - val_accuracy: 0.8950\n",
      "Epoch 33/100\n",
      "469/469 [==============================] - 2s 5ms/step - loss: 0.1274 - accuracy: 0.9542 - val_loss: 0.5077 - val_accuracy: 0.8825\n",
      "Epoch 34/100\n",
      "469/469 [==============================] - 2s 5ms/step - loss: 0.1242 - accuracy: 0.9558 - val_loss: 0.5082 - val_accuracy: 0.8860\n",
      "Epoch 35/100\n",
      "469/469 [==============================] - 2s 5ms/step - loss: 0.1223 - accuracy: 0.9561 - val_loss: 0.5289 - val_accuracy: 0.8868\n",
      "Epoch 36/100\n",
      "469/469 [==============================] - 2s 5ms/step - loss: 0.1187 - accuracy: 0.9581 - val_loss: 0.4804 - val_accuracy: 0.8937\n",
      "Epoch 37/100\n",
      "469/469 [==============================] - 2s 5ms/step - loss: 0.1172 - accuracy: 0.9584 - val_loss: 0.5088 - val_accuracy: 0.8895\n",
      "Epoch 38/100\n",
      "469/469 [==============================] - 2s 5ms/step - loss: 0.1162 - accuracy: 0.9586 - val_loss: 0.6228 - val_accuracy: 0.8766\n",
      "Epoch 39/100\n",
      "469/469 [==============================] - 2s 5ms/step - loss: 0.1130 - accuracy: 0.9601 - val_loss: 0.5068 - val_accuracy: 0.8987\n",
      "Epoch 40/100\n",
      "469/469 [==============================] - 2s 5ms/step - loss: 0.1129 - accuracy: 0.9601 - val_loss: 0.5414 - val_accuracy: 0.8949\n",
      "Epoch 41/100\n",
      "469/469 [==============================] - 2s 5ms/step - loss: 0.1109 - accuracy: 0.9614 - val_loss: 0.5723 - val_accuracy: 0.8867\n",
      "Epoch 42/100\n",
      "469/469 [==============================] - 2s 5ms/step - loss: 0.1077 - accuracy: 0.9626 - val_loss: 0.5849 - val_accuracy: 0.8913\n",
      "Epoch 43/100\n",
      "469/469 [==============================] - 2s 5ms/step - loss: 0.1058 - accuracy: 0.9624 - val_loss: 0.5684 - val_accuracy: 0.8907\n",
      "Epoch 44/100\n",
      "469/469 [==============================] - 2s 5ms/step - loss: 0.1052 - accuracy: 0.9631 - val_loss: 0.6207 - val_accuracy: 0.8893\n",
      "Epoch 45/100\n",
      "469/469 [==============================] - 2s 5ms/step - loss: 0.1017 - accuracy: 0.9637 - val_loss: 0.5745 - val_accuracy: 0.8934\n",
      "Epoch 46/100\n",
      "469/469 [==============================] - 3s 6ms/step - loss: 0.0991 - accuracy: 0.9656 - val_loss: 0.5700 - val_accuracy: 0.8945\n",
      "Epoch 47/100\n",
      "469/469 [==============================] - 2s 5ms/step - loss: 0.0990 - accuracy: 0.9651 - val_loss: 0.5813 - val_accuracy: 0.8913\n",
      "Epoch 48/100\n",
      "469/469 [==============================] - 3s 5ms/step - loss: 0.1002 - accuracy: 0.9660 - val_loss: 0.5982 - val_accuracy: 0.8941\n",
      "Epoch 49/100\n",
      "469/469 [==============================] - 3s 5ms/step - loss: 0.0945 - accuracy: 0.9672 - val_loss: 0.6482 - val_accuracy: 0.8845\n",
      "Epoch 50/100\n",
      "469/469 [==============================] - 2s 5ms/step - loss: 0.0957 - accuracy: 0.9673 - val_loss: 0.6242 - val_accuracy: 0.8922\n",
      "Epoch 51/100\n",
      "469/469 [==============================] - 3s 5ms/step - loss: 0.0910 - accuracy: 0.9686 - val_loss: 0.6482 - val_accuracy: 0.8940\n",
      "Epoch 52/100\n",
      "469/469 [==============================] - 3s 6ms/step - loss: 0.0912 - accuracy: 0.9683 - val_loss: 0.6763 - val_accuracy: 0.8940\n",
      "Epoch 53/100\n",
      "469/469 [==============================] - 2s 5ms/step - loss: 0.0903 - accuracy: 0.9688 - val_loss: 0.6487 - val_accuracy: 0.8954\n",
      "Epoch 54/100\n",
      "469/469 [==============================] - 2s 5ms/step - loss: 0.0917 - accuracy: 0.9686 - val_loss: 0.6618 - val_accuracy: 0.8883\n",
      "Epoch 55/100\n",
      "469/469 [==============================] - 2s 5ms/step - loss: 0.0918 - accuracy: 0.9693 - val_loss: 0.6742 - val_accuracy: 0.8928\n",
      "Epoch 56/100\n",
      "469/469 [==============================] - 2s 5ms/step - loss: 0.0891 - accuracy: 0.9706 - val_loss: 0.6512 - val_accuracy: 0.8850\n",
      "Epoch 57/100\n",
      "469/469 [==============================] - 2s 5ms/step - loss: 0.0849 - accuracy: 0.9710 - val_loss: 0.6998 - val_accuracy: 0.8928\n"
     ]
    },
    {
     "name": "stdout",
     "output_type": "stream",
     "text": [
      "Epoch 58/100\n",
      "469/469 [==============================] - 2s 5ms/step - loss: 0.0836 - accuracy: 0.9707 - val_loss: 0.7166 - val_accuracy: 0.8961\n",
      "Epoch 59/100\n",
      "469/469 [==============================] - 2s 5ms/step - loss: 0.0843 - accuracy: 0.9722 - val_loss: 0.7592 - val_accuracy: 0.8922\n",
      "Epoch 60/100\n",
      "469/469 [==============================] - 2s 5ms/step - loss: 0.0815 - accuracy: 0.9724 - val_loss: 0.6988 - val_accuracy: 0.8912\n",
      "Epoch 61/100\n",
      "469/469 [==============================] - 2s 5ms/step - loss: 0.0832 - accuracy: 0.9719 - val_loss: 0.7232 - val_accuracy: 0.8914\n",
      "Epoch 62/100\n",
      "469/469 [==============================] - 2s 5ms/step - loss: 0.0814 - accuracy: 0.9731 - val_loss: 0.7604 - val_accuracy: 0.8894\n",
      "Epoch 63/100\n",
      "469/469 [==============================] - 2s 5ms/step - loss: 0.0764 - accuracy: 0.9742 - val_loss: 0.7326 - val_accuracy: 0.8947\n",
      "Epoch 64/100\n",
      "469/469 [==============================] - 2s 5ms/step - loss: 0.0743 - accuracy: 0.9748 - val_loss: 0.7385 - val_accuracy: 0.8953\n",
      "Epoch 65/100\n",
      "469/469 [==============================] - 2s 5ms/step - loss: 0.0784 - accuracy: 0.9741 - val_loss: 0.8129 - val_accuracy: 0.8903\n",
      "Epoch 66/100\n",
      "469/469 [==============================] - 2s 5ms/step - loss: 0.0762 - accuracy: 0.9751 - val_loss: 0.7805 - val_accuracy: 0.8966\n",
      "Epoch 67/100\n",
      "469/469 [==============================] - 2s 5ms/step - loss: 0.0748 - accuracy: 0.9751 - val_loss: 0.7769 - val_accuracy: 0.8906\n",
      "Epoch 68/100\n",
      "469/469 [==============================] - 2s 5ms/step - loss: 0.0750 - accuracy: 0.9750 - val_loss: 0.7849 - val_accuracy: 0.8947\n",
      "Epoch 69/100\n",
      "469/469 [==============================] - 2s 5ms/step - loss: 0.0739 - accuracy: 0.9758 - val_loss: 0.8083 - val_accuracy: 0.8928\n",
      "Epoch 70/100\n",
      "469/469 [==============================] - 2s 5ms/step - loss: 0.0734 - accuracy: 0.9758 - val_loss: 0.9183 - val_accuracy: 0.8844\n",
      "Epoch 71/100\n",
      "469/469 [==============================] - 2s 5ms/step - loss: 0.0704 - accuracy: 0.9769 - val_loss: 0.7787 - val_accuracy: 0.8973\n",
      "Epoch 72/100\n",
      "469/469 [==============================] - 2s 5ms/step - loss: 0.0692 - accuracy: 0.9769 - val_loss: 0.7988 - val_accuracy: 0.8930\n",
      "Epoch 73/100\n",
      "469/469 [==============================] - 2s 5ms/step - loss: 0.0713 - accuracy: 0.9767 - val_loss: 0.8490 - val_accuracy: 0.8899\n",
      "Epoch 74/100\n",
      "469/469 [==============================] - 2s 5ms/step - loss: 0.0701 - accuracy: 0.9778 - val_loss: 0.8089 - val_accuracy: 0.8935\n",
      "Epoch 75/100\n",
      "469/469 [==============================] - 2s 5ms/step - loss: 0.0662 - accuracy: 0.9782 - val_loss: 0.8883 - val_accuracy: 0.8861\n",
      "Epoch 76/100\n",
      "469/469 [==============================] - 2s 5ms/step - loss: 0.0677 - accuracy: 0.9783 - val_loss: 0.8965 - val_accuracy: 0.8886\n",
      "Epoch 77/100\n",
      "469/469 [==============================] - 2s 5ms/step - loss: 0.0686 - accuracy: 0.9775 - val_loss: 0.8849 - val_accuracy: 0.8916\n",
      "Epoch 78/100\n",
      "469/469 [==============================] - 2s 5ms/step - loss: 0.0671 - accuracy: 0.9784 - val_loss: 0.9354 - val_accuracy: 0.8837\n",
      "Epoch 79/100\n",
      "469/469 [==============================] - 3s 7ms/step - loss: 0.0655 - accuracy: 0.9790 - val_loss: 0.8920 - val_accuracy: 0.8884\n",
      "Epoch 80/100\n",
      "469/469 [==============================] - 3s 6ms/step - loss: 0.0650 - accuracy: 0.9790 - val_loss: 0.8921 - val_accuracy: 0.8910\n",
      "Epoch 81/100\n",
      "469/469 [==============================] - 2s 5ms/step - loss: 0.0647 - accuracy: 0.9794 - val_loss: 0.9414 - val_accuracy: 0.8900\n",
      "Epoch 82/100\n",
      "469/469 [==============================] - 2s 5ms/step - loss: 0.0642 - accuracy: 0.9791 - val_loss: 0.9510 - val_accuracy: 0.8869\n",
      "Epoch 83/100\n",
      "469/469 [==============================] - 2s 5ms/step - loss: 0.0644 - accuracy: 0.9791 - val_loss: 0.8806 - val_accuracy: 0.8953\n",
      "Epoch 84/100\n",
      "469/469 [==============================] - 2s 5ms/step - loss: 0.0647 - accuracy: 0.9791 - val_loss: 0.9623 - val_accuracy: 0.8875\n",
      "Epoch 85/100\n",
      "469/469 [==============================] - 2s 5ms/step - loss: 0.0637 - accuracy: 0.9794 - val_loss: 1.0085 - val_accuracy: 0.8875\n",
      "Epoch 86/100\n",
      "469/469 [==============================] - 2s 5ms/step - loss: 0.0645 - accuracy: 0.9801 - val_loss: 0.9550 - val_accuracy: 0.8938\n",
      "Epoch 87/100\n",
      "469/469 [==============================] - 3s 6ms/step - loss: 0.0597 - accuracy: 0.9808 - val_loss: 0.9890 - val_accuracy: 0.8862\n",
      "Epoch 88/100\n",
      "469/469 [==============================] - 2s 5ms/step - loss: 0.0594 - accuracy: 0.9819 - val_loss: 0.9520 - val_accuracy: 0.8872\n",
      "Epoch 89/100\n",
      "469/469 [==============================] - 3s 5ms/step - loss: 0.0594 - accuracy: 0.9815 - val_loss: 0.9737 - val_accuracy: 0.8892\n",
      "Epoch 90/100\n",
      "469/469 [==============================] - 3s 6ms/step - loss: 0.0591 - accuracy: 0.9812 - val_loss: 1.0020 - val_accuracy: 0.8946\n",
      "Epoch 91/100\n",
      "469/469 [==============================] - 3s 7ms/step - loss: 0.0586 - accuracy: 0.9824 - val_loss: 1.0020 - val_accuracy: 0.8944\n",
      "Epoch 92/100\n",
      "469/469 [==============================] - 3s 6ms/step - loss: 0.0588 - accuracy: 0.9815 - val_loss: 1.0585 - val_accuracy: 0.8891\n",
      "Epoch 93/100\n",
      "469/469 [==============================] - 3s 7ms/step - loss: 0.0603 - accuracy: 0.9816 - val_loss: 0.9769 - val_accuracy: 0.8894\n",
      "Epoch 94/100\n",
      "469/469 [==============================] - 3s 6ms/step - loss: 0.0555 - accuracy: 0.9831 - val_loss: 0.9964 - val_accuracy: 0.8909\n",
      "Epoch 95/100\n",
      "469/469 [==============================] - 2s 5ms/step - loss: 0.0554 - accuracy: 0.9821 - val_loss: 1.0041 - val_accuracy: 0.8950\n",
      "Epoch 96/100\n",
      "469/469 [==============================] - 2s 5ms/step - loss: 0.0566 - accuracy: 0.9827 - val_loss: 0.9918 - val_accuracy: 0.8975\n",
      "Epoch 97/100\n",
      "469/469 [==============================] - 3s 6ms/step - loss: 0.0554 - accuracy: 0.9827 - val_loss: 1.0220 - val_accuracy: 0.8928\n",
      "Epoch 98/100\n",
      "469/469 [==============================] - 2s 5ms/step - loss: 0.0578 - accuracy: 0.9823 - val_loss: 1.0297 - val_accuracy: 0.8957\n",
      "Epoch 99/100\n",
      "469/469 [==============================] - 2s 5ms/step - loss: 0.0513 - accuracy: 0.9834 - val_loss: 1.0103 - val_accuracy: 0.8896\n",
      "Epoch 100/100\n",
      "469/469 [==============================] - 2s 5ms/step - loss: 0.0540 - accuracy: 0.9833 - val_loss: 1.0002 - val_accuracy: 0.8924\n"
     ]
    }
   ],
   "source": [
    "# (3) 모델 학습\n",
    "history = model.fit(x=X_train2, y=y_train2, epochs=100, batch_size=128,\n",
    "                    validation_data=(X_test2, y_test2))"
   ]
  },
  {
   "cell_type": "code",
   "execution_count": 54,
   "id": "7e0a5b32",
   "metadata": {},
   "outputs": [
    {
     "name": "stdout",
     "output_type": "stream",
     "text": [
      "313/313 [==============================] - 0s 1ms/step - loss: 1.0002 - accuracy: 0.8924\n",
      "정확도 : 0.8924000263214111, 손실률 : 1.000217080116272\n"
     ]
    }
   ],
   "source": [
    "# (4) 모델 평가\n",
    "loss, accuracy = model.evaluate(X_test2, y_test2)\n",
    "print(f'정확도 : {accuracy}, 손실률 : {loss}')\n",
    "\n",
    "# epoch 1000\n",
    "# loss: 0.9743 - accuracy: 0.8336 과적합 나옴\n",
    "\n",
    "# epoch 100 rulu, softmax\n",
    "# 정확도 : 0.8924000263214111, 손실률 : 1.000217080116272"
   ]
  },
  {
   "cell_type": "markdown",
   "id": "f5f8f0db",
   "metadata": {},
   "source": [
    "## 결과 시각화 "
   ]
  },
  {
   "cell_type": "code",
   "execution_count": 55,
   "id": "84198f7b",
   "metadata": {},
   "outputs": [
    {
     "data": {
      "text/plain": [
       "<Figure size 1800x600 with 0 Axes>"
      ]
     },
     "execution_count": 55,
     "metadata": {},
     "output_type": "execute_result"
    },
    {
     "data": {
      "text/plain": [
       "<Axes: >"
      ]
     },
     "execution_count": 55,
     "metadata": {},
     "output_type": "execute_result"
    },
    {
     "data": {
      "text/plain": [
       "[<matplotlib.lines.Line2D at 0x2c4042da0>]"
      ]
     },
     "execution_count": 55,
     "metadata": {},
     "output_type": "execute_result"
    },
    {
     "data": {
      "text/plain": [
       "[<matplotlib.lines.Line2D at 0x2c4043070>]"
      ]
     },
     "execution_count": 55,
     "metadata": {},
     "output_type": "execute_result"
    },
    {
     "data": {
      "text/plain": [
       "Text(0.5, 1.0, 'accuracy')"
      ]
     },
     "execution_count": 55,
     "metadata": {},
     "output_type": "execute_result"
    },
    {
     "data": {
      "text/plain": [
       "<matplotlib.legend.Legend at 0x16de9bf40>"
      ]
     },
     "execution_count": 55,
     "metadata": {},
     "output_type": "execute_result"
    },
    {
     "data": {
      "text/plain": [
       "<Axes: >"
      ]
     },
     "execution_count": 55,
     "metadata": {},
     "output_type": "execute_result"
    },
    {
     "data": {
      "text/plain": [
       "[<matplotlib.lines.Line2D at 0x2c406d0f0>]"
      ]
     },
     "execution_count": 55,
     "metadata": {},
     "output_type": "execute_result"
    },
    {
     "data": {
      "text/plain": [
       "[<matplotlib.lines.Line2D at 0x2c406dc90>]"
      ]
     },
     "execution_count": 55,
     "metadata": {},
     "output_type": "execute_result"
    },
    {
     "data": {
      "text/plain": [
       "Text(0.5, 1.0, 'loss')"
      ]
     },
     "execution_count": 55,
     "metadata": {},
     "output_type": "execute_result"
    },
    {
     "data": {
      "text/plain": [
       "<matplotlib.legend.Legend at 0x2c401eda0>"
      ]
     },
     "execution_count": 55,
     "metadata": {},
     "output_type": "execute_result"
    },
    {
     "data": {
      "image/png": "[encoded data removed]",
      "text/plain": [
       "<Figure size 1800x600 with 2 Axes>"
      ]
     },
     "metadata": {},
     "output_type": "display_data"
    }
   ],
   "source": [
    "plt.figure(figsize=(18,6))\n",
    "\n",
    "# 정확도\n",
    "plt.subplot(1, 2, 1)\n",
    "plt.plot(history.history['accuracy'], label='accuracy')\n",
    "plt.plot(history.history['val_accuracy'], label='val_accuracy')\n",
    "plt.title('accuracy')\n",
    "plt.legend()\n",
    "\n",
    "# 손실률\n",
    "plt.subplot(1, 2, 2)\n",
    "plt.plot(history.history['loss'], label='loss')\n",
    "plt.plot(history.history['val_loss'], label='val_loss')\n",
    "plt.title('loss')\n",
    "plt.legend()\n",
    "\n",
    "plt.show()"
   ]
  },
  {
   "cell_type": "markdown",
   "id": "851873d7",
   "metadata": {},
   "source": [
    "## 모델 저장 / 로드 "
   ]
  },
  {
   "cell_type": "code",
   "execution_count": 38,
   "id": "a9655187",
   "metadata": {},
   "outputs": [],
   "source": [
    "model.save('../../data/06_model.keras')"
   ]
  },
  {
   "cell_type": "code",
   "execution_count": 41,
   "id": "10ae2243",
   "metadata": {},
   "outputs": [],
   "source": [
    "from tensorflow.keras.models import load_model\n",
    "loaded_model = load_model('../../data/06_model.keras')"
   ]
  },
  {
   "cell_type": "markdown",
   "id": "c28e5f87",
   "metadata": {},
   "source": [
    "## 예측"
   ]
  },
  {
   "cell_type": "code",
   "execution_count": 47,
   "id": "3090522e",
   "metadata": {},
   "outputs": [
    {
     "data": {
      "text/plain": [
       "array([9, 2, 1, 1, 6, 1, 4, 6, 5, 7])"
      ]
     },
     "execution_count": 47,
     "metadata": {},
     "output_type": "execute_result"
    },
    {
     "data": {
      "text/plain": [
       "array([9, 2, 1, 1, 6, 1, 4, 6, 5, 7], dtype=uint8)"
      ]
     },
     "execution_count": 47,
     "metadata": {},
     "output_type": "execute_result"
    }
   ],
   "source": [
    "y_pre_prob = loaded_model.predict(X_test2, verbose=0) # 예측\n",
    "y_pred = y_pre_prob.argmax(axis=1)\n",
    "\n",
    "# 예측, 테스트 데이터 라벨 값 비교\n",
    "y_pred[:10]\n",
    "y_test[:10]"
   ]
  },
  {
   "cell_type": "code",
   "execution_count": 56,
   "id": "40120bd1",
   "metadata": {},
   "outputs": [
    {
     "name": "stdout",
     "output_type": "stream",
     "text": [
      "Model: \"sequential_1\"\n",
      "_________________________________________________________________\n",
      " Layer (type)                Output Shape              Param #   \n",
      "=================================================================\n",
      " dense_2 (Dense)             (None, 512)               401920    \n",
      "                                                                 \n",
      " dense_3 (Dense)             (None, 10)                5130      \n",
      "                                                                 \n",
      "=================================================================\n",
      "Total params: 407050 (1.55 MB)\n",
      "Trainable params: 407050 (1.55 MB)\n",
      "Non-trainable params: 0 (0.00 Byte)\n",
      "_________________________________________________________________\n"
     ]
    }
   ],
   "source": [
    "model.summary()"
   ]
  }
 ],
 "metadata": {
  "kernelspec": {
   "display_name": "DEEP_ENV",
   "language": "python",
   "name": "deepenv"
  },
  "language_info": {
   "codemirror_mode": {
    "name": "ipython",
    "version": 3
   },
   "file_extension": ".py",
   "mimetype": "text/x-python",
   "name": "python",
   "nbconvert_exporter": "python",
   "pygments_lexer": "ipython3",
   "version": "3.10.13"
  }
 },
 "nbformat": 4,
 "nbformat_minor": 5
}
