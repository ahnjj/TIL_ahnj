{
 "cells": [
  {
   "cell_type": "markdown",
   "metadata": {},
   "source": [
    "## 신경망 모델 훈련 \n",
    "- EarlyStopping  \n",
    "- Dropout  \n",
    "- CheckPoint  "
   ]
  },
  {
   "cell_type": "markdown",
   "metadata": {},
   "source": [
    "###  EarlyStopping\n",
    "\n",
    "- EarlyStopping(monitor = 'val_loss',   \n",
    "                  - min_delta = 0,   \n",
    "                  - patience = 0,   \n",
    "                  - mode = 'auto', \n",
    "                  - restore_best_weights=True)  \n",
    "\n",
    "- monitor : 학습 조기종료를 위해 관찰하는 항목  \n",
    "    - val_loss 또는 val_accuracy 주로 사용 (default : val_loss)  \n",
    "- min_delta : 개선되고 있다고 판단하기 위한 최소 변화량  \n",
    "    - 만약 변화량이 min_delta 보다 적은 경우에는 개선이 없다고 판단 (default = 0)  \n",
    "- patience : 개선이 안되더라도 바로 종료시키지 않고,   \n",
    "    - 개선을 위해 몇 번의 에포크를 더 진행할지 설정  (default = 0)  \n",
    "- mode : 관찰항목에 대해 개선이 없다고 판단하기 위한 기준 설정  \n",
    "    - monitor에서 설정한 항목이   \n",
    "      - val_loss 이면 값이 감소되지 않을 때 종료하여야 하므로 min  설정,   \n",
    "      - val_accuracy 이면 max 설정 (default = auto)  \n",
    "        - auto : monitor에 설정된 이름에 따라 자동 지정 \n",
    "        - min : 관찰값이 감소하는 것을 멈출 때, 학습 종료 \n",
    "        - max: 관찰값이 증가하는 것을 멈출 때, 학습 종료 \n",
    "- restore_best_weights \n",
    "  - 최상의 가중치를 복원할지 여부 결정 (디폴트 False)  \n",
    "  - True로 설정하면 학습 중 최상의 검증 손실을 가진 가중치 복원  \n",
    "--- \n",
    "- early_stopping_callback = EarlyStopping(patience=2, restore_best_weights=True)  \n",
    "- fit() 할 때 \n",
    "  - callbacks=[early_stopping_callback]  파라미터 설정   \n",
    "- 콜백 함수 : 특정 이벤트 발생 시 호출되는 함수  \n",
    "- fit() 훈련 과정 중간에  EarlyStopping() 함수 호출  "
   ]
  },
  {
   "cell_type": "markdown",
   "metadata": {},
   "source": [
    "### 사용 데이터 : mnist 데이터셋\n",
    "- 정규화만 수행하고, \n",
    "- 레이블 인코딩 수행하지 않고 정수값 그대로 사용   \n",
    "- loss='sparse_categorical_crossentropy'    "
   ]
  },
  {
   "cell_type": "markdown",
   "metadata": {},
   "source": [
    "### (1) 데이터 준비 "
   ]
  },
  {
   "cell_type": "code",
   "execution_count": 1,
   "metadata": {},
   "outputs": [],
   "source": [
    "from IPython.core.interactiveshell import InteractiveShell\n",
    "InteractiveShell.ast_node_interactivity=\"all\""
   ]
  },
  {
   "cell_type": "code",
   "execution_count": 9,
   "metadata": {},
   "outputs": [],
   "source": [
    "import numpy as np"
   ]
  },
  {
   "cell_type": "code",
   "execution_count": 10,
   "metadata": {},
   "outputs": [],
   "source": [
    "import matplotlib.pyplot as plt\n",
    "%matplotlib inline"
   ]
  },
  {
   "cell_type": "code",
   "execution_count": 4,
   "metadata": {},
   "outputs": [],
   "source": [
    "# 데이터 로드 \n",
    "from keras.datasets import mnist\n",
    "\n",
    "(X_train, y_train), (X_test, y_test) = mnist.load_data()"
   ]
  },
  {
   "cell_type": "code",
   "execution_count": 5,
   "metadata": {},
   "outputs": [],
   "source": [
    "# 차원 변환 및 정규화\n",
    "# X_train : (60000, 28, 28)  -> (60000, 28*28) == (60000, 784)\n",
    "X_train2 = X_train.reshape(60000, 28*28)\n",
    "X_train2 = X_train2 / 255\n",
    "\n",
    "# X_test : (10000, 28, 28) -> (10000, 784)\n",
    "X_test2 = X_test.reshape(10000, 28*28)\n",
    "X_test2 = X_test2 / 255"
   ]
  },
  {
   "cell_type": "markdown",
   "metadata": {},
   "source": [
    "### (3) 모델링 "
   ]
  },
  {
   "cell_type": "markdown",
   "metadata": {},
   "source": [
    "#### 모델링 순서  \n",
    "(1) 모델 설정   \n",
    "(2) 모델 컴파일   \n",
    "(3) 모델 학습(실행)   \n",
    "(4) 모델 평가(결과 출력)  "
   ]
  },
  {
   "cell_type": "markdown",
   "metadata": {},
   "source": [
    "### Eary Stopping과 Dropout 적용하지 않은 경우"
   ]
  },
  {
   "cell_type": "code",
   "execution_count": 8,
   "metadata": {
    "scrolled": true
   },
   "outputs": [
    {
     "name": "stdout",
     "output_type": "stream",
     "text": [
      "Epoch 1/100\n",
      "469/469 [==============================] - 3s 6ms/step - loss: 0.2576 - accuracy: 0.9262 - val_loss: 0.1222 - val_accuracy: 0.9632\n",
      "Epoch 2/100\n",
      "469/469 [==============================] - 3s 6ms/step - loss: 0.1043 - accuracy: 0.9688 - val_loss: 0.0912 - val_accuracy: 0.9737\n",
      "Epoch 3/100\n",
      "469/469 [==============================] - 3s 6ms/step - loss: 0.0694 - accuracy: 0.9791 - val_loss: 0.0919 - val_accuracy: 0.9716\n",
      "Epoch 4/100\n",
      "469/469 [==============================] - 3s 6ms/step - loss: 0.0510 - accuracy: 0.9846 - val_loss: 0.0751 - val_accuracy: 0.9767\n",
      "Epoch 5/100\n",
      "469/469 [==============================] - 3s 6ms/step - loss: 0.0384 - accuracy: 0.9888 - val_loss: 0.0752 - val_accuracy: 0.9765\n",
      "Epoch 6/100\n",
      "469/469 [==============================] - 3s 6ms/step - loss: 0.0292 - accuracy: 0.9914 - val_loss: 0.0713 - val_accuracy: 0.9782\n",
      "Epoch 7/100\n",
      "469/469 [==============================] - 3s 6ms/step - loss: 0.0226 - accuracy: 0.9931 - val_loss: 0.0678 - val_accuracy: 0.9811\n",
      "Epoch 8/100\n",
      "469/469 [==============================] - 3s 6ms/step - loss: 0.0175 - accuracy: 0.9948 - val_loss: 0.0713 - val_accuracy: 0.9799\n",
      "Epoch 9/100\n",
      "469/469 [==============================] - 3s 5ms/step - loss: 0.0134 - accuracy: 0.9961 - val_loss: 0.0755 - val_accuracy: 0.9805\n",
      "Epoch 10/100\n",
      "469/469 [==============================] - 2s 5ms/step - loss: 0.0107 - accuracy: 0.9969 - val_loss: 0.0746 - val_accuracy: 0.9811\n",
      "Epoch 11/100\n",
      "469/469 [==============================] - 3s 6ms/step - loss: 0.0083 - accuracy: 0.9977 - val_loss: 0.0743 - val_accuracy: 0.9815\n",
      "Epoch 12/100\n",
      "469/469 [==============================] - 3s 6ms/step - loss: 0.0064 - accuracy: 0.9984 - val_loss: 0.0835 - val_accuracy: 0.9806\n",
      "Epoch 13/100\n",
      "469/469 [==============================] - 3s 6ms/step - loss: 0.0046 - accuracy: 0.9988 - val_loss: 0.0827 - val_accuracy: 0.9809\n",
      "Epoch 14/100\n",
      "469/469 [==============================] - 3s 6ms/step - loss: 0.0038 - accuracy: 0.9991 - val_loss: 0.0895 - val_accuracy: 0.9791\n",
      "Epoch 15/100\n",
      "469/469 [==============================] - 3s 6ms/step - loss: 0.0032 - accuracy: 0.9991 - val_loss: 0.0849 - val_accuracy: 0.9820\n",
      "Epoch 16/100\n",
      "469/469 [==============================] - 3s 6ms/step - loss: 0.0026 - accuracy: 0.9992 - val_loss: 0.0883 - val_accuracy: 0.9818\n",
      "Epoch 17/100\n",
      "469/469 [==============================] - 3s 6ms/step - loss: 0.0019 - accuracy: 0.9994 - val_loss: 0.0949 - val_accuracy: 0.9800\n",
      "Epoch 18/100\n",
      "469/469 [==============================] - 3s 6ms/step - loss: 0.0016 - accuracy: 0.9997 - val_loss: 0.0926 - val_accuracy: 0.9814\n",
      "Epoch 19/100\n",
      "469/469 [==============================] - 3s 5ms/step - loss: 9.3722e-04 - accuracy: 0.9998 - val_loss: 0.0946 - val_accuracy: 0.9815\n",
      "Epoch 20/100\n",
      "469/469 [==============================] - 3s 6ms/step - loss: 0.0012 - accuracy: 0.9997 - val_loss: 0.0995 - val_accuracy: 0.9823\n",
      "Epoch 21/100\n",
      "469/469 [==============================] - 2s 5ms/step - loss: 8.5581e-04 - accuracy: 0.9998 - val_loss: 0.1075 - val_accuracy: 0.9813\n",
      "Epoch 22/100\n",
      "469/469 [==============================] - 3s 6ms/step - loss: 6.2116e-04 - accuracy: 0.9997 - val_loss: 0.1040 - val_accuracy: 0.9817\n",
      "Epoch 23/100\n",
      "469/469 [==============================] - 4s 8ms/step - loss: 6.8447e-04 - accuracy: 0.9999 - val_loss: 0.1074 - val_accuracy: 0.9822\n",
      "Epoch 24/100\n",
      "469/469 [==============================] - 4s 8ms/step - loss: 4.7686e-04 - accuracy: 0.9999 - val_loss: 0.1098 - val_accuracy: 0.9826\n",
      "Epoch 25/100\n",
      "469/469 [==============================] - 3s 7ms/step - loss: 3.4761e-04 - accuracy: 0.9999 - val_loss: 0.1107 - val_accuracy: 0.9823\n",
      "Epoch 26/100\n",
      "469/469 [==============================] - 2s 5ms/step - loss: 2.5301e-04 - accuracy: 0.9999 - val_loss: 0.1121 - val_accuracy: 0.9827\n",
      "Epoch 27/100\n",
      "469/469 [==============================] - 3s 6ms/step - loss: 1.7799e-04 - accuracy: 1.0000 - val_loss: 0.1138 - val_accuracy: 0.9824\n",
      "Epoch 28/100\n",
      "469/469 [==============================] - 3s 7ms/step - loss: 2.0578e-04 - accuracy: 0.9999 - val_loss: 0.1150 - val_accuracy: 0.9826\n",
      "Epoch 29/100\n",
      "469/469 [==============================] - 5s 12ms/step - loss: 1.7952e-04 - accuracy: 1.0000 - val_loss: 0.1204 - val_accuracy: 0.9821\n",
      "Epoch 30/100\n",
      "469/469 [==============================] - 4s 8ms/step - loss: 1.1094e-04 - accuracy: 1.0000 - val_loss: 0.1242 - val_accuracy: 0.9838\n",
      "Epoch 31/100\n",
      "469/469 [==============================] - 3s 6ms/step - loss: 5.1898e-05 - accuracy: 1.0000 - val_loss: 0.1295 - val_accuracy: 0.9817\n",
      "Epoch 32/100\n",
      "469/469 [==============================] - 3s 5ms/step - loss: 1.4362e-04 - accuracy: 0.9999 - val_loss: 0.1264 - val_accuracy: 0.9815\n",
      "Epoch 33/100\n",
      "469/469 [==============================] - 2s 5ms/step - loss: 5.6536e-05 - accuracy: 1.0000 - val_loss: 0.1234 - val_accuracy: 0.9826\n",
      "Epoch 34/100\n",
      "469/469 [==============================] - 2s 5ms/step - loss: 1.6606e-04 - accuracy: 0.9999 - val_loss: 0.1320 - val_accuracy: 0.9819\n",
      "Epoch 35/100\n",
      "469/469 [==============================] - 3s 6ms/step - loss: 1.3218e-05 - accuracy: 1.0000 - val_loss: 0.1413 - val_accuracy: 0.9812\n",
      "Epoch 36/100\n",
      "469/469 [==============================] - 3s 5ms/step - loss: 5.5205e-05 - accuracy: 1.0000 - val_loss: 0.1499 - val_accuracy: 0.9813\n",
      "Epoch 37/100\n",
      "469/469 [==============================] - 5s 11ms/step - loss: 3.8086e-05 - accuracy: 1.0000 - val_loss: 0.1405 - val_accuracy: 0.9823\n",
      "Epoch 38/100\n",
      "469/469 [==============================] - 3s 6ms/step - loss: 9.4706e-06 - accuracy: 1.0000 - val_loss: 0.1381 - val_accuracy: 0.9837\n",
      "Epoch 39/100\n",
      "469/469 [==============================] - 6s 12ms/step - loss: 3.6182e-06 - accuracy: 1.0000 - val_loss: 0.1401 - val_accuracy: 0.9836\n",
      "Epoch 40/100\n",
      "469/469 [==============================] - 4s 8ms/step - loss: 3.8087e-06 - accuracy: 1.0000 - val_loss: 0.1431 - val_accuracy: 0.9832\n",
      "Epoch 41/100\n",
      "469/469 [==============================] - 4s 8ms/step - loss: 3.8756e-05 - accuracy: 1.0000 - val_loss: 0.1475 - val_accuracy: 0.9829\n",
      "Epoch 42/100\n",
      "469/469 [==============================] - 3s 5ms/step - loss: 4.4398e-06 - accuracy: 1.0000 - val_loss: 0.1412 - val_accuracy: 0.9833\n",
      "Epoch 43/100\n",
      "469/469 [==============================] - 2s 5ms/step - loss: 7.2931e-08 - accuracy: 1.0000 - val_loss: 0.1411 - val_accuracy: 0.9829\n",
      "Epoch 44/100\n",
      "469/469 [==============================] - 3s 6ms/step - loss: 2.6860e-07 - accuracy: 1.0000 - val_loss: 0.1404 - val_accuracy: 0.9837\n",
      "Epoch 45/100\n",
      "469/469 [==============================] - 3s 6ms/step - loss: 2.3913e-08 - accuracy: 1.0000 - val_loss: 0.1420 - val_accuracy: 0.9841\n",
      "Epoch 46/100\n",
      "469/469 [==============================] - 3s 7ms/step - loss: 2.0180e-08 - accuracy: 1.0000 - val_loss: 0.1433 - val_accuracy: 0.9838\n",
      "Epoch 47/100\n",
      "469/469 [==============================] - 3s 6ms/step - loss: 1.8084e-08 - accuracy: 1.0000 - val_loss: 0.1433 - val_accuracy: 0.9836\n",
      "Epoch 48/100\n",
      "469/469 [==============================] - 3s 6ms/step - loss: 1.6294e-08 - accuracy: 1.0000 - val_loss: 0.1436 - val_accuracy: 0.9836\n",
      "Epoch 49/100\n",
      "469/469 [==============================] - 3s 7ms/step - loss: 1.5104e-08 - accuracy: 1.0000 - val_loss: 0.1441 - val_accuracy: 0.9836\n",
      "Epoch 50/100\n",
      "469/469 [==============================] - 4s 8ms/step - loss: 1.4112e-08 - accuracy: 1.0000 - val_loss: 0.1446 - val_accuracy: 0.9835\n",
      "Epoch 51/100\n",
      "469/469 [==============================] - 3s 6ms/step - loss: 1.3103e-08 - accuracy: 1.0000 - val_loss: 0.1450 - val_accuracy: 0.9837\n",
      "Epoch 52/100\n",
      "469/469 [==============================] - 3s 7ms/step - loss: 1.2469e-08 - accuracy: 1.0000 - val_loss: 0.1456 - val_accuracy: 0.9835\n",
      "Epoch 53/100\n",
      "469/469 [==============================] - 3s 6ms/step - loss: 1.1816e-08 - accuracy: 1.0000 - val_loss: 0.1458 - val_accuracy: 0.9835\n",
      "Epoch 54/100\n",
      "469/469 [==============================] - 3s 6ms/step - loss: 1.1226e-08 - accuracy: 1.0000 - val_loss: 0.1463 - val_accuracy: 0.9834\n",
      "Epoch 55/100\n",
      "469/469 [==============================] - 3s 6ms/step - loss: 1.0771e-08 - accuracy: 1.0000 - val_loss: 0.1466 - val_accuracy: 0.9833\n",
      "Epoch 56/100\n",
      "469/469 [==============================] - 3s 7ms/step - loss: 1.0238e-08 - accuracy: 1.0000 - val_loss: 0.1470 - val_accuracy: 0.9835\n"
     ]
    },
    {
     "name": "stdout",
     "output_type": "stream",
     "text": [
      "Epoch 57/100\n",
      "469/469 [==============================] - 3s 7ms/step - loss: 9.8805e-09 - accuracy: 1.0000 - val_loss: 0.1475 - val_accuracy: 0.9834\n",
      "Epoch 58/100\n",
      "469/469 [==============================] - 3s 6ms/step - loss: 9.5427e-09 - accuracy: 1.0000 - val_loss: 0.1477 - val_accuracy: 0.9836\n",
      "Epoch 59/100\n",
      "469/469 [==============================] - 3s 6ms/step - loss: 9.2626e-09 - accuracy: 1.0000 - val_loss: 0.1478 - val_accuracy: 0.9836\n",
      "Epoch 60/100\n",
      "469/469 [==============================] - 4s 8ms/step - loss: 8.8950e-09 - accuracy: 1.0000 - val_loss: 0.1481 - val_accuracy: 0.9836\n",
      "Epoch 61/100\n",
      "469/469 [==============================] - 3s 6ms/step - loss: 8.6288e-09 - accuracy: 1.0000 - val_loss: 0.1485 - val_accuracy: 0.9832\n",
      "Epoch 62/100\n",
      "469/469 [==============================] - 3s 6ms/step - loss: 8.4579e-09 - accuracy: 1.0000 - val_loss: 0.1490 - val_accuracy: 0.9833\n",
      "Epoch 63/100\n",
      "469/469 [==============================] - 3s 7ms/step - loss: 8.1778e-09 - accuracy: 1.0000 - val_loss: 0.1491 - val_accuracy: 0.9833\n",
      "Epoch 64/100\n",
      "469/469 [==============================] - 5s 10ms/step - loss: 7.9612e-09 - accuracy: 1.0000 - val_loss: 0.1492 - val_accuracy: 0.9834\n",
      "Epoch 65/100\n",
      "469/469 [==============================] - 4s 8ms/step - loss: 7.8042e-09 - accuracy: 1.0000 - val_loss: 0.1497 - val_accuracy: 0.9833\n",
      "Epoch 66/100\n",
      "469/469 [==============================] - 3s 5ms/step - loss: 7.6075e-09 - accuracy: 1.0000 - val_loss: 0.1499 - val_accuracy: 0.9833\n",
      "Epoch 67/100\n",
      "469/469 [==============================] - 3s 6ms/step - loss: 7.4148e-09 - accuracy: 1.0000 - val_loss: 0.1501 - val_accuracy: 0.9831\n",
      "Epoch 68/100\n",
      "469/469 [==============================] - 3s 6ms/step - loss: 7.2837e-09 - accuracy: 1.0000 - val_loss: 0.1502 - val_accuracy: 0.9832\n",
      "Epoch 69/100\n",
      "469/469 [==============================] - 3s 6ms/step - loss: 7.0830e-09 - accuracy: 1.0000 - val_loss: 0.1506 - val_accuracy: 0.9830\n",
      "Epoch 70/100\n",
      "469/469 [==============================] - 3s 7ms/step - loss: 7.0155e-09 - accuracy: 1.0000 - val_loss: 0.1507 - val_accuracy: 0.9831\n",
      "Epoch 71/100\n",
      "469/469 [==============================] - 3s 7ms/step - loss: 6.8347e-09 - accuracy: 1.0000 - val_loss: 0.1508 - val_accuracy: 0.9830\n",
      "Epoch 72/100\n",
      "469/469 [==============================] - 3s 6ms/step - loss: 6.7274e-09 - accuracy: 1.0000 - val_loss: 0.1510 - val_accuracy: 0.9831\n",
      "Epoch 73/100\n",
      "469/469 [==============================] - 3s 6ms/step - loss: 6.6161e-09 - accuracy: 1.0000 - val_loss: 0.1512 - val_accuracy: 0.9832\n",
      "Epoch 74/100\n",
      "469/469 [==============================] - 3s 6ms/step - loss: 6.4393e-09 - accuracy: 1.0000 - val_loss: 0.1514 - val_accuracy: 0.9830\n",
      "Epoch 75/100\n",
      "469/469 [==============================] - 3s 6ms/step - loss: 6.3936e-09 - accuracy: 1.0000 - val_loss: 0.1518 - val_accuracy: 0.9831\n",
      "Epoch 76/100\n",
      "469/469 [==============================] - 3s 6ms/step - loss: 6.2346e-09 - accuracy: 1.0000 - val_loss: 0.1520 - val_accuracy: 0.9828\n",
      "Epoch 77/100\n",
      "469/469 [==============================] - 3s 6ms/step - loss: 6.1572e-09 - accuracy: 1.0000 - val_loss: 0.1521 - val_accuracy: 0.9829\n",
      "Epoch 78/100\n",
      "469/469 [==============================] - 2s 5ms/step - loss: 6.0221e-09 - accuracy: 1.0000 - val_loss: 0.1523 - val_accuracy: 0.9830\n",
      "Epoch 79/100\n",
      "469/469 [==============================] - 3s 6ms/step - loss: 5.9764e-09 - accuracy: 1.0000 - val_loss: 0.1526 - val_accuracy: 0.9830\n",
      "Epoch 80/100\n",
      "469/469 [==============================] - 3s 7ms/step - loss: 5.8830e-09 - accuracy: 1.0000 - val_loss: 0.1528 - val_accuracy: 0.9830\n",
      "Epoch 81/100\n",
      "469/469 [==============================] - 3s 6ms/step - loss: 5.8293e-09 - accuracy: 1.0000 - val_loss: 0.1530 - val_accuracy: 0.9830\n",
      "Epoch 82/100\n",
      "469/469 [==============================] - 3s 6ms/step - loss: 5.7518e-09 - accuracy: 1.0000 - val_loss: 0.1530 - val_accuracy: 0.9832\n",
      "Epoch 83/100\n",
      "469/469 [==============================] - 3s 6ms/step - loss: 5.6803e-09 - accuracy: 1.0000 - val_loss: 0.1534 - val_accuracy: 0.9829\n",
      "Epoch 84/100\n",
      "469/469 [==============================] - 3s 6ms/step - loss: 5.6187e-09 - accuracy: 1.0000 - val_loss: 0.1536 - val_accuracy: 0.9828\n",
      "Epoch 85/100\n",
      "469/469 [==============================] - 3s 5ms/step - loss: 5.5273e-09 - accuracy: 1.0000 - val_loss: 0.1536 - val_accuracy: 0.9830\n",
      "Epoch 86/100\n",
      "469/469 [==============================] - 3s 6ms/step - loss: 5.5194e-09 - accuracy: 1.0000 - val_loss: 0.1539 - val_accuracy: 0.9828\n",
      "Epoch 87/100\n",
      "469/469 [==============================] - 3s 6ms/step - loss: 5.4618e-09 - accuracy: 1.0000 - val_loss: 0.1540 - val_accuracy: 0.9828\n",
      "Epoch 88/100\n",
      "469/469 [==============================] - 3s 6ms/step - loss: 5.3604e-09 - accuracy: 1.0000 - val_loss: 0.1543 - val_accuracy: 0.9829\n",
      "Epoch 89/100\n",
      "469/469 [==============================] - 3s 6ms/step - loss: 5.3207e-09 - accuracy: 1.0000 - val_loss: 0.1544 - val_accuracy: 0.9828\n",
      "Epoch 90/100\n",
      "469/469 [==============================] - 2s 5ms/step - loss: 5.3386e-09 - accuracy: 1.0000 - val_loss: 0.1545 - val_accuracy: 0.9828\n",
      "Epoch 91/100\n",
      "469/469 [==============================] - 2s 5ms/step - loss: 5.2810e-09 - accuracy: 1.0000 - val_loss: 0.1548 - val_accuracy: 0.9827\n",
      "Epoch 92/100\n",
      "469/469 [==============================] - 2s 5ms/step - loss: 5.1995e-09 - accuracy: 1.0000 - val_loss: 0.1551 - val_accuracy: 0.9827\n",
      "Epoch 93/100\n",
      "469/469 [==============================] - 3s 5ms/step - loss: 5.1439e-09 - accuracy: 1.0000 - val_loss: 0.1551 - val_accuracy: 0.9828\n",
      "Epoch 94/100\n",
      "469/469 [==============================] - 3s 6ms/step - loss: 5.1459e-09 - accuracy: 1.0000 - val_loss: 0.1553 - val_accuracy: 0.9826\n",
      "Epoch 95/100\n",
      "469/469 [==============================] - 3s 6ms/step - loss: 5.0525e-09 - accuracy: 1.0000 - val_loss: 0.1553 - val_accuracy: 0.9829\n",
      "Epoch 96/100\n",
      "469/469 [==============================] - 3s 6ms/step - loss: 5.0624e-09 - accuracy: 1.0000 - val_loss: 0.1556 - val_accuracy: 0.9828\n",
      "Epoch 97/100\n",
      "469/469 [==============================] - 2s 5ms/step - loss: 4.9790e-09 - accuracy: 1.0000 - val_loss: 0.1558 - val_accuracy: 0.9828\n",
      "Epoch 98/100\n",
      "469/469 [==============================] - 2s 5ms/step - loss: 4.9849e-09 - accuracy: 1.0000 - val_loss: 0.1560 - val_accuracy: 0.9827\n",
      "Epoch 99/100\n",
      "469/469 [==============================] - 2s 5ms/step - loss: 4.9531e-09 - accuracy: 1.0000 - val_loss: 0.1562 - val_accuracy: 0.9828\n",
      "Epoch 100/100\n",
      "469/469 [==============================] - 2s 5ms/step - loss: 4.8916e-09 - accuracy: 1.0000 - val_loss: 0.1563 - val_accuracy: 0.9828\n",
      "313/313 [==============================] - 0s 912us/step - loss: 0.1563 - accuracy: 0.9828\n",
      "정확도: 0.9828, 손실: 0.1563\n"
     ]
    }
   ],
   "source": [
    "from tensorflow.keras.models import Sequential\n",
    "from tensorflow.keras.layers import Dense\n",
    "import tensorflow as tf\n",
    "\n",
    "tf.random.set_seed(3)\n",
    "\n",
    "# (1) 모델 설정\n",
    "# 2개의 층으로 구성된 모델 \n",
    "# 첫 번째 층 : 입력 : 28*28=784, 출력 : 512\n",
    "# 두 번째 층 : (입력 512), 출력 : 10\n",
    "\n",
    "# 활성화 함수 : activation= 'softmax' : 다중 분류 \n",
    "# 출력층 출력값 수 : 10\n",
    "model = Sequential()\n",
    "model.add(Dense(512, input_shape=(784,), activation='relu'))\n",
    "model.add(Dense(10, activation='softmax'))\n",
    "\n",
    "# (2) 컴파일\n",
    "# 다중분류 : loss='categorical_crossentropy'\n",
    "# 최적화 : optimizer='rmsprop'\n",
    "# 평가방법 :  metrics='accuracy'\n",
    "# 레이블 인코딩 안하고 정수 그대로 쓸거니까 sparse_categorical_crossentropy\n",
    "model.compile(loss='sparse_categorical_crossentropy', \n",
    "              optimizer='rmsprop', metrics=['accuracy'])\n",
    "\n",
    "# (3) 모델 학습 (실행)\n",
    "# epochs=100\n",
    "# batch_size=128\n",
    "epochs = 100\n",
    "batch_size = 128\n",
    "\n",
    "history = model.fit(X_train2, y_train, \n",
    "                    epochs=epochs, batch_size=batch_size,\n",
    "                    validation_data=(X_test2, y_test))\n",
    "# 학습 과정 결과를 history 객체에 저장\n",
    "# validation_data 지정해야 함\n",
    "\n",
    "# (4) 모델 평가 (결과 출력)\n",
    "loss, accuracy = model.evaluate(X_test2, y_test)\n",
    "\n",
    "print(f'정확도: {accuracy:.4f}, 손실: {loss:.4f}')\n"
   ]
  },
  {
   "cell_type": "code",
   "execution_count": null,
   "metadata": {},
   "outputs": [],
   "source": [
    "# accuracy와 loss 확인\n",
    "plt. figure(figsize=(18, 6))\n",
    "\n",
    "# 정확도\n",
    "plt.subplot(1, 2, 1)\n",
    "plt.plot(history.history['accuracy'], label='accuracy')\n",
    "plt.plot(history.history['val_accuracy'], label='val_accuracy')\n",
    "plt.title('accuracy')\n",
    "plt.legend()\n",
    "\n",
    "# 손실률\n",
    "plt.subplot(1, 2, 2)\n",
    "plt.plot(history.history['loss'], label='loss')\n",
    "plt.plot(history.history['val_loss'], label='val_loss')\n",
    "plt.title('loss')\n",
    "plt.legend()\n",
    "\n",
    "plt.show()"
   ]
  },
  {
   "cell_type": "code",
   "execution_count": null,
   "metadata": {},
   "outputs": [],
   "source": [
    "########################################################################"
   ]
  },
  {
   "cell_type": "markdown",
   "metadata": {},
   "source": [
    "### Earyl Stopping 적용"
   ]
  },
  {
   "cell_type": "code",
   "execution_count": 11,
   "metadata": {
    "scrolled": true
   },
   "outputs": [
    {
     "name": "stdout",
     "output_type": "stream",
     "text": [
      "Epoch 1/100\n",
      "469/469 [==============================] - 3s 6ms/step - loss: 0.2561 - accuracy: 0.9269 - val_loss: 0.1209 - val_accuracy: 0.9633\n",
      "Epoch 2/100\n",
      "469/469 [==============================] - 3s 6ms/step - loss: 0.1029 - accuracy: 0.9698 - val_loss: 0.0932 - val_accuracy: 0.9719\n",
      "Epoch 3/100\n",
      "469/469 [==============================] - 3s 6ms/step - loss: 0.0673 - accuracy: 0.9795 - val_loss: 0.0899 - val_accuracy: 0.9717\n",
      "Epoch 4/100\n",
      "469/469 [==============================] - 3s 6ms/step - loss: 0.0490 - accuracy: 0.9853 - val_loss: 0.0708 - val_accuracy: 0.9769\n",
      "Epoch 5/100\n",
      "469/469 [==============================] - 3s 6ms/step - loss: 0.0369 - accuracy: 0.9895 - val_loss: 0.0669 - val_accuracy: 0.9813\n",
      "Epoch 6/100\n",
      "469/469 [==============================] - 3s 6ms/step - loss: 0.0283 - accuracy: 0.9913 - val_loss: 0.0664 - val_accuracy: 0.9807\n",
      "Epoch 7/100\n",
      "469/469 [==============================] - 3s 6ms/step - loss: 0.0218 - accuracy: 0.9934 - val_loss: 0.0688 - val_accuracy: 0.9809\n",
      "Epoch 8/100\n",
      "469/469 [==============================] - 2s 5ms/step - loss: 0.0169 - accuracy: 0.9950 - val_loss: 0.0688 - val_accuracy: 0.9812\n",
      "313/313 [==============================] - 0s 872us/step - loss: 0.0664 - accuracy: 0.9807\n",
      "정확도: 0.9807, 손실: 0.0664\n"
     ]
    }
   ],
   "source": [
    "from tensorflow.keras.models import Sequential\n",
    "from tensorflow.keras.layers import Dense\n",
    "import tensorflow as tf\n",
    "from keras.callbacks import EarlyStopping\n",
    "\n",
    "tf.random.set_seed(3)\n",
    "\n",
    "# (1) 모델 설정\n",
    "# 2개의 층으로 구성된 모델 \n",
    "# 첫 번째 층 : 입력 : 28*28=784, 출력 : 512\n",
    "# 두 번째 층 : (입력 512), 출력 : 10\n",
    "model = Sequential()\n",
    "model.add(Dense(512, input_shape=(784,), activation='relu'))\n",
    "model.add(Dense(10, activation='softmax'))\n",
    "\n",
    "# (2) 컴파일\n",
    "# 레이블 인코딩 안하고 정수 그대로 쓸거니까 sparse_categorical_crossentropy\n",
    "model.compile(loss='sparse_categorical_crossentropy', \n",
    "              optimizer='rmsprop', metrics=['accuracy'])\n",
    "\n",
    "\n",
    "# Early Stopping적용\n",
    "# patience : 개선이 안되더라도 바로 종료시키지 않고, 2개 더 에포크 진행\n",
    "early_stopping_callback = EarlyStopping(patience=2, restore_best_weights=True)\n",
    "\n",
    "# (3) 모델 학습 (실행)\n",
    "epochs = 100\n",
    "batch_size = 128\n",
    "\n",
    "history = model.fit(X_train2, y_train, \n",
    "                    epochs=epochs, batch_size=batch_size,\n",
    "                    validation_data=(X_test2, y_test),\n",
    "                    callbacks=[early_stopping_callback])\n",
    "\n",
    "\n",
    "# (4) 모델 평가 (결과 출력)\n",
    "loss, accuracy = model.evaluate(X_test2, y_test)\n",
    "\n",
    "print(f'정확도: {accuracy:.4f}, 손실: {loss:.4f}')\n"
   ]
  },
  {
   "cell_type": "code",
   "execution_count": 12,
   "metadata": {},
   "outputs": [
    {
     "data": {
      "text/plain": [
       "<Figure size 1800x600 with 0 Axes>"
      ]
     },
     "execution_count": 12,
     "metadata": {},
     "output_type": "execute_result"
    },
    {
     "data": {
      "text/plain": [
       "<Axes: >"
      ]
     },
     "execution_count": 12,
     "metadata": {},
     "output_type": "execute_result"
    },
    {
     "data": {
      "text/plain": [
       "[<matplotlib.lines.Line2D at 0x28b6ba0b0>]"
      ]
     },
     "execution_count": 12,
     "metadata": {},
     "output_type": "execute_result"
    },
    {
     "data": {
      "text/plain": [
       "[<matplotlib.lines.Line2D at 0x28b6ba380>]"
      ]
     },
     "execution_count": 12,
     "metadata": {},
     "output_type": "execute_result"
    },
    {
     "data": {
      "text/plain": [
       "Text(0.5, 1.0, 'accuracy')"
      ]
     },
     "execution_count": 12,
     "metadata": {},
     "output_type": "execute_result"
    },
    {
     "data": {
      "text/plain": [
       "<matplotlib.legend.Legend at 0x28b669810>"
      ]
     },
     "execution_count": 12,
     "metadata": {},
     "output_type": "execute_result"
    },
    {
     "data": {
      "text/plain": [
       "<Axes: >"
      ]
     },
     "execution_count": 12,
     "metadata": {},
     "output_type": "execute_result"
    },
    {
     "data": {
      "text/plain": [
       "[<matplotlib.lines.Line2D at 0x28b6bb760>]"
      ]
     },
     "execution_count": 12,
     "metadata": {},
     "output_type": "execute_result"
    },
    {
     "data": {
      "text/plain": [
       "[<matplotlib.lines.Line2D at 0x288cbc5b0>]"
      ]
     },
     "execution_count": 12,
     "metadata": {},
     "output_type": "execute_result"
    },
    {
     "data": {
      "text/plain": [
       "Text(0.5, 1.0, 'loss')"
      ]
     },
     "execution_count": 12,
     "metadata": {},
     "output_type": "execute_result"
    },
    {
     "data": {
      "text/plain": [
       "<matplotlib.legend.Legend at 0x288c93250>"
      ]
     },
     "execution_count": 12,
     "metadata": {},
     "output_type": "execute_result"
    },
    {
     "data": {
      "image/png": "[encoded data removed]",
      "text/plain": [
       "<Figure size 1800x600 with 2 Axes>"
      ]
     },
     "metadata": {},
     "output_type": "display_data"
    }
   ],
   "source": [
    "# accuracy와 loss 확인\n",
    "plt. figure(figsize=(18, 6))\n",
    "\n",
    "# 정확도\n",
    "plt.subplot(1, 2, 1)\n",
    "plt.plot(history.history['accuracy'], label='accuracy')\n",
    "plt.plot(history.history['val_accuracy'], label='val_accuracy')\n",
    "plt.title('accuracy')\n",
    "plt.legend()\n",
    "\n",
    "# 손실률\n",
    "plt.subplot(1, 2, 2)\n",
    "plt.plot(history.history['loss'], label='loss')\n",
    "plt.plot(history.history['val_loss'], label='val_loss')\n",
    "plt.title('loss')\n",
    "plt.legend()\n",
    "\n",
    "plt.show()"
   ]
  },
  {
   "cell_type": "code",
   "execution_count": null,
   "metadata": {},
   "outputs": [],
   "source": [
    "###########################################################################"
   ]
  },
  {
   "cell_type": "markdown",
   "metadata": {},
   "source": [
    "### Drop Out 적용 "
   ]
  },
  {
   "cell_type": "markdown",
   "metadata": {},
   "source": [
    "## 드롭아웃\n",
    "\n",
    "- 훈련 과정에서 층에 있는 일부 뉴런을 랜덤하게 끔(출력을 0으로 만듬)으로써 \n",
    "- 일반화 시켜 과대적합을 막는 방법\n",
    "- 샘플들마다 다른(랜덤하게) 뉴런을 끔\n",
    "- 특정 뉴런에 과대하게 의존하는 것을 줄일 수 있으므로 모든 입력에 주의를 기울이게 됨\n",
    "- keras.layers.Dropout(뉴런 비율:0-1)\n",
    "  - 규제를 위한 층 : 파라미터인 뉴런비율은 0.3 기본값\n",
    "  \n",
    "- 모델의 훈련이 끝나고 예측 평가를 진행할 때는 drop-out을 적용하지 말아야 함\n",
    "    - 그래야 훈련된 모든 뉴런을 이용해 예측을 진행 할 수 있음\n",
    "    - 케라스는 예측 평가시(evaluation)에서 drop-out을 자동으로 적용시키지 않는다\n",
    "        - evaluation은 predict에 해당됨(test 데이터로 사용) "
   ]
  },
  {
   "cell_type": "markdown",
   "metadata": {},
   "source": [
    "### Dropout만 적용한 경우 "
   ]
  },
  {
   "cell_type": "code",
   "execution_count": 13,
   "metadata": {},
   "outputs": [
    {
     "name": "stdout",
     "output_type": "stream",
     "text": [
      "Epoch 1/100\n",
      "469/469 [==============================] - 3s 6ms/step - loss: 0.2857 - accuracy: 0.9165 - val_loss: 0.1283 - val_accuracy: 0.9624\n",
      "Epoch 2/100\n",
      "469/469 [==============================] - 3s 6ms/step - loss: 0.1248 - accuracy: 0.9624 - val_loss: 0.0934 - val_accuracy: 0.9717\n",
      "Epoch 3/100\n",
      "469/469 [==============================] - 3s 6ms/step - loss: 0.0890 - accuracy: 0.9733 - val_loss: 0.0910 - val_accuracy: 0.9728\n",
      "Epoch 4/100\n",
      "469/469 [==============================] - 3s 6ms/step - loss: 0.0723 - accuracy: 0.9781 - val_loss: 0.0704 - val_accuracy: 0.9782\n",
      "Epoch 5/100\n",
      "469/469 [==============================] - 3s 6ms/step - loss: 0.0613 - accuracy: 0.9811 - val_loss: 0.0712 - val_accuracy: 0.9798\n",
      "Epoch 6/100\n",
      "469/469 [==============================] - 3s 5ms/step - loss: 0.0523 - accuracy: 0.9840 - val_loss: 0.0670 - val_accuracy: 0.9801\n",
      "Epoch 7/100\n",
      "469/469 [==============================] - 3s 6ms/step - loss: 0.0459 - accuracy: 0.9858 - val_loss: 0.0677 - val_accuracy: 0.9813\n",
      "Epoch 8/100\n",
      "469/469 [==============================] - 3s 5ms/step - loss: 0.0412 - accuracy: 0.9875 - val_loss: 0.0644 - val_accuracy: 0.9816\n",
      "Epoch 9/100\n",
      "469/469 [==============================] - 3s 5ms/step - loss: 0.0360 - accuracy: 0.9888 - val_loss: 0.0726 - val_accuracy: 0.9819\n",
      "Epoch 10/100\n",
      "469/469 [==============================] - 3s 6ms/step - loss: 0.0320 - accuracy: 0.9896 - val_loss: 0.0622 - val_accuracy: 0.9838\n",
      "Epoch 11/100\n",
      "469/469 [==============================] - 3s 7ms/step - loss: 0.0299 - accuracy: 0.9908 - val_loss: 0.0676 - val_accuracy: 0.9829\n",
      "Epoch 12/100\n",
      "469/469 [==============================] - 3s 6ms/step - loss: 0.0275 - accuracy: 0.9915 - val_loss: 0.0698 - val_accuracy: 0.9826\n",
      "Epoch 13/100\n",
      "469/469 [==============================] - 3s 6ms/step - loss: 0.0253 - accuracy: 0.9922 - val_loss: 0.0681 - val_accuracy: 0.9825\n",
      "Epoch 14/100\n",
      "469/469 [==============================] - 3s 6ms/step - loss: 0.0220 - accuracy: 0.9930 - val_loss: 0.0754 - val_accuracy: 0.9821\n",
      "Epoch 15/100\n",
      "469/469 [==============================] - 3s 6ms/step - loss: 0.0206 - accuracy: 0.9938 - val_loss: 0.0708 - val_accuracy: 0.9831\n",
      "Epoch 16/100\n",
      "469/469 [==============================] - 3s 5ms/step - loss: 0.0188 - accuracy: 0.9938 - val_loss: 0.0720 - val_accuracy: 0.9839\n",
      "Epoch 17/100\n",
      "469/469 [==============================] - 3s 6ms/step - loss: 0.0188 - accuracy: 0.9942 - val_loss: 0.0710 - val_accuracy: 0.9840\n",
      "Epoch 18/100\n",
      "469/469 [==============================] - 3s 6ms/step - loss: 0.0163 - accuracy: 0.9948 - val_loss: 0.0748 - val_accuracy: 0.9832\n",
      "Epoch 19/100\n",
      "469/469 [==============================] - 3s 6ms/step - loss: 0.0146 - accuracy: 0.9952 - val_loss: 0.0775 - val_accuracy: 0.9836\n",
      "Epoch 20/100\n",
      "469/469 [==============================] - 3s 6ms/step - loss: 0.0142 - accuracy: 0.9952 - val_loss: 0.0825 - val_accuracy: 0.9830\n",
      "Epoch 21/100\n",
      "469/469 [==============================] - 3s 6ms/step - loss: 0.0141 - accuracy: 0.9956 - val_loss: 0.0809 - val_accuracy: 0.9837\n",
      "Epoch 22/100\n",
      "469/469 [==============================] - 3s 7ms/step - loss: 0.0132 - accuracy: 0.9959 - val_loss: 0.0836 - val_accuracy: 0.9822\n",
      "Epoch 23/100\n",
      "469/469 [==============================] - 3s 6ms/step - loss: 0.0120 - accuracy: 0.9962 - val_loss: 0.0767 - val_accuracy: 0.9836\n",
      "Epoch 24/100\n",
      "469/469 [==============================] - 3s 6ms/step - loss: 0.0113 - accuracy: 0.9965 - val_loss: 0.0815 - val_accuracy: 0.9841\n",
      "Epoch 25/100\n",
      "469/469 [==============================] - 3s 6ms/step - loss: 0.0118 - accuracy: 0.9965 - val_loss: 0.0824 - val_accuracy: 0.9828\n",
      "Epoch 26/100\n",
      "469/469 [==============================] - 3s 6ms/step - loss: 0.0107 - accuracy: 0.9967 - val_loss: 0.0822 - val_accuracy: 0.9838\n",
      "Epoch 27/100\n",
      "469/469 [==============================] - 3s 6ms/step - loss: 0.0096 - accuracy: 0.9969 - val_loss: 0.0913 - val_accuracy: 0.9831\n",
      "Epoch 28/100\n",
      "469/469 [==============================] - 3s 6ms/step - loss: 0.0094 - accuracy: 0.9968 - val_loss: 0.0918 - val_accuracy: 0.9826\n",
      "Epoch 29/100\n",
      "469/469 [==============================] - 3s 6ms/step - loss: 0.0094 - accuracy: 0.9969 - val_loss: 0.0853 - val_accuracy: 0.9841\n",
      "Epoch 30/100\n",
      "469/469 [==============================] - 3s 7ms/step - loss: 0.0096 - accuracy: 0.9969 - val_loss: 0.0903 - val_accuracy: 0.9835\n",
      "Epoch 31/100\n",
      "469/469 [==============================] - 3s 7ms/step - loss: 0.0079 - accuracy: 0.9973 - val_loss: 0.0917 - val_accuracy: 0.9828\n",
      "Epoch 32/100\n",
      "469/469 [==============================] - 3s 7ms/step - loss: 0.0090 - accuracy: 0.9972 - val_loss: 0.0889 - val_accuracy: 0.9840\n",
      "Epoch 33/100\n",
      "469/469 [==============================] - 4s 7ms/step - loss: 0.0083 - accuracy: 0.9973 - val_loss: 0.0917 - val_accuracy: 0.9847\n",
      "Epoch 34/100\n",
      "469/469 [==============================] - 3s 7ms/step - loss: 0.0072 - accuracy: 0.9977 - val_loss: 0.0913 - val_accuracy: 0.9833\n",
      "Epoch 35/100\n",
      "469/469 [==============================] - 3s 5ms/step - loss: 0.0068 - accuracy: 0.9977 - val_loss: 0.0945 - val_accuracy: 0.9850\n",
      "Epoch 36/100\n",
      "469/469 [==============================] - 3s 6ms/step - loss: 0.0076 - accuracy: 0.9975 - val_loss: 0.0920 - val_accuracy: 0.9848\n",
      "Epoch 37/100\n",
      "469/469 [==============================] - 3s 6ms/step - loss: 0.0068 - accuracy: 0.9978 - val_loss: 0.0950 - val_accuracy: 0.9850\n",
      "Epoch 38/100\n",
      "469/469 [==============================] - 3s 6ms/step - loss: 0.0068 - accuracy: 0.9977 - val_loss: 0.0941 - val_accuracy: 0.9846\n",
      "Epoch 39/100\n",
      "469/469 [==============================] - 3s 6ms/step - loss: 0.0066 - accuracy: 0.9979 - val_loss: 0.0963 - val_accuracy: 0.9844\n",
      "Epoch 40/100\n",
      "469/469 [==============================] - 3s 7ms/step - loss: 0.0059 - accuracy: 0.9980 - val_loss: 0.0992 - val_accuracy: 0.9849\n",
      "Epoch 41/100\n",
      "469/469 [==============================] - 3s 6ms/step - loss: 0.0056 - accuracy: 0.9980 - val_loss: 0.1062 - val_accuracy: 0.9842\n",
      "Epoch 42/100\n",
      "469/469 [==============================] - 3s 7ms/step - loss: 0.0060 - accuracy: 0.9983 - val_loss: 0.1036 - val_accuracy: 0.9839\n",
      "Epoch 43/100\n",
      "469/469 [==============================] - 3s 6ms/step - loss: 0.0054 - accuracy: 0.9984 - val_loss: 0.1057 - val_accuracy: 0.9839\n",
      "Epoch 44/100\n",
      "469/469 [==============================] - 3s 6ms/step - loss: 0.0060 - accuracy: 0.9982 - val_loss: 0.1025 - val_accuracy: 0.9831\n",
      "Epoch 45/100\n",
      "469/469 [==============================] - 3s 6ms/step - loss: 0.0051 - accuracy: 0.9983 - val_loss: 0.1096 - val_accuracy: 0.9841\n",
      "Epoch 46/100\n",
      "469/469 [==============================] - 3s 6ms/step - loss: 0.0056 - accuracy: 0.9981 - val_loss: 0.1079 - val_accuracy: 0.9854\n",
      "Epoch 47/100\n",
      "469/469 [==============================] - 3s 5ms/step - loss: 0.0049 - accuracy: 0.9984 - val_loss: 0.1068 - val_accuracy: 0.9836\n",
      "Epoch 48/100\n",
      "469/469 [==============================] - 3s 5ms/step - loss: 0.0060 - accuracy: 0.9982 - val_loss: 0.1086 - val_accuracy: 0.9851\n",
      "Epoch 49/100\n",
      "469/469 [==============================] - 3s 5ms/step - loss: 0.0056 - accuracy: 0.9981 - val_loss: 0.1033 - val_accuracy: 0.9856\n",
      "Epoch 50/100\n",
      "469/469 [==============================] - 3s 5ms/step - loss: 0.0047 - accuracy: 0.9986 - val_loss: 0.1141 - val_accuracy: 0.9844\n",
      "Epoch 51/100\n",
      "469/469 [==============================] - 3s 6ms/step - loss: 0.0044 - accuracy: 0.9987 - val_loss: 0.1086 - val_accuracy: 0.9847\n",
      "Epoch 52/100\n",
      "469/469 [==============================] - 3s 5ms/step - loss: 0.0059 - accuracy: 0.9981 - val_loss: 0.1136 - val_accuracy: 0.9830\n",
      "Epoch 53/100\n",
      "469/469 [==============================] - 2s 5ms/step - loss: 0.0041 - accuracy: 0.9987 - val_loss: 0.1148 - val_accuracy: 0.9842\n",
      "Epoch 54/100\n",
      "469/469 [==============================] - 3s 5ms/step - loss: 0.0047 - accuracy: 0.9986 - val_loss: 0.1138 - val_accuracy: 0.9845\n",
      "Epoch 55/100\n",
      "469/469 [==============================] - 2s 5ms/step - loss: 0.0057 - accuracy: 0.9983 - val_loss: 0.1169 - val_accuracy: 0.9845\n",
      "Epoch 56/100\n",
      "469/469 [==============================] - 3s 5ms/step - loss: 0.0037 - accuracy: 0.9988 - val_loss: 0.1184 - val_accuracy: 0.9841\n",
      "Epoch 57/100\n",
      "469/469 [==============================] - 3s 6ms/step - loss: 0.0045 - accuracy: 0.9985 - val_loss: 0.1199 - val_accuracy: 0.9847\n"
     ]
    },
    {
     "name": "stdout",
     "output_type": "stream",
     "text": [
      "Epoch 58/100\n",
      "469/469 [==============================] - 3s 5ms/step - loss: 0.0042 - accuracy: 0.9987 - val_loss: 0.1148 - val_accuracy: 0.9850\n",
      "Epoch 59/100\n",
      "469/469 [==============================] - 2s 5ms/step - loss: 0.0046 - accuracy: 0.9985 - val_loss: 0.1198 - val_accuracy: 0.9843\n",
      "Epoch 60/100\n",
      "469/469 [==============================] - 3s 5ms/step - loss: 0.0047 - accuracy: 0.9985 - val_loss: 0.1197 - val_accuracy: 0.9848\n",
      "Epoch 61/100\n",
      "469/469 [==============================] - 3s 5ms/step - loss: 0.0049 - accuracy: 0.9984 - val_loss: 0.1189 - val_accuracy: 0.9848\n",
      "Epoch 62/100\n",
      "469/469 [==============================] - 3s 6ms/step - loss: 0.0040 - accuracy: 0.9988 - val_loss: 0.1189 - val_accuracy: 0.9841\n",
      "Epoch 63/100\n",
      "469/469 [==============================] - 3s 6ms/step - loss: 0.0043 - accuracy: 0.9987 - val_loss: 0.1119 - val_accuracy: 0.9850\n",
      "Epoch 64/100\n",
      "469/469 [==============================] - 3s 5ms/step - loss: 0.0040 - accuracy: 0.9987 - val_loss: 0.1147 - val_accuracy: 0.9859\n",
      "Epoch 65/100\n",
      "469/469 [==============================] - 3s 6ms/step - loss: 0.0043 - accuracy: 0.9988 - val_loss: 0.1268 - val_accuracy: 0.9842\n",
      "Epoch 66/100\n",
      "469/469 [==============================] - 2s 5ms/step - loss: 0.0045 - accuracy: 0.9988 - val_loss: 0.1215 - val_accuracy: 0.9848\n",
      "Epoch 67/100\n",
      "469/469 [==============================] - 2s 5ms/step - loss: 0.0043 - accuracy: 0.9987 - val_loss: 0.1234 - val_accuracy: 0.9845\n",
      "Epoch 68/100\n",
      "469/469 [==============================] - 3s 6ms/step - loss: 0.0039 - accuracy: 0.9988 - val_loss: 0.1210 - val_accuracy: 0.9840\n",
      "Epoch 69/100\n",
      "469/469 [==============================] - 3s 5ms/step - loss: 0.0033 - accuracy: 0.9991 - val_loss: 0.1205 - val_accuracy: 0.9850\n",
      "Epoch 70/100\n",
      "469/469 [==============================] - 3s 5ms/step - loss: 0.0044 - accuracy: 0.9986 - val_loss: 0.1289 - val_accuracy: 0.9847\n",
      "Epoch 71/100\n",
      "469/469 [==============================] - 3s 6ms/step - loss: 0.0041 - accuracy: 0.9986 - val_loss: 0.1231 - val_accuracy: 0.9847\n",
      "Epoch 72/100\n",
      "469/469 [==============================] - 3s 5ms/step - loss: 0.0032 - accuracy: 0.9990 - val_loss: 0.1289 - val_accuracy: 0.9844\n",
      "Epoch 73/100\n",
      "469/469 [==============================] - 3s 6ms/step - loss: 0.0033 - accuracy: 0.9990 - val_loss: 0.1397 - val_accuracy: 0.9838\n",
      "Epoch 74/100\n",
      "469/469 [==============================] - 3s 6ms/step - loss: 0.0042 - accuracy: 0.9986 - val_loss: 0.1325 - val_accuracy: 0.9856\n",
      "Epoch 75/100\n",
      "469/469 [==============================] - 3s 6ms/step - loss: 0.0038 - accuracy: 0.9988 - val_loss: 0.1338 - val_accuracy: 0.9844\n",
      "Epoch 76/100\n",
      "469/469 [==============================] - 3s 6ms/step - loss: 0.0036 - accuracy: 0.9991 - val_loss: 0.1323 - val_accuracy: 0.9832\n",
      "Epoch 77/100\n",
      "469/469 [==============================] - 3s 5ms/step - loss: 0.0034 - accuracy: 0.9989 - val_loss: 0.1310 - val_accuracy: 0.9843\n",
      "Epoch 78/100\n",
      "469/469 [==============================] - 3s 6ms/step - loss: 0.0032 - accuracy: 0.9989 - val_loss: 0.1245 - val_accuracy: 0.9857\n",
      "Epoch 79/100\n",
      "469/469 [==============================] - 3s 6ms/step - loss: 0.0028 - accuracy: 0.9991 - val_loss: 0.1310 - val_accuracy: 0.9839\n",
      "Epoch 80/100\n",
      "469/469 [==============================] - 3s 5ms/step - loss: 0.0036 - accuracy: 0.9989 - val_loss: 0.1372 - val_accuracy: 0.9850\n",
      "Epoch 81/100\n",
      "469/469 [==============================] - 3s 6ms/step - loss: 0.0051 - accuracy: 0.9987 - val_loss: 0.1300 - val_accuracy: 0.9853\n",
      "Epoch 82/100\n",
      "469/469 [==============================] - 3s 5ms/step - loss: 0.0029 - accuracy: 0.9990 - val_loss: 0.1329 - val_accuracy: 0.9847\n",
      "Epoch 83/100\n",
      "469/469 [==============================] - 3s 6ms/step - loss: 0.0032 - accuracy: 0.9989 - val_loss: 0.1374 - val_accuracy: 0.9841\n",
      "Epoch 84/100\n",
      "469/469 [==============================] - 3s 6ms/step - loss: 0.0032 - accuracy: 0.9990 - val_loss: 0.1402 - val_accuracy: 0.9844\n",
      "Epoch 85/100\n",
      "469/469 [==============================] - 3s 7ms/step - loss: 0.0030 - accuracy: 0.9991 - val_loss: 0.1392 - val_accuracy: 0.9844\n",
      "Epoch 86/100\n",
      "469/469 [==============================] - 3s 6ms/step - loss: 0.0035 - accuracy: 0.9990 - val_loss: 0.1383 - val_accuracy: 0.9845\n",
      "Epoch 87/100\n",
      "469/469 [==============================] - 3s 6ms/step - loss: 0.0037 - accuracy: 0.9990 - val_loss: 0.1429 - val_accuracy: 0.9851\n",
      "Epoch 88/100\n",
      "469/469 [==============================] - 3s 6ms/step - loss: 0.0031 - accuracy: 0.9991 - val_loss: 0.1431 - val_accuracy: 0.9848\n",
      "Epoch 89/100\n",
      "469/469 [==============================] - 3s 6ms/step - loss: 0.0036 - accuracy: 0.9990 - val_loss: 0.1370 - val_accuracy: 0.9850\n",
      "Epoch 90/100\n",
      "469/469 [==============================] - 3s 6ms/step - loss: 0.0031 - accuracy: 0.9991 - val_loss: 0.1421 - val_accuracy: 0.9849\n",
      "Epoch 91/100\n",
      "469/469 [==============================] - 3s 6ms/step - loss: 0.0040 - accuracy: 0.9990 - val_loss: 0.1336 - val_accuracy: 0.9843\n",
      "Epoch 92/100\n",
      "469/469 [==============================] - 3s 6ms/step - loss: 0.0026 - accuracy: 0.9992 - val_loss: 0.1448 - val_accuracy: 0.9845\n",
      "Epoch 93/100\n",
      "469/469 [==============================] - 3s 6ms/step - loss: 0.0025 - accuracy: 0.9993 - val_loss: 0.1412 - val_accuracy: 0.9854\n",
      "Epoch 94/100\n",
      "469/469 [==============================] - 3s 7ms/step - loss: 0.0037 - accuracy: 0.9990 - val_loss: 0.1522 - val_accuracy: 0.9842\n",
      "Epoch 95/100\n",
      "469/469 [==============================] - 3s 6ms/step - loss: 0.0033 - accuracy: 0.9992 - val_loss: 0.1501 - val_accuracy: 0.9844\n",
      "Epoch 96/100\n",
      "469/469 [==============================] - 3s 6ms/step - loss: 0.0025 - accuracy: 0.9992 - val_loss: 0.1545 - val_accuracy: 0.9854\n",
      "Epoch 97/100\n",
      "469/469 [==============================] - 3s 6ms/step - loss: 0.0030 - accuracy: 0.9991 - val_loss: 0.1524 - val_accuracy: 0.9844\n",
      "Epoch 98/100\n",
      "469/469 [==============================] - 3s 6ms/step - loss: 0.0032 - accuracy: 0.9990 - val_loss: 0.1439 - val_accuracy: 0.9858\n",
      "Epoch 99/100\n",
      "469/469 [==============================] - 3s 7ms/step - loss: 0.0032 - accuracy: 0.9991 - val_loss: 0.1475 - val_accuracy: 0.9847\n",
      "Epoch 100/100\n",
      "469/469 [==============================] - 3s 6ms/step - loss: 0.0037 - accuracy: 0.9991 - val_loss: 0.1496 - val_accuracy: 0.9850\n",
      "313/313 [==============================] - 0s 1ms/step - loss: 0.1496 - accuracy: 0.9850\n",
      "정확도: 0.9850, 손실: 0.1496\n"
     ]
    }
   ],
   "source": [
    "\n",
    "from tensorflow.keras.models import Sequential\n",
    "from tensorflow.keras.layers import Dense, Dropout\n",
    "import tensorflow as tf\n",
    "from keras.callbacks import EarlyStopping\n",
    "\n",
    "tf.random.set_seed(3)\n",
    "\n",
    "# (1) 모델 설정\n",
    "# 2개의 층으로 구성된 모델 \n",
    "# 첫 번째 층 : 입력 : 28*28=784, 출력 : 512\n",
    "# 두 번째 층 : (입력 512), 출력 : 10\n",
    "\n",
    "# 활성화 함수 : activation= 'softmax' : 다중 분류 \n",
    "# 출력층 출력값 수 : 10\n",
    "model = Sequential()\n",
    "model.add(Dense(512, input_shape=(784,), activation='relu'))\n",
    "model.add(Dropout((0.3))) # 드롭아웃\n",
    "model.add(Dense(10, activation='softmax'))\n",
    "\n",
    "# (2) 컴파일\n",
    "\n",
    "# 레이블 인코딩 안하고 정수 그대로 쓸거니까 sparse_categorical_crossentropy\n",
    "model.compile(loss='sparse_categorical_crossentropy', \n",
    "              optimizer='rmsprop', metrics=['accuracy'])\n",
    "\n",
    "# (3) 모델 학습 (실행)\n",
    "epochs = 100\n",
    "batch_size = 128\n",
    "\n",
    "history = model.fit(X_train2, y_train, \n",
    "                    epochs=epochs, batch_size=batch_size,\n",
    "                    validation_data=(X_test2, y_test))\n",
    "\n",
    "\n",
    "# (4) 모델 평가 (결과 출력)\n",
    "loss, accuracy = model.evaluate(X_test2, y_test)\n",
    "\n",
    "print(f'정확도: {accuracy:.4f}, 손실: {loss:.4f}')\n"
   ]
  },
  {
   "cell_type": "code",
   "execution_count": 14,
   "metadata": {},
   "outputs": [
    {
     "data": {
      "text/plain": [
       "<Figure size 1800x600 with 0 Axes>"
      ]
     },
     "execution_count": 14,
     "metadata": {},
     "output_type": "execute_result"
    },
    {
     "data": {
      "text/plain": [
       "<Axes: >"
      ]
     },
     "execution_count": 14,
     "metadata": {},
     "output_type": "execute_result"
    },
    {
     "data": {
      "text/plain": [
       "[<matplotlib.lines.Line2D at 0x2a1d95f60>]"
      ]
     },
     "execution_count": 14,
     "metadata": {},
     "output_type": "execute_result"
    },
    {
     "data": {
      "text/plain": [
       "[<matplotlib.lines.Line2D at 0x2a1d96200>]"
      ]
     },
     "execution_count": 14,
     "metadata": {},
     "output_type": "execute_result"
    },
    {
     "data": {
      "text/plain": [
       "Text(0.5, 1.0, 'accuracy')"
      ]
     },
     "execution_count": 14,
     "metadata": {},
     "output_type": "execute_result"
    },
    {
     "data": {
      "text/plain": [
       "<matplotlib.legend.Legend at 0x2a1d79450>"
      ]
     },
     "execution_count": 14,
     "metadata": {},
     "output_type": "execute_result"
    },
    {
     "data": {
      "text/plain": [
       "<Axes: >"
      ]
     },
     "execution_count": 14,
     "metadata": {},
     "output_type": "execute_result"
    },
    {
     "data": {
      "text/plain": [
       "[<matplotlib.lines.Line2D at 0x2a1de8190>]"
      ]
     },
     "execution_count": 14,
     "metadata": {},
     "output_type": "execute_result"
    },
    {
     "data": {
      "text/plain": [
       "[<matplotlib.lines.Line2D at 0x2a1de8340>]"
      ]
     },
     "execution_count": 14,
     "metadata": {},
     "output_type": "execute_result"
    },
    {
     "data": {
      "text/plain": [
       "Text(0.5, 1.0, 'loss')"
      ]
     },
     "execution_count": 14,
     "metadata": {},
     "output_type": "execute_result"
    },
    {
     "data": {
      "text/plain": [
       "<matplotlib.legend.Legend at 0x2a1dbb1c0>"
      ]
     },
     "execution_count": 14,
     "metadata": {},
     "output_type": "execute_result"
    },
    {
     "data": {
      "image/png": "[encoded data removed]",
      "text/plain": [
       "<Figure size 1800x600 with 2 Axes>"
      ]
     },
     "metadata": {},
     "output_type": "display_data"
    }
   ],
   "source": [
    "# accuracy와 loss 확인\n",
    "plt. figure(figsize=(18, 6))\n",
    "\n",
    "# 정확도\n",
    "plt.subplot(1, 2, 1)\n",
    "plt.plot(history.history['accuracy'], label='accuracy')\n",
    "plt.plot(history.history['val_accuracy'], label='val_accuracy')\n",
    "plt.title('accuracy')\n",
    "plt.legend()\n",
    "\n",
    "# 손실률\n",
    "plt.subplot(1, 2, 2)\n",
    "plt.plot(history.history['loss'], label='loss')\n",
    "plt.plot(history.history['val_loss'], label='val_loss')\n",
    "plt.title('loss')\n",
    "plt.legend()\n",
    "\n",
    "plt.show()"
   ]
  },
  {
   "cell_type": "code",
   "execution_count": null,
   "metadata": {},
   "outputs": [],
   "source": []
  },
  {
   "cell_type": "markdown",
   "metadata": {},
   "source": [
    "### Dropout + Early Stopping 둘 다 적용한 경우"
   ]
  },
  {
   "cell_type": "code",
   "execution_count": 19,
   "metadata": {
    "scrolled": true
   },
   "outputs": [
    {
     "name": "stdout",
     "output_type": "stream",
     "text": [
      "Epoch 1/100\n",
      "469/469 [==============================] - 3s 7ms/step - loss: 0.2852 - accuracy: 0.9173 - val_loss: 0.1361 - val_accuracy: 0.9587\n",
      "Epoch 2/100\n",
      "469/469 [==============================] - 3s 6ms/step - loss: 0.1259 - accuracy: 0.9621 - val_loss: 0.0953 - val_accuracy: 0.9700\n",
      "Epoch 3/100\n",
      "469/469 [==============================] - 3s 6ms/step - loss: 0.0913 - accuracy: 0.9723 - val_loss: 0.0957 - val_accuracy: 0.9711\n",
      "Epoch 4/100\n",
      "469/469 [==============================] - 3s 6ms/step - loss: 0.0739 - accuracy: 0.9778 - val_loss: 0.0743 - val_accuracy: 0.9766\n",
      "Epoch 5/100\n",
      "469/469 [==============================] - 3s 6ms/step - loss: 0.0605 - accuracy: 0.9815 - val_loss: 0.0722 - val_accuracy: 0.9785\n",
      "Epoch 6/100\n",
      "469/469 [==============================] - 3s 6ms/step - loss: 0.0533 - accuracy: 0.9843 - val_loss: 0.0705 - val_accuracy: 0.9791\n",
      "Epoch 7/100\n",
      "469/469 [==============================] - 5s 10ms/step - loss: 0.0463 - accuracy: 0.9855 - val_loss: 0.0670 - val_accuracy: 0.9803\n",
      "Epoch 8/100\n",
      "469/469 [==============================] - 5s 11ms/step - loss: 0.0412 - accuracy: 0.9873 - val_loss: 0.0692 - val_accuracy: 0.9809\n",
      "Epoch 9/100\n",
      "469/469 [==============================] - 4s 8ms/step - loss: 0.0353 - accuracy: 0.9890 - val_loss: 0.0704 - val_accuracy: 0.9818\n",
      "313/313 [==============================] - 1s 2ms/step - loss: 0.0670 - accuracy: 0.9803\n",
      "정확도: 0.9803, 손실: 0.0670\n"
     ]
    }
   ],
   "source": [
    "from tensorflow.keras.models import Sequential\n",
    "from tensorflow.keras.layers import Dense, Dropout\n",
    "import tensorflow as tf\n",
    "from keras.callbacks import EarlyStopping\n",
    "\n",
    "tf.random.set_seed(3)\n",
    "\n",
    "# (1) 모델 설정\n",
    "# 2개의 층으로 구성된 모델 \n",
    "# 첫 번째 층 : 입력 : 28*28=784, 출력 : 512\n",
    "# 두 번째 층 : (입력 512), 출력 : 10\n",
    "model = Sequential()\n",
    "model.add(Dense(512, input_shape=(784,), activation='relu'))\n",
    "model.add(Dropout((0.3))) # 드롭아웃\n",
    "model.add(Dense(10, activation='softmax'))\n",
    "\n",
    "# (2) 컴파일\n",
    "# 레이블 인코딩 안하고 정수 그대로 쓸거니까 sparse_categorical_crossentropy\n",
    "model.compile(loss='sparse_categorical_crossentropy', \n",
    "              optimizer='rmsprop', metrics=['accuracy'])\n",
    "\n",
    "\n",
    "# Early Stopping적용\n",
    "# patience : 개선이 안되더라도 바로 종료시키지 않고, 2개 더 에포크 진행\n",
    "early_stopping_callback = EarlyStopping(patience=2, restore_best_weights=True)\n",
    "\n",
    "# (3) 모델 학습 (실행)\n",
    "epochs = 100\n",
    "batch_size = 128\n",
    "\n",
    "history = model.fit(X_train2, y_train, \n",
    "                    epochs=epochs, batch_size=batch_size,\n",
    "                    validation_data=(X_test2, y_test),\n",
    "                    callbacks=[early_stopping_callback])\n",
    "\n",
    "\n",
    "# (4) 모델 평가 (결과 출력)\n",
    "loss, accuracy = model.evaluate(X_test2, y_test)\n",
    "\n",
    "print(f'정확도: {accuracy:.4f}, 손실: {loss:.4f}')\n"
   ]
  },
  {
   "cell_type": "code",
   "execution_count": 17,
   "metadata": {},
   "outputs": [
    {
     "data": {
      "text/plain": [
       "<Figure size 1800x600 with 0 Axes>"
      ]
     },
     "execution_count": 17,
     "metadata": {},
     "output_type": "execute_result"
    },
    {
     "data": {
      "text/plain": [
       "<Axes: >"
      ]
     },
     "execution_count": 17,
     "metadata": {},
     "output_type": "execute_result"
    },
    {
     "data": {
      "text/plain": [
       "[<matplotlib.lines.Line2D at 0x2890b1f00>]"
      ]
     },
     "execution_count": 17,
     "metadata": {},
     "output_type": "execute_result"
    },
    {
     "data": {
      "text/plain": [
       "[<matplotlib.lines.Line2D at 0x2890b2140>]"
      ]
     },
     "execution_count": 17,
     "metadata": {},
     "output_type": "execute_result"
    },
    {
     "data": {
      "text/plain": [
       "Text(0.5, 1.0, 'accuracy')"
      ]
     },
     "execution_count": 17,
     "metadata": {},
     "output_type": "execute_result"
    },
    {
     "data": {
      "text/plain": [
       "<matplotlib.legend.Legend at 0x288f7a7a0>"
      ]
     },
     "execution_count": 17,
     "metadata": {},
     "output_type": "execute_result"
    },
    {
     "data": {
      "text/plain": [
       "<Axes: >"
      ]
     },
     "execution_count": 17,
     "metadata": {},
     "output_type": "execute_result"
    },
    {
     "data": {
      "text/plain": [
       "[<matplotlib.lines.Line2D at 0x2890d9780>]"
      ]
     },
     "execution_count": 17,
     "metadata": {},
     "output_type": "execute_result"
    },
    {
     "data": {
      "text/plain": [
       "[<matplotlib.lines.Line2D at 0x289104370>]"
      ]
     },
     "execution_count": 17,
     "metadata": {},
     "output_type": "execute_result"
    },
    {
     "data": {
      "text/plain": [
       "Text(0.5, 1.0, 'loss')"
      ]
     },
     "execution_count": 17,
     "metadata": {},
     "output_type": "execute_result"
    },
    {
     "data": {
      "text/plain": [
       "<matplotlib.legend.Legend at 0x288d5ebf0>"
      ]
     },
     "execution_count": 17,
     "metadata": {},
     "output_type": "execute_result"
    },
    {
     "data": {
      "image/png": "[encoded data removed]",
      "text/plain": [
       "<Figure size 1800x600 with 2 Axes>"
      ]
     },
     "metadata": {},
     "output_type": "display_data"
    }
   ],
   "source": [
    "# accuracy와 loss 확인\n",
    "plt. figure(figsize=(18, 6))\n",
    "\n",
    "# 정확도\n",
    "plt.subplot(1, 2, 1)\n",
    "plt.plot(history.history['accuracy'], label='accuracy')\n",
    "plt.plot(history.history['val_accuracy'], label='val_accuracy')\n",
    "plt.title('accuracy')\n",
    "plt.legend()\n",
    "\n",
    "# 손실률\n",
    "plt.subplot(1, 2, 2)\n",
    "plt.plot(history.history['loss'], label='loss')\n",
    "plt.plot(history.history['val_loss'], label='val_loss')\n",
    "plt.title('loss')\n",
    "plt.legend()\n",
    "\n",
    "plt.show()"
   ]
  },
  {
   "cell_type": "code",
   "execution_count": null,
   "metadata": {},
   "outputs": [],
   "source": [
    "############################################################################"
   ]
  },
  {
   "cell_type": "markdown",
   "metadata": {},
   "source": [
    "### CheckPoint"
   ]
  },
  {
   "cell_type": "markdown",
   "metadata": {},
   "source": [
    "CheckPoint (체크포인트)\n",
    "- 모델 학습 과정 중 특정 시점의 모델의 가중치와 파라미터를 저장한 상태\n",
    "- 학습 중인 모델의 진행 상황을 특정 지점에서 보존하는 데 사용\n",
    "- ModelCheckpoint('best-model.keras')\n",
    "  - 최상의 검증 점수를 낸 모델을 파일로 저장(베스트 파라미터 모델과 같은 개념)\n",
    "  - model = keras.models.load_model('best-model.keras')\n",
    "  - 이후 이 model 사용 "
   ]
  },
  {
   "cell_type": "code",
   "execution_count": 20,
   "metadata": {},
   "outputs": [
    {
     "name": "stdout",
     "output_type": "stream",
     "text": [
      "Epoch 1/100\n",
      "469/469 [==============================] - 4s 7ms/step - loss: 0.2851 - accuracy: 0.9168 - val_loss: 0.1313 - val_accuracy: 0.9610\n",
      "Epoch 2/100\n",
      "469/469 [==============================] - 3s 7ms/step - loss: 0.1275 - accuracy: 0.9616 - val_loss: 0.0941 - val_accuracy: 0.9714\n",
      "Epoch 3/100\n",
      "469/469 [==============================] - 3s 6ms/step - loss: 0.0918 - accuracy: 0.9729 - val_loss: 0.0923 - val_accuracy: 0.9723\n",
      "Epoch 4/100\n",
      "469/469 [==============================] - 3s 7ms/step - loss: 0.0734 - accuracy: 0.9779 - val_loss: 0.0742 - val_accuracy: 0.9769\n",
      "Epoch 5/100\n",
      "469/469 [==============================] - 3s 6ms/step - loss: 0.0619 - accuracy: 0.9814 - val_loss: 0.0741 - val_accuracy: 0.9776\n",
      "Epoch 6/100\n",
      "469/469 [==============================] - 3s 6ms/step - loss: 0.0524 - accuracy: 0.9844 - val_loss: 0.0678 - val_accuracy: 0.9787\n",
      "Epoch 7/100\n",
      "469/469 [==============================] - 3s 6ms/step - loss: 0.0462 - accuracy: 0.9856 - val_loss: 0.0667 - val_accuracy: 0.9808\n",
      "Epoch 8/100\n",
      "469/469 [==============================] - 3s 6ms/step - loss: 0.0405 - accuracy: 0.9876 - val_loss: 0.0680 - val_accuracy: 0.9809\n",
      "Epoch 9/100\n",
      "469/469 [==============================] - 3s 6ms/step - loss: 0.0361 - accuracy: 0.9890 - val_loss: 0.0719 - val_accuracy: 0.9809\n",
      "313/313 [==============================] - 0s 873us/step - loss: 0.0667 - accuracy: 0.9808\n",
      "정확도: 0.9808, 손실: 0.0667\n"
     ]
    }
   ],
   "source": [
    "from tensorflow.keras.models import Sequential\n",
    "from tensorflow.keras.layers import Dense, Dropout\n",
    "import tensorflow as tf\n",
    "from keras.callbacks import EarlyStopping, ModelCheckpoint\n",
    "\n",
    "tf.random.set_seed(3)\n",
    "\n",
    "# (1) 모델 설정\n",
    "# 2개의 층으로 구성된 모델 \n",
    "# 첫 번째 층 : 입력 : 28*28=784, 출력 : 512\n",
    "# 두 번째 층 : (입력 512), 출력 : 10\n",
    "model = Sequential()\n",
    "model.add(Dense(512, input_shape=(784,), activation='relu'))\n",
    "model.add(Dropout((0.3))) # 드롭아웃\n",
    "model.add(Dense(10, activation='softmax'))\n",
    "\n",
    "# (2) 컴파일\n",
    "# 레이블 인코딩 안하고 정수 그대로 쓸거니까 sparse_categorical_crossentropy\n",
    "model.compile(loss='sparse_categorical_crossentropy', \n",
    "              optimizer='rmsprop', metrics=['accuracy'])\n",
    "\n",
    "# CheckPoint 설정\n",
    "check_pointer = ModelCheckpoint('best_model.keras')\n",
    "\n",
    "\n",
    "\n",
    "# Early Stopping적용\n",
    "# patience : 개선이 안되더라도 바로 종료시키지 않고, 2개 더 에포크 진행\n",
    "early_stopping_callback = EarlyStopping(patience=2, restore_best_weights=True)\n",
    "\n",
    "# (3) 모델 학습 (실행)\n",
    "epochs = 100\n",
    "batch_size = 128\n",
    "\n",
    "history4 = model.fit(X_train2, y_train, \n",
    "                    epochs=epochs, batch_size=batch_size,\n",
    "                    validation_data=(X_test2, y_test),\n",
    "                    callbacks=[check_pointer, early_stopping_callback])  # callback에 체크포인트도\n",
    "\n",
    "\n",
    "# (4) 모델 평가 (결과 출력)\n",
    "loss, accuracy = model.evaluate(X_test2, y_test)\n",
    "\n",
    "print(f'정확도: {accuracy:.4f}, 손실: {loss:.4f}')\n"
   ]
  },
  {
   "cell_type": "code",
   "execution_count": 21,
   "metadata": {},
   "outputs": [],
   "source": [
    "# 저장된 베스트 모델 불러오기\n",
    "from tensorflow.keras.models import load_model\n",
    "\n",
    "best_model = load_model('best_model.keras')"
   ]
  },
  {
   "cell_type": "code",
   "execution_count": 22,
   "metadata": {},
   "outputs": [
    {
     "name": "stdout",
     "output_type": "stream",
     "text": [
      "313/313 [==============================] - 0s 960us/step - loss: 0.0719 - accuracy: 0.9809\n"
     ]
    },
    {
     "data": {
      "text/plain": [
       "[0.07190894335508347, 0.98089998960495]"
      ]
     },
     "execution_count": 22,
     "metadata": {},
     "output_type": "execute_result"
    }
   ],
   "source": [
    "best_model.evaluate(X_test2, y_test)"
   ]
  }
 ],
 "metadata": {
  "kernelspec": {
   "display_name": "DEEP_ENV",
   "language": "python",
   "name": "deepenv"
  },
  "language_info": {
   "codemirror_mode": {
    "name": "ipython",
    "version": 3
   },
   "file_extension": ".py",
   "mimetype": "text/x-python",
   "name": "python",
   "nbconvert_exporter": "python",
   "pygments_lexer": "ipython3",
   "version": "3.10.13"
  }
 },
 "nbformat": 4,
 "nbformat_minor": 4
}
