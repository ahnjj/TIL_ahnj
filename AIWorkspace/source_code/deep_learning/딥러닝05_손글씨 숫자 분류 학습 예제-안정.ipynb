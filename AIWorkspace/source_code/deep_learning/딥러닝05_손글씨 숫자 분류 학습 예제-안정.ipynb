{
 "cells": [
  {
   "cell_type": "markdown",
   "metadata": {},
   "source": [
    "# 손글씨 숫자 분류 학습"
   ]
  },
  {
   "cell_type": "markdown",
   "metadata": {},
   "source": [
    "케라스 파이썬 라이브러리를 사용하여 손글씨 숫자 분류 학습\n",
    "- 흑백 손글씨 숫자 이미지(28x28 픽셀)를 10개의 범주(0에서 9까지)로 분류\n",
    "- MNIST 데이터셋 사용\n",
    "- 1980년대에 미국 국립표준기술연구소에서 수집한 \n",
    "- 6만 개의 훈련 이미지와 1만 개의 테스트 이미지로 구성\n",
    "- MNIST 데이터셋은 넘파이 배열 형태로 케라스에 이미 포함되어 있음"
   ]
  },
  {
   "cell_type": "markdown",
   "metadata": {},
   "source": [
    "## 손글씨 숫자 분류 작업\n",
    "- (1) 데이터 준비     \n",
    "- (2) 이미지 데이터 전처리  \n",
    "  - 2차원 이미지를 1차원 벡터로 변환    \n",
    "  - 정규화   \n",
    "  - 원-핫 인코딩       \n",
    "- (3) 모델링  \n"
   ]
  },
  {
   "cell_type": "markdown",
   "metadata": {},
   "source": [
    "### (1) 데이터 준비 "
   ]
  },
  {
   "cell_type": "code",
   "execution_count": 1,
   "metadata": {},
   "outputs": [],
   "source": [
    "from IPython.core.interactiveshell import InteractiveShell\n",
    "InteractiveShell.ast_node_interactivity=\"all\""
   ]
  },
  {
   "cell_type": "code",
   "execution_count": 2,
   "metadata": {},
   "outputs": [],
   "source": [
    "import numpy as np"
   ]
  },
  {
   "cell_type": "code",
   "execution_count": 4,
   "metadata": {},
   "outputs": [],
   "source": [
    "import matplotlib.pyplot as plt\n",
    "%matplotlib inline"
   ]
  },
  {
   "cell_type": "code",
   "execution_count": 5,
   "metadata": {},
   "outputs": [
    {
     "name": "stdout",
     "output_type": "stream",
     "text": [
      "Downloading data from https://storage.googleapis.com/tensorflow/tf-keras-datasets/mnist.npz\n",
      "11490434/11490434 [==============================] - 1s 0us/step\n"
     ]
    }
   ],
   "source": [
    "# 데이터 로드\n",
    "from keras.datasets import mnist\n",
    "\n",
    "(X_train, y_train), (X_test, y_test) = mnist.load_data()"
   ]
  },
  {
   "cell_type": "code",
   "execution_count": 8,
   "metadata": {},
   "outputs": [
    {
     "data": {
      "text/plain": [
       "(60000, 28, 28)"
      ]
     },
     "execution_count": 8,
     "metadata": {},
     "output_type": "execute_result"
    },
    {
     "data": {
      "text/plain": [
       "(60000,)"
      ]
     },
     "execution_count": 8,
     "metadata": {},
     "output_type": "execute_result"
    },
    {
     "data": {
      "text/plain": [
       "(10000, 28, 28)"
      ]
     },
     "execution_count": 8,
     "metadata": {},
     "output_type": "execute_result"
    },
    {
     "data": {
      "text/plain": [
       "(10000,)"
      ]
     },
     "execution_count": 8,
     "metadata": {},
     "output_type": "execute_result"
    }
   ],
   "source": [
    "# 데이터 세트 확인\n",
    "X_train.shape\n",
    "y_train.shape\n",
    "X_test.shape\n",
    "y_test.shape"
   ]
  },
  {
   "cell_type": "code",
   "execution_count": null,
   "metadata": {},
   "outputs": [],
   "source": [
    "# (60000, 28, 28) : 3D 텐서\n",
    "# -> 2D텐서 : (60000, 28*28) == (60000, 784) (샘플수, 피처수)\n",
    "# -> 1차원 : (784, ) (데이터 개수)\n",
    "# input_shape=(28*28, ) == input_shape=(784, )"
   ]
  },
  {
   "cell_type": "code",
   "execution_count": 11,
   "metadata": {
    "scrolled": true
   },
   "outputs": [
    {
     "data": {
      "text/plain": [
       "array([[[0, 0, 0, ..., 0, 0, 0],\n",
       "        [0, 0, 0, ..., 0, 0, 0],\n",
       "        [0, 0, 0, ..., 0, 0, 0],\n",
       "        ...,\n",
       "        [0, 0, 0, ..., 0, 0, 0],\n",
       "        [0, 0, 0, ..., 0, 0, 0],\n",
       "        [0, 0, 0, ..., 0, 0, 0]],\n",
       "\n",
       "       [[0, 0, 0, ..., 0, 0, 0],\n",
       "        [0, 0, 0, ..., 0, 0, 0],\n",
       "        [0, 0, 0, ..., 0, 0, 0],\n",
       "        ...,\n",
       "        [0, 0, 0, ..., 0, 0, 0],\n",
       "        [0, 0, 0, ..., 0, 0, 0],\n",
       "        [0, 0, 0, ..., 0, 0, 0]],\n",
       "\n",
       "       [[0, 0, 0, ..., 0, 0, 0],\n",
       "        [0, 0, 0, ..., 0, 0, 0],\n",
       "        [0, 0, 0, ..., 0, 0, 0],\n",
       "        ...,\n",
       "        [0, 0, 0, ..., 0, 0, 0],\n",
       "        [0, 0, 0, ..., 0, 0, 0],\n",
       "        [0, 0, 0, ..., 0, 0, 0]],\n",
       "\n",
       "       ...,\n",
       "\n",
       "       [[0, 0, 0, ..., 0, 0, 0],\n",
       "        [0, 0, 0, ..., 0, 0, 0],\n",
       "        [0, 0, 0, ..., 0, 0, 0],\n",
       "        ...,\n",
       "        [0, 0, 0, ..., 0, 0, 0],\n",
       "        [0, 0, 0, ..., 0, 0, 0],\n",
       "        [0, 0, 0, ..., 0, 0, 0]],\n",
       "\n",
       "       [[0, 0, 0, ..., 0, 0, 0],\n",
       "        [0, 0, 0, ..., 0, 0, 0],\n",
       "        [0, 0, 0, ..., 0, 0, 0],\n",
       "        ...,\n",
       "        [0, 0, 0, ..., 0, 0, 0],\n",
       "        [0, 0, 0, ..., 0, 0, 0],\n",
       "        [0, 0, 0, ..., 0, 0, 0]],\n",
       "\n",
       "       [[0, 0, 0, ..., 0, 0, 0],\n",
       "        [0, 0, 0, ..., 0, 0, 0],\n",
       "        [0, 0, 0, ..., 0, 0, 0],\n",
       "        ...,\n",
       "        [0, 0, 0, ..., 0, 0, 0],\n",
       "        [0, 0, 0, ..., 0, 0, 0],\n",
       "        [0, 0, 0, ..., 0, 0, 0]]], dtype=uint8)"
      ]
     },
     "execution_count": 11,
     "metadata": {},
     "output_type": "execute_result"
    },
    {
     "data": {
      "text/plain": [
       "array([[  0,   0,   0,   0,   0,   0,   0,   0,   0,   0,   0,   0,   0,\n",
       "          0,   0,   0,   0,   0,   0,   0,   0,   0,   0,   0,   0,   0,\n",
       "          0,   0],\n",
       "       [  0,   0,   0,   0,   0,   0,   0,   0,   0,   0,   0,   0,   0,\n",
       "          0,   0,   0,   0,   0,   0,   0,   0,   0,   0,   0,   0,   0,\n",
       "          0,   0],\n",
       "       [  0,   0,   0,   0,   0,   0,   0,   0,   0,   0,   0,   0,   0,\n",
       "          0,   0,   0,   0,   0,   0,   0,   0,   0,   0,   0,   0,   0,\n",
       "          0,   0],\n",
       "       [  0,   0,   0,   0,   0,   0,   0,   0,   0,   0,   0,   0,   0,\n",
       "          0,   0,   0,   0,   0,   0,   0,   0,   0,   0,   0,   0,   0,\n",
       "          0,   0],\n",
       "       [  0,   0,   0,   0,   0,   0,   0,   0,   0,   0,   0,   0,   0,\n",
       "          0,   0,   0,   0,   0,   0,   0,   0,   0,   0,   0,   0,   0,\n",
       "          0,   0],\n",
       "       [  0,   0,   0,   0,   0,   0,   0,   0,   0,   0,   0,   0,   3,\n",
       "         18,  18,  18, 126, 136, 175,  26, 166, 255, 247, 127,   0,   0,\n",
       "          0,   0],\n",
       "       [  0,   0,   0,   0,   0,   0,   0,   0,  30,  36,  94, 154, 170,\n",
       "        253, 253, 253, 253, 253, 225, 172, 253, 242, 195,  64,   0,   0,\n",
       "          0,   0],\n",
       "       [  0,   0,   0,   0,   0,   0,   0,  49, 238, 253, 253, 253, 253,\n",
       "        253, 253, 253, 253, 251,  93,  82,  82,  56,  39,   0,   0,   0,\n",
       "          0,   0],\n",
       "       [  0,   0,   0,   0,   0,   0,   0,  18, 219, 253, 253, 253, 253,\n",
       "        253, 198, 182, 247, 241,   0,   0,   0,   0,   0,   0,   0,   0,\n",
       "          0,   0],\n",
       "       [  0,   0,   0,   0,   0,   0,   0,   0,  80, 156, 107, 253, 253,\n",
       "        205,  11,   0,  43, 154,   0,   0,   0,   0,   0,   0,   0,   0,\n",
       "          0,   0],\n",
       "       [  0,   0,   0,   0,   0,   0,   0,   0,   0,  14,   1, 154, 253,\n",
       "         90,   0,   0,   0,   0,   0,   0,   0,   0,   0,   0,   0,   0,\n",
       "          0,   0],\n",
       "       [  0,   0,   0,   0,   0,   0,   0,   0,   0,   0,   0, 139, 253,\n",
       "        190,   2,   0,   0,   0,   0,   0,   0,   0,   0,   0,   0,   0,\n",
       "          0,   0],\n",
       "       [  0,   0,   0,   0,   0,   0,   0,   0,   0,   0,   0,  11, 190,\n",
       "        253,  70,   0,   0,   0,   0,   0,   0,   0,   0,   0,   0,   0,\n",
       "          0,   0],\n",
       "       [  0,   0,   0,   0,   0,   0,   0,   0,   0,   0,   0,   0,  35,\n",
       "        241, 225, 160, 108,   1,   0,   0,   0,   0,   0,   0,   0,   0,\n",
       "          0,   0],\n",
       "       [  0,   0,   0,   0,   0,   0,   0,   0,   0,   0,   0,   0,   0,\n",
       "         81, 240, 253, 253, 119,  25,   0,   0,   0,   0,   0,   0,   0,\n",
       "          0,   0],\n",
       "       [  0,   0,   0,   0,   0,   0,   0,   0,   0,   0,   0,   0,   0,\n",
       "          0,  45, 186, 253, 253, 150,  27,   0,   0,   0,   0,   0,   0,\n",
       "          0,   0],\n",
       "       [  0,   0,   0,   0,   0,   0,   0,   0,   0,   0,   0,   0,   0,\n",
       "          0,   0,  16,  93, 252, 253, 187,   0,   0,   0,   0,   0,   0,\n",
       "          0,   0],\n",
       "       [  0,   0,   0,   0,   0,   0,   0,   0,   0,   0,   0,   0,   0,\n",
       "          0,   0,   0,   0, 249, 253, 249,  64,   0,   0,   0,   0,   0,\n",
       "          0,   0],\n",
       "       [  0,   0,   0,   0,   0,   0,   0,   0,   0,   0,   0,   0,   0,\n",
       "          0,  46, 130, 183, 253, 253, 207,   2,   0,   0,   0,   0,   0,\n",
       "          0,   0],\n",
       "       [  0,   0,   0,   0,   0,   0,   0,   0,   0,   0,   0,   0,  39,\n",
       "        148, 229, 253, 253, 253, 250, 182,   0,   0,   0,   0,   0,   0,\n",
       "          0,   0],\n",
       "       [  0,   0,   0,   0,   0,   0,   0,   0,   0,   0,  24, 114, 221,\n",
       "        253, 253, 253, 253, 201,  78,   0,   0,   0,   0,   0,   0,   0,\n",
       "          0,   0],\n",
       "       [  0,   0,   0,   0,   0,   0,   0,   0,  23,  66, 213, 253, 253,\n",
       "        253, 253, 198,  81,   2,   0,   0,   0,   0,   0,   0,   0,   0,\n",
       "          0,   0],\n",
       "       [  0,   0,   0,   0,   0,   0,  18, 171, 219, 253, 253, 253, 253,\n",
       "        195,  80,   9,   0,   0,   0,   0,   0,   0,   0,   0,   0,   0,\n",
       "          0,   0],\n",
       "       [  0,   0,   0,   0,  55, 172, 226, 253, 253, 253, 253, 244, 133,\n",
       "         11,   0,   0,   0,   0,   0,   0,   0,   0,   0,   0,   0,   0,\n",
       "          0,   0],\n",
       "       [  0,   0,   0,   0, 136, 253, 253, 253, 212, 135, 132,  16,   0,\n",
       "          0,   0,   0,   0,   0,   0,   0,   0,   0,   0,   0,   0,   0,\n",
       "          0,   0],\n",
       "       [  0,   0,   0,   0,   0,   0,   0,   0,   0,   0,   0,   0,   0,\n",
       "          0,   0,   0,   0,   0,   0,   0,   0,   0,   0,   0,   0,   0,\n",
       "          0,   0],\n",
       "       [  0,   0,   0,   0,   0,   0,   0,   0,   0,   0,   0,   0,   0,\n",
       "          0,   0,   0,   0,   0,   0,   0,   0,   0,   0,   0,   0,   0,\n",
       "          0,   0],\n",
       "       [  0,   0,   0,   0,   0,   0,   0,   0,   0,   0,   0,   0,   0,\n",
       "          0,   0,   0,   0,   0,   0,   0,   0,   0,   0,   0,   0,   0,\n",
       "          0,   0]], dtype=uint8)"
      ]
     },
     "execution_count": 11,
     "metadata": {},
     "output_type": "execute_result"
    }
   ],
   "source": [
    "X_train # 3차 (2D들이 여러개씩)\n",
    "X_train[0] # 28*28"
   ]
  },
  {
   "cell_type": "code",
   "execution_count": 13,
   "metadata": {},
   "outputs": [
    {
     "data": {
      "text/plain": [
       "array([5, 0, 4, 1, 9, 2, 1, 3, 1, 4], dtype=uint8)"
      ]
     },
     "execution_count": 13,
     "metadata": {},
     "output_type": "execute_result"
    },
    {
     "data": {
      "text/plain": [
       "9"
      ]
     },
     "execution_count": 13,
     "metadata": {},
     "output_type": "execute_result"
    }
   ],
   "source": [
    "# 레이블 값 확인\n",
    "y_train[:10]\n",
    "y_train[4] # 5번째 값 : 9"
   ]
  },
  {
   "cell_type": "code",
   "execution_count": 21,
   "metadata": {},
   "outputs": [
    {
     "data": {
      "text/plain": [
       "<matplotlib.image.AxesImage at 0x28e75d2a0>"
      ]
     },
     "execution_count": 21,
     "metadata": {},
     "output_type": "execute_result"
    },
    {
     "data": {
      "image/png": "[encoded data removed]",
      "text/plain": [
       "<Figure size 640x480 with 1 Axes>"
      ]
     },
     "metadata": {},
     "output_type": "display_data"
    }
   ],
   "source": [
    "# 다섯 번째 샘플(9)을 시각화해서 확인\n",
    "digit = X_train[4]\n",
    "\n",
    "plt.imshow(digit, cmap=plt.cm.binary)\n",
    "plt.show()"
   ]
  },
  {
   "cell_type": "code",
   "execution_count": 17,
   "metadata": {},
   "outputs": [],
   "source": [
    "# X_train[9]\n",
    "# 화면을 작게하면 4모양이 보임\n",
    "# 28*28 픽셀\n",
    "# 0~255 : 숫자가 클수록 진하게 표시 "
   ]
  },
  {
   "cell_type": "code",
   "execution_count": 24,
   "metadata": {},
   "outputs": [
    {
     "data": {
      "text/plain": [
       "<matplotlib.image.AxesImage at 0x28ef423b0>"
      ]
     },
     "execution_count": 24,
     "metadata": {},
     "output_type": "execute_result"
    },
    {
     "data": {
      "text/plain": [
       "(-0.5, 27.5, 27.5, -0.5)"
      ]
     },
     "execution_count": 24,
     "metadata": {},
     "output_type": "execute_result"
    },
    {
     "data": {
      "text/plain": [
       "<matplotlib.image.AxesImage at 0x28e58f970>"
      ]
     },
     "execution_count": 24,
     "metadata": {},
     "output_type": "execute_result"
    },
    {
     "data": {
      "text/plain": [
       "(-0.5, 27.5, 27.5, -0.5)"
      ]
     },
     "execution_count": 24,
     "metadata": {},
     "output_type": "execute_result"
    },
    {
     "data": {
      "text/plain": [
       "<matplotlib.image.AxesImage at 0x28ef76fb0>"
      ]
     },
     "execution_count": 24,
     "metadata": {},
     "output_type": "execute_result"
    },
    {
     "data": {
      "text/plain": [
       "(-0.5, 27.5, 27.5, -0.5)"
      ]
     },
     "execution_count": 24,
     "metadata": {},
     "output_type": "execute_result"
    },
    {
     "data": {
      "text/plain": [
       "<matplotlib.image.AxesImage at 0x28ef77220>"
      ]
     },
     "execution_count": 24,
     "metadata": {},
     "output_type": "execute_result"
    },
    {
     "data": {
      "text/plain": [
       "(-0.5, 27.5, 27.5, -0.5)"
      ]
     },
     "execution_count": 24,
     "metadata": {},
     "output_type": "execute_result"
    },
    {
     "data": {
      "text/plain": [
       "<matplotlib.image.AxesImage at 0x28ef77550>"
      ]
     },
     "execution_count": 24,
     "metadata": {},
     "output_type": "execute_result"
    },
    {
     "data": {
      "text/plain": [
       "(-0.5, 27.5, 27.5, -0.5)"
      ]
     },
     "execution_count": 24,
     "metadata": {},
     "output_type": "execute_result"
    },
    {
     "data": {
      "text/plain": [
       "<matplotlib.image.AxesImage at 0x28ef77880>"
      ]
     },
     "execution_count": 24,
     "metadata": {},
     "output_type": "execute_result"
    },
    {
     "data": {
      "text/plain": [
       "(-0.5, 27.5, 27.5, -0.5)"
      ]
     },
     "execution_count": 24,
     "metadata": {},
     "output_type": "execute_result"
    },
    {
     "data": {
      "text/plain": [
       "<matplotlib.image.AxesImage at 0x28ef77100>"
      ]
     },
     "execution_count": 24,
     "metadata": {},
     "output_type": "execute_result"
    },
    {
     "data": {
      "text/plain": [
       "(-0.5, 27.5, 27.5, -0.5)"
      ]
     },
     "execution_count": 24,
     "metadata": {},
     "output_type": "execute_result"
    },
    {
     "data": {
      "text/plain": [
       "<matplotlib.image.AxesImage at 0x28ef77e20>"
      ]
     },
     "execution_count": 24,
     "metadata": {},
     "output_type": "execute_result"
    },
    {
     "data": {
      "text/plain": [
       "(-0.5, 27.5, 27.5, -0.5)"
      ]
     },
     "execution_count": 24,
     "metadata": {},
     "output_type": "execute_result"
    },
    {
     "data": {
      "text/plain": [
       "<matplotlib.image.AxesImage at 0x28efb0130>"
      ]
     },
     "execution_count": 24,
     "metadata": {},
     "output_type": "execute_result"
    },
    {
     "data": {
      "text/plain": [
       "(-0.5, 27.5, 27.5, -0.5)"
      ]
     },
     "execution_count": 24,
     "metadata": {},
     "output_type": "execute_result"
    },
    {
     "data": {
      "text/plain": [
       "<matplotlib.image.AxesImage at 0x28efb0460>"
      ]
     },
     "execution_count": 24,
     "metadata": {},
     "output_type": "execute_result"
    },
    {
     "data": {
      "text/plain": [
       "(-0.5, 27.5, 27.5, -0.5)"
      ]
     },
     "execution_count": 24,
     "metadata": {},
     "output_type": "execute_result"
    },
    {
     "data": {
      "image/png": "[encoded data removed]",
      "text/plain": [
       "<Figure size 1000x1000 with 10 Axes>"
      ]
     },
     "metadata": {},
     "output_type": "display_data"
    }
   ],
   "source": [
    "# 처음 10개 손글씨 이미지 확인\n",
    "fig, axs = plt.subplots(1, 10, figsize=(10,10))\n",
    "for i in range(10):\n",
    "    axs[i].imshow(X_train[i], cmap=plt.cm.binary)\n",
    "    axs[i].axis('off')   # 테두리없애기\n",
    "    \n",
    "plt.show()"
   ]
  },
  {
   "cell_type": "code",
   "execution_count": null,
   "metadata": {},
   "outputs": [],
   "source": []
  },
  {
   "cell_type": "code",
   "execution_count": null,
   "metadata": {},
   "outputs": [],
   "source": []
  },
  {
   "cell_type": "markdown",
   "metadata": {},
   "source": [
    "### (2) 이미지 데이터 전처리\n",
    "- 3차원 이미지를 2차원으로 변환\n",
    "  - (60000, 28, 28)  -> (60000, 784) (샘플수, 피처수)  \n",
    "  - 이유 : Dense 층의 입력값으로 사용 시 \n",
    "    - 2차원 형태의 데이터 사용하지 못하고  \n",
    "    - 1차원 형태로 변환해야 함\n",
    "    - 가로,세로 (28, 28) - > (784, ) 또는 (28*28, )\n",
    "    - input_shape(784,)  \n",
    "- 정규화  \n",
    "  - 이미지의 실제 픽셀 값 : 0~255 범위의 값  \n",
    "  - 정규화 해서 0~1사이의 값으로 변환  \n",
    "- 원-핫 인코딩\n",
    "  - 0~9 숫자 레이블이 범주형이므로 원-핫 인코딩 수행  "
   ]
  },
  {
   "attachments": {
    "image-2.png": {
     "image/png": "[encoded data removed]"
    }
   },
   "cell_type": "markdown",
   "metadata": {},
   "source": [
    "![image-2.png](attachment:image-2.png)"
   ]
  },
  {
   "cell_type": "markdown",
   "metadata": {},
   "source": [
    "####  reshape / 정규화 (Normalization)"
   ]
  },
  {
   "cell_type": "code",
   "execution_count": 26,
   "metadata": {},
   "outputs": [
    {
     "data": {
      "text/plain": [
       "(0, 255)"
      ]
     },
     "execution_count": 26,
     "metadata": {},
     "output_type": "execute_result"
    }
   ],
   "source": [
    "# 이미지의 실제 픽셀 값 확인 : 0~255 범위의 값\n",
    "np.min(X_train), np.max(X_train)"
   ]
  },
  {
   "cell_type": "code",
   "execution_count": null,
   "metadata": {},
   "outputs": [],
   "source": [
    "x = X_train"
   ]
  },
  {
   "cell_type": "code",
   "execution_count": 28,
   "metadata": {},
   "outputs": [
    {
     "data": {
      "text/plain": [
       "(60000, 28, 28)"
      ]
     },
     "execution_count": 28,
     "metadata": {},
     "output_type": "execute_result"
    },
    {
     "data": {
      "text/plain": [
       "(10000, 28, 28)"
      ]
     },
     "execution_count": 28,
     "metadata": {},
     "output_type": "execute_result"
    }
   ],
   "source": [
    "# 변환 전 데이터\n",
    "X_train.shape\n",
    "X_test.shape"
   ]
  },
  {
   "cell_type": "code",
   "execution_count": 31,
   "metadata": {},
   "outputs": [],
   "source": [
    "# 차원 변환 및 정규화\n",
    "# X_train : (60000, 28, 28) -> (60000, 28*28) == (60000, 784) \n",
    "X_train2 = X_train.reshape(60000, 28*28)\n",
    "X_train2 = X_train2 / 255\n",
    "\n",
    "# X_test : (10000, 28, 28) -> (10000, 784)\n",
    "X_test2 = X_test.reshape(10000, 28*28)\n",
    "X_test2 = X_test2 / 255"
   ]
  },
  {
   "cell_type": "code",
   "execution_count": 32,
   "metadata": {},
   "outputs": [
    {
     "data": {
      "text/plain": [
       "(60000, 784)"
      ]
     },
     "execution_count": 32,
     "metadata": {},
     "output_type": "execute_result"
    },
    {
     "data": {
      "text/plain": [
       "(10000, 784)"
      ]
     },
     "execution_count": 32,
     "metadata": {},
     "output_type": "execute_result"
    }
   ],
   "source": [
    "# 변환 후 데이터\n",
    "X_train2.shape\n",
    "X_test2.shape"
   ]
  },
  {
   "cell_type": "markdown",
   "metadata": {},
   "source": [
    "#### 원-핫 인코딩 "
   ]
  },
  {
   "cell_type": "code",
   "execution_count": 33,
   "metadata": {},
   "outputs": [
    {
     "data": {
      "text/plain": [
       "array([5, 0, 4, 1, 9, 2, 1, 3, 1, 4], dtype=uint8)"
      ]
     },
     "execution_count": 33,
     "metadata": {},
     "output_type": "execute_result"
    }
   ],
   "source": [
    "# 원-핫 인코딩 수행 전\n",
    "y_train[:10] # 숫자형 카테고리 값"
   ]
  },
  {
   "cell_type": "code",
   "execution_count": 35,
   "metadata": {},
   "outputs": [],
   "source": [
    "# 0~9 값의 레이블을 원-핫 인코딩 변환 (binary화) : 0 또는 1로 변환\n",
    "from keras.utils import to_categorical\n",
    "\n",
    "y_train2 = to_categorical(y_train)\n",
    "y_test2 = to_categorical(y_test)"
   ]
  },
  {
   "cell_type": "code",
   "execution_count": 41,
   "metadata": {},
   "outputs": [
    {
     "data": {
      "text/plain": [
       "array([[0., 0., 0., 0., 0., 0., 0., 1., 0., 0.],\n",
       "       [0., 0., 1., 0., 0., 0., 0., 0., 0., 0.],\n",
       "       [0., 1., 0., 0., 0., 0., 0., 0., 0., 0.],\n",
       "       [1., 0., 0., 0., 0., 0., 0., 0., 0., 0.]], dtype=float32)"
      ]
     },
     "execution_count": 41,
     "metadata": {},
     "output_type": "execute_result"
    }
   ],
   "source": [
    "# 원-핫 인코딩 수행 후\n",
    "y_test2[:4]"
   ]
  },
  {
   "cell_type": "markdown",
   "metadata": {},
   "source": [
    "### (3) 모델링 "
   ]
  },
  {
   "cell_type": "markdown",
   "metadata": {},
   "source": [
    "#### 모델링 순서  \n",
    "(1) 모델 설정   \n",
    "(2) 모델 컴파일   \n",
    "(3) 모델 학습(실행)   \n",
    "(4) 모델 평가(결과 출력)  \n",
    "- 사용 데이터\n",
    "    - 위에서 전처리 작업 끝낸 데이터 사용\n",
    "    - X_train2, y_train2, X_test2, y_test2"
   ]
  },
  {
   "cell_type": "code",
   "execution_count": 54,
   "metadata": {
    "scrolled": true
   },
   "outputs": [
    {
     "name": "stdout",
     "output_type": "stream",
     "text": [
      "Epoch 1/100\n",
      "469/469 [==============================] - 3s 6ms/step - loss: 1.9015 - accuracy: 0.7283 - val_loss: 1.5772 - val_accuracy: 0.7893\n",
      "Epoch 2/100\n",
      "469/469 [==============================] - 2s 5ms/step - loss: 1.3252 - accuracy: 0.8135 - val_loss: 1.0896 - val_accuracy: 0.8399\n",
      "Epoch 3/100\n",
      "469/469 [==============================] - 2s 5ms/step - loss: 0.9056 - accuracy: 0.8754 - val_loss: 0.7351 - val_accuracy: 0.9046\n",
      "Epoch 4/100\n",
      "469/469 [==============================] - 3s 6ms/step - loss: 0.6063 - accuracy: 0.9164 - val_loss: 0.4933 - val_accuracy: 0.9229\n",
      "Epoch 5/100\n",
      "469/469 [==============================] - 3s 7ms/step - loss: 0.4212 - accuracy: 0.9276 - val_loss: 0.3618 - val_accuracy: 0.9294\n",
      "Epoch 6/100\n",
      "469/469 [==============================] - 2s 5ms/step - loss: 0.3245 - accuracy: 0.9330 - val_loss: 0.2963 - val_accuracy: 0.9344\n",
      "Epoch 7/100\n",
      "469/469 [==============================] - 2s 5ms/step - loss: 0.2767 - accuracy: 0.9374 - val_loss: 0.2654 - val_accuracy: 0.9366\n",
      "Epoch 8/100\n",
      "469/469 [==============================] - 2s 5ms/step - loss: 0.2515 - accuracy: 0.9400 - val_loss: 0.2569 - val_accuracy: 0.9371\n",
      "Epoch 9/100\n",
      "469/469 [==============================] - 2s 5ms/step - loss: 0.2369 - accuracy: 0.9420 - val_loss: 0.2435 - val_accuracy: 0.9386\n",
      "Epoch 10/100\n",
      "469/469 [==============================] - 3s 6ms/step - loss: 0.2271 - accuracy: 0.9438 - val_loss: 0.2321 - val_accuracy: 0.9402\n",
      "Epoch 11/100\n",
      "469/469 [==============================] - 3s 5ms/step - loss: 0.2187 - accuracy: 0.9460 - val_loss: 0.2322 - val_accuracy: 0.9396\n",
      "Epoch 12/100\n",
      "469/469 [==============================] - 3s 5ms/step - loss: 0.2123 - accuracy: 0.9473 - val_loss: 0.2284 - val_accuracy: 0.9410\n",
      "Epoch 13/100\n",
      "469/469 [==============================] - 3s 6ms/step - loss: 0.2071 - accuracy: 0.9485 - val_loss: 0.2217 - val_accuracy: 0.9428\n",
      "Epoch 14/100\n",
      "469/469 [==============================] - 2s 5ms/step - loss: 0.2018 - accuracy: 0.9495 - val_loss: 0.2179 - val_accuracy: 0.9448\n",
      "Epoch 15/100\n",
      "469/469 [==============================] - 2s 5ms/step - loss: 0.1980 - accuracy: 0.9499 - val_loss: 0.2176 - val_accuracy: 0.9440\n",
      "Epoch 16/100\n",
      "469/469 [==============================] - 2s 5ms/step - loss: 0.1944 - accuracy: 0.9513 - val_loss: 0.2195 - val_accuracy: 0.9436\n",
      "Epoch 17/100\n",
      "469/469 [==============================] - 2s 5ms/step - loss: 0.1911 - accuracy: 0.9516 - val_loss: 0.2153 - val_accuracy: 0.9447\n",
      "Epoch 18/100\n",
      "469/469 [==============================] - 3s 6ms/step - loss: 0.1882 - accuracy: 0.9522 - val_loss: 0.2158 - val_accuracy: 0.9447\n",
      "Epoch 19/100\n",
      "469/469 [==============================] - 2s 5ms/step - loss: 0.1853 - accuracy: 0.9535 - val_loss: 0.2170 - val_accuracy: 0.9436\n",
      "Epoch 20/100\n",
      "469/469 [==============================] - 3s 5ms/step - loss: 0.1831 - accuracy: 0.9542 - val_loss: 0.2195 - val_accuracy: 0.9428\n",
      "Epoch 21/100\n",
      "469/469 [==============================] - 2s 5ms/step - loss: 0.1810 - accuracy: 0.9543 - val_loss: 0.2159 - val_accuracy: 0.9452\n",
      "Epoch 22/100\n",
      "469/469 [==============================] - 3s 6ms/step - loss: 0.1783 - accuracy: 0.9551 - val_loss: 0.2174 - val_accuracy: 0.9442\n",
      "Epoch 23/100\n",
      "469/469 [==============================] - 3s 6ms/step - loss: 0.1770 - accuracy: 0.9554 - val_loss: 0.2194 - val_accuracy: 0.9441\n",
      "Epoch 24/100\n",
      "469/469 [==============================] - 5s 10ms/step - loss: 0.1752 - accuracy: 0.9560 - val_loss: 0.2195 - val_accuracy: 0.9433\n",
      "Epoch 25/100\n",
      "469/469 [==============================] - 3s 6ms/step - loss: 0.1735 - accuracy: 0.9564 - val_loss: 0.2182 - val_accuracy: 0.9437\n",
      "Epoch 26/100\n",
      "469/469 [==============================] - 3s 6ms/step - loss: 0.1720 - accuracy: 0.9563 - val_loss: 0.2147 - val_accuracy: 0.9444\n",
      "Epoch 27/100\n",
      "469/469 [==============================] - 2s 5ms/step - loss: 0.1706 - accuracy: 0.9568 - val_loss: 0.2186 - val_accuracy: 0.9443\n",
      "Epoch 28/100\n",
      "469/469 [==============================] - 3s 5ms/step - loss: 0.1690 - accuracy: 0.9570 - val_loss: 0.2204 - val_accuracy: 0.9431\n",
      "Epoch 29/100\n",
      "469/469 [==============================] - 3s 6ms/step - loss: 0.1678 - accuracy: 0.9571 - val_loss: 0.2192 - val_accuracy: 0.9443\n",
      "Epoch 30/100\n",
      "469/469 [==============================] - 3s 5ms/step - loss: 0.1662 - accuracy: 0.9577 - val_loss: 0.2199 - val_accuracy: 0.9431\n",
      "Epoch 31/100\n",
      "469/469 [==============================] - 3s 5ms/step - loss: 0.1649 - accuracy: 0.9581 - val_loss: 0.2232 - val_accuracy: 0.9422\n",
      "Epoch 32/100\n",
      "469/469 [==============================] - 3s 6ms/step - loss: 0.1641 - accuracy: 0.9577 - val_loss: 0.2183 - val_accuracy: 0.9452\n",
      "Epoch 33/100\n",
      "469/469 [==============================] - 3s 6ms/step - loss: 0.1629 - accuracy: 0.9581 - val_loss: 0.2195 - val_accuracy: 0.9447\n",
      "Epoch 34/100\n",
      "469/469 [==============================] - 3s 6ms/step - loss: 0.1620 - accuracy: 0.9584 - val_loss: 0.2186 - val_accuracy: 0.9440\n",
      "Epoch 35/100\n",
      "469/469 [==============================] - 2s 5ms/step - loss: 0.1606 - accuracy: 0.9589 - val_loss: 0.2193 - val_accuracy: 0.9444\n",
      "Epoch 36/100\n",
      "469/469 [==============================] - 2s 5ms/step - loss: 0.1598 - accuracy: 0.9594 - val_loss: 0.2212 - val_accuracy: 0.9444\n",
      "Epoch 37/100\n",
      "469/469 [==============================] - 2s 5ms/step - loss: 0.1587 - accuracy: 0.9588 - val_loss: 0.2196 - val_accuracy: 0.9439\n",
      "Epoch 38/100\n",
      "469/469 [==============================] - 2s 5ms/step - loss: 0.1579 - accuracy: 0.9600 - val_loss: 0.2203 - val_accuracy: 0.9439\n",
      "Epoch 39/100\n",
      "469/469 [==============================] - 2s 5ms/step - loss: 0.1572 - accuracy: 0.9595 - val_loss: 0.2211 - val_accuracy: 0.9448\n",
      "Epoch 40/100\n",
      "469/469 [==============================] - 2s 5ms/step - loss: 0.1563 - accuracy: 0.9602 - val_loss: 0.2209 - val_accuracy: 0.9446\n",
      "Epoch 41/100\n",
      "469/469 [==============================] - 2s 5ms/step - loss: 0.1551 - accuracy: 0.9608 - val_loss: 0.2207 - val_accuracy: 0.9439\n",
      "Epoch 42/100\n",
      "469/469 [==============================] - 2s 5ms/step - loss: 0.1543 - accuracy: 0.9600 - val_loss: 0.2250 - val_accuracy: 0.9442\n",
      "Epoch 43/100\n",
      "469/469 [==============================] - 3s 5ms/step - loss: 0.1540 - accuracy: 0.9607 - val_loss: 0.2207 - val_accuracy: 0.9450\n",
      "Epoch 44/100\n",
      "469/469 [==============================] - 3s 5ms/step - loss: 0.1530 - accuracy: 0.9607 - val_loss: 0.2218 - val_accuracy: 0.9458\n",
      "Epoch 45/100\n",
      "469/469 [==============================] - 3s 5ms/step - loss: 0.1528 - accuracy: 0.9604 - val_loss: 0.2232 - val_accuracy: 0.9448\n",
      "Epoch 46/100\n",
      "469/469 [==============================] - 3s 5ms/step - loss: 0.1519 - accuracy: 0.9603 - val_loss: 0.2246 - val_accuracy: 0.9441\n",
      "Epoch 47/100\n",
      "469/469 [==============================] - 2s 5ms/step - loss: 0.1514 - accuracy: 0.9609 - val_loss: 0.2262 - val_accuracy: 0.9435\n",
      "Epoch 48/100\n",
      "469/469 [==============================] - 2s 5ms/step - loss: 0.1507 - accuracy: 0.9607 - val_loss: 0.2234 - val_accuracy: 0.9449\n",
      "Epoch 49/100\n",
      "469/469 [==============================] - 2s 5ms/step - loss: 0.1499 - accuracy: 0.9617 - val_loss: 0.2238 - val_accuracy: 0.9441\n",
      "Epoch 50/100\n",
      "469/469 [==============================] - 2s 5ms/step - loss: 0.1496 - accuracy: 0.9616 - val_loss: 0.2231 - val_accuracy: 0.9461\n",
      "Epoch 51/100\n",
      "469/469 [==============================] - 2s 5ms/step - loss: 0.1487 - accuracy: 0.9617 - val_loss: 0.2252 - val_accuracy: 0.9454\n",
      "Epoch 52/100\n",
      "469/469 [==============================] - 3s 6ms/step - loss: 0.1487 - accuracy: 0.9617 - val_loss: 0.2250 - val_accuracy: 0.9455\n",
      "Epoch 53/100\n",
      "469/469 [==============================] - 3s 5ms/step - loss: 0.1478 - accuracy: 0.9618 - val_loss: 0.2260 - val_accuracy: 0.9448\n",
      "Epoch 54/100\n",
      "469/469 [==============================] - 2s 5ms/step - loss: 0.1474 - accuracy: 0.9621 - val_loss: 0.2253 - val_accuracy: 0.9449\n",
      "Epoch 55/100\n",
      "469/469 [==============================] - 2s 5ms/step - loss: 0.1468 - accuracy: 0.9621 - val_loss: 0.2286 - val_accuracy: 0.9453\n",
      "Epoch 56/100\n",
      "469/469 [==============================] - 2s 5ms/step - loss: 0.1464 - accuracy: 0.9622 - val_loss: 0.2264 - val_accuracy: 0.9454\n",
      "Epoch 57/100\n",
      "469/469 [==============================] - 2s 5ms/step - loss: 0.1458 - accuracy: 0.9626 - val_loss: 0.2262 - val_accuracy: 0.9455\n"
     ]
    },
    {
     "name": "stdout",
     "output_type": "stream",
     "text": [
      "Epoch 58/100\n",
      "469/469 [==============================] - 2s 5ms/step - loss: 0.1458 - accuracy: 0.9624 - val_loss: 0.2291 - val_accuracy: 0.9450\n",
      "Epoch 59/100\n",
      "469/469 [==============================] - 2s 5ms/step - loss: 0.1448 - accuracy: 0.9625 - val_loss: 0.2286 - val_accuracy: 0.9461\n",
      "Epoch 60/100\n",
      "469/469 [==============================] - 2s 5ms/step - loss: 0.1447 - accuracy: 0.9628 - val_loss: 0.2292 - val_accuracy: 0.9451\n",
      "Epoch 61/100\n",
      "469/469 [==============================] - 2s 5ms/step - loss: 0.1441 - accuracy: 0.9623 - val_loss: 0.2309 - val_accuracy: 0.9436\n",
      "Epoch 62/100\n",
      "469/469 [==============================] - 2s 5ms/step - loss: 0.1440 - accuracy: 0.9628 - val_loss: 0.2275 - val_accuracy: 0.9445\n",
      "Epoch 63/100\n",
      "469/469 [==============================] - 2s 5ms/step - loss: 0.1433 - accuracy: 0.9631 - val_loss: 0.2293 - val_accuracy: 0.9438\n",
      "Epoch 64/100\n",
      "469/469 [==============================] - 2s 5ms/step - loss: 0.1428 - accuracy: 0.9633 - val_loss: 0.2298 - val_accuracy: 0.9452\n",
      "Epoch 65/100\n",
      "469/469 [==============================] - 2s 5ms/step - loss: 0.1428 - accuracy: 0.9633 - val_loss: 0.2316 - val_accuracy: 0.9449\n",
      "Epoch 66/100\n",
      "469/469 [==============================] - 2s 5ms/step - loss: 0.1425 - accuracy: 0.9633 - val_loss: 0.2333 - val_accuracy: 0.9457\n",
      "Epoch 67/100\n",
      "469/469 [==============================] - 2s 5ms/step - loss: 0.1418 - accuracy: 0.9638 - val_loss: 0.2314 - val_accuracy: 0.9430\n",
      "Epoch 68/100\n",
      "469/469 [==============================] - 3s 6ms/step - loss: 0.1416 - accuracy: 0.9634 - val_loss: 0.2328 - val_accuracy: 0.9454\n",
      "Epoch 69/100\n",
      "469/469 [==============================] - 3s 6ms/step - loss: 0.1411 - accuracy: 0.9637 - val_loss: 0.2302 - val_accuracy: 0.9450\n",
      "Epoch 70/100\n",
      "469/469 [==============================] - 2s 5ms/step - loss: 0.1407 - accuracy: 0.9635 - val_loss: 0.2343 - val_accuracy: 0.9458\n",
      "Epoch 71/100\n",
      "469/469 [==============================] - 2s 5ms/step - loss: 0.1409 - accuracy: 0.9635 - val_loss: 0.2304 - val_accuracy: 0.9441\n",
      "Epoch 72/100\n",
      "469/469 [==============================] - 2s 5ms/step - loss: 0.1393 - accuracy: 0.9642 - val_loss: 0.2362 - val_accuracy: 0.9442\n",
      "Epoch 73/100\n",
      "469/469 [==============================] - 2s 5ms/step - loss: 0.1396 - accuracy: 0.9638 - val_loss: 0.2338 - val_accuracy: 0.9451\n",
      "Epoch 74/100\n",
      "469/469 [==============================] - 2s 4ms/step - loss: 0.1395 - accuracy: 0.9644 - val_loss: 0.2350 - val_accuracy: 0.9442\n",
      "Epoch 75/100\n",
      "469/469 [==============================] - 2s 4ms/step - loss: 0.1388 - accuracy: 0.9643 - val_loss: 0.2380 - val_accuracy: 0.9441\n",
      "Epoch 76/100\n",
      "469/469 [==============================] - 2s 4ms/step - loss: 0.1386 - accuracy: 0.9643 - val_loss: 0.2381 - val_accuracy: 0.9445\n",
      "Epoch 77/100\n",
      "469/469 [==============================] - 2s 4ms/step - loss: 0.1381 - accuracy: 0.9646 - val_loss: 0.2371 - val_accuracy: 0.9430\n",
      "Epoch 78/100\n",
      "469/469 [==============================] - 3s 6ms/step - loss: 0.1381 - accuracy: 0.9647 - val_loss: 0.2345 - val_accuracy: 0.9439\n",
      "Epoch 79/100\n",
      "469/469 [==============================] - 3s 5ms/step - loss: 0.1373 - accuracy: 0.9649 - val_loss: 0.2379 - val_accuracy: 0.9452\n",
      "Epoch 80/100\n",
      "469/469 [==============================] - 2s 4ms/step - loss: 0.1372 - accuracy: 0.9648 - val_loss: 0.2368 - val_accuracy: 0.9436\n",
      "Epoch 81/100\n",
      "469/469 [==============================] - 2s 5ms/step - loss: 0.1372 - accuracy: 0.9649 - val_loss: 0.2362 - val_accuracy: 0.9445\n",
      "Epoch 82/100\n",
      "469/469 [==============================] - 3s 6ms/step - loss: 0.1367 - accuracy: 0.9650 - val_loss: 0.2398 - val_accuracy: 0.9440\n",
      "Epoch 83/100\n",
      "469/469 [==============================] - 2s 5ms/step - loss: 0.1359 - accuracy: 0.9653 - val_loss: 0.2392 - val_accuracy: 0.9435\n",
      "Epoch 84/100\n",
      "469/469 [==============================] - 2s 5ms/step - loss: 0.1360 - accuracy: 0.9650 - val_loss: 0.2373 - val_accuracy: 0.9433\n",
      "Epoch 85/100\n",
      "469/469 [==============================] - 2s 5ms/step - loss: 0.1359 - accuracy: 0.9651 - val_loss: 0.2383 - val_accuracy: 0.9425\n",
      "Epoch 86/100\n",
      "469/469 [==============================] - 2s 5ms/step - loss: 0.1359 - accuracy: 0.9657 - val_loss: 0.2380 - val_accuracy: 0.9436\n",
      "Epoch 87/100\n",
      "469/469 [==============================] - 2s 5ms/step - loss: 0.1350 - accuracy: 0.9650 - val_loss: 0.2389 - val_accuracy: 0.9429\n",
      "Epoch 88/100\n",
      "469/469 [==============================] - 2s 5ms/step - loss: 0.1344 - accuracy: 0.9651 - val_loss: 0.2438 - val_accuracy: 0.9426\n",
      "Epoch 89/100\n",
      "469/469 [==============================] - 2s 5ms/step - loss: 0.1346 - accuracy: 0.9655 - val_loss: 0.2394 - val_accuracy: 0.9430\n",
      "Epoch 90/100\n",
      "469/469 [==============================] - 2s 5ms/step - loss: 0.1341 - accuracy: 0.9652 - val_loss: 0.2388 - val_accuracy: 0.9431\n",
      "Epoch 91/100\n",
      "469/469 [==============================] - 2s 5ms/step - loss: 0.1338 - accuracy: 0.9659 - val_loss: 0.2390 - val_accuracy: 0.9436\n",
      "Epoch 92/100\n",
      "469/469 [==============================] - 2s 5ms/step - loss: 0.1337 - accuracy: 0.9659 - val_loss: 0.2399 - val_accuracy: 0.9428\n",
      "Epoch 93/100\n",
      "469/469 [==============================] - 2s 5ms/step - loss: 0.1332 - accuracy: 0.9660 - val_loss: 0.2434 - val_accuracy: 0.9435\n",
      "Epoch 94/100\n",
      "469/469 [==============================] - 2s 5ms/step - loss: 0.1330 - accuracy: 0.9666 - val_loss: 0.2415 - val_accuracy: 0.9435\n",
      "Epoch 95/100\n",
      "469/469 [==============================] - 2s 5ms/step - loss: 0.1327 - accuracy: 0.9660 - val_loss: 0.2409 - val_accuracy: 0.9439\n",
      "Epoch 96/100\n",
      "469/469 [==============================] - 2s 5ms/step - loss: 0.1326 - accuracy: 0.9658 - val_loss: 0.2416 - val_accuracy: 0.9449\n",
      "Epoch 97/100\n",
      "469/469 [==============================] - 2s 5ms/step - loss: 0.1320 - accuracy: 0.9663 - val_loss: 0.2412 - val_accuracy: 0.9435\n",
      "Epoch 98/100\n",
      "469/469 [==============================] - 3s 5ms/step - loss: 0.1321 - accuracy: 0.9663 - val_loss: 0.2415 - val_accuracy: 0.9433\n",
      "Epoch 99/100\n",
      "469/469 [==============================] - 2s 5ms/step - loss: 0.1320 - accuracy: 0.9661 - val_loss: 0.2423 - val_accuracy: 0.9445\n",
      "Epoch 100/100\n",
      "469/469 [==============================] - 2s 5ms/step - loss: 0.1316 - accuracy: 0.9657 - val_loss: 0.2460 - val_accuracy: 0.9434\n",
      "313/313 [==============================] - 0s 849us/step - loss: 0.2460 - accuracy: 0.9434\n",
      "정확도 : 0.9434, 손실 : 0.2460\n"
     ]
    }
   ],
   "source": [
    "from tensorflow.keras.models import Sequential\n",
    "from tensorflow.keras.layers import Dense\n",
    "import tensorflow as tf\n",
    "\n",
    "tf.random.set_seed(3)\n",
    "\n",
    "# (1) 모델 설정\n",
    "# 2개의 층으로 구성된 모델 \n",
    "# 첫 번째 층  :입력 : 28*28=784, 출력 : 512\n",
    "# 두 번째 층 : 입력 512, 출력 : 10\n",
    "model = Sequential()\n",
    "model.add(Dense(units=512, input_shape=(784,), activation='softmax'))\n",
    "model.add(Dense(units=10, activation='softmax'))\n",
    "\n",
    "# 활성화 함수 : activation = 'softmax' : 다중 분류 \n",
    "# 출력층 출력값 수 : 10\n",
    "\n",
    "# (2) 컴파일\n",
    "# 다중분류 : loss='categorical_crossentropy'\n",
    "# 최적화 : optimizer='rmsprop'\n",
    "# 평가방법 : metrics='accuracy'\n",
    "model.compile(loss='categorical_crossentropy', optimizer='rmsprop', metrics=['accuracy'])\n",
    "\n",
    "\n",
    "# (3) 모델 학습 (실행)\n",
    "epochs=100\n",
    "batch_size=128\n",
    "# model.fit(x=X_train2, y=y_train2, epochs=epochs, batch_size=batch_size )\n",
    "\n",
    "# 학습 과정 결과를 history 객체에 저장\n",
    "history = model.fit(x=X_train2, y=y_train2,\n",
    "                    epochs=epochs, batch_size=batch_size,\n",
    "                   validation_data=(X_test2, y_test2 ))  # validation_data 지정해야 함\n",
    "# (4) 모델 평가 (결과 출력)\n",
    "loss, accuracy =  model.evaluate(X_test2, y_test2)\n",
    "print(f'정확도 : {accuracy:.4f}, 손실 : {loss:.4f}')"
   ]
  },
  {
   "cell_type": "markdown",
   "metadata": {},
   "source": [
    "### 시각화"
   ]
  },
  {
   "cell_type": "code",
   "execution_count": 55,
   "metadata": {},
   "outputs": [
    {
     "data": {
      "text/plain": [
       "<Figure size 1800x600 with 0 Axes>"
      ]
     },
     "execution_count": 55,
     "metadata": {},
     "output_type": "execute_result"
    },
    {
     "data": {
      "text/plain": [
       "<Axes: >"
      ]
     },
     "execution_count": 55,
     "metadata": {},
     "output_type": "execute_result"
    },
    {
     "data": {
      "text/plain": [
       "[<matplotlib.lines.Line2D at 0x14f7a0df0>]"
      ]
     },
     "execution_count": 55,
     "metadata": {},
     "output_type": "execute_result"
    },
    {
     "data": {
      "text/plain": [
       "[<matplotlib.lines.Line2D at 0x14f7a10c0>]"
      ]
     },
     "execution_count": 55,
     "metadata": {},
     "output_type": "execute_result"
    },
    {
     "data": {
      "text/plain": [
       "Text(0.5, 1.0, 'accuracy')"
      ]
     },
     "execution_count": 55,
     "metadata": {},
     "output_type": "execute_result"
    },
    {
     "data": {
      "text/plain": [
       "<matplotlib.legend.Legend at 0x28ece09d0>"
      ]
     },
     "execution_count": 55,
     "metadata": {},
     "output_type": "execute_result"
    },
    {
     "data": {
      "text/plain": [
       "<Axes: >"
      ]
     },
     "execution_count": 55,
     "metadata": {},
     "output_type": "execute_result"
    },
    {
     "data": {
      "text/plain": [
       "[<matplotlib.lines.Line2D at 0x14f727250>]"
      ]
     },
     "execution_count": 55,
     "metadata": {},
     "output_type": "execute_result"
    },
    {
     "data": {
      "text/plain": [
       "[<matplotlib.lines.Line2D at 0x14f725750>]"
      ]
     },
     "execution_count": 55,
     "metadata": {},
     "output_type": "execute_result"
    },
    {
     "data": {
      "text/plain": [
       "Text(0.5, 1.0, 'loss')"
      ]
     },
     "execution_count": 55,
     "metadata": {},
     "output_type": "execute_result"
    },
    {
     "data": {
      "text/plain": [
       "<matplotlib.legend.Legend at 0x14f678c10>"
      ]
     },
     "execution_count": 55,
     "metadata": {},
     "output_type": "execute_result"
    },
    {
     "data": {
      "image/png": "[encoded data removed]",
      "text/plain": [
       "<Figure size 1800x600 with 2 Axes>"
      ]
     },
     "metadata": {},
     "output_type": "display_data"
    }
   ],
   "source": [
    "# accuracy와 loss 확인\n",
    "# accuracy / val_accuracy\n",
    "# loss / val_loss\n",
    "\n",
    "# 필요한 값\n",
    "# history 객체의 history['accuracy'] \n",
    "# history 객체의 history['val_accuracy']\n",
    "# history 객체의 history['loss']\n",
    "# history 객체의 history['val_loss']\n",
    "\n",
    "plt.figure(figsize=(18, 6))\n",
    "\n",
    "# 정확도\n",
    "plt.subplot(1, 2, 1)\n",
    "plt.plot(history.history['accuracy'], label='accuracy')\n",
    "plt.plot(history.history['val_accuracy'], label='val_accuracy')\n",
    "plt.title('accuracy')\n",
    "plt.legend()\n",
    "\n",
    "# 손실률\n",
    "plt.subplot(1, 2, 2)\n",
    "plt.plot(history.history['loss'], label='loss')\n",
    "plt.plot(history.history['val_loss'], label='val_loss')\n",
    "plt.title('loss')\n",
    "plt.legend()\n",
    "\n",
    "plt.show()"
   ]
  },
  {
   "cell_type": "code",
   "execution_count": null,
   "metadata": {},
   "outputs": [],
   "source": []
  },
  {
   "cell_type": "markdown",
   "metadata": {},
   "source": [
    "### 모델 저장 "
   ]
  },
  {
   "cell_type": "code",
   "execution_count": 56,
   "metadata": {},
   "outputs": [
    {
     "name": "stderr",
     "output_type": "stream",
     "text": [
      "/Users/jeong_ahn/anaconda3/lib/python3.10/site-packages/keras/src/engine/training.py:3103: UserWarning: You are saving your model as an HDF5 file via `model.save()`. This file format is considered legacy. We recommend using instead the native Keras format, e.g. `model.save('my_model.keras')`.\n",
      "  saving_api.save_model(\n"
     ]
    }
   ],
   "source": [
    "model.save('../../data/img_model.h5') # legacy"
   ]
  },
  {
   "cell_type": "code",
   "execution_count": 57,
   "metadata": {},
   "outputs": [],
   "source": [
    "model.save('../../data/img_model.keras')"
   ]
  },
  {
   "cell_type": "markdown",
   "metadata": {},
   "source": [
    "### 모델 불러오기 "
   ]
  },
  {
   "cell_type": "code",
   "execution_count": 58,
   "metadata": {},
   "outputs": [],
   "source": [
    "from tensorflow.keras.models import load_model\n",
    "\n",
    "loaded_model = load_model('../../data/img_model.h5')"
   ]
  },
  {
   "cell_type": "code",
   "execution_count": 60,
   "metadata": {},
   "outputs": [],
   "source": [
    "loaded_model = load_model('../../data/img_model.keras')"
   ]
  },
  {
   "cell_type": "code",
   "execution_count": null,
   "metadata": {},
   "outputs": [],
   "source": []
  },
  {
   "cell_type": "markdown",
   "metadata": {},
   "source": [
    "## loaded_model 모델로 예측 "
   ]
  },
  {
   "cell_type": "code",
   "execution_count": 62,
   "metadata": {},
   "outputs": [],
   "source": [
    "# predict() 사용해서 예측\n",
    "# 예측확률 반환\n",
    "# 예 : [0.111111, 0.777777, 0.3333333,........]"
   ]
  },
  {
   "cell_type": "code",
   "execution_count": 67,
   "metadata": {},
   "outputs": [
    {
     "data": {
      "text/plain": [
       "array([7, 2, 1, 0, 4, 1, 4, 9, 6, 9])"
      ]
     },
     "execution_count": 67,
     "metadata": {},
     "output_type": "execute_result"
    },
    {
     "data": {
      "text/plain": [
       "array([7, 2, 1, 0, 4, 1, 4, 9, 5, 9], dtype=uint8)"
      ]
     },
     "execution_count": 67,
     "metadata": {},
     "output_type": "execute_result"
    }
   ],
   "source": [
    "y_pre_prob = loaded_model.predict(X_test2, verbose=0)\n",
    "y_pred = y_pre_prob.argmax(axis=1)\n",
    "y_pred[:10]\n",
    "y_test[:10]"
   ]
  },
  {
   "cell_type": "code",
   "execution_count": 68,
   "metadata": {},
   "outputs": [
    {
     "data": {
      "text/plain": [
       "4"
      ]
     },
     "execution_count": 68,
     "metadata": {},
     "output_type": "execute_result"
    }
   ],
   "source": [
    "y_train[9]"
   ]
  },
  {
   "cell_type": "code",
   "execution_count": 129,
   "metadata": {
    "scrolled": true
   },
   "outputs": [
    {
     "data": {
      "text/plain": [
       "array([[  0,   0,   0,   0,   0,   0,   0,   0,   0,   0,   0,   0,   0,\n",
       "          0,   0,   0,   0,   0,   0,   0,   0,   0,   0,   0,   0,   0,\n",
       "          0,   0],\n",
       "       [  0,   0,   0,   0,   0,   0,   0,   0,   0,   0,   0,   0,   0,\n",
       "          0,   0,   0,   0,   0,   0,   0,   0,   0,   0,   0,   0,   0,\n",
       "          0,   0],\n",
       "       [  0,   0,   0,   0,   0,   0,   0,   0,   0,   0,   0,   0,   0,\n",
       "          0,   0,   0,   0,   0,   0,   0,   0,   0,   0,   0,   0,   0,\n",
       "          0,   0],\n",
       "       [  0,   0,   0,   0,   0,   0,   0,   0,   0,   0,   0,   0,   0,\n",
       "          0,   0,   0,   0,   0,   0,   0,   0,   0,   0,   0,   0,   0,\n",
       "          0,   0],\n",
       "       [  0,   0,   0,   0,   0,   0,   0,   0,   0,   0,   0,   0,   0,\n",
       "          0,   0,   0,   0,   0,   0,   0,   0,   0, 189, 190,   0,   0,\n",
       "          0,   0],\n",
       "       [  0,   0,   0,   0,   0,   0,   0,   0,   0,   0,   0,   0,   0,\n",
       "          0,   0,   0,   0,   0,   0,   0,   0, 143, 247, 153,   0,   0,\n",
       "          0,   0],\n",
       "       [  0,   0,   0,   0,   0,   0,   0,   0,   0,   0,   0,   0,   0,\n",
       "          0,   0,   0,   0,   0,   0,   0, 136, 247, 242,  86,   0,   0,\n",
       "          0,   0],\n",
       "       [  0,   0,   0,   0,   0,   0,   0,   0,   0,   0,   0,   0,   0,\n",
       "          0,   0,   0,   0,   0,   0,   0, 192, 252, 187,   0,   0,   0,\n",
       "          0,   0],\n",
       "       [  0,   0,   0,   0,   0,   0,   0,   0,   0,   0,   0,   0,  62,\n",
       "        185,  18,   0,   0,   0,   0,  89, 236, 217,  47,   0,   0,   0,\n",
       "          0,   0],\n",
       "       [  0,   0,   0,   0,   0,   0,   0,   0,   0,   0,   0,   0, 216,\n",
       "        253,  60,   0,   0,   0,   0, 212, 255,  81,   0,   0,   0,   0,\n",
       "          0,   0],\n",
       "       [  0,   0,   0,   0,   0,   0,   0,   0,   0,   0,   0,   0, 206,\n",
       "        252,  68,   0,   0,   0,  48, 242, 253,  89,   0,   0,   0,   0,\n",
       "          0,   0],\n",
       "       [  0,   0,   0,   0,   0,   0,   0,   0,   0,   0,   0, 131, 251,\n",
       "        212,  21,   0,   0,  11, 167, 252, 197,   5,   0,   0,   0,   0,\n",
       "          0,   0],\n",
       "       [  0,   0,   0,   0,   0,   0,   0,   0,   0,   0,  29, 232, 247,\n",
       "         63,   0,   0,   0, 153, 252, 226,   0,   0,   0,   0,   0,   0,\n",
       "          0,   0],\n",
       "       [  0,   0,   0,   0,   0,   0,   0,   0,   0,  45, 219, 252, 143,\n",
       "          0,   0,   0, 116, 249, 252, 103,   0,   0,   0,   0,   0,   0,\n",
       "          0,   0],\n",
       "       [  0,   0,   0,   0,   0,   0,   0,   4,  96, 253, 255, 253, 200,\n",
       "        122,   7,  25, 201, 250, 158,   0,   0,   0,   0,   0,   0,   0,\n",
       "          0,   0],\n",
       "       [  0,   0,   0,   0,   0,   0,   0,  92, 252, 252, 253, 217, 252,\n",
       "        252, 200, 227, 252, 231,   0,   0,   0,   0,   0,   0,   0,   0,\n",
       "          0,   0],\n",
       "       [  0,   0,   0,   0,   0,   0,  87, 251, 247, 231,  65,  48, 189,\n",
       "        252, 252, 253, 252, 251, 227,  35,   0,   0,   0,   0,   0,   0,\n",
       "          0,   0],\n",
       "       [  0,   0,   0,   0,   0,   0, 190, 221,  98,   0,   0,   0,  42,\n",
       "        196, 252, 253, 252, 252, 162,   0,   0,   0,   0,   0,   0,   0,\n",
       "          0,   0],\n",
       "       [  0,   0,   0,   0,   0,   0, 111,  29,   0,   0,   0,   0,  62,\n",
       "        239, 252,  86,  42,  42,  14,   0,   0,   0,   0,   0,   0,   0,\n",
       "          0,   0],\n",
       "       [  0,   0,   0,   0,   0,   0,   0,   0,   0,   0,   0,  15, 148,\n",
       "        253, 218,   0,   0,   0,   0,   0,   0,   0,   0,   0,   0,   0,\n",
       "          0,   0],\n",
       "       [  0,   0,   0,   0,   0,   0,   0,   0,   0,   0,   0, 121, 252,\n",
       "        231,  28,   0,   0,   0,   0,   0,   0,   0,   0,   0,   0,   0,\n",
       "          0,   0],\n",
       "       [  0,   0,   0,   0,   0,   0,   0,   0,   0,   0,  31, 221, 251,\n",
       "        129,   0,   0,   0,   0,   0,   0,   0,   0,   0,   0,   0,   0,\n",
       "          0,   0],\n",
       "       [  0,   0,   0,   0,   0,   0,   0,   0,   0,   0, 218, 252, 160,\n",
       "          0,   0,   0,   0,   0,   0,   0,   0,   0,   0,   0,   0,   0,\n",
       "          0,   0],\n",
       "       [  0,   0,   0,   0,   0,   0,   0,   0,   0,   0, 122, 252,  82,\n",
       "          0,   0,   0,   0,   0,   0,   0,   0,   0,   0,   0,   0,   0,\n",
       "          0,   0],\n",
       "       [  0,   0,   0,   0,   0,   0,   0,   0,   0,   0,   0,   0,   0,\n",
       "          0,   0,   0,   0,   0,   0,   0,   0,   0,   0,   0,   0,   0,\n",
       "          0,   0],\n",
       "       [  0,   0,   0,   0,   0,   0,   0,   0,   0,   0,   0,   0,   0,\n",
       "          0,   0,   0,   0,   0,   0,   0,   0,   0,   0,   0,   0,   0,\n",
       "          0,   0],\n",
       "       [  0,   0,   0,   0,   0,   0,   0,   0,   0,   0,   0,   0,   0,\n",
       "          0,   0,   0,   0,   0,   0,   0,   0,   0,   0,   0,   0,   0,\n",
       "          0,   0],\n",
       "       [  0,   0,   0,   0,   0,   0,   0,   0,   0,   0,   0,   0,   0,\n",
       "          0,   0,   0,   0,   0,   0,   0,   0,   0,   0,   0,   0,   0,\n",
       "          0,   0]], dtype=uint8)"
      ]
     },
     "execution_count": 129,
     "metadata": {},
     "output_type": "execute_result"
    }
   ],
   "source": [
    "X_train[9] \n",
    "# 화면 축소해서 보면 4 처럼 보임"
   ]
  },
  {
   "cell_type": "code",
   "execution_count": null,
   "metadata": {},
   "outputs": [],
   "source": [
    "# 연습문제\n",
    "# X_train2[9] 값으로 예측\n",
    "# X_train2[9] 값을 적절한 형태로 변환하여\n",
    "# predict() 함수에 넣어서 4로 예측하는지 확인\n",
    "# 다섯 번째 샘플(9)을 시각화해서 확인"
   ]
  },
  {
   "cell_type": "code",
   "execution_count": 126,
   "metadata": {},
   "outputs": [],
   "source": [
    "# 차원 변환 및 정규화 (샘플수, 피처수)\n",
    "# X_train2[9] : (784,) -> == (1,784) 샘플 1개\n",
    "test = X_train2[9].reshape(1,28*28)/255\n",
    "\n",
    "# 정규화\n",
    "# 이미지의 실제 픽셀 값 : 0~255 범위의 값\n",
    "# 정규화 해서 0~1사이의 값으로 변환해야하므로 255로 나눈다."
   ]
  },
  {
   "cell_type": "code",
   "execution_count": 127,
   "metadata": {},
   "outputs": [
    {
     "data": {
      "text/plain": [
       "(784,)"
      ]
     },
     "execution_count": 127,
     "metadata": {},
     "output_type": "execute_result"
    },
    {
     "data": {
      "text/plain": [
       "(1, 784)"
      ]
     },
     "execution_count": 127,
     "metadata": {},
     "output_type": "execute_result"
    }
   ],
   "source": [
    "X_train2[9].shape\n",
    "test.shape  \n",
    "# reshape 성공"
   ]
  },
  {
   "cell_type": "code",
   "execution_count": 122,
   "metadata": {},
   "outputs": [
    {
     "data": {
      "text/plain": [
       "array([4])"
      ]
     },
     "execution_count": 122,
     "metadata": {},
     "output_type": "execute_result"
    }
   ],
   "source": [
    "# predict\n",
    "y_pre_prob = loaded_model.predict(test, verbose=0)\n",
    "y_pred = y_pre_prob.argmax(axis=1)\n",
    "y_pred\n",
    "# 4로 예측 성공"
   ]
  },
  {
   "cell_type": "code",
   "execution_count": 128,
   "metadata": {},
   "outputs": [
    {
     "data": {
      "text/plain": [
       "<matplotlib.image.AxesImage at 0x149898fd0>"
      ]
     },
     "execution_count": 128,
     "metadata": {},
     "output_type": "execute_result"
    },
    {
     "data": {
      "image/png": "[encoded data removed]",
      "text/plain": [
       "<Figure size 640x480 with 1 Axes>"
      ]
     },
     "metadata": {},
     "output_type": "display_data"
    }
   ],
   "source": [
    "# X_train2[9] 값을 적절한 형태로 변환하여 \n",
    "# 그래프로 출력(시각화)\n",
    "\n",
    "# X_train2[9] : (784,) -> (28,28) 2차원으로 변경해야 시각화 가능\n",
    "digit = X_train2[9].reshape(28, 28)\n",
    "\n",
    "plt.imshow(digit) #cmap=plt.cm.binary, cmap='RdBu', 디폴트 : viridis\n",
    "plt.show()"
   ]
  }
 ],
 "metadata": {
  "kernelspec": {
   "display_name": "DEEP_ENV",
   "language": "python",
   "name": "deepenv"
  },
  "language_info": {
   "codemirror_mode": {
    "name": "ipython",
    "version": 3
   },
   "file_extension": ".py",
   "mimetype": "text/x-python",
   "name": "python",
   "nbconvert_exporter": "python",
   "pygments_lexer": "ipython3",
   "version": "3.10.13"
  }
 },
 "nbformat": 4,
 "nbformat_minor": 4
}
