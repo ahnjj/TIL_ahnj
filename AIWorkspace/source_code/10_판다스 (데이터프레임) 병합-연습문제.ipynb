{
 "cells": [
  {
   "cell_type": "code",
   "execution_count": 1,
   "id": "a97d1436",
   "metadata": {},
   "outputs": [],
   "source": [
    "# 한 셀에서 여러 변수 출력코드\n",
    "from IPython.core.interactiveshell import InteractiveShell\n",
    "InteractiveShell.ast_node_interactivity=\"all\""
   ]
  },
  {
   "cell_type": "code",
   "execution_count": 2,
   "id": "28b9dcba",
   "metadata": {},
   "outputs": [],
   "source": [
    "import pandas as pd\n",
    "import numpy as np"
   ]
  },
  {
   "cell_type": "markdown",
   "id": "81b3e584",
   "metadata": {},
   "source": [
    "### 연습 문제 1\n",
    "\n",
    "어느 회사의 실적을 나타내는 데이터프레임 생성\n"
   ]
  },
  {
   "cell_type": "markdown",
   "id": "1211e6dc",
   "metadata": {},
   "source": [
    "#### (1) 전반기(1월 ~ 6월) 실적을 나타내는 데이터프레임 : df_sales1\n",
    "'매출' : [1000, 1200, 1500, 1300, 1400, 1700]  \n",
    "'비용' : [500, 600, 700, 700, 700, 900]}"
   ]
  },
  {
   "cell_type": "code",
   "execution_count": 3,
   "id": "a87bd407",
   "metadata": {},
   "outputs": [
    {
     "data": {
      "text/html": [
       "<div>\n",
       "<style scoped>\n",
       "    .dataframe tbody tr th:only-of-type {\n",
       "        vertical-align: middle;\n",
       "    }\n",
       "\n",
       "    .dataframe tbody tr th {\n",
       "        vertical-align: top;\n",
       "    }\n",
       "\n",
       "    .dataframe thead th {\n",
       "        text-align: right;\n",
       "    }\n",
       "</style>\n",
       "<table border=\"1\" class=\"dataframe\">\n",
       "  <thead>\n",
       "    <tr style=\"text-align: right;\">\n",
       "      <th></th>\n",
       "      <th>매출</th>\n",
       "      <th>비용</th>\n",
       "    </tr>\n",
       "  </thead>\n",
       "  <tbody>\n",
       "    <tr>\n",
       "      <th>1월</th>\n",
       "      <td>1000</td>\n",
       "      <td>500</td>\n",
       "    </tr>\n",
       "    <tr>\n",
       "      <th>2월</th>\n",
       "      <td>1200</td>\n",
       "      <td>600</td>\n",
       "    </tr>\n",
       "    <tr>\n",
       "      <th>3월</th>\n",
       "      <td>1500</td>\n",
       "      <td>700</td>\n",
       "    </tr>\n",
       "    <tr>\n",
       "      <th>4월</th>\n",
       "      <td>1300</td>\n",
       "      <td>700</td>\n",
       "    </tr>\n",
       "    <tr>\n",
       "      <th>5월</th>\n",
       "      <td>1400</td>\n",
       "      <td>700</td>\n",
       "    </tr>\n",
       "    <tr>\n",
       "      <th>6월</th>\n",
       "      <td>1700</td>\n",
       "      <td>900</td>\n",
       "    </tr>\n",
       "  </tbody>\n",
       "</table>\n",
       "</div>"
      ],
      "text/plain": [
       "      매출   비용\n",
       "1월  1000  500\n",
       "2월  1200  600\n",
       "3월  1500  700\n",
       "4월  1300  700\n",
       "5월  1400  700\n",
       "6월  1700  900"
      ]
     },
     "execution_count": 3,
     "metadata": {},
     "output_type": "execute_result"
    }
   ],
   "source": [
    "# (1) 전반기(1월 ~ 6월) 실적을 나타내는 데이터프레임 : df_sales1\n",
    "\n",
    "df_sales1 = pd.DataFrame({\n",
    "    '매출' : [1000, 1200, 1500, 1300, 1400, 1700],\n",
    "    '비용' : [500, 600, 700, 700, 700, 900]}, \n",
    "    index = ['1월', '2월', '3월', '4월', '5월', '6월']\n",
    ")\n"
   ]
  },
  {
   "cell_type": "markdown",
   "id": "0fa7b76e",
   "metadata": {},
   "source": [
    "#### (2) 후반기(7월 ~ 12월) 실적을 나타내는 데이터프레임 : df_sales2\n",
    "\n",
    "'매출' : [2000, 2300, 2200, 2050, 3000, 3500]  \n",
    "'비용' : [1000, 1500, 1200, 1000, 1600, 2000]    "
   ]
  },
  {
   "cell_type": "code",
   "execution_count": 4,
   "id": "1da90221",
   "metadata": {
    "scrolled": true
   },
   "outputs": [
    {
     "data": {
      "text/html": [
       "<div>\n",
       "<style scoped>\n",
       "    .dataframe tbody tr th:only-of-type {\n",
       "        vertical-align: middle;\n",
       "    }\n",
       "\n",
       "    .dataframe tbody tr th {\n",
       "        vertical-align: top;\n",
       "    }\n",
       "\n",
       "    .dataframe thead th {\n",
       "        text-align: right;\n",
       "    }\n",
       "</style>\n",
       "<table border=\"1\" class=\"dataframe\">\n",
       "  <thead>\n",
       "    <tr style=\"text-align: right;\">\n",
       "      <th></th>\n",
       "      <th>매출</th>\n",
       "      <th>비용</th>\n",
       "    </tr>\n",
       "  </thead>\n",
       "  <tbody>\n",
       "    <tr>\n",
       "      <th>7월</th>\n",
       "      <td>2000</td>\n",
       "      <td>1000</td>\n",
       "    </tr>\n",
       "    <tr>\n",
       "      <th>8월</th>\n",
       "      <td>2300</td>\n",
       "      <td>1500</td>\n",
       "    </tr>\n",
       "    <tr>\n",
       "      <th>9월</th>\n",
       "      <td>2200</td>\n",
       "      <td>1200</td>\n",
       "    </tr>\n",
       "    <tr>\n",
       "      <th>10월</th>\n",
       "      <td>2050</td>\n",
       "      <td>1000</td>\n",
       "    </tr>\n",
       "    <tr>\n",
       "      <th>11월</th>\n",
       "      <td>3000</td>\n",
       "      <td>1600</td>\n",
       "    </tr>\n",
       "    <tr>\n",
       "      <th>12월</th>\n",
       "      <td>3500</td>\n",
       "      <td>2000</td>\n",
       "    </tr>\n",
       "  </tbody>\n",
       "</table>\n",
       "</div>"
      ],
      "text/plain": [
       "       매출    비용\n",
       "7월   2000  1000\n",
       "8월   2300  1500\n",
       "9월   2200  1200\n",
       "10월  2050  1000\n",
       "11월  3000  1600\n",
       "12월  3500  2000"
      ]
     },
     "execution_count": 4,
     "metadata": {},
     "output_type": "execute_result"
    }
   ],
   "source": [
    "# (2) 후반기(7월 ~ 12월) 실적을 나타내는 데이터프레임\n",
    "df_sales2 = pd.DataFrame({\n",
    "    '매출' : [2000, 2300, 2200, 2050, 3000, 3500],\n",
    "    '비용' : [1000, 1500, 1200, 1000, 1600, 2000]}, \n",
    "    index = ['7월', '8월', '9월', '10월', '11월', '12월']\n",
    ")\n"
   ]
  },
  {
   "cell_type": "markdown",
   "id": "3b8ee998",
   "metadata": {},
   "source": [
    "#### (3) df_sales1과 df_sales2 합쳐서 df_sales3 생성"
   ]
  },
  {
   "cell_type": "markdown",
   "id": "bd444051",
   "metadata": {},
   "source": [
    "#### (4) df_sales3에 실적 정보를 나타내는 \"이익\" 열 추가 (이익 = 매출 - 비용)"
   ]
  },
  {
   "cell_type": "markdown",
   "id": "73ee6998",
   "metadata": {},
   "source": [
    "#### (5) 1년간의 '총 실적'을 마지막 행으로 추가"
   ]
  },
  {
   "cell_type": "markdown",
   "id": "26cc82c4",
   "metadata": {},
   "source": [
    "#### (6) 행/열 변경\n",
    "- 매출, 비용, 이익을 행 인덱스로\n",
    "- 1월 ~ 12월, 총실적을 열 인덱스로 변경"
   ]
  },
  {
   "cell_type": "markdown",
   "id": "38a3fc35",
   "metadata": {},
   "source": [
    "### 연습 문제 2\n",
    "- 다음 2개의 데이터프레임을 사용하여 그림과 같이 고객별 주문액 정보 출력"
   ]
  },
  {
   "cell_type": "code",
   "execution_count": 21,
   "id": "0686c1c5",
   "metadata": {},
   "outputs": [
    {
     "data": {
      "text/html": [
       "<div>\n",
       "<style scoped>\n",
       "    .dataframe tbody tr th:only-of-type {\n",
       "        vertical-align: middle;\n",
       "    }\n",
       "\n",
       "    .dataframe tbody tr th {\n",
       "        vertical-align: top;\n",
       "    }\n",
       "\n",
       "    .dataframe thead th {\n",
       "        text-align: right;\n",
       "    }\n",
       "</style>\n",
       "<table border=\"1\" class=\"dataframe\">\n",
       "  <thead>\n",
       "    <tr style=\"text-align: right;\">\n",
       "      <th></th>\n",
       "      <th>고객명</th>\n",
       "      <th>생년월일</th>\n",
       "      <th>성별</th>\n",
       "    </tr>\n",
       "  </thead>\n",
       "  <tbody>\n",
       "    <tr>\n",
       "      <th>0</th>\n",
       "      <td>홍길동</td>\n",
       "      <td>1980-01-02</td>\n",
       "      <td>남자</td>\n",
       "    </tr>\n",
       "    <tr>\n",
       "      <th>1</th>\n",
       "      <td>성춘향</td>\n",
       "      <td>1990-02-22</td>\n",
       "      <td>여자</td>\n",
       "    </tr>\n",
       "    <tr>\n",
       "      <th>2</th>\n",
       "      <td>강길동</td>\n",
       "      <td>1995-06-15</td>\n",
       "      <td>남자</td>\n",
       "    </tr>\n",
       "    <tr>\n",
       "      <th>3</th>\n",
       "      <td>이몽룡</td>\n",
       "      <td>1988-08-18</td>\n",
       "      <td>남자</td>\n",
       "    </tr>\n",
       "    <tr>\n",
       "      <th>4</th>\n",
       "      <td>변학도</td>\n",
       "      <td>2000-03-23</td>\n",
       "      <td>남자</td>\n",
       "    </tr>\n",
       "  </tbody>\n",
       "</table>\n",
       "</div>"
      ],
      "text/plain": [
       "   고객명        생년월일  성별\n",
       "0  홍길동  1980-01-02  남자\n",
       "1  성춘향  1990-02-22  여자\n",
       "2  강길동  1995-06-15  남자\n",
       "3  이몽룡  1988-08-18  남자\n",
       "4  변학도  2000-03-23  남자"
      ]
     },
     "execution_count": 21,
     "metadata": {},
     "output_type": "execute_result"
    },
    {
     "data": {
      "text/html": [
       "<div>\n",
       "<style scoped>\n",
       "    .dataframe tbody tr th:only-of-type {\n",
       "        vertical-align: middle;\n",
       "    }\n",
       "\n",
       "    .dataframe tbody tr th {\n",
       "        vertical-align: top;\n",
       "    }\n",
       "\n",
       "    .dataframe thead th {\n",
       "        text-align: right;\n",
       "    }\n",
       "</style>\n",
       "<table border=\"1\" class=\"dataframe\">\n",
       "  <thead>\n",
       "    <tr style=\"text-align: right;\">\n",
       "      <th></th>\n",
       "      <th>고객명</th>\n",
       "      <th>주문액</th>\n",
       "    </tr>\n",
       "  </thead>\n",
       "  <tbody>\n",
       "    <tr>\n",
       "      <th>0</th>\n",
       "      <td>성춘향</td>\n",
       "      <td>300000</td>\n",
       "    </tr>\n",
       "    <tr>\n",
       "      <th>1</th>\n",
       "      <td>이몽룡</td>\n",
       "      <td>250000</td>\n",
       "    </tr>\n",
       "    <tr>\n",
       "      <th>2</th>\n",
       "      <td>변학도</td>\n",
       "      <td>15000</td>\n",
       "    </tr>\n",
       "    <tr>\n",
       "      <th>3</th>\n",
       "      <td>홍길동</td>\n",
       "      <td>3000000</td>\n",
       "    </tr>\n",
       "  </tbody>\n",
       "</table>\n",
       "</div>"
      ],
      "text/plain": [
       "   고객명      주문액\n",
       "0  성춘향   300000\n",
       "1  이몽룡   250000\n",
       "2  변학도    15000\n",
       "3  홍길동  3000000"
      ]
     },
     "execution_count": 21,
     "metadata": {},
     "output_type": "execute_result"
    }
   ],
   "source": [
    "df1 = pd.DataFrame({\n",
    "    '고객명': ['홍길동', '성춘향', '강길동', '이몽룡', '변학도'],\n",
    "    '생년월일': ['1980-01-02', '1990-02-22', '1995-06-15', '1988-08-18', '2000-03-23'],\n",
    "    '성별': ['남자', '여자', '남자', '남자', '남자']})\n",
    "\n",
    "\n",
    "df2 = pd.DataFrame({\n",
    "    '고객명': ['성춘향', '이몽룡', '변학도', '홍길동'],\n",
    "    '주문액': [300000, 250000,15000, 3000000 ]})\n"
   ]
  },
  {
   "attachments": {
    "image-2.png": {
     "image/png": "[encoded data removed]"
    }
   },
   "cell_type": "markdown",
   "id": "e2495668",
   "metadata": {},
   "source": [
    "![image-2.png](attachment:image-2.png)"
   ]
  },
  {
   "cell_type": "markdown",
   "id": "4d20c3f2",
   "metadata": {},
   "source": [
    "### 연습 문제 3\n",
    "- CSV 파일로부터 도서 정보, 고객 정보, 판매 정보 데이터를 읽어서\n",
    "- 판매된 도서 정보, 구매한 고객 정보, 도서 판매 요약 정보 출력"
   ]
  },
  {
   "cell_type": "markdown",
   "id": "f120307d",
   "metadata": {},
   "source": [
    "#### (1) book.csv 파일을 읽어서 book 데이터프레임 생성"
   ]
  },
  {
   "cell_type": "markdown",
   "id": "f8d7e201",
   "metadata": {},
   "source": [
    "#### (2) client.csv 파일을 읽어서 client 데이터프레임 생성"
   ]
  },
  {
   "cell_type": "markdown",
   "id": "2f9503c0",
   "metadata": {},
   "source": [
    "#### (3) bookSale.csv 파일을 읽어서 bookSale 데이터프레임 생성"
   ]
  },
  {
   "cell_type": "markdown",
   "id": "ae181a32",
   "metadata": {},
   "source": [
    "#### (4) 판매된 도서 정보를 확인하고자 한다. \n",
    "- 그림과 같이 도서 판매 내역에 도서명과 도서가격을 같이 출력"
   ]
  },
  {
   "attachments": {
    "image.png": {
     "image/png": "[encoded data removed]"
    }
   },
   "cell_type": "markdown",
   "id": "ec2ff7ee",
   "metadata": {},
   "source": [
    "![image.png](attachment:image.png)"
   ]
  },
  {
   "cell_type": "markdown",
   "id": "8ce6f714",
   "metadata": {},
   "source": [
    "#### (5) 도서를 구매한 고객 정보를 확인하고자 한다\n",
    "- 그림과 같이 도서 판매 내역에 고객명과 성별, 주소를 같이 출력"
   ]
  },
  {
   "attachments": {
    "image-3.png": {
     "image/png": "[encoded data removed]"
    }
   },
   "cell_type": "markdown",
   "id": "29d29adb",
   "metadata": {},
   "source": [
    "![image-3.png](attachment:image-3.png)"
   ]
  },
  {
   "cell_type": "markdown",
   "id": "c753222c",
   "metadata": {},
   "source": [
    "#### (6) 도서 판매 요약 정보를 출력하고자 한다\n",
    "- 그림과 같이 도서 도서판매일, 고객명, 도서명, 주문수량만 추출해서 출력한다"
   ]
  },
  {
   "attachments": {
    "image-2.png": {
     "image/png": "[encoded data removed]"
    }
   },
   "cell_type": "markdown",
   "id": "34623221",
   "metadata": {},
   "source": [
    "![image-2.png](attachment:image-2.png)"
   ]
  },
  {
   "cell_type": "code",
   "execution_count": null,
   "id": "250b402a",
   "metadata": {},
   "outputs": [],
   "source": []
  }
 ],
 "metadata": {
  "kernelspec": {
   "display_name": "Python 3 (ipykernel)",
   "language": "python",
   "name": "python3"
  },
  "language_info": {
   "codemirror_mode": {
    "name": "ipython",
    "version": 3
   },
   "file_extension": ".py",
   "mimetype": "text/x-python",
   "name": "python",
   "nbconvert_exporter": "python",
   "pygments_lexer": "ipython3",
   "version": "3.11.5"
  }
 },
 "nbformat": 4,
 "nbformat_minor": 5
}
